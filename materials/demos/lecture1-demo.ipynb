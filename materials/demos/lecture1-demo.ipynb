{
 "cells": [
  {
   "cell_type": "markdown",
   "id": "ba0fbdd8-cdbe-4903-b2ab-9da3e6fc9aa3",
   "metadata": {
    "editable": true,
    "slideshow": {
     "slide_type": ""
    },
    "tags": []
   },
   "source": [
    "# Lecture 1: Code demo"
   ]
  },
  {
   "cell_type": "code",
   "execution_count": null,
   "id": "32a43678-52dd-4363-b8c7-3c5a2be54362",
   "metadata": {
    "editable": true,
    "slideshow": {
     "slide_type": ""
    },
    "tags": []
   },
   "outputs": [],
   "source": [
    "suppressPackageStartupMessages(library(tidyverse))\n",
    "library(palmerpenguins)\n",
    "library(infer)\n",
    "library(modelr)"
   ]
  },
  {
   "cell_type": "markdown",
   "id": "155a1313-db56-4b4c-8e60-d1549f27186b",
   "metadata": {},
   "source": [
    "## Part I"
   ]
  },
  {
   "cell_type": "markdown",
   "id": "ac9eb52f-b9ac-42c2-87b4-8e605e9e487e",
   "metadata": {},
   "source": [
    "### 0. Remove the NAs"
   ]
  },
  {
   "cell_type": "code",
   "execution_count": null,
   "id": "e98d0089-2d91-4aa0-ae76-2d0293ef21af",
   "metadata": {
    "editable": true,
    "slideshow": {
     "slide_type": ""
    },
    "tags": []
   },
   "outputs": [],
   "source": [
    "penguins_clean <-\n",
    "    penguins %>%\n",
    "    ... #what function to use to clean NA?\n",
    "\n",
    "cat(\"We lost\", nrow(penguins) - nrow(penguins_clean), \"rows by removing the NAs\")"
   ]
  },
  {
   "cell_type": "markdown",
   "id": "024e7126-7dc1-4ee6-bfdb-50aed39e5c79",
   "metadata": {},
   "source": [
    "### 1. Start with scatterplot"
   ]
  },
  {
   "cell_type": "code",
   "execution_count": null,
   "id": "1b3fcbf1-f509-42d9-9c4a-3e1503acd978",
   "metadata": {
    "editable": true,
    "slideshow": {
     "slide_type": ""
    },
    "tags": []
   },
   "outputs": [],
   "source": [
    "# Adjust these numbers so the plot looks good on your desktop.\n",
    "options(repr.plot.width = 7, repr.plot.height = 5) \n",
    "\n",
    "penguins_clean %>% \n",
    "  ggplot(aes(flipper_length_mm, body_mass_g)) + \n",
    "  geom_point(size = 2) + \n",
    "  ggtitle(\"Palmer Penguins (NAs removed)\") +  #make sure to have meaningful titles and axis labels\n",
    "  xlab(\"Flipper Length (mm)\") + \n",
    "  ylab(\"Body mass (g)\") + \n",
    "  theme(text = element_text(size = 15))"
   ]
  },
  {
   "cell_type": "markdown",
   "id": "43364900-bd8c-4dd6-a53e-5fe351381e22",
   "metadata": {},
   "source": [
    "### 2. Fit the `lm`"
   ]
  },
  {
   "cell_type": "code",
   "execution_count": null,
   "id": "9025d3fc-50b1-4af2-9094-cf944fecba78",
   "metadata": {},
   "outputs": [],
   "source": [
    "(penguins_lm <- ...)"
   ]
  },
  {
   "cell_type": "markdown",
   "id": "eca20233-198f-4ed0-bb12-18affacc4022",
   "metadata": {},
   "source": [
    "#### 2.1 Extract coefficients"
   ]
  },
  {
   "cell_type": "code",
   "execution_count": null,
   "id": "6f41c2ba-d4b1-4665-b92b-9584da3dc710",
   "metadata": {},
   "outputs": [],
   "source": [
    "# one way to extract ceofs from lm\n",
    "\n",
    "..."
   ]
  },
  {
   "cell_type": "code",
   "execution_count": null,
   "id": "139c2534-c8ce-495b-8d4d-e5342f60a9cc",
   "metadata": {},
   "outputs": [],
   "source": [
    "\n",
    "# another way to extract coefs from lm\n",
    "\n",
    "..."
   ]
  },
  {
   "cell_type": "markdown",
   "id": "69aaea5e-79e2-42eb-a336-d78be3de1c86",
   "metadata": {},
   "source": [
    "#### 2.2 Make predictions"
   ]
  },
  {
   "cell_type": "code",
   "execution_count": null,
   "id": "3d49ac23-097e-413d-ad78-9b393ffc7b98",
   "metadata": {
    "scrolled": true
   },
   "outputs": [],
   "source": [
    "#using a useful function from the modelr library\n",
    "(penguins_clean <-\n",
    "    penguins_clean %>%\n",
    "    ...)"
   ]
  },
  {
   "cell_type": "markdown",
   "id": "0fda235f-abe1-48c2-97f2-155dd494688a",
   "metadata": {},
   "source": [
    "#### 2.3 `lm` with no intercept"
   ]
  },
  {
   "cell_type": "markdown",
   "id": "08d4f6ed-1f05-4383-b619-1416790737ce",
   "metadata": {},
   "source": [
    "If you add a 0 to your formula, you remove the intercept of the model.\n",
    "\n",
    "We **do not** want to fit a model without an intercept, but this trick can be useful to us later (more on this next lecture). "
   ]
  },
  {
   "cell_type": "code",
   "execution_count": null,
   "id": "5639c62f-24d6-45a7-8bdd-de8c8a52d465",
   "metadata": {},
   "outputs": [],
   "source": [
    "lm(body_mass_g ~ 0 + flipper_length_mm, data = penguins_clean)"
   ]
  },
  {
   "cell_type": "markdown",
   "id": "9360f5e5-e375-4e8c-8554-74044e50c49f",
   "metadata": {},
   "source": [
    "### 3. Write the equation"
   ]
  },
  {
   "cell_type": "markdown",
   "id": "9c4c3ac8-deef-47d4-b66f-6091ec148e0b",
   "metadata": {},
   "source": [
    "Equation for prediction?\n",
    "\n",
    "\n",
    "Equation for the estimated conditional mean of response variable?\n",
    "\n",
    "\n"
   ]
  },
  {
   "cell_type": "code",
   "execution_count": null,
   "id": "88ec031f-794d-4539-8631-e3515c2d230d",
   "metadata": {},
   "outputs": [],
   "source": []
  },
  {
   "cell_type": "code",
   "execution_count": null,
   "id": "8cac3d46-2f83-4d6d-adce-7aa57d4ff872",
   "metadata": {},
   "outputs": [],
   "source": []
  },
  {
   "cell_type": "markdown",
   "id": "d78b3085-e15b-45c9-b1fa-a18377b8554e",
   "metadata": {},
   "source": [
    "#### 3.1 Interpret the parameter\n",
    "\n",
    "- **Slope:** ...\n",
    "- **Intercept:** ..."
   ]
  },
  {
   "cell_type": "markdown",
   "id": "043c6678-82a0-4fdc-9178-12b43889619b",
   "metadata": {},
   "source": [
    "### 4. Show plot"
   ]
  },
  {
   "cell_type": "markdown",
   "id": "3b050fad-dd9f-4d21-8f87-aaa83c4ced14",
   "metadata": {},
   "source": [
    "#### 4.1 `geom_smooth`"
   ]
  },
  {
   "cell_type": "code",
   "execution_count": null,
   "id": "915784b2-9f41-435f-9c52-a64a00c3d5c2",
   "metadata": {},
   "outputs": [],
   "source": [
    "# Adjust these numbers so the plot looks good on your desktop.\n",
    "options(repr.plot.width = 7, repr.plot.height = 5) \n",
    "\n",
    "penguins_clean %>% \n",
    "  ggplot(aes(flipper_length_mm, body_mass_g)) + \n",
    "  geom_point(size = 2) + \n",
    "  ... + #adding the prediction line / line for conditional expectation\n",
    "  ggtitle(\"Palmer Penguins (NAs removed)\") + \n",
    "  xlab(\"Flipper Length (mm)\") + \n",
    "  ylab(\"Body mass (g)\") + \n",
    "  theme(text = element_text(size = 25))"
   ]
  },
  {
   "cell_type": "markdown",
   "id": "82f93d0e-aa88-4874-89e6-1c4da145ad56",
   "metadata": {},
   "source": [
    "#### 4.2 Using the predictions"
   ]
  },
  {
   "cell_type": "code",
   "execution_count": null,
   "id": "2cd07cc9-ec1f-40a3-9654-ff8712e167c3",
   "metadata": {},
   "outputs": [],
   "source": [
    "# Adjust these numbers so the plot looks good on your desktop.\n",
    "options(repr.plot.width = 7, repr.plot.height = 5) \n",
    "\n",
    "penguins_clean %>% \n",
    "  ggplot(aes(flipper_length_mm, body_mass_g)) + \n",
    "  geom_point(size = 2) + \n",
    "  ... + #another way to add the predicted values across a range of input values\n",
    "  ggtitle(\"Palmer Penguins (NAs removed)\") + \n",
    "  xlab(\"Flipper Length (mm)\") + \n",
    "  ylab(\"Body mass (g)\") + \n",
    "  theme(text = element_text(size = 25))"
   ]
  },
  {
   "cell_type": "markdown",
   "id": "75b32b08-1740-4a91-af3a-6d830b1250c5",
   "metadata": {},
   "source": [
    "## Part II - Confidence Interval"
   ]
  },
  {
   "cell_type": "markdown",
   "id": "cc6cf054-f999-48e3-99e4-178b939cc311",
   "metadata": {},
   "source": [
    "### 5. Mathematical Approach"
   ]
  },
  {
   "cell_type": "markdown",
   "id": "2d639075-fdbe-480c-8e8a-58667abc6f7c",
   "metadata": {},
   "source": [
    "#### 5.1 Manual Calculation (not examinable)"
   ]
  },
  {
   "cell_type": "markdown",
   "id": "248b9ed7-74ba-4506-ba11-c954f3f7d954",
   "metadata": {},
   "source": [
    "Let's first calculate it by hand. Of course you won't need to to this, but it might help you understand what R is doing."
   ]
  },
  {
   "cell_type": "code",
   "execution_count": null,
   "id": "668711e1-0604-4bfa-9686-b107419a3922",
   "metadata": {},
   "outputs": [],
   "source": [
    "# Number of data points\n",
    "n <- nrow(penguins_clean)\n",
    "\n",
    "# Estimate σ  \n",
    "s <- sqrt(sum(penguins_lm$residuals**2)/ (n - 2)) \n",
    "s"
   ]
  },
  {
   "cell_type": "markdown",
   "id": "fb8ce69b-c83d-4db4-a641-dbfd0e6b6180",
   "metadata": {},
   "source": [
    "##### The case of $\\beta_0$"
   ]
  },
  {
   "cell_type": "code",
   "execution_count": null,
   "id": "9980f252-07a8-4d2c-92b0-2afdf3f50801",
   "metadata": {},
   "outputs": [],
   "source": [
    "# Std. Error of beta0 estimator.\n",
    "s_beta0_hat <- sqrt(s**2 * (1/n + mean(penguins_clean$flipper_length_mm)**2 / sum( (penguins_clean$flipper_length_mm - mean(penguins_clean$flipper_length_mm))** 2)))\n",
    "\n",
    "# Confidence Interval for Beta0\n",
    "tibble(\n",
    "    ci_lower = coef(penguins_lm)[1] - qt(0.975, nrow(penguins_clean)-2) * s_beta0_hat,\n",
    "    ci_upper = coef(penguins_lm)[1] + qt(0.975, nrow(penguins_clean)-2) * s_beta0_hat\n",
    ")"
   ]
  },
  {
   "cell_type": "markdown",
   "id": "c8029438-da48-48f7-9cc8-556b79fd2dce",
   "metadata": {},
   "source": [
    "##### The case of $\\beta_1$"
   ]
  },
  {
   "cell_type": "code",
   "execution_count": null,
   "id": "bfdefd14-ea68-4339-b6c6-8a5666cfcb68",
   "metadata": {},
   "outputs": [],
   "source": [
    "# Std. Error of beta1 estimator.\n",
    "s_beta1_hat <- sqrt( s**2 / sum( (penguins_clean$flipper_length_mm - mean(penguins_clean$flipper_length_mm))** 2))\n",
    "\n",
    "# Confidence Interval for Beta1\n",
    "tibble(\n",
    "    ci_lower = coef(penguins_lm)[2] - qt(0.975, nrow(penguins_clean)-2) * s_beta1_hat,\n",
    "    ci_upper = coef(penguins_lm)[2] + qt(0.975, nrow(penguins_clean)-2) * s_beta1_hat\n",
    ")"
   ]
  },
  {
   "cell_type": "markdown",
   "id": "a380185e-300d-4878-b097-8c03c3a4e02b",
   "metadata": {},
   "source": [
    "#### 5.2 R does it for us! (examinable)"
   ]
  },
  {
   "cell_type": "markdown",
   "id": "24fa5a63-90d1-4d34-83cb-0cdd2d69cb51",
   "metadata": {},
   "source": [
    "You can use the `confint` function."
   ]
  },
  {
   "cell_type": "code",
   "execution_count": null,
   "id": "6ac1dab5-94b7-42bc-ae5b-72868b4778ad",
   "metadata": {},
   "outputs": [],
   "source": [
    "..."
   ]
  },
  {
   "cell_type": "markdown",
   "id": "2ae94ea2-76a8-40af-97da-b7e93e6b6c28",
   "metadata": {},
   "source": [
    "Or the `broom::tidy` function, which extracts everything for us! "
   ]
  },
  {
   "cell_type": "code",
   "execution_count": null,
   "id": "b8a9ef64-cb8e-43e6-ac9f-7992c2df0e32",
   "metadata": {
    "scrolled": true
   },
   "outputs": [],
   "source": [
    "..."
   ]
  },
  {
   "cell_type": "markdown",
   "id": "ae6f9e73-fcc9-4171-826f-7ddcdd707b1b",
   "metadata": {},
   "source": [
    "### 6 Bootstrap approach"
   ]
  },
  {
   "cell_type": "code",
   "execution_count": null,
   "id": "fddea827-9c64-449a-bb40-54d0122c7b04",
   "metadata": {},
   "outputs": [],
   "source": [
    "# Infer package framework https://infer.netlify.app\n",
    "\n",
    "(ci_slope <-\n",
    "  penguins_clean %>% \n",
    "  ... %>% #first specify the model fitted\n",
    "  generate(reps = 15000, type = \"bootstrap\") %>% #then generate the bootstrap samples\n",
    "  ... %>% #then get the bootstrap estimates of slope parameter\n",
    "  ... #then get percentile based bootstrap ci"
   ]
  },
  {
   "cell_type": "markdown",
   "id": "f47bce6b-1dcc-4750-ad8c-92805c7fb517",
   "metadata": {},
   "source": [
    "## Part III - Hypothesis Test"
   ]
  },
  {
   "cell_type": "markdown",
   "id": "ca96a0b8-0226-49d3-911a-cb0782bfe77b",
   "metadata": {},
   "source": [
    "### 7.1 Math-based approach"
   ]
  },
  {
   "cell_type": "markdown",
   "id": "d2bb5ab6-d37d-451b-a589-ef37ca481801",
   "metadata": {},
   "source": [
    "We can get the hypothesis test directly from R using the `summary` function"
   ]
  },
  {
   "cell_type": "code",
   "execution_count": null,
   "id": "46188386-f1e1-4fd9-93a8-fb5157b68bb0",
   "metadata": {},
   "outputs": [],
   "source": [
    "summary(penguins_lm) #messy output"
   ]
  },
  {
   "cell_type": "markdown",
   "id": "1e890bfb-468a-4bfa-9e6a-70665882709a",
   "metadata": {},
   "source": [
    "or the `broom::tidy` function:"
   ]
  },
  {
   "cell_type": "code",
   "execution_count": null,
   "id": "21e0340a-c77d-4dff-a5c1-16958baf05c5",
   "metadata": {},
   "outputs": [],
   "source": [
    "... #clean-looking output"
   ]
  },
  {
   "cell_type": "markdown",
   "id": "6b0e425c-5650-4606-be57-418de8eaf67d",
   "metadata": {},
   "source": [
    "### 7.2 Bootstrap "
   ]
  },
  {
   "cell_type": "code",
   "execution_count": null,
   "id": "497ab6ef-44ae-488a-9aa5-3a9837deeb6a",
   "metadata": {},
   "outputs": [],
   "source": [
    "# Infer package framework\n",
    "beta1_hat <- coef(penguins_lm)[2]\n",
    "\n",
    "... |> #obtain bootstrap estimates of slope first\n",
    "    ... #then get p-value"
   ]
  },
  {
   "cell_type": "markdown",
   "id": "63ae535b-741a-466b-a18a-2f101affe021",
   "metadata": {},
   "source": [
    "## Part IV - Range Problem"
   ]
  },
  {
   "cell_type": "code",
   "execution_count": null,
   "id": "9d6915c9-6a6a-42cd-8a30-9e1d6a221677",
   "metadata": {},
   "outputs": [],
   "source": [
    "# Let's read the data\n",
    "milk_fat <- read_csv(\"data/milk_fat_train.csv\")"
   ]
  },
  {
   "cell_type": "code",
   "execution_count": null,
   "id": "b5594b40-86b8-400c-ac22-b7bd1f0210dc",
   "metadata": {},
   "outputs": [],
   "source": [
    "# Let's take a look\n",
    "milk_fat %>% \n",
    "    ggplot() + \n",
    "    geom_point(aes(week, fat), size=4) + \n",
    "    xlab(\"Week\") + \n",
    "    ylab(\"Fat (%)\") +\n",
    "    theme(text = element_text(size=25))\n"
   ]
  },
  {
   "cell_type": "markdown",
   "id": "cc1c9992-6681-40ef-9fec-04b1eb96d1f1",
   "metadata": {},
   "source": [
    "The relationship seems fairly linear here. Let's try fitting a linear model. \n"
   ]
  },
  {
   "cell_type": "code",
   "execution_count": null,
   "id": "49ecea69-f3b2-4c35-aa69-5e2496a8e469",
   "metadata": {},
   "outputs": [],
   "source": [
    "(milk_fat_lm <- lm(fat ~ week, data = milk_fat))"
   ]
  },
  {
   "cell_type": "code",
   "execution_count": null,
   "id": "d91f5ca7-f4b4-49a3-b851-92269ae56584",
   "metadata": {},
   "outputs": [],
   "source": [
    "# Let's take a look\n",
    "milk_fat %>% \n",
    "    ggplot(aes(week, fat)) + \n",
    "    geom_point(size = 4) + \n",
    "    xlab(\"Week\") + \n",
    "    ylab(\"Fat (%)\") +\n",
    "    theme(text = element_text(size=25)) + \n",
    "    geom_smooth(method = lm, se = FALSE)"
   ]
  },
  {
   "cell_type": "markdown",
   "id": "b025f2fc-cc53-4bc1-8b0a-aeef4bd74e41",
   "metadata": {},
   "source": [
    "What would happen if we predict for week 40? What would our model predict? A negative fat content!\n",
    "<font color='red'>This is clearly impossible!! </font> Don't do it! \n",
    "\n",
    "However, what about if you wanted to predict for weeks 7, 8, 9 and 10? \n",
    "The prediction of the model wouldn't be absurd, so maybe we can do it. Let's try. "
   ]
  },
  {
   "cell_type": "code",
   "execution_count": null,
   "id": "3722b3dc-f6f5-4d38-8d96-df402b705fe6",
   "metadata": {},
   "outputs": [],
   "source": [
    "(milk_fat_extra_weeks <- \n",
    "    milk_fat %>% \n",
    "    rows_append(tibble(week = c(4, 5, 6, 7, 8, 9, 10), fat = NA)) %>% \n",
    "    add_predictions(model = milk_fat_lm, var = 'pred'))\n"
   ]
  },
  {
   "cell_type": "code",
   "execution_count": null,
   "id": "78042b6b-2b8d-4b49-bcc7-e972d634f761",
   "metadata": {},
   "outputs": [],
   "source": [
    "# Let's take a look\n",
    "(plot_pred <- \n",
    "    milk_fat_extra_weeks %>% \n",
    "    ggplot() + \n",
    "    geom_point(aes(week, fat), size = 4) + \n",
    "    xlab(\"Week\") + \n",
    "    ylab(\"Fat (%)\") +\n",
    "    theme(text = element_text(size=25)) + \n",
    "    geom_line(aes(week, pred)))"
   ]
  },
  {
   "cell_type": "markdown",
   "id": "dfc102f0-5617-46f1-9858-d9510dc2d4f2",
   "metadata": {},
   "source": [
    "Ok, seems reasonable, doesn't it? \n",
    "\n",
    "Let's get the data"
   ]
  },
  {
   "cell_type": "code",
   "execution_count": null,
   "id": "9d0a180a-46be-4d5f-a7e1-c8040ac6abfc",
   "metadata": {},
   "outputs": [],
   "source": [
    "milk_fat_true <- read_csv(\"data/milk_fat _true.csv\")\n",
    "\n",
    "plot_pred + \n",
    "    geom_point(aes(week, fat), size = 4, color = 'red', data = milk_fat_true)"
   ]
  },
  {
   "cell_type": "markdown",
   "id": "b82669d6-2ec8-4a97-8c02-fffee0748bec",
   "metadata": {},
   "source": [
    "Even if you have a very good model in a given range of your data, there is no guarantee that the shape of the association will be the same outside the range of the data. \n",
    "\n",
    "<font color='red'><u>**Careful when predicting outside the range of your data**.</u></font> (meaning don't do it if possible!)\n",
    "\n",
    "This is not a rare example just to illustrate this problem, this is a common issue. "
   ]
  },
  {
   "cell_type": "markdown",
   "id": "256433e5-78ed-40bc-a58d-c1047b3220e4",
   "metadata": {},
   "source": [
    "\n",
    "Note that this data has a temporal component, so the observations here are NOT independent. \n",
    "It is intuitive, think about it. The (%) of fat in the milk this week, most likely is associated with the % fat in the week(s) prior. \n",
    "\n",
    "<font color='red'><u>**Careful with temporal data**.</u></font> They are usually violate the independence assumption\n"
   ]
  },
  {
   "cell_type": "markdown",
   "id": "fef60310-f837-4d4f-a254-bcaa9aeec1b2",
   "metadata": {},
   "source": [
    "## Part V (Optional) - The misleading word `Linear` "
   ]
  },
  {
   "cell_type": "code",
   "execution_count": null,
   "id": "68da2da2-27b6-4b85-93ae-047c4177f188",
   "metadata": {},
   "outputs": [],
   "source": [
    "crazy_lm <- lm(body_mass_g ~ flipper_length_mm + I(flipper_length_mm^2), data = penguins_clean)"
   ]
  },
  {
   "cell_type": "code",
   "execution_count": null,
   "id": "7f0d7726-10b2-4ad0-97ff-49f5c272da40",
   "metadata": {},
   "outputs": [],
   "source": [
    "crazy_lm"
   ]
  },
  {
   "cell_type": "code",
   "execution_count": null,
   "id": "7a364379-6706-4acd-919d-ff7584d2a42f",
   "metadata": {},
   "outputs": [],
   "source": [
    "penguins_clean <-\n",
    "    penguins_clean %>%\n",
    "    add_predictions(crazy_lm, var = 'crazy_pred')"
   ]
  },
  {
   "cell_type": "code",
   "execution_count": null,
   "id": "b41b28a4-aa78-4755-8794-8c2b9907abb4",
   "metadata": {},
   "outputs": [],
   "source": [
    "# Adjust these numbers so the plot looks good on your desktop.\n",
    "options(repr.plot.width = 20, repr.plot.height = 10) \n",
    "\n",
    "penguins_clean %>% \n",
    "  ggplot(aes(flipper_length_mm, body_mass_g)) + \n",
    "  geom_point(size = 3) + \n",
    "  geom_line(aes(y = slr_pred), color = 'blue', lwd = 1) + \n",
    "  geom_line(aes(y = crazy_pred), color = 'red', lwd = 1) + \n",
    "  ggtitle(\"Palmer Penguins (NAs removed)\") + \n",
    "  xlab(\"Flipper Length (mm)\") + \n",
    "  ylab(\"Body mass (g)\") + \n",
    "  theme(text = element_text(size = 25))"
   ]
  },
  {
   "cell_type": "code",
   "execution_count": null,
   "id": "0a191357-0727-4246-a776-ac1db5d4e275",
   "metadata": {},
   "outputs": [],
   "source": [
    "summary(penguins_lm)"
   ]
  },
  {
   "cell_type": "code",
   "execution_count": null,
   "id": "5f3c9b85-595c-4288-a4b5-7eb98ccd8437",
   "metadata": {},
   "outputs": [],
   "source": [
    "ybar <- mean(penguins_clean$body_mass_g)\n",
    "(SSE = sum(penguins_lm$residuals^2))\n",
    "(SSR = sum((penguins_lm$fitted.values - ybar)**2))\n",
    "(SST = var(penguins_clean$body_mass_g)*(length(penguins_clean$body_mass_g) - 1))"
   ]
  },
  {
   "cell_type": "code",
   "execution_count": null,
   "id": "77fafe03-7190-462b-bd66-e8f976555170",
   "metadata": {},
   "outputs": [],
   "source": [
    "SSR/SST"
   ]
  }
 ],
 "metadata": {
  "kernelspec": {
   "display_name": "R",
   "language": "R",
   "name": "ir"
  },
  "language_info": {
   "codemirror_mode": "r",
   "file_extension": ".r",
   "mimetype": "text/x-r-source",
   "name": "R",
   "pygments_lexer": "r",
   "version": "4.3.3"
  }
 },
 "nbformat": 4,
 "nbformat_minor": 5
}
