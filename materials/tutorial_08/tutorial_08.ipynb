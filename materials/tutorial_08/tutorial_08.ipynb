{
 "cells": [
  {
   "cell_type": "markdown",
   "metadata": {
    "deletable": false,
    "editable": false,
    "nbgrader": {
     "cell_type": "markdown",
     "checksum": "3c3b47299eeb1684680cf4116d8817d3",
     "grade": false,
     "grade_id": "cell-f1e1d845873036f4",
     "locked": true,
     "schema_version": 3,
     "solution": false,
     "task": false
    }
   },
   "source": [
    "# Tutorial 8: Prediction and Model Selection"
   ]
  },
  {
   "cell_type": "markdown",
   "metadata": {
    "deletable": false,
    "editable": false,
    "nbgrader": {
     "cell_type": "markdown",
     "checksum": "b75f7897e60da07def4120a33c44b828",
     "grade": false,
     "grade_id": "cell-34b6d6e1de870f0a",
     "locked": true,
     "schema_version": 3,
     "solution": false,
     "task": false
    }
   },
   "source": [
    "#### Lecture and Tutorial Learning Goals:\n",
    "\n",
    "By the end of this section, students will be able to:\n",
    "\n",
    "- Explain the difference between confidence intervals for prediction and prediction confidence intervals and what elements need to be estimated to construct these intervals.\n",
    "\n",
    "- Write a computer script to calculate these intervals. Interpret and communicate the results from that computer script.\n",
    "\n",
    "- Give an example of a question that can be answered by predictive modelling.\n",
    "\n",
    "- Explain the algorithms for the following variable selection methods: • Forward selection • Backward selection\n",
    "\n",
    "- Explain when a linear regression is an appropriate model to predict new outcomes based on new values of the input variables.\n",
    "\n",
    "- List model metrics that are suitable for evaluation of a statistical model developed for the purpose of predictive modelling (e.g., RMSE), as well as how they are calculated.\n",
    "\n",
    "- Discuss how different estimation methods can result in different predictions."
   ]
  },
  {
   "cell_type": "code",
   "execution_count": null,
   "metadata": {
    "deletable": false,
    "editable": false,
    "nbgrader": {
     "cell_type": "code",
     "checksum": "77f8294ede7a1ff8bcb6e8961519729a",
     "grade": false,
     "grade_id": "cell-a2a153352bc44a68",
     "locked": true,
     "schema_version": 3,
     "solution": false,
     "task": false
    }
   },
   "outputs": [],
   "source": [
    "# Run this cell before continuing.\n",
    "library(tidyverse)\n",
    "library(broom)\n",
    "library(repr)\n",
    "library(digest)\n",
    "library(infer)\n",
    "library(gridExtra)\n",
    "library(faraway)\n",
    "library(mltools)\n",
    "library(leaps)\n",
    "library(glmnet)\n",
    "library(cowplot)\n",
    "source(\"tests_tutorial_08.R\")"
   ]
  },
  {
   "cell_type": "markdown",
   "metadata": {
    "deletable": false,
    "editable": false,
    "nbgrader": {
     "cell_type": "markdown",
     "checksum": "7c4d7ae442bf171201f2ca59654e8e59",
     "grade": false,
     "grade_id": "cell-b2663beefdcc8af5",
     "locked": true,
     "schema_version": 3,
     "solution": false,
     "task": false
    }
   },
   "source": [
    "## 1. Prediction CI *versus* CI for Prediction\n",
    "\n",
    "In previous lectures we have learned how to estimate LR models and used them to make inference about the population parameters. In this lecture we will learn different concepts related to *prediction*.\n",
    "\n",
    "> **Heads up**: It is important to distinguished between *in-sample* prediction from *out-of-sample* prediction\n",
    "\n",
    "We have seen different measures to compare the *in-sample* values of the response with their corresponding predicted values using a LR to evaluate the goodness of the model.\n",
    "\n",
    "In this first section we are going to recognize and measure the *uncertainty* of these predictions."
   ]
  },
  {
   "cell_type": "markdown",
   "metadata": {
    "deletable": false,
    "editable": false,
    "nbgrader": {
     "cell_type": "markdown",
     "checksum": "05360920fc751d25e6071ef808f7a605",
     "grade": false,
     "grade_id": "cell-6b0d24d7f154f4c7",
     "locked": true,
     "schema_version": 3,
     "solution": false,
     "task": false
    }
   },
   "source": [
    "Let us start by loading the dataset to be used throughout this tutorial. We will use the dataset `fat` from the library `faraway`. You can find detailed information about it in [Johnson (1996)](https://www.tandfonline.com/doi/full/10.1080/10691898.1996.11910505). This dataset contains the percentage of body fat and a whole variety of body measurements (continuous variables) of 252 men. We will use the variable `brozek` as the response variable and a subset 14 variables to build different models. \n",
    "\n",
    "Run the code below to create the working data frame called `fat_sample`."
   ]
  },
  {
   "cell_type": "code",
   "execution_count": null,
   "metadata": {
    "deletable": false,
    "editable": false,
    "nbgrader": {
     "cell_type": "code",
     "checksum": "db7e0e1b3c320042a8036ec5f52eea75",
     "grade": false,
     "grade_id": "cell-1d7ec8f490a2c3bc",
     "locked": true,
     "schema_version": 3,
     "solution": false,
     "task": false
    }
   },
   "outputs": [],
   "source": [
    "fat_sample <- fat %>%\n",
    "  select(\n",
    "    brozek, age, weight, height, adipos, neck, chest, abdom,\n",
    "    hip, thigh, knee, ankle, biceps, forearm, wrist\n",
    "  )\n",
    "\n",
    "head(fat_sample,3)"
   ]
  },
  {
   "cell_type": "markdown",
   "metadata": {
    "deletable": false,
    "editable": false,
    "nbgrader": {
     "cell_type": "markdown",
     "checksum": "38cec0b7286293c3cab0b916a7d122bf",
     "grade": false,
     "grade_id": "cell-2a05a7dad6e0eaf6",
     "locked": true,
     "schema_version": 3,
     "solution": false,
     "task": false
    }
   },
   "source": [
    "The response variable `brozek` is the percent of body fat using Brozek's equation:\n",
    "\n",
    "$$\\texttt{brozek} = \\frac{457}{\\texttt{density}} - 414.2,$$\n",
    "\n",
    "where body `density` is measured in $\\text{g}/\\text{cm}^3$.\n",
    "\n",
    "The 14 input variables are:\n",
    "\n",
    "- `age`: Age in $\\text{years}$.\n",
    "- `weight`: Weight in $\\text{lb}$.\n",
    "- `height`: Height in $\\text{in}$.\n",
    "- `adipos`: Adiposity index in $\\text{kg}/\\text{m}^2$.\n",
    "\n",
    "$$\\texttt{adipos} = \\frac{\\texttt{weight}}{\\texttt{height}^2}$$\n",
    "\n",
    "- `neck`: Neck circumference in $\\text{cm}$.\n",
    "- `chest`: Chest circumference in $\\text{cm}$.\n",
    "- `abdom`: Abdomen circumference at the umbilicus and level with the iliac crest in $\\text{cm}$.\n",
    "- `hip`: Hip circumference in $\\text{cm}$.\n",
    "- `thigh`: Thigh circumference in $\\text{cm}$.\n",
    "- `knee`: Knee circumference in $\\text{cm}$.\n",
    "- `ankle`: Ankle circumference in $\\text{cm}$.\n",
    "- `biceps`: Extended biceps circumference in $\\text{cm}$.\n",
    "- `forearm`: Forearm circumference in $\\text{cm}$.\n",
    "- `wrist`: Wrist circumference distal to the styloid processes in $\\text{cm}$."
   ]
  },
  {
   "cell_type": "markdown",
   "metadata": {
    "deletable": false,
    "editable": false,
    "nbgrader": {
     "cell_type": "markdown",
     "checksum": "f46fd67af11ce6695f4c8dd815aba937",
     "grade": false,
     "grade_id": "cell-942a4a50b59db180",
     "locked": true,
     "schema_version": 3,
     "solution": false,
     "task": false
    }
   },
   "source": [
    "**Question 1.0**\n",
    "<br>{points: 1}\n",
    "\n",
    "Let's start by building a SLR using only `weight` to predict `brozek`.\n",
    "\n",
    "Use the `lm()` function to estimate the SLR. Store this estimated model in the variable `SLR_fat`.\n",
    "\n",
    "*Fill out those parts indicated with ..., uncomment the corresponding code in the cell below, and run it.*"
   ]
  },
  {
   "cell_type": "code",
   "execution_count": null,
   "metadata": {
    "deletable": false,
    "nbgrader": {
     "cell_type": "code",
     "checksum": "2bfed14ad43e99a75b8020000907be0e",
     "grade": false,
     "grade_id": "cell-cee6d509d573577c",
     "locked": false,
     "schema_version": 3,
     "solution": true,
     "task": false
    }
   },
   "outputs": [],
   "source": [
    "# SLR_fat <- ...(..., ...)\n",
    "# SLR_fat\n",
    "\n",
    "# your code here\n",
    "fail() # No Answer - remove if you provide an answer"
   ]
  },
  {
   "cell_type": "code",
   "execution_count": null,
   "metadata": {
    "deletable": false,
    "editable": false,
    "nbgrader": {
     "cell_type": "code",
     "checksum": "dcad7e97d299f54f096499be4b03849c",
     "grade": true,
     "grade_id": "cell-8134da8c9b28310c",
     "locked": true,
     "points": 1,
     "schema_version": 3,
     "solution": false,
     "task": false
    }
   },
   "outputs": [],
   "source": [
    "test_1.0()"
   ]
  },
  {
   "cell_type": "markdown",
   "metadata": {
    "deletable": false,
    "editable": false,
    "nbgrader": {
     "cell_type": "markdown",
     "checksum": "bdfb0044c730f1b6087c67d196f93302",
     "grade": false,
     "grade_id": "cell-35a25d7e5fb6c3ac",
     "locked": true,
     "schema_version": 3,
     "solution": false,
     "task": false
    }
   },
   "source": [
    "**Question 1.1**\n",
    "<br>{points: 1}\n",
    "\n",
    "In previous lectures, we have learned how to obtain and interpret confidence intervals for the regression parameters. \n",
    "\n",
    "Since the predictions are functions of the estimated LR, they also depend on the sample used! A different sample would have resulted in a different estimated LR and different predictions! As dicussed for the estimation of the regression parameters, we can obtain confidence intervals that take into account the sample-to-sample variation of the predictions as well! \n",
    "\n",
    "There are 2 type of intervals we can construct depending on the quantity we want to predict: *confidence intervals for prediction* and *prediction confidence intervals*\n",
    "\n",
    "> **Heads up**: Isn't this confusing?? \n",
    "\n",
    "Let's start by computing *confidence intervals for prediction*. These are intervals to predict the *average* brozek index for men of different weights. \n",
    "\n",
    "Using `SLR_fat` and `predict`, obtain the asymptotic 95% CIP (confidence intervals for prediction). Create a dataframe, called `fat_cip`, that contains the response, the input, the predictions, and the lower and upper bounds of the intervals for each observation **in that order from left-to-right**. \n",
    "\n",
    "*Fill out those parts indicated with ..., uncomment the corresponding code in the cell below, and run it.*"
   ]
  },
  {
   "cell_type": "code",
   "execution_count": null,
   "metadata": {
    "deletable": false,
    "nbgrader": {
     "cell_type": "code",
     "checksum": "56742ba1c2126dcfc426979284409f60",
     "grade": false,
     "grade_id": "cell-0718e1af1d8b43a7",
     "locked": false,
     "schema_version": 3,
     "solution": true,
     "task": false
    }
   },
   "outputs": [],
   "source": [
    "# fat_cip <- fat_sample  %>% \n",
    "#    select(..., ...) %>% \n",
    "#    cbind(predict(...,interval=\"confidence\",se.fit=TRUE)$fit)  %>% \n",
    "#    mutate_if(is.numeric, round, 3)\n",
    "# head(fat_cip)\n",
    "\n",
    "\n",
    "# your code here\n",
    "fail() # No Answer - remove if you provide an answer"
   ]
  },
  {
   "cell_type": "code",
   "execution_count": null,
   "metadata": {
    "deletable": false,
    "editable": false,
    "nbgrader": {
     "cell_type": "code",
     "checksum": "9160e8ee5bf1fced0ce25c0527f046e2",
     "grade": true,
     "grade_id": "cell-6e10147cc53c2bef",
     "locked": true,
     "points": 1,
     "schema_version": 3,
     "solution": false,
     "task": false
    }
   },
   "outputs": [],
   "source": [
    "test_1.1()"
   ]
  },
  {
   "cell_type": "markdown",
   "metadata": {
    "deletable": false,
    "editable": false,
    "nbgrader": {
     "cell_type": "markdown",
     "checksum": "8874a14f58ed2fc6367c3e3a7331cc99",
     "grade": false,
     "grade_id": "cell-cc6cc973e47676ca",
     "locked": true,
     "schema_version": 3,
     "solution": false,
     "task": false
    }
   },
   "source": [
    "**Question 1.2**\n",
    "<br>{points: 1}\n",
    "\n",
    "We have just calculated the 95% confidence interval for the mean brozek index for men of different weights in our sample. \n",
    "\n",
    "Provide a brief interpretation for the 95% confidence interval for prediction you have calculated in row 1."
   ]
  },
  {
   "cell_type": "markdown",
   "metadata": {
    "deletable": false,
    "nbgrader": {
     "cell_type": "markdown",
     "checksum": "76aa3983f86e28fd6b60217db682c747",
     "grade": true,
     "grade_id": "cell-cb3333bc637ff1b6",
     "locked": false,
     "points": 1,
     "schema_version": 3,
     "solution": true,
     "task": false
    }
   },
   "source": [
    "> *Your answer goes here.*\n",
    "\n",
    "DOUBLE CLICK TO EDIT **THIS CELL** AND REPLACE THIS TEXT WITH YOUR ANSWER."
   ]
  },
  {
   "cell_type": "markdown",
   "metadata": {
    "deletable": false,
    "editable": false,
    "nbgrader": {
     "cell_type": "markdown",
     "checksum": "911eae078702083187991c7e41469d67",
     "grade": false,
     "grade_id": "cell-9323580fb03a9331",
     "locked": true,
     "schema_version": 3,
     "solution": false,
     "task": false
    }
   },
   "source": [
    "**Question 1.3**\n",
    "<br>{points: 1}\n",
    "\n",
    "Let's now compute and interpret *prediction confidence intervals*. These are intervals to predict the (actual) brozek index for men of different weights.  \n",
    "\n",
    "You can use `SLR_fat` and `predict` again to obtain the asymptotic 95% PI (prediction intervals) changing the argument `interval`. Create a dataframe, called `fat_pi`, that contains the response, the input, the predictions, and the lower and upper bounds of the intervals for each observation, **in that order from left to right**.\n",
    "\n",
    "> **Heads up**: read the warning message! since your goal is to predict an actual value, it is important to note that this is not coming from a test set.\n",
    "\n",
    "*Fill out those parts indicated with ..., uncomment the corresponding code in the cell below, and run it.*"
   ]
  },
  {
   "cell_type": "code",
   "execution_count": null,
   "metadata": {
    "deletable": false,
    "nbgrader": {
     "cell_type": "code",
     "checksum": "bc7261e5b40a55d2668be58b02e3773a",
     "grade": false,
     "grade_id": "cell-3f33d5bcc45086bf",
     "locked": false,
     "schema_version": 3,
     "solution": true,
     "task": false
    }
   },
   "outputs": [],
   "source": [
    "# fat_pi <- fat_sample  %>% \n",
    "#    select(..., ...) %>% \n",
    "#    cbind(predict(...,interval=\"prediction\",se.fit=TRUE)$fit)  %>% \n",
    "#    mutate_if(is.numeric, round, 3)\n",
    "# head(fat_pi)\n",
    "\n",
    "\n",
    "# your code here\n",
    "fail() # No Answer - remove if you provide an answer"
   ]
  },
  {
   "cell_type": "code",
   "execution_count": null,
   "metadata": {
    "deletable": false,
    "editable": false,
    "nbgrader": {
     "cell_type": "code",
     "checksum": "894d58a2c844291a440dff9d59a23f05",
     "grade": true,
     "grade_id": "cell-be96a99bc663b158",
     "locked": true,
     "points": 1,
     "schema_version": 3,
     "solution": false,
     "task": false
    }
   },
   "outputs": [],
   "source": [
    "test_1.3()"
   ]
  },
  {
   "cell_type": "markdown",
   "metadata": {
    "deletable": false,
    "editable": false,
    "nbgrader": {
     "cell_type": "markdown",
     "checksum": "c6fc564c42e5b2f04764c663c9ec1029",
     "grade": false,
     "grade_id": "cell-374f140cce1d5d82",
     "locked": true,
     "schema_version": 3,
     "solution": false,
     "task": false
    }
   },
   "source": [
    "**Question 1.4**\n",
    "<br>{points: 1}\n",
    "\n",
    "We have just calculated the 95% prediction interval for the brozek index of men of different weights in our sample. \n",
    "\n",
    "Provide a brief interpretation for the 95% prediction interval you have calculated in row 1.\n",
    "Your interpretation goes here."
   ]
  },
  {
   "cell_type": "markdown",
   "metadata": {
    "deletable": false,
    "nbgrader": {
     "cell_type": "markdown",
     "checksum": "14db4ad991163d443bd534f1d8dd2d72",
     "grade": true,
     "grade_id": "cell-87366ebda6badbdb",
     "locked": false,
     "points": 1,
     "schema_version": 3,
     "solution": true,
     "task": false
    }
   },
   "source": [
    "> *Your answer goes here.*\n",
    "\n",
    "DOUBLE CLICK TO EDIT **THIS CELL** AND REPLACE THIS TEXT WITH YOUR ANSWER."
   ]
  },
  {
   "cell_type": "markdown",
   "metadata": {
    "deletable": false,
    "editable": false,
    "nbgrader": {
     "cell_type": "markdown",
     "checksum": "8f80efa3bd8490cfeaaf62aa5b700d58",
     "grade": false,
     "grade_id": "cell-780c3ffc246875d0",
     "locked": true,
     "schema_version": 3,
     "solution": false,
     "task": false
    }
   },
   "source": [
    "**Question 1.5**\n",
    "<br>{points: 1}\n",
    "\n",
    "Compare the confidence intervals computed in **Question 1.1** with those computed in **Question 1.3** (by row). Which confidence intervals are wider?? Respond and explain why in one or two sentences."
   ]
  },
  {
   "cell_type": "markdown",
   "metadata": {
    "deletable": false,
    "nbgrader": {
     "cell_type": "markdown",
     "checksum": "40a3dd1aba6716fbb04082f830cba039",
     "grade": true,
     "grade_id": "cell-77911512fee34bdd",
     "locked": false,
     "points": 1,
     "schema_version": 3,
     "solution": true,
     "task": false
    }
   },
   "source": [
    "> *Your answer goes here.*\n",
    "\n",
    "DOUBLE CLICK TO EDIT **THIS CELL** AND REPLACE THIS TEXT WITH YOUR ANSWER."
   ]
  },
  {
   "cell_type": "markdown",
   "metadata": {
    "deletable": false,
    "editable": false,
    "nbgrader": {
     "cell_type": "markdown",
     "checksum": "ca642ce281463194e69e8098a64d6979",
     "grade": false,
     "grade_id": "cell-e602fa19e0bda3a6",
     "locked": true,
     "schema_version": 3,
     "solution": false,
     "task": false
    }
   },
   "source": [
    "## 2. Model selection\n",
    "\n",
    "In this section you will use the **backward selection** algorithm to construct a generative model and the **forward selection** algorithm to construct a predictive model. \n",
    "\n",
    "> Note that the choice of which algorithm to use in each case was arbitrary and you can play with these algorithms and try other choices!"
   ]
  },
  {
   "cell_type": "markdown",
   "metadata": {
    "deletable": false,
    "editable": false,
    "nbgrader": {
     "cell_type": "markdown",
     "checksum": "7ace0c82c888d543f656f28011f39475",
     "grade": false,
     "grade_id": "cell-db2fa9b9dcabe34a",
     "locked": true,
     "schema_version": 3,
     "solution": false,
     "task": false
    }
   },
   "source": [
    "### 2.1 Selecting a generative model\n",
    "\n",
    "In this section you will use the **backward selection** algorithm to construct a *generative model*.\n",
    "\n",
    "Generative models are built and trained to examine the association between the response and the input variables. \n",
    "\n",
    "Since the same data can not be used to select and to make inference, we need 2 different datasets: a *selection* set and a *training* set. If two independent datasets are not available to select and build a generative model, we can use the data in hand and split it to create these datasets. \n",
    "\n",
    "> using the same data to select and estimate violates the assumptions of the analysis and invalidate results. This problem is known as a *post-inference* problem and will be further discuss in future lectures. "
   ]
  },
  {
   "cell_type": "markdown",
   "metadata": {
    "deletable": false,
    "editable": false,
    "nbgrader": {
     "cell_type": "markdown",
     "checksum": "0d655b3e72f204708b60bd26515e9e5c",
     "grade": false,
     "grade_id": "cell-43afa16b0aff1fee",
     "locked": true,
     "schema_version": 3,
     "solution": false,
     "task": false
    }
   },
   "source": [
    "**Question 2.0**\n",
    "<br>{points: 1}\n",
    "\n",
    "Let's start by randomly splitting `fat_sample` in two sets on a 70-30% basis: `training_fat` (70% of the data) and `second_set_fat` (the remaining 30%) to be used either to *select* a generative model or to *test* a predictive model.\n",
    "\n",
    "Follow the next 3 steps to complete the code below:\n",
    "\n",
    "1. Create an `ID` column in `fat_sample` (i.e., `fat_sample$ID`) with the row number corresponding to each man in the sample.\n",
    "\n",
    "2. Use the function `sample_n()` to create `training_fat` (sampling *without* replacement) with 70\\% of the observations coming from `fat_sample`.\n",
    "\n",
    "3. Use `anti_join()` with `fat_sample` and `training_fat` to create `second_set_fat` by column `ID`.\n",
    "\n",
    "4. Remove the variable `ID` used to split the data\n",
    "\n",
    "*Fill out those parts indicated with `...`, uncomment the corresponding code in the cell below, and run it.*"
   ]
  },
  {
   "cell_type": "code",
   "execution_count": null,
   "metadata": {
    "deletable": false,
    "nbgrader": {
     "cell_type": "code",
     "checksum": "153c9874ffb7f74fe7cfee6892887b90",
     "grade": false,
     "grade_id": "cell-0b70654bbfd944e6",
     "locked": false,
     "schema_version": 3,
     "solution": true,
     "task": false
    }
   },
   "outputs": [],
   "source": [
    "set.seed(123) # DO NOT CHANGE!\n",
    "\n",
    "# fat_sample$ID <- rownames(fat_sample)\n",
    "# training_fat <- ...(..., size = nrow(fat_sample) * 0.70,\n",
    "#   replace = ...\n",
    "# )\n",
    "\n",
    "# second_set_fat <- anti_join(...,\n",
    "#   ...,\n",
    "#   by = ...\n",
    "# )\n",
    "\n",
    "#training_fat <- training_fat[,-\"ID\"]\n",
    "#second_set_fat <- second_set_fat[,-\"ID\"]\n",
    "\n",
    "# head(training_fat)\n",
    "# nrow(training_fat)\n",
    "\n",
    "# head(second_set_fat)\n",
    "# nrow(second_set_fat)\n",
    "\n",
    "# your code here\n",
    "fail() # No Answer - remove if you provide an answer"
   ]
  },
  {
   "cell_type": "code",
   "execution_count": null,
   "metadata": {
    "deletable": false,
    "editable": false,
    "nbgrader": {
     "cell_type": "code",
     "checksum": "ff503c7650d22355cb7d70ec3750d9bb",
     "grade": true,
     "grade_id": "cell-c12d01e9ca137b8e",
     "locked": true,
     "points": 1,
     "schema_version": 3,
     "solution": false,
     "task": false
    }
   },
   "outputs": [],
   "source": [
    "test_2.0()"
   ]
  },
  {
   "cell_type": "markdown",
   "metadata": {
    "deletable": false,
    "editable": false,
    "nbgrader": {
     "cell_type": "markdown",
     "checksum": "c91a48382ab8fee7eacddcc5d4306602",
     "grade": false,
     "grade_id": "cell-86b38b86709c5cc4",
     "locked": true,
     "schema_version": 3,
     "solution": false,
     "task": false
    }
   },
   "source": [
    "### Selecting a generative model\n",
    "\n",
    "Although many potential input variables are available in the dataset, not all may be relevant to explain the variation of the response variable. The *subset* algorithms learned in the lecture can be used to select a subset of variable to build generative models. \n",
    "\n",
    "In the following questions, we will use the *backward* selection algorithm and the *adjusted* $R^2$ to select a smaller model.\n",
    "\n",
    "> Note that we can't use the same data to select and make inference. Thus, the selection will be done using the `second_set_fat` dataset and the model will be built using teh `training_fat` data."
   ]
  },
  {
   "cell_type": "markdown",
   "metadata": {
    "deletable": false,
    "editable": false,
    "nbgrader": {
     "cell_type": "markdown",
     "checksum": "4d23cbdc72012f7e7a39dcf58fa17fcd",
     "grade": false,
     "grade_id": "cell-5720bf6e34d6b9b1",
     "locked": true,
     "schema_version": 3,
     "solution": false,
     "task": false
    }
   },
   "source": [
    "**Question 2.1**\n",
    "<br>{points: 1}\n",
    "\n",
    "Using only the extra data in `second_set_fat`, select a reduced LR using the **backward selection** algorithm. Recall that this method is implemented in the function `regsubsets()` from library `leaps`.\n",
    "\n",
    "The function `regsubsets()` identifies various subsets of input variables selected for models of different sizes. The argument `x` of `regsubsets()` is analogous to `formula` in `lm()`. \n",
    "\n",
    "Create one object using `regsubsets()`with `second_set_fat` and call it `fat_backward_sel`. We will use `fat_bwd_summary_df` to check the results.\n",
    "\n",
    "**Maintain any ordering of columns seen in `second_set_fat`**\n",
    "\n",
    "*Fill out those parts indicated with `...`, uncomment the corresponding code in the cell below, and run it.*"
   ]
  },
  {
   "cell_type": "code",
   "execution_count": null,
   "metadata": {
    "deletable": false,
    "nbgrader": {
     "cell_type": "code",
     "checksum": "510957cfad0a00dfcaa0be0304daf1bc",
     "grade": false,
     "grade_id": "cell-91eaa8ac85bbadbd",
     "locked": false,
     "schema_version": 3,
     "solution": true,
     "task": false
    }
   },
   "outputs": [],
   "source": [
    "# fat_backward_sel <- ...(\n",
    "#   x=..., \n",
    "#   nvmax=...,\n",
    "#   data=...,\n",
    "#   method=...,\n",
    "# )\n",
    "# fat_backward_sel\n",
    "\n",
    "#fat_bwd_summary <- summary(fat_backward_sel)\n",
    "\n",
    "#fat_bwd_summary_df <- data.frame(\n",
    "#    n_input_variables = 1:14,\n",
    "#    RSQ = fat_bwd_summary$rsq,\n",
    "#    RSS = fat_bwd_summary$rss,\n",
    "#    ADJ.R2 = fat_bwd_summary$adjr2,\n",
    "#)\n",
    "\n",
    "# your code here\n",
    "fail() # No Answer - remove if you provide an answer"
   ]
  },
  {
   "cell_type": "code",
   "execution_count": null,
   "metadata": {
    "deletable": false,
    "editable": false,
    "nbgrader": {
     "cell_type": "code",
     "checksum": "a5d68e2a5493045ed5b737878e406487",
     "grade": true,
     "grade_id": "cell-8627c93a52f97b49",
     "locked": true,
     "points": 1,
     "schema_version": 3,
     "solution": false,
     "task": false
    }
   },
   "outputs": [],
   "source": [
    "test_2.1()"
   ]
  },
  {
   "cell_type": "markdown",
   "metadata": {
    "deletable": false,
    "editable": false,
    "nbgrader": {
     "cell_type": "markdown",
     "checksum": "fdc39d7c0f529a9b1c19df3458c678d6",
     "grade": false,
     "grade_id": "cell-f39c4e61436db78d",
     "locked": true,
     "schema_version": 3,
     "solution": false,
     "task": false
    }
   },
   "source": [
    "**Question 2.2**\n",
    "<br>{points: 1}\n",
    "\n",
    "The *backward* subset algorithm selected the best model of each size. Results of the 14 models selected are stored in `fat_bwd_summary`. \n",
    "\n",
    "Use the *adjusted* $R^2$ of these 14 models, stored in `fat_bwd_summary_df`, to select the best generative model and indicate which input variables are in the selected model.\n",
    "\n",
    "**A.** `age`.\n",
    "\n",
    "**B.** `weight`.\n",
    "\n",
    "**C.** `height`.\n",
    "\n",
    "**D.** `adipos`.\n",
    "\n",
    "**E.**  `neck`.\n",
    "\n",
    "**F.**  `chest`.\n",
    "\n",
    "**G.**  `abdom`.\n",
    "\n",
    "**H.**  `hip`.\n",
    "\n",
    "**I.**  `thigh`.\n",
    "\n",
    "**J.**  `knee`.\n",
    "\n",
    "**K.**  `ankle`.\n",
    "\n",
    "**L.**  `biceps`.\n",
    "\n",
    "**M.**  `forearm`.\n",
    "\n",
    "**N.**  `wrist`.\n",
    "\n",
    "*Assign your answers to the object `answer2.5`. Your answers have to be included in a single string indicating the correct options **in alphabetical order** and surrounded by quotes.*"
   ]
  },
  {
   "cell_type": "code",
   "execution_count": null,
   "metadata": {
    "deletable": false,
    "editable": false,
    "nbgrader": {
     "cell_type": "code",
     "checksum": "963bdbb67b3c2a86a3aa3e25795c505a",
     "grade": false,
     "grade_id": "cell-bf1eb7c75484d6a4",
     "locked": true,
     "schema_version": 3,
     "solution": false,
     "task": false
    }
   },
   "outputs": [],
   "source": [
    "#Run this cell before continuing to examine the results\n",
    "\n",
    "fat_bwd_summary_df\n",
    "\n",
    "fat_bwd_summary "
   ]
  },
  {
   "cell_type": "code",
   "execution_count": null,
   "metadata": {
    "deletable": false,
    "nbgrader": {
     "cell_type": "code",
     "checksum": "7aa60f48dbd601ff32fb36e7e1f5c29e",
     "grade": false,
     "grade_id": "cell-2bfc26292c372e14",
     "locked": false,
     "schema_version": 3,
     "solution": true,
     "task": false
    }
   },
   "outputs": [],
   "source": [
    "# answer2.2 <- \n",
    "\n",
    "# your code here\n",
    "fail() # No Answer - remove if you provide an answer"
   ]
  },
  {
   "cell_type": "code",
   "execution_count": null,
   "metadata": {
    "deletable": false,
    "editable": false,
    "nbgrader": {
     "cell_type": "code",
     "checksum": "66131b98bc8fb3240363fb5c54d31ee9",
     "grade": true,
     "grade_id": "cell-e3025b2aef4db76a",
     "locked": true,
     "points": 1,
     "schema_version": 3,
     "solution": false,
     "task": false
    }
   },
   "outputs": [],
   "source": [
    "test_2.2()"
   ]
  },
  {
   "cell_type": "markdown",
   "metadata": {
    "deletable": false,
    "editable": false,
    "nbgrader": {
     "cell_type": "markdown",
     "checksum": "2971f045817e82decddc4a926066d24d",
     "grade": false,
     "grade_id": "cell-cc0d64c403167aed",
     "locked": true,
     "schema_version": 3,
     "solution": false,
     "task": false
    }
   },
   "source": [
    "**Question 2.3**\n",
    "<br>{points: 1}\n",
    "\n",
    "Now that you have selected a subset of input variables, use the independent dataset `training_fat` to build and evaluate a *generative* model. \n",
    "\n",
    "Use `lm` to fit the selected model using `training_fat`, and store the results in an object called `fat_bwd_generative`. \n",
    "\n",
    "> Enter the selected variables in the **same order** as they are in `training_fat`. This is not statistically needed, it's only needed to autograde this question.\n",
    "\n",
    "*Fill out those parts indicated with `...`, uncomment the corresponding code in the cell below, and run it.*"
   ]
  },
  {
   "cell_type": "code",
   "execution_count": null,
   "metadata": {
    "deletable": false,
    "nbgrader": {
     "cell_type": "code",
     "checksum": "725e62b0db7a8ff5cf9c537658f2a0e4",
     "grade": false,
     "grade_id": "cell-d781d8b905874037",
     "locked": false,
     "schema_version": 3,
     "solution": true,
     "task": false
    }
   },
   "outputs": [],
   "source": [
    "# fat_bwd_generative <- ...(...,\n",
    "#   ...\n",
    "# )\n",
    "\n",
    "# tidy(fat_bwd_generative)\n",
    "\n",
    "# your code here\n",
    "fail() # No Answer - remove if you provide an answer"
   ]
  },
  {
   "cell_type": "code",
   "execution_count": null,
   "metadata": {
    "deletable": false,
    "editable": false,
    "nbgrader": {
     "cell_type": "code",
     "checksum": "d63c20851a20eef7a05b1a7b5fb91c08",
     "grade": true,
     "grade_id": "cell-a890d85bf5bb9e42",
     "locked": true,
     "points": 1,
     "schema_version": 3,
     "solution": false,
     "task": false
    }
   },
   "outputs": [],
   "source": [
    "test_2.3()"
   ]
  },
  {
   "cell_type": "markdown",
   "metadata": {
    "deletable": false,
    "editable": false,
    "nbgrader": {
     "cell_type": "markdown",
     "checksum": "aa4f77c6a503209ea608d6678787c91b",
     "grade": false,
     "grade_id": "cell-33fae0e04b6b4e94",
     "locked": true,
     "schema_version": 3,
     "solution": false,
     "task": false
    }
   },
   "source": [
    "**Question 2.4**\n",
    "<br>{points: 1}\n",
    "\n",
    "Compute the coefficient of determination $R^2$ to evaluate the goodness of fit of the model.\n",
    "\n",
    "> Note that the evaluation is also based on data from `training_fat`\n",
    "\n",
    "*Assign your answer to the object `answer2.4`. Your answer is a numeric object* "
   ]
  },
  {
   "cell_type": "code",
   "execution_count": null,
   "metadata": {
    "deletable": false,
    "nbgrader": {
     "cell_type": "code",
     "checksum": "8d51b8e5f0442d11d523c7b145d8d6d8",
     "grade": false,
     "grade_id": "cell-acf6230f061484cf",
     "locked": false,
     "schema_version": 3,
     "solution": true,
     "task": false
    }
   },
   "outputs": [],
   "source": [
    "# *Your code goes here.*\n",
    "\n",
    "# your code here\n",
    "fail() # No Answer - remove if you provide an answer"
   ]
  },
  {
   "cell_type": "code",
   "execution_count": null,
   "metadata": {
    "deletable": false,
    "editable": false,
    "nbgrader": {
     "cell_type": "code",
     "checksum": "f8b39a3e5f68b22216c9e656fb3661e2",
     "grade": true,
     "grade_id": "cell-fe3d4906eb407b88",
     "locked": true,
     "points": 1,
     "schema_version": 3,
     "solution": false,
     "task": false
    }
   },
   "outputs": [],
   "source": [
    "test_2.4()"
   ]
  },
  {
   "cell_type": "markdown",
   "metadata": {
    "deletable": false,
    "editable": false,
    "nbgrader": {
     "cell_type": "markdown",
     "checksum": "14d69d9ab4e03a5e33e9c3c33852fffa",
     "grade": false,
     "grade_id": "cell-9baf7391b67be32f",
     "locked": true,
     "schema_version": 3,
     "solution": false,
     "task": false
    }
   },
   "source": [
    "**Question 2.5**\n",
    "<br>{points: 1}\n",
    "\n",
    "Interpret the coefficient of determination $R^2$ computed in **Question 2.4** and comment on the goodness of fit of the selected model."
   ]
  },
  {
   "cell_type": "markdown",
   "metadata": {
    "deletable": false,
    "nbgrader": {
     "cell_type": "markdown",
     "checksum": "8baf77792d9cefc7b4ab997ff3523575",
     "grade": true,
     "grade_id": "cell-5f9cdf1b6cee2b12",
     "locked": false,
     "points": 1,
     "schema_version": 3,
     "solution": true,
     "task": false
    }
   },
   "source": [
    "> *Your answer goes here.*\n",
    "\n",
    "DOUBLE CLICK TO EDIT **THIS CELL** AND REPLACE THIS TEXT WITH YOUR ANSWER."
   ]
  },
  {
   "cell_type": "markdown",
   "metadata": {
    "deletable": false,
    "editable": false,
    "nbgrader": {
     "cell_type": "markdown",
     "checksum": "802ec76273b66c748746fa99c40e7454",
     "grade": false,
     "grade_id": "cell-ec8fb0d5a9c00c46",
     "locked": true,
     "schema_version": 3,
     "solution": false,
     "task": false
    }
   },
   "source": [
    "**Question 2.6**\n",
    "<br>{points: 1}\n",
    "\n",
    "Previous research has shown that while weight can be highly variable during the day and even across days, body circumference measurements (e.g., abdominal circumference) are more stable and better predictors of body fat. Using the results from **Question 2.3**, corroborate if the abdominal circumference, `abdom` is statistically associated with the percent of body fat measured by `brozek`. \n",
    "\n",
    "In your answer, include an interpretation of the estimated coefficients as well as the results of the *t*-tests reported using `tidy()`."
   ]
  },
  {
   "cell_type": "markdown",
   "metadata": {
    "deletable": false,
    "nbgrader": {
     "cell_type": "markdown",
     "checksum": "06c4d1ea919c633ed67581c996188222",
     "grade": true,
     "grade_id": "cell-b87ba59d85d8f38a",
     "locked": false,
     "points": 1,
     "schema_version": 3,
     "solution": true,
     "task": false
    }
   },
   "source": [
    "> *Your answer goes here.*\n",
    "\n",
    "DOUBLE CLICK TO EDIT **THIS CELL** AND REPLACE THIS TEXT WITH YOUR ANSWER."
   ]
  },
  {
   "cell_type": "markdown",
   "metadata": {
    "deletable": false,
    "editable": false,
    "nbgrader": {
     "cell_type": "markdown",
     "checksum": "839b3dfea5a5d1b2fc8b5ad00e94a535",
     "grade": false,
     "grade_id": "cell-9be71f65643c5906",
     "locked": true,
     "schema_version": 3,
     "solution": false,
     "task": false
    }
   },
   "source": [
    "## 3. Predictive Modelling using Linear Regression\n",
    "\n",
    "In this section you will use the **forward** selection algorithm to select a *predictive model*.\n",
    "\n",
    "Predictive models are built and trained to predict *new* observations. Thus, we need two types of datasets: a *training* set and a *test* set. If two independent datasets are not available to build a predictive model, we can:\n",
    "\n",
    "\n",
    "- approximate the *test* MSE\n",
    "\n",
    "or \n",
    "\n",
    "- use the data in hand and split it to create these datasets.\n",
    "\n",
    "\n",
    "In the following exercises you will build a predictive model using the first approach."
   ]
  },
  {
   "cell_type": "markdown",
   "metadata": {
    "deletable": false,
    "editable": false,
    "nbgrader": {
     "cell_type": "markdown",
     "checksum": "592cf8fc38a1407d1d16ae02b96d51ba",
     "grade": false,
     "grade_id": "cell-fbdb817d4fecd345",
     "locked": true,
     "schema_version": 3,
     "solution": false,
     "task": false
    }
   },
   "source": [
    "**Question 3.0**\n",
    "<br>{points: 1}\n",
    "\n",
    "Let's start by building a predictive additive LR with *all* **14** inputs. Call this object `fat_full_OLS_add`. \n",
    "\n",
    "Estimate an additive LR with *all* **14** inputs against the response variable `brozek`  using `lm()` and data from `training_fat`. \n",
    "\n",
    "> **Order of these variables should match the column order result from `training_fat`**.\n",
    "\n",
    "This will be our baseline model.\n",
    "\n",
    "*Fill out those parts indicated with `...`, uncomment the corresponding code in the cell below, and run it.*"
   ]
  },
  {
   "cell_type": "code",
   "execution_count": null,
   "metadata": {
    "deletable": false,
    "nbgrader": {
     "cell_type": "code",
     "checksum": "ad18180fc3010467a5047b139c88bb75",
     "grade": false,
     "grade_id": "cell-7f1e7c7d551ff08a",
     "locked": false,
     "schema_version": 3,
     "solution": true,
     "task": false
    }
   },
   "outputs": [],
   "source": [
    "# fat_full_OLS_add <- lm(...,\n",
    "#   ...\n",
    "# )\n",
    "# fat_full_OLS_add\n",
    "\n",
    "# your code here\n",
    "fail() # No Answer - remove if you provide an answer"
   ]
  },
  {
   "cell_type": "code",
   "execution_count": null,
   "metadata": {
    "deletable": false,
    "editable": false,
    "nbgrader": {
     "cell_type": "code",
     "checksum": "23d97c6b8cc76432ae176e2058e43bbf",
     "grade": true,
     "grade_id": "cell-a73d97e53e776cb3",
     "locked": true,
     "points": 1,
     "schema_version": 3,
     "solution": false,
     "task": false
    }
   },
   "outputs": [],
   "source": [
    "test_3.0()"
   ]
  },
  {
   "cell_type": "markdown",
   "metadata": {
    "deletable": false,
    "editable": false,
    "nbgrader": {
     "cell_type": "markdown",
     "checksum": "4aa40462a7bea792329e5d82500e99e3",
     "grade": false,
     "grade_id": "cell-4d9aa919aef31dbf",
     "locked": true,
     "schema_version": 3,
     "solution": false,
     "task": false
    }
   },
   "source": [
    "**Question 3.1**\n",
    "<br>{points: 1}\n",
    "\n",
    "Using `predict()` and `fat_full_OLS_add`, obtain the (out-of-sample) predicted brozek values for men in `second_set_fat`. \n",
    "\n",
    "> `second_set_fat` will be used as independent *test data*\n",
    "\n",
    "Store them in a variable called `fat_test_pred_full_OLS_add`. \n",
    "\n",
    "> **Keep the order of columns seen in `second_set_fat`**\n",
    "\n",
    "*Fill out those parts indicated with `...`, uncomment the corresponding code in the cell below, and run it.*"
   ]
  },
  {
   "cell_type": "code",
   "execution_count": null,
   "metadata": {
    "deletable": false,
    "nbgrader": {
     "cell_type": "code",
     "checksum": "5c2551110eed23f5485c14917f6e2679",
     "grade": false,
     "grade_id": "cell-70c8d483741b2f75",
     "locked": false,
     "schema_version": 3,
     "solution": true,
     "task": false
    }
   },
   "outputs": [],
   "source": [
    "# fat_test_pred_full_OLS_add <- ...(..., newdata = ...)\n",
    "# head(fat_test_pred_full_OLS_add)\n",
    "\n",
    "# your code here\n",
    "fail() # No Answer - remove if you provide an answer"
   ]
  },
  {
   "cell_type": "code",
   "execution_count": null,
   "metadata": {
    "deletable": false,
    "editable": false,
    "nbgrader": {
     "cell_type": "code",
     "checksum": "a0e664e38b7869c5c4dba50f6437a2d5",
     "grade": true,
     "grade_id": "cell-3eecb58f55839272",
     "locked": true,
     "points": 1,
     "schema_version": 3,
     "solution": false,
     "task": false
    }
   },
   "outputs": [],
   "source": [
    "test_3.1()"
   ]
  },
  {
   "cell_type": "markdown",
   "metadata": {
    "deletable": false,
    "editable": false,
    "nbgrader": {
     "cell_type": "markdown",
     "checksum": "2b90b12b541201d4654ab800ac4e0c5d",
     "grade": false,
     "grade_id": "cell-56f3153cb1b8d3f0",
     "locked": true,
     "schema_version": 3,
     "solution": false,
     "task": false
    }
   },
   "source": [
    "**Question 3.2**\n",
    "<br>{points: 1}\n",
    "\n",
    "We will now compute the **Mean Squared Error (MSE)** using data from the test set to evaluate the predictive model (the smaller the metric, the better the model):\n",
    "\n",
    "> **Heads up:** a related measure commonly used is the **Root Mean Squared Error (RMSE) = $\\sqrt{\\text{MSE}}$**. This metric has the same units as the response.\n",
    "\n",
    "Use the function `rmse()` from the `mltools` package to compute the $\\text{RMSE}_{\\text{test}}$ based on the *predicted* brozed values stored in `fat_test_pred_full_OLS_add` for men in the test set. Note that the observed brozek values for these men are in `fat_test$brozek`. \n",
    "\n",
    "Store this metric in a tibble called `fat_R_MSE_models` with two columns:\n",
    "\n",
    "- `Model`: The regression model from which we will obtain the prediction accuracy.\n",
    "- `R_MSE`: The $\\text{RMSE}_{\\text{test}}$ corresponding to the model.\n",
    "\n",
    "*Fill out those parts indicated with `...`, uncomment the corresponding code in the cell below, and run it.*"
   ]
  },
  {
   "cell_type": "code",
   "execution_count": null,
   "metadata": {
    "deletable": false,
    "nbgrader": {
     "cell_type": "code",
     "checksum": "643c057b5cd711e1ccf8579793c2668c",
     "grade": false,
     "grade_id": "cell-c19eea63afd6743e",
     "locked": false,
     "schema_version": 3,
     "solution": true,
     "task": false
    }
   },
   "outputs": [],
   "source": [
    "# fat_R_MSE_models <- tibble(\n",
    "#   Model = \"OLS Full Regression\",\n",
    "#   R_MSE = ...(\n",
    "#     ...,\n",
    "#     ...\n",
    "#   )\n",
    "# )\n",
    "# fat_R_MSE_models\n",
    "\n",
    "# your code here\n",
    "fail() # No Answer - remove if you provide an answer"
   ]
  },
  {
   "cell_type": "code",
   "execution_count": null,
   "metadata": {
    "deletable": false,
    "editable": false,
    "nbgrader": {
     "cell_type": "code",
     "checksum": "9fa373afae8d3d96d08aa06b88b74e00",
     "grade": true,
     "grade_id": "cell-e6a348bb9644998f",
     "locked": true,
     "points": 1,
     "schema_version": 3,
     "solution": false,
     "task": false
    }
   },
   "outputs": [],
   "source": [
    "test_3.2()"
   ]
  },
  {
   "cell_type": "markdown",
   "metadata": {
    "deletable": false,
    "editable": false,
    "nbgrader": {
     "cell_type": "markdown",
     "checksum": "ef5ef019ce223c3f8b8ae06fb1dcd122",
     "grade": false,
     "grade_id": "cell-b60ff31e0894e27a",
     "locked": true,
     "schema_version": 3,
     "solution": false,
     "task": false
    }
   },
   "source": [
    "### Selecting a predictive model\n",
    "\n",
    "The previous model uses all input variables to predict. However, we may want to select a smaller model by using only a subset of the input variables. The *subset* algorithms that we used in previous questions can be used to build predictive models as well. \n",
    "\n",
    "A good predictive model would be one that minimizes the *test* MSE. However, we can not use the same set to select the model and evaluate its performance. \n",
    "\n",
    "Metrics such as $C_p$, AIC and BIC are computed with the *training* set and can be used to *approximate* the *test* MSE, without looking at the *test* data. \n",
    "\n",
    "The test set will then be used *only* to assess the predictive performance of the selected model."
   ]
  },
  {
   "cell_type": "markdown",
   "metadata": {
    "deletable": false,
    "editable": false,
    "nbgrader": {
     "cell_type": "markdown",
     "checksum": "57c88c433f56a0df8f3d926734360188",
     "grade": false,
     "grade_id": "cell-57191faff6a77cc2",
     "locked": true,
     "schema_version": 3,
     "solution": false,
     "task": false
    }
   },
   "source": [
    "**Question 3.3**\n",
    "<br>{points: 1}\n",
    "\n",
    "Using only the training data in `training_fat`, select a reduced LR using the **forward selection** algorithm. Recall that this method is implemented in the function `regsubsets()` from library `leaps`.\n",
    "\n",
    "The function `regsubsets()` identifies various subsets of input variables selected for models of different sizes. The argument `x` of `regsubsets()` is analogous to `formula` in `lm()`. \n",
    "\n",
    "Create one object using `regsubsets()`with `training_fat` and call it `fat_forward_sel`. We will use `fat_fwd_summary_df` to check your results.\n",
    "\n",
    "> **Maintain the order of columns seen in `training_fat`**\n",
    "\n",
    "*Fill out those parts indicated with `...`, uncomment the corresponding code in the cell below, and run it.*"
   ]
  },
  {
   "cell_type": "code",
   "execution_count": null,
   "metadata": {
    "deletable": false,
    "nbgrader": {
     "cell_type": "code",
     "checksum": "9a4ef6afc63b738db10b398ae6c877e3",
     "grade": false,
     "grade_id": "cell-af533e7b226e72ae",
     "locked": false,
     "schema_version": 3,
     "solution": true,
     "task": false
    }
   },
   "outputs": [],
   "source": [
    "# fat_forward_sel <- ...(\n",
    "#   ..., ...,\n",
    "#   ...,\n",
    "#   ...,\n",
    "# )\n",
    "# fat_forward_sel\n",
    "\n",
    "#fat_fwd_summary <- summary(fat_forward_sel)\n",
    "\n",
    "#fat_fwd_summary_df <- tibble(\n",
    "#    n_input_variables = 1:14,\n",
    "#    RSS = fat_fwd_summary$rss,\n",
    "#    BIC = fat_fwd_summary$bic,\n",
    "#    Cp = fat_fwd_summary$bic\n",
    "#)\n",
    "\n",
    "# your code here\n",
    "fail() # No Answer - remove if you provide an answer"
   ]
  },
  {
   "cell_type": "code",
   "execution_count": null,
   "metadata": {
    "deletable": false,
    "editable": false,
    "nbgrader": {
     "cell_type": "code",
     "checksum": "1e40e3821e06a28c5ad1f00334e0d7d4",
     "grade": true,
     "grade_id": "cell-0386d94ee9dd6cff",
     "locked": true,
     "points": 1,
     "schema_version": 3,
     "solution": false,
     "task": false
    }
   },
   "outputs": [],
   "source": [
    "test_3.3()"
   ]
  },
  {
   "cell_type": "markdown",
   "metadata": {
    "deletable": false,
    "editable": false,
    "nbgrader": {
     "cell_type": "markdown",
     "checksum": "f87539c83d3a847fd5301661d8d012e5",
     "grade": false,
     "grade_id": "cell-6b8abdbff4f33676",
     "locked": true,
     "schema_version": 3,
     "solution": false,
     "task": false
    }
   },
   "source": [
    "**Question 3.4**\n",
    "<br>{points: 1}\n",
    "\n",
    "Out of the fourteen best models selected for each size by the *forward* subset algorithm and stored in `fat_forward_sel`, we will select the best one in terms of the *out-of-sample* prediction accuracy, estimated by the Mallow's $C_p$. \n",
    "\n",
    "Use the $C_p$ computed for each model, stored in `fat_bwd_summary_df`, to select the best predictive model and indicate which input variables are in the selected model.\n",
    "\n",
    "> **Heads up:** The most accurate model will have the smallest $C_p$. \n",
    "\n",
    "\n",
    "**A.** `age`.\n",
    "\n",
    "**B.** `weight`.\n",
    "\n",
    "**C.** `height`.\n",
    "\n",
    "**D.** `adipos`.\n",
    "\n",
    "**E.**  `neck`.\n",
    "\n",
    "**F.**  `chest`.\n",
    "\n",
    "**G.**  `abdom`.\n",
    "\n",
    "**H.**  `hip`.\n",
    "\n",
    "**I.**  `thigh`.\n",
    "\n",
    "**J.**  `knee`.\n",
    "\n",
    "**K.**  `ankle`.\n",
    "\n",
    "**L.**  `biceps`.\n",
    "\n",
    "**M.**  `forearm`.\n",
    "\n",
    "**N.**  `wrist`.\n",
    "\n",
    "*Assign your answers to the object `answer3.4`. Your answers have to be included in a single string indicating the correct options **in alphabetical order** and surrounded by quotes.*"
   ]
  },
  {
   "cell_type": "code",
   "execution_count": null,
   "metadata": {
    "deletable": false,
    "editable": false,
    "nbgrader": {
     "cell_type": "code",
     "checksum": "677294772d6de48dfdef5d4df872ffb1",
     "grade": false,
     "grade_id": "cell-49636409bed6aad7",
     "locked": true,
     "schema_version": 3,
     "solution": false,
     "task": false
    }
   },
   "outputs": [],
   "source": [
    "#Run this cell below before continuing.\n",
    "\n",
    "fat_fwd_summary_df\n",
    "summary(fat_forward_sel)"
   ]
  },
  {
   "cell_type": "code",
   "execution_count": null,
   "metadata": {
    "deletable": false,
    "nbgrader": {
     "cell_type": "code",
     "checksum": "139bfc36824f348e6eb73e077f95d6b9",
     "grade": false,
     "grade_id": "cell-93df75b1dbcf6f3d",
     "locked": false,
     "schema_version": 3,
     "solution": true,
     "task": false
    }
   },
   "outputs": [],
   "source": [
    "# answer3.4 <- \n",
    "\n",
    "# your code here\n",
    "fail() # No Answer - remove if you provide an answer"
   ]
  },
  {
   "cell_type": "code",
   "execution_count": null,
   "metadata": {
    "deletable": false,
    "editable": false,
    "nbgrader": {
     "cell_type": "code",
     "checksum": "cf35016348765430f9338511ded18144",
     "grade": true,
     "grade_id": "cell-cdaf675d0527f2a3",
     "locked": true,
     "points": 1,
     "schema_version": 3,
     "solution": false,
     "task": false
    }
   },
   "outputs": [],
   "source": [
    "test_3.4()"
   ]
  },
  {
   "cell_type": "markdown",
   "metadata": {
    "deletable": false,
    "editable": false,
    "nbgrader": {
     "cell_type": "markdown",
     "checksum": "d6058f45e494233150d82997097a882f",
     "grade": false,
     "grade_id": "cell-c2031cb142446eae",
     "locked": true,
     "schema_version": 3,
     "solution": false,
     "task": false
    }
   },
   "source": [
    "**Question 3.5**\n",
    "<br>{points: 1}\n",
    "\n",
    "Use the variables selected by the forward subset algorithm to build a *predictive* model. \n",
    "\n",
    "Train the predictive model using `lm()` and the `training_fat` data. Call it `fat_red_OLS_add`. \n",
    "\n",
    "> In your model, place variables in the **same order** as they are in `training_fat`. This is not statistically needed, it's only needed to autograde this question.\n",
    "\n",
    "*Fill out those parts indicated with `...`, uncomment the corresponding code in the cell below, and run it.*"
   ]
  },
  {
   "cell_type": "code",
   "execution_count": null,
   "metadata": {
    "deletable": false,
    "nbgrader": {
     "cell_type": "code",
     "checksum": "c8d07a46a0ab4d07d1e1039f1f5c04df",
     "grade": false,
     "grade_id": "cell-e3cdcbe990c76181",
     "locked": false,
     "schema_version": 3,
     "solution": true,
     "task": false
    }
   },
   "outputs": [],
   "source": [
    "# fat_red_OLS_add <- ...(...,\n",
    "#   ...\n",
    "# )\n",
    "\n",
    "# summary(fat_red_OLS_add)\n",
    "\n",
    "# your code here\n",
    "fail() # No Answer - remove if you provide an answer"
   ]
  },
  {
   "cell_type": "code",
   "execution_count": null,
   "metadata": {
    "deletable": false,
    "editable": false,
    "nbgrader": {
     "cell_type": "code",
     "checksum": "6805da3c966f3ffd47d972c29da10d73",
     "grade": true,
     "grade_id": "cell-4a43c5f1253ecd65",
     "locked": true,
     "points": 1,
     "schema_version": 3,
     "solution": false,
     "task": false
    }
   },
   "outputs": [],
   "source": [
    "test_3.5()"
   ]
  },
  {
   "cell_type": "markdown",
   "metadata": {
    "deletable": false,
    "editable": false,
    "nbgrader": {
     "cell_type": "markdown",
     "checksum": "20e226332f75c0c89eec355a75beae05",
     "grade": false,
     "grade_id": "cell-c10616960ed7f965",
     "locked": true,
     "schema_version": 3,
     "solution": false,
     "task": false
    }
   },
   "source": [
    "**Question 3.6**\n",
    "<br>{points: 1}\n",
    "\n",
    "Use the trained model `fat_red_OLS_add` to predict the responses of the test set `second_set_fat`, and call the resulting object `fat_test_pred_red_OLS_add`. \n",
    "\n",
    "> In your model, place variables in the **same order** as they are in `training_fat`.\n",
    "\n",
    "> **Hint:** Use function `predict()`.\n",
    "\n",
    "*Fill out those parts indicated with `...`, uncomment the corresponding code in the cell below, and run it.*"
   ]
  },
  {
   "cell_type": "code",
   "execution_count": null,
   "metadata": {
    "deletable": false,
    "nbgrader": {
     "cell_type": "code",
     "checksum": "2669af403e83f87d58cdfc64727cbcd0",
     "grade": false,
     "grade_id": "cell-652be4fb04a3d08f",
     "locked": false,
     "schema_version": 3,
     "solution": true,
     "task": false
    }
   },
   "outputs": [],
   "source": [
    "# fat_test_pred_red_OLS_add <- ...(..., ...)\n",
    "\n",
    "# your code here\n",
    "fail() # No Answer - remove if you provide an answer"
   ]
  },
  {
   "cell_type": "code",
   "execution_count": null,
   "metadata": {
    "deletable": false,
    "editable": false,
    "nbgrader": {
     "cell_type": "code",
     "checksum": "5aba511b9f6a798caf77077086e5f29d",
     "grade": true,
     "grade_id": "cell-1816fa077859ac09",
     "locked": true,
     "points": 1,
     "schema_version": 3,
     "solution": false,
     "task": false
    }
   },
   "outputs": [],
   "source": [
    "test_3.6()"
   ]
  },
  {
   "cell_type": "markdown",
   "metadata": {
    "deletable": false,
    "editable": false,
    "nbgrader": {
     "cell_type": "markdown",
     "checksum": "e2b58096a0ab6af1a0c437e093d0d8c8",
     "grade": false,
     "grade_id": "cell-eaea21affe2555ba",
     "locked": true,
     "schema_version": 3,
     "solution": false,
     "task": false
    }
   },
   "source": [
    "**Question 3.7**\n",
    "<br>{points: 1}\n",
    "\n",
    "Use the function `rmse()` to compute the RMSE of predicted brozek values of men in the test set stored in `fat_test_pred_red_OLS_add`. Add this metric as another row in the tibble `fat_R_MSE_models` with `\"OLS Reduced Regression\"` in the column `Model` and the corresponding $\\text{RMSE}_{\\text{test}}$ in column `R_MSE`.\n",
    "\n",
    "*Fill out those parts indicated with `...`, uncomment the corresponding code in the cell below, and run it.*"
   ]
  },
  {
   "cell_type": "code",
   "execution_count": null,
   "metadata": {
    "deletable": false,
    "nbgrader": {
     "cell_type": "code",
     "checksum": "0b3ea8aa441f0d99d8a40d5df760ba12",
     "grade": false,
     "grade_id": "cell-11bdeb07c5bf1b14",
     "locked": false,
     "schema_version": 3,
     "solution": true,
     "task": false
    }
   },
   "outputs": [],
   "source": [
    "# fat_R_MSE_models <- rbind(\n",
    "#   fat_R_MSE_models,\n",
    "#   tibble(\n",
    "#     Model = ...\n",
    "#     R_MSE = ...\n",
    "#     )\n",
    "#   )\n",
    "# fat_R_MSE_models\n",
    "\n",
    "# your code here\n",
    "fail() # No Answer - remove if you provide an answer"
   ]
  },
  {
   "cell_type": "code",
   "execution_count": null,
   "metadata": {
    "deletable": false,
    "editable": false,
    "nbgrader": {
     "cell_type": "code",
     "checksum": "899144e7177cca57909495bf6d7a4719",
     "grade": true,
     "grade_id": "cell-46381f5f719a7deb",
     "locked": true,
     "points": 1,
     "schema_version": 3,
     "solution": false,
     "task": false
    }
   },
   "outputs": [],
   "source": [
    "test_3.7()"
   ]
  },
  {
   "cell_type": "markdown",
   "metadata": {
    "deletable": false,
    "editable": false,
    "nbgrader": {
     "cell_type": "markdown",
     "checksum": "77dc33165cba71841a6f18b6b7b0c9e6",
     "grade": false,
     "grade_id": "cell-740283c4e701a459",
     "locked": true,
     "schema_version": 3,
     "solution": false,
     "task": false
    }
   },
   "source": [
    "**Question 3.8**\n",
    "<br>{points: 1}\n",
    "\n",
    "Based on your results in `fat_R_MSE_models`, which model has the best *out-of-sample* prediction performance?\n",
    "\n",
    "**A.** OLS Full Regression.\n",
    "\n",
    "**B.** OLS Reduced Regression.\n",
    "\n",
    "*Assign your answer to an object called `answer3.8`. Your answer should be one of `\"A\"` or `\"B\"` surrounded by quotes.*"
   ]
  },
  {
   "cell_type": "code",
   "execution_count": null,
   "metadata": {
    "deletable": false,
    "nbgrader": {
     "cell_type": "code",
     "checksum": "1e071ea26b8ea295715be62d3b776752",
     "grade": false,
     "grade_id": "cell-70eb6901ab1210b6",
     "locked": false,
     "schema_version": 3,
     "solution": true,
     "task": false
    }
   },
   "outputs": [],
   "source": [
    "# answer3.8 <- \n",
    "\n",
    "# your code here\n",
    "fail() # No Answer - remove if you provide an answer"
   ]
  },
  {
   "cell_type": "code",
   "execution_count": null,
   "metadata": {
    "deletable": false,
    "editable": false,
    "nbgrader": {
     "cell_type": "code",
     "checksum": "76252d8f815ee998e7c79374caeac71a",
     "grade": true,
     "grade_id": "cell-9c86e69e26271ed6",
     "locked": true,
     "points": 1,
     "schema_version": 3,
     "solution": false,
     "task": false
    }
   },
   "outputs": [],
   "source": [
    "test_3.8()"
   ]
  }
 ],
 "metadata": {
  "jupytext": {
   "formats": "ipynb,Rmd"
  },
  "kernelspec": {
   "display_name": "R",
   "language": "R",
   "name": "ir"
  },
  "language_info": {
   "codemirror_mode": "r",
   "file_extension": ".r",
   "mimetype": "text/x-r-source",
   "name": "R",
   "pygments_lexer": "r",
   "version": "4.1.3"
  },
  "latex_envs": {
   "LaTeX_envs_menu_present": true,
   "autoclose": false,
   "autocomplete": true,
   "bibliofile": "biblio.bib",
   "cite_by": "apalike",
   "current_citInitial": 1,
   "eqLabelWithNumbers": true,
   "eqNumInitial": 1,
   "hotkeys": {
    "equation": "Ctrl-E",
    "itemize": "Ctrl-I"
   },
   "labels_anchors": false,
   "latex_user_defs": false,
   "report_style_numbering": false,
   "user_envs_cfg": false
  }
 },
 "nbformat": 4,
 "nbformat_minor": 4
}
