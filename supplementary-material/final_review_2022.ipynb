{
 "cells": [
  {
   "cell_type": "markdown",
   "metadata": {},
   "source": [
    "\n"
   ]
  },
  {
   "cell_type": "markdown",
   "metadata": {},
   "source": [
    "# STAT 301: Final Review"
   ]
  },
  {
   "cell_type": "code",
   "execution_count": 1,
   "metadata": {
    "scrolled": false
   },
   "outputs": [
    {
     "name": "stderr",
     "output_type": "stream",
     "text": [
      "── \u001b[1mAttaching packages\u001b[22m ─────────────────────────────────────── tidyverse 1.3.2 ──\n",
      "\u001b[32m✔\u001b[39m \u001b[34mggplot2\u001b[39m 3.3.6      \u001b[32m✔\u001b[39m \u001b[34mpurrr  \u001b[39m 0.3.5 \n",
      "\u001b[32m✔\u001b[39m \u001b[34mtibble \u001b[39m 3.1.8      \u001b[32m✔\u001b[39m \u001b[34mdplyr  \u001b[39m 1.0.10\n",
      "\u001b[32m✔\u001b[39m \u001b[34mtidyr  \u001b[39m 1.2.1      \u001b[32m✔\u001b[39m \u001b[34mstringr\u001b[39m 1.4.1 \n",
      "\u001b[32m✔\u001b[39m \u001b[34mreadr  \u001b[39m 2.1.3      \u001b[32m✔\u001b[39m \u001b[34mforcats\u001b[39m 0.5.2 \n",
      "── \u001b[1mConflicts\u001b[22m ────────────────────────────────────────── tidyverse_conflicts() ──\n",
      "\u001b[31m✖\u001b[39m \u001b[34mdplyr\u001b[39m::\u001b[32mfilter()\u001b[39m masks \u001b[34mstats\u001b[39m::filter()\n",
      "\u001b[31m✖\u001b[39m \u001b[34mdplyr\u001b[39m::\u001b[32mlag()\u001b[39m    masks \u001b[34mstats\u001b[39m::lag()\n",
      "\n",
      "Attaching package: ‘mltools’\n",
      "\n",
      "\n",
      "The following object is masked from ‘package:tidyr’:\n",
      "\n",
      "    replace_na\n",
      "\n",
      "\n",
      "Loading required package: Matrix\n",
      "\n",
      "\n",
      "Attaching package: ‘Matrix’\n",
      "\n",
      "\n",
      "The following objects are masked from ‘package:tidyr’:\n",
      "\n",
      "    expand, pack, unpack\n",
      "\n",
      "\n",
      "Loaded glmnet 4.1-2\n",
      "\n"
     ]
    }
   ],
   "source": [
    "# The code will not be displayed in the quiz\n",
    "library(tidyverse, quietly = T)\n",
    "library(broom, quietly = T)\n",
    "library(mltools)\n",
    "library(leaps)\n",
    "library(glmnet)\n",
    "\n",
    "library(ISLR)\n",
    "dat <- College"
   ]
  },
  {
   "cell_type": "markdown",
   "metadata": {},
   "source": [
    "## Question 1\n",
    "\n",
    "A LASSO model fit with `lambda.min` has less input variables than the LASSO model fit with lambda.1se\n",
    "\n",
    "- T or F\n",
    "\n",
    "\n",
    "## Question 2\n",
    "\n",
    "We want to build a model to predict whether or not students would pass a given undergraduate course based on grades of pre-requisite courses, general GPA, and other variables related to study habits. Which of the following models would you recommend:\n",
    "\n",
    "- a Logistic regression\n",
    "\n",
    "- a Poisson regression\n",
    "\n",
    "- a Linear regression\n",
    "\n",
    "\n",
    "## Question 3\n",
    "\n",
    "Related to the previous problem, a LASSO regularized method is used to estimate the model while selecting the most important variables to predict. LASSO will select *all* variables that are statistically significant at 1% level. \n",
    "\n",
    "- T or F\n",
    "\n",
    "\n",
    "## Question 4\n",
    "\n",
    "We want to build an additive multiple linear regression (MLR) to understand the relation between the weigth of newborns and the length of the pregnancy (gestation period, days). We know that many demographic variables should be considered, including for example the smoking and drinking habits of the mother. Since many variables are categorical with more than 2 levels, we can't use many selection packages available in R. \n",
    "\n",
    "You plan to write code to correctly implement a forward selection algorithm to select variables for your analysis. Which measure can you use to choose the next variable to be added in the model?\n",
    "\n",
    "- an F-statistic\n",
    "\n",
    "- the RSS \n",
    "\n",
    "- the cross-validation test MSE\n",
    "\n",
    "- none of the above"
   ]
  },
  {
   "cell_type": "markdown",
   "metadata": {},
   "source": [
    "## Question 5\n",
    "\n",
    "Suppose we want to study the effect of smoking on the risk of getting a heart disease. A logistic regression is estimated using the following variables:\n",
    "\n",
    "`disease`: with values 0 if no and 1 if yes\n",
    "\n",
    "`smoking`: a categorical variable with levels `Y` if the patient smokes, `P` if the patient did smoke and quit, and `N` for never smoked\n",
    "\n",
    "The summary table obtained by `tidy` and argument `exponentiate = TRUE` shows an estimate of 1.46 for the term `smokingP` and 1.78 for `smokingY`. The corresponding p-values are below 0.05.\n",
    "\n",
    "Based on this results we conclude that:\n",
    "\n",
    "- (A) The current smoking group is 0.78 times more likely to have a heart disease than not to, compared to the non-smoking group.\n",
    "\n",
    "- (B) The current smoking group is 1.78 times more likely to have a heart disease than not to, compared to the non-smoking group.\n",
    "\n",
    "- (C) The current smoking group is 0.78 times more likely to have a heart disease than not to, compared to the former-smokers group."
   ]
  },
  {
   "cell_type": "markdown",
   "metadata": {},
   "source": [
    "## Question 6\n",
    "\n",
    "Suppose we want to study the effect of smoking on the risk of getting a heart disease. A logistic regression is estimated using the following variables:\n",
    "\n",
    "`disease`: with values 0 if no and 1 if yes\n",
    "\n",
    "`smoking`: a categorical variable with levels `Y` if the patient smokes, `P` if the patient did smoke and quit, and `N` for never smoked\n",
    "\n",
    "`weight`: a continuous variable\n",
    "\n",
    "\n",
    "| Coefficient | estimate|p.value|\n",
    "|------|------|------|\n",
    "|   Intercept  | -1.93|<0.001|\n",
    "|------|------|------|\n",
    "smokingY| 0.58|<0.001|\n",
    "|------|------|------|\n",
    "smokingP| 0.38|<0.001|\n",
    "|------|------|------|\n",
    "weight| 0.21|<0.001|\n",
    "\n",
    "Which of the following codes was used to fit the model summarized in the table:\n",
    "\n",
    "- `lm(weight ~ smoking)`\n",
    "\n",
    "- `lm(disease ~ smoking)`\n",
    "\n",
    "- `glm(disease ~ smoking)`\n",
    "\n",
    "- `glm(disease ~ smoking * weight)`\n",
    "\n",
    "- `glm(disease ~ smoking + weight)`\n",
    "\n",
    "- `glm(disease ~ smokingY + weight)`"
   ]
  },
  {
   "cell_type": "markdown",
   "metadata": {},
   "source": [
    "## Question 7\n",
    "\n",
    "You want to investigate factors that affect the number of applications received (`Apps`) by universities. Using the dataset `College` from ISLR, you study the relation of this response variable with the number of accepted applications (`Accept`, continuous variable) and the type of University (`Private`, categorical variable with 2 levels).  \n",
    "\n",
    "You fit an linear regression using `lm()` and obtain the following output results using the functions `tidy()` and `glance`, respectively:"
   ]
  },
  {
   "cell_type": "code",
   "execution_count": 2,
   "metadata": {},
   "outputs": [
    {
     "data": {
      "text/html": [
       "<table class=\"dataframe\">\n",
       "<caption>A tibble: 4 × 5</caption>\n",
       "<thead>\n",
       "\t<tr><th scope=col>term</th><th scope=col>estimate</th><th scope=col>std.error</th><th scope=col>statistic</th><th scope=col>p.value</th></tr>\n",
       "\t<tr><th scope=col>&lt;chr&gt;</th><th scope=col>&lt;dbl&gt;</th><th scope=col>&lt;dbl&gt;</th><th scope=col>&lt;dbl&gt;</th><th scope=col>&lt;dbl&gt;</th></tr>\n",
       "</thead>\n",
       "<tbody>\n",
       "\t<tr><td>(Intercept)      </td><td>-28.7028501</td><td>132.40598581</td><td>-0.2167791</td><td> 8.284377e-01</td></tr>\n",
       "\t<tr><td>Accept           </td><td>  1.4693034</td><td>  0.02529710</td><td>58.0818971</td><td>3.544189e-284</td></tr>\n",
       "\t<tr><td>PrivateYes       </td><td>-72.8622683</td><td>151.82962279</td><td>-0.4798949</td><td> 6.314379e-01</td></tr>\n",
       "\t<tr><td>Accept:PrivateYes</td><td>  0.1233214</td><td>  0.04672575</td><td> 2.6392589</td><td> 8.476124e-03</td></tr>\n",
       "</tbody>\n",
       "</table>\n"
      ],
      "text/latex": [
       "A tibble: 4 × 5\n",
       "\\begin{tabular}{lllll}\n",
       " term & estimate & std.error & statistic & p.value\\\\\n",
       " <chr> & <dbl> & <dbl> & <dbl> & <dbl>\\\\\n",
       "\\hline\n",
       "\t (Intercept)       & -28.7028501 & 132.40598581 & -0.2167791 &  8.284377e-01\\\\\n",
       "\t Accept            &   1.4693034 &   0.02529710 & 58.0818971 & 3.544189e-284\\\\\n",
       "\t PrivateYes        & -72.8622683 & 151.82962279 & -0.4798949 &  6.314379e-01\\\\\n",
       "\t Accept:PrivateYes &   0.1233214 &   0.04672575 &  2.6392589 &  8.476124e-03\\\\\n",
       "\\end{tabular}\n"
      ],
      "text/markdown": [
       "\n",
       "A tibble: 4 × 5\n",
       "\n",
       "| term &lt;chr&gt; | estimate &lt;dbl&gt; | std.error &lt;dbl&gt; | statistic &lt;dbl&gt; | p.value &lt;dbl&gt; |\n",
       "|---|---|---|---|---|\n",
       "| (Intercept)       | -28.7028501 | 132.40598581 | -0.2167791 |  8.284377e-01 |\n",
       "| Accept            |   1.4693034 |   0.02529710 | 58.0818971 | 3.544189e-284 |\n",
       "| PrivateYes        | -72.8622683 | 151.82962279 | -0.4798949 |  6.314379e-01 |\n",
       "| Accept:PrivateYes |   0.1233214 |   0.04672575 |  2.6392589 |  8.476124e-03 |\n",
       "\n"
      ],
      "text/plain": [
       "  term              estimate    std.error    statistic  p.value      \n",
       "1 (Intercept)       -28.7028501 132.40598581 -0.2167791  8.284377e-01\n",
       "2 Accept              1.4693034   0.02529710 58.0818971 3.544189e-284\n",
       "3 PrivateYes        -72.8622683 151.82962279 -0.4798949  6.314379e-01\n",
       "4 Accept:PrivateYes   0.1233214   0.04672575  2.6392589  8.476124e-03"
      ]
     },
     "metadata": {},
     "output_type": "display_data"
    },
    {
     "data": {
      "text/html": [
       "<table class=\"dataframe\">\n",
       "<caption>A tibble: 1 × 12</caption>\n",
       "<thead>\n",
       "\t<tr><th scope=col>r.squared</th><th scope=col>adj.r.squared</th><th scope=col>sigma</th><th scope=col>statistic</th><th scope=col>p.value</th><th scope=col>df</th><th scope=col>logLik</th><th scope=col>AIC</th><th scope=col>BIC</th><th scope=col>deviance</th><th scope=col>df.residual</th><th scope=col>nobs</th></tr>\n",
       "\t<tr><th scope=col>&lt;dbl&gt;</th><th scope=col>&lt;dbl&gt;</th><th scope=col>&lt;dbl&gt;</th><th scope=col>&lt;dbl&gt;</th><th scope=col>&lt;dbl&gt;</th><th scope=col>&lt;dbl&gt;</th><th scope=col>&lt;dbl&gt;</th><th scope=col>&lt;dbl&gt;</th><th scope=col>&lt;dbl&gt;</th><th scope=col>&lt;dbl&gt;</th><th scope=col>&lt;int&gt;</th><th scope=col>&lt;int&gt;</th></tr>\n",
       "</thead>\n",
       "<tbody>\n",
       "\t<tr><td>0.8914199</td><td>0.8909985</td><td>1277.762</td><td>2115.389</td><td>0</td><td>3</td><td>-6658.286</td><td>13326.57</td><td>13349.85</td><td>1262057689</td><td>773</td><td>777</td></tr>\n",
       "</tbody>\n",
       "</table>\n"
      ],
      "text/latex": [
       "A tibble: 1 × 12\n",
       "\\begin{tabular}{llllllllllll}\n",
       " r.squared & adj.r.squared & sigma & statistic & p.value & df & logLik & AIC & BIC & deviance & df.residual & nobs\\\\\n",
       " <dbl> & <dbl> & <dbl> & <dbl> & <dbl> & <dbl> & <dbl> & <dbl> & <dbl> & <dbl> & <int> & <int>\\\\\n",
       "\\hline\n",
       "\t 0.8914199 & 0.8909985 & 1277.762 & 2115.389 & 0 & 3 & -6658.286 & 13326.57 & 13349.85 & 1262057689 & 773 & 777\\\\\n",
       "\\end{tabular}\n"
      ],
      "text/markdown": [
       "\n",
       "A tibble: 1 × 12\n",
       "\n",
       "| r.squared &lt;dbl&gt; | adj.r.squared &lt;dbl&gt; | sigma &lt;dbl&gt; | statistic &lt;dbl&gt; | p.value &lt;dbl&gt; | df &lt;dbl&gt; | logLik &lt;dbl&gt; | AIC &lt;dbl&gt; | BIC &lt;dbl&gt; | deviance &lt;dbl&gt; | df.residual &lt;int&gt; | nobs &lt;int&gt; |\n",
       "|---|---|---|---|---|---|---|---|---|---|---|---|\n",
       "| 0.8914199 | 0.8909985 | 1277.762 | 2115.389 | 0 | 3 | -6658.286 | 13326.57 | 13349.85 | 1262057689 | 773 | 777 |\n",
       "\n"
      ],
      "text/plain": [
       "  r.squared adj.r.squared sigma    statistic p.value df logLik    AIC     \n",
       "1 0.8914199 0.8909985     1277.762 2115.389  0       3  -6658.286 13326.57\n",
       "  BIC      deviance   df.residual nobs\n",
       "1 13349.85 1262057689 773         777 "
      ]
     },
     "metadata": {},
     "output_type": "display_data"
    }
   ],
   "source": [
    "# The code will not be displayed in the quiz\n",
    "\n",
    "lm_college_int <- lm(Apps ~ Accept * Private, data = dat)\n",
    "tidy(lm_college_int)\n",
    "\n",
    "glance(lm_college_int)"
   ]
  },
  {
   "cell_type": "markdown",
   "metadata": {
    "tags": []
   },
   "source": [
    "**Question 7.1**\n",
    "\n",
    "You believe that this model is too complex and that the number of applications received (Apps) by universities depends *only* on the number of accepted applications (Accept). Which of the following results can be used to decide:\n",
    "\n",
    "- (A) the `p.value` given by `tidy` and equal to 3.544189e-284\n",
    "\n",
    "- (B) the `p.value` given by `tidy` and equal to 8.476124e-03\n",
    "\n",
    "- (C) the `p.value` given by `glance` and equal to 0\n",
    "\n",
    "- (D) the `r.squared` given by `glance` and equal to 0.8914199\n",
    "\n",
    "- (E) the `adj.r.squared` given by `glance` and equal to 0.8909985\n",
    "\n",
    "- (F) none of the above, we need the `r.squared` of `lm(Apps ~ Accept, data=College)` to compare with 0.8914199\n",
    "\n",
    "- (G) none of the above, we need the `adj.r.squared` of `lm(Apps ~ Accept, data=College)` to compare with 0.8909985\n",
    "\n",
    "- (H) none of the above\n",
    "\n",
    "\n",
    "**Question 7.2**\n",
    "\n",
    "We want to compare the additive model `lm(Apps ~ Accept + Private, data=College)` with the given model. Which of the following results can you use: \n",
    "\n",
    "- (A) the `p.value` given by `tidy` and equal to 3.544189e-284\n",
    "\n",
    "- (B) the `p.value` given by `tidy` and equal to 8.476124e-03\n",
    "\n",
    "- (C) the `p.value` given by `glance` and equal to 0\n",
    "\n",
    "- (D) the `r.squared` given by `glance` and equal to 0.8914199\n",
    "\n",
    "- (E) the `adj.r.squared` given by `glance` and equal to 0.8909985\n",
    "\n",
    "- (F) none of the above, we need the `r.squared` of `lm(Apps ~ Accept, data=College)` to compare with 0.8914199\n",
    "\n",
    "- (G) none of the above, we need the `adj.r.squared` of `lm(Apps ~ Accept, data=College)` to compare with 0.8909985\n",
    "\n",
    "- (H) none of the above"
   ]
  },
  {
   "cell_type": "markdown",
   "metadata": {},
   "source": [
    "## Question 8\n",
    "\n",
    "A hospital is planning to investigate whether a new exercise routine can reduce the recover time of patients who underwent a knee surgery. A group of researchers will organize a randomized experiment assigning the new routine to 100 of the patients and the current routine to other 100 patients.  \n",
    "\n",
    "The hospital decides to check the results every day after the patients finish their daily routine. \n",
    "\n",
    "The researchers want to examine the results of the interim tests after using an adjustment but they are unsure if using a Bonferroni's method will be more beneficial than a Pocock's method. Which of the following claims is correct:\n",
    "\n",
    "- (A) While both methods will control the type I error rate, Bonferroni will result in a greater loss of power since the test will be very conservative when conducting 30 interim tests. I recommend Pocock's method\n",
    "\n",
    "- (B) I recommend Pocock's because Bonferroni's method is not suitable for dependent tests\n",
    "\n",
    "- (C) I recommend Bonferroni's because Pocock's method gives us the same critical value for each experiment\n",
    "\n",
    "- (D) I recommend the Bonferroni's method because it is more conservative, we can adjust the significance level to control the type I error."
   ]
  }
 ],
 "metadata": {
  "anaconda-cloud": "",
  "kernelspec": {
   "display_name": "R",
   "language": "R",
   "name": "ir"
  },
  "language_info": {
   "codemirror_mode": "r",
   "file_extension": ".r",
   "mimetype": "text/x-r-source",
   "name": "R",
   "pygments_lexer": "r",
   "version": "4.1.3"
  }
 },
 "nbformat": 4,
 "nbformat_minor": 4
}
