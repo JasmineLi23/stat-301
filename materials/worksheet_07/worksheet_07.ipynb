{
 "cells": [
  {
   "cell_type": "markdown",
   "metadata": {
    "deletable": false,
    "editable": false,
    "nbgrader": {
     "cell_type": "markdown",
     "checksum": "32a95fc7dd24d9e80a38f71eb7348506",
     "grade": false,
     "grade_id": "cell-f1e1d845873036f4",
     "locked": true,
     "schema_version": 3,
     "solution": false,
     "task": false
    }
   },
   "source": [
    "# Worksheet 7: Model Evaluation and Model Selection"
   ]
  },
  {
   "cell_type": "markdown",
   "metadata": {
    "deletable": false,
    "editable": false,
    "nbgrader": {
     "cell_type": "markdown",
     "checksum": "4f368f4a802e15bd991322bf16951c73",
     "grade": false,
     "grade_id": "cell-82d9926086d47a80",
     "locked": true,
     "schema_version": 3,
     "solution": false,
     "task": false
    }
   },
   "source": [
    "#### Lecture and Tutorial Learning Goals:\n",
    "After completing this week's lecture and tutorial work, you will be able to:\n",
    "\n",
    "1. List model metrics that are suitable for evaluation of a statistical model developed to make inference about the data-generating mechanism (e.g., $R^2$, $\\text{AIC}$, Likelihood ratio test/$F$-test), their strengths and limitations, as well as how they are calculated.\n",
    "2. Write a computer script to calculate these model metrics. Interpret and communicate the results from that computer script.\n",
    "3. Explain the algorithms for the following variable selection methods:\n",
    "\n",
    "    - $F$-test to compare nested models.\n",
    "    - Forward selection.\n",
    "    - Backward selection."
   ]
  },
  {
   "cell_type": "code",
   "execution_count": null,
   "metadata": {
    "deletable": false,
    "editable": false,
    "nbgrader": {
     "cell_type": "code",
     "checksum": "3c61d0a980b1a0ea26c957b76ba5de6c",
     "grade": false,
     "grade_id": "cell-a2a153352bc44a68",
     "locked": true,
     "schema_version": 3,
     "solution": false,
     "task": false
    }
   },
   "outputs": [],
   "source": [
    "# Run this cell before continuing.\n",
    "library(tidyverse)\n",
    "library(repr)\n",
    "library(broom)\n",
    "library(leaps)\n",
    "library(latex2exp)\n",
    "source(\"tests_worksheet_07.R\")"
   ]
  },
  {
   "cell_type": "markdown",
   "metadata": {
    "deletable": false,
    "editable": false,
    "nbgrader": {
     "cell_type": "markdown",
     "checksum": "10b3a594cc13771972e6446fe2a6b48f",
     "grade": false,
     "grade_id": "cell-30d72e348848492c",
     "locked": true,
     "schema_version": 3,
     "solution": false,
     "task": false
    }
   },
   "source": [
    "# PART I: Model Evaluation"
   ]
  },
  {
   "cell_type": "markdown",
   "metadata": {
    "deletable": false,
    "editable": false,
    "nbgrader": {
     "cell_type": "markdown",
     "checksum": "fcf379b2b0bbf228d5a57f0aab93b03a",
     "grade": false,
     "grade_id": "cell-459184ff51dbea84",
     "locked": true,
     "schema_version": 3,
     "solution": false,
     "task": false
    }
   },
   "source": [
    "## Inference vs Predition\n",
    "\n",
    "To assess or select a model there is a more essential question to answer: \n",
    "    \n",
    "### <font color=red>  What is your goal??\n",
    "    \n",
    "The evaluation metrics are different depending on the goal of the analysis\n",
    "    \n",
    "> the estimation methodologies can also differ although we cover only LS in the course\n",
    "    \n",
    "- **Inference**: your primary goal is to understand the relation between a response variable $Y$ and a set of input variables $X_1, \\ldots, X_p$ \n",
    "    \n",
    "    > you estimate the LR using a sample to understand how variables are associated (in the population)\n",
    "    \n",
    "    > you use methods to draw conclusions about the population from the results obtained in the sample (inference)\n",
    "    \n",
    "- **Prediction**: your primary goal is to make predictions about the response $Y$, and you are not so concerned about how you got those predictions\n",
    "    \n",
    "    > you estimate the LR using a sample to make predictions of the response for *new* units (houses, subjects, counties, etc) from the population\n",
    "    \n",
    "    \n",
    "**Examples of inference problems**: \n",
    "    \n",
    "- A real estate agent wants to identify factors that are related to the assessed values of homes (e.g., size of houses, age, amenities, etc) \n",
    "    \n",
    "    \n",
    "- Biologists want to verify empirically the central dogma of biology that relates mRNA to protein values \n",
    "    \n",
    "    \n",
    "**Examples of prediction problems**: \n",
    "    \n",
    "\n",
    "- A real estate agent is interested in determining if a house is under- or over-valued given its characteristics (prediction problem)\n",
    "\n",
    "\n",
    "- Biologists want to use mRNA data to predict protein values\n",
    "    \n",
    "**In this worksheet you will learn different methods to evaluate and select appropriate models depending on the goal of your study.**"
   ]
  },
  {
   "cell_type": "markdown",
   "metadata": {
    "deletable": false,
    "editable": false,
    "nbgrader": {
     "cell_type": "markdown",
     "checksum": "8aa52ce55d24121c68879699ee8acc16",
     "grade": false,
     "grade_id": "cell-9be71f65643c5906",
     "locked": true,
     "schema_version": 3,
     "solution": false,
     "task": false
    }
   },
   "source": [
    "## Case Study: protein vs mRNA\n",
    "\n",
    "In this section we will introduce a new case study to learn how to examine the goodness of the fitted model and choose among different nested models. The data and some of the discussions related to this case were published in Nature (see citations below).\n",
    "\n",
    "In 2014, a research group claimed to find a \"predictive model\", which can be used to predict protein from mRNA expression!! \n",
    "\n",
    "> Wilhelm, M. et al. Mass-spectrometry-based draft of the human proteome. Nature 509, 582–587 (2014)\n",
    "\n",
    "Although their hypotheses were funded in the Central Dogma of Biology, most experimental results have shown very low correlation values between protein and mRNA values. \n",
    "\n",
    "Further examination of their analysis has shwon that their data do not support their claims:\n",
    "\n",
    "> Paper from my research group: Fortelny N, Overall CM, Pavlidis P, Freue GVC. Can we predict protein from mRNA levels? Nature. 2017 Jul 26;547(7664):E19-E20. doi: 10.1038/nature22293.\n",
    "\n",
    "We'll use data from this group submitted to the Journal to (re)analyse their data and evalute different models using concepts learned in this course."
   ]
  },
  {
   "cell_type": "markdown",
   "metadata": {
    "deletable": false,
    "editable": false,
    "nbgrader": {
     "cell_type": "markdown",
     "checksum": "ed6a052e266e0983d0702aa279f559af",
     "grade": false,
     "grade_id": "cell-c2f2ad804e83a969",
     "locked": true,
     "schema_version": 3,
     "solution": false,
     "task": false
    }
   },
   "source": [
    "### Relation between mRNA and protein levels\n",
    "\n",
    "The picture illustrates what is known as the Central Dogma of Biology\n",
    "\n",
    "![](https://github.com/UBC-STAT/stat-301/blob/master/materials/worksheet_07/img/prot_gene.png?raw=true)"
   ]
  },
  {
   "cell_type": "markdown",
   "metadata": {
    "deletable": false,
    "editable": false,
    "nbgrader": {
     "cell_type": "markdown",
     "checksum": "5d85b1f784e218f69d7d2cdc946f8b48",
     "grade": false,
     "grade_id": "cell-b5104ce4905d3cf2",
     "locked": true,
     "schema_version": 3,
     "solution": false,
     "task": false
    }
   },
   "source": [
    "Let's start by taking a glance at the data.\n",
    "\n",
    "> Protein and mRNA values were measured for 6104 genes on 12 different tissues. \n",
    "\n",
    "Note that these are 2 different dataset!! \n",
    "\n",
    "> However, many proteins were not detected by the technology used due to values below limits of detection and the protein dataset contains many missing values!! \n",
    "\n",
    "For simplicity, we will use **a set of 1392 genes** that were measured in **all 12 tissues** and thus contain complete data on both protein and mRNA sets. \n",
    "\n",
    "You can find in Canvas the script that was used to wrangle the original datases from the Journal.\n",
    "\n",
    "*Run the cell below before continuing to read in the data.* "
   ]
  },
  {
   "cell_type": "code",
   "execution_count": null,
   "metadata": {
    "deletable": false,
    "editable": false,
    "nbgrader": {
     "cell_type": "code",
     "checksum": "292b5084366a95ec55f6d34ab90c9e36",
     "grade": false,
     "grade_id": "cell-c3a6eba286971086",
     "locked": true,
     "schema_version": 3,
     "solution": false,
     "task": false
    }
   },
   "outputs": [],
   "source": [
    "# Read and take a look at the data.\n",
    "dat_bio <- read.csv(\"data/nature_dat.csv\", row.names = 1, stringsAsFactors=TRUE)\n",
    "str(dat_bio)\n",
    "head(dat_bio,3)\n",
    "tail(dat_bio,3)"
   ]
  },
  {
   "cell_type": "markdown",
   "metadata": {
    "deletable": false,
    "editable": false,
    "nbgrader": {
     "cell_type": "markdown",
     "checksum": "b7b12de11ebaa08c1937216b46eb6161",
     "grade": false,
     "grade_id": "cell-e6b7bf58e2eb7a77",
     "locked": true,
     "schema_version": 3,
     "solution": false,
     "task": false
    }
   },
   "source": [
    "We can think that we have **1392 datasets**, one for each gene!\n",
    "\n",
    "> each dataset contains **12 observations**, one per tissue, and 2 variables, `protein` and `mrna`, along with an accession number for the gene (`gene`, an ID for each gene) and the name of the tissue (`tissue`, that works as an ID for each observation).\n",
    "\n",
    "*Run the cell below to get the data for gene ENSG00000085733.* "
   ]
  },
  {
   "cell_type": "code",
   "execution_count": null,
   "metadata": {
    "deletable": false,
    "editable": false,
    "nbgrader": {
     "cell_type": "code",
     "checksum": "bf5dee3bbe3e67d9d75662860993f7f8",
     "grade": false,
     "grade_id": "cell-28e85de12a1890ed",
     "locked": true,
     "schema_version": 3,
     "solution": false,
     "task": false
    }
   },
   "outputs": [],
   "source": [
    "dat_g1 <- dat_bio  %>% subset(gene == \"ENSG00000085733\") \n",
    "dat_g1"
   ]
  },
  {
   "cell_type": "markdown",
   "metadata": {
    "deletable": false,
    "editable": false,
    "nbgrader": {
     "cell_type": "markdown",
     "checksum": "59bd63f6a13f7b497095d41a4b9f07de",
     "grade": false,
     "grade_id": "cell-4135e761a8664bad",
     "locked": true,
     "schema_version": 3,
     "solution": false,
     "task": false
    }
   },
   "source": [
    "## 1.Estimation and Inference\n",
    "\n",
    "In the paper, the authors used a linear regression to estimate the relation between protein and mRNA levels *per gene*, and used that model to predict protein levels *per gene*.\n",
    "\n",
    "> it will be important at a later phase of the analysis to note that models are *gene-specific*\n",
    "\n",
    "**Gene-specific models**: for each gene they estimated the following model (for simplicity we do not use a subscript $g$)  \n",
    "\n",
    "$$\\text{prot}_{t} = \\beta_1 \\; \\times \\text{mrna}_{t} + \\varepsilon$$ \n",
    "\n",
    "where $\\hat{\\beta}_1 = median_t(\\text{mrna}_{t}/\\text{prot}_{t})$\n",
    "\n",
    "> $prot_{t}$ and $mrna_{t}$ are the protein and mRNA levels of a gene $g$ in tissue $t$, respectively\n",
    "\n",
    "<font color=\"blue\"> **Note that these models do not contain an intercept! and they were not estimated by LS.**</font> \n",
    "    \n",
    "While in general different models and estimation methods can be used to analyze the same data, it is important to evaluate the results according to the assumptions and the methodology used. \n",
    "    \n",
    "> The evaluation and interpretation of the results in the paper were not appropriate\n",
    "    \n",
    "*We will start by (re)anlayzing the data using a SLR and LS estimation*"
   ]
  },
  {
   "cell_type": "markdown",
   "metadata": {
    "deletable": false,
    "editable": false,
    "nbgrader": {
     "cell_type": "markdown",
     "checksum": "f7135709cbc843de1755531afb992c59",
     "grade": false,
     "grade_id": "cell-f76d01efb9d4c744",
     "locked": true,
     "schema_version": 3,
     "solution": false,
     "task": false
    }
   },
   "source": [
    "**Gene-specific SLR**: for each gene we will use LS to estimate the following SLR (for simplicity we do not use a subscript $g$)  \n",
    "\n",
    "$$prot_{t} = \\beta_0 +\\beta_1 \\; \\times mrna_{t} + \\varepsilon$$ \n",
    "\n",
    "where $\\hat{\\beta}_g$ is estimated by LS\n",
    "\n",
    "> using `lm()` and `group_by(gene)`"
   ]
  },
  {
   "cell_type": "markdown",
   "metadata": {
    "deletable": false,
    "editable": false,
    "nbgrader": {
     "cell_type": "markdown",
     "checksum": "ee0090326cf928841f3fc24af0202259",
     "grade": false,
     "grade_id": "cell-b8733fe0b705dbdb",
     "locked": true,
     "schema_version": 3,
     "solution": false,
     "task": false
    }
   },
   "source": [
    "### 1.1 Visualization and Estimation:\n",
    "\n",
    "Let's focus on the proposed model for one gene (geneID: ENSG00000085733)"
   ]
  },
  {
   "cell_type": "code",
   "execution_count": null,
   "metadata": {
    "deletable": false,
    "editable": false,
    "nbgrader": {
     "cell_type": "code",
     "checksum": "8770f899663a60e901796753df968373",
     "grade": false,
     "grade_id": "cell-52582d5c438817c2",
     "locked": true,
     "schema_version": 3,
     "solution": false,
     "task": false
    }
   },
   "outputs": [],
   "source": [
    "options(repr.plot.width = 6, repr.plot.height = 3) # Adjust these numbers so the plot looks good in your desktop.\n",
    "\n",
    "plot_g1 <- dat_g1 %>% ggplot(aes(mrna,prot)) +\n",
    "                ylab(\"protein\")+\n",
    "                geom_point() + geom_smooth(aes(mrna,prot), method = lm, se = FALSE, size = 1.2, color=\"red\")\n",
    "\n",
    "plot_g1"
   ]
  },
  {
   "cell_type": "markdown",
   "metadata": {
    "deletable": false,
    "editable": false,
    "nbgrader": {
     "cell_type": "markdown",
     "checksum": "da5f69f067866730767d7b1f3161d77b",
     "grade": false,
     "grade_id": "cell-4166dc30d7557b4f",
     "locked": true,
     "schema_version": 3,
     "solution": false,
     "task": false
    }
   },
   "source": [
    "We can get results from the LS estimates and corresponding tests for this particular gene:\n",
    "\n",
    "> remember that this is *only 1* gene in the dataset but there are 1391 more genes!!"
   ]
  },
  {
   "cell_type": "code",
   "execution_count": null,
   "metadata": {
    "deletable": false,
    "editable": false,
    "nbgrader": {
     "cell_type": "code",
     "checksum": "0e02dabea52bd92e40e43cf527784157",
     "grade": false,
     "grade_id": "cell-c05f3277a48ee808",
     "locked": true,
     "schema_version": 3,
     "solution": false,
     "task": false
    }
   },
   "outputs": [],
   "source": [
    "slr_g1 <- lm(prot ~ mrna,data=dat_g1)\n",
    "tidy(slr_g1)"
   ]
  },
  {
   "cell_type": "markdown",
   "metadata": {
    "deletable": false,
    "editable": false,
    "nbgrader": {
     "cell_type": "markdown",
     "checksum": "667960c7aefc4e3c01c515797cd601e8",
     "grade": false,
     "grade_id": "cell-95546104fe6954ec",
     "locked": true,
     "schema_version": 3,
     "solution": false,
     "task": false
    }
   },
   "source": [
    "### 1.2 Predicted values and Residuals\n",
    "\n",
    "#### The predicted values:\n",
    "\n",
    "The blue dot, <font color=\"blue\"> $\\hat{Y}$ </font> in the line, is the *predicted* protein level for a given amount of mRNA in this gene, predicted by our estimated model! \n",
    "\n",
    "> In `R` output all predicted values are stored in the column `.fitted`. \n",
    "\n",
    "$$\\hat{y}_i = \\hat{\\beta}_0 +  \\hat{\\beta}_1 * x_{i}$$\n",
    "\n",
    "In our case:\n",
    "\n",
    "$$ \\hat{\\text{prot}}_{t} = 6.33e-06 + 0.02 * \\text{mrna}_{t}$$\n",
    "\n",
    "> we put a \"hat\" on $y$ to indicate that it's a predicted value using the estimated regression \n",
    "\n",
    "> NOTE: there's no error term in the predicted model!\n",
    "\n",
    "The predictions $\\hat{Y}_i$ are random variables since they are functions of the estimators of the coefficients. \n",
    "\n",
    "> we can estimate their standard error and CI!!\n",
    "\n",
    "But once we get a value based on an observed sample, they become a non-random real number. *Deja vu??*"
   ]
  },
  {
   "cell_type": "markdown",
   "metadata": {
    "deletable": false,
    "editable": false,
    "nbgrader": {
     "cell_type": "markdown",
     "checksum": "aa8aa72e21561d1ac4962851907052ab",
     "grade": false,
     "grade_id": "cell-7b34958a1cbb9bad",
     "locked": true,
     "schema_version": 3,
     "solution": false,
     "task": false
    }
   },
   "source": [
    "#### The residuals:\n",
    "\n",
    "The *residual* is the difference between the predicted and the observed value of the response\n",
    "\n",
    "> In `R` output all predicted values are stored in the column `.resid`. \n",
    "\n",
    "\n",
    "$$ \\text{res}_i = y_{i}-\\hat{y}_{i}$$\n",
    "\n",
    "In our case:\n",
    "\n",
    "$$ \\text{res}_t=\\text{prot}_{t}-\\hat{\\text{prot}}_{t}$$\n",
    "\n",
    "> **Note**: $\\varepsilon_i \\ne \\text{res}_i$\n",
    "\n",
    "The residuals are the errors of the prediction and estimates of the error terms in the regression."
   ]
  },
  {
   "cell_type": "code",
   "execution_count": null,
   "metadata": {
    "deletable": false,
    "editable": false,
    "nbgrader": {
     "cell_type": "code",
     "checksum": "a6ce8ef6e6926a45b1972aba7120794e",
     "grade": false,
     "grade_id": "cell-a1e79445b6d7a877",
     "locked": true,
     "schema_version": 3,
     "solution": false,
     "task": false
    }
   },
   "outputs": [],
   "source": [
    "dat_g1 <- dat_g1 %>% do(augment(slr_g1))\n",
    "dat_g1"
   ]
  },
  {
   "cell_type": "code",
   "execution_count": null,
   "metadata": {
    "deletable": false,
    "editable": false,
    "nbgrader": {
     "cell_type": "code",
     "checksum": "4da67c66fb0504c354bfbda3e0d5730f",
     "grade": false,
     "grade_id": "cell-1d143f9099847c9f",
     "locked": true,
     "schema_version": 3,
     "solution": false,
     "task": false
    }
   },
   "outputs": [],
   "source": [
    "#one particular point in the data to illustrate new concepts\n",
    "dat_g1_0 <- dat_g1[10,]\n",
    "\n",
    "plot_g1 <- dat_g1 %>% \n",
    "    ggplot(aes(mrna,prot)) +\n",
    "    geom_point() + \n",
    "    geom_smooth(aes(mrna,prot), method = lm, se = FALSE, size = 1.2, color=\"red\")+\n",
    "    geom_point(aes(x = dat_g1_0$mrna, y = dat_g1_0$.fitted), \n",
    "               color=\"blue\", size=3)+\n",
    "    geom_text(aes(x=dat_g1_0$mrna + 3.7*10^(-6),y=dat_g1_0$.fitted - 5*10^(-6),\n",
    "                  label=TeX(r\"($\\hat{y}_i$)\", output = \"character\")), \n",
    "                  color=\"blue\", size=5,parse = TRUE)+\n",
    "    geom_text(aes(x=dat_g1_0$mrna + 2.5*10^(-6),y=dat_g1_0$prot+ 5*10^(-6),\n",
    "                  label=TeX(r\"($y_i$)\", output = \"character\")), size=5,parse = TRUE)+\n",
    "    geom_segment(x=dat_g1_0$mrna, y=dat_g1_0$.fitted,\n",
    "                 xend=dat_g1_0$mrna,yend=dat_g1_0$prot, \n",
    "                 linetype=\"dotted\",color=\"brown\")+\n",
    "    geom_text(aes(x=dat_g1_0$mrna + 3.7*10^(-6),y=dat_g1_0$prot - 10^(-5),\n",
    "                  label=TeX(r\"(res$_i$)\", output = \"character\")), \n",
    "                  color=\"brown\", size=5,parse = TRUE)+\n",
    "    ylab(\"protein\")\n",
    "    \n",
    "plot_g1"
   ]
  },
  {
   "cell_type": "markdown",
   "metadata": {
    "deletable": false,
    "editable": false,
    "nbgrader": {
     "cell_type": "markdown",
     "checksum": "865a6a6c78ce0df1d9a0d62398ce8784",
     "grade": false,
     "grade_id": "cell-c99faa80e472321f",
     "locked": true,
     "schema_version": 3,
     "solution": false,
     "task": false
    }
   },
   "source": [
    "### 1.3 Goodness of fit: is our model better than \"nothing\"?\n",
    "\n",
    "We are now ready to evaluate the fit of our model to the observed data.\n",
    "\n",
    "Without any additional information, the best predictor of the response $Y$ is $E[Y]$ which we can estimate with the sample mean of $Y$ ...\n",
    "\n",
    "> \"nothing\" means no explanatory variables, intercept-only model\n",
    "\n",
    "<font color=\"blue\"> so why do we need a LR?? </font>\n",
    "\n",
    "**Because, given the (additional) information** in $\\mathbf{X}$, the \"best\" predictor is $E[Y|\\mathbf{X}]$ which we can model as a LR to estimate it!! \n",
    "\n",
    "> \"best\" according to a criteria: minimizes the mean square error!\n",
    "\n",
    "> Note that there are different ways of estimating this conditional expectation!\n",
    "\n",
    "So, here is an important question: \n",
    "\n",
    "> Is our linear regression better than just using $E[Y]$ to predict??\n",
    "\n",
    "**Statistically, we want to compare our prediction <font color=\"blue\"> $\\hat{Y}$ </font> (the best estimate of $E[Y|\\mathbf{X}]$) with <font color=\"red\"> $\\bar{Y}$ </font> (the best estimate of $E[Y]$)** (note that font colors match the plots below).\n",
    "\n",
    "Let's represent the errors of these 2 predictors with squares of their errors since in LS we want to minimize the sum of the squares of these errors. \n",
    "\n",
    "**Visually**:\n",
    "\n",
    "![](https://upload.wikimedia.org/wikipedia/commons/thumb/8/86/Coefficient_of_Determination.svg/800px-Coefficient_of_Determination.svg.png)"
   ]
  },
  {
   "cell_type": "markdown",
   "metadata": {
    "deletable": false,
    "editable": false,
    "nbgrader": {
     "cell_type": "markdown",
     "checksum": "d52f5b9c91ad6ee29fb133483ee5ce25",
     "grade": false,
     "grade_id": "cell-4c35b7548cf84ac3",
     "locked": true,
     "schema_version": 3,
     "solution": false,
     "task": false
    }
   },
   "source": [
    "**Mathematically**:\n",
    "\n",
    "#### 1.3.1 Sum of squares decomposition\n",
    "\n",
    "<font color=\"blue\"> If parameters are estimated using LS and the LR has an intercept</font>, it can be proved that \n",
    "\n",
    "$$\\sum_{i=1}^n(y_i-\\bar{y})^2 = \\sum_{i=1}^n(\\hat{y}_i-\\bar{y})^2 + \\sum_{i=1}^n(y_i - \\hat{y}_i)^2$$\n",
    "\n",
    "Each of these sums carry important information to evaluate our analysis:\n",
    "\n",
    "**Total Sum of Squares**: $TSS=\\sum_{i=1}^n(y_i-\\bar{y})^2$\n",
    "\n",
    "- this is the sum of the squares of the residuals from the intercept-only (no explanatory variables) model\n",
    "\n",
    "- the squares of these residuals are represented with red squares in the plot above\n",
    "\n",
    "- when properly scaled, it is the sample variance of $Y$ which *estimates* the population variance of $Y$\n",
    "\n",
    "\n",
    "**Explained Sum of Squares**: $ESS=\\sum_{i=1}^n(\\hat{y}_i-\\bar{y})^2$\n",
    "\n",
    "- $\\hat{y}_i$ predicts $y_i$ using the LR, while $\\bar{y}$ predicts $y_i$ without a model. If our model is better than nothing, this should be large!!\n",
    "\n",
    "- it measures how much it is *explained* by the additional information given by the LR\n",
    "\n",
    "\n",
    "**Residual Sum of Squares**: $RSS=\\sum_{i=1}^n(y_i - \\hat{y}_i)^2$\n",
    "\n",
    "- this is the sum of the squares of the residuals from the *fitted* LR with explanatory variables\n",
    "\n",
    "- the squares of these residuals are represented with blue squares in the plot above\n",
    "\n",
    "- our estimated parameters minimize these errors, this should be small!!"
   ]
  },
  {
   "cell_type": "markdown",
   "metadata": {
    "deletable": false,
    "editable": false,
    "nbgrader": {
     "cell_type": "markdown",
     "checksum": "e8d65c2ff04c47aeee7d5e475b014cd9",
     "grade": false,
     "grade_id": "cell-f06b2b137bc46e5f",
     "locked": true,
     "schema_version": 3,
     "solution": false,
     "task": false
    }
   },
   "source": [
    "#### 1.3.2 The coefficient of determination\n",
    "\n",
    "If our model provides a good fit, we expect the TSS (residuals from the empty model, in red) to be much larger than the RSS (residuals from the fitted LR with explanatory variables, in blue)!! \n",
    "\n",
    "Using the decomposition above and dividing by TSS: \n",
    "\n",
    "$$1=\\frac{\\text{ESS}}{\\text{TSS}} + \\frac{\\text{RSS}}{\\text{TSS}}$$\n",
    "\n",
    "\n",
    "**The Coefficient of determination** was first defined as:\n",
    "\n",
    "$$R^2=1 - \\frac{\\text{RSS}}{\\text{TSS}}$$\n",
    "\n",
    "*For a LR with an intercept and estimated by LS* it is equivalent to \n",
    "\n",
    "$$R^2=\\frac{\\text{ESS}}{\\text{TSS}}$$ \n",
    "\n",
    "#### Interpretations \n",
    "\n",
    "For a LR with an intercept and estimated by LS, the coefficient of determination:\n",
    "\n",
    "- measures the gain in predicting the response using the LR instead of the sample mean, relative to the total variation in the response. \n",
    "\n",
    "\n",
    "- is also interpreted as the proportion of variance of the response (TSS) explained by the model (ESS)\n",
    "\n",
    "\n",
    "- is between 0 and 1 since we expect TSS to be much larger than RSS (thus their ratio is smaller than 1)\n",
    "\n",
    "*Don't worry, R computes this statistic for you!!*"
   ]
  },
  {
   "cell_type": "code",
   "execution_count": null,
   "metadata": {
    "deletable": false,
    "editable": false,
    "nbgrader": {
     "cell_type": "code",
     "checksum": "d8800e8c1606bce27881e4f64154b22a",
     "grade": false,
     "grade_id": "cell-52f593f50e45adde",
     "locked": true,
     "schema_version": 3,
     "solution": false,
     "task": false
    }
   },
   "outputs": [],
   "source": [
    "glance(slr_g1)\n",
    "\n",
    "(my_Rsq <- 1-sum(dat_g1$.resid^2)/(sd(dat_g1$prot)^2*(nrow(dat_g1)-1)))\n"
   ]
  },
  {
   "cell_type": "markdown",
   "metadata": {
    "deletable": false,
    "editable": false,
    "nbgrader": {
     "cell_type": "markdown",
     "checksum": "5525da6b250bb3fc248bc8c25df0fb1b",
     "grade": false,
     "grade_id": "cell-bbaa62c34332d83c",
     "locked": true,
     "schema_version": 3,
     "solution": false,
     "task": false
    }
   },
   "source": [
    "The $R^2$ compares $Y$ vs $\\hat{Y}$ using the RSS but *relative to* the TSS \n",
    "\n",
    "<font color=\"blue\"> **In a SLR, the coefficient of determination equals the square of the correlation coefficient** </font>\n",
    "\n",
    "> you probably noticed this in the SLR: $r^2=R^2$\n",
    "\n",
    "**Note**: this is not true for any type of estimation. In particular, it is not true for the estimation method suggested in the Nature's paper or their models since they do not have an intercept!\n",
    "\n",
    "<font color=\"blue\"> **In LR, the coefficient of determination equals the square of the coefficient of multiple correlation** </font>\n",
    "\n",
    "\n",
    "> in fact, the coefficient of determination was first introduced this way in 1921!\n",
    "\n",
    "\n",
    "> the $R^2 = cor(Y, \\hat{Y})^2$, if $\\hat{Y}$ is a predition obtained from a LR with an intercept estimated by LS\n",
    "\n",
    "**Note**: in the paper the authors computed this measure but *not* per each gene, which flawed their conclusions."
   ]
  },
  {
   "cell_type": "markdown",
   "metadata": {
    "deletable": false,
    "editable": false,
    "nbgrader": {
     "cell_type": "markdown",
     "checksum": "0fb916e2ae2f95d8f88b302493cbc91e",
     "grade": false,
     "grade_id": "cell-48d1de4e5ced402a",
     "locked": true,
     "schema_version": 3,
     "solution": false,
     "task": false
    }
   },
   "source": [
    "#### Scope and limitations of the coefficient of determination\n",
    "\n",
    "The $R^2$ is computed based on *in-sample* observations and it does not provide a sense of how good is our model in predicting *out-of-sample* cases (aka test set)!!\n",
    "\n",
    "Note that $R^2$ computed as $R^2 = 1 - \\frac{\\text{RSS}}{\\text{TSS}}$ ranges between 0 and 1 *if* the LR model has an intercept and is estimated by LS!! \n",
    "\n",
    "> otherwise, this definition can result in negative values!! (see discussion in Wooldridge)\n",
    "\n",
    "> A negative $R^2$ indicates that the sample mean is a better predictor than the estimated linear regression. We'll come to this point later.\n",
    "\n",
    "*Let's compute the $R^2$ for all the genes in the dataset*"
   ]
  },
  {
   "cell_type": "markdown",
   "metadata": {
    "deletable": false,
    "editable": false,
    "nbgrader": {
     "cell_type": "markdown",
     "checksum": "aa7ad30d5a280cb011d326cfdd65db39",
     "grade": false,
     "grade_id": "cell-79247febad83752b",
     "locked": true,
     "schema_version": 3,
     "solution": false,
     "task": false
    }
   },
   "source": [
    "**Question 1.0**\n",
    "<br>{points: 1}\n",
    "\n",
    "In this problem you will: \n",
    "\n",
    "- fit 1392 SLR, one for each gene in the dataset using `lm()` and `group_by()`\n",
    "\n",
    "- use the function `augment()` to compute residuals from each fitted SLRs\n",
    "\n",
    "- compute the RSS and the TSS for each gene and estimated SLR\n",
    "\n",
    "- use the RSS and the TSS to compute the $R^2$ for each gene and estimated SLR\n",
    "\n",
    "Collect all these quantities in an object called `data_ss`.\n",
    "\n",
    "*Fill out those parts indicated with `...`, uncomment the corresponding code in the cell below, and run it.*"
   ]
  },
  {
   "cell_type": "code",
   "execution_count": null,
   "metadata": {
    "deletable": false,
    "nbgrader": {
     "cell_type": "code",
     "checksum": "f9144dbeb553b10eb1d424929437a545",
     "grade": false,
     "grade_id": "cell-30b40631b6494c74",
     "locked": false,
     "schema_version": 3,
     "solution": true,
     "task": false
    }
   },
   "outputs": [],
   "source": [
    "# n_tissues = ...\n",
    "\n",
    "#dat_ss <- dat_bio %>%  \n",
    "#  group_by(...) %>%\n",
    "#  do(augment(...(prot ~ ..., data = .)))   %>% \n",
    "#  summarize(RSS= sum(...),TSS=...(...)^2*(n_tissues - 1),\n",
    "#           myR2 = 1- .../...)\n",
    "\n",
    "# head(dat_ss,3)\n",
    "\n",
    "# your code here\n",
    "fail() # No Answer - remove if you provide an answer"
   ]
  },
  {
   "cell_type": "code",
   "execution_count": null,
   "metadata": {
    "deletable": false,
    "editable": false,
    "nbgrader": {
     "cell_type": "code",
     "checksum": "b5b16910c6a8ae6e66884b032e8d1a38",
     "grade": true,
     "grade_id": "cell-b3ad10a8f196443d",
     "locked": true,
     "points": 1,
     "schema_version": 3,
     "solution": false,
     "task": false
    }
   },
   "outputs": [],
   "source": [
    "test_1.0()"
   ]
  },
  {
   "cell_type": "markdown",
   "metadata": {
    "deletable": false,
    "editable": false,
    "nbgrader": {
     "cell_type": "markdown",
     "checksum": "bd4d2b46d447b75e0f9b3a7656cc100f",
     "grade": false,
     "grade_id": "cell-4b70ba83b183cc69",
     "locked": true,
     "schema_version": 3,
     "solution": false,
     "task": false
    }
   },
   "source": [
    "**Question 1.1**\n",
    "<br>{points: 1}\n",
    "\n",
    "In this problem you will compute the $R^2$ for each gene and estimated SLR using the function `glance()`\n",
    "\n",
    "- select the columns `gene` and `r.squared` and store them in an object called `data_r2`\n",
    "\n",
    "- extend `data_r2` by joining it `data_ss` to compare your calculation of the $R^2$ with that given by `glance()`\n",
    "\n",
    "\n",
    "*Fill out those parts indicated with `...`, uncomment the corresponding code in the cell below, and run it.*"
   ]
  },
  {
   "cell_type": "code",
   "execution_count": null,
   "metadata": {
    "deletable": false,
    "nbgrader": {
     "cell_type": "code",
     "checksum": "f9053f353250a0d402bba80910c788d1",
     "grade": false,
     "grade_id": "cell-fcff0641f931f0b2",
     "locked": false,
     "schema_version": 3,
     "solution": true,
     "task": false
    }
   },
   "outputs": [],
   "source": [
    "#dat_glance <- dat_slr  %>% \n",
    "#  group_by(...)  %>% \n",
    "#  do(glance(...(... ~ ..., data = .))) \n",
    "\n",
    "#dat_r2 <- dat_glance %>% \n",
    "#  select(..., ...)\n",
    "\n",
    "#dat_r2 <- dat_ss  %>%  full_join(dat_r2, by = c(\"gene\")) \n",
    "\n",
    "#tail(dat_r2,3)\n",
    "\n",
    "# your code here\n",
    "fail() # No Answer - remove if you provide an answer"
   ]
  },
  {
   "cell_type": "code",
   "execution_count": null,
   "metadata": {
    "deletable": false,
    "editable": false,
    "nbgrader": {
     "cell_type": "code",
     "checksum": "028b0c7f0cb202d6aa84f797959a400c",
     "grade": true,
     "grade_id": "cell-dc341effd245527e",
     "locked": true,
     "points": 1,
     "schema_version": 3,
     "solution": false,
     "task": false
    }
   },
   "outputs": [],
   "source": [
    "test_1.1()"
   ]
  },
  {
   "cell_type": "markdown",
   "metadata": {
    "deletable": false,
    "editable": false,
    "nbgrader": {
     "cell_type": "markdown",
     "checksum": "f0340da0db2dab543befffc93b207ff4",
     "grade": false,
     "grade_id": "cell-dfaabf410163976a",
     "locked": true,
     "schema_version": 3,
     "solution": false,
     "task": false
    }
   },
   "source": [
    "#### Visualization of results \n",
    "\n",
    "We have computed 1392 coefficients of determination, one for each *gene-specific* fitted model. Let's visualize the results using a histogram of the coefficients of determination"
   ]
  },
  {
   "cell_type": "code",
   "execution_count": null,
   "metadata": {
    "deletable": false,
    "editable": false,
    "nbgrader": {
     "cell_type": "code",
     "checksum": "58856c7dad9b34779ed119a56b4f8721",
     "grade": false,
     "grade_id": "cell-0dd8c3a8d46da2f2",
     "locked": true,
     "schema_version": 3,
     "solution": false,
     "task": false
    }
   },
   "outputs": [],
   "source": [
    "hist_ls_r2 <- dat_r2  %>% \n",
    "  ggplot(aes(x=r.squared)) + \n",
    "  geom_histogram(color=\"navy\", bins=20) + \n",
    "  geom_vline(xintercept=median(dat_r2$r.squared, na.rm=T),color=\"red\")+\n",
    "  labs(\n",
    "    title = \"Rsq of gene-specific LS models\",\n",
    "    x = \"Rsq\",\n",
    "    y = \"Count\")+\n",
    "  xlim(0, 1)\n",
    "\n",
    "hist_ls_r2"
   ]
  },
  {
   "cell_type": "markdown",
   "metadata": {
    "deletable": false,
    "editable": false,
    "nbgrader": {
     "cell_type": "markdown",
     "checksum": "553228e15967540985b1f255bfce90a8",
     "grade": false,
     "grade_id": "cell-d9d98e89fc0d5560",
     "locked": true,
     "schema_version": 3,
     "solution": false,
     "task": false
    }
   },
   "source": [
    "**Question 1.2**\n",
    "<br>{points: 1}\n",
    "\n",
    "In the following claims, a \"gene-specific model\" refers to a SLR using `mRNA` as an input variable and estimated by LS for each gene.\n",
    "\n",
    "Select all the claims that are true based on the $R^2$ computed for each gene.\n",
    "\n",
    "**A.** These results suggest that the quality of the proposed models vary greatly across genes. For some genes, a gene-specific model explains more than 80% of the observed variation in protein abundance. However, for half of the genes it explains less than 15% of the observed variation in protein levels.\n",
    "\n",
    "**B.** For the majority of the genes, a gene-specific model fits the data well. \n",
    "\n",
    "**C.** With the suggested gene-specific models, it now becomes possible to predict protein abundance in any given tissue with good accuracy from the measured mRNA for any gene.  \n",
    "\n",
    "**D.** For gene ENSG00000262246, the gene-specific model explains approximately 87% of the observed variation in protein abundance, making `mRNA` statistically significant.\n",
    "\n",
    "*Assign your answer to an object called `answer1.2`. Your answer should be one of `\"A\"`, `\"B\"`, `\"C\"`, or `\"D\"` surrounded by quotes.*"
   ]
  },
  {
   "cell_type": "code",
   "execution_count": null,
   "metadata": {
    "deletable": false,
    "nbgrader": {
     "cell_type": "code",
     "checksum": "1f98b90148602756c18ad0b55b9f0dc6",
     "grade": false,
     "grade_id": "cell-6f09b9a6725554ff",
     "locked": false,
     "schema_version": 3,
     "solution": true,
     "task": false
    }
   },
   "outputs": [],
   "source": [
    "# answer1.2 <- \n",
    "\n",
    "# your code here\n",
    "fail() # No Answer - remove if you provide an answer"
   ]
  },
  {
   "cell_type": "code",
   "execution_count": null,
   "metadata": {
    "deletable": false,
    "editable": false,
    "nbgrader": {
     "cell_type": "code",
     "checksum": "5ed9e44c5ae6542f3c3649acf7d41bd7",
     "grade": true,
     "grade_id": "cell-7c63e0b50f9f1aca",
     "locked": true,
     "points": 1,
     "schema_version": 3,
     "solution": false,
     "task": false
    }
   },
   "outputs": [],
   "source": [
    "test_1.2()"
   ]
  },
  {
   "cell_type": "markdown",
   "metadata": {
    "deletable": false,
    "editable": false,
    "nbgrader": {
     "cell_type": "markdown",
     "checksum": "44b4717ae8fd683ffc2d033763504ac1",
     "grade": false,
     "grade_id": "cell-98eac64db7a12412",
     "locked": true,
     "schema_version": 3,
     "solution": false,
     "task": false
    }
   },
   "source": [
    "#### Claim from the paper\n",
    "\n",
    "Using the median ratio of protein to mRNA levels per gene as a proxy for translation rates, our data show that [...] ***it now becomes possible to predict protein abundance in any given tissue with good accuracy from the measured mRNA abundance***\n",
    "\n",
    "<font color=\"blue\"> Hmmmm .... how??? is the median ratio a much better estimate of the regression coefficients?? </font>\n",
    "\n",
    "*We'll come back for this later ....*"
   ]
  },
  {
   "cell_type": "markdown",
   "metadata": {
    "deletable": false,
    "editable": false,
    "nbgrader": {
     "cell_type": "markdown",
     "checksum": "b0bcab8f82d3adef6c47cfb62a7b7405",
     "grade": false,
     "grade_id": "cell-0d442678a3b10e7c",
     "locked": true,
     "schema_version": 3,
     "solution": false,
     "task": false
    }
   },
   "source": [
    "#### 1.3.3 Model Evaluation via Adjusted $R^2$\n",
    "\n",
    "A drawback of the $R^2$ is that it increases as more input variables are added to teh model, *regardless of the relevance of the input variables added* since the $\\text{RSS} = \\sum_{i = 1}^n(y_i - \\hat{y}_i)^2$ as more input variables are included in the model. \n",
    "\n",
    "To overcome this issue with $R^2$, we can obtain an **adjusted $R^2$** as follows:\n",
    "\n",
    "$$ \\text{adjusted } R^2 = 1- \\frac{\\text{RSS}/(n - p)}{\\text{TSS}/(n - 1)},$$\n",
    "\n",
    "where \n",
    "\n",
    "- $p$ is the number of regression parameters of the model, including $\\beta_0$.\n",
    "- $n$ is our sample size to train the model.\n",
    "\n",
    "This adjusted coefficient of determination penalizes $\\text{RSS}$ with $n - p$. Hence, even if the $\\text{RSS}$ decreases, we divide it by $n - p$ to compensate for the model's size."
   ]
  },
  {
   "cell_type": "markdown",
   "metadata": {
    "deletable": false,
    "editable": false,
    "nbgrader": {
     "cell_type": "markdown",
     "checksum": "f2472384fa9872f5a0ee5fc382a69181",
     "grade": false,
     "grade_id": "cell-0475ff0a71595824",
     "locked": true,
     "schema_version": 3,
     "solution": false,
     "task": false
    }
   },
   "source": [
    "#### 1.3.4 Other evaluation metrics\n",
    "\n",
    "Other related metrics used to evaluate LR which measure how far $Y$ is from $\\hat{Y}$ are:\n",
    "\n",
    "\n",
    "- **Residuals Standard Error**: RSE = $\\sqrt{\\frac{1}{n-p} \\text{RSS}}$\n",
    "\n",
    "> called `sigma` in `glance()` output\n",
    "\n",
    "> estimates the standard deviation of the error term $\\varepsilon$ (the RSS is divided by the appropriate degrees of freedom to give a \"good\" estimate of $\\sigma = \\sqrt{Var(\\varepsilon)}$)\n",
    "\n",
    "> needed to estimate the standard errors of $\\hat{\\beta}_j$ in classical theory! (for inference)\n",
    "\n",
    "> a measure based on *training* data to evaluate the fit of the model (for inference)\n",
    "\n",
    "> gives an idea of the size of the *irreducible* error, very similar to the RSS, small is good\n",
    "\n",
    "\n",
    "- **Mean Squared Error**: MSE = $\\frac{1}{n}\\sum_{i=1}^n(y_i - \\hat{y}_i)^2$\n",
    "\n",
    "> *Training MSE*: if we use the original sample $y_1, \\ldots, y_n$ and their predicted values (formula above). It can be easily obtained from `.resid` column in `augment()` output "
   ]
  },
  {
   "cell_type": "markdown",
   "metadata": {
    "deletable": false,
    "editable": false,
    "nbgrader": {
     "cell_type": "markdown",
     "checksum": "a60d97ddfbc3888d987724e07305bed0",
     "grade": false,
     "grade_id": "cell-d65854ba88ab7d8d",
     "locked": true,
     "schema_version": 3,
     "solution": false,
     "task": false
    }
   },
   "source": [
    "### 1.4 Selection of nested models: the *F*-test\n",
    "\n",
    "Are the $R^2$ or its adjusted version useful?? \n",
    "\n",
    "- For some genes, the $R^2$ is around 50%, is this value large??\n",
    "\n",
    "The $R^2$ can be used to compare the size of the residuals of the fitted model with those of an empty model. However, we can't use it to *test* any hypothesis to answer this question since its sampling distribution is unknown.\n",
    "\n",
    "\n",
    "Alternatively, the **$F$-test** can be used to compare *nested* models. \n",
    "\n",
    "> what do we mean by *nested models*?\n",
    "\n",
    "> <font color=blue> nested </font>: the full model contains all the variables from the reduced model together with $k$ additional input variables"
   ]
  },
  {
   "cell_type": "markdown",
   "metadata": {
    "deletable": false,
    "editable": false,
    "nbgrader": {
     "cell_type": "markdown",
     "checksum": "85e973c0a3529f5bf9739a009f7a34a9",
     "grade": false,
     "grade_id": "cell-0e0703b41e37a2f6",
     "locked": true,
     "schema_version": 3,
     "solution": false,
     "task": false
    }
   },
   "source": [
    "**Case 1:**\n",
    "Let's compare a SLR with an intercept only model:\n",
    "\n",
    "- model reduced: $Y_i=\\beta_0 + \\varepsilon_i$ \n",
    "\n",
    "    > LR with no input variables\n",
    "\n",
    "\n",
    "- model full:  $Y_i=\\beta_0 + \\beta_1 X_{i} + \\varepsilon_i$ \n",
    "\n",
    "    > SLR with 1 additional input variable\n",
    "\n",
    "\n",
    "#### <font color=red> Is the full model significantly different from the reduced model? </font>\n",
    "\n",
    "To compare and test nested models we need an **$F$-test**\n",
    "\n",
    "> the function `anova()` can be used to compute this test\n",
    "\n",
    "> `glance()` also includes this statistic and its corresponding p-value"
   ]
  },
  {
   "cell_type": "code",
   "execution_count": null,
   "metadata": {
    "deletable": false,
    "editable": false,
    "nbgrader": {
     "cell_type": "code",
     "checksum": "faf7a2b5fec82659f7e51a67d2bba840",
     "grade": false,
     "grade_id": "cell-0858334cd62a4536",
     "locked": true,
     "schema_version": 3,
     "solution": false,
     "task": false
    }
   },
   "outputs": [],
   "source": [
    "lm_red <- lm(prot~1, dat_g1)\n",
    "\n",
    "lm_full <- lm(prot~ mrna, dat_g1)\n",
    "\n",
    "anova(lm_red,lm_full)"
   ]
  },
  {
   "cell_type": "markdown",
   "metadata": {
    "deletable": false,
    "editable": false,
    "nbgrader": {
     "cell_type": "markdown",
     "checksum": "5517db69ee3cd3e11995e5de4a878fa4",
     "grade": false,
     "grade_id": "cell-68e9eecc55019cda",
     "locked": true,
     "schema_version": 3,
     "solution": false,
     "task": false
    }
   },
   "source": [
    "Note that in this simple case, the only difference between the reduced and the full model is the term with $\\beta_1$\n",
    "\n",
    "> we are testing if $\\beta_1$ is different from zero!! $H_0: \\beta_1 = 0$\n",
    "\n",
    "Same as before!! \n",
    "\n",
    "> Note the $p$-values are the same. This is not a coincidence! \n",
    "\n",
    "When we test only one parameter: $t^2 = F$"
   ]
  },
  {
   "cell_type": "code",
   "execution_count": null,
   "metadata": {
    "deletable": false,
    "editable": false,
    "nbgrader": {
     "cell_type": "code",
     "checksum": "5010a581d5d3c73ea61fc2a1cca0a221",
     "grade": false,
     "grade_id": "cell-c0b972863e8e2814",
     "locked": true,
     "schema_version": 3,
     "solution": false,
     "task": false
    }
   },
   "outputs": [],
   "source": [
    "anova(lm_red,lm_full)\n",
    "glance(slr_g1)  %>% select(statistic, p.value)\n",
    "tidy(slr_g1)"
   ]
  },
  {
   "cell_type": "markdown",
   "metadata": {
    "deletable": false,
    "editable": false,
    "nbgrader": {
     "cell_type": "markdown",
     "checksum": "23ffa3b72c2a9c1274974a66ea144199",
     "grade": false,
     "grade_id": "cell-77633c07793baf4d",
     "locked": true,
     "schema_version": 3,
     "solution": false,
     "task": false
    }
   },
   "source": [
    "For this gene, the full model is not statistically different from the reduced (intercept only) model at a significance level of 5%.\n",
    "\n",
    "> for this gene, the full model, including `mrna` does not fit the data significantly better than then intercept only model! \n",
    "\n",
    "**For this gene, there is not statistical evidence that mRNA is associated with protein levels**\n",
    "\n",
    "As before, we can look at the results of *all* genes"
   ]
  },
  {
   "cell_type": "code",
   "execution_count": null,
   "metadata": {
    "deletable": false,
    "editable": false,
    "nbgrader": {
     "cell_type": "code",
     "checksum": "5214367c3ce379b0269b0945e407fb56",
     "grade": false,
     "grade_id": "cell-44d9b6ea19ad3cb8",
     "locked": true,
     "schema_version": 3,
     "solution": false,
     "task": false
    }
   },
   "outputs": [],
   "source": [
    "hist_ls_F <- dat_glance  %>% \n",
    "  ggplot(aes(x=p.value)) + \n",
    "  geom_histogram(color=\"navy\", bins=20) + \n",
    "  geom_vline(xintercept=median(dat_glance$p.value, na.rm=T),color=\"red\")+\n",
    "  geom_vline(xintercept=0.05,linetype = 2, color=\"green\")+\n",
    "  labs(\n",
    "    title = \"F-test of gene-specific LS models\",\n",
    "    x = \"p.value\",\n",
    "    y = \"Count\")+\n",
    "  xlim(0, 1)\n",
    "\n",
    "hist_ls_F"
   ]
  },
  {
   "cell_type": "markdown",
   "metadata": {
    "deletable": false,
    "editable": false,
    "nbgrader": {
     "cell_type": "markdown",
     "checksum": "c41be63a597ec17156f0cf1affbfb7a0",
     "grade": false,
     "grade_id": "cell-4453fda3273e33be",
     "locked": true,
     "schema_version": 3,
     "solution": false,
     "task": false
    }
   },
   "source": [
    "#### Claim from the paper\n",
    "\n",
    "Using the median ratio of protein to mRNA levels per gene as a proxy for translation rates, our data show that [...] ***it now becomes possible to predict protein abundance in any given tissue with good accuracy from the measured mRNA abundance***\n",
    "\n",
    "**In our analysis, for most genes, the model with `mrna` is not significanly better, at 5% significance, than the empty model.**\n",
    "\n",
    "<font color=\"blue\"> Hmmmm .... is the median ratio a much better estimate of the regression coefficients?? </font>\n",
    "\n",
    "*We'll come back for this later ....*"
   ]
  },
  {
   "cell_type": "markdown",
   "metadata": {
    "deletable": false,
    "editable": false,
    "nbgrader": {
     "cell_type": "markdown",
     "checksum": "fa20dfaf3414285c00bdda90815dd355",
     "grade": false,
     "grade_id": "cell-3118339d0d723854",
     "locked": true,
     "schema_version": 3,
     "solution": false,
     "task": false
    }
   },
   "source": [
    "#### Back to the F-test:\n",
    "\n",
    "In the previous case, the $F$-test was used in a very simple case, mathematically equivalent to a (squared) $t$-test.\n",
    "\n",
    "However, the $F$-test can be generalized to compare any pair of *nested* models."
   ]
  },
  {
   "cell_type": "markdown",
   "metadata": {
    "deletable": false,
    "editable": false,
    "nbgrader": {
     "cell_type": "markdown",
     "checksum": "6221154198a029500200718792fcbd34",
     "grade": false,
     "grade_id": "cell-31fb152ce8bbd93a",
     "locked": true,
     "schema_version": 3,
     "solution": false,
     "task": false
    }
   },
   "source": [
    "**Case 2:**\n",
    "\n",
    "- model reduced: $Y_i=\\beta_0 + \\varepsilon_i$ \n",
    "\n",
    "    > LR with no input variables\n",
    "\n",
    "\n",
    "- model full:  $Y_i=\\beta_0 + \\beta_1 X_{i1} + \\beta_2 X_{i2} + \\varepsilon_i$ \n",
    "\n",
    "    > LR with 2 additional input variables\n",
    "    \n",
    "    \n",
    "#### <font color=red> Is the full model significantly different from the reduced model? </font>\n",
    "\n",
    "Note that now the full model has 2 extra terms!!\n",
    "\n",
    "> $H_0: \\beta_1 = 0 \\text{ and }  \\beta_2 = 0$\n",
    "\n",
    "We are *simulataneously* testing if *both parameters* are zero!!"
   ]
  },
  {
   "cell_type": "markdown",
   "metadata": {
    "deletable": false,
    "editable": false,
    "nbgrader": {
     "cell_type": "markdown",
     "checksum": "dbd9bb7fbc3b6df83ba1972328837037",
     "grade": false,
     "grade_id": "cell-bfb30d92944f1b64",
     "locked": true,
     "schema_version": 3,
     "solution": false,
     "task": false
    }
   },
   "source": [
    "**Case 3: general**\n",
    "\n",
    "- model reduced: $Y_i=\\beta_0 + \\beta_1 X_{i1} + \\ldots + \\beta_q X_{iq} + \\varepsilon_i$ \n",
    "\n",
    "    > LR with $q+1$ variables\n",
    "\n",
    "\n",
    "- model full:  $Y_i=\\beta_0 + \\beta_1 X_{i1} +  \\ldots + \\beta_q X_{iq} + \\ldots +  \\beta_s X_{is} + \\varepsilon_i$ \n",
    "\n",
    "    > LR with $p=s+1$ variables, $k = s - q$ additional explanatory variables\n",
    "    \n",
    "    \n",
    "#### <font color=red> Is the full model significantly different from the reduced model? </font>\n",
    "\n",
    "Note that in this simple case, we are testing if $\\beta_1$ is different from zero!!\n",
    "\n",
    "> $H_0: \\beta_{q+1} = 0 \\text{ and }  \\beta_{q+2} = 0 \\text{ and } \\ldots  \\beta_{s} = 0$\n",
    "\n",
    "We are *simulataneously* testing if *k parameters* are zero!!\n",
    "\n",
    "It can be challenging to write the model and the null hypothesis mathematically. \n",
    "\n",
    "However, in any analysis, you should be able identify both the reduced and the full models being compared and tested. "
   ]
  },
  {
   "cell_type": "markdown",
   "metadata": {
    "deletable": false,
    "editable": false,
    "nbgrader": {
     "cell_type": "markdown",
     "checksum": "15d633023d54edd8a9f3e9f415dd181b",
     "grade": false,
     "grade_id": "cell-f383d7ac468e9631",
     "locked": true,
     "schema_version": 3,
     "solution": false,
     "task": false
    }
   },
   "source": [
    "**(For fun) the formula of the F-statistic is given by:** \n",
    "\n",
    "$$F = \\frac{(RSS_{reduced}-RSS_{full})/k}{RSS_{full}/(n-p)} \\sim \\mathcal{F}_{k, n-p}$$\n",
    "\n",
    "- $RSS_{reduced}$ is the **RSS** of the reduced model \n",
    "\n",
    "\n",
    "- $RSS_{full}$ is the **RSS** of the full model \n",
    "\n",
    "\n",
    "- $k$ is the number of parameters tested (difference between models)\n",
    "\n",
    "\n",
    "- $p$ is the number of parameters of the full model ($s+1$)\n",
    "\n",
    "For LS estimation, if the conditional distribution of the error terms $\\varepsilon_i$ is normal, under $H_0$:\n",
    "\n",
    "$$F \\sim \\mathcal{F}_{k, n - p}$$ \n",
    "\n",
    "i.e., the $F$-statistic has an $\\mathcal{F}$ distribution with $k$ degrees of freedom in the numerator and $n - p$ degrees of freedom in the denominator. Otherwise, this is still approximately true by results of the CLT for large samples.\n",
    "\n",
    "> the $F$ and the $R^2$ both depend on the RSS and the TSS so there is a formula that relates them!! however, the former has a known (or approximately known) sampling distribution (under certain assumptions) so we can use it to make probabilistic statements\n",
    "\n",
    "*Don't worry, R computes this statistic for you!!*"
   ]
  },
  {
   "cell_type": "markdown",
   "metadata": {
    "deletable": false,
    "editable": false,
    "nbgrader": {
     "cell_type": "markdown",
     "checksum": "7201c8756f8df51fde091f1f726d1566",
     "grade": false,
     "grade_id": "cell-3885fb69104f7fac",
     "locked": true,
     "schema_version": 3,
     "solution": false,
     "task": false
    }
   },
   "source": [
    "To illustrate other applications of the $F$-test, let's consider a subset with 3 randomly selected genes. \n",
    "\n",
    "We will use this (sub)dataset to analyze the relation between `mrna` and `prot`, *and* `gene` as a variable in the model!!"
   ]
  },
  {
   "cell_type": "code",
   "execution_count": null,
   "metadata": {
    "deletable": false,
    "editable": false,
    "nbgrader": {
     "cell_type": "code",
     "checksum": "e818a5a2dc18d156ccaf126d04f09c9a",
     "grade": false,
     "grade_id": "cell-5ca588daa7120836",
     "locked": true,
     "schema_version": 3,
     "solution": false,
     "task": false
    }
   },
   "outputs": [],
   "source": [
    "set.seed(561)\n",
    "dat_3genes <- dat_bio  %>%  \n",
    "         subset(gene %in% sample(gene,3)) \n",
    "\n",
    "res_per_g <- dat_3genes %>%\n",
    "         group_by(gene) %>%\n",
    "         do(glance(lm(prot ~ mrna, data = .)))  %>% \n",
    "         select(gene, r.squared, statistic, p.value)\n",
    "\n",
    "res_per_g"
   ]
  },
  {
   "cell_type": "markdown",
   "metadata": {
    "deletable": false,
    "editable": false,
    "nbgrader": {
     "cell_type": "markdown",
     "checksum": "728d0d8c3fbed60297274f7bebbe1638",
     "grade": false,
     "grade_id": "cell-bb62dbae14684093",
     "locked": true,
     "schema_version": 3,
     "solution": false,
     "task": false
    }
   },
   "source": [
    "#### LR with 1 categorical and 1 continuous, without interaction (additive)\n",
    "\n",
    "This model assumes that when mRNA changes the change in protein levels is the same for all 3 genes but allows different predictions for different genes:\n",
    "\n",
    "$$\\text{prot}_t=\\beta_0 + \\beta_1 \\text{mrna}_{t} + \\beta_2 \\text{G2}_{t} + \\beta_3 \\text{G3}_{t} + \\varepsilon_t$$\n",
    "\n",
    "> the subscript $t$ indicates the tissue where the gene was measured"
   ]
  },
  {
   "cell_type": "markdown",
   "metadata": {
    "deletable": false,
    "editable": false,
    "nbgrader": {
     "cell_type": "markdown",
     "checksum": "8d50d494476b8166cfb8db08fc3881b0",
     "grade": false,
     "grade_id": "cell-4746d4cb9862031e",
     "locked": true,
     "schema_version": 3,
     "solution": false,
     "task": false
    }
   },
   "source": [
    "#### Recall ....\n",
    "\n",
    "\n",
    "The variables $G2$ and $G3$ are dummy variables that take only 2 values, 0 and 1\n",
    "\n",
    "> $G2 = 1$ for gene ENSG00000143553, and it's $0$ otherwise \n",
    "\n",
    "> $G3 = 1$ for gene ENSG00000168497, and it's $0$ otherwise\n",
    "\n",
    "\n",
    "> as before, we use 2 dummy variables to model 3 levels of a categorical variable\n",
    "\n",
    "Let's take a closer look at our model:\n",
    "\n",
    "- for gene ENSG00000085733, $G2=0$ and $G3=0$ : then \n",
    "\n",
    "$$\\text{prot}_t=\\beta_0 + \\beta_1 \\text{mrna}_{t} + \\varepsilon_t$$\n",
    "\n",
    "> just replace the dummy variables with 0, respectively, in the equation above\n",
    "\n",
    "> this is just a SLR with intercept $\\beta_0$ and slope $\\beta_1$ to model the relation between `protein` and `mrna`!!\n",
    "\n",
    "- for gene ENSG00000143553, $G2=1$ and $G3=0$: then \n",
    "\n",
    "$$\\text{prot}_t=\\beta_0 + \\beta_1 \\text{mrna}_{t} + \\beta_2  + \\varepsilon_t$$ \n",
    "\n",
    "> just replace the dummies with 1 and 0, respectively, in the equation above\n",
    "\n",
    "> this is just a SLR with *the same* slope $\\beta_1$ to model the relation between `prot` and `mrna`!!\n",
    "\n",
    "> but note that in this case the intercept is *different*: $\\beta_0 + \\beta_2$\n",
    "\n",
    "- for gene ENSG00000168497, $G2=0$ and $G3=1$: then \n",
    "\n",
    "$$\\text{prot}_t=\\beta_0 + \\beta_1 \\text{mrna}_{t} + \\beta_3  + \\varepsilon_t$$ \n",
    "\n",
    "> just replace the dummies with 0 and 1, respectively, in the equation above\n",
    "\n",
    "> this is just a SLR with *the same* slope $\\beta_1$ to model the relation between `prot` and `mrna`!!\n",
    "\n",
    "> but note that in this case the intercept is *different*: $\\beta_0 + \\beta_3$"
   ]
  },
  {
   "cell_type": "markdown",
   "metadata": {
    "deletable": false,
    "editable": false,
    "nbgrader": {
     "cell_type": "markdown",
     "checksum": "dbb6e31fcb2b5bc42a67580944310f71",
     "grade": false,
     "grade_id": "cell-2b5f6d0a48ebc993",
     "locked": true,
     "schema_version": 3,
     "solution": false,
     "task": false
    }
   },
   "source": [
    "**Question 1.3**\n",
    "<br>{points: 1}\n",
    "\n",
    "Using the data from the 3 selected genes `data_3genes`, fit the additive model outlined above. Store the results in an object called `mlr_3genes_add`.\n",
    "\n",
    "Use `tidy` to obtain a table with results from the LS estimation and inference. "
   ]
  },
  {
   "cell_type": "code",
   "execution_count": null,
   "metadata": {
    "deletable": false,
    "nbgrader": {
     "cell_type": "code",
     "checksum": "9f149cc8b20efd751c36ac373cece0ca",
     "grade": false,
     "grade_id": "cell-b19aacfa7238f6ed",
     "locked": false,
     "schema_version": 3,
     "solution": true,
     "task": false
    }
   },
   "outputs": [],
   "source": [
    "#mlr_3genes_add <- ...(...~ ..., data = dat_3genes)\n",
    "#mlr_3genes_add_res <- tidy(mlr_3genes_add)\n",
    "#mlr_3genes_add_res\n",
    "\n",
    "\n",
    "# your code here\n",
    "fail() # No Answer - remove if you provide an answer"
   ]
  },
  {
   "cell_type": "code",
   "execution_count": null,
   "metadata": {
    "deletable": false,
    "editable": false,
    "nbgrader": {
     "cell_type": "code",
     "checksum": "ef39710da845cb8568c82a9c8533d4ca",
     "grade": true,
     "grade_id": "cell-ee55b94ef330046a",
     "locked": true,
     "points": 1,
     "schema_version": 3,
     "solution": false,
     "task": false
    }
   },
   "outputs": [],
   "source": [
    "test_1.3()"
   ]
  },
  {
   "cell_type": "markdown",
   "metadata": {
    "deletable": false,
    "editable": false,
    "nbgrader": {
     "cell_type": "markdown",
     "checksum": "0a376f782baf2c171db4cfb52bf7fc43",
     "grade": false,
     "grade_id": "cell-2afa8c39d578b70c",
     "locked": true,
     "schema_version": 3,
     "solution": false,
     "task": false
    }
   },
   "source": [
    "#### Visualizing the data and fitted model"
   ]
  },
  {
   "cell_type": "code",
   "execution_count": null,
   "metadata": {
    "deletable": false,
    "editable": false,
    "nbgrader": {
     "cell_type": "code",
     "checksum": "dcb31a3091392f24f15ab0e9e57f842e",
     "grade": false,
     "grade_id": "cell-f5eb98ebfc04c163",
     "locked": true,
     "schema_version": 3,
     "solution": false,
     "task": false
    }
   },
   "outputs": [],
   "source": [
    "#Define a grid to extend the estimated LR\n",
    "newdat = expand.grid(mrna = seq(min(dat_3genes$mrna), max(dat_3genes$mrna), by = 1e-06),\n",
    "                     gene = unique(dat_3genes$gene) )\n",
    "newdat$pred_add = predict(mlr_3genes_add, newdata = newdat)\n",
    "\n",
    "plot_add <- ggplot(dat_3genes, aes(x = mrna, y = prot, color = gene)) +\n",
    "     geom_point(size=.5) +     \n",
    "     geom_line(data = newdat, aes(y = pred_add), size = 0.5)+\n",
    "     labs(title = 'Additive Model', x = \"mRNA\", y = \"Protein\") + \n",
    "     theme(plot.title = element_text(face = \"bold\", size = 12, hjust = 0.5),\n",
    "        axis.title = element_text(face = \"bold\", size = 12))\n",
    "\n",
    "plot_add"
   ]
  },
  {
   "cell_type": "markdown",
   "metadata": {
    "deletable": false,
    "editable": false,
    "nbgrader": {
     "cell_type": "markdown",
     "checksum": "8eedcde4805e18f92d68493620d36048",
     "grade": false,
     "grade_id": "cell-898f36e96547cf93",
     "locked": true,
     "schema_version": 3,
     "solution": false,
     "task": false
    }
   },
   "source": [
    "#### LR with 1 categorical and 1 continuous, *plus* interactions: \n",
    "\n",
    "Let's now consider a model that assumes that when mRNA changes the change in protein levels is different for each genes. Each gene should have its own translation rate!!\n",
    "\n",
    "> isn't this the same as the *gene-specific* models??\n",
    "\n",
    "> Wilhelm et al.: \"translation rate is a fundamental, encoded (constant) *characteristic of a transcript [gene]*\"\n",
    "\n",
    "\n",
    "$$\\text{prot}_t = \\beta_0 + \\beta_1 \\text{mrna}_{t} + \\beta_2 G2_{t}  + \\beta_3 G3_{t}  + \\beta_4 G2_{t} * \\text{mrna}_{t} + \\beta_5 G3_{t} * \\text{mrna}_{t} +\\varepsilon_t$$\n",
    "\n",
    "\n",
    "> mathematically, we multiply variables\n",
    "\n",
    "> Recall: 6 parameters related to 3 intercepts and 3 slopes"
   ]
  },
  {
   "cell_type": "markdown",
   "metadata": {
    "deletable": false,
    "editable": false,
    "nbgrader": {
     "cell_type": "markdown",
     "checksum": "5adb81f65b67e8da118f3e78cf840ec4",
     "grade": false,
     "grade_id": "cell-a26def16487f21f0",
     "locked": true,
     "schema_version": 3,
     "solution": false,
     "task": false
    }
   },
   "source": [
    "Using the data from the 3 selected genes `data_3genes`, we will now fit the model with interaction terms outlined above. \n",
    "\n",
    "We will store the results in an object called `mlr_3genes_int` and use `tidy` to obtain a table with results from the LS estimation and inference. "
   ]
  },
  {
   "cell_type": "code",
   "execution_count": null,
   "metadata": {
    "deletable": false,
    "editable": false,
    "nbgrader": {
     "cell_type": "code",
     "checksum": "318a1cad40fa7b3eda6994e792814a7c",
     "grade": false,
     "grade_id": "cell-5f1240b71f992980",
     "locked": true,
     "schema_version": 3,
     "solution": false,
     "task": false
    }
   },
   "outputs": [],
   "source": [
    "mlr_3genes_int <- lm(prot ~ gene * mrna, dat_3genes)\n",
    "tidy(mlr_3genes_int)"
   ]
  },
  {
   "cell_type": "code",
   "execution_count": null,
   "metadata": {
    "deletable": false,
    "editable": false,
    "nbgrader": {
     "cell_type": "code",
     "checksum": "c23c886be843c9ec6af921cb5e48d72e",
     "grade": false,
     "grade_id": "cell-009e2d6fa2652a0c",
     "locked": true,
     "schema_version": 3,
     "solution": false,
     "task": false
    }
   },
   "outputs": [],
   "source": [
    "newdat = expand.grid(mrna = seq(min(dat_3genes$mrna), max(dat_3genes$mrna), by = 1e-06),\n",
    "                     gene = unique(dat_3genes$gene) )\n",
    "newdat$pred_int = predict(mlr_3genes_int, newdata = newdat)\n",
    "\n",
    "plot_int <- ggplot(dat_3genes, aes(x = mrna, y = prot, color = gene)) +\n",
    "     geom_point(size=.5) +     \n",
    "     geom_line(data = newdat, aes(y = pred_int), size = 0.5)+\n",
    "     labs(title = 'Model with interaction', x = \"mRNA\", y = \"Protein\") + \n",
    "     theme(plot.title = element_text(face = \"bold\", size = 12, hjust = 0.5),\n",
    "        axis.title = element_text(face = \"bold\", size = 12))\n",
    "\n",
    "plot_int"
   ]
  },
  {
   "cell_type": "markdown",
   "metadata": {
    "deletable": false,
    "editable": false,
    "nbgrader": {
     "cell_type": "markdown",
     "checksum": "c8224e8fbc20acc58e76a46afc698896",
     "grade": false,
     "grade_id": "cell-377ceb2f92921288",
     "locked": true,
     "schema_version": 3,
     "solution": false,
     "task": false
    }
   },
   "source": [
    "**Question 1.4**\n",
    "<br>{points: 1}\n",
    "\n",
    "Note that to decide if we need to add interaction terms in the LR, we need to compare the following nested models:\n",
    "\n",
    "$$\\textbf{reduced}:\\text{prot}_t=\\beta_0 + \\beta_1 \\text{mrna}_{t} + \\beta_2 \\text{G2}_{t} + \\beta_3 \\text{G3}_{t} + \\varepsilon_t$$\n",
    "\n",
    "$$\\textbf{full}:\\text{prot}_t = \\beta_0 + \\beta_1 \\text{mrna}_{t} + \\beta_2 G2_{t}  + \\beta_3 G3_{t}  + \\beta_4 G2_{t} * \\text{mrna}_{t} + \\beta_5 G3_{t} * \\text{mrna}_{t} +\\varepsilon_t$$\n",
    "\n",
    "We want to test if the *additional terms of the full* model are useful to explain the observed variation in protein abundance.\n",
    "\n",
    "The $F$-test can be used to test *simultaneously* whether the additional parameters in the full model are zero. \n",
    "\n",
    "In plain words, the hypotheses ($H_0$ versus $H_1$) are the following:\n",
    "\n",
    "$H_0$: The additional coefficients (of the interaction terms) in the full model are equal to zero\n",
    "\n",
    "$H_1$: At least one of the additional coefficients in the full model is different from zero\n",
    "\n",
    "What is the mathematical translation of these hypotheses for our pair of MLR models?\n",
    "\n",
    "**A.** $H_0: \\beta_0 = \\beta_1 = \\beta_2 = \\beta_3 = 0$ vs. $H_1: \\text{at least one } \\beta_j \\neq 0 \\text{ (for } $j = 0, 1, 2, 3$ \\text{)}$\n",
    "\n",
    "**B.** $H_0: \\beta_1 = \\beta_2 = \\beta_3 = 0$ vs. $H_1: \\text{at least one } \\beta_j \\neq 0 \\text{ (for } $j = 1, 2, 3$ \\text{)}$\n",
    "\n",
    "**C.** $H_0: \\beta_4 = \\beta_5 = 0$ vs. $H_1: \\beta_4 \\neq 0 \\text{ and } \\beta_5 \\neq 0$\n",
    "\n",
    "**D.** $H_0: \\beta_4 = \\beta_5 = 0$ vs. $H_1: \\text{at least one } \\beta_j \\neq 0 \\text{ (for } $j = 4, 5$ \\text{)}$\n",
    "\n",
    "**E.** $H_0: \\hat{\\beta}_4 = \\hat{\\beta}_5 = 0$ vs. $H_1: \\text{at least one } \\hat{\\beta}_j \\neq 0 \\text{ (for } $j = 4, 5$ \\text{)}$\n",
    "\n",
    "*Assign your answer to an object called `answer2.4`. Your answer should be one of `\"A\"`, `\"B\"`, `\"C\"`, `\"D\"`, or `\"E\"` surrounded by quotes.*"
   ]
  },
  {
   "cell_type": "code",
   "execution_count": null,
   "metadata": {
    "deletable": false,
    "nbgrader": {
     "cell_type": "code",
     "checksum": "25a244888bbc901aa4298920d382376d",
     "grade": false,
     "grade_id": "cell-9d0d4fac52a22f63",
     "locked": false,
     "schema_version": 3,
     "solution": true,
     "task": false
    }
   },
   "outputs": [],
   "source": [
    "# answer1.4 <- \n",
    "\n",
    "# your code here\n",
    "fail() # No Answer - remove if you provide an answer"
   ]
  },
  {
   "cell_type": "code",
   "execution_count": null,
   "metadata": {
    "deletable": false,
    "editable": false,
    "nbgrader": {
     "cell_type": "code",
     "checksum": "f3390af68b340e5aa9c06468497b7dea",
     "grade": true,
     "grade_id": "cell-6c817e4c8dcc41ee",
     "locked": true,
     "points": 1,
     "schema_version": 3,
     "solution": false,
     "task": false
    }
   },
   "outputs": [],
   "source": [
    "test_1.4()"
   ]
  },
  {
   "cell_type": "markdown",
   "metadata": {
    "deletable": false,
    "editable": false,
    "nbgrader": {
     "cell_type": "markdown",
     "checksum": "43ed3a2a53ccd8b973cf7bda73c9b919",
     "grade": false,
     "grade_id": "cell-348868b77e38ce14",
     "locked": true,
     "schema_version": 3,
     "solution": false,
     "task": false
    }
   },
   "source": [
    "**Question 1.5**\n",
    "<br>{points: 1}\n",
    "\n",
    "Use the function `anova` to obtain the $F$-statistic and its associated $p$-value for the test of $H_0$ versus $H_1$.\n",
    "\n",
    "Store your results in an object called `Ftest_3genes_full_reduced`.\n",
    "\n",
    "*Fill out those parts indicated with `...`, uncomment the corresponding code in the cell below, and run it.*"
   ]
  },
  {
   "cell_type": "code",
   "execution_count": null,
   "metadata": {
    "deletable": false,
    "nbgrader": {
     "cell_type": "code",
     "checksum": "f8aab944ce9f94e3dbe196d573d41ba9",
     "grade": false,
     "grade_id": "cell-77472b95a740aaef",
     "locked": false,
     "schema_version": 3,
     "solution": true,
     "task": false
    }
   },
   "outputs": [],
   "source": [
    "# Ftest_3genes_full_reduced <- ...(..., ...) %>% mutate_if(is.numeric, round, 3)\n",
    "# Ftest_3genes_full_reduced\n",
    "\n",
    "# your code here\n",
    "fail() # No Answer - remove if you provide an answer"
   ]
  },
  {
   "cell_type": "code",
   "execution_count": null,
   "metadata": {
    "deletable": false,
    "editable": false,
    "nbgrader": {
     "cell_type": "code",
     "checksum": "79a61c77ed1c0f49b476a3204978c5f1",
     "grade": true,
     "grade_id": "cell-6a786727cc958fbc",
     "locked": true,
     "points": 1,
     "schema_version": 3,
     "solution": false,
     "task": false
    }
   },
   "outputs": [],
   "source": [
    "test_1.5()"
   ]
  },
  {
   "cell_type": "markdown",
   "metadata": {
    "deletable": false,
    "editable": false,
    "nbgrader": {
     "cell_type": "markdown",
     "checksum": "75a370855589ee2041f97f39ada295dc",
     "grade": false,
     "grade_id": "cell-feb2eb0cfc2c0ad5",
     "locked": true,
     "schema_version": 3,
     "solution": false,
     "task": false
    }
   },
   "source": [
    "**Question 1.6**\n",
    "<br>{points: 1}\n",
    "\n",
    "Using a significance level $\\alpha = 0.05$ and the results in `Ftest_3genes_full_reduced`, in plain words, what is the conclusion of the hypotheses stated in **Question 1.4**?\n",
    "\n",
    "**A.** We reject the null hypothesis; thus, the *full* model is significatly better than the *reduced* model.\n",
    "\n",
    "**B.** We fail to reject the null hypothesis; thus, there is not enough evidence that the *full* model with additional interaction terms is better than the additive (reduced) model.\n",
    "\n",
    "**C.** We accept the alternative hypothesis; thus, the *full* model is significantly better than the *reduced* model.\n",
    "\n",
    "**D.** We do not accept the alternative hypothesis; thus, the *full* model with additional interaction terms is not better than the *reduced* model.\n",
    "\n",
    "*Assign your answer to an object called `answer1.6`. Your answer should be one of `\"A\"`, `\"B\"`, `\"C\"`, or `\"D\"` surrounded by quotes.*"
   ]
  },
  {
   "cell_type": "code",
   "execution_count": null,
   "metadata": {
    "deletable": false,
    "nbgrader": {
     "cell_type": "code",
     "checksum": "7756679b09b1be59e936974cef2cccea",
     "grade": false,
     "grade_id": "cell-1fafb5ef90566bcb",
     "locked": false,
     "schema_version": 3,
     "solution": true,
     "task": false
    }
   },
   "outputs": [],
   "source": [
    "# answer1.6 <- \n",
    "\n",
    "# your code here\n",
    "fail() # No Answer - remove if you provide an answer"
   ]
  },
  {
   "cell_type": "code",
   "execution_count": null,
   "metadata": {
    "deletable": false,
    "editable": false,
    "nbgrader": {
     "cell_type": "code",
     "checksum": "f4a85abb956b0996b44b95022bb16db5",
     "grade": true,
     "grade_id": "cell-2a29bf3dbf308272",
     "locked": true,
     "points": 1,
     "schema_version": 3,
     "solution": false,
     "task": false
    }
   },
   "outputs": [],
   "source": [
    "test_1.6()"
   ]
  },
  {
   "cell_type": "markdown",
   "metadata": {
    "deletable": false,
    "editable": false,
    "nbgrader": {
     "cell_type": "markdown",
     "checksum": "70444ef84d11b772945715aed445b996",
     "grade": false,
     "grade_id": "cell-4e97586f9cff53e1",
     "locked": true,
     "schema_version": 3,
     "solution": false,
     "task": false
    }
   },
   "source": [
    "**Observation in the context of the case study**\n",
    "\n",
    "Note that at least for these 3 genes, there is no evidence that the \"translation rate is a fundamental, encoded (constant) *characteristic of a transcript [gene]*\" (as claimed in the paper."
   ]
  },
  {
   "cell_type": "markdown",
   "metadata": {
    "deletable": false,
    "editable": false,
    "nbgrader": {
     "cell_type": "markdown",
     "checksum": "92822b97a3254d4382247267075e9ce9",
     "grade": false,
     "grade_id": "cell-c52a18cc8af85c36",
     "locked": true,
     "schema_version": 3,
     "solution": false,
     "task": false
    }
   },
   "source": [
    "**Question 1.7**\n",
    "<br>{points: 1}\n",
    "\n",
    "We can also test whether any of these 2 models (the additive model or the model with interaction) are statistically different from an intercept-only model. For example:\n",
    "\n",
    "$$\\textbf{reduced}:\\text{prot}_t=\\beta_0 + \\varepsilon_t$$\n",
    "\n",
    "$$\\textbf{full}:\\text{prot}_t=\\beta_0 + \\beta_1 \\text{mrna}_{t} + \\beta_2 \\text{G2}_{t} + \\beta_3 \\text{G3}_{t} + \\varepsilon_t$$\n",
    "\n",
    "\n",
    "In plain words, the hypotheses ($H_0$ versus $H_1$) are the following:\n",
    "\n",
    "$H_0$: Excluding the intercept, all the regression coefficients in the full model are equal to zero. \n",
    "\n",
    "$H_1$: Excluding the intercept, at least one of the regression coefficients in the full model is different from zero.\n",
    "\n",
    "What is the mathematical translation of these hypotheses for our pair of MLR models?\n",
    "\n",
    "**A.** $H_0: \\beta_1 = \\beta_2 = \\beta_3 = \\beta_4 = \\beta_5 = 0$ vs. $H_1: \\text{at least one } \\beta_j \\neq 0 \\text{ (for } $j = 1, 2, 3, 4, 5$ \\text{)}$\n",
    "\n",
    "**B.** $H_0: \\beta_0 = \\beta_1 = \\beta_2 = \\beta_3 = \\beta_4 = \\beta_5 = 0$ vs. $H_1: \\text{at least one } \\beta_j \\neq 0 \\text{ (for } $j = 0, 1, 2, 3, 4, 5$ \\text{)}$\n",
    "\n",
    "**C.** $H_0: \\beta_1 = \\beta_2 = \\beta_3 = \\beta_4 = \\beta_5 = 0$ vs. $H_1: \\beta_1 \\neq 0 \\text{ and } \\beta_2 \\neq 0 \\text{ and } \\beta_3 \\neq 0 \\text{ and } \\beta_4 \\neq 0 \\text{ and } \\beta_5 \\neq 0$\n",
    "\n",
    "**D.** $H_0: \\hat{\\beta}_1 = \\hat{\\beta}_2 = \\hat{\\beta}_3 = \\hat{\\beta}_4 = \\hat{\\beta}_5 = 0$ vs. $H_1: \\text{at least one } \\hat{\\beta}_j \\neq 0 \\text{ (for } $j = 1, 2, 3, 4, 5$ \\text{)}$\n",
    "\n",
    "*Assign your answer to an object called `answer1.7`. Your answer should be one of `\"A\"`, `\"B\"`, `\"C\"`, or `\"D\"` surrounded by quotes.*"
   ]
  },
  {
   "cell_type": "code",
   "execution_count": null,
   "metadata": {
    "deletable": false,
    "nbgrader": {
     "cell_type": "code",
     "checksum": "e4a3f9632db4087d09ad435452c8e971",
     "grade": false,
     "grade_id": "cell-499121ebfc0f64c7",
     "locked": false,
     "schema_version": 3,
     "solution": true,
     "task": false
    }
   },
   "outputs": [],
   "source": [
    "# answer1.7 <- \n",
    "\n",
    "# your code here\n",
    "fail() # No Answer - remove if you provide an answer"
   ]
  },
  {
   "cell_type": "code",
   "execution_count": null,
   "metadata": {
    "deletable": false,
    "editable": false,
    "nbgrader": {
     "cell_type": "code",
     "checksum": "637e8136fb3b4361f9986d6b95c396f5",
     "grade": true,
     "grade_id": "cell-b65c4a6933d524a1",
     "locked": true,
     "points": 1,
     "schema_version": 3,
     "solution": false,
     "task": false
    }
   },
   "outputs": [],
   "source": [
    "test_1.7()"
   ]
  },
  {
   "cell_type": "markdown",
   "metadata": {
    "deletable": false,
    "editable": false,
    "nbgrader": {
     "cell_type": "markdown",
     "checksum": "1fcf428dee80810b7df00e300b2fc946",
     "grade": false,
     "grade_id": "cell-04dfc9903e2bbf13",
     "locked": true,
     "schema_version": 3,
     "solution": false,
     "task": false
    }
   },
   "source": [
    "To test $H_0$ versus $H_1$ with an $F$-test, you can either use the function `anova` as before or obtain the $F$-statistic and its associated $p$-value from the function `glance()`.\n",
    "\n",
    "> note `glance()` can *only* be used when the reduced model is the intercept-empty model. For other reduced models you need to use `anova()`\n",
    "\n",
    "See the columns `statistic` and `p.value` in `Prestige_MLR_Int_statistics`.\n",
    "\n",
    "*Run the cell below before continuing.*"
   ]
  },
  {
   "cell_type": "markdown",
   "metadata": {
    "deletable": false,
    "editable": false,
    "nbgrader": {
     "cell_type": "markdown",
     "checksum": "61a73245c6f55382184bd610d0f5ee7b",
     "grade": false,
     "grade_id": "cell-bbb46fd7929b1425",
     "locked": true,
     "schema_version": 3,
     "solution": false,
     "task": false
    }
   },
   "source": [
    "#### Additive vs intercept-only"
   ]
  },
  {
   "cell_type": "code",
   "execution_count": null,
   "metadata": {
    "deletable": false,
    "editable": false,
    "nbgrader": {
     "cell_type": "code",
     "checksum": "7063b6c6e929c52d2a3272af69551211",
     "grade": false,
     "grade_id": "cell-8ee5335298116580",
     "locked": true,
     "schema_version": 3,
     "solution": false,
     "task": false
    }
   },
   "outputs": [],
   "source": [
    "intercept_3genes <- lm(prot~1,data=dat_3genes)\n",
    "\n",
    "anova(intercept_3genes,mlr_3genes_add)\n",
    "glance(mlr_3genes_add)  %>% select(r.squared, statistic, p.value)"
   ]
  },
  {
   "cell_type": "markdown",
   "metadata": {
    "deletable": false,
    "editable": false,
    "nbgrader": {
     "cell_type": "markdown",
     "checksum": "8090bdabac40f91ef9f9e2a0346b4074",
     "grade": false,
     "grade_id": "cell-bae53d91a52b45c4",
     "locked": true,
     "schema_version": 3,
     "solution": false,
     "task": false
    }
   },
   "source": [
    "#### Interaction vs intercept-only"
   ]
  },
  {
   "cell_type": "markdown",
   "metadata": {
    "deletable": false,
    "editable": false,
    "nbgrader": {
     "cell_type": "markdown",
     "checksum": "b934591458343a555d2060e08279644c",
     "grade": false,
     "grade_id": "cell-0fbccf4edd998dda",
     "locked": true,
     "schema_version": 3,
     "solution": false,
     "task": false
    }
   },
   "source": [
    "**Question 1.8**\n",
    "<br>{points: 1}\n",
    "\n",
    "Use the function `glance` to obtain the $F$-statistic and its associated $p$-value for the test if the LR with *gene-specific* coefficients (model with interaction) using `dat_3genes` gives a better prediction than the mean protein value of these 3 genes.\n",
    "\n",
    "Store $F-test$ and its correspoinding $p$-value in an object called `Ftest_3genes_interaction`.\n",
    "\n",
    "*Fill out those parts indicated with `...`, uncomment the corresponding code in the cell below, and run it.*"
   ]
  },
  {
   "cell_type": "code",
   "execution_count": null,
   "metadata": {
    "deletable": false,
    "nbgrader": {
     "cell_type": "code",
     "checksum": "01615205fffac59aa34db98f1c8e1aa0",
     "grade": false,
     "grade_id": "cell-20ab328a3e81d820",
     "locked": false,
     "schema_version": 3,
     "solution": true,
     "task": false
    }
   },
   "outputs": [],
   "source": [
    "# Ftest_3genes_interaction  <- glance(...)  %>% \n",
    "#        select(..., ...)\n",
    "\n",
    "# Ftest_3genes_interaction \n",
    "\n",
    "# your code here\n",
    "fail() # No Answer - remove if you provide an answer"
   ]
  },
  {
   "cell_type": "code",
   "execution_count": null,
   "metadata": {
    "deletable": false,
    "editable": false,
    "nbgrader": {
     "cell_type": "code",
     "checksum": "2059d0bb32eaa57df741591c1964626e",
     "grade": true,
     "grade_id": "cell-04654b98a6306078",
     "locked": true,
     "points": 1,
     "schema_version": 3,
     "solution": false,
     "task": false
    }
   },
   "outputs": [],
   "source": [
    "test_1.8()"
   ]
  },
  {
   "cell_type": "markdown",
   "metadata": {
    "deletable": false,
    "editable": false,
    "nbgrader": {
     "cell_type": "markdown",
     "checksum": "df82ee7b8fe536b51d8506da2df26a9a",
     "grade": false,
     "grade_id": "cell-af974191c796a1fa",
     "locked": true,
     "schema_version": 3,
     "solution": false,
     "task": false
    }
   },
   "source": [
    "Note that in both case, there is enough evidence to reject the null hypothesis. Thus, both the additive and the model with interaction are significantly better than the intercept-only model.\n",
    "\n",
    "**However**, this does not prove that `mRNA` is essential to predict protein abundance\n",
    "\n",
    "> **Why??**"
   ]
  },
  {
   "cell_type": "markdown",
   "metadata": {
    "deletable": false,
    "editable": false,
    "nbgrader": {
     "cell_type": "markdown",
     "checksum": "302d2c3d3b21b54866408ef5da23d95f",
     "grade": false,
     "grade_id": "cell-cd7017f83f911799",
     "locked": true,
     "schema_version": 3,
     "solution": false,
     "task": false
    }
   },
   "source": [
    "#### Assessing mRNA "
   ]
  },
  {
   "cell_type": "markdown",
   "metadata": {
    "deletable": false,
    "editable": false,
    "nbgrader": {
     "cell_type": "markdown",
     "checksum": "4b4a200d8ef5b10397c8833de7d373af",
     "grade": false,
     "grade_id": "cell-67b62ec15b1b6a6e",
     "locked": true,
     "schema_version": 3,
     "solution": false,
     "task": false
    }
   },
   "source": [
    "**Question 1.9**\n",
    "<br>{points: 1}\n",
    "\n",
    "Think which nested models need to be compared to determine if mRNA is a fundamental quantity to predict protein!!\n",
    "\n",
    "Compute the test using `anova` and store the results in an object called `Ftest_3genes_mrna`.\n",
    "\n",
    "*Test your understanding and work on your own!*"
   ]
  },
  {
   "cell_type": "code",
   "execution_count": null,
   "metadata": {
    "deletable": false,
    "nbgrader": {
     "cell_type": "code",
     "checksum": "9863449eade2d72a694a5d825427d552",
     "grade": false,
     "grade_id": "cell-a290ce6bc1a11890",
     "locked": false,
     "schema_version": 3,
     "solution": true,
     "task": false
    }
   },
   "outputs": [],
   "source": [
    "#[write your code here]\n",
    "#Ftest_3genes_mrna\n",
    "\n",
    "# your code here\n",
    "fail() # No Answer - remove if you provide an answer"
   ]
  },
  {
   "cell_type": "code",
   "execution_count": null,
   "metadata": {
    "deletable": false,
    "editable": false,
    "nbgrader": {
     "cell_type": "code",
     "checksum": "fa18f4d0fcdc7008baa00fe8754b22c3",
     "grade": true,
     "grade_id": "cell-155d2ad157394a2c",
     "locked": true,
     "points": 1,
     "schema_version": 3,
     "solution": false,
     "task": false
    }
   },
   "outputs": [],
   "source": [
    "test_1.9()"
   ]
  },
  {
   "cell_type": "markdown",
   "metadata": {
    "deletable": false,
    "editable": false,
    "nbgrader": {
     "cell_type": "markdown",
     "checksum": "084b69c6e21afad136b998214d617379",
     "grade": false,
     "grade_id": "cell-9dac937e51857aca",
     "locked": true,
     "schema_version": 3,
     "solution": false,
     "task": false
    }
   },
   "source": [
    "## 2. Prediction\n",
    "\n",
    "How do we evaluate the predictive performance of a model?\n",
    "\n",
    "- **Mean Squared Error**: MSE = $\\frac{1}{n}\\sum_{i=1}^n(y_i - \\hat{y}_i)^2$\n",
    "\n",
    "> *Test MSE*: where $y_i$ are new responses from the test set and $\\hat{y}_i$ are predicted values using the LR estimated with training data\n",
    "\n",
    "- **$R^2$**: $R^2 = 1 - \\frac{RSS}{TSS}$\n",
    "\n",
    "> Can we compute the $R^2$ on the test set??\n",
    "    \n",
    "Yes, as we mentioned for the MSE, the $R^2$ can be computed for new responses in a test set $y_{new}$ compared to the predicted values obtained using the trained LR, $\\hat{y}_{new}$   \n",
    "    \n",
    "> some functions compute the $R^2$ from a validation set or using cross validation (perhaps seen in other courses)   \n",
    "    \n",
    "> however, note that it is *no longer the coefficient of determination*. It measures the correlation between the true and the predicted responses *in a test set*   \n",
    "\n",
    "**We'll see examples in future lectures**"
   ]
  },
  {
   "cell_type": "markdown",
   "metadata": {
    "deletable": false,
    "editable": false,
    "nbgrader": {
     "cell_type": "markdown",
     "checksum": "00ecdf3d78cd4b12c4017eb80f675ad7",
     "grade": false,
     "grade_id": "cell-a7f0358b7a8d93f7",
     "locked": true,
     "schema_version": 3,
     "solution": false,
     "task": false
    }
   },
   "source": [
    "## Conclusions of PART I\n",
    "\n",
    "#### Evaluation of Models when the main goal is estimation and inference:\n",
    "\n",
    "- The $R^2$, coefficient of determination, can be used to compared the sum of squares of the residuals of the fitted model with that of the null model\n",
    "\n",
    "\n",
    "- The $R^2$ is usually interpreted as the part of the variation in the response explained by the model\n",
    "\n",
    "\n",
    "- Many definitions and interpretations of the $R^2$ are for LS estimators of LR containing an intercept\n",
    "\n",
    "\n",
    "- The $R^2$ is not a test and it does not provide a probabilistic result and it's distribution is unknown!\n",
    "\n",
    "\n",
    "- Instead, we can use an $F$ test, also refer as ANOVA, to compare nested models\n",
    "\n",
    "    - tests the simultaneous significance of additional coefficients of the full model (not in the reduced model)\n",
    "    \n",
    "    - in particular, we can use it to test the significance of the fitted model over the null model\n",
    "    \n",
    "\n",
    "- These $F$ tests can be used to select variables!! since we are comparing and testing how the fit changes as we select variables\n",
    "\n",
    "#### Evaluation of Models when the main goal is prediction:\n",
    "\n",
    "- The test MSE is a natural measure to compare new responses from a test set with the predicted values $\\hat{y}_i$ from the LR estimated with training data\n",
    "\n",
    "- The $R^2$ based on test data can also be used but it should not be called a \"coefficient of determination\" "
   ]
  },
  {
   "cell_type": "markdown",
   "metadata": {
    "deletable": false,
    "editable": false,
    "nbgrader": {
     "cell_type": "markdown",
     "checksum": "1360051575cb23dd6af9b4cf98cce794",
     "grade": false,
     "grade_id": "cell-0e49ee209f5c4f94",
     "locked": true,
     "schema_version": 3,
     "solution": false,
     "task": false
    }
   },
   "source": [
    "# PART II: Variable (model) selection"
   ]
  },
  {
   "cell_type": "markdown",
   "metadata": {
    "deletable": false,
    "editable": false,
    "nbgrader": {
     "cell_type": "markdown",
     "checksum": "3b41d3d9ef73ba1e024ec290e4822625",
     "grade": false,
     "grade_id": "cell-f968abd3ee677d53",
     "locked": true,
     "schema_version": 3,
     "solution": false,
     "task": false
    }
   },
   "source": [
    "#### Do we need all the available predictors in the model?\n",
    "\n",
    "Some datasets contain *many* variables but not all are relevant\n",
    "\n",
    "> you may want to identify the *most relevant* variables to build a model\n",
    "\n",
    "But again: \n",
    "    \n",
    "#### <font color=red>  What is your goal??\n",
    "    \n",
    "> inference vs prediction\n",
    "    \n",
    "To decide if a variable (or set of variables) is relevant or not we need to choose an evaluation metric\n",
    "    \n",
    "As we have just discussed, the evaluation metric used depends on the goal of the analysis!!"
   ]
  },
  {
   "cell_type": "markdown",
   "metadata": {
    "deletable": false,
    "editable": false,
    "nbgrader": {
     "cell_type": "markdown",
     "checksum": "a87451a1b93e31451da2759b55539662",
     "grade": false,
     "grade_id": "cell-ea806819f87e3fec",
     "locked": true,
     "schema_version": 3,
     "solution": false,
     "task": false
    }
   },
   "source": [
    "## 1. Variable selection when the main goal is estimation and inference\n",
    "\n",
    "Do all the predictors help to explain the response, or is only a subset of the predictors useful?\n",
    "\n",
    "- ###  The $F$-test\n",
    "\n",
    "We can respond to this question testing if some coefficients are zero:\n",
    "\n",
    "#### $$H_0: \\beta_{q+1} = \\beta_{q+2} = \\ldots = \\beta_s=0$$\n",
    "\n",
    "versus the alternative\n",
    "\n",
    "#### $$H_1: \\text{ at least one of the coefficients in the questionable subset is different from 0}$$\n",
    "\n",
    "#### In PART I, we've learned that we can use an $F$-test to compare nested models and answer to this question\n",
    "\n",
    "> you can use `anova` to compare a full model (with all terms) vs a reduced model (which excludes terms from $q+1$ to $s$)"
   ]
  },
  {
   "cell_type": "markdown",
   "metadata": {
    "deletable": false,
    "editable": false,
    "nbgrader": {
     "cell_type": "markdown",
     "checksum": "4815375cf1f2804d7a23eefe56223779",
     "grade": false,
     "grade_id": "cell-578399986fc057c8",
     "locked": true,
     "schema_version": 3,
     "solution": false,
     "task": false
    }
   },
   "source": [
    "- ### The $t$- tests:\n",
    "\n",
    "In previous lectures we evaluated the contribution of individual variables to explain a response using $t$-tests calculated by `lm` and given in the `tidy` table:\n",
    "\n",
    "$$H_0: \\beta_j = 0,  \\text{ versus }  H_1: \\beta_j \\neq 0$$ \n",
    "\n",
    "> $H_0$ contains only *one* coefficient\n",
    "\n",
    "The results of the $t$-tests evaluate the contribution of *each* variable (separately) to explain the variation observed in the response ***with all other variables included*** in the model!!\n",
    "\n",
    "> sometimes refer as: \"after controlling for other explanatory variables\"\n",
    "\n",
    "#### Thus, we can use the results of these tests to establish a *selection rule* to evaluate variables one at a time:\n",
    "\n",
    "> for example: discard variables with *p-values* above a threshold\n",
    "\n",
    "> *caution note 1*: if there are many variables in the model (i.e., $p$ is large) using individual $t$-tests may result in many false discoveries (i.e., erroneously reject a true $H_0$)\n",
    "\n",
    "> *caution note2*: the *training* set is used (over an over) to select so it can't be used again to assess the final significance of the model. This problem is known as the *post-inference* problem"
   ]
  },
  {
   "cell_type": "markdown",
   "metadata": {
    "deletable": false,
    "editable": false,
    "nbgrader": {
     "cell_type": "markdown",
     "checksum": "b4f366fac0088ce0c50fdbe49ba5bde0",
     "grade": false,
     "grade_id": "cell-c2b4c5148c19a5ff",
     "locked": true,
     "schema_version": 3,
     "solution": false,
     "task": false
    }
   },
   "source": [
    "- ### The $R^2$ (or the RSS) and the adjusted $R^2$:\n",
    "\n",
    "Can we compare the coefficient of determinations of two models to select the best one?\n",
    "\n",
    "The RSS decreases as more variables are included in the model!! \n",
    "\n",
    "> so the $R^2$ of bigger models are *always* larger than the $R^2$ of nested models! <font color=red> *regardless of the relevance of the variables added*\n",
    "    \n",
    "To overcome this problem the **adjusted $R^2$** has been proposed:\n",
    "\n",
    "$$ \\text{adjusted } R^2 = 1- \\frac{RSS/(n-p-1)}{TSS/(n-1)} $$ \n",
    "\n",
    "> note that the RSS is penalized by the degrees of freedom. Even if the RSS decreases we divide it by a smaller number to compensate for the size of the model\n",
    "\n",
    "Thus,\n",
    "\n",
    "#### You can use the $R^2$ to compare models of equal size (not necessarily nested) \n",
    "\n",
    "or \n",
    "\n",
    "#### You can use the adjusted $R^2$ to compare models of different sizes (not necessarily nested)   "
   ]
  },
  {
   "cell_type": "markdown",
   "metadata": {
    "deletable": false,
    "editable": false,
    "nbgrader": {
     "cell_type": "markdown",
     "checksum": "e35a04e391cf34f234556ffe2efd2d90",
     "grade": false,
     "grade_id": "cell-dceb179479d61e36",
     "locked": true,
     "schema_version": 3,
     "solution": false,
     "task": false
    }
   },
   "source": [
    "#### The $F$-statistic vs the $R^2$ and the adjusted $R^2$:\n",
    "\n",
    "- The $F$-statistic can be used *only* to compare *nested models*\n",
    "\n",
    "> $R^2$ and the adjusted $R^2$ can be used to compare any set of models of equal size!    \n",
    "    \n",
    "- The $F$-statistic is computed on the *training* set so it is only useful to understand if a subset of predictors is useful to explain the response (inference)\n",
    "    \n",
    "> same for the coefficient of determination (formal definition of $R^2$)\n",
    "    \n",
    "> however, we can compute the correlation between the observed and the predicted responses in a test set (in the context of prediction). Just be careful about the conclusions of this analysis!    "
   ]
  },
  {
   "cell_type": "markdown",
   "metadata": {
    "deletable": false,
    "editable": false,
    "nbgrader": {
     "cell_type": "markdown",
     "checksum": "a1fbaaf01277c7ef9e71810aaabdd33b",
     "grade": false,
     "grade_id": "cell-8f8a4c8fe2b330e5",
     "locked": true,
     "schema_version": 3,
     "solution": false,
     "task": false
    }
   },
   "source": [
    "### 1.2 An automated proceedure\n",
    "\n",
    "When we don't have any idea about which variables should be included in the model, ideally, you want to select the best model out of *all possible models* of all possible sizes. \n",
    "\n",
    "> For example: if the dataset has 2 explanatory variables $X_1$ and $X_2$, there are 4 models to compare: (1) an intercept-only model, (2) a model with only $X_1$, (3) a model with only $X_2$, and (4) a model with both $X_1$ and $X_2$. \n",
    "\n",
    "However, the number of *all possible* models become too large rapidely, even for small subset of variables\n",
    "\n",
    "> there are a total of $2^p$ models from a set of $p$ variables\n",
    "\n",
    "> if $p = 20$ (20 available explanatory variables) we need to evaluate more than a million models! \n",
    "\n",
    "There are methods to search more efficiently for a good model (although it may not find the \"best\" one out of all possible):"
   ]
  },
  {
   "cell_type": "markdown",
   "metadata": {
    "deletable": false,
    "editable": false,
    "nbgrader": {
     "cell_type": "markdown",
     "checksum": "50da44eae8427dc37e9acf661d157001",
     "grade": false,
     "grade_id": "cell-2ea56a1329163900",
     "locked": true,
     "schema_version": 3,
     "solution": false,
     "task": false
    }
   },
   "source": [
    "- **Forward selection**: \n",
    "Image from [ISLR](http://faculty.marshall.usc.edu/gareth-james/ISL/ISLR%20Seventh%20Printing.pdf)\n",
    "\n",
    "![](https://github.com/UBC-STAT/stat-301/blob/master/materials/worksheet_07/img/forward.png?raw=true)"
   ]
  },
  {
   "cell_type": "markdown",
   "metadata": {
    "deletable": false,
    "editable": false,
    "nbgrader": {
     "cell_type": "markdown",
     "checksum": "4def52f86c2529de2172b6e9de35e116",
     "grade": false,
     "grade_id": "cell-171001924db231a0",
     "locked": true,
     "schema_version": 3,
     "solution": false,
     "task": false
    }
   },
   "source": [
    "1. Start with the intercept only model: $y_i = \\beta_0 + \\varepsilon_i$\n",
    "\n",
    "> remember that $\\hat{\\beta}_0 = \\bar{y}$ from the training samples, so $\\hat{y}_{0} = \\bar{y}$ for any observation (from the training or the test set)\n",
    "\n",
    "2. Select the best model of each size\n",
    "\n",
    "**Size 1** Evaluate all models of size 1, choose the best model of size 1 (based on RSS, equal size models), call it $\\mathcal{M}_1$. \n",
    "\n",
    "**Size 2** Starting with the best size 1 model, add 1 variable and evaluate all models of size 2. Choose the best model of size 2 (based on RSS), call it $\\mathcal{M}_2$.\n",
    "\n",
    "\n",
    "$\\ldots$ continue until you reach the full model\n",
    "\n",
    "\n",
    "**Size p** there's only one full model, call it $\\mathcal{M}_p$.\n",
    "\n",
    "> note that we can stop this iteration earlier if we want a model of a predetermined size\n",
    "\n",
    "3. Now we have to select the best out of $p$ models: $\\mathcal{M}_1$ (the best model of size 1), $\\mathcal{M}_2$ (the best model of size 2 evaluated), $\\ldots, \\mathcal{M}_p$ (the full model of size $p$)\n",
    "\n",
    "> you can't use the RSS to compare models of different sizes\n",
    "\n",
    "> depending on the goal of the study you can use the adjusted $R^2$ (for *inference*), or test MSE, the $C_p$ (proportional to AIC) or the BIC (*for prediction*)"
   ]
  },
  {
   "cell_type": "markdown",
   "metadata": {
    "deletable": false,
    "editable": false,
    "nbgrader": {
     "cell_type": "markdown",
     "checksum": "4c718588e386423445675aed1c61d57a",
     "grade": false,
     "grade_id": "cell-375ca4d284414316",
     "locked": true,
     "schema_version": 3,
     "solution": false,
     "task": false
    }
   },
   "source": [
    "Other selection procedures include:\n",
    "\n",
    "- **Backward selection**: start with the full model and remove variables, one at a time\n",
    "\n",
    "\n",
    "- **Hybrid selection**: after adding a variable, the method may also remove variables \n",
    "\n",
    "### 2. Prediction\n",
    "\n",
    "Regularization offers an alternative way to select a model by penalizing the RSS\n",
    "\n",
    "> e.g., lasso \n",
    "\n",
    "These are different *estimation methods* that estimate coefficients to be exactly zero\n",
    "\n",
    "> they are mainly used when the goal is to predict (more coming next week!)"
   ]
  },
  {
   "cell_type": "markdown",
   "metadata": {
    "deletable": false,
    "editable": false,
    "nbgrader": {
     "cell_type": "markdown",
     "checksum": "69fb8d7d0a870fbb0837383bca3e5655",
     "grade": false,
     "grade_id": "cell-b9a37f4c49eb356b",
     "locked": true,
     "schema_version": 3,
     "solution": false,
     "task": false
    }
   },
   "source": [
    "# Summary\n",
    "\n",
    "- We have reviewed different metrics to evaluate a model \n",
    "   \n",
    "   \n",
    "- Different metrics should be used depending on the goal of the analysis: inference vs prediction\n",
    "\n",
    "\n",
    "- It is important to understand the set used to compute these metrics: training vs test sets\n",
    "\n",
    "\n",
    "- Different procedures exist to automate an efficient search of a good model: greedy variable selection"
   ]
  }
 ],
 "metadata": {
  "jupytext": {
   "formats": "ipynb,Rmd"
  },
  "kernelspec": {
   "display_name": "R",
   "language": "R",
   "name": "ir"
  },
  "language_info": {
   "codemirror_mode": "r",
   "file_extension": ".r",
   "mimetype": "text/x-r-source",
   "name": "R",
   "pygments_lexer": "r",
   "version": "4.1.3"
  },
  "latex_envs": {
   "LaTeX_envs_menu_present": true,
   "autoclose": false,
   "autocomplete": true,
   "bibliofile": "biblio.bib",
   "cite_by": "apalike",
   "current_citInitial": 1,
   "eqLabelWithNumbers": true,
   "eqNumInitial": 1,
   "hotkeys": {
    "equation": "Ctrl-E",
    "itemize": "Ctrl-I"
   },
   "labels_anchors": false,
   "latex_user_defs": false,
   "report_style_numbering": false,
   "user_envs_cfg": false
  }
 },
 "nbformat": 4,
 "nbformat_minor": 4
}
