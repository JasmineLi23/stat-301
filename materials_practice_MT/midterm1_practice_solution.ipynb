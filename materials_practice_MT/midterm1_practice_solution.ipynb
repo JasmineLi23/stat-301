{
 "cells": [
  {
   "cell_type": "markdown",
   "metadata": {},
   "source": [
    "\n"
   ]
  },
  {
   "cell_type": "markdown",
   "metadata": {},
   "source": [
    "# STAT 301: Midterm 1"
   ]
  },
  {
   "cell_type": "markdown",
   "metadata": {},
   "source": [
    "## Data Wrangling\n",
    "\n"
   ]
  },
  {
   "cell_type": "code",
   "execution_count": 2,
   "metadata": {
    "scrolled": true
   },
   "outputs": [],
   "source": [
    "# The code will not be displayed in the quiz\n",
    "library(tidyverse, quietly = T)\n",
    "library(broom, quietly = T)\n",
    "library(repr, quietly = T)\n",
    "library(infer, quietly = T)\n",
    "library(ggplot2)\n",
    "library(cowplot)\n",
    "library(contextual)\n",
    "\n",
    "dat <- read.csv(\"Assessment_2015.csv\")\n",
    "dat <- dat %>% filter(ASSESSCLAS==\"Residential\")  %>% filter(ASSESSMENT < 1500000)\n",
    "\n",
    "dat <- dat  %>% mutate(BLDG_AGE = cut(YEAR_BUILT,\n",
    "                     breaks=c(-Inf,1980,2000,+Inf),\n",
    "                     labels=c(\"plus40\",\"mid40-20\",\"new20\")))\n",
    "\n",
    "set.seed(123)\n",
    "dat_tax <- rep_sample_n(dat, size = 1000)"
   ]
  },
  {
   "cell_type": "markdown",
   "metadata": {},
   "source": [
    "\n",
    "## Question 1\n",
    "\n",
    "Answer TRUE/FALSE to the following statement:\n",
    "\n",
    "Sir Francis Galton hypothesized that a son’s height could be predicted using the father’s height and collected data to estimate a simple linear regression. In this model, the input (or explanatory) variable was the height of the father.\n",
    "\n",
    "### BEGIN SOLUTION\n",
    "\n",
    "TRUE\n",
    "\n",
    "### END SOLUTION\n",
    "\n",
    "## Question 2\n",
    "\n",
    "Answer TRUE/FALSE to the following statement:\n",
    "\n",
    "An *additive* multiple linear regression with one continuous input variable and one categorical input variable with four categories has 4 *slopes* to be estimated.\n",
    "\n",
    "### BEGIN SOLUTION\n",
    "\n",
    "FALSE, the additive model has a unique slope shared by all the levels of the categorical variable. We assume that the association between the response and the continuous covariate is the *same* for all levels of the categorical variable.\n",
    "\n",
    "### END SOLUTION\n",
    "\n",
    "\n",
    "## Question 3\n",
    "\n",
    "Answer TRUE/FALSE to the following statement:\n",
    "\n",
    "Using bootstrapping, we can approximate the standard error of the estimator of the slope $\\hat{\\beta}_1$ by the standard deviation of the bootstrap estimates.\n",
    "\n",
    "### BEGIN SOLUTION\n",
    "\n",
    "TRUE\n",
    "\n",
    "### END SOLUTION\n",
    "\n",
    "## Question 4\n",
    "\n",
    "Answer TRUE/FALSE to the following statement:\n",
    "\n",
    "Using data, we compute a 95% confidence interval for the population slope $\\beta_1$ of a simple linear regression and obtain the interval (30.3, 31.6). Based on this result we can claim that the population slope is between 30.3 and 31.6 with a 95% probability. \n",
    "\n",
    "\n",
    "### BEGIN SOLUTION\n",
    "\n",
    "FALSE, it should say \"95% confidence\". Once the CI is built using data, there is no more randomness to measure a *probability*. If CIs are computed based on *different* samples, we are confident that 95% of them will contain the true slope. The one based on your data may or may not cover the true slope.\n",
    "\n",
    "### END SOLUTION\n",
    "\n",
    "## Question 5\n",
    "\n",
    "The `tidy()` function displays the column `std.error`. List one possible use or interpretation for these values in this column in one or two sentences.\n",
    "\n",
    "### BEGIN SOLUTION\n",
    "\n",
    "- The `std.error` column can be used to estimate the margin of errors in the confidence intervals for each one of the model estimates.\n",
    "- Moreover, each value in this column can be used to compute the test statistic $t$-value to be used in hypothesis testing to compute the corresponding $p$-value associated with it under the null hypothesis $H_0$.\n",
    "- We can also use these values to measure an estimator's expected variation due to random sampling.\n",
    "\n",
    "**Notes on marking:**\n",
    "\n",
    "- One use is enough to give the full mark.\n",
    "\n",
    "### END SOLUTION\n",
    "\n"
   ]
  },
  {
   "cell_type": "markdown",
   "metadata": {},
   "source": [
    "## Question 6\n",
    "\n",
    "We want to investigate which variables affect the tax assessed values of properties. We are going to use a dataset called `dat_tax`, that contains valuations and property conditions of 1000 properties randomly selected from data collected in 2014 for all residencial properties in the Strathcona County, Alberta. \n",
    "\n",
    "Among other variables in the dataset, we will focus on the following 3 variables:\n",
    "\n",
    "- `ASSESSMENT`: the assessed value of the property (in $)\n",
    "\n",
    "\n",
    "- `BLDG_METRE`: the size of the property (in mts)\n",
    "        \n",
    "\n",
    "- `BLDG_AGE`: the age of the property as a categorical variable with 3 levels: \"plus40\" (selected as the reference level for properties built more than 40 years ago) , \"mid40-20\" (for properties that are 40 to 20 years old) and \"new20\" (for properties that were built less than 20 years ago)."
   ]
  },
  {
   "cell_type": "markdown",
   "metadata": {},
   "source": [
    "**Question 6.1**\n",
    "\n",
    "Provide the R code to estimate a simple linear regression to model the relation between the response and a continuous input variable. Use the name of the variables given above.\n",
    "\n",
    "### BEGIN SOLUTION\n",
    "\n",
    "> lm_size<- lm(ASSESSMENT ~ BLDG_METRE, data = dat_tax)\n",
    "\n",
    "### END SOLUTION"
   ]
  },
  {
   "cell_type": "markdown",
   "metadata": {},
   "source": [
    "**Question 6.2**\n",
    "\n",
    "Using `dat_tax`, we estimate a simple linear regression using `lm()` to study the relation between the assessed value of a property and its size. Results are shown in the table below obtained with `tidy()`. In one sentence, interpret the estimate of the parameter for `BLDG_METRE`. \n"
   ]
  },
  {
   "cell_type": "code",
   "execution_count": 2,
   "metadata": {
    "scrolled": true
   },
   "outputs": [
    {
     "data": {
      "text/html": [
       "<table class=\"dataframe\">\n",
       "<caption>A tibble: 2 × 5</caption>\n",
       "<thead>\n",
       "\t<tr><th scope=col>term</th><th scope=col>estimate</th><th scope=col>std.error</th><th scope=col>statistic</th><th scope=col>p.value</th></tr>\n",
       "\t<tr><th scope=col>&lt;chr&gt;</th><th scope=col>&lt;dbl&gt;</th><th scope=col>&lt;dbl&gt;</th><th scope=col>&lt;dbl&gt;</th><th scope=col>&lt;dbl&gt;</th></tr>\n",
       "</thead>\n",
       "<tbody>\n",
       "\t<tr><td>(Intercept)</td><td>127317.865</td><td>10033.463</td><td>12.689</td><td>0</td></tr>\n",
       "\t<tr><td>BLDG_METRE </td><td>  2356.108</td><td>   62.966</td><td>37.419</td><td>0</td></tr>\n",
       "</tbody>\n",
       "</table>\n"
      ],
      "text/latex": [
       "A tibble: 2 × 5\n",
       "\\begin{tabular}{lllll}\n",
       " term & estimate & std.error & statistic & p.value\\\\\n",
       " <chr> & <dbl> & <dbl> & <dbl> & <dbl>\\\\\n",
       "\\hline\n",
       "\t (Intercept) & 127317.865 & 10033.463 & 12.689 & 0\\\\\n",
       "\t BLDG\\_METRE  &   2356.108 &    62.966 & 37.419 & 0\\\\\n",
       "\\end{tabular}\n"
      ],
      "text/markdown": [
       "\n",
       "A tibble: 2 × 5\n",
       "\n",
       "| term &lt;chr&gt; | estimate &lt;dbl&gt; | std.error &lt;dbl&gt; | statistic &lt;dbl&gt; | p.value &lt;dbl&gt; |\n",
       "|---|---|---|---|---|\n",
       "| (Intercept) | 127317.865 | 10033.463 | 12.689 | 0 |\n",
       "| BLDG_METRE  |   2356.108 |    62.966 | 37.419 | 0 |\n",
       "\n"
      ],
      "text/plain": [
       "  term        estimate   std.error statistic p.value\n",
       "1 (Intercept) 127317.865 10033.463 12.689    0      \n",
       "2 BLDG_METRE    2356.108    62.966 37.419    0      "
      ]
     },
     "metadata": {},
     "output_type": "display_data"
    }
   ],
   "source": [
    "# The code will not be displayed in the quiz\n",
    "lm_size<- lm(ASSESSMENT ~ BLDG_METRE, data = dat_tax)\n",
    "tidy(lm_size)  %>% mutate_if(is.numeric, round, 3)"
   ]
  },
  {
   "cell_type": "markdown",
   "metadata": {
    "jp-MarkdownHeadingCollapsed": true
   },
   "source": [
    "### BEGIN SOLUTION\n",
    "\n",
    "An additional meter in the size of the property is associated with an expected increase in the assessed value of $2356.108.\n",
    "\n",
    "### END SOLUTION"
   ]
  },
  {
   "cell_type": "markdown",
   "metadata": {},
   "source": [
    "## Question 7\n",
    "\n",
    "Using `dat_tax`, we want to investigate if the assessed value of a property is associated with its age measured by `BLDG_AGE`. We fit a linear regression model with `lm()`. The output of `tidy()` is shown below."
   ]
  },
  {
   "cell_type": "code",
   "execution_count": 3,
   "metadata": {},
   "outputs": [
    {
     "data": {
      "text/html": [
       "<table class=\"dataframe\">\n",
       "<caption>A tibble: 4 × 5</caption>\n",
       "<thead>\n",
       "\t<tr><th scope=col>term</th><th scope=col>estimate</th><th scope=col>std.error</th><th scope=col>statistic</th><th scope=col>p.value</th></tr>\n",
       "\t<tr><th scope=col>&lt;chr&gt;</th><th scope=col>&lt;dbl&gt;</th><th scope=col>&lt;dbl&gt;</th><th scope=col>&lt;dbl&gt;</th><th scope=col>&lt;dbl&gt;</th></tr>\n",
       "</thead>\n",
       "<tbody>\n",
       "\t<tr><td>(Intercept)     </td><td>125789.449</td><td>9916.236</td><td>12.685</td><td>0</td></tr>\n",
       "\t<tr><td>BLDG_METRE      </td><td>  2214.924</td><td>  66.918</td><td>33.099</td><td>0</td></tr>\n",
       "\t<tr><td>BLDG_AGEmid40-20</td><td> 35158.027</td><td>7953.204</td><td> 4.421</td><td>0</td></tr>\n",
       "\t<tr><td>BLDG_AGEnew20   </td><td> 43237.149</td><td>8369.910</td><td> 5.166</td><td>0</td></tr>\n",
       "</tbody>\n",
       "</table>\n"
      ],
      "text/latex": [
       "A tibble: 4 × 5\n",
       "\\begin{tabular}{lllll}\n",
       " term & estimate & std.error & statistic & p.value\\\\\n",
       " <chr> & <dbl> & <dbl> & <dbl> & <dbl>\\\\\n",
       "\\hline\n",
       "\t (Intercept)      & 125789.449 & 9916.236 & 12.685 & 0\\\\\n",
       "\t BLDG\\_METRE       &   2214.924 &   66.918 & 33.099 & 0\\\\\n",
       "\t BLDG\\_AGEmid40-20 &  35158.027 & 7953.204 &  4.421 & 0\\\\\n",
       "\t BLDG\\_AGEnew20    &  43237.149 & 8369.910 &  5.166 & 0\\\\\n",
       "\\end{tabular}\n"
      ],
      "text/markdown": [
       "\n",
       "A tibble: 4 × 5\n",
       "\n",
       "| term &lt;chr&gt; | estimate &lt;dbl&gt; | std.error &lt;dbl&gt; | statistic &lt;dbl&gt; | p.value &lt;dbl&gt; |\n",
       "|---|---|---|---|---|\n",
       "| (Intercept)      | 125789.449 | 9916.236 | 12.685 | 0 |\n",
       "| BLDG_METRE       |   2214.924 |   66.918 | 33.099 | 0 |\n",
       "| BLDG_AGEmid40-20 |  35158.027 | 7953.204 |  4.421 | 0 |\n",
       "| BLDG_AGEnew20    |  43237.149 | 8369.910 |  5.166 | 0 |\n",
       "\n"
      ],
      "text/plain": [
       "  term             estimate   std.error statistic p.value\n",
       "1 (Intercept)      125789.449 9916.236  12.685    0      \n",
       "2 BLDG_METRE         2214.924   66.918  33.099    0      \n",
       "3 BLDG_AGEmid40-20  35158.027 7953.204   4.421    0      \n",
       "4 BLDG_AGEnew20     43237.149 8369.910   5.166    0      "
      ]
     },
     "metadata": {},
     "output_type": "display_data"
    }
   ],
   "source": [
    "# The code will not be displayed in the quiz\n",
    "\n",
    "lm_size_age_add <- lm(ASSESSMENT ~ BLDG_METRE + BLDG_AGE, data = dat_tax)\n",
    "tidy(lm_size_age_add)  %>% mutate_if(is.numeric, round, 3)"
   ]
  },
  {
   "cell_type": "markdown",
   "metadata": {},
   "source": [
    "**Question 7.1**\n",
    "\n",
    "Based on the estimates and results in the table given by `tidy()`, determine if the model contains any interaction term and in one or two sentences justify your answer.\n",
    "\n",
    "### BEGIN SOLUTION\n",
    "\n",
    "The model does not contain an interaction term. There are only 4 parameters to characterize 3 lines with equal slopes. \n",
    "\n",
    "The model does not contain an interaction term. There is only one common slope given by the estimate of `BLDG_METRE`.\n",
    "\n",
    "### END SOLUTION"
   ]
  },
  {
   "cell_type": "markdown",
   "metadata": {},
   "source": [
    "**Question 7.2**\n",
    "\n",
    "In one or two sentences, explain which assumption was made about the relation of the variables to propose such a model (i.e., with or without interactions). In other words, what was assumed about the relation between the assessed value and the size for properties of different ages?\n",
    "\n",
    "### BEGIN SOLUTION\n",
    "\n",
    "An additive model was fit since it was assumed that the association between the assessed value and the size of the property is the same for properties of all ages. The slope is the same for all levels of `BLDG_AGE`. \n",
    "\n",
    "### END SOLUTION"
   ]
  },
  {
   "cell_type": "markdown",
   "metadata": {},
   "source": [
    "**Question 7.3**\n",
    "\n",
    "Which of the following plots matches the model fit and summarized in the previous table? In one or two sentences, justify your choice and explain how the estimates given in the table relate with the line(s) in your selected plot.\n",
    "\n",
    "### BEGIN SOLUTION\n",
    "\n",
    "PLOT B: An additive model is represented by 3 paralell lines slope. The common slope is equal to 2214.924. The intercept of the reference red line is 125789.449. The intercept of the green line is (2214.924 + 35158.027). The intercept of the blue line is (2214.924 + 43237.149).\n",
    "\n",
    "### END SOLUTION"
   ]
  },
  {
   "cell_type": "code",
   "execution_count": 7,
   "metadata": {},
   "outputs": [
    {
     "data": {
      "text/html": [
       "<strong>png:</strong> 2"
      ],
      "text/latex": [
       "\\textbf{png:} 2"
      ],
      "text/markdown": [
       "**png:** 2"
      ],
      "text/plain": [
       "png \n",
       "  2 "
      ]
     },
     "metadata": {},
     "output_type": "display_data"
    }
   ],
   "source": [
    "# The code will not be displayed in the quiz\n",
    "options(repr.plot.width = 15, repr.plot.height = 7)\n",
    "\n",
    "#SLR\n",
    "dat_tax$pred_slm <- predict(lm_size)\n",
    "\n",
    "lm_size_plot <- ggplot(dat_tax, aes(\n",
    "  x = BLDG_METRE,\n",
    "  y = ASSESSMENT,\n",
    "  color = BLDG_AGE\n",
    ")) +\n",
    "  geom_point() +\n",
    "  geom_line(aes(y = pred_slm), size = 1, color = \"black\") +\n",
    "  labs(\n",
    "    title = \"PLOT A\",\n",
    "    x = \"Building Size (mts)\",\n",
    "    y = \"Assessed Value ($)\"\n",
    "  ) +\n",
    "  theme(\n",
    "    text = element_text(size = 16.5),\n",
    "    plot.title = element_text(face = \"bold\"),\n",
    "    axis.title = element_text(face = \"bold\"),\n",
    "    legend.title = element_text(face = \"bold\"),\n",
    "  ) +\n",
    "  labs(color = \"Building Age\")\n",
    "\n",
    "#Additive\n",
    "dat_tax$pred_lm_add <- predict(lm_size_age_add)\n",
    "\n",
    "lm_size_age_add_plot <- ggplot(dat_tax, aes(\n",
    "  x = BLDG_METRE,\n",
    "  y = ASSESSMENT,\n",
    "  color = BLDG_AGE\n",
    ")) +\n",
    "  geom_point() +\n",
    "  geom_line(aes(y = pred_lm_add), size = 1) +\n",
    "  labs(\n",
    "    title = \"PLOT B\",\n",
    "    x = \"Building Size (mts)\",\n",
    "    y = \"Assessed Value ($)\"\n",
    "  ) +\n",
    "  theme(\n",
    "    text = element_text(size = 16.5),\n",
    "    plot.title = element_text(face = \"bold\"),\n",
    "    axis.title = element_text(face = \"bold\"),\n",
    "    legend.title = element_text(face = \"bold\"),\n",
    "  ) +\n",
    "  labs(color = \"Building Age\")\n",
    "\n",
    "#Interaction\n",
    "lm_size_age_int <- lm(ASSESSMENT ~ BLDG_METRE * BLDG_AGE, data = dat_tax)\n",
    "dat_tax$pred_lm_int <- predict(lm_size_age_int)\n",
    "png(filename=\"faithful.png\")\n",
    "lm_size_age_int_plot <- ggplot(dat_tax, aes(\n",
    "  x = BLDG_METRE,\n",
    "  y = ASSESSMENT,\n",
    "  color = BLDG_AGE\n",
    ")) +\n",
    "  geom_point() +\n",
    "  geom_line(aes(y = pred_lm_int), size = 1) +\n",
    "  labs(\n",
    "    title = \"PLOT C\",\n",
    "    x = \"Building Size (mts)\",\n",
    "    y = \"Assessed Value ($)\"\n",
    "  ) +\n",
    "  theme(\n",
    "    text = element_text(size = 16.5),\n",
    "    plot.title = element_text(face = \"bold\"),\n",
    "    axis.title = element_text(face = \"bold\"),\n",
    "    legend.title = element_text(face = \"bold\"),\n",
    "  ) +\n",
    "  labs(color = \"Building Age\")\n",
    "\n",
    "png(filename=\"/home/lourenzutti/question10.png\", width = 1000, height = 750)\n",
    "plot_grid(lm_size_plot, lm_size_age_add_plot, lm_size_age_int_plot)\n",
    "dev.off()"
   ]
  },
  {
   "cell_type": "markdown",
   "metadata": {},
   "source": [
    "## Question 8\n",
    "\n",
    "Using `dat_tax`, and fitting a model *with interactions*, we obtain an estimate for the term `BLDG_METRE` together with results of a test of hypothesis and 95% confidence intervals. Based on the output displayed below, select all the claims that are *correct*:"
   ]
  },
  {
   "cell_type": "code",
   "execution_count": 5,
   "metadata": {},
   "outputs": [
    {
     "data": {
      "text/html": [
       "<table class=\"dataframe\">\n",
       "<caption>A tibble: 1 × 7</caption>\n",
       "<thead>\n",
       "\t<tr><th scope=col>term</th><th scope=col>estimate</th><th scope=col>std.error</th><th scope=col>statistic</th><th scope=col>p.value</th><th scope=col>conf.low</th><th scope=col>conf.high</th></tr>\n",
       "\t<tr><th scope=col>&lt;chr&gt;</th><th scope=col>&lt;dbl&gt;</th><th scope=col>&lt;dbl&gt;</th><th scope=col>&lt;dbl&gt;</th><th scope=col>&lt;dbl&gt;</th><th scope=col>&lt;dbl&gt;</th><th scope=col>&lt;dbl&gt;</th></tr>\n",
       "</thead>\n",
       "<tbody>\n",
       "\t<tr><td>BLDG_METRE</td><td>1768.566</td><td>120.009</td><td>14.737</td><td>0</td><td>1533.065</td><td>2004.067</td></tr>\n",
       "</tbody>\n",
       "</table>\n"
      ],
      "text/latex": [
       "A tibble: 1 × 7\n",
       "\\begin{tabular}{lllllll}\n",
       " term & estimate & std.error & statistic & p.value & conf.low & conf.high\\\\\n",
       " <chr> & <dbl> & <dbl> & <dbl> & <dbl> & <dbl> & <dbl>\\\\\n",
       "\\hline\n",
       "\t BLDG\\_METRE & 1768.566 & 120.009 & 14.737 & 0 & 1533.065 & 2004.067\\\\\n",
       "\\end{tabular}\n"
      ],
      "text/markdown": [
       "\n",
       "A tibble: 1 × 7\n",
       "\n",
       "| term &lt;chr&gt; | estimate &lt;dbl&gt; | std.error &lt;dbl&gt; | statistic &lt;dbl&gt; | p.value &lt;dbl&gt; | conf.low &lt;dbl&gt; | conf.high &lt;dbl&gt; |\n",
       "|---|---|---|---|---|---|---|\n",
       "| BLDG_METRE | 1768.566 | 120.009 | 14.737 | 0 | 1533.065 | 2004.067 |\n",
       "\n"
      ],
      "text/plain": [
       "  term       estimate std.error statistic p.value conf.low conf.high\n",
       "1 BLDG_METRE 1768.566 120.009   14.737    0       1533.065 2004.067 "
      ]
     },
     "metadata": {},
     "output_type": "display_data"
    }
   ],
   "source": [
    "# The code will not be displayed in the quiz\n",
    "tidy(lm_size_age_int, conf.int = TRUE)  %>% mutate_if(is.numeric, round, 3) %>% \n",
    "    subset(term == \"BLDG_METRE\")\n"
   ]
  },
  {
   "cell_type": "markdown",
   "metadata": {},
   "source": [
    "**A.** at significance level of 5%, the assessed value of a property more than 40 years old is statistically different from that of houses less than 20 years old.\n",
    "\n",
    "**B.** at significance level of 5%, the assessed value of any property is significantly associated with the size of the property.\n",
    "\n",
    "**C.** at significance level of 5%, we have enough evidence to reject the null hypothesis that the assessed value of any property are not associated with the size of the property.\n",
    "\n",
    "**D.** at significance level of 5%, we have enough evidence to reject the null hypothesis that the  assessed value of properties more than 40 years old are not associated with the size of the property.\n",
    "\n",
    "**E.** with 95% confidence, we expect that the assessed value of a property increases between \\\\$1533.065 and \\\\$2004.067 for every 1 additional metre in size.\n",
    "\n",
    "**F.** with 95% confidence, we expect that the assessed value of a property increases between \\\\$1533.065 and \\\\$2004.067.\n",
    "\n",
    "**G.** with 95% confidence, the expected assessed value of a property more than 40 years old is between \\\\$1533.065 and \\\\$2004.067.\n",
    "\n",
    "### BEGIN SOLUTION\n",
    "\n",
    "D is the only correct one. All other options do not state \"for properties with more than 40 years\" (reference value) or refer to a wrong parameter in a model *with* interaction terms.\n",
    "\n",
    "### END SOLUTION"
   ]
  }
 ],
 "metadata": {
  "anaconda-cloud": "",
  "kernelspec": {
   "display_name": "R",
   "language": "R",
   "name": "ir"
  },
  "language_info": {
   "codemirror_mode": "r",
   "file_extension": ".r",
   "mimetype": "text/x-r-source",
   "name": "R",
   "pygments_lexer": "r",
   "version": "4.3.3"
  }
 },
 "nbformat": 4,
 "nbformat_minor": 4
}
