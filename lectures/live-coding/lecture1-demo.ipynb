{
 "cells": [
  {
   "cell_type": "markdown",
   "id": "ba0fbdd8-cdbe-4903-b2ab-9da3e6fc9aa3",
   "metadata": {},
   "source": [
    "# Lecture 1: Code demo"
   ]
  },
  {
   "cell_type": "code",
   "execution_count": 1,
   "id": "32a43678-52dd-4363-b8c7-3c5a2be54362",
   "metadata": {
    "vscode": {
     "languageId": "r"
    }
   },
   "outputs": [],
   "source": [
    "suppressPackageStartupMessages(library(tidyverse))\n",
    "library(palmerpenguins)\n",
    "library(infer)\n",
    "library(modelr)\n",
    "\n",
    "options(repr.plot.width = 20, repr.plot.height = 10) "
   ]
  },
  {
   "cell_type": "markdown",
   "id": "155a1313-db56-4b4c-8e60-d1549f27186b",
   "metadata": {},
   "source": [
    "## Part I"
   ]
  },
  {
   "cell_type": "markdown",
   "id": "75b32b08-1740-4a91-af3a-6d830b1250c5",
   "metadata": {},
   "source": [
    "## Part II - Confidence Interval"
   ]
  },
  {
   "cell_type": "markdown",
   "id": "f47bce6b-1dcc-4750-ad8c-92805c7fb517",
   "metadata": {},
   "source": [
    "## Part III - Hypothesis Test"
   ]
  },
  {
   "cell_type": "markdown",
   "id": "63ae535b-741a-466b-a18a-2f101affe021",
   "metadata": {},
   "source": [
    "## Part IV - Range Problem"
   ]
  }
 ],
 "metadata": {
  "kernelspec": {
   "display_name": "R",
   "language": "R",
   "name": "ir"
  },
  "language_info": {
   "codemirror_mode": "r",
   "file_extension": ".r",
   "mimetype": "text/x-r-source",
   "name": "R",
   "pygments_lexer": "r",
   "version": "4.4.1"
  }
 },
 "nbformat": 4,
 "nbformat_minor": 5
}
