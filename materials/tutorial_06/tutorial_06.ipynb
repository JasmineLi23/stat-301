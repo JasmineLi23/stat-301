{
 "cells": [
  {
   "cell_type": "markdown",
   "metadata": {
    "deletable": false,
    "editable": false,
    "nbgrader": {
     "cell_type": "markdown",
     "checksum": "2b0f070101084eb8f3522b6d98de3e22",
     "grade": false,
     "grade_id": "cell-f1e1d845873036f4",
     "locked": true,
     "schema_version": 3,
     "solution": false,
     "task": false
    }
   },
   "source": [
    "# Tutorial 06: Prediction and Model Selection"
   ]
  },
  {
   "cell_type": "markdown",
   "metadata": {
    "deletable": false,
    "editable": false,
    "nbgrader": {
     "cell_type": "markdown",
     "checksum": "121dec766338069b7d734157ebd348c2",
     "grade": false,
     "grade_id": "cell-34b6d6e1de870f0a",
     "locked": true,
     "schema_version": 3,
     "solution": false,
     "task": false
    }
   },
   "source": [
    "## **Lecture and Tutorial Learning Goals:**\n",
    "\n",
    "By the end of this section, students will be able to:\n",
    "\n",
    "- Explain the difference between confidence intervals for prediction and prediction confidence intervals and what elements need to be estimated to construct these intervals.\n",
    "\n",
    "- Write a computer script to calculate these intervals. Interpret and communicate the results from that computer script.\n",
    "\n",
    "- Give an example of a question that can be answered by predictive modelling.\n",
    "\n",
    "- Explain the algorithms for the following variable selection methods: • Forward selection • Backward selection\n",
    "\n",
    "- Explain when linear regression is an appropriate model to predict new outcomes based on new values of the input variables.\n",
    "\n",
    "- List model metrics suitable for evaluating a statistical model developed for predictive modelling (e.g., RMSE) and how they are calculated.\n",
    "\n",
    "- Discuss how different estimation methods can result in different predictions."
   ]
  },
  {
   "cell_type": "code",
   "execution_count": null,
   "metadata": {
    "deletable": false,
    "editable": false,
    "nbgrader": {
     "cell_type": "code",
     "checksum": "65ee1973f073a1a4e5a9d1b9ffedb380",
     "grade": false,
     "grade_id": "cell-a2a153352bc44a68",
     "locked": true,
     "schema_version": 3,
     "solution": false,
     "task": false
    },
    "tags": []
   },
   "outputs": [],
   "source": [
    "# Run this cell before continuing.\n",
    "library(broom)\n",
    "library(repr)\n",
    "library(infer)\n",
    "library(gridExtra)\n",
    "library(faraway)\n",
    "library(mltools)\n",
    "library(leaps)\n",
    "library(glmnet)\n",
    "library(cowplot)\n",
    "library(modelr)\n",
    "library(tidyverse)\n",
    "\n",
    "source(\"tests_tutorial_06.R\")"
   ]
  },
  {
   "cell_type": "markdown",
   "metadata": {
    "deletable": false,
    "editable": false,
    "nbgrader": {
     "cell_type": "markdown",
     "checksum": "f93e5b17d9ccdf159b694dbae8e907b9",
     "grade": false,
     "grade_id": "cell-b2663beefdcc8af5",
     "locked": true,
     "schema_version": 3,
     "solution": false,
     "task": false
    }
   },
   "source": [
    "## **1. Prediction CI *versus* CI for Prediction**\n",
    "\n",
    "We have learned how to estimate and use LR models to infer population parameters. Now, we will learn different concepts related to prediction.\n",
    "\n",
    "In predictive modelling and analysis, it is essential to recognize and understand the distinction between **in-sample** prediction and **out-of-sample** prediction.\n",
    "\n",
    "We have seen different measures to compare the *in-sample* values of the response with their corresponding predicted values using an LR to evaluate the model's goodness of fit. In the first part of this tutorial, we are going to recognize and measure the *uncertainty* of these predictions."
   ]
  },
  {
   "cell_type": "markdown",
   "metadata": {
    "deletable": false,
    "editable": false,
    "nbgrader": {
     "cell_type": "markdown",
     "checksum": "9dc060c390d80299907037aafe85777f",
     "grade": false,
     "grade_id": "cell-6b0d24d7f154f4c7",
     "locked": true,
     "schema_version": 3,
     "solution": false,
     "task": false
    }
   },
   "source": [
    "Let us start by loading the dataset to be used throughout this tutorial. We will use the dataset `fat` from the library `faraway`. You can find detailed information about it in [Johnson (1996)](https://www.tandfonline.com/doi/full/10.1080/10691898.1996.11910505). This dataset contains the percentage of body fat and a variety of body measurements (continuous variables) of 252 men. We will use the variable `brozek` as the response variable and a subset of 14 variables to build different models. \n",
    "\n",
    "Run the code below to create the working data frame called `fat_sample`."
   ]
  },
  {
   "cell_type": "code",
   "execution_count": null,
   "metadata": {
    "deletable": false,
    "editable": false,
    "nbgrader": {
     "cell_type": "code",
     "checksum": "4f37d578a4ae85b1e3f0b5ac9e8aa228",
     "grade": false,
     "grade_id": "cell-1d7ec8f490a2c3bc",
     "locked": true,
     "schema_version": 3,
     "solution": false,
     "task": false
    },
    "tags": []
   },
   "outputs": [],
   "source": [
    "fat_sample <- \n",
    "    fat %>%\n",
    "    select(brozek, age:adipos, neck:wrist)\n",
    "\n",
    "head(fat_sample,3)"
   ]
  },
  {
   "cell_type": "markdown",
   "metadata": {
    "deletable": false,
    "editable": false,
    "nbgrader": {
     "cell_type": "markdown",
     "checksum": "38cec0b7286293c3cab0b916a7d122bf",
     "grade": false,
     "grade_id": "cell-2a05a7dad6e0eaf6",
     "locked": true,
     "schema_version": 3,
     "solution": false,
     "task": false
    }
   },
   "source": [
    "The response variable `brozek` is the percent of body fat using Brozek's equation:\n",
    "\n",
    "$$\\texttt{brozek} = \\frac{457}{\\texttt{density}} - 414.2,$$\n",
    "\n",
    "where body `density` is measured in $\\text{g}/\\text{cm}^3$.\n",
    "\n",
    "The 14 input variables are:\n",
    "\n",
    "- `age`: Age in $\\text{years}$.\n",
    "- `weight`: Weight in $\\text{lb}$.\n",
    "- `height`: Height in $\\text{in}$.\n",
    "- `adipos`: Adiposity index in $\\text{kg}/\\text{m}^2$.\n",
    "\n",
    "$$\\texttt{adipos} = \\frac{\\texttt{weight}}{\\texttt{height}^2}$$\n",
    "\n",
    "- `neck`: Neck circumference in $\\text{cm}$.\n",
    "- `chest`: Chest circumference in $\\text{cm}$.\n",
    "- `abdom`: Abdomen circumference at the umbilicus and level with the iliac crest in $\\text{cm}$.\n",
    "- `hip`: Hip circumference in $\\text{cm}$.\n",
    "- `thigh`: Thigh circumference in $\\text{cm}$.\n",
    "- `knee`: Knee circumference in $\\text{cm}$.\n",
    "- `ankle`: Ankle circumference in $\\text{cm}$.\n",
    "- `biceps`: Extended biceps circumference in $\\text{cm}$.\n",
    "- `forearm`: Forearm circumference in $\\text{cm}$.\n",
    "- `wrist`: Wrist circumference distal to the styloid processes in $\\text{cm}$."
   ]
  },
  {
   "cell_type": "markdown",
   "metadata": {
    "deletable": false,
    "editable": false,
    "nbgrader": {
     "cell_type": "markdown",
     "checksum": "2e8f2c5066913976a3d07a979ab2ae04",
     "grade": false,
     "grade_id": "cell-942a4a50b59db180",
     "locked": true,
     "schema_version": 3,
     "solution": false,
     "task": false
    }
   },
   "source": [
    "**Question 1.0**\n",
    "<br>{points: 1}\n",
    "\n",
    "Let's start by building an SLR using only `weight` to predict `brozek.`\n",
    "\n",
    "Use the `lm()` function to estimate the SLR. Store this estimated model in the variable `SLR_fat`.\n",
    "\n",
    "*Fill out those parts indicated with ..., uncomment the corresponding code in the cell below, and run it.*"
   ]
  },
  {
   "cell_type": "code",
   "execution_count": null,
   "metadata": {
    "deletable": false,
    "nbgrader": {
     "cell_type": "code",
     "checksum": "48120117809c17de7d29914a3b57f147",
     "grade": false,
     "grade_id": "cell-cee6d509d573577c",
     "locked": false,
     "schema_version": 3,
     "solution": true,
     "task": false
    },
    "tags": []
   },
   "outputs": [],
   "source": [
    "# SLR_fat <- ...(..., ...)\n",
    "\n",
    "# your code here\n",
    "fail() # No Answer - remove if you provide an answer\n",
    "\n",
    "SLR_fat"
   ]
  },
  {
   "cell_type": "code",
   "execution_count": null,
   "metadata": {
    "deletable": false,
    "editable": false,
    "nbgrader": {
     "cell_type": "code",
     "checksum": "dcad7e97d299f54f096499be4b03849c",
     "grade": true,
     "grade_id": "cell-8134da8c9b28310c",
     "locked": true,
     "points": 1,
     "schema_version": 3,
     "solution": false,
     "task": false
    },
    "tags": []
   },
   "outputs": [],
   "source": [
    "test_1.0()"
   ]
  },
  {
   "cell_type": "markdown",
   "metadata": {
    "deletable": false,
    "editable": false,
    "nbgrader": {
     "cell_type": "markdown",
     "checksum": "3479c0f9e071fb189ea432c46dcd311e",
     "grade": false,
     "grade_id": "cell-35a25d7e5fb6c3ac",
     "locked": true,
     "schema_version": 3,
     "solution": false,
     "task": false
    }
   },
   "source": [
    "<hr>\n",
    "\n",
    "In previous weeks, we learned how to obtain and interpret confidence intervals for the regression parameters. \n",
    "\n",
    "Since the predictions are functions of the estimated LR, they also depend on the sample used! A different sample would have resulted in a different estimated LR and different predictions! As dicussed for the estimation of the regression parameters, we can obtain confidence intervals that take into account the sample-to-sample variation of the predictions as well.\n",
    "\n",
    "There are 2 type of intervals we can construct depending on the quantity we want to predict: *confidence intervals for prediction* and *prediction confidence intervals*. Confusing names, right? Here's the difference:\n",
    "- **Confidence interval for prediction:** a confidence interval for the conditional average $E[Y_i |X_i]$.\n",
    "- **Prediction confidence interval:** a confidence interval for the observation $Y_i$. "
   ]
  },
  {
   "cell_type": "markdown",
   "metadata": {
    "deletable": false,
    "editable": false,
    "nbgrader": {
     "cell_type": "markdown",
     "checksum": "f61ad41d91e45fc516ea4ec61c542dc2",
     "grade": false,
     "grade_id": "cell-0703f7523bc3021e",
     "locked": true,
     "schema_version": 3,
     "solution": false,
     "task": false
    },
    "tags": []
   },
   "source": [
    "**Question 1.1**\n",
    "<br>{points: 1}\n",
    "\n",
    "Let's start by computing confidence intervals for prediction. These intervals predict the average `brozek` index for men of a given  weight. \n",
    "\n",
    "Using `SLR_fat` and `predict`, obtain the asymptotic 95% CIP (confidence intervals for prediction). \n",
    "\n",
    "Create a data frame called `fat_cip` that contains the response, the input, the predictions, and the lower and upper bounds of the intervals for each observation **in that order from left-to-right**. \n",
    "\n",
    "*Fill out those parts indicated with ..., uncomment the corresponding code in the cell below, and run it.*"
   ]
  },
  {
   "cell_type": "code",
   "execution_count": null,
   "metadata": {
    "deletable": false,
    "nbgrader": {
     "cell_type": "code",
     "checksum": "c6318fef2c8b8734254c6652f77b0ce0",
     "grade": false,
     "grade_id": "cell-0718e1af1d8b43a7",
     "locked": false,
     "schema_version": 3,
     "solution": true,
     "task": false
    },
    "tags": []
   },
   "outputs": [],
   "source": [
    "# fat_cip <- \n",
    "#    fat_sample %>% \n",
    "#    select(..., ...) %>% \n",
    "#    cbind(predict(...,interval=\"confidence\",se.fit=TRUE)$fit) %>% \n",
    "#    mutate_if(is.numeric, round, 3)\n",
    "\n",
    "# your code here\n",
    "fail() # No Answer - remove if you provide an answer\n",
    "\n",
    "head(fat_cip)"
   ]
  },
  {
   "cell_type": "code",
   "execution_count": null,
   "metadata": {
    "deletable": false,
    "editable": false,
    "nbgrader": {
     "cell_type": "code",
     "checksum": "9160e8ee5bf1fced0ce25c0527f046e2",
     "grade": true,
     "grade_id": "cell-6e10147cc53c2bef",
     "locked": true,
     "points": 1,
     "schema_version": 3,
     "solution": false,
     "task": false
    },
    "tags": []
   },
   "outputs": [],
   "source": [
    "test_1.1()"
   ]
  },
  {
   "cell_type": "markdown",
   "metadata": {
    "deletable": false,
    "editable": false,
    "nbgrader": {
     "cell_type": "markdown",
     "checksum": "3daac4c5d419e3d9341091fd8f640139",
     "grade": false,
     "grade_id": "cell-cc6cc973e47676ca",
     "locked": true,
     "schema_version": 3,
     "solution": false,
     "task": false
    }
   },
   "source": [
    "**Question 1.2**\n",
    "<br>{points: 1}\n",
    "\n",
    "We have just calculated the 95% confidence interval for the mean `brozek` index for men of different weights in our sample. \n",
    "\n",
    "Provide a brief interpretation of the 95% confidence interval for the prediction you have calculated in row 1."
   ]
  },
  {
   "cell_type": "markdown",
   "metadata": {
    "deletable": false,
    "nbgrader": {
     "cell_type": "markdown",
     "checksum": "76aa3983f86e28fd6b60217db682c747",
     "grade": true,
     "grade_id": "cell-cb3333bc637ff1b6",
     "locked": false,
     "points": 1,
     "schema_version": 3,
     "solution": true,
     "task": false
    }
   },
   "source": [
    "> *Your answer goes here.*\n",
    "\n",
    "DOUBLE CLICK TO EDIT **THIS CELL** AND REPLACE THIS TEXT WITH YOUR ANSWER."
   ]
  },
  {
   "cell_type": "markdown",
   "metadata": {
    "deletable": false,
    "editable": false,
    "nbgrader": {
     "cell_type": "markdown",
     "checksum": "060f10848f6c1edb106ce40816c66825",
     "grade": false,
     "grade_id": "cell-9323580fb03a9331",
     "locked": true,
     "schema_version": 3,
     "solution": false,
     "task": false
    }
   },
   "source": [
    "**Question 1.3**\n",
    "<br>{points: 1}\n",
    "\n",
    "Let's now compute and interpret prediction confidence intervals. These intervals predict the (actual) brozek index for men of different weights.  \n",
    "\n",
    "You can also use `SLR_fat` and `predict` to obtain the asymptotic 95% PI (prediction intervals), changing the argument `interval`. Create a tibble, called `fat_pi`, that contains the response, the input, the predictions, and the lower and upper bounds of the intervals for each observation, *in that order from left to right*.\n",
    "\n",
    "> Read the warning message. Since your goal is to predict an actual value, it is important to note that this is not coming from a test set.\n",
    "\n",
    "*Fill out those parts indicated with ..., uncomment the corresponding code in the cell below, and run it.*"
   ]
  },
  {
   "cell_type": "code",
   "execution_count": null,
   "metadata": {
    "deletable": false,
    "nbgrader": {
     "cell_type": "code",
     "checksum": "8768bc4e12022966dea148cb5a16865e",
     "grade": false,
     "grade_id": "cell-3f33d5bcc45086bf",
     "locked": false,
     "schema_version": 3,
     "solution": true,
     "task": false
    },
    "tags": []
   },
   "outputs": [],
   "source": [
    "# fat_pi <- fat_sample  %>% \n",
    "#    select(..., ...) %>% \n",
    "#    cbind(predict(...,interval=\"prediction\",se.fit=TRUE)$fit)  %>% \n",
    "#    mutate_if(is.numeric, round, 3)\n",
    "\n",
    "# your code here\n",
    "fail() # No Answer - remove if you provide an answer\n",
    "\n",
    "head(fat_pi)"
   ]
  },
  {
   "cell_type": "code",
   "execution_count": null,
   "metadata": {
    "deletable": false,
    "editable": false,
    "nbgrader": {
     "cell_type": "code",
     "checksum": "894d58a2c844291a440dff9d59a23f05",
     "grade": true,
     "grade_id": "cell-be96a99bc663b158",
     "locked": true,
     "points": 1,
     "schema_version": 3,
     "solution": false,
     "task": false
    },
    "tags": []
   },
   "outputs": [],
   "source": [
    "test_1.3()"
   ]
  },
  {
   "cell_type": "markdown",
   "metadata": {
    "deletable": false,
    "editable": false,
    "nbgrader": {
     "cell_type": "markdown",
     "checksum": "e59393d2246bfa91bbe936f9685a6c17",
     "grade": false,
     "grade_id": "cell-374f140cce1d5d82",
     "locked": true,
     "schema_version": 3,
     "solution": false,
     "task": false
    }
   },
   "source": [
    "**Question 1.4**\n",
    "<br>{points: 1}\n",
    "\n",
    "We have just calculated the 95% prediction interval for the brozek index of men of different weights in our sample. \n",
    "\n",
    "Provide a brief interpretation for the 95% prediction interval you have calculated in row 1."
   ]
  },
  {
   "cell_type": "markdown",
   "metadata": {
    "deletable": false,
    "nbgrader": {
     "cell_type": "markdown",
     "checksum": "14db4ad991163d443bd534f1d8dd2d72",
     "grade": true,
     "grade_id": "cell-87366ebda6badbdb",
     "locked": false,
     "points": 1,
     "schema_version": 3,
     "solution": true,
     "task": false
    }
   },
   "source": [
    "> *Your answer goes here.*\n",
    "\n",
    "DOUBLE CLICK TO EDIT **THIS CELL** AND REPLACE THIS TEXT WITH YOUR ANSWER."
   ]
  },
  {
   "cell_type": "markdown",
   "metadata": {
    "deletable": false,
    "editable": false,
    "nbgrader": {
     "cell_type": "markdown",
     "checksum": "16be05a784fd212d21a8224bcaf87ca5",
     "grade": false,
     "grade_id": "cell-780c3ffc246875d0",
     "locked": true,
     "schema_version": 3,
     "solution": false,
     "task": false
    }
   },
   "source": [
    "**Question 1.5**\n",
    "<br>{points: 1}\n",
    "\n",
    "Compare the confidence intervals computed in **Question 1.1** with those computed in **Question 1.3** (by row). Which confidence intervals are wider? Respond and explain why in one or two sentences."
   ]
  },
  {
   "cell_type": "markdown",
   "metadata": {
    "deletable": false,
    "nbgrader": {
     "cell_type": "markdown",
     "checksum": "40a3dd1aba6716fbb04082f830cba039",
     "grade": true,
     "grade_id": "cell-77911512fee34bdd",
     "locked": false,
     "points": 1,
     "schema_version": 3,
     "solution": true,
     "task": false
    }
   },
   "source": [
    "> *Your answer goes here.*\n",
    "\n",
    "DOUBLE CLICK TO EDIT **THIS CELL** AND REPLACE THIS TEXT WITH YOUR ANSWER."
   ]
  },
  {
   "cell_type": "markdown",
   "metadata": {
    "deletable": false,
    "editable": false,
    "nbgrader": {
     "cell_type": "markdown",
     "checksum": "35b10e734128be33c0b2343e1032d73c",
     "grade": false,
     "grade_id": "cell-9be71f65643c5906",
     "locked": true,
     "schema_version": 3,
     "solution": false,
     "task": false
    }
   },
   "source": [
    "## **2. Predictive Modelling using Linear Regression**\n",
    "\n",
    "In this section, you will use the LR as a *predictive model*. Predictive models are built and trained to predict *new* observations. Thus, we need two types of datasets: a *training* set and a *test* set. \n",
    "\n",
    "If two independent datasets are not available to build a predictive model, we can either approximate the *test* MSE (e.g., *AIC* and *BIC*), or use the data in hand and split it to create these datasets.\n",
    "\n",
    "In this section, you will split the data to build a predictive model on one part using all available variables and test it on the second part of the data."
   ]
  },
  {
   "cell_type": "markdown",
   "metadata": {
    "deletable": false,
    "editable": false,
    "nbgrader": {
     "cell_type": "markdown",
     "checksum": "1a1167334493369a95ddea291ad8f3f5",
     "grade": false,
     "grade_id": "cell-a04c8e183d2b8b3b",
     "locked": true,
     "schema_version": 3,
     "solution": false,
     "task": false
    },
    "tags": []
   },
   "source": [
    "**Question 2.0**\n",
    "<br>{points: 1}\n",
    "\n",
    "Let's start by randomly splitting `fat_sample` into two sets on a 70-30% basis: `training_fat` (70% of the data) and `testing_fat` (the remaining 30% of the data). Then, on the training set, we can train a full LR with all the available input variables.\n",
    "\n",
    "You can do the following:\n",
    "\n",
    "1. Create an `id` column in `fat_sample` with the row number corresponding to each man in the sample (the function `row_number()` might be useful here).\n",
    "\n",
    "2. Use the function `slice_sample()` to create `training_fat` (sampling *without* replacement) with 70\\% of the observations coming from `fat_sample`.\n",
    "\n",
    "3. Use `anti_join()` with `fat_sample` and `training_fat` to create `testing_fat` by column `ID`. \n",
    "\n",
    "4. Remove the variable `ID` used to split the data\n",
    "\n",
    "*Fill out those parts indicated with `...`, uncomment the corresponding code in the cell below, and run it.*"
   ]
  },
  {
   "cell_type": "code",
   "execution_count": null,
   "metadata": {
    "deletable": false,
    "nbgrader": {
     "cell_type": "code",
     "checksum": "5ff48b7bf8849c47d3b53a08786d0ddf",
     "grade": false,
     "grade_id": "cell-89cf6aff779ec418",
     "locked": false,
     "schema_version": 3,
     "solution": true,
     "task": false
    },
    "tags": []
   },
   "outputs": [],
   "source": [
    "set.seed(123) # DO NOT CHANGE!\n",
    "\n",
    "# fat_sample <-\n",
    "#     ... %>%\n",
    "#     ...(id = row_number())\n",
    "\n",
    "# training_fat <- \n",
    "#     ... %>%\n",
    "#     ...(prop = ..., replace = FALSE)\n",
    "\n",
    "# testing_fat <- \n",
    "#     ... %>% \n",
    "#     ...(..., by = \"id\") %>%\n",
    "#     select(-id)\n",
    "\n",
    "# training_fat <- \n",
    "#     training_fat %>% \n",
    "#     select(-id)\n",
    "\n",
    "# your code here\n",
    "fail() # No Answer - remove if you provide an answer\n",
    "\n",
    "head(training_fat)\n",
    "nrow(training_fat)\n",
    "\n",
    "nrow(testing_fat)"
   ]
  },
  {
   "cell_type": "code",
   "execution_count": null,
   "metadata": {
    "deletable": false,
    "editable": false,
    "nbgrader": {
     "cell_type": "code",
     "checksum": "6748cd61c28df959deb8623596f9e80a",
     "grade": true,
     "grade_id": "cell-2ff21323a52d80d0",
     "locked": true,
     "points": 1,
     "schema_version": 3,
     "solution": false,
     "task": false
    },
    "tags": []
   },
   "outputs": [],
   "source": [
    "test_2.0()"
   ]
  },
  {
   "cell_type": "markdown",
   "metadata": {
    "deletable": false,
    "editable": false,
    "nbgrader": {
     "cell_type": "markdown",
     "checksum": "4b6946bcaa3c299cd38be22b6eb3f7b5",
     "grade": false,
     "grade_id": "cell-fbdb817d4fecd345",
     "locked": true,
     "schema_version": 3,
     "solution": false,
     "task": false
    }
   },
   "source": [
    "**Question 2.1**\n",
    "<br>{points: 1}\n",
    "\n",
    "Let's build a predictive additive LR with *all* **14** inputs. Call this object `fat_full_OLS`. \n",
    "\n",
    "Estimate an additive LR with *all* **14** inputs against the response variable `brozek`  using `lm()` and data from `training_fat`. \n",
    "\n",
    "This will be our baseline model.\n",
    "\n",
    "*If you write down the input variables, the order should match the column order from `training_fat` to pass the autograding tests*.\n",
    "\n",
    "\n",
    "\n",
    "*Fill out those parts indicated with `...`, uncomment the corresponding code in the cell below, and run it.*"
   ]
  },
  {
   "cell_type": "code",
   "execution_count": null,
   "metadata": {
    "deletable": false,
    "nbgrader": {
     "cell_type": "code",
     "checksum": "d1b1e0c3743d09be0249055a477b0b76",
     "grade": false,
     "grade_id": "cell-7f1e7c7d551ff08a",
     "locked": false,
     "schema_version": 3,
     "solution": true,
     "task": false
    },
    "tags": []
   },
   "outputs": [],
   "source": [
    "# fat_full_OLS <- lm(..., ...)\n",
    "\n",
    "# your code here\n",
    "fail() # No Answer - remove if you provide an answer\n",
    "\n",
    "fat_full_OLS"
   ]
  },
  {
   "cell_type": "code",
   "execution_count": null,
   "metadata": {
    "deletable": false,
    "editable": false,
    "nbgrader": {
     "cell_type": "code",
     "checksum": "bc4c9257fff76c554c2ce3e33c7d1b6e",
     "grade": true,
     "grade_id": "cell-a73d97e53e776cb3",
     "locked": true,
     "points": 1,
     "schema_version": 3,
     "solution": false,
     "task": false
    },
    "tags": []
   },
   "outputs": [],
   "source": [
    "test_2.1()"
   ]
  },
  {
   "cell_type": "markdown",
   "metadata": {
    "deletable": false,
    "editable": false,
    "nbgrader": {
     "cell_type": "markdown",
     "checksum": "7d051946b6b9374fca23fc8789584519",
     "grade": false,
     "grade_id": "cell-4d9aa919aef31dbf",
     "locked": true,
     "schema_version": 3,
     "solution": false,
     "task": false
    }
   },
   "source": [
    "**Question 2.2**\n",
    "<br>{points: 1}\n",
    "\n",
    "Using `predict()` and `fat_full_OLS`, obtain the (out-of-sample) predicted brozek values for men in `testing_fat`. \n",
    "\n",
    "Store them in a variable called `fat_test_pred_full_OLS`. \n",
    "\n",
    "*Fill out those parts indicated with `...`, uncomment the corresponding code in the cell below, and run it.*"
   ]
  },
  {
   "cell_type": "code",
   "execution_count": null,
   "metadata": {
    "deletable": false,
    "nbgrader": {
     "cell_type": "code",
     "checksum": "67f08edb507f3369544114d1010098c4",
     "grade": false,
     "grade_id": "cell-70c8d483741b2f75",
     "locked": false,
     "schema_version": 3,
     "solution": true,
     "task": false
    },
    "tags": []
   },
   "outputs": [],
   "source": [
    "# fat_test_pred_full_OLS <- ...(..., newdata = ...)\n",
    "\n",
    "# your code here\n",
    "fail() # No Answer - remove if you provide an answer\n",
    "\n",
    "head(fat_test_pred_full_OLS)"
   ]
  },
  {
   "cell_type": "code",
   "execution_count": null,
   "metadata": {
    "deletable": false,
    "editable": false,
    "nbgrader": {
     "cell_type": "code",
     "checksum": "3ed2dfb1d21cef0e6544e4166e7815f9",
     "grade": true,
     "grade_id": "cell-3eecb58f55839272",
     "locked": true,
     "points": 1,
     "schema_version": 3,
     "solution": false,
     "task": false
    },
    "tags": []
   },
   "outputs": [],
   "source": [
    "test_2.2()"
   ]
  },
  {
   "cell_type": "markdown",
   "metadata": {
    "deletable": false,
    "editable": false,
    "nbgrader": {
     "cell_type": "markdown",
     "checksum": "61cdf06a89880134d23d0c18d5e8a6e5",
     "grade": false,
     "grade_id": "cell-56f3153cb1b8d3f0",
     "locked": true,
     "schema_version": 3,
     "solution": false,
     "task": false
    }
   },
   "source": [
    "**Question 2.3**\n",
    "<br>{points: 1}\n",
    "\n",
    "We will now compute the **Root Mean Squared Error (RMSE)** using data from the test set to evaluate the predictive model. This metric has the same units as the response, and the smaller the value, the better the model.\n",
    "\n",
    "Use the function `rmse()` from the `mltools` package to compute the $\\text{RMSE}_{\\text{test}}$ based on the *predicted* `brozed` values stored in `fat_test_pred_full_OLS` for men in the test set. Note that the observed `brozek` values for these men are in `testing_fat`. \n",
    "\n",
    "Store this metric in a tibble called `fat_RMSE_models` with two columns:\n",
    "\n",
    "- `Model`: The regression model from which we will obtain the prediction accuracy.\n",
    "- `RMSE`: The $\\text{RMSE}_{\\text{test}}$ corresponding to the model.\n",
    "\n",
    "*Fill out those parts indicated with `...`, uncomment the corresponding code in the cell below, and run it.*"
   ]
  },
  {
   "cell_type": "code",
   "execution_count": null,
   "metadata": {
    "deletable": false,
    "nbgrader": {
     "cell_type": "code",
     "checksum": "8b7823479f8b2280c2b072470df12d17",
     "grade": false,
     "grade_id": "cell-c19eea63afd6743e",
     "locked": false,
     "schema_version": 3,
     "solution": true,
     "task": false
    },
    "tags": []
   },
   "outputs": [],
   "source": [
    "# fat_RMSE_models <- tibble(\n",
    "#     Model = \"OLS Full Regression\",\n",
    "#     RMSE = ...(model = fat_full_OLS,\n",
    "#                data = ...)\n",
    "# )\n",
    "\n",
    "\n",
    "# your code here\n",
    "fail() # No Answer - remove if you provide an answer\n",
    "\n",
    "fat_RMSE_models"
   ]
  },
  {
   "cell_type": "code",
   "execution_count": null,
   "metadata": {
    "deletable": false,
    "editable": false,
    "nbgrader": {
     "cell_type": "code",
     "checksum": "23b498b7dafa9ed41f83f14807ebd5d6",
     "grade": true,
     "grade_id": "cell-e6a348bb9644998f",
     "locked": true,
     "points": 1,
     "schema_version": 3,
     "solution": false,
     "task": false
    },
    "tags": []
   },
   "outputs": [],
   "source": [
    "test_2.3()"
   ]
  },
  {
   "cell_type": "markdown",
   "metadata": {
    "deletable": false,
    "editable": false,
    "nbgrader": {
     "cell_type": "markdown",
     "checksum": "df9f6056a9454ff307c3f62226f13d30",
     "grade": false,
     "grade_id": "cell-b60ff31e0894e27a",
     "locked": true,
     "schema_version": 3,
     "solution": false,
     "task": false
    }
   },
   "source": [
    "## **3. Selecting a predictive model**\n",
    "\n",
    "The previous model predicts using all input variables. However, we may want to select a smaller model using only a subset of the input variables. The stepwise selection algorithms presented in worksheet_09 can be used to build predictive models. \n",
    "\n",
    "A good predictive model would minimize the *test* MSE. However, we can not use the same set to select the model and evaluate its performance. \n",
    "\n",
    "Metrics such as $C_p$, AIC and BIC are computed with the *training* set and can be used to *approximate* the *test* MSE, without looking at the *test* data. \n",
    "\n",
    "The test set will then be used *only* to assess the predictive performance of the selected model."
   ]
  },
  {
   "cell_type": "markdown",
   "metadata": {
    "deletable": false,
    "editable": false,
    "nbgrader": {
     "cell_type": "markdown",
     "checksum": "db56e628141e1326e96304c314ff768e",
     "grade": false,
     "grade_id": "cell-57191faff6a77cc2",
     "locked": true,
     "schema_version": 3,
     "solution": false,
     "task": false
    }
   },
   "source": [
    "**Question 3.0**\n",
    "<br>{points: 1}\n",
    "\n",
    "Using only the training data in `training_fat`, select a reduced LR using the **forward selection** algorithm. Recall that this method is implemented in the `leaps::regsubsets()` function.\n",
    "\n",
    "The function `regsubsets()` identifies various subsets of input variables selected for models of different sizes. The argument `x` of `regsubsets()` is analogous to `formula` in `lm()`. \n",
    "\n",
    "Create one object using `regsubsets()`with `training_fat` and call it `fat_forward_sel`. We will use `fat_fwd_summary` to check your results.\n",
    "\n",
    "*Maintain the order of columns seen in `training_fat`*.\n",
    "\n",
    "*Fill out those parts indicated with `...`, uncomment the corresponding code in the cell below, and run it.*"
   ]
  },
  {
   "cell_type": "code",
   "execution_count": null,
   "metadata": {
    "deletable": false,
    "nbgrader": {
     "cell_type": "code",
     "checksum": "bfe27a22e6d0cc81e2886b6fea8f20ce",
     "grade": false,
     "grade_id": "cell-af533e7b226e72ae",
     "locked": false,
     "schema_version": 3,
     "solution": true,
     "task": false
    },
    "tags": []
   },
   "outputs": [],
   "source": [
    "# fat_forward_sel <- ...(\n",
    "#   ..., ...,\n",
    "#   ...,\n",
    "#   ...\n",
    "# )\n",
    "# fat_forward_sel\n",
    "\n",
    "#fat_fwd_summary <- summary(fat_forward_sel)\n",
    "\n",
    "#fat_fwd_summary <- tibble(\n",
    "#    n_input_variables = 1:14,\n",
    "#    RSS = fat_fwd_summary$rss,\n",
    "#    BIC = fat_fwd_summary$bic,\n",
    "#    Cp = fat_fwd_summary$cp\n",
    "#)\n",
    "\n",
    "# your code here\n",
    "fail() # No Answer - remove if you provide an answer"
   ]
  },
  {
   "cell_type": "code",
   "execution_count": null,
   "metadata": {
    "deletable": false,
    "editable": false,
    "nbgrader": {
     "cell_type": "code",
     "checksum": "6605b243ebb915178f2da5fee6d7b324",
     "grade": true,
     "grade_id": "cell-0386d94ee9dd6cff",
     "locked": true,
     "points": 1,
     "schema_version": 3,
     "solution": false,
     "task": false
    },
    "tags": []
   },
   "outputs": [],
   "source": [
    "test_3.0()"
   ]
  },
  {
   "cell_type": "markdown",
   "metadata": {
    "deletable": false,
    "editable": false,
    "nbgrader": {
     "cell_type": "markdown",
     "checksum": "6ddae45a1f8998d87c70fd8f5312444a",
     "grade": false,
     "grade_id": "cell-6b8abdbff4f33676",
     "locked": true,
     "schema_version": 3,
     "solution": false,
     "task": false
    }
   },
   "source": [
    "**Question 3.1**\n",
    "<br>{points: 1}\n",
    "\n",
    "Out of the fourteen best models selected for each size by the *forward* subset algorithm and stored in `fat_forward_sel`, we will select the best one in terms of the *out-of-sample* prediction accuracy, estimated by the Mallow's $C_p$. \n",
    "\n",
    "Use the $C_p$ computed for each model, stored in `fat_forward_summary`, to select the best predictive model and indicate which input variables are in the selected model.\n",
    "\n",
    "> **Heads up:** The most accurate model will have the smallest $C_p$. \n",
    "\n",
    "\n",
    "**A.** `age`.\n",
    "\n",
    "**B.** `weight`.\n",
    "\n",
    "**C.** `height`.\n",
    "\n",
    "**D.** `adipos`.\n",
    "\n",
    "**E.**  `neck`.\n",
    "\n",
    "**F.**  `chest`.\n",
    "\n",
    "**G.**  `abdom`.\n",
    "\n",
    "**H.**  `hip`.\n",
    "\n",
    "**I.**  `thigh`.\n",
    "\n",
    "**J.**  `knee`.\n",
    "\n",
    "**K.**  `ankle`.\n",
    "\n",
    "**L.**  `biceps`.\n",
    "\n",
    "**M.**  `forearm`.\n",
    "\n",
    "**N.**  `wrist`.\n",
    "\n",
    "*Assign your answers to the object `answer3.1`. Your answers have to be included in a single string indicating the correct options in alphabetical order and surrounded by quotes.*"
   ]
  },
  {
   "cell_type": "code",
   "execution_count": null,
   "metadata": {
    "deletable": false,
    "editable": false,
    "nbgrader": {
     "cell_type": "code",
     "checksum": "a0cc68b31399380fb2ecc5846cb5a963",
     "grade": false,
     "grade_id": "cell-49636409bed6aad7",
     "locked": true,
     "schema_version": 3,
     "solution": false,
     "task": false
    },
    "tags": []
   },
   "outputs": [],
   "source": [
    "# Run this cell below before continuing.\n",
    "\n",
    "fat_fwd_summary\n",
    "summary(fat_forward_sel)"
   ]
  },
  {
   "cell_type": "code",
   "execution_count": null,
   "metadata": {
    "deletable": false,
    "nbgrader": {
     "cell_type": "code",
     "checksum": "7c29db216d290a29fe89d86ee5413bbb",
     "grade": false,
     "grade_id": "cell-93df75b1dbcf6f3d",
     "locked": false,
     "schema_version": 3,
     "solution": true,
     "task": false
    },
    "tags": []
   },
   "outputs": [],
   "source": [
    "# answer3.1 <- \n",
    "\n",
    "# your code here\n",
    "fail() # No Answer - remove if you provide an answer"
   ]
  },
  {
   "cell_type": "code",
   "execution_count": null,
   "metadata": {
    "deletable": false,
    "editable": false,
    "nbgrader": {
     "cell_type": "code",
     "checksum": "a53b432dc340bf464674733e16e5d424",
     "grade": true,
     "grade_id": "cell-cdaf675d0527f2a3",
     "locked": true,
     "points": 1,
     "schema_version": 3,
     "solution": false,
     "task": false
    },
    "tags": []
   },
   "outputs": [],
   "source": [
    "test_3.1()"
   ]
  },
  {
   "cell_type": "markdown",
   "metadata": {
    "deletable": false,
    "editable": false,
    "nbgrader": {
     "cell_type": "markdown",
     "checksum": "6925c8b324407e4c5e8db439dc4bb5e0",
     "grade": false,
     "grade_id": "cell-c2031cb142446eae",
     "locked": true,
     "schema_version": 3,
     "solution": false,
     "task": false
    }
   },
   "source": [
    "**Question 3.2**\n",
    "<br>{points: 1}\n",
    "\n",
    "Use the variables selected by the forward subset algorithm to build a *predictive* model. The \n",
    "code below will walk you through the steps. \n",
    "\n",
    "*Fill out those parts indicated with `...`, uncomment the corresponding code in the cell below, and run it.*"
   ]
  },
  {
   "cell_type": "code",
   "execution_count": null,
   "metadata": {
    "deletable": false,
    "nbgrader": {
     "cell_type": "code",
     "checksum": "25c52117579585cdb505267f2cb888a1",
     "grade": false,
     "grade_id": "cell-e3cdcbe990c76181",
     "locked": false,
     "schema_version": 3,
     "solution": true,
     "task": false
    },
    "tags": []
   },
   "outputs": [],
   "source": [
    "### Obtain the summary from the regsubsets output stored in `fat_forward_sel`\n",
    "# fat_selection_summary <- ...\n",
    "\n",
    "### The model size with the smallest Cp \n",
    "### Hint 1: selection_summary$cp gives you the Cp for all the models\n",
    "### Hint 2: which.min function finds the index of the smallest value in an array\n",
    "# cp_min = ...\n",
    "\n",
    "### Get the variables present in the model with smallest Cp.\n",
    "### Hint 1: fat_selection_summary$which gives you all the variables present in each model\n",
    "### Hint 2: access the row for the model with smallest Cp (i.e., cp_min row).\n",
    "# variables = ...\n",
    "\n",
    "### Fit an lm model with brozek as response and all the selected variables as covariates.\n",
    "### Hint 1: you saved all the variables (i.e., columns) in `variables`\n",
    "### Hint 2: the code `my_tibble[variables]` will return only the variables present in the model\n",
    "###         including the response (even though the response is not shown there). \n",
    "### Hint 3: remember that `.` after `~` will include all variables.\n",
    "# fat_red_OLS <- ...\n",
    "\n",
    "# your code here\n",
    "fail() # No Answer - remove if you provide an answer\n",
    "\n",
    "summary(fat_red_OLS)"
   ]
  },
  {
   "cell_type": "code",
   "execution_count": null,
   "metadata": {
    "deletable": false,
    "editable": false,
    "nbgrader": {
     "cell_type": "code",
     "checksum": "e7c0e3b6e20cce0178735ca8fceeb112",
     "grade": true,
     "grade_id": "cell-4a43c5f1253ecd65",
     "locked": true,
     "points": 1,
     "schema_version": 3,
     "solution": false,
     "task": false
    },
    "tags": []
   },
   "outputs": [],
   "source": [
    "test_3.2()"
   ]
  },
  {
   "cell_type": "markdown",
   "metadata": {
    "deletable": false,
    "editable": false,
    "nbgrader": {
     "cell_type": "markdown",
     "checksum": "6e31b25dc835514239099dc6e5d15c07",
     "grade": false,
     "grade_id": "cell-eaea21affe2555ba",
     "locked": true,
     "schema_version": 3,
     "solution": false,
     "task": false
    }
   },
   "source": [
    "**Question 3.3**\n",
    "<br>{points: 1}\n",
    "\n",
    "Use the function `rmse()` to compute the RMSE of predicted the `brozek` values of men in the test set. \n",
    "\n",
    "Add this metric as another row in the tibble `fat_RMSE_models` with `\"OLS Reduced Regression\"` in the column `Model` and the corresponding $\\text{RMSE}_{\\text{test}}$ in column `RMSE`. Save the result in a variable called `fat_RMSE_models_expanded`.\n",
    "\n",
    "*Fill out those parts indicated with `...`, uncomment the corresponding code in the cell below, and run it.*"
   ]
  },
  {
   "cell_type": "code",
   "execution_count": null,
   "metadata": {
    "deletable": false,
    "nbgrader": {
     "cell_type": "code",
     "checksum": "9ce69425f98690b15f2bfeb8be3f2b6a",
     "grade": false,
     "grade_id": "cell-11bdeb07c5bf1b14",
     "locked": false,
     "schema_version": 3,
     "solution": true,
     "task": false
    },
    "tags": []
   },
   "outputs": [],
   "source": [
    "# fat_RMSE_models_expanded <- \n",
    "#     rbind(\n",
    "#         model = ...,\n",
    "\n",
    "#         data = ...(Model = \"OLS Reduced Regression\",\n",
    "#                    RMSE = ...)\n",
    "#     )\n",
    "\n",
    "\n",
    "# your code here\n",
    "fail() # No Answer - remove if you provide an answer\n",
    "\n",
    "fat_RMSE_models_expanded"
   ]
  },
  {
   "cell_type": "code",
   "execution_count": null,
   "metadata": {
    "deletable": false,
    "editable": false,
    "nbgrader": {
     "cell_type": "code",
     "checksum": "2a4c897657324963a493e25f5e43a1ff",
     "grade": true,
     "grade_id": "cell-46381f5f719a7deb",
     "locked": true,
     "points": 1,
     "schema_version": 3,
     "solution": false,
     "task": false
    },
    "tags": []
   },
   "outputs": [],
   "source": [
    "test_3.3()"
   ]
  },
  {
   "cell_type": "markdown",
   "metadata": {
    "deletable": false,
    "editable": false,
    "nbgrader": {
     "cell_type": "markdown",
     "checksum": "ffc0db5ad91f87490b57f513ca67139e",
     "grade": false,
     "grade_id": "cell-740283c4e701a459",
     "locked": true,
     "schema_version": 3,
     "solution": false,
     "task": false
    }
   },
   "source": [
    "**Question 3.4**\n",
    "<br>{points: 1}\n",
    "\n",
    "Based on your results in `fat_RMSE_models`, which model has the best *out-of-sample* prediction performance?\n",
    "\n",
    "**A.** OLS Full Regression.\n",
    "\n",
    "**B.** OLS Reduced Regression.\n",
    "\n",
    "*Assign your answer to an object called `answer3.5`. Your answer should be one of `\"A\"` or `\"B\"` surrounded by quotes.*"
   ]
  },
  {
   "cell_type": "code",
   "execution_count": null,
   "metadata": {
    "deletable": false,
    "nbgrader": {
     "cell_type": "code",
     "checksum": "5b8d6452dec04269990ed4f32010a14d",
     "grade": false,
     "grade_id": "cell-70eb6901ab1210b6",
     "locked": false,
     "schema_version": 3,
     "solution": true,
     "task": false
    },
    "tags": []
   },
   "outputs": [],
   "source": [
    "# answer3.4 <- \n",
    "\n",
    "# your code here\n",
    "fail() # No Answer - remove if you provide an answer"
   ]
  },
  {
   "cell_type": "code",
   "execution_count": null,
   "metadata": {
    "deletable": false,
    "editable": false,
    "nbgrader": {
     "cell_type": "code",
     "checksum": "0ea8f44949f496a36eb704cc4750d8f4",
     "grade": true,
     "grade_id": "cell-9c86e69e26271ed6",
     "locked": true,
     "points": 1,
     "schema_version": 3,
     "solution": false,
     "task": false
    },
    "tags": []
   },
   "outputs": [],
   "source": [
    "test_3.4()"
   ]
  }
 ],
 "metadata": {
  "jupytext": {
   "formats": "ipynb,Rmd"
  },
  "kernelspec": {
   "display_name": "R",
   "language": "R",
   "name": "ir"
  },
  "language_info": {
   "codemirror_mode": "r",
   "file_extension": ".r",
   "mimetype": "text/x-r-source",
   "name": "R",
   "pygments_lexer": "r",
   "version": "4.3.3"
  },
  "latex_envs": {
   "LaTeX_envs_menu_present": true,
   "autoclose": false,
   "autocomplete": true,
   "bibliofile": "biblio.bib",
   "cite_by": "apalike",
   "current_citInitial": 1,
   "eqLabelWithNumbers": true,
   "eqNumInitial": 1,
   "hotkeys": {
    "equation": "Ctrl-E",
    "itemize": "Ctrl-I"
   },
   "labels_anchors": false,
   "latex_user_defs": false,
   "report_style_numbering": false,
   "user_envs_cfg": false
  }
 },
 "nbformat": 4,
 "nbformat_minor": 4
}
