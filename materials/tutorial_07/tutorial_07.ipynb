{
 "cells": [
  {
   "cell_type": "markdown",
   "metadata": {
    "deletable": false,
    "editable": false,
    "nbgrader": {
     "cell_type": "markdown",
     "checksum": "04ce4b2a70add7b1b34c1dc9b8329326",
     "grade": false,
     "grade_id": "cell-f1e1d845873036f4",
     "locked": true,
     "schema_version": 3,
     "solution": false,
     "task": false
    }
   },
   "source": [
    "# Tutorial 7: Model Evaluation and Model Selection"
   ]
  },
  {
   "cell_type": "markdown",
   "metadata": {
    "deletable": false,
    "editable": false,
    "nbgrader": {
     "cell_type": "markdown",
     "checksum": "25df2cc87577ffeabf92e83aa48640ce",
     "grade": false,
     "grade_id": "cell-82d9926086d47a80",
     "locked": true,
     "schema_version": 3,
     "solution": false,
     "task": false
    }
   },
   "source": [
    "#### Lecture and Tutorial Learning Goals:\n",
    "After completing this week's lecture and tutorial work, you will be able to:\n",
    "\n",
    "1. List model metrics that are suitable for evaluation of a statistical model developed to make inference about the data-generating mechanism (e.g., $R^2$, $\\text{AIC}$, Likelihood ratio test/$F$-test), their strengths and limitations, as well as how they are calculated.\n",
    "2. Write a computer script to calculate these model metrics. Interpret and communicate the results from that computer script.\n",
    "3. Explain a variable selection method based on:\n",
    "    - $F$-test to compare nested models.\n",
    "    - RSS for models of equal size\n",
    "    - Adjusted $R2$ for models of different sizes"
   ]
  },
  {
   "cell_type": "code",
   "execution_count": null,
   "metadata": {
    "deletable": false,
    "editable": false,
    "nbgrader": {
     "cell_type": "code",
     "checksum": "d7984802b606df117aa23a0105d50dd7",
     "grade": false,
     "grade_id": "cell-a2a153352bc44a68",
     "locked": true,
     "schema_version": 3,
     "solution": false,
     "task": false
    }
   },
   "outputs": [],
   "source": [
    "# Run this cell before continuing.\n",
    "library(tidyverse)\n",
    "library(repr)\n",
    "library(digest)\n",
    "library(infer)\n",
    "library(gridExtra)\n",
    "library(carData)\n",
    "library(broom)\n",
    "library(leaps)\n",
    "library(mltools)\n",
    "source(\"tests_tutorial_07.R\")"
   ]
  },
  {
   "cell_type": "markdown",
   "metadata": {
    "deletable": false,
    "editable": false,
    "nbgrader": {
     "cell_type": "markdown",
     "checksum": "726ec785276d1555888bec6279169bca",
     "grade": false,
     "grade_id": "cell-9be71f65643c5906",
     "locked": true,
     "schema_version": 3,
     "solution": false,
     "task": false
    }
   },
   "source": [
    "## 1. Goodness of Fit and Nested Models\n",
    "\n",
    "In this section we will compare nested models to select multiple linear regression (MLR) models. We will continue using the Facebook dataset from `tutorial_04`. \n",
    "\n",
    "Recall this dataset contains critical information on users' engagement during 2014 on a Facebook page of a famous cosmetics brand. The original dataset contains 500 observations related to different types of posts. It can be found in [data.world](https://data.world/uci/facebook-metrics/workspace/project-summary?agentid=uci&datasetid=facebook-metrics). The dataset you will work with in this tutorial contains 491 observations.  The dataset was firstly analyzed by [Moro et al. (2016)](https://gw2jh3xr2c.search.serialssolutions.com/log?L=GW2JH3XR2C&D=ADALY&J=JOUROFBUSRE&P=Link&PT=EZProxy&A=Predicting+social+media+performance+metrics+and+evaluation+of+the+impact+on+brand+building%3A+A+data+mining+approach&H=d8c19bb47c&U=https%3A%2F%2Fezproxy.library.ubc.ca%2Flogin%3Furl%3Dhttps%3A%2F%2Fwww.sciencedirect.com%2Fscience%2Flink%3Fref_val_fmt%3Dinfo%3Aofi%2Ffmt%3Akev%3Amtx%3Ajournal%26svc_val_fmt%3Dinfo%3Aofi%2Ffmt%3Akev%3Amtx%3Asch_srv%26rfr_dat%3Dsaltver%3A1%26rfr_dat%3Dorigin%3ASERIALSSOL%26ctx_enc%3Dinfo%3Aofi%2Fenc%3AUTF-8%26ctx_ver%3DZ39.88-2004%26rft_id%3Dinfo%3Adoi%2F10.1016%2Fj.jbusres.2016.02.010) in their data mining work to predict the performance of different post metrics, which are also based on the type of post. The original dataset has 17 variables of different types (continuous and discrete). Nonetheless, for this tutorial, we selected four variables to be saved in the object facebook_data:\n",
    "\n",
    "\n",
    "1.  The continuous variable `total_engagement_percentage` is an essential variable for any company owning a Facebook page. It gives a sense of how engaged the overall social network's users are with the company's posts, **regardless of whether they previously liked their Facebook page or not**. *The larger the percentage, the better the total engagement*. It is computed as follows:\n",
    "\n",
    "$$\\texttt{total_engagement_percentage} = \\frac{\\text{Lifetime Engaged Users}}{\\text{Lifetime Post Total Reach}} \\times 100\\%$$\n",
    "\n",
    "-   **Lifetime Post Total Reach:** The number of overall *Facebook unique users* who *saw* the post.\n",
    "-   **Lifetime Engaged Users:** The number of overall *Facebook unique users* who *saw and clicked* on the post. This count is a subset of **Lifetime Post Total Reach**.\n",
    "\n",
    "2.  The continuous variable `page_engagement_percentage` is analogous to `total_engagement_percentage`, but only with users who engaged with the post **given they have liked the page**. This variable provides a sense to the company to what extent these subscribed users react to its posts. *The larger the percentage, the better the page engagement*. It is computed as follows:\n",
    "\n",
    "$$\\texttt{page_engagement_percentage} = \\frac{\\text{Lifetime Users Who Have Liked the Page and Engaged with the Post}}{\\text{Lifetime Post Reach by Users Who Liked the Page}} \\times 100\\% $$\n",
    "\n",
    "-   **Lifetime Post Reach by Users Who Liked the Page:** The number of *Facebook unique page subscribers* who *saw* the post.\n",
    "-   **Lifetime Users Who Have Liked the Page and Engaged with the Posts:** The number of *Facebook unique page subscribers* who *saw and clicked* on the post. This count is a subset of **Lifetime Post Reach by Users Who Liked the Page**.\n",
    "\n",
    "3.  The continuous `share_percentage` is the percentage that the number of *shares* represents from the sum of *likes*, *comments*, and *shares* in each post. It is computed as follows:\n",
    "\n",
    "$$\\texttt{share_percentage} = \\frac{\\text{Number of Shares}}{\\text{Total Post Interactions}} \\times 100\\% $$\n",
    "\n",
    "-   **Total Post Interactions:** The sum of *likes*, *comments*, and *shares* in a given post.\n",
    "-   **Number of Shares:** The number of *shares* in a given post. This count is a subset of *Total Post Interactions*.\n",
    "\n",
    "4.  The continuous `comment_percentage` is the percentage that the number of *comments* represents from the sum of *likes*, *comments*, and *shares* in each post. It is computed as follows:\n",
    "\n",
    "$$\\texttt{comment_percentage} = \\frac{\\text{Number of Comments}}{\\text{Total Post Interactions}} \\times 100\\% $$\n",
    "\n",
    "-   **Total Post Interactions:** The sum of *likes*, *comments*, and *shares* in a given post.\n",
    "-   **Number of Comments:** The number of *comments* in a given post. This count is a subset of *Total Post Interactions*.\n",
    "\n",
    "Let us add a discrete input called `post_category`, which has three different categories depending on the content characterization:\n",
    "\n",
    "-   `Action`: Brand's contests and special offers for the customers.\n",
    "-   `Product`: Regular advertisements for products with explicit brand content.\n",
    "-   `Inspiration`: Non-explicit brand-related content.\n",
    "\n",
    "> **For this tutorial, we will consider `total_engagement_percentage` as a response along with `page_engagement_percentage`, `share_percentage`, `comment_percentage`, and `post_category` as inputs.**\n",
    "\n",
    "Run the cell below before proceeding."
   ]
  },
  {
   "cell_type": "code",
   "execution_count": null,
   "metadata": {
    "deletable": false,
    "editable": false,
    "nbgrader": {
     "cell_type": "code",
     "checksum": "e6dab83775fb272b85d9adc50356c784",
     "grade": false,
     "grade_id": "cell-eaf0b5bf5fa2b6a1",
     "locked": true,
     "schema_version": 3,
     "solution": false,
     "task": false
    }
   },
   "outputs": [],
   "source": [
    "facebook_data <- read_csv(\"data/facebook_data.csv\")\n",
    "head(facebook_data)\n",
    "\n",
    "facebook_data$post_category <- as.factor(facebook_data$post_category)\n",
    "levels(facebook_data$post_category)"
   ]
  },
  {
   "cell_type": "markdown",
   "metadata": {
    "deletable": false,
    "editable": false,
    "nbgrader": {
     "cell_type": "markdown",
     "checksum": "112d954c021c6d9636501a68309a81c0",
     "grade": false,
     "grade_id": "cell-b37cc6aef047bb1b",
     "locked": true,
     "schema_version": 3,
     "solution": false,
     "task": false
    }
   },
   "source": [
    "**Question 1.0**\n",
    "<br>{points: 1}\n",
    "\n",
    "Let us draw a random sample of $n = 100$ observations called `facebook_sample` from `facebook_data`.\n",
    "\n",
    "*Fill out those parts indicated with `...`, uncomment the corresponding code in the cell below, and run it.*"
   ]
  },
  {
   "cell_type": "code",
   "execution_count": null,
   "metadata": {
    "deletable": false,
    "nbgrader": {
     "cell_type": "code",
     "checksum": "af1f7b1f0e10e2b829d580459842ad8a",
     "grade": false,
     "grade_id": "cell-737bd476cac0afa8",
     "locked": false,
     "schema_version": 3,
     "solution": true,
     "task": false
    }
   },
   "outputs": [],
   "source": [
    "set.seed(123) # DO NOT CHANGE!\n",
    "\n",
    "# facebook_sample <- ...(..., size = ...)\n",
    "# head(facebook_sample)\n",
    "\n",
    "# your code here\n",
    "fail() # No Answer - remove if you provide an answer"
   ]
  },
  {
   "cell_type": "code",
   "execution_count": null,
   "metadata": {
    "deletable": false,
    "editable": false,
    "nbgrader": {
     "cell_type": "code",
     "checksum": "6eca79d80801cd0a87bdbeeefffeabd1",
     "grade": true,
     "grade_id": "cell-9e946bf1ebe9ae81",
     "locked": true,
     "points": 1,
     "schema_version": 3,
     "solution": false,
     "task": false
    }
   },
   "outputs": [],
   "source": [
    "test_1.0()"
   ]
  },
  {
   "cell_type": "markdown",
   "metadata": {
    "deletable": false,
    "editable": false,
    "nbgrader": {
     "cell_type": "markdown",
     "checksum": "28865e914ef866f63e0e07bb4d9c350f",
     "grade": false,
     "grade_id": "cell-a4c4b1abf23e726c",
     "locked": true,
     "schema_version": 3,
     "solution": false,
     "task": false
    }
   },
   "source": [
    "**Question 1.1**\n",
    "<br>{points: 1}\n",
    "\n",
    "We will use `facebook_sample` to explore the difference between additive and interaction MLR models. Let $Y_i$ be the response `total_engagement_percentage` for these models. The input $X_{1i}$ corresponds to the continuous `page_engagement_percentage`. Furthermore, we will have the following dummy variables associated with `post_category` as follows:\n",
    "\n",
    "$$\n",
    "X_{2i} =\n",
    "\\begin{cases}\n",
    "1 \\; \\; \\; \\; \\mbox{if the $i$th post is Inspiration-type,}\\\\\n",
    "0 \\; \\; \\; \\; \\mbox{otherwise};\n",
    "\\end{cases}\n",
    "$$\n",
    "\n",
    "$$\n",
    "X_{3i} =\n",
    "\\begin{cases}\n",
    "1 \\; \\; \\; \\; \\mbox{if the $i$th post is Product-type,}\\\\\n",
    "0 \\; \\; \\; \\; \\mbox{otherwise}.\n",
    "\\end{cases}\n",
    "$$\n",
    "\n",
    "> **Heads-up:** Note that `Action` is the baseline level in `post_category`.\n",
    "\n",
    "Finally, $X_{4i}$ and $X_{5i}$ correspond to the continuous variables `share_percentage` and `comment_percentage` respectively.\n",
    "\n",
    "Estimate the following MLRs:\n",
    "\n",
    "- An additive MLR with the inputs `page_engagement_percentage` and `post_category`. Call it `facebook_MLR_add`.\n",
    "- A second additive MLR with the inputs `page_engagement_percentage`, `post_category`, `share_percentage`, and `comment_percentage`. Call it `facebook_MLR_add_2`.\n",
    "- An interaction MLR with the inputs `page_engagement_percentage` and `post_category`. Call it `facebook_MLR_int`.\n",
    "\n",
    "*Fill out those parts indicated with `...`, uncomment the corresponding code in the cell below, and run it.*"
   ]
  },
  {
   "cell_type": "code",
   "execution_count": null,
   "metadata": {
    "deletable": false,
    "nbgrader": {
     "cell_type": "code",
     "checksum": "b5965fe2c5a606941094f30727410a77",
     "grade": false,
     "grade_id": "cell-c993ed20f4e019e4",
     "locked": false,
     "schema_version": 3,
     "solution": true,
     "task": false
    }
   },
   "outputs": [],
   "source": [
    "# facebook_MLR_add <- lm(...,\n",
    "#   ...\n",
    "# )\n",
    "# facebook_MLR_add\n",
    "\n",
    "# facebook_MLR_add_2 <- lm(...,\n",
    "#   ...\n",
    "# )\n",
    "# facebook_MLR_add_2\n",
    "\n",
    "# facebook_MLR_int <- lm(...,\n",
    "#   ...\n",
    "# )\n",
    "# facebook_MLR_int\n",
    "\n",
    "# your code here\n",
    "fail() # No Answer - remove if you provide an answer"
   ]
  },
  {
   "cell_type": "code",
   "execution_count": null,
   "metadata": {
    "deletable": false,
    "editable": false,
    "nbgrader": {
     "cell_type": "code",
     "checksum": "a1140668b3fa17029d274eebd2ba8b0e",
     "grade": true,
     "grade_id": "cell-088b4cf811692627",
     "locked": true,
     "points": 1,
     "schema_version": 3,
     "solution": false,
     "task": false
    }
   },
   "outputs": [],
   "source": [
    "test_1.1()"
   ]
  },
  {
   "cell_type": "markdown",
   "metadata": {
    "deletable": false,
    "editable": false,
    "nbgrader": {
     "cell_type": "markdown",
     "checksum": "27a3c3bbfcf47b21b49de5f78a2bd916",
     "grade": false,
     "grade_id": "cell-27cbed3b56776d0f",
     "locked": true,
     "schema_version": 3,
     "solution": false,
     "task": false
    }
   },
   "source": [
    "**Question 1.2**\n",
    "<br>{points: 1}\n",
    "\n",
    "Create a plot of the data (using `geom_point()`) and the predictions of `facebook_MLR_add` (note that your plot should have three regression lines, one for each `post_category`). You have to colour the points and regression lines by `post_category`. Include a legend indicating which colour corresponds to each `post_category` and proper axis labels. The `ggplot()` object's name will be `facebook_MLR_Add_plot`. Recall that the response must be placed on the $y$-axis, whereas the continuous input must be on the $x$-axis.\n",
    "\n",
    "*Fill out those parts indicated with `...`, uncomment the corresponding code in the cell below, and run it.*"
   ]
  },
  {
   "cell_type": "code",
   "execution_count": null,
   "metadata": {
    "deletable": false,
    "nbgrader": {
     "cell_type": "code",
     "checksum": "2feb9873dc43ba6fd51dcfd879a3f6cf",
     "grade": false,
     "grade_id": "cell-31c8b72561565df3",
     "locked": false,
     "schema_version": 3,
     "solution": true,
     "task": false
    }
   },
   "outputs": [],
   "source": [
    "options(repr.plot.width = 15, repr.plot.height = 7) # Adjust these numbers so the plot looks good in your desktop.\n",
    "\n",
    "# facebook_sample$pred_MLR_Add <- predict(facebook_MLR_add) # Using predict() to create estimated regression lines.\n",
    "\n",
    "# facebook_MLR_Add_plot <- ggplot(..., aes(\n",
    "#   ...,\n",
    "#   ...,\n",
    "#   color = ...\n",
    "# )) +\n",
    "#   ...() +\n",
    "#   geom_line(aes(y = pred_MLR_Add), size = 1) +\n",
    "#   labs(\n",
    "#     title = ...,\n",
    "#     x = ...,\n",
    "#     y = ...\n",
    "#   ) +\n",
    "#   theme(\n",
    "#     text = element_text(size = 16.5),\n",
    "#     plot.title = element_text(face = \"bold\"),\n",
    "#     axis.title = element_text(face = \"bold\"),\n",
    "#     legend.title = element_text(face = \"bold\"),\n",
    "#   ) +\n",
    "#   labs(color = ...)\n",
    "# facebook_MLR_Add_plot\n",
    "\n",
    "# your code here\n",
    "fail() # No Answer - remove if you provide an answer"
   ]
  },
  {
   "cell_type": "code",
   "execution_count": null,
   "metadata": {
    "deletable": false,
    "editable": false,
    "nbgrader": {
     "cell_type": "code",
     "checksum": "84753c15cc69cab05e2438006b589758",
     "grade": true,
     "grade_id": "cell-fe42cd2b43ba1ae0",
     "locked": true,
     "points": 1,
     "schema_version": 3,
     "solution": false,
     "task": false
    }
   },
   "outputs": [],
   "source": [
    "test_1.2()"
   ]
  },
  {
   "cell_type": "markdown",
   "metadata": {
    "deletable": false,
    "editable": false,
    "nbgrader": {
     "cell_type": "markdown",
     "checksum": "8ce7c171810beb7a6c6e52160fff6d7f",
     "grade": false,
     "grade_id": "cell-2ddb70d11befddfd",
     "locked": true,
     "schema_version": 3,
     "solution": false,
     "task": false
    }
   },
   "source": [
    "**Question 1.3**\n",
    "<br>{points: 1}\n",
    "\n",
    "Create a plot of the data (using `geom_point()`) and the predictions of `facebook_MLR_int` (note that your plot should have three regression lines, one for each `post_category`). You have to colour the points and regression lines by `post_category`. Include a legend indicating which colour corresponds to each `post_category` and proper axis labels. The `ggplot()` object's name will be `facebook_MLR_Int_plot`. Recall that the response must be placed on the $y$-axis, whereas the continuous input must be on the $x$-axis.\n",
    "\n",
    "*Fill out those parts indicated with `...`, uncomment the corresponding code in the cell below, and run it.*"
   ]
  },
  {
   "cell_type": "code",
   "execution_count": null,
   "metadata": {
    "deletable": false,
    "nbgrader": {
     "cell_type": "code",
     "checksum": "e826d015666a12c704612a11d683217e",
     "grade": false,
     "grade_id": "cell-296fc399c560e831",
     "locked": false,
     "schema_version": 3,
     "solution": true,
     "task": false
    }
   },
   "outputs": [],
   "source": [
    "# facebook_sample$pred_MLR_Int <- predict(facebook_MLR_int) # Using predict() to create estimated regression lines.\n",
    "\n",
    "# facebook_MLR_Int_plot <- ggplot(..., aes(\n",
    "#   ...,\n",
    "#   ...,\n",
    "#   color = ...\n",
    "# )) +\n",
    "#   ...() +\n",
    "#   geom_line(aes(y = pred_MLR_Int), size = 1) +\n",
    "#   labs(\n",
    "#     title = ...,\n",
    "#     x = ...,\n",
    "#     y = ...\n",
    "#   ) +\n",
    "#   theme(\n",
    "#     text = element_text(size = 16.5),\n",
    "#     plot.title = element_text(face = \"bold\"),\n",
    "#     axis.title = element_text(face = \"bold\"),\n",
    "#     legend.title = element_text(face = \"bold\"),\n",
    "#   ) +\n",
    "#   labs(color = ...)\n",
    "# facebook_MLR_Int_plot\n",
    "\n",
    "# your code here\n",
    "fail() # No Answer - remove if you provide an answer"
   ]
  },
  {
   "cell_type": "code",
   "execution_count": null,
   "metadata": {
    "deletable": false,
    "editable": false,
    "nbgrader": {
     "cell_type": "code",
     "checksum": "3a82a93da1aca89ca32d1066e355dc88",
     "grade": true,
     "grade_id": "cell-0007c86e1e8f2f73",
     "locked": true,
     "points": 1,
     "schema_version": 3,
     "solution": false,
     "task": false
    }
   },
   "outputs": [],
   "source": [
    "test_1.3()"
   ]
  },
  {
   "cell_type": "markdown",
   "metadata": {
    "deletable": false,
    "editable": false,
    "nbgrader": {
     "cell_type": "markdown",
     "checksum": "6684b4831e8c0ae3b212760ebb650e6b",
     "grade": false,
     "grade_id": "cell-240ea58636e3b786",
     "locked": true,
     "schema_version": 3,
     "solution": false,
     "task": false
    }
   },
   "source": [
    "**Question 1.4**\n",
    "<br>{points: 1}\n",
    "\n",
    "Find the estimated coefficients of `facebook_MLR_add`, `facebook_MLR_add_2`, and `facebook_MLR_int` using `tidy()`. Report the estimated coefficients, their standard errors and corresponding $p$-values. Include the corresponding asymptotic 90% confidence intervals. Store the results in the variable `facebook_MLR_add_results`, `facebook_MLR_add_2_results`, and `facebook_MLR_int_results` respectively.\n",
    "\n",
    "*Fill out those parts indicated with `...`, uncomment the corresponding code in the cell below, and run it.*"
   ]
  },
  {
   "cell_type": "code",
   "execution_count": null,
   "metadata": {
    "deletable": false,
    "nbgrader": {
     "cell_type": "code",
     "checksum": "d7c63d0d003e1fc73c78e24cea459bc6",
     "grade": false,
     "grade_id": "cell-5bc1e671f29b3e8f",
     "locked": false,
     "schema_version": 3,
     "solution": true,
     "task": false
    }
   },
   "outputs": [],
   "source": [
    "# print(\"facebook_MLR_add_results\")\n",
    "# facebook_MLR_add_results <- ...(..., ..., ....) %>% mutate_if(is.numeric, round, 2)\n",
    "# facebook_MLR_add_results\n",
    "\n",
    "# print(\"facebook_MLR_add_2_results\")\n",
    "# facebook_MLR_add_2_results <- ...(..., ..., ...) %>% mutate_if(is.numeric, round, 2)\n",
    "# facebook_MLR_add_2_results\n",
    "\n",
    "# print(\"facebook_MLR_int_results\")\n",
    "# facebook_MLR_int_results <- ...(..., ..., ...) %>% mutate_if(is.numeric, round, 2)\n",
    "# facebook_MLR_int_results\n",
    "\n",
    "# your code here\n",
    "fail() # No Answer - remove if you provide an answer"
   ]
  },
  {
   "cell_type": "code",
   "execution_count": null,
   "metadata": {
    "deletable": false,
    "editable": false,
    "nbgrader": {
     "cell_type": "code",
     "checksum": "573053b0340a5faf236a0663b6398782",
     "grade": true,
     "grade_id": "cell-37e9b43fda278be5",
     "locked": true,
     "points": 1,
     "schema_version": 3,
     "solution": false,
     "task": false
    }
   },
   "outputs": [],
   "source": [
    "test_1.4()"
   ]
  },
  {
   "cell_type": "markdown",
   "metadata": {
    "deletable": false,
    "editable": false,
    "nbgrader": {
     "cell_type": "markdown",
     "checksum": "4392383fa167c75e217b548062552216",
     "grade": false,
     "grade_id": "cell-cbfd48d3f601e2ef",
     "locked": true,
     "schema_version": 3,
     "solution": false,
     "task": false
    }
   },
   "source": [
    "**Question 1.5**\n",
    "<br>{points: 1}\n",
    "\n",
    "Using a **significance level $\\alpha = 0.10$** and the results in `facebook_MLR_add_results`, which of the following claims *is* correct? (only one is correct) \n",
    "\n",
    "**A.** There's enough evidence to reject the null hypothesis that the expected `total_engagement_percentage` is the same in all `post_category` types.\n",
    "\n",
    "**B.** There's enough evidence to reject the null hypothesis that the expected `total_engagement_percentage` is the same in `Action` and `Product` posts, for any value of `page_engagement_percentage`.\n",
    "\n",
    "**C.** There's enough evidence to reject the null hypothesis that the expected `total_engagement_percentage` is the same in `Action` and `Inspiration` posts, for any value of `page_engagement_percentage`.\n",
    "\n",
    "**D.** There's enough evidence to reject the null hypothesis that the expected `total_engagement_percentage` is the same in `Product` and `Inspiration` posts, for any value of `page_engagement_percentage`.\n",
    "\n",
    "\n",
    "*Assign your answers to the object `answer1.5`. Your answers should be one of `\"A\"`, `\"B\"`, `\"C\"`, or `\"D\"` surrounded by quotes.*"
   ]
  },
  {
   "cell_type": "code",
   "execution_count": null,
   "metadata": {
    "deletable": false,
    "nbgrader": {
     "cell_type": "code",
     "checksum": "2434cfaf082532a65bc631bc67ab569b",
     "grade": false,
     "grade_id": "cell-76a2651cd0cdd276",
     "locked": false,
     "schema_version": 3,
     "solution": true,
     "task": false
    }
   },
   "outputs": [],
   "source": [
    "# answer1.5 <- \n",
    "\n",
    "# your code here\n",
    "fail() # No Answer - remove if you provide an answer"
   ]
  },
  {
   "cell_type": "code",
   "execution_count": null,
   "metadata": {
    "deletable": false,
    "editable": false,
    "nbgrader": {
     "cell_type": "code",
     "checksum": "9a214d1dd9895bbe470717f8f6255bf9",
     "grade": true,
     "grade_id": "cell-0da409ea32fe4885",
     "locked": true,
     "points": 1,
     "schema_version": 3,
     "solution": false,
     "task": false
    }
   },
   "outputs": [],
   "source": [
    "test_1.5()"
   ]
  },
  {
   "cell_type": "markdown",
   "metadata": {
    "deletable": false,
    "editable": false,
    "nbgrader": {
     "cell_type": "markdown",
     "checksum": "99c8ecf974dc4f3ed0846fd9b7c85fd3",
     "grade": false,
     "grade_id": "cell-df662830a2a48926",
     "locked": true,
     "schema_version": 3,
     "solution": false,
     "task": false
    }
   },
   "source": [
    "**Question 1.6**\n",
    "<br>{points: 1}\n",
    "\n",
    "Using a **significance level $\\alpha = 0.10$** and the results in `facebook_MLR_add_2_results`, which of the following claims *are* correct? (there may be more than one)\n",
    "\n",
    "**A.** We fail to reject the null hypothesis that `total_engagement_percentage` and `share_percentage` are not associated, holding all variable fix.\n",
    "\n",
    "**B.** We fail to reject the null hypothesis that `total_engagement_percentage` and `comment_percentage` are not associated, holding all variable fix.\n",
    "\n",
    "**C.** We fail to reject the null hypothesis that the expected `total_engagement_percentage` is the same in `Action` and `Product` posts,  holding all other variables fix, \n",
    "\n",
    "**D.** We fail to reject the null hypothesis that the expected `total_engagement_percentage` is the same in `Action` and `Inspiration` posts,  holding all other variables fix.\n",
    "\n",
    "**E.** We fail to reject the null hypothesis that the expected `total_engagement_percentage` is the same in `Product` and `Inspiration` posts,  holding all other variables fix.\n",
    "\n",
    "*Assign your answers to the object `answer1.6`. Your answers have to be included in a single string indicating the correct options **in alphabetical order** and surrounded by quotes (e.g., `\"ABCD\"` indicates you are selecting the four options).*"
   ]
  },
  {
   "cell_type": "code",
   "execution_count": null,
   "metadata": {
    "deletable": false,
    "nbgrader": {
     "cell_type": "code",
     "checksum": "afe1939cb68386d207daf13f6c0e3e16",
     "grade": false,
     "grade_id": "cell-b1fab272b535d3a2",
     "locked": false,
     "schema_version": 3,
     "solution": true,
     "task": false
    }
   },
   "outputs": [],
   "source": [
    "# answer1.6 <- \n",
    "\n",
    "# your code here\n",
    "fail() # No Answer - remove if you provide an answer"
   ]
  },
  {
   "cell_type": "code",
   "execution_count": null,
   "metadata": {
    "deletable": false,
    "editable": false,
    "nbgrader": {
     "cell_type": "code",
     "checksum": "8789ea33fb38cd81fd1e1f55924d898a",
     "grade": true,
     "grade_id": "cell-5c4b18e42f376954",
     "locked": true,
     "points": 1,
     "schema_version": 3,
     "solution": false,
     "task": false
    }
   },
   "outputs": [],
   "source": [
    "test_1.6()"
   ]
  },
  {
   "cell_type": "markdown",
   "metadata": {
    "deletable": false,
    "editable": false,
    "nbgrader": {
     "cell_type": "markdown",
     "checksum": "9978671e5384eee177f9fc558f39c734",
     "grade": false,
     "grade_id": "cell-c096bd3acbd91392",
     "locked": true,
     "schema_version": 3,
     "solution": false,
     "task": false
    }
   },
   "source": [
    "**Question 1.7**\n",
    "<br>{points: 1}\n",
    "\n",
    "Using a **significance level $\\alpha = 0.10$** and the results in `facebook_MLR_int_results`, which of the following claims *are* correct? (there may be more than one)\n",
    "\n",
    "> *Tip*: Note that the results of `facebook_MLR_int_results` can not be used to examine if (overall) `total_engagement_percentage` and `page_engagement_percentage`  are associated. The $t$-tests in the `tidy()` table, compares this association for different types of posts (i.e., levels of the categorical variable `post_category`). An $F$-test is required instead!\n",
    "\n",
    "**A.** After controlling for other input variables in the model, `total_engagement_percentage` and `page_engagement_percentage` are significantly associated.\n",
    "\n",
    "**B.** After controlling for other input variables in the model, `total_engagement_percentage` and `page_engagement_percentage` are significantly associated for `Action` posts.\n",
    "\n",
    "**C.** After controlling for other input variables in the model, `total_engagement_percentage` and `page_engagement_percentage` are significantly the associated for `Product` posts.\n",
    "\n",
    "**D.** After controlling for other input variables in the model, the association between `total_engagement_percentage` and `page_engagement_percentage` is significantly different for `Product` posts compared to that of `Action` posts.\n",
    "\n",
    "\n",
    "*Assign your answers to the object `answer1.7`. Your answers have to be included in a single string indicating the correct options **in alphabetical order** and surrounded by quotes (e.g., `\"ABCD\"` indicates you are selecting the four options).*"
   ]
  },
  {
   "cell_type": "code",
   "execution_count": null,
   "metadata": {
    "deletable": false,
    "nbgrader": {
     "cell_type": "code",
     "checksum": "9633869dd7aab00f68f131ede07f7da7",
     "grade": false,
     "grade_id": "cell-526e7a36d70d7656",
     "locked": false,
     "schema_version": 3,
     "solution": true,
     "task": false
    }
   },
   "outputs": [],
   "source": [
    "# answer1.7 <- \n",
    "\n",
    "# your code here\n",
    "fail() # No Answer - remove if you provide an answer"
   ]
  },
  {
   "cell_type": "code",
   "execution_count": null,
   "metadata": {
    "deletable": false,
    "editable": false,
    "nbgrader": {
     "cell_type": "code",
     "checksum": "26d7f091a204548d5bf3495cb2d749d4",
     "grade": true,
     "grade_id": "cell-eaee9f2280c396a0",
     "locked": true,
     "points": 1,
     "schema_version": 3,
     "solution": false,
     "task": false
    }
   },
   "outputs": [],
   "source": [
    "test_1.7()"
   ]
  },
  {
   "cell_type": "markdown",
   "metadata": {
    "deletable": false,
    "editable": false,
    "nbgrader": {
     "cell_type": "markdown",
     "checksum": "7db021e1ddc1a29ee227fc5e72b58130",
     "grade": false,
     "grade_id": "cell-0a13c3e946cd454c",
     "locked": true,
     "schema_version": 3,
     "solution": false,
     "task": false
    }
   },
   "source": [
    "**Question 1.8**\n",
    "<br>{points: 1}\n",
    "\n",
    "Before testing the goodness of fit and compare our three models, let us check the corresponding sample's regression equations:\n",
    "\n",
    "- `facebook_MLR_add`:\n",
    "\n",
    "$$Y_i = \\beta_0 + \\beta_1 X_{1,i} + \\beta_2 X_{2,i} + \\beta_3 X_{3,i} + \\varepsilon_i.$$\n",
    "\n",
    "- `facebook_MLR_add_2`:\n",
    "\n",
    "$$Y_i = \\beta_0 + \\beta_1 X_{1,i} + \\beta_2 X_{2,i} + \\beta_3 X_{3,i} + \\beta_4 X_{4,i} + \\beta_5 X_{5,i} + \\varepsilon_i.$$\n",
    "\n",
    "- `facebook_MLR_int`:\n",
    "\n",
    "$$Y_i = \\beta_0 + \\beta_1 X_{1,i} + \\beta_2 X_{2,i} + \\beta_3 X_{3,i} + \\beta_6 X_{1,i} \\times X_{2,i} + \\beta_7 X_{1,i} \\times X_{3,i}+ \\varepsilon_i.$$\n",
    "\n",
    "\n",
    "Using `glance()`, obtain metrics to explore the goodness of fit of these models. Store values in `facebook_MLR_add_statistics`, `facebook_MLR_add_2_statistics`, and `facebook_MLR_int_statistics`.\n",
    "\n",
    "*Fill out those parts indicated with `...`, uncomment the corresponding code in the cell below, and run it.*"
   ]
  },
  {
   "cell_type": "code",
   "execution_count": null,
   "metadata": {
    "deletable": false,
    "nbgrader": {
     "cell_type": "code",
     "checksum": "e0165f17f8a0b833fe812bacf061f7f6",
     "grade": false,
     "grade_id": "cell-9f574598d8b9799b",
     "locked": false,
     "schema_version": 3,
     "solution": true,
     "task": false
    }
   },
   "outputs": [],
   "source": [
    "# print(\"facebook_MLR_add_statistics\")\n",
    "# facebook_MLR_add_statistics <- ...(...) %>% mutate_if(is.numeric, round, 3)\n",
    "# facebook_MLR_add_statistics\n",
    "\n",
    "# print(\"facebook_MLR_add_2_statistics\")\n",
    "# facebook_MLR_add_2_statistics <- ...(...) %>% mutate_if(is.numeric, round, 3)\n",
    "# facebook_MLR_add_2_statistics\n",
    "\n",
    "# print(\"facebook_MLR_int_statistics\")\n",
    "# facebook_MLR_int_statistics <- ...(...) %>% mutate_if(is.numeric, round, 3)\n",
    "# facebook_MLR_int_statistics\n",
    "\n",
    "# your code here\n",
    "fail() # No Answer - remove if you provide an answer"
   ]
  },
  {
   "cell_type": "code",
   "execution_count": null,
   "metadata": {
    "deletable": false,
    "editable": false,
    "nbgrader": {
     "cell_type": "code",
     "checksum": "cb1077e48d37beed86ada6022781ec31",
     "grade": true,
     "grade_id": "cell-3f47b2c5bfa73fdd",
     "locked": true,
     "points": 1,
     "schema_version": 3,
     "solution": false,
     "task": false
    }
   },
   "outputs": [],
   "source": [
    "test_1.8()"
   ]
  },
  {
   "cell_type": "markdown",
   "metadata": {
    "deletable": false,
    "editable": false,
    "nbgrader": {
     "cell_type": "markdown",
     "checksum": "776f7adfcfc6f7d219a2538c43a6db30",
     "grade": false,
     "grade_id": "cell-1aacaa45a46be49a",
     "locked": true,
     "schema_version": 3,
     "solution": false,
     "task": false
    }
   },
   "source": [
    "**Question 1.9**\n",
    "<br>{points: 1}\n",
    "\n",
    "We can use the adjusted $R^2$ to compare the three models and conclude which one fits the data better. By looking at your metrics from **Question 1.8**, what model fits the data betters according to the adjusted $R^2$ and why?"
   ]
  },
  {
   "cell_type": "markdown",
   "metadata": {
    "deletable": false,
    "nbgrader": {
     "cell_type": "markdown",
     "checksum": "ae55ebcda45ee51136d439402b8eedf5",
     "grade": true,
     "grade_id": "cell-f810ee382faddccf",
     "locked": false,
     "points": 1,
     "schema_version": 3,
     "solution": true,
     "task": false
    }
   },
   "source": [
    "> *Your answer goes here.*\n",
    "\n",
    "DOUBLE CLICK TO EDIT **THIS CELL** AND REPLACE THIS TEXT WITH YOUR ANSWER."
   ]
  },
  {
   "cell_type": "markdown",
   "metadata": {
    "deletable": false,
    "editable": false,
    "nbgrader": {
     "cell_type": "markdown",
     "checksum": "88b2c32f9064dd663e62aacc29e77413",
     "grade": false,
     "grade_id": "cell-9f80548e65943f26",
     "locked": true,
     "schema_version": 3,
     "solution": false,
     "task": false
    }
   },
   "source": [
    "**Question 1.10**\n",
    "<br>{points: 1}\n",
    "\n",
    "Do these three models fit the data better than the null model. Using your results from **Question 1.8** with a **significance level $\\alpha = 0.10$**, provide the three corresponding statistical conclusions of these tests."
   ]
  },
  {
   "cell_type": "markdown",
   "metadata": {
    "deletable": false,
    "nbgrader": {
     "cell_type": "markdown",
     "checksum": "0f604d678976bc132701363f230060df",
     "grade": true,
     "grade_id": "cell-a3029305e4a769e0",
     "locked": false,
     "points": 1,
     "schema_version": 3,
     "solution": true,
     "task": false
    }
   },
   "source": [
    "> *Your answer goes here.*\n",
    "\n",
    "DOUBLE CLICK TO EDIT **THIS CELL** AND REPLACE THIS TEXT WITH YOUR ANSWER."
   ]
  },
  {
   "cell_type": "markdown",
   "metadata": {
    "deletable": false,
    "editable": false,
    "nbgrader": {
     "cell_type": "markdown",
     "checksum": "bbdaa0118bcf4aeeb62bf2f5de47d718",
     "grade": false,
     "grade_id": "cell-eaf264abc9e58a0f",
     "locked": true,
     "schema_version": 3,
     "solution": false,
     "task": false
    }
   },
   "source": [
    "**Question 1.11**\n",
    "<br>{points: 1}\n",
    "\n",
    "By looking at the equations in **Question 1.8**, `facebook_MLR_add` is nested in `facebook_MLR_add_2`. Moreover, `facebook_MLR_add` is nested in `facebook_MLR_int`. Hence, we can use $F$-tests to make pairwise comparisons between these models. Run these tests following these steps: \n",
    "\n",
    "- With models `facebook_MLR_add` and `facebook_MLR_add_2`, use `anova()` to obtain the $F$-statistic and its associated $p$-value to *simultaneously* test is all additional coefficients in `facebook_MLR_add_2` are zero. Store your results in an object called `facebook_F_test_add2_vs_add`.\n",
    "\n",
    "- With models `facebook_MLR_add` and `facebook_MLR_int`, use `anova()` to obtain the $F$-statistic and its associated $p$-value to *simultaneously* test is all additional coefficients in `facebook_MLR_int` are zero. Store your results in an object called `facebook_F_test_int_vs_add`.\n",
    "\n",
    "*Fill out those parts indicated with `...`, uncomment the corresponding code in the cell below, and run it.*"
   ]
  },
  {
   "cell_type": "code",
   "execution_count": null,
   "metadata": {
    "deletable": false,
    "nbgrader": {
     "cell_type": "code",
     "checksum": "f0aa389cf8ca57b11bf0bcfee2692298",
     "grade": false,
     "grade_id": "cell-26e92d316edd45bb",
     "locked": false,
     "schema_version": 3,
     "solution": true,
     "task": false
    }
   },
   "outputs": [],
   "source": [
    "# print(\"facebook_MLR_add vs. facebook_MLR_add_2\")\n",
    "# facebook_F_test_add2_vs_add <- ...(..., ...) %>% mutate_if(is.numeric, round, 3)\n",
    "# facebook_F_test_add2_vs_add\n",
    "\n",
    "# print(\"facebook_MLR_add vs. facebook_MLR_int\")\n",
    "# facebook_F_test_int_vs_add <- ...(..., ...) %>% mutate_if(is.numeric, round, 3)\n",
    "# facebook_F_test_int_vs_add\n",
    "\n",
    "# your code here\n",
    "fail() # No Answer - remove if you provide an answer"
   ]
  },
  {
   "cell_type": "code",
   "execution_count": null,
   "metadata": {
    "deletable": false,
    "editable": false,
    "nbgrader": {
     "cell_type": "code",
     "checksum": "f6c1b72555a806c82a65baff4375ad7d",
     "grade": true,
     "grade_id": "cell-9409a93cb73dbf50",
     "locked": true,
     "points": 1,
     "schema_version": 3,
     "solution": false,
     "task": false
    }
   },
   "outputs": [],
   "source": [
    "test_1.11()"
   ]
  },
  {
   "cell_type": "markdown",
   "metadata": {
    "deletable": false,
    "editable": false,
    "nbgrader": {
     "cell_type": "markdown",
     "checksum": "9a7f1c113fc596fed96ea1c9755bd32e",
     "grade": false,
     "grade_id": "cell-8ee5a6163c49db9b",
     "locked": true,
     "schema_version": 3,
     "solution": false,
     "task": false
    }
   },
   "source": [
    "**Question 1.12**\n",
    "<br>{points: 1}\n",
    "\n",
    "Based in your results from **Question 1.11** with a **significance level $\\alpha = 0.10$**:\n",
    "\n",
    "- Does `facebook_MLR_add_2` fit the data better than `facebook_MLR_add`\n",
    "- Comparing `facebook_MLR_add` vs `facebook_MLR_int`, does the inclusion of interaction terms in `facebook_MLR_int` improve the model's fit to the data?"
   ]
  },
  {
   "cell_type": "markdown",
   "metadata": {
    "deletable": false,
    "nbgrader": {
     "cell_type": "markdown",
     "checksum": "d5708730a8ab86894e51f6156c9bbe26",
     "grade": true,
     "grade_id": "cell-eb0ed1831ff05941",
     "locked": false,
     "points": 1,
     "schema_version": 3,
     "solution": true,
     "task": false
    }
   },
   "source": [
    "> *Your answer goes here.*\n",
    "\n",
    "DOUBLE CLICK TO EDIT **THIS CELL** AND REPLACE THIS TEXT WITH YOUR ANSWER."
   ]
  },
  {
   "cell_type": "markdown",
   "metadata": {
    "deletable": false,
    "editable": false,
    "nbgrader": {
     "cell_type": "markdown",
     "checksum": "76bf05780fe98d731ced5affcca6e033",
     "grade": false,
     "grade_id": "cell-7609546e180ef16d",
     "locked": true,
     "schema_version": 3,
     "solution": false,
     "task": false
    }
   },
   "source": [
    "**Question 1.13**\n",
    "<br>{points: 1}\n",
    "\n",
    "In **Question 1.7** we noted that when you fit a model with interactions the results in `facebook_MLR_int_results` can not be used to examine if (overall) `total_engagement_percentage` and `page_engagement_percentage`  are associated. \n",
    "\n",
    "The $t$-tests in the `tidy()` table, compares this association for different types of posts (i.e., levels of the categorical variable `post_category`). \n",
    "\n",
    "If you want to answer examine the *overall* association, on average over different posts and the effect of other variables, you need to compare `facebook_MLR_int` with a model that does not contain the variable `page_engagement_percentage`.\n",
    "\n",
    "**1.13.0** Use `lm` to write the code of the nested model needed to compare with `facebook_MLR_int`. Give an object name to this output to be used in the next questions. \n",
    "\n",
    "**1.13.1** Write the code run an appropriate $F$ test to answer the question above? "
   ]
  },
  {
   "cell_type": "markdown",
   "metadata": {
    "deletable": false,
    "nbgrader": {
     "cell_type": "markdown",
     "checksum": "897d4d89091b3e7c3258dff888ab7548",
     "grade": true,
     "grade_id": "cell-f543786219e2c032",
     "locked": false,
     "points": 1,
     "schema_version": 3,
     "solution": true,
     "task": false
    }
   },
   "source": [
    "> *Your answer goes here.*\n",
    "\n",
    "DOUBLE CLICK TO EDIT **THIS CELL** AND REPLACE THIS TEXT WITH YOUR ANSWER."
   ]
  },
  {
   "cell_type": "markdown",
   "metadata": {
    "deletable": false,
    "editable": false,
    "nbgrader": {
     "cell_type": "markdown",
     "checksum": "72da032d69700074ae25d697e28ac22c",
     "grade": false,
     "grade_id": "cell-c45e4d498d7bda19",
     "locked": true,
     "schema_version": 3,
     "solution": false,
     "task": false
    }
   },
   "source": [
    "#### An interesting exercise (not for marks): \n",
    "\n",
    "Repeat the comparison before for the model you suggested in **Question 1.13.0** with `facebook_MLR_add`. Note that the $F$-statistic from `anova` equals the square of one of the $t$-statistic from `facebook_MLR_add_results`! This is not a coincidence if you think that these nested models differ in only one variable!! "
   ]
  }
 ],
 "metadata": {
  "jupytext": {
   "formats": "ipynb,Rmd"
  },
  "kernelspec": {
   "display_name": "R",
   "language": "R",
   "name": "ir"
  },
  "language_info": {
   "codemirror_mode": "r",
   "file_extension": ".r",
   "mimetype": "text/x-r-source",
   "name": "R",
   "pygments_lexer": "r",
   "version": "4.1.3"
  },
  "latex_envs": {
   "LaTeX_envs_menu_present": true,
   "autoclose": false,
   "autocomplete": true,
   "bibliofile": "biblio.bib",
   "cite_by": "apalike",
   "current_citInitial": 1,
   "eqLabelWithNumbers": true,
   "eqNumInitial": 1,
   "hotkeys": {
    "equation": "Ctrl-E",
    "itemize": "Ctrl-I"
   },
   "labels_anchors": false,
   "latex_user_defs": false,
   "report_style_numbering": false,
   "user_envs_cfg": false
  }
 },
 "nbformat": 4,
 "nbformat_minor": 4
}
