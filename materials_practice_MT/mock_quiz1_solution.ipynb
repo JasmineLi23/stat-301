{
 "cells": [
  {
   "cell_type": "markdown",
   "metadata": {},
   "source": [
    "\n"
   ]
  },
  {
   "cell_type": "markdown",
   "metadata": {},
   "source": [
    "# STAT 301: Midterm 1"
   ]
  },
  {
   "cell_type": "markdown",
   "metadata": {},
   "source": [
    "## Data Wrangling\n",
    "\n"
   ]
  },
  {
   "cell_type": "code",
   "execution_count": 2,
   "metadata": {
    "scrolled": true
   },
   "outputs": [],
   "source": [
    "# The code will not be displayed in the quiz\n",
    "library(tidyverse, quietly = T)\n",
    "library(broom, quietly = T)\n",
    "library(repr, quietly = T)\n",
    "library(infer, quietly = T)\n",
    "library(ggplot2)\n",
    "library(cowplot)\n",
    "library(contextual)\n",
    "\n",
    "dat <- read.csv(\"Assessment_2015.csv\")\n",
    "dat <- dat %>% filter(ASSESSCLAS==\"Residential\")  %>% filter(ASSESSMENT < 1500000)\n",
    "\n",
    "dat <- dat  %>% mutate(BLDG_AGE = cut(YEAR_BUILT,\n",
    "                     breaks=c(-Inf,1980,2000,+Inf),\n",
    "                     labels=c(\"plus40\",\"mid40-20\",\"new20\")))\n",
    "\n",
    "set.seed(123)\n",
    "dat_tax <- rep_sample_n(dat, size = 1000)"
   ]
  },
  {
   "cell_type": "markdown",
   "metadata": {},
   "source": [
    "\n",
    "## Question 1\n",
    "\n",
    "**Answer TRUE/FALSE to the following statement**:\n",
    "\n",
    "Bootstrapping can be used to approximate the sampling distribution of the least square estimators in linear regression.\n",
    "\n",
    "### BEGIN SOLUTION\n",
    "\n",
    "TRUE. You can resample with replacement, estimate a LR for each sample and obtain a list of LS estimates. The distribution of these estimates is an approximation of the sampling distribution. You can visualize the distribution using a histogram for each estimate.\n",
    "\n",
    "### END SOLUTION\n",
    "\n",
    "## Question 2\n",
    "\n",
    "You have a dataset called `data_yvr` has information about 20,000 houses sold in Vancouver that includes the following variables:\n",
    "\n",
    "`price` = selling price of the house\n",
    "\n",
    "`bedrooms` = number of bedrooms\n",
    "\n",
    "`bathrooms` = number of bathrooms\n",
    "\n",
    "`sqft` = interior square footage\n",
    "\n",
    "`waterfront` = 1 if the house has a view of the waterfront, 0 otherwise\n",
    "\n",
    "`yr_built` = year the house was built\n",
    "\n",
    "The following linear regression models are estimated using `lm` in R to study different factors associated with a house’s selling price:\n",
    "\n",
    "You believe that the expected change in price per additional square foot in size is different in houses with and without a waterfront view. Which model can you use to test this hypothesis?\n",
    "\n",
    "\n",
    "**A**: `lm(price ~ yr_built, data = data_yvr)`\n",
    "\n",
    "**B**: `lm(price ~ waterfront, data = data_yvr)`\n",
    "\n",
    "**C**: `lm(price ~ sqft * waterfront, data = data_yvr)`\n",
    "\n",
    "**D**: `lm(price ~ bedrooms + bathrooms + sqft + waterfront + yr_built, data = data_yvr)`\n",
    "\n",
    "### BEGIN SOLUTION\n",
    "\n",
    "**C**: since you expect the association between price and size to be different in houses with and without a waterfront view,  you need a model where these variable are interacted (`sqft * waterfront`)\n",
    "\n",
    "### END SOLUTION\n",
    "\n",
    "\n",
    "## Question 3\n",
    "\n",
    "For the California School dataset and the plot provided, \n",
    "\n",
    "**Complete the code of the model** used to estimate the lines illustrated in the plot below. Don't include spaces between variables and symbols:\n",
    "\n",
    "\n",
    "### BEGIN SOLUTION\n",
    "\n",
    "(no spaces as requested to match Canvas response)\n",
    "\n",
    "`model.plot <- lm(read~grades*english,data=CASchools)`\n",
    "\n",
    "The plot shows non-parallel lines, i.e., different groups have different slopes. \n",
    "\n",
    "Thus, this is **NOT** an additive model. We need to include an interaction between the covariates `grades` and `english` (`*`)\n",
    "\n",
    "### END SOLUTION\n",
    "\n",
    "## Question 4\n",
    "\n",
    "Same dataset. Model:\n",
    "\n",
    "`lm(read ~ grades + english, data = CASchools)`\n",
    "\n",
    "a) The estimated coefficient for english is statistically significant and equal to -0.24. In your own words and within the context of the problem, interpret this coefficients.  \n",
    "\n",
    "b) Using the code above, how many estimates would you obtain for grades? Explain why and give an interpretation the estimate(s).\n",
    "\n",
    "\n",
    "### BEGIN SOLUTION\n",
    "\n",
    "a) An additional 1 percent of students in the district that are English learners, is associated with an expected decrease in the reading score of 0.24. \n",
    "\n",
    "**NOTE 1**: important to use the word *associated*. Don't use *cause* or *effect* since this is an observational study. \n",
    "\n",
    "**NOTE 2**: the units for `english` are percent, so the interpretation is *an additional 1 percent*, otherwise, we don't refer to percent increases of the covariates.\n",
    "\n",
    "b) The table will have one estimated coefficient called `gradesKK-08`. This will be the difference in the intercept of the line for `gradesKK-08`, relative to the reference line for `gradesKK-06`. \n",
    "\n",
    "In the context of the problem, this estimate corresponds to the difference in average reading score when there are no English learners in `gradesKK-08` compared to `gradesKK-06` schools.\n",
    "\n",
    "### END SOLUTION"
   ]
  },
  {
   "cell_type": "markdown",
   "metadata": {},
   "source": [
    "**Question 6.1**\n",
    "\n",
    "Provide the R code to estimate a simple linear regression to model the relation between the response and a continuous input variable. Use the name of the variables given above.\n",
    "\n",
    "### BEGIN SOLUTION\n",
    "\n",
    "> lm_size<- lm(ASSESSMENT ~ BLDG_METRE, data = dat_tax)\n",
    "\n",
    "### END SOLUTION"
   ]
  },
  {
   "cell_type": "markdown",
   "metadata": {},
   "source": [
    "**Question 6.2**\n",
    "\n",
    "Using `dat_tax`, we estimate a simple linear regression using `lm()` to study the relation between the assessed value of a property and its size. Results are shown in the table below obtained with `tidy()`. In one sentence, interpret the estimate of the parameter for `BLDG_METRE`. \n"
   ]
  },
  {
   "cell_type": "code",
   "execution_count": 2,
   "metadata": {
    "scrolled": true
   },
   "outputs": [
    {
     "data": {
      "text/html": [
       "<table class=\"dataframe\">\n",
       "<caption>A tibble: 2 × 5</caption>\n",
       "<thead>\n",
       "\t<tr><th scope=col>term</th><th scope=col>estimate</th><th scope=col>std.error</th><th scope=col>statistic</th><th scope=col>p.value</th></tr>\n",
       "\t<tr><th scope=col>&lt;chr&gt;</th><th scope=col>&lt;dbl&gt;</th><th scope=col>&lt;dbl&gt;</th><th scope=col>&lt;dbl&gt;</th><th scope=col>&lt;dbl&gt;</th></tr>\n",
       "</thead>\n",
       "<tbody>\n",
       "\t<tr><td>(Intercept)</td><td>127317.865</td><td>10033.463</td><td>12.689</td><td>0</td></tr>\n",
       "\t<tr><td>BLDG_METRE </td><td>  2356.108</td><td>   62.966</td><td>37.419</td><td>0</td></tr>\n",
       "</tbody>\n",
       "</table>\n"
      ],
      "text/latex": [
       "A tibble: 2 × 5\n",
       "\\begin{tabular}{lllll}\n",
       " term & estimate & std.error & statistic & p.value\\\\\n",
       " <chr> & <dbl> & <dbl> & <dbl> & <dbl>\\\\\n",
       "\\hline\n",
       "\t (Intercept) & 127317.865 & 10033.463 & 12.689 & 0\\\\\n",
       "\t BLDG\\_METRE  &   2356.108 &    62.966 & 37.419 & 0\\\\\n",
       "\\end{tabular}\n"
      ],
      "text/markdown": [
       "\n",
       "A tibble: 2 × 5\n",
       "\n",
       "| term &lt;chr&gt; | estimate &lt;dbl&gt; | std.error &lt;dbl&gt; | statistic &lt;dbl&gt; | p.value &lt;dbl&gt; |\n",
       "|---|---|---|---|---|\n",
       "| (Intercept) | 127317.865 | 10033.463 | 12.689 | 0 |\n",
       "| BLDG_METRE  |   2356.108 |    62.966 | 37.419 | 0 |\n",
       "\n"
      ],
      "text/plain": [
       "  term        estimate   std.error statistic p.value\n",
       "1 (Intercept) 127317.865 10033.463 12.689    0      \n",
       "2 BLDG_METRE    2356.108    62.966 37.419    0      "
      ]
     },
     "metadata": {},
     "output_type": "display_data"
    }
   ],
   "source": [
    "# The code will not be displayed in the quiz\n",
    "lm_size<- lm(ASSESSMENT ~ BLDG_METRE, data = dat_tax)\n",
    "tidy(lm_size)  %>% mutate_if(is.numeric, round, 3)"
   ]
  },
  {
   "cell_type": "markdown",
   "metadata": {
    "jp-MarkdownHeadingCollapsed": true
   },
   "source": [
    "### BEGIN SOLUTION\n",
    "\n",
    "An additional meter in the size of the property is associated with an expected increase in the assessed value of $2356.108.\n",
    "\n",
    "### END SOLUTION"
   ]
  },
  {
   "cell_type": "code",
   "execution_count": 3,
   "metadata": {},
   "outputs": [
    {
     "data": {
      "text/html": [
       "<table class=\"dataframe\">\n",
       "<caption>A tibble: 4 × 5</caption>\n",
       "<thead>\n",
       "\t<tr><th scope=col>term</th><th scope=col>estimate</th><th scope=col>std.error</th><th scope=col>statistic</th><th scope=col>p.value</th></tr>\n",
       "\t<tr><th scope=col>&lt;chr&gt;</th><th scope=col>&lt;dbl&gt;</th><th scope=col>&lt;dbl&gt;</th><th scope=col>&lt;dbl&gt;</th><th scope=col>&lt;dbl&gt;</th></tr>\n",
       "</thead>\n",
       "<tbody>\n",
       "\t<tr><td>(Intercept)     </td><td>125789.449</td><td>9916.236</td><td>12.685</td><td>0</td></tr>\n",
       "\t<tr><td>BLDG_METRE      </td><td>  2214.924</td><td>  66.918</td><td>33.099</td><td>0</td></tr>\n",
       "\t<tr><td>BLDG_AGEmid40-20</td><td> 35158.027</td><td>7953.204</td><td> 4.421</td><td>0</td></tr>\n",
       "\t<tr><td>BLDG_AGEnew20   </td><td> 43237.149</td><td>8369.910</td><td> 5.166</td><td>0</td></tr>\n",
       "</tbody>\n",
       "</table>\n"
      ],
      "text/latex": [
       "A tibble: 4 × 5\n",
       "\\begin{tabular}{lllll}\n",
       " term & estimate & std.error & statistic & p.value\\\\\n",
       " <chr> & <dbl> & <dbl> & <dbl> & <dbl>\\\\\n",
       "\\hline\n",
       "\t (Intercept)      & 125789.449 & 9916.236 & 12.685 & 0\\\\\n",
       "\t BLDG\\_METRE       &   2214.924 &   66.918 & 33.099 & 0\\\\\n",
       "\t BLDG\\_AGEmid40-20 &  35158.027 & 7953.204 &  4.421 & 0\\\\\n",
       "\t BLDG\\_AGEnew20    &  43237.149 & 8369.910 &  5.166 & 0\\\\\n",
       "\\end{tabular}\n"
      ],
      "text/markdown": [
       "\n",
       "A tibble: 4 × 5\n",
       "\n",
       "| term &lt;chr&gt; | estimate &lt;dbl&gt; | std.error &lt;dbl&gt; | statistic &lt;dbl&gt; | p.value &lt;dbl&gt; |\n",
       "|---|---|---|---|---|\n",
       "| (Intercept)      | 125789.449 | 9916.236 | 12.685 | 0 |\n",
       "| BLDG_METRE       |   2214.924 |   66.918 | 33.099 | 0 |\n",
       "| BLDG_AGEmid40-20 |  35158.027 | 7953.204 |  4.421 | 0 |\n",
       "| BLDG_AGEnew20    |  43237.149 | 8369.910 |  5.166 | 0 |\n",
       "\n"
      ],
      "text/plain": [
       "  term             estimate   std.error statistic p.value\n",
       "1 (Intercept)      125789.449 9916.236  12.685    0      \n",
       "2 BLDG_METRE         2214.924   66.918  33.099    0      \n",
       "3 BLDG_AGEmid40-20  35158.027 7953.204   4.421    0      \n",
       "4 BLDG_AGEnew20     43237.149 8369.910   5.166    0      "
      ]
     },
     "metadata": {},
     "output_type": "display_data"
    }
   ],
   "source": [
    "# The code will not be displayed in the quiz\n",
    "\n",
    "lm_size_age_add <- lm(ASSESSMENT ~ BLDG_METRE + BLDG_AGE, data = dat_tax)\n",
    "tidy(lm_size_age_add)  %>% mutate_if(is.numeric, round, 3)"
   ]
  },
  {
   "cell_type": "markdown",
   "metadata": {},
   "source": [
    "**Question 7.1**\n",
    "\n",
    "Based on the estimates and results in the table given by `tidy()`, determine if the model contains any interaction term and in one or two sentences justify your answer.\n",
    "\n",
    "### BEGIN SOLUTION\n",
    "\n",
    "The model does not contain an interaction term. There are only 4 parameters to characterize 3 lines with equal slopes. \n",
    "\n",
    "The model does not contain an interaction term. There is only one common slope given by the estimate of `BLDG_METRE`.\n",
    "\n",
    "### END SOLUTION"
   ]
  },
  {
   "cell_type": "markdown",
   "metadata": {},
   "source": [
    "**Question 7.2**\n",
    "\n",
    "In one or two sentences, explain which assumption was made about the relation of the variables to propose such a model (i.e., with or without interactions). In other words, what was assumed about the relation between the assessed value and the size for properties of different ages?\n",
    "\n",
    "### BEGIN SOLUTION\n",
    "\n",
    "An additive model was fit since it was assumed that the association between the assessed value and the size of the property is the same for properties of all ages. The slope is the same for all levels of `BLDG_AGE`. \n",
    "\n",
    "### END SOLUTION"
   ]
  },
  {
   "cell_type": "markdown",
   "metadata": {},
   "source": [
    "**Question 7.3**\n",
    "\n",
    "Which of the following plots matches the model fit and summarized in the previous table? In one or two sentences, justify your choice and explain how the estimates given in the table relate with the line(s) in your selected plot.\n",
    "\n",
    "### BEGIN SOLUTION\n",
    "\n",
    "PLOT B: An additive model is represented by 3 paralell lines slope. The common slope is equal to 2214.924. The intercept of the reference red line is 125789.449. The intercept of the green line is (2214.924 + 35158.027). The intercept of the blue line is (2214.924 + 43237.149).\n",
    "\n",
    "### END SOLUTION"
   ]
  },
  {
   "cell_type": "code",
   "execution_count": 7,
   "metadata": {},
   "outputs": [
    {
     "data": {
      "text/html": [
       "<strong>png:</strong> 2"
      ],
      "text/latex": [
       "\\textbf{png:} 2"
      ],
      "text/markdown": [
       "**png:** 2"
      ],
      "text/plain": [
       "png \n",
       "  2 "
      ]
     },
     "metadata": {},
     "output_type": "display_data"
    }
   ],
   "source": [
    "# The code will not be displayed in the quiz\n",
    "options(repr.plot.width = 15, repr.plot.height = 7)\n",
    "\n",
    "#SLR\n",
    "dat_tax$pred_slm <- predict(lm_size)\n",
    "\n",
    "lm_size_plot <- ggplot(dat_tax, aes(\n",
    "  x = BLDG_METRE,\n",
    "  y = ASSESSMENT,\n",
    "  color = BLDG_AGE\n",
    ")) +\n",
    "  geom_point() +\n",
    "  geom_line(aes(y = pred_slm), size = 1, color = \"black\") +\n",
    "  labs(\n",
    "    title = \"PLOT A\",\n",
    "    x = \"Building Size (mts)\",\n",
    "    y = \"Assessed Value ($)\"\n",
    "  ) +\n",
    "  theme(\n",
    "    text = element_text(size = 16.5),\n",
    "    plot.title = element_text(face = \"bold\"),\n",
    "    axis.title = element_text(face = \"bold\"),\n",
    "    legend.title = element_text(face = \"bold\"),\n",
    "  ) +\n",
    "  labs(color = \"Building Age\")\n",
    "\n",
    "#Additive\n",
    "dat_tax$pred_lm_add <- predict(lm_size_age_add)\n",
    "\n",
    "lm_size_age_add_plot <- ggplot(dat_tax, aes(\n",
    "  x = BLDG_METRE,\n",
    "  y = ASSESSMENT,\n",
    "  color = BLDG_AGE\n",
    ")) +\n",
    "  geom_point() +\n",
    "  geom_line(aes(y = pred_lm_add), size = 1) +\n",
    "  labs(\n",
    "    title = \"PLOT B\",\n",
    "    x = \"Building Size (mts)\",\n",
    "    y = \"Assessed Value ($)\"\n",
    "  ) +\n",
    "  theme(\n",
    "    text = element_text(size = 16.5),\n",
    "    plot.title = element_text(face = \"bold\"),\n",
    "    axis.title = element_text(face = \"bold\"),\n",
    "    legend.title = element_text(face = \"bold\"),\n",
    "  ) +\n",
    "  labs(color = \"Building Age\")\n",
    "\n",
    "#Interaction\n",
    "lm_size_age_int <- lm(ASSESSMENT ~ BLDG_METRE * BLDG_AGE, data = dat_tax)\n",
    "dat_tax$pred_lm_int <- predict(lm_size_age_int)\n",
    "png(filename=\"faithful.png\")\n",
    "lm_size_age_int_plot <- ggplot(dat_tax, aes(\n",
    "  x = BLDG_METRE,\n",
    "  y = ASSESSMENT,\n",
    "  color = BLDG_AGE\n",
    ")) +\n",
    "  geom_point() +\n",
    "  geom_line(aes(y = pred_lm_int), size = 1) +\n",
    "  labs(\n",
    "    title = \"PLOT C\",\n",
    "    x = \"Building Size (mts)\",\n",
    "    y = \"Assessed Value ($)\"\n",
    "  ) +\n",
    "  theme(\n",
    "    text = element_text(size = 16.5),\n",
    "    plot.title = element_text(face = \"bold\"),\n",
    "    axis.title = element_text(face = \"bold\"),\n",
    "    legend.title = element_text(face = \"bold\"),\n",
    "  ) +\n",
    "  labs(color = \"Building Age\")\n",
    "\n",
    "png(filename=\"/home/lourenzutti/question10.png\", width = 1000, height = 750)\n",
    "plot_grid(lm_size_plot, lm_size_age_add_plot, lm_size_age_int_plot)\n",
    "dev.off()"
   ]
  },
  {
   "cell_type": "code",
   "execution_count": 5,
   "metadata": {},
   "outputs": [
    {
     "data": {
      "text/html": [
       "<table class=\"dataframe\">\n",
       "<caption>A tibble: 1 × 7</caption>\n",
       "<thead>\n",
       "\t<tr><th scope=col>term</th><th scope=col>estimate</th><th scope=col>std.error</th><th scope=col>statistic</th><th scope=col>p.value</th><th scope=col>conf.low</th><th scope=col>conf.high</th></tr>\n",
       "\t<tr><th scope=col>&lt;chr&gt;</th><th scope=col>&lt;dbl&gt;</th><th scope=col>&lt;dbl&gt;</th><th scope=col>&lt;dbl&gt;</th><th scope=col>&lt;dbl&gt;</th><th scope=col>&lt;dbl&gt;</th><th scope=col>&lt;dbl&gt;</th></tr>\n",
       "</thead>\n",
       "<tbody>\n",
       "\t<tr><td>BLDG_METRE</td><td>1768.566</td><td>120.009</td><td>14.737</td><td>0</td><td>1533.065</td><td>2004.067</td></tr>\n",
       "</tbody>\n",
       "</table>\n"
      ],
      "text/latex": [
       "A tibble: 1 × 7\n",
       "\\begin{tabular}{lllllll}\n",
       " term & estimate & std.error & statistic & p.value & conf.low & conf.high\\\\\n",
       " <chr> & <dbl> & <dbl> & <dbl> & <dbl> & <dbl> & <dbl>\\\\\n",
       "\\hline\n",
       "\t BLDG\\_METRE & 1768.566 & 120.009 & 14.737 & 0 & 1533.065 & 2004.067\\\\\n",
       "\\end{tabular}\n"
      ],
      "text/markdown": [
       "\n",
       "A tibble: 1 × 7\n",
       "\n",
       "| term &lt;chr&gt; | estimate &lt;dbl&gt; | std.error &lt;dbl&gt; | statistic &lt;dbl&gt; | p.value &lt;dbl&gt; | conf.low &lt;dbl&gt; | conf.high &lt;dbl&gt; |\n",
       "|---|---|---|---|---|---|---|\n",
       "| BLDG_METRE | 1768.566 | 120.009 | 14.737 | 0 | 1533.065 | 2004.067 |\n",
       "\n"
      ],
      "text/plain": [
       "  term       estimate std.error statistic p.value conf.low conf.high\n",
       "1 BLDG_METRE 1768.566 120.009   14.737    0       1533.065 2004.067 "
      ]
     },
     "metadata": {},
     "output_type": "display_data"
    }
   ],
   "source": [
    "# The code will not be displayed in the quiz\n",
    "tidy(lm_size_age_int, conf.int = TRUE)  %>% mutate_if(is.numeric, round, 3) %>% \n",
    "    subset(term == \"BLDG_METRE\")\n"
   ]
  },
  {
   "cell_type": "markdown",
   "metadata": {},
   "source": [
    "**A.** at significance level of 5%, the assessed value of a property more than 40 years old is statistically different from that of houses less than 20 years old.\n",
    "\n",
    "**B.** at significance level of 5%, the assessed value of any property is significantly associated with the size of the property.\n",
    "\n",
    "**C.** at significance level of 5%, we have enough evidence to reject the null hypothesis that the assessed value of any property are not associated with the size of the property.\n",
    "\n",
    "**D.** at significance level of 5%, we have enough evidence to reject the null hypothesis that the  assessed value of properties more than 40 years old are not associated with the size of the property.\n",
    "\n",
    "**E.** with 95% confidence, we expect that the assessed value of a property increases between \\\\$1533.065 and \\\\$2004.067 for every 1 additional metre in size.\n",
    "\n",
    "**F.** with 95% confidence, we expect that the assessed value of a property increases between \\\\$1533.065 and \\\\$2004.067.\n",
    "\n",
    "**G.** with 95% confidence, the expected assessed value of a property more than 40 years old is between \\\\$1533.065 and \\\\$2004.067.\n",
    "\n",
    "### BEGIN SOLUTION\n",
    "\n",
    "D is the only correct one. All other options do not state \"for properties with more than 40 years\" (reference value) or refer to a wrong parameter in a model *with* interaction terms.\n",
    "\n",
    "### END SOLUTION"
   ]
  }
 ],
 "metadata": {
  "anaconda-cloud": "",
  "kernelspec": {
   "display_name": "R",
   "language": "R",
   "name": "ir"
  },
  "language_info": {
   "codemirror_mode": "r",
   "file_extension": ".r",
   "mimetype": "text/x-r-source",
   "name": "R",
   "pygments_lexer": "r",
   "version": "4.3.3"
  }
 },
 "nbformat": 4,
 "nbformat_minor": 4
}
