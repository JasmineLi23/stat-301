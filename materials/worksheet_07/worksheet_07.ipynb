{
 "cells": [
  {
   "cell_type": "markdown",
   "metadata": {
    "deletable": false,
    "editable": false,
    "nbgrader": {
     "cell_type": "markdown",
     "checksum": "32a95fc7dd24d9e80a38f71eb7348506",
     "grade": false,
     "grade_id": "cell-f1e1d845873036f4",
     "locked": true,
     "schema_version": 3,
     "solution": false,
     "task": false
    }
   },
   "source": [
    "# Worksheet 7: Model Evaluation and Model Selection"
   ]
  },
  {
   "cell_type": "markdown",
   "metadata": {
    "deletable": false,
    "editable": false,
    "nbgrader": {
     "cell_type": "markdown",
     "checksum": "4f368f4a802e15bd991322bf16951c73",
     "grade": false,
     "grade_id": "cell-82d9926086d47a80",
     "locked": true,
     "schema_version": 3,
     "solution": false,
     "task": false
    }
   },
   "source": [
    "#### Lecture and Tutorial Learning Goals:\n",
    "After completing this week's lecture and tutorial work, you will be able to:\n",
    "\n",
    "1. List model metrics that are suitable for evaluation of a statistical model developed to make inference about the data-generating mechanism (e.g., $R^2$, $\\text{AIC}$, Likelihood ratio test/$F$-test), their strengths and limitations, as well as how they are calculated.\n",
    "2. Write a computer script to calculate these model metrics. Interpret and communicate the results from that computer script.\n",
    "3. Explain the algorithms for the following variable selection methods:\n",
    "\n",
    "    - $F$-test to compare nested models.\n",
    "    - Forward selection.\n",
    "    - Backward selection."
   ]
  },
  {
   "cell_type": "code",
   "execution_count": null,
   "metadata": {
    "deletable": false,
    "editable": false,
    "nbgrader": {
     "cell_type": "code",
     "checksum": "1b1929b686c9a0d8acade85a115075cc",
     "grade": false,
     "grade_id": "cell-a2a153352bc44a68",
     "locked": true,
     "schema_version": 3,
     "solution": false,
     "task": false
    },
    "tags": []
   },
   "outputs": [],
   "source": [
    "# Run this cell before continuing.\n",
    "library(tidyverse)\n",
    "library(repr)\n",
    "library(broom)\n",
    "library(leaps)\n",
    "library(moderndive)\n",
    "source(\"tests_worksheet_07.R\")"
   ]
  },
  {
   "cell_type": "markdown",
   "metadata": {
    "deletable": false,
    "editable": false,
    "nbgrader": {
     "cell_type": "markdown",
     "checksum": "21a8dd22ad3be8c594d51bbde1d3ccc8",
     "grade": false,
     "grade_id": "cell-30d72e348848492c",
     "locked": true,
     "schema_version": 3,
     "solution": false,
     "task": false
    }
   },
   "source": [
    "# PART I: Model Evaluation of Generative Models"
   ]
  },
  {
   "cell_type": "markdown",
   "metadata": {
    "deletable": false,
    "editable": false,
    "nbgrader": {
     "cell_type": "markdown",
     "checksum": "83aa997a555a3c0e7a7a69886b6f8619",
     "grade": false,
     "grade_id": "cell-459184ff51dbea84",
     "locked": true,
     "schema_version": 3,
     "solution": false,
     "task": false
    }
   },
   "source": [
    "In this worksheet you will learn different methods to evaluate and select appropriate models to make inference about the data-generating mechanism. In other words, the main goal is to estimate and evaluate generative models."
   ]
  },
  {
   "cell_type": "markdown",
   "metadata": {
    "deletable": false,
    "editable": false,
    "nbgrader": {
     "cell_type": "markdown",
     "checksum": "86519b01e29e13e3710c3754c064c647",
     "grade": false,
     "grade_id": "cell-9be71f65643c5906",
     "locked": true,
     "schema_version": 3,
     "solution": false,
     "task": false
    }
   },
   "source": [
    "## Case Study: protein vs mRNA\n",
    "\n",
    "In this section we will continue working with the case study from Biology to learn how to examine the goodness of the fitted model and choose among different nested models. The data and some of the discussions related to this case were published in Nature (see citations below).\n",
    "\n",
    "In 2014, a research group claimed to find a \"predictive model\", which can be used to predict protein from mRNA expression!! \n",
    "\n",
    "> Wilhelm, M. et al. Mass-spectrometry-based draft of the human proteome. Nature 509, 582–587 (2014)\n",
    "\n",
    "Although their hypotheses were funded in the Central Dogma of Biology, most experimental results have shown very low correlation values between protein and mRNA values. \n",
    "\n",
    "Further examination of their analysis has shwon that their data do not support their claims:\n",
    "\n",
    "> Paper from my research group: Fortelny N, Overall CM, Pavlidis P, Freue GVC. Can we predict protein from mRNA levels? Nature. 2017 Jul 26;547(7664):E19-E20. doi: 10.1038/nature22293.\n",
    "\n",
    "We'll use data from this group submitted to the Journal to (re)analyse their data and evalute different models using concepts learned in this course.\n",
    "\n",
    "### Data\n",
    "\n",
    "Many proteins were not detected by the technology used due to values below limits of detection and the protein dataset contains many missing values!! For simplicity, we will use **a set of 1392 genes** that were measured in **all 12 tissues** and thus contain complete data on both protein and mRNA sets. \n",
    "\n",
    "*Run the cell below before continuing to read in the data and take a peek at it.* "
   ]
  },
  {
   "cell_type": "code",
   "execution_count": null,
   "metadata": {
    "deletable": false,
    "editable": false,
    "nbgrader": {
     "cell_type": "code",
     "checksum": "292b5084366a95ec55f6d34ab90c9e36",
     "grade": false,
     "grade_id": "cell-c3a6eba286971086",
     "locked": true,
     "schema_version": 3,
     "solution": false,
     "task": false
    },
    "tags": []
   },
   "outputs": [],
   "source": [
    "# Read and take a look at the data.\n",
    "dat_bio <- read.csv(\"data/nature_dat.csv\", row.names = 1, stringsAsFactors=TRUE)\n",
    "str(dat_bio)\n",
    "head(dat_bio,3)\n",
    "tail(dat_bio,3)"
   ]
  },
  {
   "cell_type": "markdown",
   "metadata": {
    "deletable": false,
    "editable": false,
    "nbgrader": {
     "cell_type": "markdown",
     "checksum": "1df774dff238548a24ca978a6a5cc4ad",
     "grade": false,
     "grade_id": "cell-e6b7bf58e2eb7a77",
     "locked": true,
     "schema_version": 3,
     "solution": false,
     "task": false
    }
   },
   "source": [
    "In this long format dataset, we can think that we have **1392 datasets**, one for each gene!\n",
    "\n",
    "> each dataset contains **12 observations**, one per tissue, and 2 variables, `prot` and `mrna`, along with an accession number for the gene (`gene`, an ID for each gene) and the name of the tissue (`tissue`, that works as an ID for each observation).\n",
    "\n",
    "*Run the cell below to get the data for gene ENSG00000085733.* "
   ]
  },
  {
   "cell_type": "code",
   "execution_count": null,
   "metadata": {
    "deletable": false,
    "editable": false,
    "nbgrader": {
     "cell_type": "code",
     "checksum": "6ed8fd2d104ef35339e78069dc2e039c",
     "grade": false,
     "grade_id": "cell-28e85de12a1890ed",
     "locked": true,
     "schema_version": 3,
     "solution": false,
     "task": false
    },
    "tags": []
   },
   "outputs": [],
   "source": [
    "dat_ENSG00000085733 <- dat_bio  %>% subset(gene == \"ENSG00000085733\") \n",
    "dat_ENSG00000085733"
   ]
  },
  {
   "cell_type": "markdown",
   "metadata": {
    "deletable": false,
    "editable": false,
    "nbgrader": {
     "cell_type": "markdown",
     "checksum": "a200797af0d235c2390652c2fa70624f",
     "grade": false,
     "grade_id": "cell-4135e761a8664bad",
     "locked": true,
     "schema_version": 3,
     "solution": false,
     "task": false
    }
   },
   "source": [
    "### Models and Estimation\n",
    "\n",
    "In the paper, the authors used a linear regression to estimate the relation between protein and mRNA levels *per gene*, and used that model to predict protein levels *per gene*.\n",
    "\n",
    "> it will be important at a later phase of the analysis to note that models are *gene-specific*\n",
    "\n",
    "**Gene-specific models**: for each gene they estimated the following model (for simplicity we do not use a subscript $g$)  \n",
    "\n",
    "$$\\text{prot}_{t} = \\beta_1 \\; \\times \\text{mrna}_{t} + \\varepsilon_t$$ \n",
    "\n",
    "where $\\hat{\\beta}_1 = median_t(\\text{mrna}_{t}/\\text{prot}_{t})$\n",
    "\n",
    "> $prot_{t}$ and $mrna_{t}$ are the protein and mRNA levels of a gene $g$ in tissue $t$, respectively\n",
    "\n",
    "<font color=\"blue\"> Note that these models do not contain an intercept! and they were not estimated by LS.</font> \n",
    "    \n",
    "While in general different models and estimation methods can be used to analyze the same data, it is important to evaluate the results according to the assumptions and the methodology used. \n",
    "    \n",
    "**In this worksheet we will use this dataset to estimate different models and evaluate their fit to the data.**"
   ]
  },
  {
   "cell_type": "markdown",
   "metadata": {
    "deletable": false,
    "editable": false,
    "nbgrader": {
     "cell_type": "markdown",
     "checksum": "9cdb56ca4b66f4c701038cc35d4ed5aa",
     "grade": false,
     "grade_id": "cell-f76d01efb9d4c744",
     "locked": true,
     "schema_version": 3,
     "solution": false,
     "task": false
    }
   },
   "source": [
    "### 1. Gene-specific SLR for one selected gene\n",
    "\n",
    "For each gene we will use LS to estimate the following SLR (for simplicity we do not use a subscript $g$)  \n",
    "\n",
    "$$prot_{t} = \\beta_0 +\\beta_1 \\; \\times mrna_{t} + \\varepsilon$$ \n",
    "\n",
    "where $\\hat{\\beta}_1$ is estimated by LS"
   ]
  },
  {
   "cell_type": "markdown",
   "metadata": {
    "deletable": false,
    "editable": false,
    "nbgrader": {
     "cell_type": "markdown",
     "checksum": "582ef7625b84736b7daad8d5ffe78213",
     "grade": false,
     "grade_id": "cell-b6e85c5927c1dc25",
     "locked": true,
     "schema_version": 3,
     "solution": false,
     "task": false
    },
    "tags": []
   },
   "source": [
    "**Question 1.0: Visualization of the estimated line**\n",
    "<br>{points: 1}\n",
    "\n",
    "Using data from gene ENSG00000085733 in `dat_ENSG00000085733`, we can plot `prot` versus `mrna` **with points** and add the estimated SLR. The `ggplot()` object's name will be `SLR_ENSG00000085733_plot`\n",
    "\n",
    "*Fill out those parts indicated with `...`, uncomment the corresponding code in the cell below, and run it.*"
   ]
  },
  {
   "cell_type": "code",
   "execution_count": null,
   "metadata": {
    "deletable": false,
    "nbgrader": {
     "cell_type": "code",
     "checksum": "7e5c37866bec72275dff358c61b63778",
     "grade": false,
     "grade_id": "cell-c23cc58da9842616",
     "locked": false,
     "schema_version": 3,
     "solution": true,
     "task": false
    },
    "tags": []
   },
   "outputs": [],
   "source": [
    "options(repr.plot.width = 6, repr.plot.height = 3) # Adjust these numbers so the plot looks good in your desktop.\n",
    "\n",
    "# SLR_ENSG00000085733_plot <- ggplot(..., aes(..., ...)) +\n",
    "#   ...() +\n",
    "#   ...(..., se = FALSE, linewidth = 1.5) +\n",
    "#   xlab(...) +\n",
    "#   ylab(...) +\n",
    "#   ggtitle(\"Sample and Estimated SLR for gene ENSG00000085733\") +\n",
    "#   theme(\n",
    "#     text = element_text(size = 10),\n",
    "#     plot.title = element_text(face = \"bold\"),\n",
    "#     axis.title = element_text(face = \"bold\")\n",
    "#   )\n",
    "\n",
    "#SLR_ENSG00000085733_plot\n",
    "\n",
    "# your code here\n",
    "fail() # No Answer - remove if you provide an answer"
   ]
  },
  {
   "cell_type": "code",
   "execution_count": null,
   "metadata": {
    "deletable": false,
    "editable": false,
    "nbgrader": {
     "cell_type": "code",
     "checksum": "4751fc19fd84bf62cacaa3488aad2cab",
     "grade": true,
     "grade_id": "cell-f1a69250e199ce6c",
     "locked": true,
     "points": 1,
     "schema_version": 3,
     "solution": false,
     "task": false
    },
    "tags": []
   },
   "outputs": [],
   "source": [
    "test_1.0()"
   ]
  },
  {
   "cell_type": "markdown",
   "metadata": {
    "deletable": false,
    "editable": false,
    "nbgrader": {
     "cell_type": "markdown",
     "checksum": "4458a0fc569aa37699422862d7119534",
     "grade": false,
     "grade_id": "cell-38b13dc576bc33ab",
     "locked": true,
     "schema_version": 3,
     "solution": false,
     "task": false
    },
    "tags": []
   },
   "source": [
    "**Question 1.1**\n",
    "<br>{points: 3}\n",
    "\n",
    "For the selected gene:\n",
    "\n",
    "- 1.1.0 Use `lm()` to obtain the LS estimated coefficients for the selected gene. Call the model `SLR_ENSG00000085733`. \n",
    "\n",
    "- 1.1.1 Use `tidy()` to store all inference quantities from this model in an objected called `SLR_ENSG00000085733_results`.\n",
    "\n",
    "- 1.1.2 Use `augment` to obtain residuals and fitted values from the estimated SLR. Add all the output to the original dataset. \n",
    "\n",
    "*Fill out those parts indicated with `...`, uncomment the corresponding code in the cell below, and run it.*"
   ]
  },
  {
   "cell_type": "code",
   "execution_count": null,
   "metadata": {
    "deletable": false,
    "nbgrader": {
     "cell_type": "code",
     "checksum": "d68f0d343af4f4aa94693c7fc5c62c1d",
     "grade": false,
     "grade_id": "cell-c05f3277a48ee808",
     "locked": false,
     "schema_version": 3,
     "solution": true,
     "task": false
    },
    "tags": []
   },
   "outputs": [],
   "source": [
    "# SLR_ENSG00000085733 <- lm(...,...)\n",
    "# SLR_ENSG00000085733_results <- ...(...)\n",
    "# dat_ENSG00000085733 <- ...(SLR_ENSG00000085733)\n",
    "\n",
    "# SLR_ENSG00000085733_results\n",
    "# head(dat_ENSG00000085733,3)\n",
    "\n",
    "# your code here\n",
    "fail() # No Answer - remove if you provide an answer"
   ]
  },
  {
   "cell_type": "code",
   "execution_count": null,
   "metadata": {
    "deletable": false,
    "editable": false,
    "nbgrader": {
     "cell_type": "code",
     "checksum": "3d9255ea44370a1a850df30a7a94d06e",
     "grade": true,
     "grade_id": "cell-5ea5ee0592297e4b",
     "locked": true,
     "points": 3,
     "schema_version": 3,
     "solution": false,
     "task": false
    },
    "tags": []
   },
   "outputs": [],
   "source": [
    "test_1.1.0()\n",
    "test_1.1.1()\n",
    "test_1.1.2()"
   ]
  },
  {
   "cell_type": "markdown",
   "metadata": {
    "deletable": false,
    "editable": false,
    "nbgrader": {
     "cell_type": "markdown",
     "checksum": "6cd654b4b56edcc8f363b2711ac2d65b",
     "grade": false,
     "grade_id": "cell-b0306ce9b39255e8",
     "locked": true,
     "schema_version": 3,
     "solution": false,
     "task": false
    },
    "tags": []
   },
   "source": [
    "**Question 1.2**\n",
    "<br>{points: 2}\n",
    "\n",
    "1.2.0 For the selected gene, use `glance()` to obtain goodness of fit measurements and tests for the fitted model `SLR_ENSG00000085733`. Store the results in an object called `SLR_ENSG00000085733_gof`.\n",
    "\n",
    "1.2.1 Compute the $R^2$, the adjusted $R^2$ and the standard deviation of the error term, $\\sigma$. Note that you will need the residuals and the standard deviation of the observed protein values, as well as the sample size to compute these measures. Are your results the same as those computed by `glance()`?? *Assign your answer to an object called answer1.2.1 Your answer should be either \"true\" or \"false\", surrounded by quotes.*\n",
    "\n",
    "*Fill out those parts indicated with `...`, uncomment the corresponding code in the cell below, and run it.*"
   ]
  },
  {
   "cell_type": "code",
   "execution_count": null,
   "metadata": {
    "deletable": false,
    "nbgrader": {
     "cell_type": "code",
     "checksum": "7f2dae5fb38918058b61abd298b6f7f5",
     "grade": false,
     "grade_id": "cell-52f593f50e45adde",
     "locked": false,
     "schema_version": 3,
     "solution": true,
     "task": false
    },
    "tags": []
   },
   "outputs": [],
   "source": [
    "# n_tissues <- ...\n",
    "\n",
    "# SLR_ENSG00000085733_gof <- ...(...)\n",
    "# my_gof <- dat_ENSG00000085733 %>% \n",
    "#  summarize(RSS= sum(...^2),TSS=...(...)^2*(n_tissues - 1),\n",
    "#            myR2 = 1- .../..., my.adjR2 = 1- (.../(...))/(.../(...)),\n",
    "#            my.sigma = sqrt(.../(...)))\n",
    "# answer1.2.1 <- ...\n",
    "\n",
    "\n",
    "#SLR_ENSG00000085733_gof\n",
    "#my_gof\n",
    "\n",
    "# your code here\n",
    "fail() # No Answer - remove if you provide an answer"
   ]
  },
  {
   "cell_type": "code",
   "execution_count": null,
   "metadata": {
    "deletable": false,
    "editable": false,
    "nbgrader": {
     "cell_type": "code",
     "checksum": "d478330b9495ba71ac5d2dcec82293b9",
     "grade": true,
     "grade_id": "cell-d76ca69750b31b53",
     "locked": true,
     "points": 2,
     "schema_version": 3,
     "solution": false,
     "task": false
    },
    "tags": []
   },
   "outputs": [],
   "source": [
    "test_1.2.0()\n",
    "test_1.2.1()"
   ]
  },
  {
   "cell_type": "markdown",
   "metadata": {
    "deletable": false,
    "editable": false,
    "nbgrader": {
     "cell_type": "markdown",
     "checksum": "0e2179f415844da3905c0056f72414f1",
     "grade": false,
     "grade_id": "cell-eaa6c4456b1dcd1b",
     "locked": true,
     "schema_version": 3,
     "solution": false,
     "task": false
    },
    "tags": []
   },
   "source": [
    "**Question 1.3**\n",
    "<br>{points: 1}\n",
    "\n",
    "The output of `glance()` includes a $p$-value corresponding to a hypothesis test that compares the proposed SLR $\\text{prot}_t=\\beta_0 + \\beta_1 \\text{mrna}_{t} + \\varepsilon_t$ with a reduced (null) model. Which of the following models is the null model in this comparison?\n",
    "\n",
    "**A.** $\\text{prot}_t=\\beta_0 + \\varepsilon_t$ \n",
    "\n",
    "**B.** $\\text{prot}_t=\\beta_0 + \\beta_1 \\text{gene}_{t} + \\varepsilon_t$ \n",
    "\n",
    "**C.** $\\text{prot}_t=\\beta_0 + \\beta_1 \\text{gene}_{t} + \\beta_2 \\text{mrna}_{t} + \\varepsilon_t$ \n",
    "\n",
    "*Assign your answer to an object called `answer1.3`. Your answer should be one of `\"A\"`, `\"B\"`, or `\"C\"` surrounded by quotes.*"
   ]
  },
  {
   "cell_type": "code",
   "execution_count": null,
   "metadata": {
    "deletable": false,
    "nbgrader": {
     "cell_type": "code",
     "checksum": "11143cdba8a0594ae5b7d8e0d0988e99",
     "grade": false,
     "grade_id": "cell-7ff1d5b6dd3bb3ca",
     "locked": false,
     "schema_version": 3,
     "solution": true,
     "task": false
    },
    "tags": []
   },
   "outputs": [],
   "source": [
    "# answer1.3 <-\n",
    "\n",
    "# your code here\n",
    "fail() # No Answer - remove if you provide an answer"
   ]
  },
  {
   "cell_type": "code",
   "execution_count": null,
   "metadata": {
    "deletable": false,
    "editable": false,
    "nbgrader": {
     "cell_type": "code",
     "checksum": "cbe32f9a2dfff992cb423d0fbf8030cd",
     "grade": true,
     "grade_id": "cell-20e11a935946c142",
     "locked": true,
     "points": 1,
     "schema_version": 3,
     "solution": false,
     "task": false
    },
    "tags": []
   },
   "outputs": [],
   "source": [
    "test_1.3()"
   ]
  },
  {
   "cell_type": "markdown",
   "metadata": {
    "deletable": false,
    "editable": false,
    "nbgrader": {
     "cell_type": "markdown",
     "checksum": "cee41168900f3c0907cc1c82db76477a",
     "grade": false,
     "grade_id": "cell-c02c0296af3d1722",
     "locked": true,
     "schema_version": 3,
     "solution": false,
     "task": false
    },
    "tags": []
   },
   "source": [
    "**Question 1.4**\n",
    "<br>{points: 1}\n",
    "\n",
    "Select the code(s) that can be used to compute the same test as that included in the output of `glance()`:\n",
    "\n",
    "**A.** `anova(lm(prot~ 1, dat_ENSG00000085733))`\n",
    "\n",
    "**B.** `anova(lm(prot~1, dat_ENSG00000085733), lm(prot~ mrna, dat_ENSG00000085733))`\n",
    "\n",
    "**C.** `tidy(lm(prot~ mrna, dat_ENSG00000085733)) %>% filter(term == 'mrna') %>% pull(p.value)`\n",
    "\n",
    "*Assign your answer to an object called `answer1.4`. Your answers have to be included in a single string indicating the correct options in alphabetical order and surrounded by quotes (e.g., `\"ABC\"` indicates you are selecting the three options).*"
   ]
  },
  {
   "cell_type": "code",
   "execution_count": null,
   "metadata": {
    "deletable": false,
    "nbgrader": {
     "cell_type": "code",
     "checksum": "728382fc4ac5538f845c1ff17683b97a",
     "grade": false,
     "grade_id": "cell-1cfade5ebf2dbb30",
     "locked": false,
     "schema_version": 3,
     "solution": true,
     "task": false
    },
    "tags": []
   },
   "outputs": [],
   "source": [
    "# answer1.4 <-\n",
    "\n",
    "# your code here\n",
    "fail() # No Answer - remove if you provide an answer"
   ]
  },
  {
   "cell_type": "code",
   "execution_count": null,
   "metadata": {
    "deletable": false,
    "editable": false,
    "nbgrader": {
     "cell_type": "code",
     "checksum": "fa867f05809ea5adcfc0855dd5532830",
     "grade": true,
     "grade_id": "cell-10712f928dbb5402",
     "locked": true,
     "points": 1,
     "schema_version": 3,
     "solution": false,
     "task": false
    },
    "tags": []
   },
   "outputs": [],
   "source": [
    "test_1.4()"
   ]
  },
  {
   "cell_type": "markdown",
   "metadata": {
    "deletable": false,
    "editable": false,
    "nbgrader": {
     "cell_type": "markdown",
     "checksum": "930566279f8eabd5330607d43759cbf2",
     "grade": false,
     "grade_id": "cell-ffbd231cc330cd79",
     "locked": true,
     "schema_version": 3,
     "solution": false,
     "task": false
    },
    "tags": []
   },
   "source": [
    "**Question 1.5**\n",
    "<br>{points: 1}\n",
    "\n",
    "Based on the results of the goodness-of-fit measurements obtained for the estimated SLR for gene dat_ENSG00000085733, select all the claims that are true:\n",
    "\n",
    "**A.** These results suggest that for the selected gene, a gene-specific model explains less than 6% of the observed variation in protein abundance. \n",
    "\n",
    "**B.** A gene-specific model fits the data well. \n",
    "\n",
    "**C.** It now becomes possible to predict protein abundance in any given tissue with good accuracy from the measured mRNA for any gene.  \n",
    "\n",
    "**D.** There is not enough evidence that the gene-specific SLR using `mrna` as an input is better than using the average protein level to predict protein abundances.\n",
    "\n",
    "*Assign your answer to an object called `answer1.5`. Your answers have to be included in a single string indicating the correct options in alphabetical order and surrounded by quotes (e.g., `\"ABCD\"` indicates you are selecting the four options).*"
   ]
  },
  {
   "cell_type": "code",
   "execution_count": null,
   "metadata": {
    "deletable": false,
    "nbgrader": {
     "cell_type": "code",
     "checksum": "8aad39343967ae2bb280ba3ed5f64c55",
     "grade": false,
     "grade_id": "cell-ab28b7843d179481",
     "locked": false,
     "schema_version": 3,
     "solution": true,
     "task": false
    },
    "tags": []
   },
   "outputs": [],
   "source": [
    "# answer1.5 <-\n",
    "\n",
    "# your code here\n",
    "fail() # No Answer - remove if you provide an answer"
   ]
  },
  {
   "cell_type": "code",
   "execution_count": null,
   "metadata": {
    "deletable": false,
    "editable": false,
    "nbgrader": {
     "cell_type": "code",
     "checksum": "d841f78852406c4b6a15dc5db922e815",
     "grade": true,
     "grade_id": "cell-afa5092f5e23c8f0",
     "locked": true,
     "points": 1,
     "schema_version": 3,
     "solution": false,
     "task": false
    },
    "tags": []
   },
   "outputs": [],
   "source": [
    "test_1.5()"
   ]
  },
  {
   "cell_type": "markdown",
   "metadata": {
    "deletable": false,
    "editable": false,
    "nbgrader": {
     "cell_type": "markdown",
     "checksum": "83d6fdde21a1b29b0de5b48aacd31c96",
     "grade": false,
     "grade_id": "cell-68e9eecc55019cda",
     "locked": true,
     "schema_version": 3,
     "solution": false,
     "task": false
    }
   },
   "source": [
    "### F-test and t-test for a SLR\n",
    "\n",
    "Note that in this simple case, the only difference between the reduced and the full model is the term with $\\beta_1$\n",
    "\n",
    "> we are testing if $\\beta_1$ is different from zero!! $H_0: \\beta_1 = 0$\n",
    "\n",
    "Same as before!! \n",
    "\n",
    "> Note the $p$-values are the same. This is not a coincidence! \n",
    "\n",
    "When we test only one parameter: $t^2 = F$"
   ]
  },
  {
   "cell_type": "markdown",
   "metadata": {
    "deletable": false,
    "editable": false,
    "nbgrader": {
     "cell_type": "markdown",
     "checksum": "908564d57570382d4767d01327f93183",
     "grade": false,
     "grade_id": "cell-4166dc30d7557b4f",
     "locked": true,
     "schema_version": 3,
     "solution": false,
     "task": false
    }
   },
   "source": [
    "### 2. Many gene-specific SLR models\n",
    "\n",
    "**Remember that this is *only 1* gene in the dataset but there are 1391 more genes!!** Results may be different for other genes."
   ]
  },
  {
   "cell_type": "markdown",
   "metadata": {
    "deletable": false,
    "editable": false,
    "nbgrader": {
     "cell_type": "markdown",
     "checksum": "75d1437fcb399b7b080cd5b5d583c709",
     "grade": false,
     "grade_id": "cell-79247febad83752b",
     "locked": true,
     "schema_version": 3,
     "solution": false,
     "task": false
    }
   },
   "source": [
    "**Question 2.0**\n",
    "<br>{points: 1}\n",
    "\n",
    "In this problem you will: \n",
    "\n",
    "- fit 1392 SLR, one for each gene in the dataset using `lm()` and `group_by()`\n",
    "\n",
    "- compute the $R^2$ for each gene and estimated SLR using the function `glance()`\n",
    "\n",
    "- select the columns `gene`, `r.squared` and `p.value`. Store them in an object called `summary_gof`\n",
    "\n",
    "*Fill out those parts indicated with `...`, uncomment the corresponding code in the cell below, and run it.*"
   ]
  },
  {
   "cell_type": "code",
   "execution_count": null,
   "metadata": {
    "deletable": false,
    "nbgrader": {
     "cell_type": "code",
     "checksum": "7fb65b02b72986b01d775ea2fbb9cdb3",
     "grade": false,
     "grade_id": "cell-30b40631b6494c74",
     "locked": false,
     "schema_version": 3,
     "solution": true,
     "task": false
    },
    "tags": []
   },
   "outputs": [],
   "source": [
    "#dat_glance <- dat_bio  %>% \n",
    "#  group_by(...)  %>% \n",
    "#  do(glance(...(... ~ ..., data = .))) \n",
    "\n",
    "#summary_gof <- dat_glance %>% \n",
    "#  select(..., ..., ...)\n",
    "\n",
    "#tail(summary_gof, 3)\n",
    "\n",
    "# your code here\n",
    "fail() # No Answer - remove if you provide an answer"
   ]
  },
  {
   "cell_type": "code",
   "execution_count": null,
   "metadata": {
    "deletable": false,
    "editable": false,
    "nbgrader": {
     "cell_type": "code",
     "checksum": "2ade93ad6cb031a3b2a438d3bc9f1bf3",
     "grade": true,
     "grade_id": "cell-b3ad10a8f196443d",
     "locked": true,
     "points": 1,
     "schema_version": 3,
     "solution": false,
     "task": false
    },
    "tags": []
   },
   "outputs": [],
   "source": [
    "test_2.0()"
   ]
  },
  {
   "cell_type": "markdown",
   "metadata": {
    "deletable": false,
    "editable": false,
    "nbgrader": {
     "cell_type": "markdown",
     "checksum": "f0340da0db2dab543befffc93b207ff4",
     "grade": false,
     "grade_id": "cell-dfaabf410163976a",
     "locked": true,
     "schema_version": 3,
     "solution": false,
     "task": false
    }
   },
   "source": [
    "#### Visualization of results \n",
    "\n",
    "We have computed 1392 coefficients of determination, one for each *gene-specific* fitted model. Let's visualize the results using a histogram of the coefficients of determination"
   ]
  },
  {
   "cell_type": "code",
   "execution_count": null,
   "metadata": {
    "deletable": false,
    "editable": false,
    "nbgrader": {
     "cell_type": "code",
     "checksum": "f2387f1139267b98a1fcfb4d13b7d3a5",
     "grade": false,
     "grade_id": "cell-0dd8c3a8d46da2f2",
     "locked": true,
     "schema_version": 3,
     "solution": false,
     "task": false
    },
    "tags": []
   },
   "outputs": [],
   "source": [
    "hist_slr_r2 <- summary_gof  %>% \n",
    "  ggplot(aes(x=r.squared)) + \n",
    "  geom_histogram(color=\"navy\", bins=20) + \n",
    "  geom_vline(xintercept=median(summary_gof$r.squared, na.rm=T),color=\"red\")+\n",
    "  labs(\n",
    "    title = \"Rsq of gene-specific LS models\",\n",
    "    x = \"Rsq\",\n",
    "    y = \"Count\")+\n",
    "  xlim(0, 1)\n",
    "\n",
    "hist_slr_r2"
   ]
  },
  {
   "cell_type": "markdown",
   "metadata": {
    "deletable": false,
    "editable": false,
    "nbgrader": {
     "cell_type": "markdown",
     "checksum": "255c30f672974a6c5da04649537677f8",
     "grade": false,
     "grade_id": "cell-d9d98e89fc0d5560",
     "locked": true,
     "schema_version": 3,
     "solution": false,
     "task": false
    }
   },
   "source": [
    "**Question 2.1**\n",
    "<br>{points: 1}\n",
    "\n",
    "In the following claims, a \"gene-specific model\" refers to a SLR using `mrna` as an input variable and estimated by LS for each gene.\n",
    "\n",
    "Select all the claims that are true based on the $R^2$ computed for each gene.\n",
    "\n",
    "**A.** These results suggest that the quality of the proposed models vary greatly across genes. For some genes, a gene-specific model explains more than 80% of the observed variation in protein abundance. However, for more than half of the genes it explains less than 15% of the observed variation in protein levels.\n",
    "\n",
    "**B.** For the majority of the genes, a gene-specific model fits the data well. \n",
    "\n",
    "**C.** With the suggested gene-specific models, it now becomes possible to predict protein abundance in any given tissue with good accuracy from the measured mRNA for any gene.  \n",
    "\n",
    "**D.** For gene ENSG00000262246, the gene-specific model explains approximately 87% of the observed variation in protein abundance, making `mrna` statistically significant.\n",
    "\n",
    "*Assign your answer to an object called `answer2.1`. Your answer should be one of `\"A\"`, `\"B\"`, `\"C\"`, or `\"D\"` surrounded by quotes.*"
   ]
  },
  {
   "cell_type": "code",
   "execution_count": null,
   "metadata": {
    "deletable": false,
    "nbgrader": {
     "cell_type": "code",
     "checksum": "aee3be7ba3ee12297ac4dfdd3e19c5de",
     "grade": false,
     "grade_id": "cell-6f09b9a6725554ff",
     "locked": false,
     "schema_version": 3,
     "solution": true,
     "task": false
    },
    "tags": []
   },
   "outputs": [],
   "source": [
    "# answer2.1 <- \n",
    "\n",
    "# your code here\n",
    "fail() # No Answer - remove if you provide an answer"
   ]
  },
  {
   "cell_type": "code",
   "execution_count": null,
   "metadata": {
    "deletable": false,
    "editable": false,
    "nbgrader": {
     "cell_type": "code",
     "checksum": "54a6eb0b45ed4f1fd8bd0ccd0d107bbe",
     "grade": true,
     "grade_id": "cell-7c63e0b50f9f1aca",
     "locked": true,
     "points": 1,
     "schema_version": 3,
     "solution": false,
     "task": false
    },
    "tags": []
   },
   "outputs": [],
   "source": [
    "test_2.1()"
   ]
  },
  {
   "cell_type": "markdown",
   "metadata": {
    "deletable": false,
    "editable": false,
    "nbgrader": {
     "cell_type": "markdown",
     "checksum": "4a4295d29c89c93b84a23de22d3b2acd",
     "grade": false,
     "grade_id": "cell-e0a944bf45f4d345",
     "locked": true,
     "schema_version": 3,
     "solution": false,
     "task": false
    },
    "tags": []
   },
   "source": [
    "**Question 2.2**\n",
    "<br>{points: 1}\n",
    "\n",
    "The $R^2$ provides a measure for the goodness-of-fit for each model but is not a statistical test. In this exercise, you will examine the $p$-values from the $F$-tests for each gene. Each of these tests compares the full model with an intercept-only model. For these simple particular models, the null hypothesis is:\n",
    "\n",
    "$H_0: \\beta_1 = 0$\n",
    "\n",
    "Plot a histogram of the $p$-values from all gene-specific SLR. Add a solid vertical line with the median of the $p$-values displayed and a dotted line for a threshold value of 0.05.\n",
    "\n",
    "*Fill out those parts indicated with `...`, uncomment the corresponding code in the cell below, and run it.*"
   ]
  },
  {
   "cell_type": "code",
   "execution_count": null,
   "metadata": {
    "deletable": false,
    "nbgrader": {
     "cell_type": "code",
     "checksum": "b5dbd96fb6fb0f001649ad0672d89843",
     "grade": false,
     "grade_id": "cell-44d9b6ea19ad3cb8",
     "locked": false,
     "schema_version": 3,
     "solution": true,
     "task": false
    },
    "tags": []
   },
   "outputs": [],
   "source": [
    "#hist_slr_F <- summary_gof  %>% \n",
    "#  ggplot(aes(x = ...)) + \n",
    "#  geom_...(color = \"navy\", bins = 20) + \n",
    "#  geom_...(xintercept = median(summary_gof$..., na.rm = T), color = \"red\") +\n",
    "#  ...(xintercept = ..., linetype = 2, color = \"green\") +\n",
    "#  labs(\n",
    "#    title = \"F-test of gene-specific LS models\",\n",
    "#    x = \"pvalue\",\n",
    "#    y = \"Count\")+\n",
    "#  xlim(0, 1)\n",
    "\n",
    "#hist_slr_F\n",
    "\n",
    "# your code here\n",
    "fail() # No Answer - remove if you provide an answer"
   ]
  },
  {
   "cell_type": "code",
   "execution_count": null,
   "metadata": {
    "deletable": false,
    "editable": false,
    "nbgrader": {
     "cell_type": "code",
     "checksum": "9ba91a3dd74528012f8537d6b435421d",
     "grade": true,
     "grade_id": "cell-0232ba9327c6a3f6",
     "locked": true,
     "points": 1,
     "schema_version": 3,
     "solution": false,
     "task": false
    },
    "tags": []
   },
   "outputs": [],
   "source": [
    "test_2.2()"
   ]
  },
  {
   "cell_type": "markdown",
   "metadata": {
    "deletable": false,
    "editable": false,
    "nbgrader": {
     "cell_type": "markdown",
     "checksum": "c8f46d89ab776749d8de6ebf24c8a366",
     "grade": false,
     "grade_id": "cell-c580661242549a2e",
     "locked": true,
     "schema_version": 3,
     "solution": false,
     "task": false
    },
    "tags": []
   },
   "source": [
    "**Question 2.3**\n",
    "<br>{points: 1}\n",
    "\n",
    "Looking at the histogram in **Question 2.2** we conclude that for the majority of the genes, a gene-specific model with `mrna` as an input is significantly better than an intercept-only model.\n",
    "\n",
    "**TRUE or FALSE??** \n",
    "\n",
    "*Assign your answer to an object called answer2.3 Your answer should be either \"true\" or \"false\", surrounded by quotes.*"
   ]
  },
  {
   "cell_type": "code",
   "execution_count": null,
   "metadata": {
    "deletable": false,
    "nbgrader": {
     "cell_type": "code",
     "checksum": "68e9645270ed37b30ad3c6d22d789577",
     "grade": false,
     "grade_id": "cell-8af3f1c68b0e62a7",
     "locked": false,
     "schema_version": 3,
     "solution": true,
     "task": false
    },
    "tags": []
   },
   "outputs": [],
   "source": [
    "# answer2.3 <- \n",
    "\n",
    "# your code here\n",
    "fail() # No Answer - remove if you provide an answer"
   ]
  },
  {
   "cell_type": "code",
   "execution_count": null,
   "metadata": {
    "deletable": false,
    "editable": false,
    "nbgrader": {
     "cell_type": "code",
     "checksum": "f28686ab5939b130b9995dd5e535c520",
     "grade": true,
     "grade_id": "cell-f2bf502e0b4969cb",
     "locked": true,
     "points": 1,
     "schema_version": 3,
     "solution": false,
     "task": false
    },
    "tags": []
   },
   "outputs": [],
   "source": [
    "test_2.3()"
   ]
  },
  {
   "cell_type": "markdown",
   "metadata": {
    "deletable": false,
    "editable": false,
    "nbgrader": {
     "cell_type": "markdown",
     "checksum": "2ede91b8bd2933d19e7e7ef698318129",
     "grade": false,
     "grade_id": "cell-5a3e26705d4f1410",
     "locked": true,
     "schema_version": 3,
     "solution": false,
     "task": false
    },
    "tags": []
   },
   "source": [
    "### 3. Other LR models\n",
    "\n",
    "The authors claimed that it is fundamental to consider different models for different genes and in the previous exercises you fit different models grouping the data by levels of `gene`. However, in previous worksheets we noticed that we can fit different LRs for each level of a categorical variable, simultaneously, adding dummy variables in the model!!. For simplicity, we will use a dataset with only 3 genes, called `dat_3genes`.  \n",
    "\n",
    "Let's first outline different models that can be considered to model data from different genes."
   ]
  },
  {
   "cell_type": "markdown",
   "metadata": {
    "deletable": false,
    "editable": false,
    "nbgrader": {
     "cell_type": "markdown",
     "checksum": "2a6b3fdf0bffe6e6cd11b4a6d2379c78",
     "grade": false,
     "grade_id": "cell-0e0703b41e37a2f6",
     "locked": true,
     "schema_version": 3,
     "solution": false,
     "task": false
    },
    "tags": []
   },
   "source": [
    "**Question 3.0**\n",
    "<br>{points: 1}\n",
    "\n",
    "Consider the following models:\n",
    "\n",
    "- model.1: $\\text{prot}_t=\\beta_0 + \\varepsilon_t$ \n",
    "\n",
    "- model.2:  $\\text{prot}_t=\\beta_0 + \\beta_1 \\text{mrna}_{t} + \\varepsilon_t$ \n",
    "\n",
    "- model.3:  $\\text{prot}_t=\\beta_0 + \\beta_2 \\text{gene2}_{t} + \\beta_3 \\text{gene3}_{t} + \\varepsilon_t$ \n",
    "\n",
    "- model.4:  $\\text{prot}_t=\\beta_0 + \\beta_1 \\text{mrna}_{t} + \\beta_2 \\text{gene2}_{t} + \\beta_3 \\text{gene3}_{t} + \\varepsilon_t$ \n",
    "\n",
    "- model.5:  $\\text{prot}_t=\\beta_0 + \\beta_1 \\text{mrna}_{t} + \\beta_2 \\text{gene2}_{t} + \\beta_3 \\text{gene3}_{t} + \\beta_4 \\text{gene2}_{t}\\text{mrna}_{t} + \\beta_5 \\text{gene3}_{t}\\text{mrna}_{t} + \\varepsilon_t$ \n",
    "\n",
    "In previous worksheets, you've learned how to fit and interpret these models. Match the equations to the codes you can use to estimate these models using `dat_3genes`:\n",
    "\n",
    "**A.** `lm(prot ~ mrna * gene, dat_3genes)`\n",
    "\n",
    "**B.** `lm(prot ~ gene, dat_3genes)`\n",
    "\n",
    "**C.** `lm(prot ~ mrna + gene, dat_3genes)`\n",
    "\n",
    "**D.** `lm(prot ~ 1, dat_3genes)`\n",
    "\n",
    "**E.** `lm(prot ~ mrna, dat_3genes)`\n",
    "\n",
    "\n",
    "*Assign your answers to the objects `model.1`, `model.2`, `model.3`, `model.4`, and `model.5`. Your answer should each be a single character (`\"A\"`, `\"B\"`, `\"C\"`, `\"D\"`, or `\"E\"`) surrounded by quotes.*"
   ]
  },
  {
   "cell_type": "code",
   "execution_count": null,
   "metadata": {
    "deletable": false,
    "nbgrader": {
     "cell_type": "code",
     "checksum": "04a5d3f7772844189eb56a46f23e6b2e",
     "grade": false,
     "grade_id": "cell-a9eead27577f67a5",
     "locked": false,
     "schema_version": 3,
     "solution": true,
     "task": false
    },
    "tags": []
   },
   "outputs": [],
   "source": [
    "# model.1 <- ...\n",
    "# model.2 <- ...\n",
    "# model.3 <- ...\n",
    "# model.4 <- ...\n",
    "# model.5 <- ...\n",
    "\n",
    "# your code here\n",
    "fail() # No Answer - remove if you provide an answer"
   ]
  },
  {
   "cell_type": "code",
   "execution_count": null,
   "metadata": {
    "deletable": false,
    "editable": false,
    "nbgrader": {
     "cell_type": "code",
     "checksum": "ae4191e0c3cc7c166e54ff67bfb7447c",
     "grade": true,
     "grade_id": "cell-eb9a5dd6f9b891ce",
     "locked": true,
     "points": 1,
     "schema_version": 3,
     "solution": false,
     "task": false
    },
    "tags": []
   },
   "outputs": [],
   "source": [
    "test_3.0()"
   ]
  },
  {
   "cell_type": "markdown",
   "metadata": {
    "deletable": false,
    "editable": false,
    "nbgrader": {
     "cell_type": "markdown",
     "checksum": "2f4676e25d7acf0b37a867d08634d825",
     "grade": false,
     "grade_id": "cell-47b313837db7eed1",
     "locked": true,
     "schema_version": 3,
     "solution": false,
     "task": false
    },
    "tags": []
   },
   "source": [
    "Let's randomly select 3 genes to run some analyses:"
   ]
  },
  {
   "cell_type": "code",
   "execution_count": null,
   "metadata": {
    "deletable": false,
    "editable": false,
    "nbgrader": {
     "cell_type": "code",
     "checksum": "aa87ab5b2fb674429d7b064c5a19562a",
     "grade": false,
     "grade_id": "cell-5ca588daa7120836",
     "locked": true,
     "schema_version": 3,
     "solution": false,
     "task": false
    },
    "tags": []
   },
   "outputs": [],
   "source": [
    "#run this cell\n",
    "set.seed(561)\n",
    "dat_3genes <- dat_bio  %>%  \n",
    "         subset(gene %in% sample(gene,3)) "
   ]
  },
  {
   "cell_type": "markdown",
   "metadata": {
    "deletable": false,
    "editable": false,
    "nbgrader": {
     "cell_type": "markdown",
     "checksum": "b26d2d473bc583dbd39b4fe2c2352225",
     "grade": false,
     "grade_id": "cell-b274ebba90dde81b",
     "locked": true,
     "schema_version": 3,
     "solution": false,
     "task": false
    },
    "tags": []
   },
   "source": [
    "**Question 3.1**\n",
    "<br>{points: 2}\n",
    "\n",
    "Using the data from the 3 selected genes in `dat_3genes`, fit a model with interaction terms (`model.5`). Store the results in an object called `mlr_3genes_int`.\n",
    "\n",
    "Use `tidy()` to obtain a table with results from the LS estimation and inference, call the output `mlr_3genes_int_results`.\n",
    "\n",
    "Use `glance()` to obtain goodness-of-fit  for this model, call the output `mlr_3genes_int_gof`. "
   ]
  },
  {
   "cell_type": "code",
   "execution_count": null,
   "metadata": {
    "deletable": false,
    "nbgrader": {
     "cell_type": "code",
     "checksum": "3a8c537cd3627f73c1cdd3e9d0f31966",
     "grade": false,
     "grade_id": "cell-5f1240b71f992980",
     "locked": false,
     "schema_version": 3,
     "solution": true,
     "task": false
    },
    "tags": []
   },
   "outputs": [],
   "source": [
    "#mlr_3genes_int <- ...(...~ ..., data = ...)\n",
    "#mlr_3genes_int_results <- tidy(...)\n",
    "#mlr_3genes_int_gof <- glance(...) %>% round(3)\n",
    "\n",
    "#mlr_3genes_int_results\n",
    "#mlr_3genes_int_gof\n",
    "\n",
    "# your code here\n",
    "fail() # No Answer - remove if you provide an answer"
   ]
  },
  {
   "cell_type": "code",
   "execution_count": null,
   "metadata": {
    "deletable": false,
    "editable": false,
    "nbgrader": {
     "cell_type": "code",
     "checksum": "811028de20b0990dde2b4836a137c3fd",
     "grade": true,
     "grade_id": "cell-17675f9b1e991ece",
     "locked": true,
     "points": 2,
     "schema_version": 3,
     "solution": false,
     "task": false
    },
    "tags": []
   },
   "outputs": [],
   "source": [
    "test_3.1.0()\n",
    "test_3.1.1()"
   ]
  },
  {
   "cell_type": "markdown",
   "metadata": {
    "deletable": false,
    "editable": false,
    "nbgrader": {
     "cell_type": "markdown",
     "checksum": "e9ae0fa15d617762d0212b055858a116",
     "grade": false,
     "grade_id": "cell-0b072a63d9248e64",
     "locked": true,
     "schema_version": 3,
     "solution": false,
     "task": false
    },
    "tags": []
   },
   "source": [
    "**Question 3.2**\n",
    "<br>{points: 1}\n",
    "\n",
    "The output of `glance()` for the model with interaction includes the $p$-value of a test of hypothesis. Which null hypothesis is tested?\n",
    "\n",
    "**A.** $H_0: \\beta_2 = \\beta_3 = 0$ vs. $H_1: \\text{at least one } \\beta_j \\neq 0 \\text{ (for } $j = 2, 3$ \\text{)}$\n",
    "\n",
    "**B.** $H_0: \\beta_4 = \\beta_5 = 0$ vs. $H_1: \\text{at least one } \\beta_j \\neq 0 \\text{ (for } $j = 4, 5$ \\text{)}$\n",
    "\n",
    "**C.** $H_0: \\beta_0 = \\beta_1 = \\beta_2 = \\beta_3 = \\beta_4 = \\beta_5 = 0$ vs. $H_1: \\text{at least one } \\beta_j \\neq 0 \\text{ (for } $j = 0, 1, 2, 3, 4, 5$ \\text{)}$\n",
    "\n",
    "**D.** $H_0: \\beta_1 = \\beta_2 = \\beta_3 = \\beta_4 = \\beta_5 = 0$ vs. $H_1: \\text{at least one } \\beta_j \\neq 0 \\text{ (for } $j = 1, 2, 3, 4, 5$ \\text{)}$\n",
    "\n",
    "**E.** $H_0: \\hat{\\beta}_2 = \\hat{\\beta}_3 = 0$ vs. $H_1: \\text{at least one } \\hat{\\beta}_j \\neq 0 \\text{ (for } $j = 2, 3$ \\text{)}$\n",
    "\n",
    "*Assign your answer to an object called `answer3.2`. Your answer should be one of `\"A\"`, `\"B\"`, `\"C\"`, `\"D\"` or `\"E\"` surrounded by quotes.*"
   ]
  },
  {
   "cell_type": "code",
   "execution_count": null,
   "metadata": {
    "deletable": false,
    "nbgrader": {
     "cell_type": "code",
     "checksum": "c2c82524372c48166aca419fcf19ef78",
     "grade": false,
     "grade_id": "cell-477c4ef09e58a3e4",
     "locked": false,
     "schema_version": 3,
     "solution": true,
     "task": false
    },
    "tags": []
   },
   "outputs": [],
   "source": [
    "# answer3.2 <- \n",
    "\n",
    "# your code here\n",
    "fail() # No Answer - remove if you provide an answer"
   ]
  },
  {
   "cell_type": "code",
   "execution_count": null,
   "metadata": {
    "deletable": false,
    "editable": false,
    "nbgrader": {
     "cell_type": "code",
     "checksum": "b6a96cf61fd9f1d639a27b1da4c439c2",
     "grade": true,
     "grade_id": "cell-3ea3c3b5606f7047",
     "locked": true,
     "points": 1,
     "schema_version": 3,
     "solution": false,
     "task": false
    },
    "tags": []
   },
   "outputs": [],
   "source": [
    "test_3.2()"
   ]
  },
  {
   "cell_type": "markdown",
   "metadata": {
    "deletable": false,
    "editable": false,
    "nbgrader": {
     "cell_type": "markdown",
     "checksum": "71ee43e989a847a0fdefb0fb38b1bf7e",
     "grade": false,
     "grade_id": "cell-0fbccf4edd998dda",
     "locked": true,
     "schema_version": 3,
     "solution": false,
     "task": false
    }
   },
   "source": [
    "**Question 3.3**\n",
    "<br>{points: 1}\n",
    "\n",
    "Use the function `anova()` to reproduce this test using `dat_3genes`. \n",
    "\n",
    "Store $F$-test and its correspoinding $p$-value in an object called `Ftest_3genes_interaction`.\n",
    "\n",
    "*Fill out those parts indicated with `...`, uncomment the corresponding code in the cell below, and run it.*"
   ]
  },
  {
   "cell_type": "code",
   "execution_count": null,
   "metadata": {
    "deletable": false,
    "nbgrader": {
     "cell_type": "code",
     "checksum": "66c6d43c59e00bed57f0aa34cc381aed",
     "grade": false,
     "grade_id": "cell-20ab328a3e81d820",
     "locked": false,
     "schema_version": 3,
     "solution": true,
     "task": false
    },
    "tags": []
   },
   "outputs": [],
   "source": [
    "# Ftest_3genes_interaction  <- ...(..., ...)  \n",
    "\n",
    "# Ftest_3genes_interaction \n",
    "\n",
    "# your code here\n",
    "fail() # No Answer - remove if you provide an answer"
   ]
  },
  {
   "cell_type": "code",
   "execution_count": null,
   "metadata": {
    "deletable": false,
    "editable": false,
    "nbgrader": {
     "cell_type": "code",
     "checksum": "3b5e90460e339d7911a7904361823c0d",
     "grade": true,
     "grade_id": "cell-727820da4a4d0b48",
     "locked": true,
     "points": 1,
     "schema_version": 3,
     "solution": false,
     "task": false
    },
    "tags": []
   },
   "outputs": [],
   "source": [
    "test_3.3()"
   ]
  },
  {
   "cell_type": "markdown",
   "metadata": {
    "deletable": false,
    "editable": false,
    "nbgrader": {
     "cell_type": "markdown",
     "checksum": "ba3c2b620a634433ad4964d5bec9b3ae",
     "grade": false,
     "grade_id": "cell-533bd8c35b5c0851",
     "locked": true,
     "schema_version": 3,
     "solution": false,
     "task": false
    },
    "tags": []
   },
   "source": [
    "**Question 3.4**\n",
    "<br>{points: 1}\n",
    "\n",
    "Which of the following claims is correct based on the results from  **Question 3.3**.\n",
    "\n",
    "**A.** The three linear regressions are statistically significant.\n",
    "\n",
    "**B.** There is enough evidence to reject the null hypothesis that the model with interaction terms (`model.5`) is equivalent to an intercept-only model (`model.1`)\n",
    "\n",
    "**C.** `mrna` is statistically significant.\n",
    "\n",
    "\n",
    "*Assign your answer to an object called `answer3.4`. Your answer should be one of `\"A\"`, `\"B\"`, or `\"C\"` surrounded by quotes.*"
   ]
  },
  {
   "cell_type": "code",
   "execution_count": null,
   "metadata": {
    "deletable": false,
    "nbgrader": {
     "cell_type": "code",
     "checksum": "3dad10375d65566579fcfc8e6964e067",
     "grade": false,
     "grade_id": "cell-a0b0accd3b2e1b8a",
     "locked": false,
     "schema_version": 3,
     "solution": true,
     "task": false
    },
    "tags": []
   },
   "outputs": [],
   "source": [
    "# answer3.4 <- \n",
    "\n",
    "# your code here\n",
    "fail() # No Answer - remove if you provide an answer"
   ]
  },
  {
   "cell_type": "code",
   "execution_count": null,
   "metadata": {
    "deletable": false,
    "editable": false,
    "nbgrader": {
     "cell_type": "code",
     "checksum": "993db9c546703951bea6de80add12f76",
     "grade": true,
     "grade_id": "cell-a3ca37511dc2b2ad",
     "locked": true,
     "points": 1,
     "schema_version": 3,
     "solution": false,
     "task": false
    },
    "tags": []
   },
   "outputs": [],
   "source": [
    "test_3.4()"
   ]
  },
  {
   "cell_type": "markdown",
   "metadata": {
    "deletable": false,
    "editable": false,
    "nbgrader": {
     "cell_type": "markdown",
     "checksum": "d31dc70f79ae385b73aabab993ab9656",
     "grade": false,
     "grade_id": "cell-b7a372995c317f97",
     "locked": true,
     "schema_version": 3,
     "solution": false,
     "task": false
    },
    "tags": []
   },
   "source": [
    "### How does the interaction model fit the data?\n",
    "\n",
    "Results from **Question 3.1** suggests that `model.5` does not fit the data well, even if it is better than the intercept-only model. Only 41% of the variation observed in protein levels is explained by the model! While the $p$-value from `glance()` indicates that there is enough evidence to reject $H_0$, it still doesn't mean that `mrna` is a relevant variable. Let's compare this model with other models. "
   ]
  },
  {
   "cell_type": "markdown",
   "metadata": {
    "deletable": false,
    "editable": false,
    "nbgrader": {
     "cell_type": "markdown",
     "checksum": "3c05f05189ab6b6dad0e965eac25b5d1",
     "grade": false,
     "grade_id": "cell-b46cc7938531182c",
     "locked": true,
     "schema_version": 3,
     "solution": false,
     "task": false
    },
    "tags": []
   },
   "source": [
    "To examine that question let's compare the following nested models:\n",
    "\n",
    "$$\\textbf{reduced}:\\text{prot}_t=\\beta_0 + \\beta_2 \\text{gene2}_{t} + \\beta_3 \\text{gene3}_{t} + \\varepsilon_t$$\n",
    "\n",
    "$$\\textbf{full}:\\text{prot}_t = \\beta_0 + \\beta_1 \\text{mrna}_{t} + \\beta_2 \\text{gene2}_{t}  + \\beta_3 \\text{gene3}_{t}  + \\beta_4 \\text{gene2}_{t}  \\text{mrna}_{t} + \\beta_5 \\text{gene3}_{t}  \\text{mrna}_{t} +\\varepsilon_t$$"
   ]
  },
  {
   "cell_type": "markdown",
   "metadata": {
    "deletable": false,
    "editable": false,
    "nbgrader": {
     "cell_type": "markdown",
     "checksum": "e09c706c3b6bfd4bfe1170e1ba6f4572",
     "grade": false,
     "grade_id": "cell-c52a18cc8af85c36",
     "locked": true,
     "schema_version": 3,
     "solution": false,
     "task": false
    }
   },
   "source": [
    "**Question 3.5**\n",
    "<br>{points: 1}\n",
    "\n",
    "An $F$-test can be used to test *simultaneously* whether the additional parameters in the full model are zero. Which hypotheses need to be tested using an $F$-test?\n",
    "\n",
    "**A.** $H_0: \\beta_2 = \\beta_3 = 0$ vs. $H_1: \\text{at least one } \\beta_j \\neq 0 \\text{ (for } $j = 2, 3$ \\text{)}$\n",
    "\n",
    "**B.** $H_0: \\beta_1 = \\beta_4 = \\beta_5 = 0$ vs. $H_1: \\text{at least one } \\beta_j \\neq 0 \\text{ (for } $j = 1, 4, 5$ \\text{)}$\n",
    "\n",
    "**C.** $H_0: \\beta_0 = \\beta_1 = \\beta_2 = \\beta_3 = \\beta_4 = \\beta_5 = 0$ vs. $H_1: \\text{at least one } \\beta_j \\neq 0 \\text{ (for } $j = 0, 1, 2, 3, 4, 5$ \\text{)}$\n",
    "\n",
    "**D.** $H_0: \\beta_1 = \\beta_2 = \\beta_3 = \\beta_4 = \\beta_5 = 0$ vs. $H_1: \\text{at least one } \\beta_j \\neq 0 \\text{ (for } $j = 1, 2, 3, 4, 5$ \\text{)}$\n",
    "\n",
    "**E.** $H_0: \\hat{\\beta}_2 = \\hat{\\beta}_3 = 0$ vs. $H_1: \\text{at least one } \\hat{\\beta}_j \\neq 0 \\text{ (for } $j = 2, 3$ \\text{)}$\n",
    "\n",
    "*Assign your answer to an object called `answer3.5`. Your answer should be one of `\"A\"`, `\"B\"`, `\"C\"`, \"D\"` or `\"E\"` surrounded by quotes.*"
   ]
  },
  {
   "cell_type": "code",
   "execution_count": null,
   "metadata": {
    "deletable": false,
    "nbgrader": {
     "cell_type": "code",
     "checksum": "9c58fcaf117a23cfa106fd30bc723ca7",
     "grade": false,
     "grade_id": "cell-b5723b1752ac1294",
     "locked": false,
     "schema_version": 3,
     "solution": true,
     "task": false
    },
    "tags": []
   },
   "outputs": [],
   "source": [
    "# answer3.5 <- \n",
    "\n",
    "# your code here\n",
    "fail() # No Answer - remove if you provide an answer"
   ]
  },
  {
   "cell_type": "code",
   "execution_count": null,
   "metadata": {
    "deletable": false,
    "editable": false,
    "nbgrader": {
     "cell_type": "code",
     "checksum": "f5b516f9593a0157f21221e5917ca6fa",
     "grade": true,
     "grade_id": "cell-c1bf7a0bc0c2ef25",
     "locked": true,
     "points": 1,
     "schema_version": 3,
     "solution": false,
     "task": false
    },
    "tags": []
   },
   "outputs": [],
   "source": [
    "test_3.5()"
   ]
  },
  {
   "cell_type": "markdown",
   "metadata": {
    "deletable": false,
    "editable": false,
    "nbgrader": {
     "cell_type": "markdown",
     "checksum": "14f71cf4fae75856318f9fc112fc43c7",
     "grade": false,
     "grade_id": "cell-377ceb2f92921288",
     "locked": true,
     "schema_version": 3,
     "solution": false,
     "task": false
    }
   },
   "source": [
    "**Question 3.6**\n",
    "<br>{points: 1}\n",
    "\n",
    "The following hypotheses compare the reduced (`model.3` without `mrna`) and the full model (`model.5` with interaction) stated above.\n",
    "\n",
    "Select the code that you can use to test these hypotheses.\n",
    "\n",
    "**A.** `tidy(lm(prot ~ gene * mrna, dat_3genes))`\n",
    "\n",
    "**B.** `tidy(lm(prot ~ gene + mrna, dat_3genes))`\n",
    "\n",
    "**C.** `glance(lm(prot ~ gene * mrna, dat_3genes))`\n",
    "\n",
    "**D.** `glance(lm(prot ~ gene + mrna, dat_3genes))`\n",
    "\n",
    "**E.** `anova(lm(prot ~ gene, dat_3genes), lm(prot ~ gene * mrna, dat_3genes))`\n",
    "\n",
    "\n",
    "*Assign your answer to an object called `answer3.6`. Your answer should be one of `\"A\"`, `\"B\"`, `\"C\"`, `\"D\"`, or `\"E\"` surrounded by quotes.*"
   ]
  },
  {
   "cell_type": "code",
   "execution_count": null,
   "metadata": {
    "deletable": false,
    "nbgrader": {
     "cell_type": "code",
     "checksum": "8c0e14f1843980216c0e8460cbc48e6a",
     "grade": false,
     "grade_id": "cell-9d0d4fac52a22f63",
     "locked": false,
     "schema_version": 3,
     "solution": true,
     "task": false
    },
    "tags": []
   },
   "outputs": [],
   "source": [
    "# answer3.6 <- \n",
    "\n",
    "# your code here\n",
    "fail() # No Answer - remove if you provide an answer"
   ]
  },
  {
   "cell_type": "code",
   "execution_count": null,
   "metadata": {
    "deletable": false,
    "editable": false,
    "nbgrader": {
     "cell_type": "code",
     "checksum": "6a7fa961cc60b98871472411c53a1766",
     "grade": true,
     "grade_id": "cell-6c817e4c8dcc41ee",
     "locked": true,
     "points": 1,
     "schema_version": 3,
     "solution": false,
     "task": false
    },
    "tags": []
   },
   "outputs": [],
   "source": [
    "test_3.6()"
   ]
  },
  {
   "cell_type": "markdown",
   "metadata": {
    "deletable": false,
    "editable": false,
    "nbgrader": {
     "cell_type": "markdown",
     "checksum": "835cdcfc245c9055cecd8b6860f9a9b7",
     "grade": false,
     "grade_id": "cell-2876dc9f0b8a015a",
     "locked": true,
     "schema_version": 3,
     "solution": false,
     "task": false
    },
    "tags": []
   },
   "source": [
    "**Question 3.7**\n",
    "<br>{points: 1}\n",
    "\n",
    "Use the function `anova()` to run the test from **Question 3.5**. Store your results in an object called `Ftest_3genes_mrna`. Your output should be a table of size (2 x 6)\n",
    "\n",
    "*Fill out those parts indicated with `...`, uncomment the corresponding code in the cell below, and run it.*"
   ]
  },
  {
   "cell_type": "code",
   "execution_count": null,
   "metadata": {
    "deletable": false,
    "nbgrader": {
     "cell_type": "code",
     "checksum": "9863449eade2d72a694a5d825427d552",
     "grade": false,
     "grade_id": "cell-a290ce6bc1a11890",
     "locked": false,
     "schema_version": 3,
     "solution": true,
     "task": false
    },
    "tags": []
   },
   "outputs": [],
   "source": [
    "#[write your code here]\n",
    "#Ftest_3genes_mrna\n",
    "\n",
    "# your code here\n",
    "fail() # No Answer - remove if you provide an answer"
   ]
  },
  {
   "cell_type": "code",
   "execution_count": null,
   "metadata": {
    "deletable": false,
    "editable": false,
    "nbgrader": {
     "cell_type": "code",
     "checksum": "a1586b962e6c9c7009c6fcd76f6d83a1",
     "grade": true,
     "grade_id": "cell-4f1cde48cac3b95a",
     "locked": true,
     "points": 1,
     "schema_version": 3,
     "solution": false,
     "task": false
    },
    "tags": []
   },
   "outputs": [],
   "source": [
    "test_3.7()"
   ]
  },
  {
   "cell_type": "markdown",
   "metadata": {
    "deletable": false,
    "editable": false,
    "nbgrader": {
     "cell_type": "markdown",
     "checksum": "4e1eb1439f737a1675cba60edaff47ba",
     "grade": false,
     "grade_id": "cell-1de0636f42b700c8",
     "locked": true,
     "schema_version": 3,
     "solution": false,
     "task": false
    },
    "tags": []
   },
   "source": [
    "#### Conclusions from the analysis\n",
    "\n",
    "While the authors claimed that \"***it now becomes possible to predict protein abundance in any given tissue with good accuracy from the measured mRNA abundance***\" as long as we consider different models for different genes, the test above does not provide enough evidence to support this hypothesis (at least for the 3 genes selected). Note that the complex model with different LR for each genes is not significantly different than a model without mRNA!! Most of the variation in the data seems to be explained by the variable `gene`!"
   ]
  },
  {
   "cell_type": "markdown",
   "metadata": {
    "deletable": false,
    "editable": false,
    "nbgrader": {
     "cell_type": "markdown",
     "checksum": "00ecdf3d78cd4b12c4017eb80f675ad7",
     "grade": false,
     "grade_id": "cell-a7f0358b7a8d93f7",
     "locked": true,
     "schema_version": 3,
     "solution": false,
     "task": false
    }
   },
   "source": [
    "## Conclusions of PART I\n",
    "\n",
    "#### Evaluation of Models when the main goal is estimation and inference:\n",
    "\n",
    "- The $R^2$, coefficient of determination, can be used to compared the sum of squares of the residuals of the fitted model with that of the null model\n",
    "\n",
    "\n",
    "- The $R^2$ is usually interpreted as the part of the variation in the response explained by the model\n",
    "\n",
    "\n",
    "- Many definitions and interpretations of the $R^2$ are for LS estimators of LR containing an intercept\n",
    "\n",
    "\n",
    "- The $R^2$ is not a test and it does not provide a probabilistic result and it's distribution is unknown!\n",
    "\n",
    "\n",
    "- Instead, we can use an $F$ test, also refer as ANOVA, to compare nested models\n",
    "\n",
    "    - tests the simultaneous significance of additional coefficients of the full model (not in the reduced model)\n",
    "    \n",
    "    - in particular, we can use it to test the significance of the fitted model over the null model\n",
    "    \n",
    "\n",
    "- These $F$ tests can be used to select variables!! since we are comparing and testing how the fit changes as we select variables\n",
    "\n",
    "#### Evaluation of Models when the main goal is prediction:\n",
    "\n",
    "- The test MSE is a natural measure to compare new responses from a test set with the predicted values $\\hat{y}_i$ from the LR estimated with training data\n",
    "\n",
    "- The $R^2$ based on test data can also be used but it should not be called a \"coefficient of determination\" "
   ]
  }
 ],
 "metadata": {
  "jupytext": {
   "formats": "ipynb,Rmd"
  },
  "kernelspec": {
   "display_name": "R",
   "language": "R",
   "name": "ir"
  },
  "language_info": {
   "codemirror_mode": "r",
   "file_extension": ".r",
   "mimetype": "text/x-r-source",
   "name": "R",
   "pygments_lexer": "r",
   "version": "4.2.3"
  },
  "latex_envs": {
   "LaTeX_envs_menu_present": true,
   "autoclose": false,
   "autocomplete": true,
   "bibliofile": "biblio.bib",
   "cite_by": "apalike",
   "current_citInitial": 1,
   "eqLabelWithNumbers": true,
   "eqNumInitial": 1,
   "hotkeys": {
    "equation": "Ctrl-E",
    "itemize": "Ctrl-I"
   },
   "labels_anchors": false,
   "latex_user_defs": false,
   "report_style_numbering": false,
   "user_envs_cfg": false
  }
 },
 "nbformat": 4,
 "nbformat_minor": 4
}
