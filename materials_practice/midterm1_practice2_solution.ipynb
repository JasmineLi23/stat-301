{
 "cells": [
  {
   "cell_type": "markdown",
   "metadata": {},
   "source": [
    "\n"
   ]
  },
  {
   "cell_type": "markdown",
   "metadata": {},
   "source": [
    "# STAT 301: Midterm 1"
   ]
  },
  {
   "cell_type": "markdown",
   "metadata": {},
   "source": [
    "## Data Wrangling\n",
    "\n"
   ]
  },
  {
   "cell_type": "code",
   "execution_count": 2,
   "metadata": {
    "scrolled": true
   },
   "outputs": [
    {
     "name": "stderr",
     "output_type": "stream",
     "text": [
      "── \u001b[1mAttaching core tidyverse packages\u001b[22m ──────────────────────── tidyverse 2.0.0 ──\n",
      "\u001b[32m✔\u001b[39m \u001b[34mdplyr    \u001b[39m 1.1.4     \u001b[32m✔\u001b[39m \u001b[34mreadr    \u001b[39m 2.1.5\n",
      "\u001b[32m✔\u001b[39m \u001b[34mforcats  \u001b[39m 1.0.0     \u001b[32m✔\u001b[39m \u001b[34mstringr  \u001b[39m 1.5.1\n",
      "\u001b[32m✔\u001b[39m \u001b[34mggplot2  \u001b[39m 3.5.1     \u001b[32m✔\u001b[39m \u001b[34mtibble   \u001b[39m 3.2.1\n",
      "\u001b[32m✔\u001b[39m \u001b[34mlubridate\u001b[39m 1.9.3     \u001b[32m✔\u001b[39m \u001b[34mtidyr    \u001b[39m 1.3.1\n",
      "\u001b[32m✔\u001b[39m \u001b[34mpurrr    \u001b[39m 1.0.2     \n",
      "── \u001b[1mConflicts\u001b[22m ────────────────────────────────────────── tidyverse_conflicts() ──\n",
      "\u001b[31m✖\u001b[39m \u001b[34mdplyr\u001b[39m::\u001b[32mfilter()\u001b[39m masks \u001b[34mstats\u001b[39m::filter()\n",
      "\u001b[31m✖\u001b[39m \u001b[34mdplyr\u001b[39m::\u001b[32mlag()\u001b[39m    masks \u001b[34mstats\u001b[39m::lag()\n",
      "\u001b[36mℹ\u001b[39m Use the conflicted package (\u001b[3m\u001b[34m<http://conflicted.r-lib.org/>\u001b[39m\u001b[23m) to force all conflicts to become errors\n",
      "\n",
      "Attaching package: ‘cowplot’\n",
      "\n",
      "\n",
      "The following object is masked from ‘package:lubridate’:\n",
      "\n",
      "    stamp\n",
      "\n",
      "\n"
     ]
    },
    {
     "ename": "ERROR",
     "evalue": "Error in library(contextual): there is no package called ‘contextual’\n",
     "output_type": "error",
     "traceback": [
      "Error in library(contextual): there is no package called ‘contextual’\nTraceback:\n",
      "1. library(contextual)"
     ]
    }
   ],
   "source": [
    "# The code will not be displayed in the quiz\n",
    "library(tidyverse, quietly = T)\n",
    "library(broom, quietly = T)\n",
    "library(repr, quietly = T)\n",
    "library(infer, quietly = T)\n",
    "library(ggplot2)\n",
    "library(cowplot)\n",
    "library(ISLR)"
   ]
  },
  {
   "cell_type": "markdown",
   "metadata": {},
   "source": [
    "\n",
    "## Question 1\n",
    "\n",
    "Answer TRUE/FALSE to the following statement:\n",
    "\n",
    "A hospital is planning to research whether a healthy diet reduces the chance of post-surgery complications in patients who received a kidney transplant. The researchers will monitor the patients for one month after the surgery and register their food intake. A team of nutritionists will classify each patient's diet as: \n",
    "\n",
    "**A**: healthy\n",
    "\n",
    "or\n",
    "\n",
    "**B**: unhealthy\n",
    "\n",
    "Is the statement below true or false? \n",
    "\n",
    "> Since the hospital is categorizing the patients by their diet, we can conclude that any significant difference in the proportions of patients with and without post-surgery complications is due to the different diets' type: healthy and unhealthy.\n",
    "\n",
    "### BEGIN SOLUTION\n",
    "\n",
    "FALSE. The patients are choosing what to eat according to other habits and sociocharacteristics. In this observational study, there may be confounding factors that influence patients' eating choices as well as their recovery. We can not establish a causal effect of diet on probability of recover.\n",
    "\n",
    "### END SOLUTION\n",
    "\n",
    "## Question 2\n",
    "\n",
    "Answer TRUE/FALSE to the following statement:\n",
    "\n",
    "An *additive* multiple linear regression with one continuous input variable and one categorical input variable with four categories has 4 *slopes* to be estimated.\n",
    "\n",
    "### BEGIN SOLUTION\n",
    "\n",
    "FALSE, the additive model has a unique slope shared by all the levels of the categorical variable. We assume that the association between the response and the continuous covariate is the *same* for all levels of the categorical variable.\n",
    "\n",
    "### END SOLUTION"
   ]
  },
  {
   "cell_type": "markdown",
   "metadata": {},
   "source": [
    "## Question 2\n",
    "\n",
    "A data set called `Carseats` containing the number of sales of child car seats in 400 different stores has the following columns:\n",
    "\n",
    "- `Sales`:  the number of child car seats sold in a store;\n",
    "- `Price`: the price of car seats in a store;\n",
    "- `Urban`:  indicates whether the store is in an urban or a rural zone.\n",
    "- `US`: indicates whether the store is in the US or not.\n",
    "\n",
    "We start by fitting the following model and obtained the following summary output:"
   ]
  },
  {
   "cell_type": "code",
   "execution_count": 4,
   "metadata": {},
   "outputs": [
    {
     "data": {
      "text/plain": [
       "\n",
       "Call:\n",
       "lm(formula = Sales ~ Price + Urban + US, data = Carseats)\n",
       "\n",
       "Residuals:\n",
       "    Min      1Q  Median      3Q     Max \n",
       "-6.9206 -1.6220 -0.0564  1.5786  7.0581 \n",
       "\n",
       "Coefficients:\n",
       "             Estimate Std. Error t value Pr(>|t|)    \n",
       "(Intercept) 13.043469   0.651012  20.036  < 2e-16 ***\n",
       "Price       -0.054459   0.005242 -10.389  < 2e-16 ***\n",
       "UrbanYes    -0.021916   0.271650  -0.081    0.936    \n",
       "USYes        1.200573   0.259042   4.635 4.86e-06 ***\n",
       "---\n",
       "Signif. codes:  0 ‘***’ 0.001 ‘**’ 0.01 ‘*’ 0.05 ‘.’ 0.1 ‘ ’ 1\n",
       "\n",
       "Residual standard error: 2.472 on 396 degrees of freedom\n",
       "Multiple R-squared:  0.2393,\tAdjusted R-squared:  0.2335 \n",
       "F-statistic: 41.52 on 3 and 396 DF,  p-value: < 2.2e-16\n"
      ]
     },
     "metadata": {},
     "output_type": "display_data"
    }
   ],
   "source": [
    "library(ISLR)\n",
    "summary(lm(formula = Sales ~ Price + Urban + US, data = Carseats))"
   ]
  },
  {
   "cell_type": "markdown",
   "metadata": {},
   "source": [
    "**Is the statement below true or false?**\n",
    "\n",
    "Based on the model used, it was assumed that the association between price and sales differs by country.\n",
    "\n",
    "### BEGIN SOLUTION\n",
    "\n",
    "FALSE: an additive model assumes that the association between price and sales is the same in US and non-US countries. The model has a unique slope of -0.0544\n",
    "\n",
    "### END SOLUTION"
   ]
  },
  {
   "cell_type": "markdown",
   "metadata": {},
   "source": [
    "## Question 3\n",
    "\n",
    "Trying to understand the profile of students who are accepted into Medical School, the following data were collected (among other variables not used in this analysis):\n",
    "\n",
    "`Acceptance`: accepted (1) into medical school or denied (0)\n",
    "\n",
    "`GPA`: overall GPA\n",
    "\n",
    "`MCAT`: MCAT total score\n",
    "\n",
    "`Apps`:  number of schools applied to\n",
    "\n",
    "The data is available in a data frame called `medgpa`, which we use to fit a model in R.  \n",
    "\n",
    "**Which of the following codes would you use to build a strong predictive model of the response Acceptance?**\n",
    "\n",
    "**A**: lm(Acceptance ~ ., data = medgpa)\n",
    "\n",
    "**B**: glm(Acceptance ~ ., family = binomial, data = medgpa)\n",
    "\n",
    "**C**: glm(Acceptance ~ ., family = poisson, data = medgpa)\n",
    "\n",
    "**D**: lm(GPA ~ ., data = medgpa)"
   ]
  },
  {
   "cell_type": "markdown",
   "metadata": {},
   "source": [
    "### BEGIN SOLUTION\n",
    "\n",
    "**B**: glm(Acceptance ~ ., family = binomial, data = mdgpa)\n",
    "\n",
    "The response is binary (accepted or denied). We fit a Logistic regression using the R function `glm()` and the argument `family = binomial`\n",
    "### END SOLUTION"
   ]
  },
  {
   "cell_type": "markdown",
   "metadata": {},
   "source": [
    "### Question 4\n",
    "\n",
    "Following the previous question, and based on the results shown in the table below, **which is a correct interpretation of the coefficient MCAT?** (only one is correct)\n",
    "\n",
    "Based on the (raw) estimated coefficients (`exponentiate = FALSE` in `tidy()`) displayed in `medgpa_table`\n",
    "\n",
    "**Which is a correct interpretation of the coefficient MCAT?** (only one is correct)"
   ]
  },
  {
   "cell_type": "code",
   "execution_count": 11,
   "metadata": {
    "scrolled": true
   },
   "outputs": [
    {
     "data": {
      "text/html": [
       "<table class=\"dataframe\">\n",
       "<caption>A data.frame: 4 × 5</caption>\n",
       "<thead>\n",
       "\t<tr><th scope=col>Variable</th><th scope=col>Estimate</th><th scope=col>Std_Error</th><th scope=col>z_value</th><th scope=col>Pr_greater_than_z</th></tr>\n",
       "\t<tr><th scope=col>&lt;chr&gt;</th><th scope=col>&lt;dbl&gt;</th><th scope=col>&lt;dbl&gt;</th><th scope=col>&lt;dbl&gt;</th><th scope=col>&lt;dbl&gt;</th></tr>\n",
       "</thead>\n",
       "<tbody>\n",
       "\t<tr><td>(Intercept)</td><td>-23.68942</td><td>7.02387</td><td>-3.373</td><td>0.000744</td></tr>\n",
       "\t<tr><td>GPA        </td><td>  4.86062</td><td>1.69441</td><td> 2.869</td><td>0.004123</td></tr>\n",
       "\t<tr><td>MCAT       </td><td>  0.17287</td><td>0.10537</td><td> 1.641</td><td>0.100867</td></tr>\n",
       "\t<tr><td>Apps       </td><td>  0.04379</td><td>0.07617</td><td> 0.575</td><td>0.565412</td></tr>\n",
       "</tbody>\n",
       "</table>\n"
      ],
      "text/latex": [
       "A data.frame: 4 × 5\n",
       "\\begin{tabular}{lllll}\n",
       " Variable & Estimate & Std\\_Error & z\\_value & Pr\\_greater\\_than\\_z\\\\\n",
       " <chr> & <dbl> & <dbl> & <dbl> & <dbl>\\\\\n",
       "\\hline\n",
       "\t (Intercept) & -23.68942 & 7.02387 & -3.373 & 0.000744\\\\\n",
       "\t GPA         &   4.86062 & 1.69441 &  2.869 & 0.004123\\\\\n",
       "\t MCAT        &   0.17287 & 0.10537 &  1.641 & 0.100867\\\\\n",
       "\t Apps        &   0.04379 & 0.07617 &  0.575 & 0.565412\\\\\n",
       "\\end{tabular}\n"
      ],
      "text/markdown": [
       "\n",
       "A data.frame: 4 × 5\n",
       "\n",
       "| Variable &lt;chr&gt; | Estimate &lt;dbl&gt; | Std_Error &lt;dbl&gt; | z_value &lt;dbl&gt; | Pr_greater_than_z &lt;dbl&gt; |\n",
       "|---|---|---|---|---|\n",
       "| (Intercept) | -23.68942 | 7.02387 | -3.373 | 0.000744 |\n",
       "| GPA         |   4.86062 | 1.69441 |  2.869 | 0.004123 |\n",
       "| MCAT        |   0.17287 | 0.10537 |  1.641 | 0.100867 |\n",
       "| Apps        |   0.04379 | 0.07617 |  0.575 | 0.565412 |\n",
       "\n"
      ],
      "text/plain": [
       "  Variable    Estimate  Std_Error z_value Pr_greater_than_z\n",
       "1 (Intercept) -23.68942 7.02387   -3.373  0.000744         \n",
       "2 GPA           4.86062 1.69441    2.869  0.004123         \n",
       "3 MCAT          0.17287 0.10537    1.641  0.100867         \n",
       "4 Apps          0.04379 0.07617    0.575  0.565412         "
      ]
     },
     "metadata": {},
     "output_type": "display_data"
    }
   ],
   "source": [
    "medgpa_table <- data.frame(\n",
    "  Variable = c(\"(Intercept)\", \"GPA\", \"MCAT\", \"Apps\"),\n",
    "  Estimate = c(-23.68942, 4.86062, 0.17287, 0.04379),\n",
    "  Std_Error = c(7.02387, 1.69441, 0.10537, 0.07617),\n",
    "  z_value = c(-3.373, 2.869, 1.641, 0.575),\n",
    "  Pr_greater_than_z = c(0.000744, 0.004123, 0.100867, 0.565412)\n",
    ")\n",
    "medgpa_table"
   ]
  },
  {
   "cell_type": "markdown",
   "metadata": {},
   "source": [
    "**A**: Keeping GPA and Apps constant (at any value), for every additional point in MCAT we expect the odds of being accepted in med school to increase by a factor of $e^0.17=1.185$ , i.e., by approximately 18.5%\n",
    "\n",
    "**B**: Keeping GPA and Apps constant (at any value), for every additional point in MCAT we expect the odds of being accepted in med school to increase by approximately $17\\%$\n",
    "\n",
    "**C**: The relation between `MCAT` and `Acceptance` depends on the GPA of the student.\n",
    "\n",
    "**D**: Keeping `GPA` and `Apps` constant (at any value), the odds of being accepted in med school are approximately 18.5% higher ($e^0.17=1.185$) in students with high MCAT score compared to those with low score."
   ]
  },
  {
   "cell_type": "markdown",
   "metadata": {},
   "source": [
    "### BEGIN SOLUTION\n",
    "\n",
    "**A**\n",
    "\n",
    "B: is incorrect since 0.17 is the coefficient for a model of the log-odds, not the logs\n",
    "\n",
    "C: is incorrect the model is additive. We assume that the relation between `MCAT` and `Acceptance` depends NOT on the GPA of the student.\n",
    "\n",
    "D: is incorrect since MCAT is a continuous variable\n",
    "\n",
    "### END SOLUTION"
   ]
  },
  {
   "cell_type": "markdown",
   "metadata": {},
   "source": [
    "**Question 5**\n",
    "\n",
    "Propose a question that can be answered using the `medgpa` dataset described in the previous Medical School question and a Poisson regression.\n",
    "\n",
    "a) Explain why a Poisson regression is needed for your question.\n",
    "\n",
    "b) Justify the choice of variables and model you make.\n",
    "\n",
    "c) Write a code line to fit the proposed model.\n",
    "\n",
    "### BEGIN SOLUTION\n",
    "\n",
    "Is there an association between the number of applications (`Apps`) sent by a student their grades (e.g., `GPA`  and `MCAT`)?\n",
    "\n",
    "Since the response `Apps` is a discrete variable with counts (number of applications) a Poisson regression can be used to model the mean number of applications as a function of grades.\n",
    "\n",
    "`glm(Apps ~ GPA + MCAT, family = \"poisson\", data = medgpa)`\n",
    "\n",
    "### END SOLUTION"
   ]
  }
 ],
 "metadata": {
  "anaconda-cloud": "",
  "kernelspec": {
   "display_name": "R",
   "language": "R",
   "name": "ir"
  },
  "language_info": {
   "codemirror_mode": "r",
   "file_extension": ".r",
   "mimetype": "text/x-r-source",
   "name": "R",
   "pygments_lexer": "r",
   "version": "4.3.3"
  }
 },
 "nbformat": 4,
 "nbformat_minor": 4
}
