{
 "cells": [
  {
   "cell_type": "markdown",
   "id": "38172029",
   "metadata": {
    "nbgrader": {
     "grade": false,
     "grade_id": "cell-d29d09ae5b9ca86e",
     "locked": true,
     "schema_version": 3,
     "solution": false,
     "task": false
    }
   },
   "source": [
    "# Tutorial 11 - Predictive versus generative modelling"
   ]
  },
  {
   "cell_type": "markdown",
   "id": "da792029",
   "metadata": {
    "nbgrader": {
     "grade": false,
     "grade_id": "cell-28a28a6ef881c6b4",
     "locked": true,
     "schema_version": 3,
     "solution": false,
     "task": false
    }
   },
   "source": [
    "By the end of this section, students will be able to:\n",
    "\n",
    "1. Give examples of questions that can be answered by generative models and others that can be answered by predictive models.\n",
    "2. Discuss how the research question being asked impacts the statistical modelling procedures.\n",
    "3. Discuss why the model obtained directly from lasso is not the most suitable model for generative modelling and how post-lasso is one way to address this problem.\n",
    "4. Write a computer script to perform post-lasso and use it to estimate a generative model.\n",
    "5. Discuss post inference problems (e.g., double dipping into the data set) and current practical solutions available to address these (e.g., data-splitting techniques).\n",
    "6. Write a computer script to apply currently available practical solutions to post inference problems.\n",
    "7. Discuss how the research question being asked impacts the communication of the results."
   ]
  },
  {
   "cell_type": "code",
   "execution_count": 1,
   "id": "4415e620",
   "metadata": {
    "nbgrader": {
     "grade": false,
     "grade_id": "cell-7594064fa4282164",
     "locked": true,
     "schema_version": 3,
     "solution": false,
     "task": false
    },
    "scrolled": true
   },
   "outputs": [
    {
     "name": "stderr",
     "output_type": "stream",
     "text": [
      "Loading required package: carData\n",
      "\n",
      "── \u001b[1mAttaching packages\u001b[22m ─────────────────────────────────────── tidyverse 1.3.2 ──\n",
      "\u001b[32m✔\u001b[39m \u001b[34mggplot2\u001b[39m 3.3.6      \u001b[32m✔\u001b[39m \u001b[34mpurrr  \u001b[39m 0.3.5 \n",
      "\u001b[32m✔\u001b[39m \u001b[34mtibble \u001b[39m 3.1.8      \u001b[32m✔\u001b[39m \u001b[34mdplyr  \u001b[39m 1.0.10\n",
      "\u001b[32m✔\u001b[39m \u001b[34mtidyr  \u001b[39m 1.2.1      \u001b[32m✔\u001b[39m \u001b[34mstringr\u001b[39m 1.4.1 \n",
      "\u001b[32m✔\u001b[39m \u001b[34mreadr  \u001b[39m 2.1.3      \u001b[32m✔\u001b[39m \u001b[34mforcats\u001b[39m 0.5.2 \n",
      "── \u001b[1mConflicts\u001b[22m ────────────────────────────────────────── tidyverse_conflicts() ──\n",
      "\u001b[31m✖\u001b[39m \u001b[34mdplyr\u001b[39m::\u001b[32mfilter()\u001b[39m masks \u001b[34mstats\u001b[39m::filter()\n",
      "\u001b[31m✖\u001b[39m \u001b[34mdplyr\u001b[39m::\u001b[32mlag()\u001b[39m    masks \u001b[34mstats\u001b[39m::lag()\n",
      "\u001b[31m✖\u001b[39m \u001b[34mdplyr\u001b[39m::\u001b[32mrecode()\u001b[39m masks \u001b[34mcar\u001b[39m::recode()\n",
      "\u001b[31m✖\u001b[39m \u001b[34mpurrr\u001b[39m::\u001b[32msome()\u001b[39m   masks \u001b[34mcar\u001b[39m::some()\n",
      "Loading required package: Matrix\n",
      "\n",
      "\n",
      "Attaching package: ‘Matrix’\n",
      "\n",
      "\n",
      "The following objects are masked from ‘package:tidyr’:\n",
      "\n",
      "    expand, pack, unpack\n",
      "\n",
      "\n",
      "Loaded glmnet 4.1-2\n",
      "\n",
      "\n",
      "Attaching package: ‘faraway’\n",
      "\n",
      "\n",
      "The following objects are masked from ‘package:car’:\n",
      "\n",
      "    logit, vif\n",
      "\n",
      "\n",
      "\n",
      "Attaching package: ‘mltools’\n",
      "\n",
      "\n",
      "The following object is masked from ‘package:tidyr’:\n",
      "\n",
      "    replace_na\n",
      "\n",
      "\n",
      "\n",
      "Attaching package: ‘testthat’\n",
      "\n",
      "\n",
      "The following object is masked from ‘package:dplyr’:\n",
      "\n",
      "    matches\n",
      "\n",
      "\n",
      "The following object is masked from ‘package:purrr’:\n",
      "\n",
      "    is_null\n",
      "\n",
      "\n",
      "The following objects are masked from ‘package:readr’:\n",
      "\n",
      "    edition_get, local_edition\n",
      "\n",
      "\n",
      "The following object is masked from ‘package:tidyr’:\n",
      "\n",
      "    matches\n",
      "\n",
      "\n"
     ]
    }
   ],
   "source": [
    "# Loading packages\n",
    "library(car)\n",
    "library(tidyverse)\n",
    "library(broom)\n",
    "library(glmnet)\n",
    "library(leaps)\n",
    "library(faraway)\n",
    "library(mltools)\n",
    "source(\"tests_tutorial_11.r\")"
   ]
  },
  {
   "cell_type": "markdown",
   "id": "f54dfcd6",
   "metadata": {
    "nbgrader": {
     "grade": false,
     "grade_id": "cell-58fcbe563a6a076f",
     "locked": true,
     "schema_version": 3,
     "solution": false,
     "task": false
    }
   },
   "source": [
    "## Model Selection: Ridge\n",
    "\n",
    "We have also learned that *shrinkage methods* can be used to build predictive models. Some of these methods can also be used to select variables. In particular, *Ridge method* will not select variables since the estimated coefficients won't be shrunk to zero. \n",
    "\n",
    "> **Heads up:** Ridge method was first introduced in 1970 to address multicollinearity issues!\n",
    "\n",
    "The function `glmnet` used to fit a Ridge regression uses a matrix of input variables, instead of the input variable names. \n",
    "\n",
    "In this tutorial, you will use the dataset `fat` from the library `faraway` to build a Ridge regression and use it to predict the `brozek` value for men in a test set. \n",
    "\n",
    "**Recall**: This dataset contains the percentage of body fat and a whole variety of body measurements (continuous variables) of 252 men. You will use the variable `brozek` as the response variable and a subset 14 variables to build different models. Additional information about the data can be found in [Johnson (1996)](https://www.tandfonline.com/doi/full/10.1080/10691898.1996.11910505). \n",
    "\n",
    "Run the code below to create the working data frame called `fat_sample` and build the objects needed in next problems:"
   ]
  },
  {
   "cell_type": "markdown",
   "id": "b6882b2d",
   "metadata": {
    "nbgrader": {
     "grade": false,
     "grade_id": "cell-2a05a7dad6e0eaf6",
     "locked": true,
     "schema_version": 3,
     "solution": false,
     "task": false
    }
   },
   "source": [
    "The response variable `brozek` is the percent of body fat using Brozek's equation:\n",
    "\n",
    "$$\\texttt{brozek} = \\frac{457}{\\texttt{density}} - 414.2,$$\n",
    "\n",
    "where body `density` is measured in $\\text{g}/\\text{cm}^3$.\n",
    "\n",
    "The 14 input variables are:\n",
    "\n",
    "- `age`: Age in $\\text{years}$.\n",
    "- `weight`: Weight in $\\text{lb}$.\n",
    "- `height`: Height in $\\text{in}$.\n",
    "- `adipos`: Adiposity index in $\\text{kg}/\\text{m}^2$.\n",
    "\n",
    "$$\\texttt{adipos} = \\frac{\\texttt{weight}}{\\texttt{height}^2}$$\n",
    "\n",
    "- `neck`: Neck circumference in $\\text{cm}$.\n",
    "- `chest`: Chest circumference in $\\text{cm}$.\n",
    "- `abdom`: Abdomen circumference at the umbilicus and level with the iliac crest in $\\text{cm}$.\n",
    "- `hip`: Hip circumference in $\\text{cm}$.\n",
    "- `thigh`: Thigh circumference in $\\text{cm}$.\n",
    "- `knee`: Knee circumference in $\\text{cm}$.\n",
    "- `ankle`: Ankle circumference in $\\text{cm}$.\n",
    "- `biceps`: Extended biceps circumference in $\\text{cm}$.\n",
    "- `forearm`: Forearm circumference in $\\text{cm}$.\n",
    "- `wrist`: Wrist circumference distal to the styloid processes in $\\text{cm}$."
   ]
  },
  {
   "cell_type": "code",
   "execution_count": 2,
   "id": "b619c747",
   "metadata": {
    "nbgrader": {
     "grade": false,
     "grade_id": "cell-786b8912ab7d504d",
     "locked": true,
     "schema_version": 3,
     "solution": false,
     "task": false
    }
   },
   "outputs": [],
   "source": [
    "# Get a sample\n",
    "fat_sample <- fat %>%\n",
    "  select(\n",
    "    brozek, age, weight, height, adipos, neck, chest, abdom,\n",
    "    hip, thigh, knee, ankle, biceps, forearm, wrist\n",
    "  )\n",
    "\n",
    "# Split data into training and test sets\n",
    "set.seed(123)\n",
    "\n",
    "fat_sample$ID <- rownames(fat_sample)\n",
    "\n",
    "training_fat <- sample_n(fat_sample, size = nrow(fat_sample) * 0.70,\n",
    "  replace = FALSE\n",
    ")\n",
    "\n",
    "testing_fat <- anti_join(fat_sample,\n",
    "  training_fat,\n",
    "  by = \"ID\"\n",
    ")\n",
    "\n",
    "# Remove variable \"ID\"\n",
    "training_fat <- training_fat  %>% select(-ID)\n",
    "testing_fat <- testing_fat  %>% select(-ID)\n",
    "\n",
    "# Build matrix and vector required by `glmnet`\n",
    "\n",
    "fat_X_train <- model.matrix(object = brozek ~ age + weight + height + adipos + neck +\n",
    "    chest + abdom + hip + thigh + knee + ankle + biceps +\n",
    "    forearm + wrist,\n",
    "  data = training_fat)[, -1]\n",
    "\n",
    "fat_Y_train <- training_fat[, \"brozek\"]"
   ]
  },
  {
   "cell_type": "markdown",
   "id": "c698da9d",
   "metadata": {
    "nbgrader": {
     "grade": false,
     "grade_id": "cell-b0f7341243c55d45",
     "locked": true,
     "schema_version": 3,
     "solution": false,
     "task": false
    }
   },
   "source": [
    "**Question 1.0**\n",
    "<br>{points: 1}\n",
    "\n",
    "Now that we have our training data prepared in `fat_X_train` and `fat_Y_train`, we will select the value of $\\lambda$ that provides the smallest $\\text{MSE}_{\\text{test}}$ using cross-validation. \n",
    "\n",
    "We can do this automatically with function `cv.glmnet()` where `x` is the matrix of input variables and `y` is vector of training responses that we prepared. \n",
    "\n",
    "> **Heads up**: the method of Ridge regression is defined when `alpha` is equal to zero. \n",
    "\n",
    "To select `lambda` we will use a **sequence** of values that goes from $\\lambda = \\exp(-5) = 0.0067$ to $\\lambda = \\exp(10) = 22026.5$. Internally, `glmnet` will use cross-validation to compare the test MSE at each of these values. Assign the function's output as `fat_cv_lambda_ridge`.\n",
    "\n",
    "*Fill out those parts indicated with `...`, uncomment the corresponding code in the cell below, and run it.*"
   ]
  },
  {
   "cell_type": "code",
   "execution_count": 3,
   "id": "8c262bf4",
   "metadata": {
    "nbgrader": {
     "grade": false,
     "grade_id": "cell-52febd5769a37a51",
     "locked": false,
     "schema_version": 3,
     "solution": true,
     "task": false
    }
   },
   "outputs": [],
   "source": [
    "set.seed(1234) # DO NOT CHANGE!\n",
    "\n",
    "# fat_cv_lambda_ridge <- ...(\n",
    "#   x = ..., y = ...,\n",
    "#   alpha = ...,\n",
    "#   lambda = exp(seq(-5, 10, 0.1))\n",
    "# )\n",
    "\n",
    "### BEGIN SOLUTION\n",
    "fat_cv_lambda_ridge <- cv.glmnet(\n",
    "  x = fat_X_train, y = fat_Y_train,\n",
    "  alpha = 0,\n",
    "  lambda = exp(seq(-5, 10, 0.1))\n",
    ")\n",
    "### END SOLUTION"
   ]
  },
  {
   "cell_type": "code",
   "execution_count": 4,
   "id": "730a39a3",
   "metadata": {
    "nbgrader": {
     "grade": true,
     "grade_id": "cell-18a78ee10d2b9343",
     "locked": true,
     "points": 1,
     "schema_version": 3,
     "solution": false,
     "task": false
    }
   },
   "outputs": [
    {
     "name": "stdout",
     "output_type": "stream",
     "text": [
      "\u001b[32mTest passed\u001b[39m 🥳\n",
      "\u001b[32mTest passed\u001b[39m 🎊\n",
      "[1] \"Success!\"\n"
     ]
    }
   ],
   "source": [
    "test_1.0()"
   ]
  },
  {
   "cell_type": "markdown",
   "id": "e31e5f55",
   "metadata": {
    "nbgrader": {
     "grade": false,
     "grade_id": "cell-5876c55a6dec81c8",
     "locked": true,
     "schema_version": 3,
     "solution": false,
     "task": false
    }
   },
   "source": [
    "**Question 1.1**\n",
    "<br>{points: 1}\n",
    "\n",
    "We can visualize the estimated test MSE at each value of lambda in the sequence by using `fat_cv_lambda_ridge` and `plot()`. \n",
    "\n",
    "The resulting plot will indicate the $\\text{MSE}_{\\text{test}}$ on the $y$-axis (error bars show the variation of the test error in the different folds) along with the range of $\\lambda$ on the bottom $x$-axis on the natural log-scale. \n",
    "\n",
    "> **Heads up**: Ridge regression never shrinks estimators to zero, thus we see a value of `14` on the top $x$-axis. \n",
    "\n",
    "*Fill out those parts indicated with `...`, uncomment the corresponding code in the cell below, and run it.*"
   ]
  },
  {
   "cell_type": "code",
   "execution_count": 5,
   "id": "4a64166f",
   "metadata": {
    "nbgrader": {
     "grade": false,
     "grade_id": "cell-d97c2df4f4d42d2f",
     "locked": false,
     "schema_version": 3,
     "solution": true,
     "task": false
    }
   },
   "outputs": [
    {
     "data": {
      "application/pdf": "[encoded data removed]",
      "image/jpeg": "[encoded data removed]",
      "image/png": "[encoded data removed]",
      "image/svg+xml": [
       "<?xml version=\"1.0\" encoding=\"UTF-8\"?>\n",
       "<svg xmlns=\"http://www.w3.org/2000/svg\" xmlns:xlink=\"http://www.w3.org/1999/xlink\" width=\"504pt\" height=\"504pt\" viewBox=\"0 0 504 504\" version=\"1.1\">\n",
       "<defs>\n",
       "<g>\n",
       "<symbol overflow=\"visible\" id=\"glyph0-0\">\n",
       "<path style=\"stroke:none;\" d=\"M 0.40625 0 L 0.40625 -8 L 3.59375 -8 L 3.59375 0 Z M 0.796875 -0.40625 L 3.1875 -0.40625 L 3.1875 -7.59375 L 0.796875 -7.59375 Z M 0.796875 -0.40625 \"/>\n",
       "</symbol>\n",
       "<symbol overflow=\"visible\" id=\"glyph0-1\">\n",
       "<path style=\"stroke:none;\" d=\"M 0.53125 -2.71875 L 0.53125 -3.65625 L 3.46875 -3.65625 L 3.46875 -2.71875 Z M 0.53125 -2.71875 \"/>\n",
       "</symbol>\n",
       "<symbol overflow=\"visible\" id=\"glyph0-2\">\n",
       "<path style=\"stroke:none;\" d=\"M 6.171875 -2.6875 C 6.171875 -2.269531 6.109375 -1.890625 5.984375 -1.546875 C 5.859375 -1.203125 5.671875 -0.90625 5.421875 -0.65625 C 5.179688 -0.414062 4.878906 -0.222656 4.515625 -0.078125 C 4.148438 0.0546875 3.722656 0.125 3.234375 0.125 C 2.804688 0.125 2.429688 0.0703125 2.109375 -0.03125 C 1.785156 -0.132812 1.507812 -0.273438 1.28125 -0.453125 C 1.0625 -0.628906 0.882812 -0.835938 0.75 -1.078125 C 0.625 -1.316406 0.535156 -1.570312 0.484375 -1.84375 L 1.546875 -1.96875 C 1.585938 -1.8125 1.644531 -1.660156 1.71875 -1.515625 C 1.800781 -1.367188 1.910156 -1.238281 2.046875 -1.125 C 2.179688 -1.007812 2.347656 -0.914062 2.546875 -0.84375 C 2.742188 -0.78125 2.984375 -0.75 3.265625 -0.75 C 3.535156 -0.75 3.78125 -0.789062 4 -0.875 C 4.226562 -0.957031 4.421875 -1.078125 4.578125 -1.234375 C 4.734375 -1.398438 4.851562 -1.601562 4.9375 -1.84375 C 5.03125 -2.082031 5.078125 -2.359375 5.078125 -2.671875 C 5.078125 -2.921875 5.035156 -3.148438 4.953125 -3.359375 C 4.867188 -3.578125 4.75 -3.765625 4.59375 -3.921875 C 4.445312 -4.078125 4.257812 -4.195312 4.03125 -4.28125 C 3.8125 -4.363281 3.5625 -4.40625 3.28125 -4.40625 C 3.113281 -4.40625 2.953125 -4.390625 2.796875 -4.359375 C 2.648438 -4.328125 2.515625 -4.285156 2.390625 -4.234375 C 2.265625 -4.179688 2.148438 -4.117188 2.046875 -4.046875 C 1.941406 -3.972656 1.84375 -3.894531 1.75 -3.8125 L 0.71875 -3.8125 L 1 -8.25 L 5.6875 -8.25 L 5.6875 -7.359375 L 1.953125 -7.359375 L 1.796875 -4.734375 C 1.984375 -4.878906 2.21875 -5.003906 2.5 -5.109375 C 2.78125 -5.210938 3.113281 -5.265625 3.5 -5.265625 C 3.914062 -5.265625 4.285156 -5.203125 4.609375 -5.078125 C 4.941406 -4.953125 5.222656 -4.773438 5.453125 -4.546875 C 5.679688 -4.316406 5.859375 -4.046875 5.984375 -3.734375 C 6.109375 -3.421875 6.171875 -3.070312 6.171875 -2.6875 Z M 6.171875 -2.6875 \"/>\n",
       "</symbol>\n",
       "<symbol overflow=\"visible\" id=\"glyph0-3\">\n",
       "<path style=\"stroke:none;\" d=\"M 6.203125 -4.125 C 6.203125 -3.332031 6.125 -2.664062 5.96875 -2.125 C 5.820312 -1.582031 5.617188 -1.144531 5.359375 -0.8125 C 5.097656 -0.476562 4.789062 -0.238281 4.4375 -0.09375 C 4.09375 0.0507812 3.722656 0.125 3.328125 0.125 C 2.921875 0.125 2.539062 0.0507812 2.1875 -0.09375 C 1.84375 -0.238281 1.539062 -0.476562 1.28125 -0.8125 C 1.03125 -1.144531 0.832031 -1.582031 0.6875 -2.125 C 0.539062 -2.664062 0.46875 -3.332031 0.46875 -4.125 C 0.46875 -4.957031 0.539062 -5.644531 0.6875 -6.1875 C 0.832031 -6.738281 1.035156 -7.175781 1.296875 -7.5 C 1.554688 -7.820312 1.859375 -8.046875 2.203125 -8.171875 C 2.554688 -8.304688 2.941406 -8.375 3.359375 -8.375 C 3.753906 -8.375 4.125 -8.304688 4.46875 -8.171875 C 4.8125 -8.046875 5.113281 -7.820312 5.375 -7.5 C 5.632812 -7.175781 5.835938 -6.738281 5.984375 -6.1875 C 6.128906 -5.644531 6.203125 -4.957031 6.203125 -4.125 Z M 5.140625 -4.125 C 5.140625 -4.78125 5.097656 -5.328125 5.015625 -5.765625 C 4.941406 -6.203125 4.828125 -6.550781 4.671875 -6.8125 C 4.515625 -7.070312 4.328125 -7.253906 4.109375 -7.359375 C 3.890625 -7.472656 3.640625 -7.53125 3.359375 -7.53125 C 3.054688 -7.53125 2.789062 -7.472656 2.5625 -7.359375 C 2.34375 -7.253906 2.15625 -7.070312 2 -6.8125 C 1.84375 -6.550781 1.722656 -6.203125 1.640625 -5.765625 C 1.566406 -5.328125 1.53125 -4.78125 1.53125 -4.125 C 1.53125 -3.5 1.570312 -2.96875 1.65625 -2.53125 C 1.738281 -2.09375 1.851562 -1.742188 2 -1.484375 C 2.15625 -1.222656 2.34375 -1.035156 2.5625 -0.921875 C 2.789062 -0.804688 3.046875 -0.75 3.328125 -0.75 C 3.609375 -0.75 3.859375 -0.804688 4.078125 -0.921875 C 4.304688 -1.035156 4.492188 -1.222656 4.640625 -1.484375 C 4.796875 -1.742188 4.914062 -2.09375 5 -2.53125 C 5.09375 -2.96875 5.140625 -3.5 5.140625 -4.125 Z M 5.140625 -4.125 \"/>\n",
       "</symbol>\n",
       "<symbol overflow=\"visible\" id=\"glyph0-4\">\n",
       "<path style=\"stroke:none;\" d=\"M 0.921875 0 L 0.921875 -0.890625 L 3.015625 -0.890625 L 3.015625 -7.25 L 1.15625 -5.921875 L 1.15625 -6.921875 L 3.109375 -8.25 L 4.078125 -8.25 L 4.078125 -0.890625 L 6.09375 -0.890625 L 6.09375 0 Z M 0.921875 0 \"/>\n",
       "</symbol>\n",
       "<symbol overflow=\"visible\" id=\"glyph0-5\">\n",
       "<path style=\"stroke:none;\" d=\"M 0.984375 0 L 0.984375 -8.25 L 2.109375 -8.25 L 2.109375 -0.921875 L 6.28125 -0.921875 L 6.28125 0 Z M 0.984375 0 \"/>\n",
       "</symbol>\n",
       "<symbol overflow=\"visible\" id=\"glyph0-6\">\n",
       "<path style=\"stroke:none;\" d=\"M 6.171875 -3.171875 C 6.171875 -2.066406 5.925781 -1.238281 5.4375 -0.6875 C 4.945312 -0.144531 4.238281 0.125 3.3125 0.125 C 2.875 0.125 2.476562 0.0546875 2.125 -0.078125 C 1.78125 -0.210938 1.488281 -0.414062 1.25 -0.6875 C 1.007812 -0.96875 0.820312 -1.3125 0.6875 -1.71875 C 0.5625 -2.132812 0.5 -2.617188 0.5 -3.171875 C 0.5 -5.359375 1.445312 -6.453125 3.34375 -6.453125 C 3.832031 -6.453125 4.253906 -6.382812 4.609375 -6.25 C 4.972656 -6.113281 5.269531 -5.910156 5.5 -5.640625 C 5.726562 -5.367188 5.894531 -5.023438 6 -4.609375 C 6.113281 -4.203125 6.171875 -3.722656 6.171875 -3.171875 Z M 5.0625 -3.171875 C 5.0625 -3.671875 5.019531 -4.078125 4.9375 -4.390625 C 4.863281 -4.710938 4.753906 -4.96875 4.609375 -5.15625 C 4.460938 -5.351562 4.285156 -5.488281 4.078125 -5.5625 C 3.867188 -5.632812 3.628906 -5.671875 3.359375 -5.671875 C 3.085938 -5.671875 2.84375 -5.628906 2.625 -5.546875 C 2.414062 -5.472656 2.234375 -5.335938 2.078125 -5.140625 C 1.929688 -4.953125 1.816406 -4.695312 1.734375 -4.375 C 1.648438 -4.050781 1.609375 -3.648438 1.609375 -3.171875 C 1.609375 -2.679688 1.648438 -2.273438 1.734375 -1.953125 C 1.828125 -1.628906 1.945312 -1.367188 2.09375 -1.171875 C 2.25 -0.984375 2.425781 -0.847656 2.625 -0.765625 C 2.832031 -0.691406 3.054688 -0.65625 3.296875 -0.65625 C 3.566406 -0.65625 3.8125 -0.691406 4.03125 -0.765625 C 4.25 -0.847656 4.429688 -0.984375 4.578125 -1.171875 C 4.734375 -1.367188 4.851562 -1.628906 4.9375 -1.953125 C 5.019531 -2.273438 5.0625 -2.679688 5.0625 -3.171875 Z M 5.0625 -3.171875 \"/>\n",
       "</symbol>\n",
       "<symbol overflow=\"visible\" id=\"glyph0-7\">\n",
       "<path style=\"stroke:none;\" d=\"M 3.21875 2.484375 C 2.851562 2.484375 2.53125 2.445312 2.25 2.375 C 1.96875 2.300781 1.722656 2.195312 1.515625 2.0625 C 1.316406 1.925781 1.15625 1.757812 1.03125 1.5625 C 0.90625 1.375 0.816406 1.160156 0.765625 0.921875 L 1.828125 0.78125 C 1.898438 1.070312 2.054688 1.296875 2.296875 1.453125 C 2.535156 1.609375 2.847656 1.6875 3.234375 1.6875 C 3.472656 1.6875 3.691406 1.648438 3.890625 1.578125 C 4.085938 1.515625 4.253906 1.410156 4.390625 1.265625 C 4.523438 1.117188 4.628906 0.925781 4.703125 0.6875 C 4.773438 0.457031 4.8125 0.175781 4.8125 -0.15625 L 4.8125 -1.171875 C 4.726562 -1.015625 4.628906 -0.863281 4.515625 -0.71875 C 4.398438 -0.570312 4.257812 -0.441406 4.09375 -0.328125 C 3.925781 -0.210938 3.734375 -0.117188 3.515625 -0.046875 C 3.296875 0.015625 3.046875 0.046875 2.765625 0.046875 C 2.359375 0.046875 2.007812 -0.0195312 1.71875 -0.15625 C 1.4375 -0.289062 1.203125 -0.492188 1.015625 -0.765625 C 0.835938 -1.035156 0.707031 -1.367188 0.625 -1.765625 C 0.539062 -2.171875 0.5 -2.632812 0.5 -3.15625 C 0.5 -3.664062 0.539062 -4.125 0.625 -4.53125 C 0.707031 -4.9375 0.84375 -5.28125 1.03125 -5.5625 C 1.226562 -5.84375 1.476562 -6.054688 1.78125 -6.203125 C 2.082031 -6.359375 2.453125 -6.4375 2.890625 -6.4375 C 3.335938 -6.4375 3.722656 -6.332031 4.046875 -6.125 C 4.378906 -5.925781 4.632812 -5.632812 4.8125 -5.25 L 4.828125 -5.25 C 4.828125 -5.351562 4.828125 -5.460938 4.828125 -5.578125 C 4.835938 -5.703125 4.84375 -5.816406 4.84375 -5.921875 C 4.851562 -6.035156 4.863281 -6.128906 4.875 -6.203125 C 4.882812 -6.285156 4.894531 -6.332031 4.90625 -6.34375 L 5.90625 -6.34375 C 5.894531 -6.300781 5.890625 -6.238281 5.890625 -6.15625 C 5.890625 -6.070312 5.882812 -5.972656 5.875 -5.859375 C 5.875 -5.742188 5.867188 -5.613281 5.859375 -5.46875 C 5.859375 -5.320312 5.859375 -5.175781 5.859375 -5.03125 L 5.859375 -0.1875 C 5.859375 0.707031 5.640625 1.375 5.203125 1.8125 C 4.773438 2.257812 4.113281 2.484375 3.21875 2.484375 Z M 4.8125 -3.171875 C 4.8125 -3.609375 4.765625 -3.984375 4.671875 -4.296875 C 4.578125 -4.617188 4.453125 -4.878906 4.296875 -5.078125 C 4.140625 -5.273438 3.957031 -5.421875 3.75 -5.515625 C 3.550781 -5.609375 3.347656 -5.65625 3.140625 -5.65625 C 2.867188 -5.65625 2.632812 -5.609375 2.4375 -5.515625 C 2.25 -5.421875 2.09375 -5.269531 1.96875 -5.0625 C 1.84375 -4.863281 1.75 -4.609375 1.6875 -4.296875 C 1.625 -3.984375 1.59375 -3.609375 1.59375 -3.171875 C 1.59375 -2.710938 1.625 -2.328125 1.6875 -2.015625 C 1.75 -1.703125 1.84375 -1.453125 1.96875 -1.265625 C 2.09375 -1.078125 2.25 -0.941406 2.4375 -0.859375 C 2.625 -0.773438 2.851562 -0.734375 3.125 -0.734375 C 3.332031 -0.734375 3.535156 -0.773438 3.734375 -0.859375 C 3.941406 -0.953125 4.125 -1.097656 4.28125 -1.296875 C 4.445312 -1.492188 4.578125 -1.742188 4.671875 -2.046875 C 4.765625 -2.359375 4.8125 -2.734375 4.8125 -3.171875 Z M 4.8125 -3.171875 \"/>\n",
       "</symbol>\n",
       "<symbol overflow=\"visible\" id=\"glyph0-8\">\n",
       "<path style=\"stroke:none;\" d=\"M 5.15625 -1.875 L 5.15625 0 L 4.171875 0 L 4.171875 -1.875 L 0.28125 -1.875 L 0.28125 -2.6875 L 4.0625 -8.25 L 5.15625 -8.25 L 5.15625 -2.703125 L 6.328125 -2.703125 L 6.328125 -1.875 Z M 4.171875 -7.0625 C 4.160156 -7.039062 4.140625 -7.003906 4.109375 -6.953125 C 4.078125 -6.898438 4.039062 -6.835938 4 -6.765625 C 3.957031 -6.691406 3.914062 -6.617188 3.875 -6.546875 C 3.84375 -6.472656 3.8125 -6.414062 3.78125 -6.375 L 1.65625 -3.25 C 1.632812 -3.21875 1.601562 -3.175781 1.5625 -3.125 C 1.53125 -3.070312 1.492188 -3.019531 1.453125 -2.96875 C 1.421875 -2.914062 1.382812 -2.863281 1.34375 -2.8125 C 1.300781 -2.769531 1.269531 -2.734375 1.25 -2.703125 L 4.171875 -2.703125 Z M 4.171875 -7.0625 \"/>\n",
       "</symbol>\n",
       "<symbol overflow=\"visible\" id=\"glyph1-0\">\n",
       "<path style=\"stroke:none;\" d=\"M 0 -0.40625 L -8 -0.40625 L -8 -3.59375 L 0 -3.59375 Z M -0.40625 -0.796875 L -0.40625 -3.1875 L -7.59375 -3.1875 L -7.59375 -0.796875 Z M -0.40625 -0.796875 \"/>\n",
       "</symbol>\n",
       "<symbol overflow=\"visible\" id=\"glyph1-1\">\n",
       "<path style=\"stroke:none;\" d=\"M 0 -0.609375 L -0.75 -0.609375 C -1.207031 -0.804688 -1.609375 -1.046875 -1.953125 -1.328125 C -2.304688 -1.617188 -2.625 -1.921875 -2.90625 -2.234375 C -3.1875 -2.554688 -3.445312 -2.867188 -3.6875 -3.171875 C -3.9375 -3.484375 -4.179688 -3.765625 -4.421875 -4.015625 C -4.660156 -4.265625 -4.910156 -4.46875 -5.171875 -4.625 C -5.441406 -4.78125 -5.742188 -4.859375 -6.078125 -4.859375 C -6.316406 -4.859375 -6.523438 -4.820312 -6.703125 -4.75 C -6.878906 -4.675781 -7.023438 -4.570312 -7.140625 -4.4375 C -7.265625 -4.3125 -7.359375 -4.15625 -7.421875 -3.96875 C -7.484375 -3.78125 -7.515625 -3.578125 -7.515625 -3.359375 C -7.515625 -3.140625 -7.484375 -2.9375 -7.421875 -2.75 C -7.367188 -2.570312 -7.28125 -2.410156 -7.15625 -2.265625 C -7.039062 -2.117188 -6.894531 -2 -6.71875 -1.90625 C -6.550781 -1.8125 -6.351562 -1.753906 -6.125 -1.734375 L -6.21875 -0.65625 C -6.507812 -0.6875 -6.785156 -0.765625 -7.046875 -0.890625 C -7.316406 -1.023438 -7.550781 -1.203125 -7.75 -1.421875 C -7.945312 -1.648438 -8.097656 -1.921875 -8.203125 -2.234375 C -8.316406 -2.554688 -8.375 -2.929688 -8.375 -3.359375 C -8.375 -3.765625 -8.328125 -4.125 -8.234375 -4.4375 C -8.140625 -4.757812 -7.992188 -5.03125 -7.796875 -5.25 C -7.609375 -5.476562 -7.375 -5.648438 -7.09375 -5.765625 C -6.8125 -5.878906 -6.488281 -5.9375 -6.125 -5.9375 C -5.84375 -5.9375 -5.578125 -5.882812 -5.328125 -5.78125 C -5.078125 -5.6875 -4.835938 -5.554688 -4.609375 -5.390625 C -4.378906 -5.222656 -4.160156 -5.03125 -3.953125 -4.8125 C -3.742188 -4.59375 -3.535156 -4.363281 -3.328125 -4.125 C -3.128906 -3.894531 -2.929688 -3.65625 -2.734375 -3.40625 C -2.535156 -3.164062 -2.335938 -2.9375 -2.140625 -2.71875 C -1.941406 -2.507812 -1.738281 -2.320312 -1.53125 -2.15625 C -1.332031 -1.988281 -1.117188 -1.859375 -0.890625 -1.765625 L -0.890625 -6.078125 L 0 -6.078125 Z M 0 -0.609375 \"/>\n",
       "</symbol>\n",
       "<symbol overflow=\"visible\" id=\"glyph1-2\">\n",
       "<path style=\"stroke:none;\" d=\"M -4.125 -6.203125 C -3.332031 -6.203125 -2.664062 -6.125 -2.125 -5.96875 C -1.582031 -5.820312 -1.144531 -5.617188 -0.8125 -5.359375 C -0.476562 -5.097656 -0.238281 -4.789062 -0.09375 -4.4375 C 0.0507812 -4.09375 0.125 -3.722656 0.125 -3.328125 C 0.125 -2.921875 0.0507812 -2.539062 -0.09375 -2.1875 C -0.238281 -1.84375 -0.476562 -1.539062 -0.8125 -1.28125 C -1.144531 -1.03125 -1.582031 -0.832031 -2.125 -0.6875 C -2.664062 -0.539062 -3.332031 -0.46875 -4.125 -0.46875 C -4.957031 -0.46875 -5.644531 -0.539062 -6.1875 -0.6875 C -6.738281 -0.832031 -7.175781 -1.035156 -7.5 -1.296875 C -7.820312 -1.554688 -8.046875 -1.859375 -8.171875 -2.203125 C -8.304688 -2.554688 -8.375 -2.941406 -8.375 -3.359375 C -8.375 -3.753906 -8.304688 -4.125 -8.171875 -4.46875 C -8.046875 -4.8125 -7.820312 -5.113281 -7.5 -5.375 C -7.175781 -5.632812 -6.738281 -5.835938 -6.1875 -5.984375 C -5.644531 -6.128906 -4.957031 -6.203125 -4.125 -6.203125 Z M -4.125 -5.140625 C -4.78125 -5.140625 -5.328125 -5.097656 -5.765625 -5.015625 C -6.203125 -4.941406 -6.550781 -4.828125 -6.8125 -4.671875 C -7.070312 -4.515625 -7.253906 -4.328125 -7.359375 -4.109375 C -7.472656 -3.890625 -7.53125 -3.640625 -7.53125 -3.359375 C -7.53125 -3.054688 -7.472656 -2.789062 -7.359375 -2.5625 C -7.253906 -2.34375 -7.070312 -2.15625 -6.8125 -2 C -6.550781 -1.84375 -6.203125 -1.722656 -5.765625 -1.640625 C -5.328125 -1.566406 -4.78125 -1.53125 -4.125 -1.53125 C -3.5 -1.53125 -2.96875 -1.570312 -2.53125 -1.65625 C -2.09375 -1.738281 -1.742188 -1.851562 -1.484375 -2 C -1.222656 -2.15625 -1.035156 -2.34375 -0.921875 -2.5625 C -0.804688 -2.789062 -0.75 -3.046875 -0.75 -3.328125 C -0.75 -3.609375 -0.804688 -3.859375 -0.921875 -4.078125 C -1.035156 -4.304688 -1.222656 -4.492188 -1.484375 -4.640625 C -1.742188 -4.796875 -2.09375 -4.914062 -2.53125 -5 C -2.96875 -5.09375 -3.5 -5.140625 -4.125 -5.140625 Z M -4.125 -5.140625 \"/>\n",
       "</symbol>\n",
       "<symbol overflow=\"visible\" id=\"glyph1-3\">\n",
       "<path style=\"stroke:none;\" d=\"M -2.28125 -6.140625 C -1.90625 -6.140625 -1.566406 -6.078125 -1.265625 -5.953125 C -0.972656 -5.835938 -0.722656 -5.660156 -0.515625 -5.421875 C -0.304688 -5.179688 -0.144531 -4.882812 -0.03125 -4.53125 C 0.0703125 -4.1875 0.125 -3.789062 0.125 -3.34375 C 0.125 -2.832031 0.0625 -2.398438 -0.0625 -2.046875 C -0.195312 -1.703125 -0.367188 -1.414062 -0.578125 -1.1875 C -0.785156 -0.957031 -1.019531 -0.785156 -1.28125 -0.671875 C -1.550781 -0.566406 -1.832031 -0.492188 -2.125 -0.453125 L -2.21875 -1.546875 C -2 -1.578125 -1.800781 -1.632812 -1.625 -1.71875 C -1.445312 -1.800781 -1.289062 -1.914062 -1.15625 -2.0625 C -1.03125 -2.207031 -0.929688 -2.382812 -0.859375 -2.59375 C -0.785156 -2.800781 -0.75 -3.050781 -0.75 -3.34375 C -0.75 -3.875 -0.878906 -4.289062 -1.140625 -4.59375 C -1.410156 -4.894531 -1.800781 -5.046875 -2.3125 -5.046875 C -2.613281 -5.046875 -2.859375 -4.976562 -3.046875 -4.84375 C -3.234375 -4.707031 -3.378906 -4.539062 -3.484375 -4.34375 C -3.585938 -4.144531 -3.65625 -3.925781 -3.6875 -3.6875 C -3.726562 -3.445312 -3.75 -3.226562 -3.75 -3.03125 L -3.75 -2.4375 L -4.65625 -2.4375 L -4.65625 -3.015625 C -4.65625 -3.210938 -4.675781 -3.414062 -4.71875 -3.625 C -4.757812 -3.84375 -4.832031 -4.039062 -4.9375 -4.21875 C -5.050781 -4.394531 -5.195312 -4.539062 -5.375 -4.65625 C -5.5625 -4.769531 -5.796875 -4.828125 -6.078125 -4.828125 C -6.523438 -4.828125 -6.875 -4.695312 -7.125 -4.4375 C -7.382812 -4.1875 -7.515625 -3.800781 -7.515625 -3.28125 C -7.515625 -2.820312 -7.394531 -2.445312 -7.15625 -2.15625 C -6.914062 -1.875 -6.578125 -1.707031 -6.140625 -1.65625 L -6.234375 -0.59375 C -6.597656 -0.632812 -6.910156 -0.734375 -7.171875 -0.890625 C -7.441406 -1.046875 -7.664062 -1.242188 -7.84375 -1.484375 C -8.019531 -1.734375 -8.148438 -2.007812 -8.234375 -2.3125 C -8.328125 -2.625 -8.375 -2.953125 -8.375 -3.296875 C -8.375 -3.753906 -8.316406 -4.148438 -8.203125 -4.484375 C -8.085938 -4.816406 -7.929688 -5.085938 -7.734375 -5.296875 C -7.535156 -5.515625 -7.300781 -5.671875 -7.03125 -5.765625 C -6.769531 -5.867188 -6.488281 -5.921875 -6.1875 -5.921875 C -5.945312 -5.921875 -5.722656 -5.882812 -5.515625 -5.8125 C -5.304688 -5.75 -5.113281 -5.644531 -4.9375 -5.5 C -4.769531 -5.363281 -4.625 -5.1875 -4.5 -4.96875 C -4.382812 -4.75 -4.296875 -4.488281 -4.234375 -4.1875 L -4.21875 -4.1875 C -4.175781 -4.519531 -4.097656 -4.804688 -3.984375 -5.046875 C -3.867188 -5.296875 -3.722656 -5.5 -3.546875 -5.65625 C -3.378906 -5.820312 -3.1875 -5.941406 -2.96875 -6.015625 C -2.75 -6.097656 -2.519531 -6.140625 -2.28125 -6.140625 Z M -2.28125 -6.140625 \"/>\n",
       "</symbol>\n",
       "<symbol overflow=\"visible\" id=\"glyph1-4\">\n",
       "<path style=\"stroke:none;\" d=\"M -1.875 -5.15625 L 0 -5.15625 L 0 -4.171875 L -1.875 -4.171875 L -1.875 -0.28125 L -2.6875 -0.28125 L -8.25 -4.0625 L -8.25 -5.15625 L -2.703125 -5.15625 L -2.703125 -6.328125 L -1.875 -6.328125 Z M -7.0625 -4.171875 C -7.039062 -4.160156 -7.003906 -4.140625 -6.953125 -4.109375 C -6.898438 -4.078125 -6.835938 -4.039062 -6.765625 -4 C -6.691406 -3.957031 -6.617188 -3.914062 -6.546875 -3.875 C -6.472656 -3.84375 -6.414062 -3.8125 -6.375 -3.78125 L -3.25 -1.65625 C -3.21875 -1.632812 -3.175781 -1.601562 -3.125 -1.5625 C -3.070312 -1.53125 -3.019531 -1.492188 -2.96875 -1.453125 C -2.914062 -1.421875 -2.863281 -1.382812 -2.8125 -1.34375 C -2.769531 -1.300781 -2.734375 -1.269531 -2.703125 -1.25 L -2.703125 -4.171875 Z M -7.0625 -4.171875 \"/>\n",
       "</symbol>\n",
       "<symbol overflow=\"visible\" id=\"glyph1-5\">\n",
       "<path style=\"stroke:none;\" d=\"M -2.6875 -6.171875 C -2.269531 -6.171875 -1.890625 -6.109375 -1.546875 -5.984375 C -1.203125 -5.859375 -0.90625 -5.671875 -0.65625 -5.421875 C -0.414062 -5.179688 -0.222656 -4.878906 -0.078125 -4.515625 C 0.0546875 -4.148438 0.125 -3.722656 0.125 -3.234375 C 0.125 -2.804688 0.0703125 -2.429688 -0.03125 -2.109375 C -0.132812 -1.785156 -0.273438 -1.507812 -0.453125 -1.28125 C -0.628906 -1.0625 -0.835938 -0.882812 -1.078125 -0.75 C -1.316406 -0.625 -1.570312 -0.535156 -1.84375 -0.484375 L -1.96875 -1.546875 C -1.8125 -1.585938 -1.660156 -1.644531 -1.515625 -1.71875 C -1.367188 -1.800781 -1.238281 -1.910156 -1.125 -2.046875 C -1.007812 -2.179688 -0.914062 -2.347656 -0.84375 -2.546875 C -0.78125 -2.742188 -0.75 -2.984375 -0.75 -3.265625 C -0.75 -3.535156 -0.789062 -3.78125 -0.875 -4 C -0.957031 -4.226562 -1.078125 -4.421875 -1.234375 -4.578125 C -1.398438 -4.734375 -1.601562 -4.851562 -1.84375 -4.9375 C -2.082031 -5.03125 -2.359375 -5.078125 -2.671875 -5.078125 C -2.921875 -5.078125 -3.148438 -5.035156 -3.359375 -4.953125 C -3.578125 -4.867188 -3.765625 -4.75 -3.921875 -4.59375 C -4.078125 -4.445312 -4.195312 -4.257812 -4.28125 -4.03125 C -4.363281 -3.8125 -4.40625 -3.5625 -4.40625 -3.28125 C -4.40625 -3.113281 -4.390625 -2.953125 -4.359375 -2.796875 C -4.328125 -2.648438 -4.285156 -2.515625 -4.234375 -2.390625 C -4.179688 -2.265625 -4.117188 -2.148438 -4.046875 -2.046875 C -3.972656 -1.941406 -3.894531 -1.84375 -3.8125 -1.75 L -3.8125 -0.71875 L -8.25 -1 L -8.25 -5.6875 L -7.359375 -5.6875 L -7.359375 -1.953125 L -4.734375 -1.796875 C -4.878906 -1.984375 -5.003906 -2.21875 -5.109375 -2.5 C -5.210938 -2.78125 -5.265625 -3.113281 -5.265625 -3.5 C -5.265625 -3.914062 -5.203125 -4.285156 -5.078125 -4.609375 C -4.953125 -4.941406 -4.773438 -5.222656 -4.546875 -5.453125 C -4.316406 -5.679688 -4.046875 -5.859375 -3.734375 -5.984375 C -3.421875 -6.109375 -3.070312 -6.171875 -2.6875 -6.171875 Z M -2.6875 -6.171875 \"/>\n",
       "</symbol>\n",
       "<symbol overflow=\"visible\" id=\"glyph1-6\">\n",
       "<path style=\"stroke:none;\" d=\"M -2.703125 -6.140625 C -2.285156 -6.140625 -1.90625 -6.082031 -1.5625 -5.96875 C -1.21875 -5.851562 -0.921875 -5.679688 -0.671875 -5.453125 C -0.421875 -5.234375 -0.222656 -4.957031 -0.078125 -4.625 C 0.0546875 -4.289062 0.125 -3.910156 0.125 -3.484375 C 0.125 -3.003906 0.03125 -2.582031 -0.15625 -2.21875 C -0.34375 -1.863281 -0.609375 -1.566406 -0.953125 -1.328125 C -1.296875 -1.085938 -1.71875 -0.90625 -2.21875 -0.78125 C -2.726562 -0.664062 -3.300781 -0.609375 -3.9375 -0.609375 C -4.675781 -0.609375 -5.320312 -0.675781 -5.875 -0.8125 C -6.425781 -0.945312 -6.882812 -1.140625 -7.25 -1.390625 C -7.625 -1.648438 -7.90625 -1.960938 -8.09375 -2.328125 C -8.28125 -2.691406 -8.375 -3.101562 -8.375 -3.5625 C -8.375 -3.84375 -8.34375 -4.101562 -8.28125 -4.34375 C -8.226562 -4.59375 -8.132812 -4.816406 -8 -5.015625 C -7.875 -5.222656 -7.703125 -5.398438 -7.484375 -5.546875 C -7.273438 -5.703125 -7.015625 -5.828125 -6.703125 -5.921875 L -6.515625 -4.90625 C -6.867188 -4.800781 -7.125 -4.628906 -7.28125 -4.390625 C -7.445312 -4.148438 -7.53125 -3.867188 -7.53125 -3.546875 C -7.53125 -3.265625 -7.457031 -3.003906 -7.3125 -2.765625 C -7.175781 -2.535156 -6.972656 -2.335938 -6.703125 -2.171875 C -6.429688 -2.003906 -6.085938 -1.875 -5.671875 -1.78125 C -5.265625 -1.695312 -4.789062 -1.65625 -4.25 -1.65625 C -4.601562 -1.851562 -4.875 -2.125 -5.0625 -2.46875 C -5.25 -2.8125 -5.34375 -3.207031 -5.34375 -3.65625 C -5.34375 -4.03125 -5.28125 -4.367188 -5.15625 -4.671875 C -5.03125 -4.984375 -4.851562 -5.25 -4.625 -5.46875 C -4.40625 -5.6875 -4.128906 -5.851562 -3.796875 -5.96875 C -3.472656 -6.082031 -3.109375 -6.140625 -2.703125 -6.140625 Z M -2.65625 -5.078125 C -2.9375 -5.078125 -3.191406 -5.039062 -3.421875 -4.96875 C -3.660156 -4.894531 -3.859375 -4.785156 -4.015625 -4.640625 C -4.179688 -4.503906 -4.304688 -4.332031 -4.390625 -4.125 C -4.484375 -3.925781 -4.53125 -3.6875 -4.53125 -3.40625 C -4.53125 -3.21875 -4.5 -3.023438 -4.4375 -2.828125 C -4.382812 -2.628906 -4.289062 -2.453125 -4.15625 -2.296875 C -4.03125 -2.140625 -3.863281 -2.007812 -3.65625 -1.90625 C -3.457031 -1.8125 -3.207031 -1.765625 -2.90625 -1.765625 C -2.601562 -1.765625 -2.316406 -1.800781 -2.046875 -1.875 C -1.785156 -1.957031 -1.554688 -2.070312 -1.359375 -2.21875 C -1.171875 -2.363281 -1.019531 -2.539062 -0.90625 -2.75 C -0.789062 -2.957031 -0.734375 -3.191406 -0.734375 -3.453125 C -0.734375 -3.703125 -0.773438 -3.925781 -0.859375 -4.125 C -0.953125 -4.332031 -1.082031 -4.503906 -1.25 -4.640625 C -1.414062 -4.785156 -1.613281 -4.894531 -1.84375 -4.96875 C -2.082031 -5.039062 -2.351562 -5.078125 -2.65625 -5.078125 Z M -2.65625 -5.078125 \"/>\n",
       "</symbol>\n",
       "<symbol overflow=\"visible\" id=\"glyph1-7\">\n",
       "<path style=\"stroke:none;\" d=\"M -7.40625 -6.078125 C -6.769531 -5.660156 -6.160156 -5.273438 -5.578125 -4.921875 C -4.992188 -4.578125 -4.40625 -4.28125 -3.8125 -4.03125 C -3.21875 -3.78125 -2.609375 -3.582031 -1.984375 -3.4375 C -1.367188 -3.300781 -0.707031 -3.234375 0 -3.234375 L 0 -2.140625 C -0.65625 -2.140625 -1.300781 -2.21875 -1.9375 -2.375 C -2.570312 -2.53125 -3.195312 -2.738281 -3.8125 -3 C -4.425781 -3.269531 -5.023438 -3.578125 -5.609375 -3.921875 C -6.203125 -4.273438 -6.785156 -4.648438 -7.359375 -5.046875 L -7.359375 -0.609375 L -8.25 -0.609375 L -8.25 -6.078125 Z M -7.40625 -6.078125 \"/>\n",
       "</symbol>\n",
       "<symbol overflow=\"visible\" id=\"glyph1-8\">\n",
       "<path style=\"stroke:none;\" d=\"M 0 -8 L -5.515625 -8 C -5.710938 -8 -5.910156 -8 -6.109375 -8 C -6.316406 -8.007812 -6.507812 -8.019531 -6.6875 -8.03125 C -6.882812 -8.039062 -7.078125 -8.050781 -7.265625 -8.0625 C -7.066406 -8 -6.867188 -7.941406 -6.671875 -7.890625 C -6.503906 -7.835938 -6.328125 -7.78125 -6.140625 -7.71875 C -5.953125 -7.65625 -5.78125 -7.597656 -5.625 -7.546875 L 0 -5.40625 L 0 -4.625 L -5.625 -2.46875 C -5.6875 -2.4375 -5.753906 -2.40625 -5.828125 -2.375 C -5.910156 -2.351562 -5.992188 -2.328125 -6.078125 -2.296875 C -6.171875 -2.273438 -6.257812 -2.25 -6.34375 -2.21875 C -6.4375 -2.1875 -6.53125 -2.160156 -6.625 -2.140625 C -6.832031 -2.066406 -7.046875 -2 -7.265625 -1.9375 C -7.046875 -1.945312 -6.828125 -1.953125 -6.609375 -1.953125 C -6.429688 -1.960938 -6.238281 -1.96875 -6.03125 -1.96875 C -5.832031 -1.976562 -5.660156 -1.984375 -5.515625 -1.984375 L 0 -1.984375 L 0 -0.984375 L -8.25 -0.984375 L -8.25 -2.453125 L -2.53125 -4.65625 C -2.457031 -4.675781 -2.359375 -4.707031 -2.234375 -4.75 C -2.109375 -4.789062 -1.976562 -4.828125 -1.84375 -4.859375 C -1.71875 -4.898438 -1.597656 -4.929688 -1.484375 -4.953125 C -1.367188 -4.984375 -1.28125 -5.003906 -1.21875 -5.015625 C -1.28125 -5.035156 -1.367188 -5.0625 -1.484375 -5.09375 C -1.609375 -5.125 -1.734375 -5.15625 -1.859375 -5.1875 C -1.984375 -5.226562 -2.109375 -5.269531 -2.234375 -5.3125 C -2.359375 -5.351562 -2.457031 -5.390625 -2.53125 -5.421875 L -8.25 -7.578125 L -8.25 -9.015625 L 0 -9.015625 Z M 0 -8 \"/>\n",
       "</symbol>\n",
       "<symbol overflow=\"visible\" id=\"glyph1-9\">\n",
       "<path style=\"stroke:none;\" d=\"M -2.953125 -1.625 C -2.617188 -1.625 -2.3125 -1.65625 -2.03125 -1.71875 C -1.75 -1.789062 -1.507812 -1.894531 -1.3125 -2.03125 C -1.113281 -2.175781 -0.957031 -2.359375 -0.84375 -2.578125 C -0.726562 -2.804688 -0.671875 -3.078125 -0.671875 -3.390625 C -0.671875 -3.847656 -0.757812 -4.210938 -0.9375 -4.484375 C -1.125 -4.765625 -1.359375 -4.953125 -1.640625 -5.046875 L -1.390625 -5.96875 C -1.210938 -5.90625 -1.035156 -5.8125 -0.859375 -5.6875 C -0.679688 -5.570312 -0.519531 -5.414062 -0.375 -5.21875 C -0.226562 -5.019531 -0.109375 -4.769531 -0.015625 -4.46875 C 0.078125 -4.164062 0.125 -3.804688 0.125 -3.390625 C 0.125 -2.453125 -0.15625 -1.738281 -0.71875 -1.25 C -1.28125 -0.757812 -2.113281 -0.515625 -3.21875 -0.515625 C -3.8125 -0.515625 -4.3125 -0.585938 -4.71875 -0.734375 C -5.132812 -0.878906 -5.46875 -1.082031 -5.71875 -1.34375 C -5.976562 -1.601562 -6.164062 -1.90625 -6.28125 -2.25 C -6.394531 -2.59375 -6.453125 -2.957031 -6.453125 -3.34375 C -6.453125 -3.875 -6.363281 -4.316406 -6.1875 -4.671875 C -6.019531 -5.035156 -5.785156 -5.320312 -5.484375 -5.53125 C -5.179688 -5.75 -4.820312 -5.90625 -4.40625 -6 C -4 -6.09375 -3.5625 -6.140625 -3.09375 -6.140625 L -2.953125 -6.140625 Z M -3.75 -5.046875 C -4.425781 -4.992188 -4.914062 -4.828125 -5.21875 -4.546875 C -5.519531 -4.265625 -5.671875 -3.859375 -5.671875 -3.328125 C -5.671875 -3.148438 -5.644531 -2.960938 -5.59375 -2.765625 C -5.539062 -2.578125 -5.441406 -2.398438 -5.296875 -2.234375 C -5.148438 -2.078125 -4.953125 -1.941406 -4.703125 -1.828125 C -4.453125 -1.710938 -4.132812 -1.644531 -3.75 -1.625 Z M -3.75 -5.046875 \"/>\n",
       "</symbol>\n",
       "<symbol overflow=\"visible\" id=\"glyph1-10\">\n",
       "<path style=\"stroke:none;\" d=\"M 0.125 -2.421875 C 0.125 -1.785156 -0.0390625 -1.304688 -0.375 -0.984375 C -0.71875 -0.671875 -1.179688 -0.515625 -1.765625 -0.515625 C -2.179688 -0.515625 -2.523438 -0.59375 -2.796875 -0.75 C -3.066406 -0.90625 -3.273438 -1.109375 -3.421875 -1.359375 C -3.578125 -1.617188 -3.679688 -1.910156 -3.734375 -2.234375 C -3.796875 -2.566406 -3.832031 -2.90625 -3.84375 -3.25 L -3.875 -4.671875 L -4.21875 -4.671875 C -4.476562 -4.671875 -4.695312 -4.640625 -4.875 -4.578125 C -5.0625 -4.523438 -5.210938 -4.441406 -5.328125 -4.328125 C -5.441406 -4.222656 -5.523438 -4.082031 -5.578125 -3.90625 C -5.628906 -3.738281 -5.65625 -3.539062 -5.65625 -3.3125 C -5.65625 -3.101562 -5.640625 -2.914062 -5.609375 -2.75 C -5.578125 -2.59375 -5.523438 -2.453125 -5.453125 -2.328125 C -5.378906 -2.210938 -5.273438 -2.113281 -5.140625 -2.03125 C -5.015625 -1.957031 -4.847656 -1.910156 -4.640625 -1.890625 L -4.75 -0.796875 C -5 -0.828125 -5.226562 -0.894531 -5.4375 -1 C -5.644531 -1.113281 -5.820312 -1.269531 -5.96875 -1.46875 C -6.125 -1.675781 -6.242188 -1.929688 -6.328125 -2.234375 C -6.410156 -2.535156 -6.453125 -2.898438 -6.453125 -3.328125 C -6.453125 -4.128906 -6.269531 -4.726562 -5.90625 -5.125 C -5.539062 -5.53125 -5.015625 -5.734375 -4.328125 -5.734375 L -1.59375 -5.734375 C -1.28125 -5.734375 -1.046875 -5.773438 -0.890625 -5.859375 C -0.734375 -5.941406 -0.65625 -6.097656 -0.65625 -6.328125 C -0.65625 -6.390625 -0.65625 -6.445312 -0.65625 -6.5 C -0.664062 -6.5625 -0.675781 -6.617188 -0.6875 -6.671875 L -0.03125 -6.671875 C 0 -6.535156 0.0195312 -6.398438 0.03125 -6.265625 C 0.0507812 -6.140625 0.0625 -6.003906 0.0625 -5.859375 C 0.0625 -5.660156 0.0351562 -5.488281 -0.015625 -5.34375 C -0.0664062 -5.207031 -0.144531 -5.09375 -0.25 -5 C -0.363281 -4.90625 -0.5 -4.832031 -0.65625 -4.78125 C -0.8125 -4.738281 -1 -4.710938 -1.21875 -4.703125 L -1.21875 -4.671875 C -1.007812 -4.554688 -0.820312 -4.429688 -0.65625 -4.296875 C -0.5 -4.160156 -0.363281 -4.003906 -0.25 -3.828125 C -0.132812 -3.648438 -0.046875 -3.445312 0.015625 -3.21875 C 0.0859375 -2.988281 0.125 -2.722656 0.125 -2.421875 Z M -0.671875 -2.671875 C -0.671875 -3.003906 -0.734375 -3.296875 -0.859375 -3.546875 C -0.984375 -3.796875 -1.140625 -4.003906 -1.328125 -4.171875 C -1.523438 -4.335938 -1.734375 -4.460938 -1.953125 -4.546875 C -2.179688 -4.628906 -2.398438 -4.671875 -2.609375 -4.671875 L -3.125 -4.671875 L -3.109375 -3.515625 C -3.097656 -3.253906 -3.078125 -3.007812 -3.046875 -2.78125 C -3.015625 -2.550781 -2.945312 -2.347656 -2.84375 -2.171875 C -2.75 -1.992188 -2.613281 -1.851562 -2.4375 -1.75 C -2.269531 -1.644531 -2.039062 -1.59375 -1.75 -1.59375 C -1.40625 -1.59375 -1.140625 -1.6875 -0.953125 -1.875 C -0.765625 -2.0625 -0.671875 -2.328125 -0.671875 -2.671875 Z M -0.671875 -2.671875 \"/>\n",
       "</symbol>\n",
       "<symbol overflow=\"visible\" id=\"glyph1-11\">\n",
       "<path style=\"stroke:none;\" d=\"M 0 -4.828125 L -4.015625 -4.828125 C -4.328125 -4.828125 -4.585938 -4.804688 -4.796875 -4.765625 C -5.003906 -4.722656 -5.171875 -4.648438 -5.296875 -4.546875 C -5.421875 -4.441406 -5.507812 -4.304688 -5.5625 -4.140625 C -5.613281 -3.972656 -5.640625 -3.769531 -5.640625 -3.53125 C -5.640625 -3.28125 -5.59375 -3.050781 -5.5 -2.84375 C -5.414062 -2.644531 -5.289062 -2.472656 -5.125 -2.328125 C -4.957031 -2.191406 -4.753906 -2.082031 -4.515625 -2 C -4.273438 -1.925781 -3.992188 -1.890625 -3.671875 -1.890625 L 0 -1.890625 L 0 -0.828125 L -4.984375 -0.828125 C -5.117188 -0.828125 -5.257812 -0.828125 -5.40625 -0.828125 C -5.550781 -0.828125 -5.6875 -0.820312 -5.8125 -0.8125 C -5.945312 -0.8125 -6.0625 -0.804688 -6.15625 -0.796875 C -6.25 -0.796875 -6.3125 -0.796875 -6.34375 -0.796875 L -6.34375 -1.796875 C -6.320312 -1.796875 -6.265625 -1.796875 -6.171875 -1.796875 C -6.085938 -1.804688 -5.988281 -1.8125 -5.875 -1.8125 C -5.769531 -1.820312 -5.660156 -1.828125 -5.546875 -1.828125 C -5.429688 -1.835938 -5.332031 -1.84375 -5.25 -1.84375 L -5.25 -1.859375 C -5.4375 -1.960938 -5.601562 -2.070312 -5.75 -2.1875 C -5.90625 -2.3125 -6.03125 -2.453125 -6.125 -2.609375 C -6.226562 -2.773438 -6.304688 -2.957031 -6.359375 -3.15625 C -6.421875 -3.363281 -6.453125 -3.609375 -6.453125 -3.890625 C -6.453125 -4.234375 -6.410156 -4.53125 -6.328125 -4.78125 C -6.242188 -5.039062 -6.109375 -5.253906 -5.921875 -5.421875 C -5.742188 -5.585938 -5.515625 -5.707031 -5.234375 -5.78125 C -4.953125 -5.851562 -4.613281 -5.890625 -4.21875 -5.890625 L 0 -5.890625 Z M 0 -4.828125 \"/>\n",
       "</symbol>\n",
       "<symbol overflow=\"visible\" id=\"glyph1-12\">\n",
       "<path style=\"stroke:none;\" d=\"M -2.71875 -0.53125 L -3.65625 -0.53125 L -3.65625 -3.46875 L -2.71875 -3.46875 Z M -2.71875 -0.53125 \"/>\n",
       "</symbol>\n",
       "<symbol overflow=\"visible\" id=\"glyph1-13\">\n",
       "<path style=\"stroke:none;\" d=\"M -2.28125 -7.453125 C -1.9375 -7.453125 -1.613281 -7.382812 -1.3125 -7.25 C -1.019531 -7.113281 -0.765625 -6.90625 -0.546875 -6.625 C -0.335938 -6.34375 -0.171875 -5.988281 -0.046875 -5.5625 C 0.0664062 -5.132812 0.125 -4.628906 0.125 -4.046875 C 0.125 -3.015625 -0.0546875 -2.210938 -0.421875 -1.640625 C -0.785156 -1.066406 -1.304688 -0.703125 -1.984375 -0.546875 L -2.203125 -1.625 C -1.984375 -1.6875 -1.785156 -1.769531 -1.609375 -1.875 C -1.429688 -1.988281 -1.28125 -2.140625 -1.15625 -2.328125 C -1.03125 -2.523438 -0.929688 -2.765625 -0.859375 -3.046875 C -0.785156 -3.335938 -0.75 -3.679688 -0.75 -4.078125 C -0.75 -4.410156 -0.773438 -4.71875 -0.828125 -5 C -0.890625 -5.28125 -0.976562 -5.519531 -1.09375 -5.71875 C -1.21875 -5.914062 -1.367188 -6.066406 -1.546875 -6.171875 C -1.734375 -6.285156 -1.957031 -6.34375 -2.21875 -6.34375 C -2.488281 -6.34375 -2.707031 -6.28125 -2.875 -6.15625 C -3.039062 -6.039062 -3.175781 -5.867188 -3.28125 -5.640625 C -3.394531 -5.421875 -3.488281 -5.15625 -3.5625 -4.84375 C -3.644531 -4.539062 -3.726562 -4.203125 -3.8125 -3.828125 C -3.863281 -3.585938 -3.914062 -3.351562 -3.96875 -3.125 C -4.03125 -2.894531 -4.101562 -2.671875 -4.1875 -2.453125 C -4.269531 -2.242188 -4.367188 -2.046875 -4.484375 -1.859375 C -4.597656 -1.671875 -4.734375 -1.507812 -4.890625 -1.375 C -5.054688 -1.238281 -5.242188 -1.128906 -5.453125 -1.046875 C -5.660156 -0.972656 -5.898438 -0.9375 -6.171875 -0.9375 C -6.554688 -0.9375 -6.890625 -1.015625 -7.171875 -1.171875 C -7.453125 -1.328125 -7.679688 -1.546875 -7.859375 -1.828125 C -8.046875 -2.109375 -8.175781 -2.441406 -8.25 -2.828125 C -8.332031 -3.210938 -8.375 -3.625 -8.375 -4.0625 C -8.375 -4.570312 -8.332031 -5.007812 -8.25 -5.375 C -8.175781 -5.738281 -8.054688 -6.046875 -7.890625 -6.296875 C -7.734375 -6.546875 -7.535156 -6.742188 -7.296875 -6.890625 C -7.066406 -7.046875 -6.796875 -7.171875 -6.484375 -7.265625 L -6.28125 -6.15625 C -6.488281 -6.101562 -6.671875 -6.023438 -6.828125 -5.921875 C -6.984375 -5.816406 -7.113281 -5.679688 -7.21875 -5.515625 C -7.320312 -5.347656 -7.398438 -5.144531 -7.453125 -4.90625 C -7.503906 -4.664062 -7.53125 -4.382812 -7.53125 -4.0625 C -7.53125 -3.675781 -7.492188 -3.351562 -7.421875 -3.09375 C -7.359375 -2.832031 -7.269531 -2.625 -7.15625 -2.46875 C -7.039062 -2.3125 -6.898438 -2.195312 -6.734375 -2.125 C -6.578125 -2.050781 -6.410156 -2.015625 -6.234375 -2.015625 C -5.984375 -2.015625 -5.78125 -2.078125 -5.625 -2.203125 C -5.46875 -2.328125 -5.332031 -2.492188 -5.21875 -2.703125 C -5.113281 -2.921875 -5.023438 -3.164062 -4.953125 -3.4375 C -4.890625 -3.71875 -4.820312 -4.015625 -4.75 -4.328125 C -4.695312 -4.578125 -4.640625 -4.828125 -4.578125 -5.078125 C -4.515625 -5.335938 -4.441406 -5.582031 -4.359375 -5.8125 C -4.273438 -6.039062 -4.175781 -6.253906 -4.0625 -6.453125 C -3.945312 -6.648438 -3.804688 -6.820312 -3.640625 -6.96875 C -3.484375 -7.125 -3.289062 -7.242188 -3.0625 -7.328125 C -2.84375 -7.410156 -2.582031 -7.453125 -2.28125 -7.453125 Z M -2.28125 -7.453125 \"/>\n",
       "</symbol>\n",
       "<symbol overflow=\"visible\" id=\"glyph1-14\">\n",
       "<path style=\"stroke:none;\" d=\"M 0.125 -2.84375 C 0.125 -2.03125 -0.144531 -1.4375 -0.6875 -1.0625 C -1.238281 -0.6875 -2.054688 -0.5 -3.140625 -0.5 C -4.242188 -0.5 -5.070312 -0.691406 -5.625 -1.078125 C -6.175781 -1.460938 -6.453125 -2.050781 -6.453125 -2.84375 C -6.453125 -3.101562 -6.425781 -3.332031 -6.375 -3.53125 C -6.332031 -3.726562 -6.265625 -3.90625 -6.171875 -4.0625 C -6.085938 -4.226562 -5.972656 -4.367188 -5.828125 -4.484375 C -5.691406 -4.609375 -5.535156 -4.71875 -5.359375 -4.8125 L -5.359375 -4.828125 C -5.453125 -4.828125 -5.554688 -4.828125 -5.671875 -4.828125 C -5.796875 -4.835938 -5.910156 -4.84375 -6.015625 -4.84375 C -6.117188 -4.851562 -6.207031 -4.859375 -6.28125 -4.859375 C -6.363281 -4.867188 -6.410156 -4.878906 -6.421875 -4.890625 L -6.421875 -5.90625 C -6.359375 -5.894531 -6.1875 -5.882812 -5.90625 -5.875 C -5.625 -5.863281 -5.21875 -5.859375 -4.6875 -5.859375 L 2.484375 -5.859375 L 2.484375 -4.8125 L -0.078125 -4.8125 C -0.179688 -4.8125 -0.285156 -4.8125 -0.390625 -4.8125 C -0.503906 -4.8125 -0.609375 -4.816406 -0.703125 -4.828125 C -0.816406 -4.828125 -0.929688 -4.828125 -1.046875 -4.828125 C -0.847656 -4.722656 -0.675781 -4.609375 -0.53125 -4.484375 C -0.382812 -4.359375 -0.257812 -4.21875 -0.15625 -4.0625 C -0.0625 -3.90625 0.00390625 -3.722656 0.046875 -3.515625 C 0.0976562 -3.316406 0.125 -3.09375 0.125 -2.84375 Z M -3.25 -4.8125 C -3.707031 -4.8125 -4.09375 -4.769531 -4.40625 -4.6875 C -4.71875 -4.613281 -4.96875 -4.5 -5.15625 -4.34375 C -5.34375 -4.195312 -5.472656 -4.019531 -5.546875 -3.8125 C -5.628906 -3.601562 -5.671875 -3.375 -5.671875 -3.125 C -5.671875 -2.851562 -5.617188 -2.617188 -5.515625 -2.421875 C -5.421875 -2.234375 -5.269531 -2.078125 -5.0625 -1.953125 C -4.863281 -1.835938 -4.609375 -1.75 -4.296875 -1.6875 C -3.984375 -1.632812 -3.609375 -1.609375 -3.171875 -1.609375 C -2.753906 -1.609375 -2.390625 -1.632812 -2.078125 -1.6875 C -1.765625 -1.738281 -1.503906 -1.820312 -1.296875 -1.9375 C -1.097656 -2.0625 -0.945312 -2.21875 -0.84375 -2.40625 C -0.75 -2.601562 -0.703125 -2.835938 -0.703125 -3.109375 C -0.703125 -3.335938 -0.738281 -3.554688 -0.8125 -3.765625 C -0.882812 -3.972656 -1.015625 -4.15625 -1.203125 -4.3125 C -1.390625 -4.46875 -1.644531 -4.585938 -1.96875 -4.671875 C -2.300781 -4.765625 -2.726562 -4.8125 -3.25 -4.8125 Z M -3.25 -4.8125 \"/>\n",
       "</symbol>\n",
       "<symbol overflow=\"visible\" id=\"glyph1-15\">\n",
       "<path style=\"stroke:none;\" d=\"M -6.34375 -1.84375 L -2.328125 -1.84375 C -2.015625 -1.84375 -1.753906 -1.863281 -1.546875 -1.90625 C -1.335938 -1.945312 -1.171875 -2.019531 -1.046875 -2.125 C -0.921875 -2.226562 -0.832031 -2.363281 -0.78125 -2.53125 C -0.726562 -2.695312 -0.703125 -2.898438 -0.703125 -3.140625 C -0.703125 -3.390625 -0.742188 -3.613281 -0.828125 -3.8125 C -0.921875 -4.019531 -1.046875 -4.191406 -1.203125 -4.328125 C -1.367188 -4.472656 -1.570312 -4.582031 -1.8125 -4.65625 C -2.0625 -4.738281 -2.347656 -4.78125 -2.671875 -4.78125 L -6.34375 -4.78125 L -6.34375 -5.84375 L -1.359375 -5.84375 C -1.222656 -5.84375 -1.082031 -5.84375 -0.9375 -5.84375 C -0.789062 -5.84375 -0.648438 -5.84375 -0.515625 -5.84375 C -0.390625 -5.851562 -0.28125 -5.859375 -0.1875 -5.859375 C -0.09375 -5.867188 -0.03125 -5.875 0 -5.875 L 0 -4.875 C -0.0195312 -4.875 -0.0703125 -4.867188 -0.15625 -4.859375 C -0.238281 -4.859375 -0.335938 -4.851562 -0.453125 -4.84375 C -0.566406 -4.84375 -0.679688 -4.835938 -0.796875 -4.828125 C -0.910156 -4.828125 -1.003906 -4.828125 -1.078125 -4.828125 L -1.078125 -4.8125 C -0.898438 -4.71875 -0.734375 -4.609375 -0.578125 -4.484375 C -0.429688 -4.359375 -0.304688 -4.21875 -0.203125 -4.0625 C -0.0976562 -3.90625 -0.0195312 -3.722656 0.03125 -3.515625 C 0.09375 -3.304688 0.125 -3.066406 0.125 -2.796875 C 0.125 -2.441406 0.0820312 -2.132812 0 -1.875 C -0.09375 -1.625 -0.226562 -1.414062 -0.40625 -1.25 C -0.59375 -1.09375 -0.828125 -0.972656 -1.109375 -0.890625 C -1.390625 -0.816406 -1.722656 -0.78125 -2.109375 -0.78125 L -6.34375 -0.78125 Z M -6.34375 -1.84375 \"/>\n",
       "</symbol>\n",
       "<symbol overflow=\"visible\" id=\"glyph1-16\">\n",
       "<path style=\"stroke:none;\" d=\"M 0 -0.828125 L -4.859375 -0.828125 C -4.992188 -0.828125 -5.128906 -0.828125 -5.265625 -0.828125 C -5.410156 -0.828125 -5.546875 -0.820312 -5.671875 -0.8125 C -5.796875 -0.8125 -5.914062 -0.804688 -6.03125 -0.796875 C -6.144531 -0.796875 -6.25 -0.796875 -6.34375 -0.796875 L -6.34375 -1.796875 C -6.25 -1.796875 -6.144531 -1.796875 -6.03125 -1.796875 C -5.914062 -1.804688 -5.796875 -1.8125 -5.671875 -1.8125 C -5.554688 -1.820312 -5.441406 -1.828125 -5.328125 -1.828125 C -5.210938 -1.835938 -5.117188 -1.84375 -5.046875 -1.84375 L -5.046875 -1.859375 C -5.285156 -1.929688 -5.492188 -2.007812 -5.671875 -2.09375 C -5.847656 -2.1875 -5.992188 -2.285156 -6.109375 -2.390625 C -6.222656 -2.503906 -6.304688 -2.640625 -6.359375 -2.796875 C -6.421875 -2.953125 -6.453125 -3.144531 -6.453125 -3.375 C -6.453125 -3.457031 -6.445312 -3.535156 -6.4375 -3.609375 C -6.425781 -3.691406 -6.414062 -3.753906 -6.40625 -3.796875 L -5.4375 -3.796875 C -5.457031 -3.722656 -5.46875 -3.640625 -5.46875 -3.546875 C -5.476562 -3.453125 -5.484375 -3.347656 -5.484375 -3.234375 C -5.484375 -2.992188 -5.425781 -2.785156 -5.3125 -2.609375 C -5.207031 -2.441406 -5.054688 -2.304688 -4.859375 -2.203125 C -4.671875 -2.097656 -4.441406 -2.019531 -4.171875 -1.96875 C -3.910156 -1.914062 -3.625 -1.890625 -3.3125 -1.890625 L 0 -1.890625 Z M 0 -0.828125 \"/>\n",
       "</symbol>\n",
       "<symbol overflow=\"visible\" id=\"glyph1-17\">\n",
       "<path style=\"stroke:none;\" d=\"M -1.015625 -4.8125 C -0.609375 -4.613281 -0.316406 -4.351562 -0.140625 -4.03125 C 0.0351562 -3.707031 0.125 -3.3125 0.125 -2.84375 C 0.125 -2.039062 -0.144531 -1.445312 -0.6875 -1.0625 C -1.226562 -0.6875 -2.046875 -0.5 -3.140625 -0.5 C -5.347656 -0.5 -6.453125 -1.28125 -6.453125 -2.84375 C -6.453125 -3.320312 -6.363281 -3.71875 -6.1875 -4.03125 C -6.019531 -4.351562 -5.742188 -4.613281 -5.359375 -4.8125 L -5.359375 -4.828125 C -5.398438 -4.828125 -5.460938 -4.820312 -5.546875 -4.8125 C -5.628906 -4.8125 -5.710938 -4.8125 -5.796875 -4.8125 C -5.890625 -4.8125 -5.976562 -4.8125 -6.0625 -4.8125 C -6.144531 -4.8125 -6.203125 -4.8125 -6.234375 -4.8125 L -8.703125 -4.8125 L -8.703125 -5.859375 L -1.3125 -5.859375 C -1.15625 -5.859375 -1.003906 -5.859375 -0.859375 -5.859375 C -0.722656 -5.867188 -0.597656 -5.875 -0.484375 -5.875 C -0.367188 -5.882812 -0.265625 -5.890625 -0.171875 -5.890625 C -0.0859375 -5.890625 -0.03125 -5.894531 0 -5.90625 L 0 -4.890625 C -0.0390625 -4.878906 -0.0976562 -4.867188 -0.171875 -4.859375 C -0.242188 -4.859375 -0.328125 -4.851562 -0.421875 -4.84375 C -0.515625 -4.84375 -0.613281 -4.835938 -0.71875 -4.828125 C -0.820312 -4.828125 -0.921875 -4.828125 -1.015625 -4.828125 Z M -3.171875 -1.609375 C -2.734375 -1.609375 -2.359375 -1.632812 -2.046875 -1.6875 C -1.734375 -1.75 -1.476562 -1.835938 -1.28125 -1.953125 C -1.082031 -2.078125 -0.9375 -2.234375 -0.84375 -2.421875 C -0.75 -2.609375 -0.703125 -2.835938 -0.703125 -3.109375 C -0.703125 -3.378906 -0.742188 -3.617188 -0.828125 -3.828125 C -0.921875 -4.046875 -1.066406 -4.226562 -1.265625 -4.375 C -1.472656 -4.519531 -1.738281 -4.628906 -2.0625 -4.703125 C -2.382812 -4.773438 -2.78125 -4.8125 -3.25 -4.8125 C -3.695312 -4.8125 -4.078125 -4.773438 -4.390625 -4.703125 C -4.703125 -4.628906 -4.953125 -4.519531 -5.140625 -4.375 C -5.328125 -4.226562 -5.460938 -4.050781 -5.546875 -3.84375 C -5.628906 -3.632812 -5.671875 -3.394531 -5.671875 -3.125 C -5.671875 -2.863281 -5.625 -2.640625 -5.53125 -2.453125 C -5.445312 -2.265625 -5.304688 -2.109375 -5.109375 -1.984375 C -4.910156 -1.859375 -4.648438 -1.765625 -4.328125 -1.703125 C -4.015625 -1.640625 -3.628906 -1.609375 -3.171875 -1.609375 Z M -3.171875 -1.609375 \"/>\n",
       "</symbol>\n",
       "<symbol overflow=\"visible\" id=\"glyph1-18\">\n",
       "<path style=\"stroke:none;\" d=\"\"/>\n",
       "</symbol>\n",
       "<symbol overflow=\"visible\" id=\"glyph1-19\">\n",
       "<path style=\"stroke:none;\" d=\"M 0 -0.984375 L -8.25 -0.984375 L -8.25 -7.25 L -7.34375 -7.25 L -7.34375 -2.109375 L -4.6875 -2.109375 L -4.6875 -6.890625 L -3.796875 -6.890625 L -3.796875 -2.109375 L -0.921875 -2.109375 L -0.921875 -7.484375 L 0 -7.484375 Z M 0 -0.984375 \"/>\n",
       "</symbol>\n",
       "<symbol overflow=\"visible\" id=\"glyph1-20\">\n",
       "<path style=\"stroke:none;\" d=\"M -3.171875 -6.171875 C -2.066406 -6.171875 -1.238281 -5.925781 -0.6875 -5.4375 C -0.144531 -4.945312 0.125 -4.238281 0.125 -3.3125 C 0.125 -2.875 0.0546875 -2.476562 -0.078125 -2.125 C -0.210938 -1.78125 -0.414062 -1.488281 -0.6875 -1.25 C -0.96875 -1.007812 -1.3125 -0.820312 -1.71875 -0.6875 C -2.132812 -0.5625 -2.617188 -0.5 -3.171875 -0.5 C -5.359375 -0.5 -6.453125 -1.445312 -6.453125 -3.34375 C -6.453125 -3.832031 -6.382812 -4.253906 -6.25 -4.609375 C -6.113281 -4.972656 -5.910156 -5.269531 -5.640625 -5.5 C -5.367188 -5.726562 -5.023438 -5.894531 -4.609375 -6 C -4.203125 -6.113281 -3.722656 -6.171875 -3.171875 -6.171875 Z M -3.171875 -5.0625 C -3.671875 -5.0625 -4.078125 -5.019531 -4.390625 -4.9375 C -4.710938 -4.863281 -4.96875 -4.753906 -5.15625 -4.609375 C -5.351562 -4.460938 -5.488281 -4.285156 -5.5625 -4.078125 C -5.632812 -3.867188 -5.671875 -3.628906 -5.671875 -3.359375 C -5.671875 -3.085938 -5.628906 -2.84375 -5.546875 -2.625 C -5.472656 -2.414062 -5.335938 -2.234375 -5.140625 -2.078125 C -4.953125 -1.929688 -4.695312 -1.816406 -4.375 -1.734375 C -4.050781 -1.648438 -3.648438 -1.609375 -3.171875 -1.609375 C -2.679688 -1.609375 -2.273438 -1.648438 -1.953125 -1.734375 C -1.628906 -1.828125 -1.367188 -1.945312 -1.171875 -2.09375 C -0.984375 -2.25 -0.847656 -2.425781 -0.765625 -2.625 C -0.691406 -2.832031 -0.65625 -3.054688 -0.65625 -3.296875 C -0.65625 -3.566406 -0.691406 -3.8125 -0.765625 -4.03125 C -0.847656 -4.25 -0.984375 -4.429688 -1.171875 -4.578125 C -1.367188 -4.734375 -1.628906 -4.851562 -1.953125 -4.9375 C -2.273438 -5.019531 -2.679688 -5.0625 -3.171875 -5.0625 Z M -3.171875 -5.0625 \"/>\n",
       "</symbol>\n",
       "<symbol overflow=\"visible\" id=\"glyph2-0\">\n",
       "<path style=\"stroke:none;\" d=\"M 0.484375 0 L 0.484375 -9.609375 L 4.3125 -9.609375 L 4.3125 0 Z M 0.953125 -0.484375 L 3.828125 -0.484375 L 3.828125 -9.125 L 0.953125 -9.125 Z M 0.953125 -0.484375 \"/>\n",
       "</symbol>\n",
       "<symbol overflow=\"visible\" id=\"glyph2-1\">\n",
       "<path style=\"stroke:none;\" d=\"M 9.1875 0 L 9.1875 -6 C 9.1875 -6.238281 9.191406 -6.484375 9.203125 -6.734375 C 9.210938 -6.992188 9.222656 -7.226562 9.234375 -7.4375 C 9.242188 -7.6875 9.253906 -7.929688 9.265625 -8.171875 C 9.160156 -7.796875 9.066406 -7.441406 8.984375 -7.109375 C 8.941406 -6.972656 8.898438 -6.828125 8.859375 -6.671875 C 8.816406 -6.523438 8.773438 -6.378906 8.734375 -6.234375 C 8.703125 -6.097656 8.664062 -5.96875 8.625 -5.84375 C 8.582031 -5.71875 8.550781 -5.613281 8.53125 -5.53125 L 6.734375 0 L 5.265625 0 L 3.46875 -5.53125 C 3.445312 -5.613281 3.414062 -5.71875 3.375 -5.84375 C 3.34375 -5.96875 3.304688 -6.097656 3.265625 -6.234375 C 3.222656 -6.378906 3.179688 -6.523438 3.140625 -6.671875 C 3.097656 -6.828125 3.054688 -6.972656 3.015625 -7.109375 C 2.921875 -7.441406 2.820312 -7.796875 2.71875 -8.171875 C 2.738281 -7.898438 2.753906 -7.628906 2.765625 -7.359375 C 2.773438 -7.140625 2.785156 -6.90625 2.796875 -6.65625 C 2.804688 -6.40625 2.8125 -6.1875 2.8125 -6 L 2.8125 0 L 0.96875 0 L 0.96875 -9.90625 L 3.75 -9.90625 L 5.515625 -4.375 C 5.554688 -4.226562 5.601562 -4.046875 5.65625 -3.828125 C 5.71875 -3.617188 5.773438 -3.414062 5.828125 -3.21875 C 5.878906 -2.988281 5.9375 -2.75 6 -2.5 C 6.070312 -2.75 6.140625 -2.984375 6.203125 -3.203125 C 6.222656 -3.304688 6.25 -3.410156 6.28125 -3.515625 C 6.3125 -3.617188 6.335938 -3.71875 6.359375 -3.8125 C 6.390625 -3.90625 6.421875 -4 6.453125 -4.09375 C 6.484375 -4.1875 6.507812 -4.265625 6.53125 -4.328125 L 8.265625 -9.90625 L 11.03125 -9.90625 L 11.03125 0 Z M 9.1875 0 \"/>\n",
       "</symbol>\n",
       "<symbol overflow=\"visible\" id=\"glyph2-2\">\n",
       "<path style=\"stroke:none;\" d=\"M 9.046875 -2.859375 C 9.046875 -2.410156 8.960938 -2 8.796875 -1.625 C 8.628906 -1.257812 8.375 -0.941406 8.03125 -0.671875 C 7.6875 -0.410156 7.242188 -0.207031 6.703125 -0.0625 C 6.171875 0.0703125 5.535156 0.140625 4.796875 0.140625 C 4.140625 0.140625 3.5625 0.0820312 3.0625 -0.03125 C 2.5625 -0.15625 2.128906 -0.332031 1.765625 -0.5625 C 1.410156 -0.789062 1.117188 -1.070312 0.890625 -1.40625 C 0.671875 -1.75 0.515625 -2.140625 0.421875 -2.578125 L 2.421875 -2.90625 C 2.472656 -2.6875 2.550781 -2.484375 2.65625 -2.296875 C 2.769531 -2.117188 2.921875 -1.960938 3.109375 -1.828125 C 3.296875 -1.691406 3.53125 -1.585938 3.8125 -1.515625 C 4.101562 -1.441406 4.453125 -1.40625 4.859375 -1.40625 C 5.554688 -1.40625 6.09375 -1.507812 6.46875 -1.71875 C 6.84375 -1.9375 7.03125 -2.273438 7.03125 -2.734375 C 7.03125 -3.003906 6.953125 -3.226562 6.796875 -3.40625 C 6.648438 -3.582031 6.453125 -3.722656 6.203125 -3.828125 C 5.953125 -3.941406 5.664062 -4.035156 5.34375 -4.109375 C 5.019531 -4.191406 4.679688 -4.265625 4.328125 -4.328125 C 4.046875 -4.398438 3.765625 -4.46875 3.484375 -4.53125 C 3.203125 -4.601562 2.929688 -4.6875 2.671875 -4.78125 C 2.421875 -4.882812 2.1875 -5.003906 1.96875 -5.140625 C 1.75 -5.273438 1.554688 -5.441406 1.390625 -5.640625 C 1.234375 -5.835938 1.109375 -6.070312 1.015625 -6.34375 C 0.921875 -6.613281 0.875 -6.925781 0.875 -7.28125 C 0.875 -7.78125 0.972656 -8.203125 1.171875 -8.546875 C 1.367188 -8.898438 1.640625 -9.1875 1.984375 -9.40625 C 2.335938 -9.632812 2.753906 -9.800781 3.234375 -9.90625 C 3.722656 -10.007812 4.253906 -10.0625 4.828125 -10.0625 C 5.472656 -10.0625 6.023438 -10.007812 6.484375 -9.90625 C 6.953125 -9.800781 7.34375 -9.644531 7.65625 -9.4375 C 7.96875 -9.238281 8.210938 -8.984375 8.390625 -8.671875 C 8.566406 -8.359375 8.695312 -7.992188 8.78125 -7.578125 L 6.78125 -7.296875 C 6.675781 -7.722656 6.460938 -8.046875 6.140625 -8.265625 C 5.828125 -8.484375 5.375 -8.59375 4.78125 -8.59375 C 4.414062 -8.59375 4.113281 -8.5625 3.875 -8.5 C 3.632812 -8.4375 3.441406 -8.347656 3.296875 -8.234375 C 3.148438 -8.128906 3.046875 -8.003906 2.984375 -7.859375 C 2.921875 -7.710938 2.890625 -7.5625 2.890625 -7.40625 C 2.890625 -7.164062 2.945312 -6.960938 3.0625 -6.796875 C 3.1875 -6.640625 3.351562 -6.507812 3.5625 -6.40625 C 3.78125 -6.300781 4.035156 -6.210938 4.328125 -6.140625 C 4.617188 -6.066406 4.941406 -5.992188 5.296875 -5.921875 C 5.597656 -5.859375 5.898438 -5.789062 6.203125 -5.71875 C 6.515625 -5.644531 6.804688 -5.554688 7.078125 -5.453125 C 7.359375 -5.359375 7.617188 -5.238281 7.859375 -5.09375 C 8.097656 -4.957031 8.304688 -4.785156 8.484375 -4.578125 C 8.660156 -4.378906 8.796875 -4.140625 8.890625 -3.859375 C 8.992188 -3.578125 9.046875 -3.242188 9.046875 -2.859375 Z M 9.046875 -2.859375 \"/>\n",
       "</symbol>\n",
       "<symbol overflow=\"visible\" id=\"glyph2-3\">\n",
       "<path style=\"stroke:none;\" d=\"M 0.96875 0 L 0.96875 -9.90625 L 8.75 -9.90625 L 8.75 -8.3125 L 3.03125 -8.3125 L 3.03125 -5.8125 L 8.328125 -5.8125 L 8.328125 -4.21875 L 3.03125 -4.21875 L 3.03125 -1.609375 L 9.046875 -1.609375 L 9.046875 0 Z M 0.96875 0 \"/>\n",
       "</symbol>\n",
       "<symbol overflow=\"visible\" id=\"glyph2-4\">\n",
       "<path style=\"stroke:none;\" d=\"\"/>\n",
       "</symbol>\n",
       "<symbol overflow=\"visible\" id=\"glyph2-5\">\n",
       "<path style=\"stroke:none;\" d=\"M 8.234375 -3.8125 C 8.234375 -3.226562 8.148438 -2.691406 7.984375 -2.203125 C 7.828125 -1.722656 7.585938 -1.304688 7.265625 -0.953125 C 6.941406 -0.609375 6.535156 -0.335938 6.046875 -0.140625 C 5.566406 0.046875 5.007812 0.140625 4.375 0.140625 C 3.75 0.140625 3.195312 0.046875 2.71875 -0.140625 C 2.25 -0.335938 1.851562 -0.609375 1.53125 -0.953125 C 1.21875 -1.304688 0.976562 -1.722656 0.8125 -2.203125 C 0.644531 -2.691406 0.5625 -3.226562 0.5625 -3.8125 C 0.5625 -4.375 0.640625 -4.894531 0.796875 -5.375 C 0.953125 -5.863281 1.1875 -6.28125 1.5 -6.625 C 1.820312 -6.976562 2.222656 -7.253906 2.703125 -7.453125 C 3.191406 -7.648438 3.757812 -7.75 4.40625 -7.75 C 5.09375 -7.75 5.675781 -7.648438 6.15625 -7.453125 C 6.644531 -7.253906 7.039062 -6.976562 7.34375 -6.625 C 7.65625 -6.28125 7.878906 -5.867188 8.015625 -5.390625 C 8.160156 -4.910156 8.234375 -4.382812 8.234375 -3.8125 Z M 6.171875 -3.8125 C 6.171875 -4.71875 6.019531 -5.375 5.71875 -5.78125 C 5.425781 -6.1875 5 -6.390625 4.4375 -6.390625 C 3.851562 -6.390625 3.40625 -6.179688 3.09375 -5.765625 C 2.789062 -5.359375 2.640625 -4.707031 2.640625 -3.8125 C 2.640625 -3.351562 2.679688 -2.957031 2.765625 -2.625 C 2.847656 -2.300781 2.960938 -2.035156 3.109375 -1.828125 C 3.253906 -1.617188 3.429688 -1.460938 3.640625 -1.359375 C 3.859375 -1.253906 4.09375 -1.203125 4.34375 -1.203125 C 4.632812 -1.203125 4.894531 -1.253906 5.125 -1.359375 C 5.351562 -1.460938 5.546875 -1.617188 5.703125 -1.828125 C 5.859375 -2.035156 5.972656 -2.300781 6.046875 -2.625 C 6.128906 -2.957031 6.171875 -3.351562 6.171875 -3.8125 Z M 6.171875 -3.8125 \"/>\n",
       "</symbol>\n",
       "<symbol overflow=\"visible\" id=\"glyph2-6\">\n",
       "<path style=\"stroke:none;\" d=\"M 3.328125 -6.28125 L 3.328125 0 L 1.359375 0 L 1.359375 -6.28125 L 0.25 -6.28125 L 0.25 -7.609375 L 1.359375 -7.609375 L 1.359375 -8.40625 C 1.359375 -8.695312 1.390625 -8.960938 1.453125 -9.203125 C 1.523438 -9.453125 1.644531 -9.664062 1.8125 -9.84375 C 1.988281 -10.03125 2.21875 -10.175781 2.5 -10.28125 C 2.789062 -10.382812 3.148438 -10.4375 3.578125 -10.4375 C 3.796875 -10.4375 4.015625 -10.425781 4.234375 -10.40625 C 4.453125 -10.382812 4.648438 -10.359375 4.828125 -10.328125 L 4.828125 -9.046875 C 4.742188 -9.066406 4.644531 -9.082031 4.53125 -9.09375 C 4.425781 -9.101562 4.332031 -9.109375 4.25 -9.109375 C 4.0625 -9.109375 3.90625 -9.085938 3.78125 -9.046875 C 3.664062 -9.015625 3.570312 -8.960938 3.5 -8.890625 C 3.4375 -8.816406 3.390625 -8.722656 3.359375 -8.609375 C 3.335938 -8.492188 3.328125 -8.359375 3.328125 -8.203125 L 3.328125 -7.609375 L 4.828125 -7.609375 L 4.828125 -6.28125 Z M 3.328125 -6.28125 \"/>\n",
       "</symbol>\n",
       "<symbol overflow=\"visible\" id=\"glyph2-7\">\n",
       "<path style=\"stroke:none;\" d=\"M 7.765625 0 L 5.46875 -3.765625 L 3.03125 -3.765625 L 3.03125 0 L 0.96875 0 L 0.96875 -9.90625 L 5.921875 -9.90625 C 6.535156 -9.90625 7.070312 -9.835938 7.53125 -9.703125 C 8 -9.566406 8.382812 -9.367188 8.6875 -9.109375 C 9 -8.859375 9.226562 -8.550781 9.375 -8.1875 C 9.53125 -7.820312 9.609375 -7.410156 9.609375 -6.953125 C 9.609375 -6.585938 9.550781 -6.25 9.4375 -5.9375 C 9.332031 -5.632812 9.179688 -5.363281 8.984375 -5.125 C 8.796875 -4.882812 8.566406 -4.679688 8.296875 -4.515625 C 8.035156 -4.359375 7.742188 -4.242188 7.421875 -4.171875 L 10.109375 0 Z M 7.53125 -6.875 C 7.53125 -7.351562 7.367188 -7.707031 7.046875 -7.9375 C 6.734375 -8.175781 6.285156 -8.296875 5.703125 -8.296875 L 3.03125 -8.296875 L 3.03125 -5.375 L 5.75 -5.375 C 6.0625 -5.375 6.328125 -5.410156 6.546875 -5.484375 C 6.773438 -5.554688 6.957031 -5.660156 7.09375 -5.796875 C 7.238281 -5.929688 7.347656 -6.085938 7.421875 -6.265625 C 7.492188 -6.453125 7.53125 -6.65625 7.53125 -6.875 Z M 7.53125 -6.875 \"/>\n",
       "</symbol>\n",
       "<symbol overflow=\"visible\" id=\"glyph2-8\">\n",
       "<path style=\"stroke:none;\" d=\"M 1 -8.984375 L 1 -10.4375 L 2.984375 -10.4375 L 2.984375 -8.984375 Z M 1 0 L 1 -7.609375 L 2.984375 -7.609375 L 2.984375 0 Z M 1 0 \"/>\n",
       "</symbol>\n",
       "<symbol overflow=\"visible\" id=\"glyph2-9\">\n",
       "<path style=\"stroke:none;\" d=\"M 5.9375 0 C 5.925781 -0.0390625 5.914062 -0.109375 5.90625 -0.203125 C 5.894531 -0.296875 5.882812 -0.398438 5.875 -0.515625 C 5.863281 -0.640625 5.851562 -0.765625 5.84375 -0.890625 C 5.832031 -1.023438 5.828125 -1.140625 5.828125 -1.234375 L 5.796875 -1.234375 C 5.566406 -0.742188 5.25 -0.390625 4.84375 -0.171875 C 4.4375 0.0351562 3.945312 0.140625 3.375 0.140625 C 2.894531 0.140625 2.476562 0.0390625 2.125 -0.15625 C 1.78125 -0.351562 1.492188 -0.625 1.265625 -0.96875 C 1.035156 -1.320312 0.863281 -1.738281 0.75 -2.21875 C 0.644531 -2.707031 0.59375 -3.234375 0.59375 -3.796875 C 0.59375 -4.367188 0.648438 -4.894531 0.765625 -5.375 C 0.878906 -5.863281 1.054688 -6.28125 1.296875 -6.625 C 1.535156 -6.976562 1.835938 -7.253906 2.203125 -7.453125 C 2.566406 -7.648438 3.003906 -7.75 3.515625 -7.75 C 3.765625 -7.75 4.003906 -7.722656 4.234375 -7.671875 C 4.460938 -7.617188 4.675781 -7.539062 4.875 -7.4375 C 5.070312 -7.332031 5.25 -7.191406 5.40625 -7.015625 C 5.570312 -6.847656 5.707031 -6.644531 5.8125 -6.40625 L 5.828125 -6.40625 C 5.828125 -6.457031 5.828125 -6.523438 5.828125 -6.609375 C 5.828125 -6.703125 5.828125 -6.804688 5.828125 -6.921875 C 5.828125 -7.046875 5.820312 -7.171875 5.8125 -7.296875 C 5.8125 -7.421875 5.8125 -7.539062 5.8125 -7.65625 L 5.8125 -10.4375 L 7.796875 -10.4375 L 7.796875 -1.65625 C 7.796875 -1.289062 7.800781 -0.960938 7.8125 -0.671875 C 7.832031 -0.378906 7.84375 -0.15625 7.84375 0 Z M 5.84375 -3.84375 C 5.84375 -4.34375 5.796875 -4.757812 5.703125 -5.09375 C 5.609375 -5.425781 5.484375 -5.6875 5.328125 -5.875 C 5.179688 -6.070312 5.007812 -6.207031 4.8125 -6.28125 C 4.613281 -6.363281 4.414062 -6.40625 4.21875 -6.40625 C 3.96875 -6.40625 3.742188 -6.351562 3.546875 -6.25 C 3.347656 -6.15625 3.179688 -6.003906 3.046875 -5.796875 C 2.921875 -5.585938 2.820312 -5.316406 2.75 -4.984375 C 2.6875 -4.660156 2.65625 -4.265625 2.65625 -3.796875 C 2.65625 -2.066406 3.171875 -1.203125 4.203125 -1.203125 C 4.398438 -1.203125 4.597656 -1.242188 4.796875 -1.328125 C 4.992188 -1.421875 5.171875 -1.566406 5.328125 -1.765625 C 5.484375 -1.960938 5.609375 -2.234375 5.703125 -2.578125 C 5.796875 -2.921875 5.84375 -3.34375 5.84375 -3.84375 Z M 5.84375 -3.84375 \"/>\n",
       "</symbol>\n",
       "<symbol overflow=\"visible\" id=\"glyph2-10\">\n",
       "<path style=\"stroke:none;\" d=\"M 4.1875 3.046875 C 3.6875 3.046875 3.242188 2.992188 2.859375 2.890625 C 2.484375 2.796875 2.160156 2.65625 1.890625 2.46875 C 1.617188 2.289062 1.398438 2.078125 1.234375 1.828125 C 1.078125 1.578125 0.96875 1.300781 0.90625 1 L 2.890625 0.78125 C 2.953125 1.082031 3.097656 1.316406 3.328125 1.484375 C 3.566406 1.660156 3.875 1.75 4.25 1.75 C 4.476562 1.75 4.691406 1.710938 4.890625 1.640625 C 5.085938 1.578125 5.253906 1.46875 5.390625 1.3125 C 5.523438 1.15625 5.628906 0.945312 5.703125 0.6875 C 5.785156 0.4375 5.828125 0.117188 5.828125 -0.265625 C 5.828125 -0.390625 5.828125 -0.519531 5.828125 -0.65625 C 5.828125 -0.789062 5.832031 -0.914062 5.84375 -1.03125 C 5.84375 -1.164062 5.84375 -1.289062 5.84375 -1.40625 L 5.828125 -1.40625 C 5.597656 -0.914062 5.273438 -0.5625 4.859375 -0.34375 C 4.441406 -0.125 3.953125 -0.015625 3.390625 -0.015625 C 2.898438 -0.015625 2.476562 -0.109375 2.125 -0.296875 C 1.78125 -0.484375 1.492188 -0.75 1.265625 -1.09375 C 1.035156 -1.4375 0.863281 -1.84375 0.75 -2.3125 C 0.644531 -2.78125 0.59375 -3.300781 0.59375 -3.875 C 0.59375 -4.457031 0.648438 -4.984375 0.765625 -5.453125 C 0.878906 -5.929688 1.054688 -6.34375 1.296875 -6.6875 C 1.546875 -7.03125 1.851562 -7.296875 2.21875 -7.484375 C 2.582031 -7.671875 3.019531 -7.765625 3.53125 -7.765625 C 4.039062 -7.765625 4.492188 -7.65625 4.890625 -7.4375 C 5.296875 -7.21875 5.609375 -6.867188 5.828125 -6.390625 L 5.859375 -6.390625 C 5.859375 -6.484375 5.863281 -6.59375 5.875 -6.71875 C 5.882812 -6.851562 5.894531 -6.976562 5.90625 -7.09375 C 5.914062 -7.21875 5.925781 -7.328125 5.9375 -7.421875 C 5.945312 -7.515625 5.957031 -7.578125 5.96875 -7.609375 L 7.84375 -7.609375 C 7.832031 -7.441406 7.820312 -7.203125 7.8125 -6.890625 C 7.800781 -6.585938 7.796875 -6.242188 7.796875 -5.859375 L 7.796875 -0.234375 C 7.796875 0.316406 7.710938 0.796875 7.546875 1.203125 C 7.390625 1.617188 7.15625 1.960938 6.84375 2.234375 C 6.539062 2.503906 6.164062 2.707031 5.71875 2.84375 C 5.269531 2.976562 4.757812 3.046875 4.1875 3.046875 Z M 5.84375 -3.90625 C 5.84375 -4.382812 5.796875 -4.78125 5.703125 -5.09375 C 5.609375 -5.414062 5.484375 -5.671875 5.328125 -5.859375 C 5.179688 -6.054688 5.007812 -6.195312 4.8125 -6.28125 C 4.625 -6.363281 4.429688 -6.40625 4.234375 -6.40625 C 3.984375 -6.40625 3.757812 -6.351562 3.5625 -6.25 C 3.363281 -6.15625 3.195312 -6.003906 3.0625 -5.796875 C 2.925781 -5.585938 2.820312 -5.320312 2.75 -5 C 2.6875 -4.6875 2.65625 -4.3125 2.65625 -3.875 C 2.65625 -3.050781 2.785156 -2.429688 3.046875 -2.015625 C 3.304688 -1.597656 3.695312 -1.390625 4.21875 -1.390625 C 4.414062 -1.390625 4.609375 -1.425781 4.796875 -1.5 C 4.992188 -1.582031 5.171875 -1.71875 5.328125 -1.90625 C 5.484375 -2.101562 5.609375 -2.363281 5.703125 -2.6875 C 5.796875 -3.007812 5.84375 -3.414062 5.84375 -3.90625 Z M 5.84375 -3.90625 \"/>\n",
       "</symbol>\n",
       "<symbol overflow=\"visible\" id=\"glyph2-11\">\n",
       "<path style=\"stroke:none;\" d=\"M 4.125 0.140625 C 3.570312 0.140625 3.078125 0.0625 2.640625 -0.09375 C 2.203125 -0.257812 1.828125 -0.507812 1.515625 -0.84375 C 1.210938 -1.175781 0.976562 -1.585938 0.8125 -2.078125 C 0.644531 -2.578125 0.5625 -3.164062 0.5625 -3.84375 C 0.5625 -4.570312 0.65625 -5.179688 0.84375 -5.671875 C 1.039062 -6.171875 1.304688 -6.570312 1.640625 -6.875 C 1.972656 -7.1875 2.351562 -7.410156 2.78125 -7.546875 C 3.21875 -7.679688 3.675781 -7.75 4.15625 -7.75 C 4.75 -7.75 5.257812 -7.644531 5.6875 -7.4375 C 6.113281 -7.226562 6.460938 -6.9375 6.734375 -6.5625 C 7.003906 -6.1875 7.203125 -5.738281 7.328125 -5.21875 C 7.453125 -4.695312 7.515625 -4.117188 7.515625 -3.484375 L 7.515625 -3.421875 L 2.640625 -3.421875 C 2.640625 -3.109375 2.664062 -2.8125 2.71875 -2.53125 C 2.78125 -2.257812 2.875 -2.023438 3 -1.828125 C 3.125 -1.628906 3.285156 -1.472656 3.484375 -1.359375 C 3.691406 -1.242188 3.9375 -1.1875 4.21875 -1.1875 C 4.5625 -1.1875 4.84375 -1.257812 5.0625 -1.40625 C 5.289062 -1.550781 5.453125 -1.78125 5.546875 -2.09375 L 7.40625 -1.921875 C 7.320312 -1.710938 7.203125 -1.484375 7.046875 -1.234375 C 6.898438 -0.992188 6.695312 -0.769531 6.4375 -0.5625 C 6.1875 -0.363281 5.875 -0.195312 5.5 -0.0625 C 5.125 0.0703125 4.664062 0.140625 4.125 0.140625 Z M 4.125 -6.5 C 3.914062 -6.5 3.722656 -6.460938 3.546875 -6.390625 C 3.378906 -6.328125 3.226562 -6.222656 3.09375 -6.078125 C 2.96875 -5.929688 2.863281 -5.738281 2.78125 -5.5 C 2.707031 -5.269531 2.664062 -4.988281 2.65625 -4.65625 L 5.609375 -4.65625 C 5.566406 -5.269531 5.414062 -5.726562 5.15625 -6.03125 C 4.90625 -6.34375 4.5625 -6.5 4.125 -6.5 Z M 4.125 -6.5 \"/>\n",
       "</symbol>\n",
       "<symbol overflow=\"visible\" id=\"glyph2-12\">\n",
       "<path style=\"stroke:none;\" d=\"M 7.421875 -2.21875 C 7.421875 -1.851562 7.34375 -1.523438 7.1875 -1.234375 C 7.039062 -0.941406 6.820312 -0.691406 6.53125 -0.484375 C 6.238281 -0.285156 5.878906 -0.128906 5.453125 -0.015625 C 5.035156 0.0859375 4.554688 0.140625 4.015625 0.140625 C 3.535156 0.140625 3.097656 0.101562 2.703125 0.03125 C 2.316406 -0.0390625 1.976562 -0.15625 1.6875 -0.3125 C 1.394531 -0.476562 1.148438 -0.6875 0.953125 -0.9375 C 0.753906 -1.195312 0.601562 -1.519531 0.5 -1.90625 L 2.25 -2.15625 C 2.300781 -1.945312 2.375 -1.773438 2.46875 -1.640625 C 2.570312 -1.515625 2.695312 -1.414062 2.84375 -1.34375 C 2.988281 -1.269531 3.15625 -1.222656 3.34375 -1.203125 C 3.539062 -1.179688 3.765625 -1.171875 4.015625 -1.171875 C 4.242188 -1.171875 4.453125 -1.179688 4.640625 -1.203125 C 4.835938 -1.234375 5.003906 -1.28125 5.140625 -1.34375 C 5.285156 -1.40625 5.398438 -1.492188 5.484375 -1.609375 C 5.566406 -1.722656 5.609375 -1.867188 5.609375 -2.046875 C 5.609375 -2.234375 5.550781 -2.382812 5.4375 -2.5 C 5.320312 -2.625 5.160156 -2.71875 4.953125 -2.78125 C 4.753906 -2.851562 4.519531 -2.914062 4.25 -2.96875 C 3.988281 -3.03125 3.703125 -3.097656 3.390625 -3.171875 C 3.078125 -3.234375 2.765625 -3.3125 2.453125 -3.40625 C 2.140625 -3.507812 1.863281 -3.644531 1.625 -3.8125 C 1.382812 -3.988281 1.1875 -4.207031 1.03125 -4.46875 C 0.882812 -4.726562 0.8125 -5.054688 0.8125 -5.453125 C 0.8125 -5.816406 0.878906 -6.140625 1.015625 -6.421875 C 1.160156 -6.703125 1.367188 -6.941406 1.640625 -7.140625 C 1.910156 -7.335938 2.242188 -7.488281 2.640625 -7.59375 C 3.046875 -7.707031 3.507812 -7.765625 4.03125 -7.765625 C 4.445312 -7.765625 4.832031 -7.722656 5.1875 -7.640625 C 5.539062 -7.566406 5.859375 -7.445312 6.140625 -7.28125 C 6.421875 -7.113281 6.65625 -6.898438 6.84375 -6.640625 C 7.03125 -6.378906 7.164062 -6.066406 7.25 -5.703125 L 5.5 -5.515625 C 5.457031 -5.703125 5.394531 -5.851562 5.3125 -5.96875 C 5.226562 -6.09375 5.125 -6.1875 5 -6.25 C 4.875 -6.320312 4.726562 -6.367188 4.5625 -6.390625 C 4.40625 -6.421875 4.226562 -6.4375 4.03125 -6.4375 C 3.5625 -6.4375 3.207031 -6.375 2.96875 -6.25 C 2.738281 -6.132812 2.625 -5.9375 2.625 -5.65625 C 2.625 -5.488281 2.671875 -5.351562 2.765625 -5.25 C 2.859375 -5.144531 2.992188 -5.054688 3.171875 -4.984375 C 3.347656 -4.921875 3.554688 -4.863281 3.796875 -4.8125 C 4.046875 -4.757812 4.3125 -4.703125 4.59375 -4.640625 C 4.945312 -4.554688 5.289062 -4.460938 5.625 -4.359375 C 5.96875 -4.265625 6.269531 -4.128906 6.53125 -3.953125 C 6.800781 -3.773438 7.015625 -3.546875 7.171875 -3.265625 C 7.335938 -2.992188 7.421875 -2.644531 7.421875 -2.21875 Z M 7.421875 -2.21875 \"/>\n",
       "</symbol>\n",
       "<symbol overflow=\"visible\" id=\"glyph2-13\">\n",
       "<path style=\"stroke:none;\" d=\"M 2.953125 0.125 C 2.367188 0.125 1.921875 -0.03125 1.609375 -0.34375 C 1.296875 -0.664062 1.140625 -1.144531 1.140625 -1.78125 L 1.140625 -6.28125 L 0.171875 -6.28125 L 0.171875 -7.609375 L 1.234375 -7.609375 L 1.859375 -9.390625 L 3.09375 -9.390625 L 3.09375 -7.609375 L 4.53125 -7.609375 L 4.53125 -6.28125 L 3.09375 -6.28125 L 3.09375 -2.328125 C 3.09375 -1.953125 3.160156 -1.675781 3.296875 -1.5 C 3.441406 -1.320312 3.660156 -1.234375 3.953125 -1.234375 C 4.078125 -1.234375 4.1875 -1.242188 4.28125 -1.265625 C 4.382812 -1.285156 4.5 -1.3125 4.625 -1.34375 L 4.625 -0.109375 C 4.375 -0.0351562 4.113281 0.0195312 3.84375 0.0625 C 3.570312 0.101562 3.273438 0.125 2.953125 0.125 Z M 2.953125 0.125 \"/>\n",
       "</symbol>\n",
       "<symbol overflow=\"visible\" id=\"glyph2-14\">\n",
       "<path style=\"stroke:none;\" d=\"M 5.484375 0 L 5.484375 -4.265625 C 5.484375 -4.566406 5.460938 -4.835938 5.421875 -5.078125 C 5.378906 -5.328125 5.3125 -5.539062 5.21875 -5.71875 C 5.132812 -5.894531 5.019531 -6.03125 4.875 -6.125 C 4.726562 -6.226562 4.546875 -6.28125 4.328125 -6.28125 C 4.128906 -6.28125 3.945312 -6.222656 3.78125 -6.109375 C 3.613281 -6.003906 3.46875 -5.851562 3.34375 -5.65625 C 3.226562 -5.46875 3.140625 -5.238281 3.078125 -4.96875 C 3.015625 -4.695312 2.984375 -4.398438 2.984375 -4.078125 L 2.984375 0 L 1 0 L 1 -5.90625 C 1 -6.070312 1 -6.238281 1 -6.40625 C 1 -6.582031 0.992188 -6.75 0.984375 -6.90625 C 0.984375 -7.0625 0.976562 -7.203125 0.96875 -7.328125 C 0.96875 -7.453125 0.960938 -7.546875 0.953125 -7.609375 L 2.828125 -7.609375 C 2.835938 -7.554688 2.847656 -7.46875 2.859375 -7.34375 C 2.867188 -7.21875 2.878906 -7.078125 2.890625 -6.921875 C 2.898438 -6.773438 2.90625 -6.625 2.90625 -6.46875 C 2.914062 -6.320312 2.921875 -6.195312 2.921875 -6.09375 L 2.953125 -6.09375 C 3.191406 -6.675781 3.492188 -7.097656 3.859375 -7.359375 C 4.222656 -7.628906 4.660156 -7.765625 5.171875 -7.765625 C 5.753906 -7.765625 6.222656 -7.617188 6.578125 -7.328125 C 6.929688 -7.046875 7.164062 -6.632812 7.28125 -6.09375 L 7.328125 -6.09375 C 7.460938 -6.40625 7.609375 -6.664062 7.765625 -6.875 C 7.921875 -7.09375 8.09375 -7.265625 8.28125 -7.390625 C 8.476562 -7.523438 8.6875 -7.617188 8.90625 -7.671875 C 9.132812 -7.734375 9.378906 -7.765625 9.640625 -7.765625 C 10.054688 -7.765625 10.40625 -7.6875 10.6875 -7.53125 C 10.976562 -7.382812 11.210938 -7.175781 11.390625 -6.90625 C 11.578125 -6.644531 11.710938 -6.335938 11.796875 -5.984375 C 11.878906 -5.628906 11.921875 -5.242188 11.921875 -4.828125 L 11.921875 0 L 9.953125 0 L 9.953125 -4.265625 C 9.953125 -4.566406 9.929688 -4.835938 9.890625 -5.078125 C 9.847656 -5.328125 9.78125 -5.539062 9.6875 -5.71875 C 9.601562 -5.894531 9.484375 -6.03125 9.328125 -6.125 C 9.179688 -6.226562 9.003906 -6.28125 8.796875 -6.28125 C 8.597656 -6.28125 8.414062 -6.226562 8.25 -6.125 C 8.09375 -6.019531 7.953125 -5.875 7.828125 -5.6875 C 7.710938 -5.507812 7.625 -5.289062 7.5625 -5.03125 C 7.5 -4.769531 7.460938 -4.484375 7.453125 -4.171875 L 7.453125 0 Z M 5.484375 0 \"/>\n",
       "</symbol>\n",
       "<symbol overflow=\"visible\" id=\"glyph2-15\">\n",
       "<path style=\"stroke:none;\" d=\"M 2.765625 0.140625 C 2.398438 0.140625 2.070312 0.09375 1.78125 0 C 1.488281 -0.101562 1.242188 -0.253906 1.046875 -0.453125 C 0.847656 -0.648438 0.691406 -0.890625 0.578125 -1.171875 C 0.472656 -1.460938 0.421875 -1.789062 0.421875 -2.15625 C 0.421875 -2.601562 0.5 -2.976562 0.65625 -3.28125 C 0.8125 -3.59375 1.023438 -3.84375 1.296875 -4.03125 C 1.566406 -4.21875 1.882812 -4.351562 2.25 -4.4375 C 2.625 -4.53125 3.015625 -4.582031 3.421875 -4.59375 L 5.0625 -4.609375 L 5.0625 -5 C 5.0625 -5.28125 5.035156 -5.507812 4.984375 -5.6875 C 4.941406 -5.875 4.875 -6.023438 4.78125 -6.140625 C 4.6875 -6.265625 4.566406 -6.347656 4.421875 -6.390625 C 4.285156 -6.441406 4.128906 -6.46875 3.953125 -6.46875 C 3.785156 -6.46875 3.632812 -6.453125 3.5 -6.421875 C 3.375 -6.390625 3.265625 -6.332031 3.171875 -6.25 C 3.078125 -6.164062 3 -6.054688 2.9375 -5.921875 C 2.882812 -5.785156 2.847656 -5.609375 2.828125 -5.390625 L 0.765625 -5.5 C 0.816406 -5.832031 0.914062 -6.132812 1.0625 -6.40625 C 1.21875 -6.675781 1.425781 -6.910156 1.6875 -7.109375 C 1.957031 -7.316406 2.285156 -7.472656 2.671875 -7.578125 C 3.054688 -7.691406 3.507812 -7.75 4.03125 -7.75 C 4.507812 -7.75 4.929688 -7.691406 5.296875 -7.578125 C 5.671875 -7.460938 5.988281 -7.285156 6.25 -7.046875 C 6.507812 -6.816406 6.707031 -6.53125 6.84375 -6.1875 C 6.976562 -5.851562 7.046875 -5.460938 7.046875 -5.015625 L 7.046875 -2.25 C 7.046875 -2.070312 7.050781 -1.910156 7.0625 -1.765625 C 7.082031 -1.628906 7.113281 -1.507812 7.15625 -1.40625 C 7.195312 -1.3125 7.257812 -1.238281 7.34375 -1.1875 C 7.425781 -1.144531 7.535156 -1.125 7.671875 -1.125 C 7.816406 -1.125 7.960938 -1.140625 8.109375 -1.171875 L 8.109375 -0.09375 C 7.984375 -0.0703125 7.875 -0.046875 7.78125 -0.015625 C 7.6875 0.00390625 7.59375 0.0195312 7.5 0.03125 C 7.40625 0.0507812 7.304688 0.0625 7.203125 0.0625 C 7.097656 0.0703125 6.976562 0.078125 6.84375 0.078125 C 6.34375 0.078125 5.972656 -0.0390625 5.734375 -0.28125 C 5.492188 -0.519531 5.351562 -0.878906 5.3125 -1.359375 L 5.265625 -1.359375 C 5.003906 -0.878906 4.664062 -0.507812 4.25 -0.25 C 3.84375 0.0078125 3.347656 0.140625 2.765625 0.140625 Z M 5.0625 -3.53125 L 4.046875 -3.515625 C 3.835938 -3.503906 3.640625 -3.484375 3.453125 -3.453125 C 3.265625 -3.429688 3.097656 -3.378906 2.953125 -3.296875 C 2.804688 -3.210938 2.691406 -3.09375 2.609375 -2.9375 C 2.523438 -2.78125 2.484375 -2.570312 2.484375 -2.3125 C 2.484375 -1.945312 2.566406 -1.675781 2.734375 -1.5 C 2.898438 -1.320312 3.117188 -1.234375 3.390625 -1.234375 C 3.648438 -1.234375 3.878906 -1.285156 4.078125 -1.390625 C 4.285156 -1.503906 4.460938 -1.648438 4.609375 -1.828125 C 4.753906 -2.003906 4.863281 -2.207031 4.9375 -2.4375 C 5.019531 -2.664062 5.0625 -2.898438 5.0625 -3.140625 Z M 5.0625 -3.53125 \"/>\n",
       "</symbol>\n",
       "<symbol overflow=\"visible\" id=\"glyph2-16\">\n",
       "<path style=\"stroke:none;\" d=\"M 8.203125 -3.828125 C 8.203125 -3.253906 8.144531 -2.722656 8.03125 -2.234375 C 7.914062 -1.753906 7.738281 -1.335938 7.5 -0.984375 C 7.257812 -0.628906 6.957031 -0.351562 6.59375 -0.15625 C 6.226562 0.0390625 5.796875 0.140625 5.296875 0.140625 C 5.066406 0.140625 4.835938 0.113281 4.609375 0.0625 C 4.390625 0.0195312 4.175781 -0.0507812 3.96875 -0.15625 C 3.769531 -0.269531 3.585938 -0.410156 3.421875 -0.578125 C 3.253906 -0.753906 3.109375 -0.96875 2.984375 -1.21875 L 2.96875 -1.21875 C 2.96875 -1.125 2.960938 -1.015625 2.953125 -0.890625 C 2.953125 -0.765625 2.945312 -0.640625 2.9375 -0.515625 C 2.925781 -0.398438 2.914062 -0.296875 2.90625 -0.203125 C 2.894531 -0.109375 2.882812 -0.0390625 2.875 0 L 0.953125 0 C 0.960938 -0.164062 0.972656 -0.398438 0.984375 -0.703125 C 0.992188 -1.003906 1 -1.347656 1 -1.734375 L 1 -10.4375 L 2.984375 -10.4375 L 2.984375 -7.53125 C 2.984375 -7.375 2.976562 -7.222656 2.96875 -7.078125 C 2.96875 -6.941406 2.96875 -6.8125 2.96875 -6.6875 C 2.96875 -6.550781 2.960938 -6.414062 2.953125 -6.28125 L 2.984375 -6.28125 C 3.222656 -6.8125 3.550781 -7.1875 3.96875 -7.40625 C 4.382812 -7.632812 4.867188 -7.75 5.421875 -7.75 C 5.898438 -7.75 6.316406 -7.648438 6.671875 -7.453125 C 7.023438 -7.265625 7.316406 -6.992188 7.546875 -6.640625 C 7.773438 -6.296875 7.941406 -5.882812 8.046875 -5.40625 C 8.148438 -4.925781 8.203125 -4.398438 8.203125 -3.828125 Z M 6.140625 -3.828125 C 6.140625 -4.691406 6.015625 -5.332031 5.765625 -5.75 C 5.515625 -6.164062 5.125 -6.375 4.59375 -6.375 C 4.394531 -6.375 4.195312 -6.332031 4 -6.25 C 3.800781 -6.175781 3.625 -6.039062 3.46875 -5.84375 C 3.3125 -5.644531 3.1875 -5.375 3.09375 -5.03125 C 3 -4.695312 2.953125 -4.273438 2.953125 -3.765625 C 2.953125 -3.273438 3 -2.863281 3.09375 -2.53125 C 3.1875 -2.207031 3.304688 -1.945312 3.453125 -1.75 C 3.609375 -1.550781 3.785156 -1.410156 3.984375 -1.328125 C 4.179688 -1.242188 4.378906 -1.203125 4.578125 -1.203125 C 5.078125 -1.203125 5.460938 -1.410156 5.734375 -1.828125 C 6.003906 -2.242188 6.140625 -2.910156 6.140625 -3.828125 Z M 6.140625 -3.828125 \"/>\n",
       "</symbol>\n",
       "<symbol overflow=\"visible\" id=\"glyph2-17\">\n",
       "<path style=\"stroke:none;\" d=\"M 4.109375 -1.6875 L 5.859375 -7.609375 L 7.9375 -7.609375 L 4.921875 0.40625 C 4.546875 1.320312 4.15625 1.972656 3.75 2.359375 C 3.300781 2.773438 2.710938 2.984375 1.984375 2.984375 C 1.515625 2.984375 1.101562 2.953125 0.75 2.890625 L 0.75 1.484375 C 1 1.523438 1.222656 1.546875 1.421875 1.546875 C 1.617188 1.546875 1.789062 1.523438 1.9375 1.484375 C 2.09375 1.441406 2.226562 1.367188 2.34375 1.265625 C 2.582031 1.078125 2.800781 0.742188 3 0.265625 L 3.125 -0.078125 L 0.109375 -7.609375 L 2.203125 -7.609375 Z M 4.109375 -1.6875 \"/>\n",
       "</symbol>\n",
       "<symbol overflow=\"visible\" id=\"glyph2-18\">\n",
       "<path style=\"stroke:none;\" d=\"M 5.59375 -1.484375 C 5.976562 -1.484375 6.3125 -1.539062 6.59375 -1.65625 C 6.882812 -1.769531 7.132812 -1.914062 7.34375 -2.09375 C 7.550781 -2.269531 7.722656 -2.46875 7.859375 -2.6875 C 7.992188 -2.914062 8.109375 -3.144531 8.203125 -3.375 L 10.015625 -2.6875 C 9.867188 -2.332031 9.675781 -1.984375 9.4375 -1.640625 C 9.207031 -1.296875 8.914062 -0.992188 8.5625 -0.734375 C 8.207031 -0.472656 7.785156 -0.257812 7.296875 -0.09375 C 6.816406 0.0625 6.25 0.140625 5.59375 0.140625 C 4.738281 0.140625 3.992188 0.015625 3.359375 -0.234375 C 2.734375 -0.492188 2.210938 -0.851562 1.796875 -1.3125 C 1.390625 -1.769531 1.085938 -2.3125 0.890625 -2.9375 C 0.691406 -3.570312 0.59375 -4.257812 0.59375 -5 C 0.59375 -5.769531 0.691406 -6.46875 0.890625 -7.09375 C 1.085938 -7.71875 1.390625 -8.25 1.796875 -8.6875 C 2.203125 -9.125 2.710938 -9.460938 3.328125 -9.703125 C 3.941406 -9.941406 4.664062 -10.0625 5.5 -10.0625 C 6.144531 -10.0625 6.707031 -9.992188 7.1875 -9.859375 C 7.675781 -9.722656 8.097656 -9.53125 8.453125 -9.28125 C 8.804688 -9.03125 9.097656 -8.738281 9.328125 -8.40625 C 9.566406 -8.070312 9.753906 -7.703125 9.890625 -7.296875 L 8.046875 -6.796875 C 7.984375 -7.015625 7.882812 -7.21875 7.75 -7.40625 C 7.613281 -7.601562 7.441406 -7.773438 7.234375 -7.921875 C 7.023438 -8.078125 6.78125 -8.195312 6.5 -8.28125 C 6.21875 -8.375 5.898438 -8.421875 5.546875 -8.421875 C 5.046875 -8.421875 4.613281 -8.335938 4.25 -8.171875 C 3.882812 -8.015625 3.585938 -7.785156 3.359375 -7.484375 C 3.128906 -7.191406 2.957031 -6.832031 2.84375 -6.40625 C 2.738281 -5.988281 2.6875 -5.519531 2.6875 -5 C 2.6875 -4.488281 2.738281 -4.015625 2.84375 -3.578125 C 2.957031 -3.148438 3.128906 -2.78125 3.359375 -2.46875 C 3.597656 -2.164062 3.898438 -1.925781 4.265625 -1.75 C 4.628906 -1.570312 5.070312 -1.484375 5.59375 -1.484375 Z M 5.59375 -1.484375 \"/>\n",
       "</symbol>\n",
       "<symbol overflow=\"visible\" id=\"glyph2-19\">\n",
       "<path style=\"stroke:none;\" d=\"M 5.859375 0 L 3.765625 0 L 0.09375 -9.90625 L 2.265625 -9.90625 L 4.3125 -3.546875 C 4.375 -3.335938 4.4375 -3.117188 4.5 -2.890625 C 4.5625 -2.671875 4.613281 -2.472656 4.65625 -2.296875 C 4.71875 -2.078125 4.773438 -1.867188 4.828125 -1.671875 C 4.867188 -1.867188 4.914062 -2.070312 4.96875 -2.28125 C 5.019531 -2.457031 5.078125 -2.65625 5.140625 -2.875 C 5.203125 -3.101562 5.265625 -3.328125 5.328125 -3.546875 L 7.359375 -9.90625 L 9.515625 -9.90625 Z M 5.859375 0 \"/>\n",
       "</symbol>\n",
       "<symbol overflow=\"visible\" id=\"glyph2-20\">\n",
       "<path style=\"stroke:none;\" d=\"M 1 0 L 1 -5.828125 C 1 -5.992188 1 -6.164062 1 -6.34375 C 1 -6.53125 0.992188 -6.707031 0.984375 -6.875 C 0.984375 -7.039062 0.976562 -7.1875 0.96875 -7.3125 C 0.96875 -7.445312 0.960938 -7.546875 0.953125 -7.609375 L 2.828125 -7.609375 C 2.835938 -7.554688 2.847656 -7.457031 2.859375 -7.3125 C 2.867188 -7.175781 2.878906 -7.023438 2.890625 -6.859375 C 2.898438 -6.703125 2.90625 -6.539062 2.90625 -6.375 C 2.914062 -6.21875 2.921875 -6.085938 2.921875 -5.984375 L 2.953125 -5.984375 C 3.054688 -6.265625 3.15625 -6.515625 3.25 -6.734375 C 3.34375 -6.953125 3.457031 -7.132812 3.59375 -7.28125 C 3.726562 -7.4375 3.890625 -7.554688 4.078125 -7.640625 C 4.265625 -7.722656 4.5 -7.765625 4.78125 -7.765625 C 4.894531 -7.765625 5.007812 -7.753906 5.125 -7.734375 C 5.238281 -7.710938 5.328125 -7.6875 5.390625 -7.65625 L 5.390625 -6 C 5.265625 -6.03125 5.132812 -6.054688 5 -6.078125 C 4.875 -6.097656 4.722656 -6.109375 4.546875 -6.109375 C 4.054688 -6.109375 3.671875 -5.90625 3.390625 -5.5 C 3.117188 -5.101562 2.984375 -4.515625 2.984375 -3.734375 L 2.984375 0 Z M 1 0 \"/>\n",
       "</symbol>\n",
       "<symbol overflow=\"visible\" id=\"glyph2-21\">\n",
       "<path style=\"stroke:none;\" d=\"M 5.9375 0 L 5.9375 -4.265625 C 5.9375 -4.566406 5.910156 -4.835938 5.859375 -5.078125 C 5.816406 -5.328125 5.738281 -5.539062 5.625 -5.71875 C 5.519531 -5.894531 5.378906 -6.03125 5.203125 -6.125 C 5.035156 -6.226562 4.828125 -6.28125 4.578125 -6.28125 C 4.335938 -6.28125 4.117188 -6.222656 3.921875 -6.109375 C 3.734375 -6.003906 3.566406 -5.851562 3.421875 -5.65625 C 3.285156 -5.46875 3.175781 -5.238281 3.09375 -4.96875 C 3.019531 -4.695312 2.984375 -4.398438 2.984375 -4.078125 L 2.984375 0 L 1 0 L 1 -5.90625 C 1 -6.070312 1 -6.238281 1 -6.40625 C 1 -6.582031 0.992188 -6.75 0.984375 -6.90625 C 0.984375 -7.0625 0.976562 -7.203125 0.96875 -7.328125 C 0.96875 -7.453125 0.960938 -7.546875 0.953125 -7.609375 L 2.828125 -7.609375 C 2.835938 -7.554688 2.847656 -7.46875 2.859375 -7.34375 C 2.867188 -7.21875 2.878906 -7.078125 2.890625 -6.921875 C 2.898438 -6.773438 2.90625 -6.625 2.90625 -6.46875 C 2.914062 -6.320312 2.921875 -6.195312 2.921875 -6.09375 L 2.953125 -6.09375 C 3.222656 -6.675781 3.554688 -7.097656 3.953125 -7.359375 C 4.359375 -7.628906 4.84375 -7.765625 5.40625 -7.765625 C 5.863281 -7.765625 6.25 -7.6875 6.5625 -7.53125 C 6.882812 -7.382812 7.144531 -7.175781 7.34375 -6.90625 C 7.539062 -6.644531 7.679688 -6.335938 7.765625 -5.984375 C 7.859375 -5.628906 7.90625 -5.242188 7.90625 -4.828125 L 7.90625 0 Z M 5.9375 0 \"/>\n",
       "</symbol>\n",
       "<symbol overflow=\"visible\" id=\"glyph2-22\">\n",
       "<path style=\"stroke:none;\" d=\"M 1 0 L 1 -10.4375 L 2.984375 -10.4375 L 2.984375 0 Z M 1 0 \"/>\n",
       "</symbol>\n",
       "<symbol overflow=\"visible\" id=\"glyph3-0\">\n",
       "<path style=\"stroke:none;\" d=\"M 0.75 2.65625 L 0.75 -10.578125 L 8.25 -10.578125 L 8.25 2.65625 Z M 1.59375 1.8125 L 7.40625 1.8125 L 7.40625 -9.734375 L 1.59375 -9.734375 Z M 1.59375 1.8125 \"/>\n",
       "</symbol>\n",
       "<symbol overflow=\"visible\" id=\"glyph3-1\">\n",
       "<path style=\"stroke:none;\" d=\"M 4.65625 -11.375 C 4 -10.257812 3.507812 -9.148438 3.1875 -8.046875 C 2.875 -6.953125 2.71875 -5.835938 2.71875 -4.703125 C 2.71875 -3.578125 2.875 -2.460938 3.1875 -1.359375 C 3.507812 -0.253906 4 0.859375 4.65625 1.984375 L 3.484375 1.984375 C 2.742188 0.828125 2.191406 -0.300781 1.828125 -1.40625 C 1.472656 -2.507812 1.296875 -3.609375 1.296875 -4.703125 C 1.296875 -5.796875 1.472656 -6.894531 1.828125 -8 C 2.191406 -9.101562 2.742188 -10.226562 3.484375 -11.375 Z M 4.65625 -11.375 \"/>\n",
       "</symbol>\n",
       "<symbol overflow=\"visible\" id=\"glyph3-2\">\n",
       "<path style=\"stroke:none;\" d=\"M 1.203125 -11.375 L 2.375 -11.375 C 3.101562 -10.226562 3.648438 -9.101562 4.015625 -8 C 4.378906 -6.894531 4.5625 -5.796875 4.5625 -4.703125 C 4.5625 -3.609375 4.378906 -2.507812 4.015625 -1.40625 C 3.648438 -0.300781 3.101562 0.828125 2.375 1.984375 L 1.203125 1.984375 C 1.847656 0.859375 2.332031 -0.253906 2.65625 -1.359375 C 2.976562 -2.460938 3.140625 -3.578125 3.140625 -4.703125 C 3.140625 -5.835938 2.976562 -6.953125 2.65625 -8.046875 C 2.332031 -9.148438 1.847656 -10.257812 1.203125 -11.375 Z M 1.203125 -11.375 \"/>\n",
       "</symbol>\n",
       "<symbol overflow=\"visible\" id=\"glyph4-0\">\n",
       "<path style=\"stroke:none;\" d=\"M 0.59375 2.125 L 0.59375 -8.46875 L 6.59375 -8.46875 L 6.59375 2.125 Z M 1.265625 1.453125 L 5.9375 1.453125 L 5.9375 -7.78125 L 1.265625 -7.78125 Z M 1.265625 1.453125 \"/>\n",
       "</symbol>\n",
       "<symbol overflow=\"visible\" id=\"glyph4-1\">\n",
       "<path style=\"stroke:none;\" d=\"M 3.71875 -8.09375 L 6.75 0 L 5.609375 0 L 3.765625 -4.859375 L 1.5 0 L 0.359375 0 L 3.234375 -6.296875 L 2.796875 -7.453125 C 2.617188 -7.941406 2.320312 -8.1875 1.90625 -8.1875 L 1.34375 -8.1875 L 1.34375 -9.125 L 2.015625 -9.109375 C 2.898438 -9.097656 3.46875 -8.757812 3.71875 -8.09375 Z M 3.71875 -8.09375 \"/>\n",
       "</symbol>\n",
       "</g>\n",
       "<clipPath id=\"clip1\">\n",
       "  <path d=\"M 138 59.039062 L 139 59.039062 L 139 430.558594 L 138 430.558594 Z M 138 59.039062 \"/>\n",
       "</clipPath>\n",
       "<clipPath id=\"clip2\">\n",
       "  <path d=\"M 191 59.039062 L 193 59.039062 L 193 430.558594 L 191 430.558594 Z M 191 59.039062 \"/>\n",
       "</clipPath>\n",
       "</defs>\n",
       "<g id=\"surface215\">\n",
       "<rect x=\"0\" y=\"0\" width=\"504\" height=\"504\" style=\"fill:rgb(100%,100%,100%);fill-opacity:1;stroke:none;\"/>\n",
       "<path style=\"fill:none;stroke-width:0.75;stroke-linecap:round;stroke-linejoin:round;stroke:rgb(0%,0%,0%);stroke-opacity:1;stroke-miterlimit:10;\" d=\"M 74.398438 430.558594 L 458.398438 430.558594 \"/>\n",
       "<path style=\"fill:none;stroke-width:0.75;stroke-linecap:round;stroke-linejoin:round;stroke:rgb(0%,0%,0%);stroke-opacity:1;stroke-miterlimit:10;\" d=\"M 74.398438 430.558594 L 74.398438 437.761719 \"/>\n",
       "<path style=\"fill:none;stroke-width:0.75;stroke-linecap:round;stroke-linejoin:round;stroke:rgb(0%,0%,0%);stroke-opacity:1;stroke-miterlimit:10;\" d=\"M 202.398438 430.558594 L 202.398438 437.761719 \"/>\n",
       "<path style=\"fill:none;stroke-width:0.75;stroke-linecap:round;stroke-linejoin:round;stroke:rgb(0%,0%,0%);stroke-opacity:1;stroke-miterlimit:10;\" d=\"M 330.398438 430.558594 L 330.398438 437.761719 \"/>\n",
       "<path style=\"fill:none;stroke-width:0.75;stroke-linecap:round;stroke-linejoin:round;stroke:rgb(0%,0%,0%);stroke-opacity:1;stroke-miterlimit:10;\" d=\"M 458.398438 430.558594 L 458.398438 437.761719 \"/>\n",
       "<g style=\"fill:rgb(0%,0%,0%);fill-opacity:1;\">\n",
       "  <use xlink:href=\"#glyph0-1\" x=\"68.898438\" y=\"456.34375\"/>\n",
       "  <use xlink:href=\"#glyph0-2\" x=\"72.898438\" y=\"456.34375\"/>\n",
       "</g>\n",
       "<g style=\"fill:rgb(0%,0%,0%);fill-opacity:1;\">\n",
       "  <use xlink:href=\"#glyph0-3\" x=\"198.898438\" y=\"456.34375\"/>\n",
       "</g>\n",
       "<g style=\"fill:rgb(0%,0%,0%);fill-opacity:1;\">\n",
       "  <use xlink:href=\"#glyph0-2\" x=\"326.898438\" y=\"456.34375\"/>\n",
       "</g>\n",
       "<g style=\"fill:rgb(0%,0%,0%);fill-opacity:1;\">\n",
       "  <use xlink:href=\"#glyph0-4\" x=\"451.398438\" y=\"456.34375\"/>\n",
       "  <use xlink:href=\"#glyph0-3\" x=\"458.398438\" y=\"456.34375\"/>\n",
       "</g>\n",
       "<path style=\"fill:none;stroke-width:0.75;stroke-linecap:round;stroke-linejoin:round;stroke:rgb(0%,0%,0%);stroke-opacity:1;stroke-miterlimit:10;\" d=\"M 59.039062 404.464844 L 59.039062 69.371094 \"/>\n",
       "<path style=\"fill:none;stroke-width:0.75;stroke-linecap:round;stroke-linejoin:round;stroke:rgb(0%,0%,0%);stroke-opacity:1;stroke-miterlimit:10;\" d=\"M 59.039062 404.464844 L 51.839844 404.464844 \"/>\n",
       "<path style=\"fill:none;stroke-width:0.75;stroke-linecap:round;stroke-linejoin:round;stroke:rgb(0%,0%,0%);stroke-opacity:1;stroke-miterlimit:10;\" d=\"M 59.039062 337.445312 L 51.839844 337.445312 \"/>\n",
       "<path style=\"fill:none;stroke-width:0.75;stroke-linecap:round;stroke-linejoin:round;stroke:rgb(0%,0%,0%);stroke-opacity:1;stroke-miterlimit:10;\" d=\"M 59.039062 270.425781 L 51.839844 270.425781 \"/>\n",
       "<path style=\"fill:none;stroke-width:0.75;stroke-linecap:round;stroke-linejoin:round;stroke:rgb(0%,0%,0%);stroke-opacity:1;stroke-miterlimit:10;\" d=\"M 59.039062 203.410156 L 51.839844 203.410156 \"/>\n",
       "<path style=\"fill:none;stroke-width:0.75;stroke-linecap:round;stroke-linejoin:round;stroke:rgb(0%,0%,0%);stroke-opacity:1;stroke-miterlimit:10;\" d=\"M 59.039062 136.390625 L 51.839844 136.390625 \"/>\n",
       "<path style=\"fill:none;stroke-width:0.75;stroke-linecap:round;stroke-linejoin:round;stroke:rgb(0%,0%,0%);stroke-opacity:1;stroke-miterlimit:10;\" d=\"M 59.039062 69.371094 L 51.839844 69.371094 \"/>\n",
       "<g style=\"fill:rgb(0%,0%,0%);fill-opacity:1;\">\n",
       "  <use xlink:href=\"#glyph1-1\" x=\"41.625\" y=\"411.464844\"/>\n",
       "  <use xlink:href=\"#glyph1-2\" x=\"41.625\" y=\"404.464844\"/>\n",
       "</g>\n",
       "<g style=\"fill:rgb(0%,0%,0%);fill-opacity:1;\">\n",
       "  <use xlink:href=\"#glyph1-3\" x=\"41.625\" y=\"344.445312\"/>\n",
       "  <use xlink:href=\"#glyph1-2\" x=\"41.625\" y=\"337.445312\"/>\n",
       "</g>\n",
       "<g style=\"fill:rgb(0%,0%,0%);fill-opacity:1;\">\n",
       "  <use xlink:href=\"#glyph1-4\" x=\"41.625\" y=\"277.425781\"/>\n",
       "  <use xlink:href=\"#glyph1-2\" x=\"41.625\" y=\"270.425781\"/>\n",
       "</g>\n",
       "<g style=\"fill:rgb(0%,0%,0%);fill-opacity:1;\">\n",
       "  <use xlink:href=\"#glyph1-5\" x=\"41.625\" y=\"210.410156\"/>\n",
       "  <use xlink:href=\"#glyph1-2\" x=\"41.625\" y=\"203.410156\"/>\n",
       "</g>\n",
       "<g style=\"fill:rgb(0%,0%,0%);fill-opacity:1;\">\n",
       "  <use xlink:href=\"#glyph1-6\" x=\"41.625\" y=\"143.390625\"/>\n",
       "  <use xlink:href=\"#glyph1-2\" x=\"41.625\" y=\"136.390625\"/>\n",
       "</g>\n",
       "<g style=\"fill:rgb(0%,0%,0%);fill-opacity:1;\">\n",
       "  <use xlink:href=\"#glyph1-7\" x=\"41.625\" y=\"76.371094\"/>\n",
       "  <use xlink:href=\"#glyph1-2\" x=\"41.625\" y=\"69.371094\"/>\n",
       "</g>\n",
       "<path style=\"fill:none;stroke-width:0.75;stroke-linecap:round;stroke-linejoin:round;stroke:rgb(0%,0%,0%);stroke-opacity:1;stroke-miterlimit:10;\" d=\"M 59.039062 430.558594 L 473.761719 430.558594 L 473.761719 59.039062 L 59.039062 59.039062 Z M 59.039062 430.558594 \"/>\n",
       "<g style=\"fill:rgb(0%,0%,0%);fill-opacity:1;\">\n",
       "  <use xlink:href=\"#glyph2-1\" x=\"85.898438\" y=\"16.273438\"/>\n",
       "  <use xlink:href=\"#glyph2-2\" x=\"97.898438\" y=\"16.273438\"/>\n",
       "  <use xlink:href=\"#glyph2-3\" x=\"107.898438\" y=\"16.273438\"/>\n",
       "  <use xlink:href=\"#glyph2-4\" x=\"117.898438\" y=\"16.273438\"/>\n",
       "  <use xlink:href=\"#glyph2-5\" x=\"121.898438\" y=\"16.273438\"/>\n",
       "  <use xlink:href=\"#glyph2-6\" x=\"130.898438\" y=\"16.273438\"/>\n",
       "  <use xlink:href=\"#glyph2-4\" x=\"135.898438\" y=\"16.273438\"/>\n",
       "  <use xlink:href=\"#glyph2-7\" x=\"139.898438\" y=\"16.273438\"/>\n",
       "  <use xlink:href=\"#glyph2-8\" x=\"149.898438\" y=\"16.273438\"/>\n",
       "  <use xlink:href=\"#glyph2-9\" x=\"153.898438\" y=\"16.273438\"/>\n",
       "  <use xlink:href=\"#glyph2-10\" x=\"162.898438\" y=\"16.273438\"/>\n",
       "  <use xlink:href=\"#glyph2-11\" x=\"171.898438\" y=\"16.273438\"/>\n",
       "  <use xlink:href=\"#glyph2-4\" x=\"179.898438\" y=\"16.273438\"/>\n",
       "  <use xlink:href=\"#glyph2-11\" x=\"183.898438\" y=\"16.273438\"/>\n",
       "  <use xlink:href=\"#glyph2-12\" x=\"191.898438\" y=\"16.273438\"/>\n",
       "  <use xlink:href=\"#glyph2-13\" x=\"199.898438\" y=\"16.273438\"/>\n",
       "  <use xlink:href=\"#glyph2-8\" x=\"204.898438\" y=\"16.273438\"/>\n",
       "  <use xlink:href=\"#glyph2-14\" x=\"208.898438\" y=\"16.273438\"/>\n",
       "  <use xlink:href=\"#glyph2-15\" x=\"221.898438\" y=\"16.273438\"/>\n",
       "  <use xlink:href=\"#glyph2-13\" x=\"229.898438\" y=\"16.273438\"/>\n",
       "  <use xlink:href=\"#glyph2-11\" x=\"234.898438\" y=\"16.273438\"/>\n",
       "  <use xlink:href=\"#glyph2-9\" x=\"242.898438\" y=\"16.273438\"/>\n",
       "  <use xlink:href=\"#glyph2-4\" x=\"251.898438\" y=\"16.273438\"/>\n",
       "  <use xlink:href=\"#glyph2-16\" x=\"255.898438\" y=\"16.273438\"/>\n",
       "  <use xlink:href=\"#glyph2-17\" x=\"264.898438\" y=\"16.273438\"/>\n",
       "  <use xlink:href=\"#glyph2-4\" x=\"272.898438\" y=\"16.273438\"/>\n",
       "  <use xlink:href=\"#glyph2-18\" x=\"276.898438\" y=\"16.273438\"/>\n",
       "  <use xlink:href=\"#glyph2-19\" x=\"286.898438\" y=\"16.273438\"/>\n",
       "  <use xlink:href=\"#glyph2-4\" x=\"296.898438\" y=\"16.273438\"/>\n",
       "  <use xlink:href=\"#glyph2-6\" x=\"300.898438\" y=\"16.273438\"/>\n",
       "  <use xlink:href=\"#glyph2-5\" x=\"305.898438\" y=\"16.273438\"/>\n",
       "  <use xlink:href=\"#glyph2-20\" x=\"314.898438\" y=\"16.273438\"/>\n",
       "  <use xlink:href=\"#glyph2-4\" x=\"320.898438\" y=\"16.273438\"/>\n",
       "  <use xlink:href=\"#glyph2-9\" x=\"324.898438\" y=\"16.273438\"/>\n",
       "  <use xlink:href=\"#glyph2-8\" x=\"333.898438\" y=\"16.273438\"/>\n",
       "  <use xlink:href=\"#glyph2-6\" x=\"337.898438\" y=\"16.273438\"/>\n",
       "  <use xlink:href=\"#glyph2-6\" x=\"342.898438\" y=\"16.273438\"/>\n",
       "  <use xlink:href=\"#glyph2-11\" x=\"347.898438\" y=\"16.273438\"/>\n",
       "  <use xlink:href=\"#glyph2-20\" x=\"355.898438\" y=\"16.273438\"/>\n",
       "  <use xlink:href=\"#glyph2-11\" x=\"361.898438\" y=\"16.273438\"/>\n",
       "  <use xlink:href=\"#glyph2-21\" x=\"369.898438\" y=\"16.273438\"/>\n",
       "  <use xlink:href=\"#glyph2-13\" x=\"378.898438\" y=\"16.273438\"/>\n",
       "  <use xlink:href=\"#glyph2-4\" x=\"383.898438\" y=\"16.273438\"/>\n",
       "  <use xlink:href=\"#glyph2-22\" x=\"387.898438\" y=\"16.273438\"/>\n",
       "  <use xlink:href=\"#glyph2-15\" x=\"391.898438\" y=\"16.273438\"/>\n",
       "  <use xlink:href=\"#glyph2-14\" x=\"399.898438\" y=\"16.273438\"/>\n",
       "  <use xlink:href=\"#glyph2-16\" x=\"412.898438\" y=\"16.273438\"/>\n",
       "  <use xlink:href=\"#glyph2-9\" x=\"421.898438\" y=\"16.273438\"/>\n",
       "  <use xlink:href=\"#glyph2-15\" x=\"430.898438\" y=\"16.273438\"/>\n",
       "  <use xlink:href=\"#glyph2-12\" x=\"438.898438\" y=\"16.273438\"/>\n",
       "</g>\n",
       "<g style=\"fill:rgb(0%,0%,0%);fill-opacity:1;\">\n",
       "  <use xlink:href=\"#glyph0-5\" x=\"246.398438\" y=\"482.144531\"/>\n",
       "  <use xlink:href=\"#glyph0-6\" x=\"253.398438\" y=\"482.144531\"/>\n",
       "  <use xlink:href=\"#glyph0-7\" x=\"260.398438\" y=\"482.144531\"/>\n",
       "</g>\n",
       "<g style=\"fill:rgb(0%,0%,0%);fill-opacity:1;\">\n",
       "  <use xlink:href=\"#glyph3-1\" x=\"267.398438\" y=\"482.205078\"/>\n",
       "</g>\n",
       "<g style=\"fill:rgb(0%,0%,0%);fill-opacity:1;\">\n",
       "  <use xlink:href=\"#glyph4-1\" x=\"273.398438\" y=\"481.419922\"/>\n",
       "</g>\n",
       "<g style=\"fill:rgb(0%,0%,0%);fill-opacity:1;\">\n",
       "  <use xlink:href=\"#glyph3-2\" x=\"280.398438\" y=\"482.205078\"/>\n",
       "</g>\n",
       "<g style=\"fill:rgb(0%,0%,0%);fill-opacity:1;\">\n",
       "  <use xlink:href=\"#glyph1-8\" x=\"12.824219\" y=\"300.800781\"/>\n",
       "  <use xlink:href=\"#glyph1-9\" x=\"12.824219\" y=\"290.800781\"/>\n",
       "  <use xlink:href=\"#glyph1-10\" x=\"12.824219\" y=\"283.800781\"/>\n",
       "  <use xlink:href=\"#glyph1-11\" x=\"12.824219\" y=\"276.800781\"/>\n",
       "  <use xlink:href=\"#glyph1-12\" x=\"12.824219\" y=\"269.800781\"/>\n",
       "  <use xlink:href=\"#glyph1-13\" x=\"12.824219\" y=\"265.800781\"/>\n",
       "  <use xlink:href=\"#glyph1-14\" x=\"12.824219\" y=\"257.800781\"/>\n",
       "  <use xlink:href=\"#glyph1-15\" x=\"12.824219\" y=\"250.800781\"/>\n",
       "  <use xlink:href=\"#glyph1-10\" x=\"12.824219\" y=\"243.800781\"/>\n",
       "  <use xlink:href=\"#glyph1-16\" x=\"12.824219\" y=\"236.800781\"/>\n",
       "  <use xlink:href=\"#glyph1-9\" x=\"12.824219\" y=\"232.800781\"/>\n",
       "  <use xlink:href=\"#glyph1-17\" x=\"12.824219\" y=\"225.800781\"/>\n",
       "  <use xlink:href=\"#glyph1-18\" x=\"12.824219\" y=\"218.800781\"/>\n",
       "  <use xlink:href=\"#glyph1-19\" x=\"12.824219\" y=\"215.800781\"/>\n",
       "  <use xlink:href=\"#glyph1-16\" x=\"12.824219\" y=\"207.800781\"/>\n",
       "  <use xlink:href=\"#glyph1-16\" x=\"12.824219\" y=\"203.800781\"/>\n",
       "  <use xlink:href=\"#glyph1-20\" x=\"12.824219\" y=\"199.800781\"/>\n",
       "  <use xlink:href=\"#glyph1-16\" x=\"12.824219\" y=\"192.800781\"/>\n",
       "</g>\n",
       "<path style=\"fill:none;stroke-width:0.75;stroke-linecap:round;stroke-linejoin:round;stroke:rgb(66.27451%,66.27451%,66.27451%);stroke-opacity:1;stroke-miterlimit:10;\" d=\"M 458.398438 72.800781 L 458.398438 172.660156 \"/>\n",
       "<path style=\"fill:none;stroke-width:0.75;stroke-linecap:round;stroke-linejoin:round;stroke:rgb(66.27451%,66.27451%,66.27451%);stroke-opacity:1;stroke-miterlimit:10;\" d=\"M 455.839844 72.925781 L 455.839844 172.765625 \"/>\n",
       "<path style=\"fill:none;stroke-width:0.75;stroke-linecap:round;stroke-linejoin:round;stroke:rgb(66.27451%,66.27451%,66.27451%);stroke-opacity:1;stroke-miterlimit:10;\" d=\"M 453.28125 73.070312 L 453.28125 172.882812 \"/>\n",
       "<path style=\"fill:none;stroke-width:0.75;stroke-linecap:round;stroke-linejoin:round;stroke:rgb(66.27451%,66.27451%,66.27451%);stroke-opacity:1;stroke-miterlimit:10;\" d=\"M 450.71875 73.226562 L 450.71875 173.011719 \"/>\n",
       "<path style=\"fill:none;stroke-width:0.75;stroke-linecap:round;stroke-linejoin:round;stroke:rgb(66.27451%,66.27451%,66.27451%);stroke-opacity:1;stroke-miterlimit:10;\" d=\"M 448.160156 73.398438 L 448.160156 173.15625 \"/>\n",
       "<path style=\"fill:none;stroke-width:0.75;stroke-linecap:round;stroke-linejoin:round;stroke:rgb(66.27451%,66.27451%,66.27451%);stroke-opacity:1;stroke-miterlimit:10;\" d=\"M 445.601562 73.589844 L 445.601562 173.3125 \"/>\n",
       "<path style=\"fill:none;stroke-width:0.75;stroke-linecap:round;stroke-linejoin:round;stroke:rgb(66.27451%,66.27451%,66.27451%);stroke-opacity:1;stroke-miterlimit:10;\" d=\"M 443.039062 73.800781 L 443.039062 173.488281 \"/>\n",
       "<path style=\"fill:none;stroke-width:0.75;stroke-linecap:round;stroke-linejoin:round;stroke:rgb(66.27451%,66.27451%,66.27451%);stroke-opacity:1;stroke-miterlimit:10;\" d=\"M 440.480469 74.03125 L 440.480469 173.679688 \"/>\n",
       "<path style=\"fill:none;stroke-width:0.75;stroke-linecap:round;stroke-linejoin:round;stroke:rgb(66.27451%,66.27451%,66.27451%);stroke-opacity:1;stroke-miterlimit:10;\" d=\"M 437.921875 74.289062 L 437.921875 173.890625 \"/>\n",
       "<path style=\"fill:none;stroke-width:0.75;stroke-linecap:round;stroke-linejoin:round;stroke:rgb(66.27451%,66.27451%,66.27451%);stroke-opacity:1;stroke-miterlimit:10;\" d=\"M 435.359375 74.570312 L 435.359375 174.125 \"/>\n",
       "<path style=\"fill:none;stroke-width:0.75;stroke-linecap:round;stroke-linejoin:round;stroke:rgb(66.27451%,66.27451%,66.27451%);stroke-opacity:1;stroke-miterlimit:10;\" d=\"M 432.800781 74.882812 L 432.800781 174.382812 \"/>\n",
       "<path style=\"fill:none;stroke-width:0.75;stroke-linecap:round;stroke-linejoin:round;stroke:rgb(66.27451%,66.27451%,66.27451%);stroke-opacity:1;stroke-miterlimit:10;\" d=\"M 430.238281 75.226562 L 430.238281 174.667969 \"/>\n",
       "<path style=\"fill:none;stroke-width:0.75;stroke-linecap:round;stroke-linejoin:round;stroke:rgb(66.27451%,66.27451%,66.27451%);stroke-opacity:1;stroke-miterlimit:10;\" d=\"M 427.679688 75.609375 L 427.679688 174.980469 \"/>\n",
       "<path style=\"fill:none;stroke-width:0.75;stroke-linecap:round;stroke-linejoin:round;stroke:rgb(66.27451%,66.27451%,66.27451%);stroke-opacity:1;stroke-miterlimit:10;\" d=\"M 425.121094 76.023438 L 425.121094 175.324219 \"/>\n",
       "<path style=\"fill:none;stroke-width:0.75;stroke-linecap:round;stroke-linejoin:round;stroke:rgb(66.27451%,66.27451%,66.27451%);stroke-opacity:1;stroke-miterlimit:10;\" d=\"M 422.558594 76.484375 L 422.558594 175.703125 \"/>\n",
       "<path style=\"fill:none;stroke-width:0.75;stroke-linecap:round;stroke-linejoin:round;stroke:rgb(66.27451%,66.27451%,66.27451%);stroke-opacity:1;stroke-miterlimit:10;\" d=\"M 420 76.992188 L 420 176.125 \"/>\n",
       "<path style=\"fill:none;stroke-width:0.75;stroke-linecap:round;stroke-linejoin:round;stroke:rgb(66.27451%,66.27451%,66.27451%);stroke-opacity:1;stroke-miterlimit:10;\" d=\"M 417.441406 77.550781 L 417.441406 176.585938 \"/>\n",
       "<path style=\"fill:none;stroke-width:0.75;stroke-linecap:round;stroke-linejoin:round;stroke:rgb(66.27451%,66.27451%,66.27451%);stroke-opacity:1;stroke-miterlimit:10;\" d=\"M 414.878906 78.164062 L 414.878906 177.089844 \"/>\n",
       "<path style=\"fill:none;stroke-width:0.75;stroke-linecap:round;stroke-linejoin:round;stroke:rgb(66.27451%,66.27451%,66.27451%);stroke-opacity:1;stroke-miterlimit:10;\" d=\"M 412.320312 78.839844 L 412.320312 177.648438 \"/>\n",
       "<path style=\"fill:none;stroke-width:0.75;stroke-linecap:round;stroke-linejoin:round;stroke:rgb(66.27451%,66.27451%,66.27451%);stroke-opacity:1;stroke-miterlimit:10;\" d=\"M 409.761719 79.585938 L 409.761719 178.261719 \"/>\n",
       "<path style=\"fill:none;stroke-width:0.75;stroke-linecap:round;stroke-linejoin:round;stroke:rgb(66.27451%,66.27451%,66.27451%);stroke-opacity:1;stroke-miterlimit:10;\" d=\"M 407.199219 80.402344 L 407.199219 178.9375 \"/>\n",
       "<path style=\"fill:none;stroke-width:0.75;stroke-linecap:round;stroke-linejoin:round;stroke:rgb(66.27451%,66.27451%,66.27451%);stroke-opacity:1;stroke-miterlimit:10;\" d=\"M 404.640625 81.296875 L 404.640625 179.675781 \"/>\n",
       "<path style=\"fill:none;stroke-width:0.75;stroke-linecap:round;stroke-linejoin:round;stroke:rgb(66.27451%,66.27451%,66.27451%);stroke-opacity:1;stroke-miterlimit:10;\" d=\"M 402.078125 82.28125 L 402.078125 180.488281 \"/>\n",
       "<path style=\"fill:none;stroke-width:0.75;stroke-linecap:round;stroke-linejoin:round;stroke:rgb(66.27451%,66.27451%,66.27451%);stroke-opacity:1;stroke-miterlimit:10;\" d=\"M 399.519531 83.363281 L 399.519531 181.378906 \"/>\n",
       "<path style=\"fill:none;stroke-width:0.75;stroke-linecap:round;stroke-linejoin:round;stroke:rgb(66.27451%,66.27451%,66.27451%);stroke-opacity:1;stroke-miterlimit:10;\" d=\"M 396.960938 84.542969 L 396.960938 182.355469 \"/>\n",
       "<path style=\"fill:none;stroke-width:0.75;stroke-linecap:round;stroke-linejoin:round;stroke:rgb(66.27451%,66.27451%,66.27451%);stroke-opacity:1;stroke-miterlimit:10;\" d=\"M 394.398438 85.835938 L 394.398438 183.414062 \"/>\n",
       "<path style=\"fill:none;stroke-width:0.75;stroke-linecap:round;stroke-linejoin:round;stroke:rgb(66.27451%,66.27451%,66.27451%);stroke-opacity:1;stroke-miterlimit:10;\" d=\"M 391.839844 87.234375 L 391.839844 184.570312 \"/>\n",
       "<path style=\"fill:none;stroke-width:0.75;stroke-linecap:round;stroke-linejoin:round;stroke:rgb(66.27451%,66.27451%,66.27451%);stroke-opacity:1;stroke-miterlimit:10;\" d=\"M 389.28125 88.777344 L 389.28125 185.84375 \"/>\n",
       "<path style=\"fill:none;stroke-width:0.75;stroke-linecap:round;stroke-linejoin:round;stroke:rgb(66.27451%,66.27451%,66.27451%);stroke-opacity:1;stroke-miterlimit:10;\" d=\"M 386.71875 90.464844 L 386.71875 187.234375 \"/>\n",
       "<path style=\"fill:none;stroke-width:0.75;stroke-linecap:round;stroke-linejoin:round;stroke:rgb(66.27451%,66.27451%,66.27451%);stroke-opacity:1;stroke-miterlimit:10;\" d=\"M 384.160156 92.300781 L 384.160156 188.746094 \"/>\n",
       "<path style=\"fill:none;stroke-width:0.75;stroke-linecap:round;stroke-linejoin:round;stroke:rgb(66.27451%,66.27451%,66.27451%);stroke-opacity:1;stroke-miterlimit:10;\" d=\"M 381.601562 94.300781 L 381.601562 190.394531 \"/>\n",
       "<path style=\"fill:none;stroke-width:0.75;stroke-linecap:round;stroke-linejoin:round;stroke:rgb(66.27451%,66.27451%,66.27451%);stroke-opacity:1;stroke-miterlimit:10;\" d=\"M 379.039062 96.472656 L 379.039062 192.183594 \"/>\n",
       "<path style=\"fill:none;stroke-width:0.75;stroke-linecap:round;stroke-linejoin:round;stroke:rgb(66.27451%,66.27451%,66.27451%);stroke-opacity:1;stroke-miterlimit:10;\" d=\"M 376.480469 98.832031 L 376.480469 194.125 \"/>\n",
       "<path style=\"fill:none;stroke-width:0.75;stroke-linecap:round;stroke-linejoin:round;stroke:rgb(66.27451%,66.27451%,66.27451%);stroke-opacity:1;stroke-miterlimit:10;\" d=\"M 373.921875 101.386719 L 373.921875 196.222656 \"/>\n",
       "<path style=\"fill:none;stroke-width:0.75;stroke-linecap:round;stroke-linejoin:round;stroke:rgb(66.27451%,66.27451%,66.27451%);stroke-opacity:1;stroke-miterlimit:10;\" d=\"M 371.359375 104.148438 L 371.359375 198.496094 \"/>\n",
       "<path style=\"fill:none;stroke-width:0.75;stroke-linecap:round;stroke-linejoin:round;stroke:rgb(66.27451%,66.27451%,66.27451%);stroke-opacity:1;stroke-miterlimit:10;\" d=\"M 368.800781 107.128906 L 368.800781 200.941406 \"/>\n",
       "<path style=\"fill:none;stroke-width:0.75;stroke-linecap:round;stroke-linejoin:round;stroke:rgb(66.27451%,66.27451%,66.27451%);stroke-opacity:1;stroke-miterlimit:10;\" d=\"M 366.238281 110.335938 L 366.238281 203.578125 \"/>\n",
       "<path style=\"fill:none;stroke-width:0.75;stroke-linecap:round;stroke-linejoin:round;stroke:rgb(66.27451%,66.27451%,66.27451%);stroke-opacity:1;stroke-miterlimit:10;\" d=\"M 363.679688 113.78125 L 363.679688 206.402344 \"/>\n",
       "<path style=\"fill:none;stroke-width:0.75;stroke-linecap:round;stroke-linejoin:round;stroke:rgb(66.27451%,66.27451%,66.27451%);stroke-opacity:1;stroke-miterlimit:10;\" d=\"M 361.121094 117.46875 L 361.121094 209.425781 \"/>\n",
       "<path style=\"fill:none;stroke-width:0.75;stroke-linecap:round;stroke-linejoin:round;stroke:rgb(66.27451%,66.27451%,66.27451%);stroke-opacity:1;stroke-miterlimit:10;\" d=\"M 358.558594 121.410156 L 358.558594 212.652344 \"/>\n",
       "<path style=\"fill:none;stroke-width:0.75;stroke-linecap:round;stroke-linejoin:round;stroke:rgb(66.27451%,66.27451%,66.27451%);stroke-opacity:1;stroke-miterlimit:10;\" d=\"M 356 125.609375 L 356 216.085938 \"/>\n",
       "<path style=\"fill:none;stroke-width:0.75;stroke-linecap:round;stroke-linejoin:round;stroke:rgb(66.27451%,66.27451%,66.27451%);stroke-opacity:1;stroke-miterlimit:10;\" d=\"M 353.441406 130.066406 L 353.441406 219.722656 \"/>\n",
       "<path style=\"fill:none;stroke-width:0.75;stroke-linecap:round;stroke-linejoin:round;stroke:rgb(66.27451%,66.27451%,66.27451%);stroke-opacity:1;stroke-miterlimit:10;\" d=\"M 350.878906 134.78125 L 350.878906 223.5625 \"/>\n",
       "<path style=\"fill:none;stroke-width:0.75;stroke-linecap:round;stroke-linejoin:round;stroke:rgb(66.27451%,66.27451%,66.27451%);stroke-opacity:1;stroke-miterlimit:10;\" d=\"M 348.320312 139.75 L 348.320312 227.605469 \"/>\n",
       "<path style=\"fill:none;stroke-width:0.75;stroke-linecap:round;stroke-linejoin:round;stroke:rgb(66.27451%,66.27451%,66.27451%);stroke-opacity:1;stroke-miterlimit:10;\" d=\"M 345.761719 144.96875 L 345.761719 231.839844 \"/>\n",
       "<path style=\"fill:none;stroke-width:0.75;stroke-linecap:round;stroke-linejoin:round;stroke:rgb(66.27451%,66.27451%,66.27451%);stroke-opacity:1;stroke-miterlimit:10;\" d=\"M 343.199219 150.425781 L 343.199219 236.257812 \"/>\n",
       "<path style=\"fill:none;stroke-width:0.75;stroke-linecap:round;stroke-linejoin:round;stroke:rgb(66.27451%,66.27451%,66.27451%);stroke-opacity:1;stroke-miterlimit:10;\" d=\"M 340.640625 156.109375 L 340.640625 240.84375 \"/>\n",
       "<path style=\"fill:none;stroke-width:0.75;stroke-linecap:round;stroke-linejoin:round;stroke:rgb(66.27451%,66.27451%,66.27451%);stroke-opacity:1;stroke-miterlimit:10;\" d=\"M 338.078125 162.003906 L 338.078125 245.582031 \"/>\n",
       "<path style=\"fill:none;stroke-width:0.75;stroke-linecap:round;stroke-linejoin:round;stroke:rgb(66.27451%,66.27451%,66.27451%);stroke-opacity:1;stroke-miterlimit:10;\" d=\"M 335.519531 168.089844 L 335.519531 250.457031 \"/>\n",
       "<path style=\"fill:none;stroke-width:0.75;stroke-linecap:round;stroke-linejoin:round;stroke:rgb(66.27451%,66.27451%,66.27451%);stroke-opacity:1;stroke-miterlimit:10;\" d=\"M 332.960938 174.34375 L 332.960938 255.445312 \"/>\n",
       "<path style=\"fill:none;stroke-width:0.75;stroke-linecap:round;stroke-linejoin:round;stroke:rgb(66.27451%,66.27451%,66.27451%);stroke-opacity:1;stroke-miterlimit:10;\" d=\"M 330.398438 180.734375 L 330.398438 260.519531 \"/>\n",
       "<path style=\"fill:none;stroke-width:0.75;stroke-linecap:round;stroke-linejoin:round;stroke:rgb(66.27451%,66.27451%,66.27451%);stroke-opacity:1;stroke-miterlimit:10;\" d=\"M 327.839844 187.242188 L 327.839844 265.652344 \"/>\n",
       "<path style=\"fill:none;stroke-width:0.75;stroke-linecap:round;stroke-linejoin:round;stroke:rgb(66.27451%,66.27451%,66.27451%);stroke-opacity:1;stroke-miterlimit:10;\" d=\"M 325.28125 193.828125 L 325.28125 270.820312 \"/>\n",
       "<path style=\"fill:none;stroke-width:0.75;stroke-linecap:round;stroke-linejoin:round;stroke:rgb(66.27451%,66.27451%,66.27451%);stroke-opacity:1;stroke-miterlimit:10;\" d=\"M 322.71875 200.46875 L 322.71875 275.992188 \"/>\n",
       "<path style=\"fill:none;stroke-width:0.75;stroke-linecap:round;stroke-linejoin:round;stroke:rgb(66.27451%,66.27451%,66.27451%);stroke-opacity:1;stroke-miterlimit:10;\" d=\"M 320.160156 207.125 L 320.160156 281.144531 \"/>\n",
       "<path style=\"fill:none;stroke-width:0.75;stroke-linecap:round;stroke-linejoin:round;stroke:rgb(66.27451%,66.27451%,66.27451%);stroke-opacity:1;stroke-miterlimit:10;\" d=\"M 317.601562 213.769531 L 317.601562 286.242188 \"/>\n",
       "<path style=\"fill:none;stroke-width:0.75;stroke-linecap:round;stroke-linejoin:round;stroke:rgb(66.27451%,66.27451%,66.27451%);stroke-opacity:1;stroke-miterlimit:10;\" d=\"M 315.039062 220.371094 L 315.039062 291.261719 \"/>\n",
       "<path style=\"fill:none;stroke-width:0.75;stroke-linecap:round;stroke-linejoin:round;stroke:rgb(66.27451%,66.27451%,66.27451%);stroke-opacity:1;stroke-miterlimit:10;\" d=\"M 312.480469 226.902344 L 312.480469 296.183594 \"/>\n",
       "<path style=\"fill:none;stroke-width:0.75;stroke-linecap:round;stroke-linejoin:round;stroke:rgb(66.27451%,66.27451%,66.27451%);stroke-opacity:1;stroke-miterlimit:10;\" d=\"M 309.921875 233.332031 L 309.921875 300.984375 \"/>\n",
       "<path style=\"fill:none;stroke-width:0.75;stroke-linecap:round;stroke-linejoin:round;stroke:rgb(66.27451%,66.27451%,66.27451%);stroke-opacity:1;stroke-miterlimit:10;\" d=\"M 307.359375 239.644531 L 307.359375 305.644531 \"/>\n",
       "<path style=\"fill:none;stroke-width:0.75;stroke-linecap:round;stroke-linejoin:round;stroke:rgb(66.27451%,66.27451%,66.27451%);stroke-opacity:1;stroke-miterlimit:10;\" d=\"M 304.800781 245.8125 L 304.800781 310.15625 \"/>\n",
       "<path style=\"fill:none;stroke-width:0.75;stroke-linecap:round;stroke-linejoin:round;stroke:rgb(66.27451%,66.27451%,66.27451%);stroke-opacity:1;stroke-miterlimit:10;\" d=\"M 302.238281 251.828125 L 302.238281 314.507812 \"/>\n",
       "<path style=\"fill:none;stroke-width:0.75;stroke-linecap:round;stroke-linejoin:round;stroke:rgb(66.27451%,66.27451%,66.27451%);stroke-opacity:1;stroke-miterlimit:10;\" d=\"M 299.679688 257.671875 L 299.679688 318.691406 \"/>\n",
       "<path style=\"fill:none;stroke-width:0.75;stroke-linecap:round;stroke-linejoin:round;stroke:rgb(66.27451%,66.27451%,66.27451%);stroke-opacity:1;stroke-miterlimit:10;\" d=\"M 297.121094 263.34375 L 297.121094 322.707031 \"/>\n",
       "<path style=\"fill:none;stroke-width:0.75;stroke-linecap:round;stroke-linejoin:round;stroke:rgb(66.27451%,66.27451%,66.27451%);stroke-opacity:1;stroke-miterlimit:10;\" d=\"M 294.558594 268.855469 L 294.558594 326.566406 \"/>\n",
       "<path style=\"fill:none;stroke-width:0.75;stroke-linecap:round;stroke-linejoin:round;stroke:rgb(66.27451%,66.27451%,66.27451%);stroke-opacity:1;stroke-miterlimit:10;\" d=\"M 292 274.164062 L 292 330.25 \"/>\n",
       "<path style=\"fill:none;stroke-width:0.75;stroke-linecap:round;stroke-linejoin:round;stroke:rgb(66.27451%,66.27451%,66.27451%);stroke-opacity:1;stroke-miterlimit:10;\" d=\"M 289.441406 279.289062 L 289.441406 333.765625 \"/>\n",
       "<path style=\"fill:none;stroke-width:0.75;stroke-linecap:round;stroke-linejoin:round;stroke:rgb(66.27451%,66.27451%,66.27451%);stroke-opacity:1;stroke-miterlimit:10;\" d=\"M 286.878906 284.230469 L 286.878906 337.128906 \"/>\n",
       "<path style=\"fill:none;stroke-width:0.75;stroke-linecap:round;stroke-linejoin:round;stroke:rgb(66.27451%,66.27451%,66.27451%);stroke-opacity:1;stroke-miterlimit:10;\" d=\"M 284.320312 288.996094 L 284.320312 340.335938 \"/>\n",
       "<path style=\"fill:none;stroke-width:0.75;stroke-linecap:round;stroke-linejoin:round;stroke:rgb(66.27451%,66.27451%,66.27451%);stroke-opacity:1;stroke-miterlimit:10;\" d=\"M 281.761719 293.589844 L 281.761719 343.402344 \"/>\n",
       "<path style=\"fill:none;stroke-width:0.75;stroke-linecap:round;stroke-linejoin:round;stroke:rgb(66.27451%,66.27451%,66.27451%);stroke-opacity:1;stroke-miterlimit:10;\" d=\"M 279.199219 298.035156 L 279.199219 346.332031 \"/>\n",
       "<path style=\"fill:none;stroke-width:0.75;stroke-linecap:round;stroke-linejoin:round;stroke:rgb(66.27451%,66.27451%,66.27451%);stroke-opacity:1;stroke-miterlimit:10;\" d=\"M 276.640625 302.308594 L 276.640625 349.121094 \"/>\n",
       "<path style=\"fill:none;stroke-width:0.75;stroke-linecap:round;stroke-linejoin:round;stroke:rgb(66.27451%,66.27451%,66.27451%);stroke-opacity:1;stroke-miterlimit:10;\" d=\"M 274.078125 306.421875 L 274.078125 351.773438 \"/>\n",
       "<path style=\"fill:none;stroke-width:0.75;stroke-linecap:round;stroke-linejoin:round;stroke:rgb(66.27451%,66.27451%,66.27451%);stroke-opacity:1;stroke-miterlimit:10;\" d=\"M 271.519531 310.390625 L 271.519531 354.304688 \"/>\n",
       "<path style=\"fill:none;stroke-width:0.75;stroke-linecap:round;stroke-linejoin:round;stroke:rgb(66.27451%,66.27451%,66.27451%);stroke-opacity:1;stroke-miterlimit:10;\" d=\"M 268.960938 314.214844 L 268.960938 356.710938 \"/>\n",
       "<path style=\"fill:none;stroke-width:0.75;stroke-linecap:round;stroke-linejoin:round;stroke:rgb(66.27451%,66.27451%,66.27451%);stroke-opacity:1;stroke-miterlimit:10;\" d=\"M 266.398438 317.90625 L 266.398438 359.003906 \"/>\n",
       "<path style=\"fill:none;stroke-width:0.75;stroke-linecap:round;stroke-linejoin:round;stroke:rgb(66.27451%,66.27451%,66.27451%);stroke-opacity:1;stroke-miterlimit:10;\" d=\"M 263.839844 321.453125 L 263.839844 361.175781 \"/>\n",
       "<path style=\"fill:none;stroke-width:0.75;stroke-linecap:round;stroke-linejoin:round;stroke:rgb(66.27451%,66.27451%,66.27451%);stroke-opacity:1;stroke-miterlimit:10;\" d=\"M 261.28125 324.871094 L 261.28125 363.242188 \"/>\n",
       "<path style=\"fill:none;stroke-width:0.75;stroke-linecap:round;stroke-linejoin:round;stroke:rgb(66.27451%,66.27451%,66.27451%);stroke-opacity:1;stroke-miterlimit:10;\" d=\"M 258.71875 328.164062 L 258.71875 365.207031 \"/>\n",
       "<path style=\"fill:none;stroke-width:0.75;stroke-linecap:round;stroke-linejoin:round;stroke:rgb(66.27451%,66.27451%,66.27451%);stroke-opacity:1;stroke-miterlimit:10;\" d=\"M 256.160156 331.324219 L 256.160156 367.070312 \"/>\n",
       "<path style=\"fill:none;stroke-width:0.75;stroke-linecap:round;stroke-linejoin:round;stroke:rgb(66.27451%,66.27451%,66.27451%);stroke-opacity:1;stroke-miterlimit:10;\" d=\"M 253.601562 334.371094 L 253.601562 368.84375 \"/>\n",
       "<path style=\"fill:none;stroke-width:0.75;stroke-linecap:round;stroke-linejoin:round;stroke:rgb(66.27451%,66.27451%,66.27451%);stroke-opacity:1;stroke-miterlimit:10;\" d=\"M 251.039062 337.304688 L 251.039062 370.542969 \"/>\n",
       "<path style=\"fill:none;stroke-width:0.75;stroke-linecap:round;stroke-linejoin:round;stroke:rgb(66.27451%,66.27451%,66.27451%);stroke-opacity:1;stroke-miterlimit:10;\" d=\"M 248.480469 340.089844 L 248.480469 372.148438 \"/>\n",
       "<path style=\"fill:none;stroke-width:0.75;stroke-linecap:round;stroke-linejoin:round;stroke:rgb(66.27451%,66.27451%,66.27451%);stroke-opacity:1;stroke-miterlimit:10;\" d=\"M 245.921875 342.777344 L 245.921875 373.699219 \"/>\n",
       "<path style=\"fill:none;stroke-width:0.75;stroke-linecap:round;stroke-linejoin:round;stroke:rgb(66.27451%,66.27451%,66.27451%);stroke-opacity:1;stroke-miterlimit:10;\" d=\"M 243.359375 345.371094 L 243.359375 375.203125 \"/>\n",
       "<path style=\"fill:none;stroke-width:0.75;stroke-linecap:round;stroke-linejoin:round;stroke:rgb(66.27451%,66.27451%,66.27451%);stroke-opacity:1;stroke-miterlimit:10;\" d=\"M 240.800781 347.855469 L 240.800781 376.660156 \"/>\n",
       "<path style=\"fill:none;stroke-width:0.75;stroke-linecap:round;stroke-linejoin:round;stroke:rgb(66.27451%,66.27451%,66.27451%);stroke-opacity:1;stroke-miterlimit:10;\" d=\"M 238.238281 350.199219 L 238.238281 378.0625 \"/>\n",
       "<path style=\"fill:none;stroke-width:0.75;stroke-linecap:round;stroke-linejoin:round;stroke:rgb(66.27451%,66.27451%,66.27451%);stroke-opacity:1;stroke-miterlimit:10;\" d=\"M 235.679688 352.445312 L 235.679688 379.429688 \"/>\n",
       "<path style=\"fill:none;stroke-width:0.75;stroke-linecap:round;stroke-linejoin:round;stroke:rgb(66.27451%,66.27451%,66.27451%);stroke-opacity:1;stroke-miterlimit:10;\" d=\"M 233.121094 354.632812 L 233.121094 380.804688 \"/>\n",
       "<path style=\"fill:none;stroke-width:0.75;stroke-linecap:round;stroke-linejoin:round;stroke:rgb(66.27451%,66.27451%,66.27451%);stroke-opacity:1;stroke-miterlimit:10;\" d=\"M 230.558594 356.691406 L 230.558594 382.132812 \"/>\n",
       "<path style=\"fill:none;stroke-width:0.75;stroke-linecap:round;stroke-linejoin:round;stroke:rgb(66.27451%,66.27451%,66.27451%);stroke-opacity:1;stroke-miterlimit:10;\" d=\"M 228 358.652344 L 228 383.441406 \"/>\n",
       "<path style=\"fill:none;stroke-width:0.75;stroke-linecap:round;stroke-linejoin:round;stroke:rgb(66.27451%,66.27451%,66.27451%);stroke-opacity:1;stroke-miterlimit:10;\" d=\"M 225.441406 360.546875 L 225.441406 384.769531 \"/>\n",
       "<path style=\"fill:none;stroke-width:0.75;stroke-linecap:round;stroke-linejoin:round;stroke:rgb(66.27451%,66.27451%,66.27451%);stroke-opacity:1;stroke-miterlimit:10;\" d=\"M 222.878906 362.371094 L 222.878906 386.097656 \"/>\n",
       "<path style=\"fill:none;stroke-width:0.75;stroke-linecap:round;stroke-linejoin:round;stroke:rgb(66.27451%,66.27451%,66.27451%);stroke-opacity:1;stroke-miterlimit:10;\" d=\"M 220.320312 364.128906 L 220.320312 387.414062 \"/>\n",
       "<path style=\"fill:none;stroke-width:0.75;stroke-linecap:round;stroke-linejoin:round;stroke:rgb(66.27451%,66.27451%,66.27451%);stroke-opacity:1;stroke-miterlimit:10;\" d=\"M 217.761719 365.816406 L 217.761719 388.746094 \"/>\n",
       "<path style=\"fill:none;stroke-width:0.75;stroke-linecap:round;stroke-linejoin:round;stroke:rgb(66.27451%,66.27451%,66.27451%);stroke-opacity:1;stroke-miterlimit:10;\" d=\"M 215.199219 367.441406 L 215.199219 390.074219 \"/>\n",
       "<path style=\"fill:none;stroke-width:0.75;stroke-linecap:round;stroke-linejoin:round;stroke:rgb(66.27451%,66.27451%,66.27451%);stroke-opacity:1;stroke-miterlimit:10;\" d=\"M 212.640625 369.007812 L 212.640625 391.398438 \"/>\n",
       "<path style=\"fill:none;stroke-width:0.75;stroke-linecap:round;stroke-linejoin:round;stroke:rgb(66.27451%,66.27451%,66.27451%);stroke-opacity:1;stroke-miterlimit:10;\" d=\"M 210.078125 370.515625 L 210.078125 392.71875 \"/>\n",
       "<path style=\"fill:none;stroke-width:0.75;stroke-linecap:round;stroke-linejoin:round;stroke:rgb(66.27451%,66.27451%,66.27451%);stroke-opacity:1;stroke-miterlimit:10;\" d=\"M 207.519531 372.011719 L 207.519531 394.0625 \"/>\n",
       "<path style=\"fill:none;stroke-width:0.75;stroke-linecap:round;stroke-linejoin:round;stroke:rgb(66.27451%,66.27451%,66.27451%);stroke-opacity:1;stroke-miterlimit:10;\" d=\"M 204.960938 373.425781 L 204.960938 395.386719 \"/>\n",
       "<path style=\"fill:none;stroke-width:0.75;stroke-linecap:round;stroke-linejoin:round;stroke:rgb(66.27451%,66.27451%,66.27451%);stroke-opacity:1;stroke-miterlimit:10;\" d=\"M 202.398438 374.804688 L 202.398438 396.699219 \"/>\n",
       "<path style=\"fill:none;stroke-width:0.75;stroke-linecap:round;stroke-linejoin:round;stroke:rgb(66.27451%,66.27451%,66.27451%);stroke-opacity:1;stroke-miterlimit:10;\" d=\"M 199.839844 376.132812 L 199.839844 398.015625 \"/>\n",
       "<path style=\"fill:none;stroke-width:0.75;stroke-linecap:round;stroke-linejoin:round;stroke:rgb(66.27451%,66.27451%,66.27451%);stroke-opacity:1;stroke-miterlimit:10;\" d=\"M 197.28125 377.425781 L 197.28125 399.316406 \"/>\n",
       "<path style=\"fill:none;stroke-width:0.75;stroke-linecap:round;stroke-linejoin:round;stroke:rgb(66.27451%,66.27451%,66.27451%);stroke-opacity:1;stroke-miterlimit:10;\" d=\"M 194.71875 378.652344 L 194.71875 400.59375 \"/>\n",
       "<path style=\"fill:none;stroke-width:0.75;stroke-linecap:round;stroke-linejoin:round;stroke:rgb(66.27451%,66.27451%,66.27451%);stroke-opacity:1;stroke-miterlimit:10;\" d=\"M 192.160156 379.839844 L 192.160156 401.855469 \"/>\n",
       "<path style=\"fill:none;stroke-width:0.75;stroke-linecap:round;stroke-linejoin:round;stroke:rgb(66.27451%,66.27451%,66.27451%);stroke-opacity:1;stroke-miterlimit:10;\" d=\"M 189.601562 380.96875 L 189.601562 403.09375 \"/>\n",
       "<path style=\"fill:none;stroke-width:0.75;stroke-linecap:round;stroke-linejoin:round;stroke:rgb(66.27451%,66.27451%,66.27451%);stroke-opacity:1;stroke-miterlimit:10;\" d=\"M 187.039062 382.046875 L 187.039062 404.304688 \"/>\n",
       "<path style=\"fill:none;stroke-width:0.75;stroke-linecap:round;stroke-linejoin:round;stroke:rgb(66.27451%,66.27451%,66.27451%);stroke-opacity:1;stroke-miterlimit:10;\" d=\"M 184.480469 383.054688 L 184.480469 405.464844 \"/>\n",
       "<path style=\"fill:none;stroke-width:0.75;stroke-linecap:round;stroke-linejoin:round;stroke:rgb(66.27451%,66.27451%,66.27451%);stroke-opacity:1;stroke-miterlimit:10;\" d=\"M 181.921875 384.007812 L 181.921875 406.597656 \"/>\n",
       "<path style=\"fill:none;stroke-width:0.75;stroke-linecap:round;stroke-linejoin:round;stroke:rgb(66.27451%,66.27451%,66.27451%);stroke-opacity:1;stroke-miterlimit:10;\" d=\"M 179.359375 384.890625 L 179.359375 407.671875 \"/>\n",
       "<path style=\"fill:none;stroke-width:0.75;stroke-linecap:round;stroke-linejoin:round;stroke:rgb(66.27451%,66.27451%,66.27451%);stroke-opacity:1;stroke-miterlimit:10;\" d=\"M 176.800781 385.714844 L 176.800781 408.707031 \"/>\n",
       "<path style=\"fill:none;stroke-width:0.75;stroke-linecap:round;stroke-linejoin:round;stroke:rgb(66.27451%,66.27451%,66.27451%);stroke-opacity:1;stroke-miterlimit:10;\" d=\"M 174.238281 386.457031 L 174.238281 409.675781 \"/>\n",
       "<path style=\"fill:none;stroke-width:0.75;stroke-linecap:round;stroke-linejoin:round;stroke:rgb(66.27451%,66.27451%,66.27451%);stroke-opacity:1;stroke-miterlimit:10;\" d=\"M 171.679688 387.144531 L 171.679688 410.597656 \"/>\n",
       "<path style=\"fill:none;stroke-width:0.75;stroke-linecap:round;stroke-linejoin:round;stroke:rgb(66.27451%,66.27451%,66.27451%);stroke-opacity:1;stroke-miterlimit:10;\" d=\"M 169.121094 387.753906 L 169.121094 411.453125 \"/>\n",
       "<path style=\"fill:none;stroke-width:0.75;stroke-linecap:round;stroke-linejoin:round;stroke:rgb(66.27451%,66.27451%,66.27451%);stroke-opacity:1;stroke-miterlimit:10;\" d=\"M 166.558594 388.300781 L 166.558594 412.246094 \"/>\n",
       "<path style=\"fill:none;stroke-width:0.75;stroke-linecap:round;stroke-linejoin:round;stroke:rgb(66.27451%,66.27451%,66.27451%);stroke-opacity:1;stroke-miterlimit:10;\" d=\"M 164 388.789062 L 164 412.980469 \"/>\n",
       "<path style=\"fill:none;stroke-width:0.75;stroke-linecap:round;stroke-linejoin:round;stroke:rgb(66.27451%,66.27451%,66.27451%);stroke-opacity:1;stroke-miterlimit:10;\" d=\"M 161.441406 389.203125 L 161.441406 413.644531 \"/>\n",
       "<path style=\"fill:none;stroke-width:0.75;stroke-linecap:round;stroke-linejoin:round;stroke:rgb(66.27451%,66.27451%,66.27451%);stroke-opacity:1;stroke-miterlimit:10;\" d=\"M 158.878906 389.554688 L 158.878906 414.246094 \"/>\n",
       "<path style=\"fill:none;stroke-width:0.75;stroke-linecap:round;stroke-linejoin:round;stroke:rgb(66.27451%,66.27451%,66.27451%);stroke-opacity:1;stroke-miterlimit:10;\" d=\"M 156.320312 389.847656 L 156.320312 414.78125 \"/>\n",
       "<path style=\"fill:none;stroke-width:0.75;stroke-linecap:round;stroke-linejoin:round;stroke:rgb(66.27451%,66.27451%,66.27451%);stroke-opacity:1;stroke-miterlimit:10;\" d=\"M 153.761719 390.085938 L 153.761719 415.253906 \"/>\n",
       "<path style=\"fill:none;stroke-width:0.75;stroke-linecap:round;stroke-linejoin:round;stroke:rgb(66.27451%,66.27451%,66.27451%);stroke-opacity:1;stroke-miterlimit:10;\" d=\"M 151.199219 390.273438 L 151.199219 415.664062 \"/>\n",
       "<path style=\"fill:none;stroke-width:0.75;stroke-linecap:round;stroke-linejoin:round;stroke:rgb(66.27451%,66.27451%,66.27451%);stroke-opacity:1;stroke-miterlimit:10;\" d=\"M 148.640625 390.402344 L 148.640625 416.011719 \"/>\n",
       "<path style=\"fill:none;stroke-width:0.75;stroke-linecap:round;stroke-linejoin:round;stroke:rgb(66.27451%,66.27451%,66.27451%);stroke-opacity:1;stroke-miterlimit:10;\" d=\"M 146.078125 390.476562 L 146.078125 416.292969 \"/>\n",
       "<path style=\"fill:none;stroke-width:0.75;stroke-linecap:round;stroke-linejoin:round;stroke:rgb(66.27451%,66.27451%,66.27451%);stroke-opacity:1;stroke-miterlimit:10;\" d=\"M 143.519531 390.5 L 143.519531 416.511719 \"/>\n",
       "<path style=\"fill:none;stroke-width:0.75;stroke-linecap:round;stroke-linejoin:round;stroke:rgb(66.27451%,66.27451%,66.27451%);stroke-opacity:1;stroke-miterlimit:10;\" d=\"M 140.960938 390.472656 L 140.960938 416.664062 \"/>\n",
       "<path style=\"fill:none;stroke-width:0.75;stroke-linecap:round;stroke-linejoin:round;stroke:rgb(66.27451%,66.27451%,66.27451%);stroke-opacity:1;stroke-miterlimit:10;\" d=\"M 138.398438 390.402344 L 138.398438 416.761719 \"/>\n",
       "<path style=\"fill:none;stroke-width:0.75;stroke-linecap:round;stroke-linejoin:round;stroke:rgb(66.27451%,66.27451%,66.27451%);stroke-opacity:1;stroke-miterlimit:10;\" d=\"M 135.839844 390.28125 L 135.839844 416.800781 \"/>\n",
       "<path style=\"fill:none;stroke-width:0.75;stroke-linecap:round;stroke-linejoin:round;stroke:rgb(66.27451%,66.27451%,66.27451%);stroke-opacity:1;stroke-miterlimit:10;\" d=\"M 133.28125 390.109375 L 133.28125 416.777344 \"/>\n",
       "<path style=\"fill:none;stroke-width:0.75;stroke-linecap:round;stroke-linejoin:round;stroke:rgb(66.27451%,66.27451%,66.27451%);stroke-opacity:1;stroke-miterlimit:10;\" d=\"M 130.71875 389.890625 L 130.71875 416.703125 \"/>\n",
       "<path style=\"fill:none;stroke-width:0.75;stroke-linecap:round;stroke-linejoin:round;stroke:rgb(66.27451%,66.27451%,66.27451%);stroke-opacity:1;stroke-miterlimit:10;\" d=\"M 128.160156 389.621094 L 128.160156 416.574219 \"/>\n",
       "<path style=\"fill:none;stroke-width:0.75;stroke-linecap:round;stroke-linejoin:round;stroke:rgb(66.27451%,66.27451%,66.27451%);stroke-opacity:1;stroke-miterlimit:10;\" d=\"M 125.601562 389.300781 L 125.601562 416.398438 \"/>\n",
       "<path style=\"fill:none;stroke-width:0.75;stroke-linecap:round;stroke-linejoin:round;stroke:rgb(66.27451%,66.27451%,66.27451%);stroke-opacity:1;stroke-miterlimit:10;\" d=\"M 123.039062 388.933594 L 123.039062 416.175781 \"/>\n",
       "<path style=\"fill:none;stroke-width:0.75;stroke-linecap:round;stroke-linejoin:round;stroke:rgb(66.27451%,66.27451%,66.27451%);stroke-opacity:1;stroke-miterlimit:10;\" d=\"M 120.480469 388.511719 L 120.480469 415.914062 \"/>\n",
       "<path style=\"fill:none;stroke-width:0.75;stroke-linecap:round;stroke-linejoin:round;stroke:rgb(66.27451%,66.27451%,66.27451%);stroke-opacity:1;stroke-miterlimit:10;\" d=\"M 117.921875 388.046875 L 117.921875 415.625 \"/>\n",
       "<path style=\"fill:none;stroke-width:0.75;stroke-linecap:round;stroke-linejoin:round;stroke:rgb(66.27451%,66.27451%,66.27451%);stroke-opacity:1;stroke-miterlimit:10;\" d=\"M 115.359375 387.527344 L 115.359375 415.300781 \"/>\n",
       "<path style=\"fill:none;stroke-width:0.75;stroke-linecap:round;stroke-linejoin:round;stroke:rgb(66.27451%,66.27451%,66.27451%);stroke-opacity:1;stroke-miterlimit:10;\" d=\"M 112.800781 386.964844 L 112.800781 414.960938 \"/>\n",
       "<path style=\"fill:none;stroke-width:0.75;stroke-linecap:round;stroke-linejoin:round;stroke:rgb(66.27451%,66.27451%,66.27451%);stroke-opacity:1;stroke-miterlimit:10;\" d=\"M 110.238281 386.355469 L 110.238281 414.605469 \"/>\n",
       "<path style=\"fill:none;stroke-width:0.75;stroke-linecap:round;stroke-linejoin:round;stroke:rgb(66.27451%,66.27451%,66.27451%);stroke-opacity:1;stroke-miterlimit:10;\" d=\"M 107.679688 385.695312 L 107.679688 414.234375 \"/>\n",
       "<path style=\"fill:none;stroke-width:0.75;stroke-linecap:round;stroke-linejoin:round;stroke:rgb(66.27451%,66.27451%,66.27451%);stroke-opacity:1;stroke-miterlimit:10;\" d=\"M 105.121094 385.007812 L 105.121094 413.867188 \"/>\n",
       "<path style=\"fill:none;stroke-width:0.75;stroke-linecap:round;stroke-linejoin:round;stroke:rgb(66.27451%,66.27451%,66.27451%);stroke-opacity:1;stroke-miterlimit:10;\" d=\"M 102.558594 384.273438 L 102.558594 413.496094 \"/>\n",
       "<path style=\"fill:none;stroke-width:0.75;stroke-linecap:round;stroke-linejoin:round;stroke:rgb(66.27451%,66.27451%,66.27451%);stroke-opacity:1;stroke-miterlimit:10;\" d=\"M 100 383.523438 L 100 413.140625 \"/>\n",
       "<path style=\"fill:none;stroke-width:0.75;stroke-linecap:round;stroke-linejoin:round;stroke:rgb(66.27451%,66.27451%,66.27451%);stroke-opacity:1;stroke-miterlimit:10;\" d=\"M 97.441406 382.75 L 97.441406 412.792969 \"/>\n",
       "<path style=\"fill:none;stroke-width:0.75;stroke-linecap:round;stroke-linejoin:round;stroke:rgb(66.27451%,66.27451%,66.27451%);stroke-opacity:1;stroke-miterlimit:10;\" d=\"M 94.878906 381.960938 L 94.878906 412.460938 \"/>\n",
       "<path style=\"fill:none;stroke-width:0.75;stroke-linecap:round;stroke-linejoin:round;stroke:rgb(66.27451%,66.27451%,66.27451%);stroke-opacity:1;stroke-miterlimit:10;\" d=\"M 92.320312 381.160156 L 92.320312 412.140625 \"/>\n",
       "<path style=\"fill:none;stroke-width:0.75;stroke-linecap:round;stroke-linejoin:round;stroke:rgb(66.27451%,66.27451%,66.27451%);stroke-opacity:1;stroke-miterlimit:10;\" d=\"M 89.761719 380.375 L 89.761719 411.847656 \"/>\n",
       "<path style=\"fill:none;stroke-width:0.75;stroke-linecap:round;stroke-linejoin:round;stroke:rgb(66.27451%,66.27451%,66.27451%);stroke-opacity:1;stroke-miterlimit:10;\" d=\"M 87.199219 379.5625 L 87.199219 411.558594 \"/>\n",
       "<path style=\"fill:none;stroke-width:0.75;stroke-linecap:round;stroke-linejoin:round;stroke:rgb(66.27451%,66.27451%,66.27451%);stroke-opacity:1;stroke-miterlimit:10;\" d=\"M 84.640625 378.78125 L 84.640625 411.300781 \"/>\n",
       "<path style=\"fill:none;stroke-width:0.75;stroke-linecap:round;stroke-linejoin:round;stroke:rgb(66.27451%,66.27451%,66.27451%);stroke-opacity:1;stroke-miterlimit:10;\" d=\"M 82.078125 378.003906 L 82.078125 411.054688 \"/>\n",
       "<path style=\"fill:none;stroke-width:0.75;stroke-linecap:round;stroke-linejoin:round;stroke:rgb(66.27451%,66.27451%,66.27451%);stroke-opacity:1;stroke-miterlimit:10;\" d=\"M 79.519531 377.265625 L 79.519531 410.832031 \"/>\n",
       "<path style=\"fill:none;stroke-width:0.75;stroke-linecap:round;stroke-linejoin:round;stroke:rgb(66.27451%,66.27451%,66.27451%);stroke-opacity:1;stroke-miterlimit:10;\" d=\"M 76.960938 376.539062 L 76.960938 410.625 \"/>\n",
       "<path style=\"fill:none;stroke-width:0.75;stroke-linecap:round;stroke-linejoin:round;stroke:rgb(66.27451%,66.27451%,66.27451%);stroke-opacity:1;stroke-miterlimit:10;\" d=\"M 74.398438 375.828125 L 74.398438 410.429688 \"/>\n",
       "<path style=\"fill:none;stroke-width:0.75;stroke-linecap:round;stroke-linejoin:round;stroke:rgb(66.27451%,66.27451%,66.27451%);stroke-opacity:1;stroke-miterlimit:10;\" d=\"M 454.558594 72.800781 L 462.238281 72.800781 \"/>\n",
       "<path style=\"fill:none;stroke-width:0.75;stroke-linecap:round;stroke-linejoin:round;stroke:rgb(66.27451%,66.27451%,66.27451%);stroke-opacity:1;stroke-miterlimit:10;\" d=\"M 452 72.925781 L 459.679688 72.925781 \"/>\n",
       "<path style=\"fill:none;stroke-width:0.75;stroke-linecap:round;stroke-linejoin:round;stroke:rgb(66.27451%,66.27451%,66.27451%);stroke-opacity:1;stroke-miterlimit:10;\" d=\"M 449.441406 73.070312 L 457.121094 73.070312 \"/>\n",
       "<path style=\"fill:none;stroke-width:0.75;stroke-linecap:round;stroke-linejoin:round;stroke:rgb(66.27451%,66.27451%,66.27451%);stroke-opacity:1;stroke-miterlimit:10;\" d=\"M 446.878906 73.226562 L 454.558594 73.226562 \"/>\n",
       "<path style=\"fill:none;stroke-width:0.75;stroke-linecap:round;stroke-linejoin:round;stroke:rgb(66.27451%,66.27451%,66.27451%);stroke-opacity:1;stroke-miterlimit:10;\" d=\"M 444.320312 73.398438 L 452 73.398438 \"/>\n",
       "<path style=\"fill:none;stroke-width:0.75;stroke-linecap:round;stroke-linejoin:round;stroke:rgb(66.27451%,66.27451%,66.27451%);stroke-opacity:1;stroke-miterlimit:10;\" d=\"M 441.761719 73.589844 L 449.441406 73.589844 \"/>\n",
       "<path style=\"fill:none;stroke-width:0.75;stroke-linecap:round;stroke-linejoin:round;stroke:rgb(66.27451%,66.27451%,66.27451%);stroke-opacity:1;stroke-miterlimit:10;\" d=\"M 439.199219 73.800781 L 446.878906 73.800781 \"/>\n",
       "<path style=\"fill:none;stroke-width:0.75;stroke-linecap:round;stroke-linejoin:round;stroke:rgb(66.27451%,66.27451%,66.27451%);stroke-opacity:1;stroke-miterlimit:10;\" d=\"M 436.640625 74.03125 L 444.320312 74.03125 \"/>\n",
       "<path style=\"fill:none;stroke-width:0.75;stroke-linecap:round;stroke-linejoin:round;stroke:rgb(66.27451%,66.27451%,66.27451%);stroke-opacity:1;stroke-miterlimit:10;\" d=\"M 434.078125 74.289062 L 441.761719 74.289062 \"/>\n",
       "<path style=\"fill:none;stroke-width:0.75;stroke-linecap:round;stroke-linejoin:round;stroke:rgb(66.27451%,66.27451%,66.27451%);stroke-opacity:1;stroke-miterlimit:10;\" d=\"M 431.519531 74.570312 L 439.199219 74.570312 \"/>\n",
       "<path style=\"fill:none;stroke-width:0.75;stroke-linecap:round;stroke-linejoin:round;stroke:rgb(66.27451%,66.27451%,66.27451%);stroke-opacity:1;stroke-miterlimit:10;\" d=\"M 428.960938 74.882812 L 436.640625 74.882812 \"/>\n",
       "<path style=\"fill:none;stroke-width:0.75;stroke-linecap:round;stroke-linejoin:round;stroke:rgb(66.27451%,66.27451%,66.27451%);stroke-opacity:1;stroke-miterlimit:10;\" d=\"M 426.398438 75.226562 L 434.078125 75.226562 \"/>\n",
       "<path style=\"fill:none;stroke-width:0.75;stroke-linecap:round;stroke-linejoin:round;stroke:rgb(66.27451%,66.27451%,66.27451%);stroke-opacity:1;stroke-miterlimit:10;\" d=\"M 423.839844 75.609375 L 431.519531 75.609375 \"/>\n",
       "<path style=\"fill:none;stroke-width:0.75;stroke-linecap:round;stroke-linejoin:round;stroke:rgb(66.27451%,66.27451%,66.27451%);stroke-opacity:1;stroke-miterlimit:10;\" d=\"M 421.28125 76.023438 L 428.960938 76.023438 \"/>\n",
       "<path style=\"fill:none;stroke-width:0.75;stroke-linecap:round;stroke-linejoin:round;stroke:rgb(66.27451%,66.27451%,66.27451%);stroke-opacity:1;stroke-miterlimit:10;\" d=\"M 418.71875 76.484375 L 426.398438 76.484375 \"/>\n",
       "<path style=\"fill:none;stroke-width:0.75;stroke-linecap:round;stroke-linejoin:round;stroke:rgb(66.27451%,66.27451%,66.27451%);stroke-opacity:1;stroke-miterlimit:10;\" d=\"M 416.160156 76.992188 L 423.839844 76.992188 \"/>\n",
       "<path style=\"fill:none;stroke-width:0.75;stroke-linecap:round;stroke-linejoin:round;stroke:rgb(66.27451%,66.27451%,66.27451%);stroke-opacity:1;stroke-miterlimit:10;\" d=\"M 413.601562 77.550781 L 421.28125 77.550781 \"/>\n",
       "<path style=\"fill:none;stroke-width:0.75;stroke-linecap:round;stroke-linejoin:round;stroke:rgb(66.27451%,66.27451%,66.27451%);stroke-opacity:1;stroke-miterlimit:10;\" d=\"M 411.039062 78.164062 L 418.71875 78.164062 \"/>\n",
       "<path style=\"fill:none;stroke-width:0.75;stroke-linecap:round;stroke-linejoin:round;stroke:rgb(66.27451%,66.27451%,66.27451%);stroke-opacity:1;stroke-miterlimit:10;\" d=\"M 408.480469 78.839844 L 416.160156 78.839844 \"/>\n",
       "<path style=\"fill:none;stroke-width:0.75;stroke-linecap:round;stroke-linejoin:round;stroke:rgb(66.27451%,66.27451%,66.27451%);stroke-opacity:1;stroke-miterlimit:10;\" d=\"M 405.921875 79.585938 L 413.601562 79.585938 \"/>\n",
       "<path style=\"fill:none;stroke-width:0.75;stroke-linecap:round;stroke-linejoin:round;stroke:rgb(66.27451%,66.27451%,66.27451%);stroke-opacity:1;stroke-miterlimit:10;\" d=\"M 403.359375 80.402344 L 411.039062 80.402344 \"/>\n",
       "<path style=\"fill:none;stroke-width:0.75;stroke-linecap:round;stroke-linejoin:round;stroke:rgb(66.27451%,66.27451%,66.27451%);stroke-opacity:1;stroke-miterlimit:10;\" d=\"M 400.800781 81.296875 L 408.480469 81.296875 \"/>\n",
       "<path style=\"fill:none;stroke-width:0.75;stroke-linecap:round;stroke-linejoin:round;stroke:rgb(66.27451%,66.27451%,66.27451%);stroke-opacity:1;stroke-miterlimit:10;\" d=\"M 398.238281 82.28125 L 405.921875 82.28125 \"/>\n",
       "<path style=\"fill:none;stroke-width:0.75;stroke-linecap:round;stroke-linejoin:round;stroke:rgb(66.27451%,66.27451%,66.27451%);stroke-opacity:1;stroke-miterlimit:10;\" d=\"M 395.679688 83.363281 L 403.359375 83.363281 \"/>\n",
       "<path style=\"fill:none;stroke-width:0.75;stroke-linecap:round;stroke-linejoin:round;stroke:rgb(66.27451%,66.27451%,66.27451%);stroke-opacity:1;stroke-miterlimit:10;\" d=\"M 393.121094 84.542969 L 400.800781 84.542969 \"/>\n",
       "<path style=\"fill:none;stroke-width:0.75;stroke-linecap:round;stroke-linejoin:round;stroke:rgb(66.27451%,66.27451%,66.27451%);stroke-opacity:1;stroke-miterlimit:10;\" d=\"M 390.558594 85.835938 L 398.238281 85.835938 \"/>\n",
       "<path style=\"fill:none;stroke-width:0.75;stroke-linecap:round;stroke-linejoin:round;stroke:rgb(66.27451%,66.27451%,66.27451%);stroke-opacity:1;stroke-miterlimit:10;\" d=\"M 388 87.234375 L 395.679688 87.234375 \"/>\n",
       "<path style=\"fill:none;stroke-width:0.75;stroke-linecap:round;stroke-linejoin:round;stroke:rgb(66.27451%,66.27451%,66.27451%);stroke-opacity:1;stroke-miterlimit:10;\" d=\"M 385.441406 88.777344 L 393.121094 88.777344 \"/>\n",
       "<path style=\"fill:none;stroke-width:0.75;stroke-linecap:round;stroke-linejoin:round;stroke:rgb(66.27451%,66.27451%,66.27451%);stroke-opacity:1;stroke-miterlimit:10;\" d=\"M 382.878906 90.464844 L 390.558594 90.464844 \"/>\n",
       "<path style=\"fill:none;stroke-width:0.75;stroke-linecap:round;stroke-linejoin:round;stroke:rgb(66.27451%,66.27451%,66.27451%);stroke-opacity:1;stroke-miterlimit:10;\" d=\"M 380.320312 92.300781 L 388 92.300781 \"/>\n",
       "<path style=\"fill:none;stroke-width:0.75;stroke-linecap:round;stroke-linejoin:round;stroke:rgb(66.27451%,66.27451%,66.27451%);stroke-opacity:1;stroke-miterlimit:10;\" d=\"M 377.761719 94.300781 L 385.441406 94.300781 \"/>\n",
       "<path style=\"fill:none;stroke-width:0.75;stroke-linecap:round;stroke-linejoin:round;stroke:rgb(66.27451%,66.27451%,66.27451%);stroke-opacity:1;stroke-miterlimit:10;\" d=\"M 375.199219 96.472656 L 382.878906 96.472656 \"/>\n",
       "<path style=\"fill:none;stroke-width:0.75;stroke-linecap:round;stroke-linejoin:round;stroke:rgb(66.27451%,66.27451%,66.27451%);stroke-opacity:1;stroke-miterlimit:10;\" d=\"M 372.640625 98.832031 L 380.320312 98.832031 \"/>\n",
       "<path style=\"fill:none;stroke-width:0.75;stroke-linecap:round;stroke-linejoin:round;stroke:rgb(66.27451%,66.27451%,66.27451%);stroke-opacity:1;stroke-miterlimit:10;\" d=\"M 370.078125 101.386719 L 377.761719 101.386719 \"/>\n",
       "<path style=\"fill:none;stroke-width:0.75;stroke-linecap:round;stroke-linejoin:round;stroke:rgb(66.27451%,66.27451%,66.27451%);stroke-opacity:1;stroke-miterlimit:10;\" d=\"M 367.519531 104.148438 L 375.199219 104.148438 \"/>\n",
       "<path style=\"fill:none;stroke-width:0.75;stroke-linecap:round;stroke-linejoin:round;stroke:rgb(66.27451%,66.27451%,66.27451%);stroke-opacity:1;stroke-miterlimit:10;\" d=\"M 364.960938 107.128906 L 372.640625 107.128906 \"/>\n",
       "<path style=\"fill:none;stroke-width:0.75;stroke-linecap:round;stroke-linejoin:round;stroke:rgb(66.27451%,66.27451%,66.27451%);stroke-opacity:1;stroke-miterlimit:10;\" d=\"M 362.398438 110.335938 L 370.078125 110.335938 \"/>\n",
       "<path style=\"fill:none;stroke-width:0.75;stroke-linecap:round;stroke-linejoin:round;stroke:rgb(66.27451%,66.27451%,66.27451%);stroke-opacity:1;stroke-miterlimit:10;\" d=\"M 359.839844 113.78125 L 367.519531 113.78125 \"/>\n",
       "<path style=\"fill:none;stroke-width:0.75;stroke-linecap:round;stroke-linejoin:round;stroke:rgb(66.27451%,66.27451%,66.27451%);stroke-opacity:1;stroke-miterlimit:10;\" d=\"M 357.28125 117.46875 L 364.960938 117.46875 \"/>\n",
       "<path style=\"fill:none;stroke-width:0.75;stroke-linecap:round;stroke-linejoin:round;stroke:rgb(66.27451%,66.27451%,66.27451%);stroke-opacity:1;stroke-miterlimit:10;\" d=\"M 354.71875 121.410156 L 362.398438 121.410156 \"/>\n",
       "<path style=\"fill:none;stroke-width:0.75;stroke-linecap:round;stroke-linejoin:round;stroke:rgb(66.27451%,66.27451%,66.27451%);stroke-opacity:1;stroke-miterlimit:10;\" d=\"M 352.160156 125.609375 L 359.839844 125.609375 \"/>\n",
       "<path style=\"fill:none;stroke-width:0.75;stroke-linecap:round;stroke-linejoin:round;stroke:rgb(66.27451%,66.27451%,66.27451%);stroke-opacity:1;stroke-miterlimit:10;\" d=\"M 349.601562 130.066406 L 357.28125 130.066406 \"/>\n",
       "<path style=\"fill:none;stroke-width:0.75;stroke-linecap:round;stroke-linejoin:round;stroke:rgb(66.27451%,66.27451%,66.27451%);stroke-opacity:1;stroke-miterlimit:10;\" d=\"M 347.039062 134.78125 L 354.71875 134.78125 \"/>\n",
       "<path style=\"fill:none;stroke-width:0.75;stroke-linecap:round;stroke-linejoin:round;stroke:rgb(66.27451%,66.27451%,66.27451%);stroke-opacity:1;stroke-miterlimit:10;\" d=\"M 344.480469 139.75 L 352.160156 139.75 \"/>\n",
       "<path style=\"fill:none;stroke-width:0.75;stroke-linecap:round;stroke-linejoin:round;stroke:rgb(66.27451%,66.27451%,66.27451%);stroke-opacity:1;stroke-miterlimit:10;\" d=\"M 341.921875 144.96875 L 349.601562 144.96875 \"/>\n",
       "<path style=\"fill:none;stroke-width:0.75;stroke-linecap:round;stroke-linejoin:round;stroke:rgb(66.27451%,66.27451%,66.27451%);stroke-opacity:1;stroke-miterlimit:10;\" d=\"M 339.359375 150.425781 L 347.039062 150.425781 \"/>\n",
       "<path style=\"fill:none;stroke-width:0.75;stroke-linecap:round;stroke-linejoin:round;stroke:rgb(66.27451%,66.27451%,66.27451%);stroke-opacity:1;stroke-miterlimit:10;\" d=\"M 336.800781 156.109375 L 344.480469 156.109375 \"/>\n",
       "<path style=\"fill:none;stroke-width:0.75;stroke-linecap:round;stroke-linejoin:round;stroke:rgb(66.27451%,66.27451%,66.27451%);stroke-opacity:1;stroke-miterlimit:10;\" d=\"M 334.238281 162.003906 L 341.921875 162.003906 \"/>\n",
       "<path style=\"fill:none;stroke-width:0.75;stroke-linecap:round;stroke-linejoin:round;stroke:rgb(66.27451%,66.27451%,66.27451%);stroke-opacity:1;stroke-miterlimit:10;\" d=\"M 331.679688 168.089844 L 339.359375 168.089844 \"/>\n",
       "<path style=\"fill:none;stroke-width:0.75;stroke-linecap:round;stroke-linejoin:round;stroke:rgb(66.27451%,66.27451%,66.27451%);stroke-opacity:1;stroke-miterlimit:10;\" d=\"M 329.121094 174.34375 L 336.800781 174.34375 \"/>\n",
       "<path style=\"fill:none;stroke-width:0.75;stroke-linecap:round;stroke-linejoin:round;stroke:rgb(66.27451%,66.27451%,66.27451%);stroke-opacity:1;stroke-miterlimit:10;\" d=\"M 326.558594 180.734375 L 334.238281 180.734375 \"/>\n",
       "<path style=\"fill:none;stroke-width:0.75;stroke-linecap:round;stroke-linejoin:round;stroke:rgb(66.27451%,66.27451%,66.27451%);stroke-opacity:1;stroke-miterlimit:10;\" d=\"M 324 187.242188 L 331.679688 187.242188 \"/>\n",
       "<path style=\"fill:none;stroke-width:0.75;stroke-linecap:round;stroke-linejoin:round;stroke:rgb(66.27451%,66.27451%,66.27451%);stroke-opacity:1;stroke-miterlimit:10;\" d=\"M 321.441406 193.828125 L 329.121094 193.828125 \"/>\n",
       "<path style=\"fill:none;stroke-width:0.75;stroke-linecap:round;stroke-linejoin:round;stroke:rgb(66.27451%,66.27451%,66.27451%);stroke-opacity:1;stroke-miterlimit:10;\" d=\"M 318.878906 200.46875 L 326.558594 200.46875 \"/>\n",
       "<path style=\"fill:none;stroke-width:0.75;stroke-linecap:round;stroke-linejoin:round;stroke:rgb(66.27451%,66.27451%,66.27451%);stroke-opacity:1;stroke-miterlimit:10;\" d=\"M 316.320312 207.125 L 324 207.125 \"/>\n",
       "<path style=\"fill:none;stroke-width:0.75;stroke-linecap:round;stroke-linejoin:round;stroke:rgb(66.27451%,66.27451%,66.27451%);stroke-opacity:1;stroke-miterlimit:10;\" d=\"M 313.761719 213.769531 L 321.441406 213.769531 \"/>\n",
       "<path style=\"fill:none;stroke-width:0.75;stroke-linecap:round;stroke-linejoin:round;stroke:rgb(66.27451%,66.27451%,66.27451%);stroke-opacity:1;stroke-miterlimit:10;\" d=\"M 311.199219 220.371094 L 318.878906 220.371094 \"/>\n",
       "<path style=\"fill:none;stroke-width:0.75;stroke-linecap:round;stroke-linejoin:round;stroke:rgb(66.27451%,66.27451%,66.27451%);stroke-opacity:1;stroke-miterlimit:10;\" d=\"M 308.640625 226.902344 L 316.320312 226.902344 \"/>\n",
       "<path style=\"fill:none;stroke-width:0.75;stroke-linecap:round;stroke-linejoin:round;stroke:rgb(66.27451%,66.27451%,66.27451%);stroke-opacity:1;stroke-miterlimit:10;\" d=\"M 306.078125 233.332031 L 313.761719 233.332031 \"/>\n",
       "<path style=\"fill:none;stroke-width:0.75;stroke-linecap:round;stroke-linejoin:round;stroke:rgb(66.27451%,66.27451%,66.27451%);stroke-opacity:1;stroke-miterlimit:10;\" d=\"M 303.519531 239.644531 L 311.199219 239.644531 \"/>\n",
       "<path style=\"fill:none;stroke-width:0.75;stroke-linecap:round;stroke-linejoin:round;stroke:rgb(66.27451%,66.27451%,66.27451%);stroke-opacity:1;stroke-miterlimit:10;\" d=\"M 300.960938 245.8125 L 308.640625 245.8125 \"/>\n",
       "<path style=\"fill:none;stroke-width:0.75;stroke-linecap:round;stroke-linejoin:round;stroke:rgb(66.27451%,66.27451%,66.27451%);stroke-opacity:1;stroke-miterlimit:10;\" d=\"M 298.398438 251.828125 L 306.078125 251.828125 \"/>\n",
       "<path style=\"fill:none;stroke-width:0.75;stroke-linecap:round;stroke-linejoin:round;stroke:rgb(66.27451%,66.27451%,66.27451%);stroke-opacity:1;stroke-miterlimit:10;\" d=\"M 295.839844 257.671875 L 303.519531 257.671875 \"/>\n",
       "<path style=\"fill:none;stroke-width:0.75;stroke-linecap:round;stroke-linejoin:round;stroke:rgb(66.27451%,66.27451%,66.27451%);stroke-opacity:1;stroke-miterlimit:10;\" d=\"M 293.28125 263.34375 L 300.960938 263.34375 \"/>\n",
       "<path style=\"fill:none;stroke-width:0.75;stroke-linecap:round;stroke-linejoin:round;stroke:rgb(66.27451%,66.27451%,66.27451%);stroke-opacity:1;stroke-miterlimit:10;\" d=\"M 290.71875 268.855469 L 298.398438 268.855469 \"/>\n",
       "<path style=\"fill:none;stroke-width:0.75;stroke-linecap:round;stroke-linejoin:round;stroke:rgb(66.27451%,66.27451%,66.27451%);stroke-opacity:1;stroke-miterlimit:10;\" d=\"M 288.160156 274.164062 L 295.839844 274.164062 \"/>\n",
       "<path style=\"fill:none;stroke-width:0.75;stroke-linecap:round;stroke-linejoin:round;stroke:rgb(66.27451%,66.27451%,66.27451%);stroke-opacity:1;stroke-miterlimit:10;\" d=\"M 285.601562 279.289062 L 293.28125 279.289062 \"/>\n",
       "<path style=\"fill:none;stroke-width:0.75;stroke-linecap:round;stroke-linejoin:round;stroke:rgb(66.27451%,66.27451%,66.27451%);stroke-opacity:1;stroke-miterlimit:10;\" d=\"M 283.039062 284.230469 L 290.71875 284.230469 \"/>\n",
       "<path style=\"fill:none;stroke-width:0.75;stroke-linecap:round;stroke-linejoin:round;stroke:rgb(66.27451%,66.27451%,66.27451%);stroke-opacity:1;stroke-miterlimit:10;\" d=\"M 280.480469 288.996094 L 288.160156 288.996094 \"/>\n",
       "<path style=\"fill:none;stroke-width:0.75;stroke-linecap:round;stroke-linejoin:round;stroke:rgb(66.27451%,66.27451%,66.27451%);stroke-opacity:1;stroke-miterlimit:10;\" d=\"M 277.921875 293.589844 L 285.601562 293.589844 \"/>\n",
       "<path style=\"fill:none;stroke-width:0.75;stroke-linecap:round;stroke-linejoin:round;stroke:rgb(66.27451%,66.27451%,66.27451%);stroke-opacity:1;stroke-miterlimit:10;\" d=\"M 275.359375 298.035156 L 283.039062 298.035156 \"/>\n",
       "<path style=\"fill:none;stroke-width:0.75;stroke-linecap:round;stroke-linejoin:round;stroke:rgb(66.27451%,66.27451%,66.27451%);stroke-opacity:1;stroke-miterlimit:10;\" d=\"M 272.800781 302.308594 L 280.480469 302.308594 \"/>\n",
       "<path style=\"fill:none;stroke-width:0.75;stroke-linecap:round;stroke-linejoin:round;stroke:rgb(66.27451%,66.27451%,66.27451%);stroke-opacity:1;stroke-miterlimit:10;\" d=\"M 270.238281 306.421875 L 277.921875 306.421875 \"/>\n",
       "<path style=\"fill:none;stroke-width:0.75;stroke-linecap:round;stroke-linejoin:round;stroke:rgb(66.27451%,66.27451%,66.27451%);stroke-opacity:1;stroke-miterlimit:10;\" d=\"M 267.679688 310.390625 L 275.359375 310.390625 \"/>\n",
       "<path style=\"fill:none;stroke-width:0.75;stroke-linecap:round;stroke-linejoin:round;stroke:rgb(66.27451%,66.27451%,66.27451%);stroke-opacity:1;stroke-miterlimit:10;\" d=\"M 265.121094 314.214844 L 272.800781 314.214844 \"/>\n",
       "<path style=\"fill:none;stroke-width:0.75;stroke-linecap:round;stroke-linejoin:round;stroke:rgb(66.27451%,66.27451%,66.27451%);stroke-opacity:1;stroke-miterlimit:10;\" d=\"M 262.558594 317.90625 L 270.238281 317.90625 \"/>\n",
       "<path style=\"fill:none;stroke-width:0.75;stroke-linecap:round;stroke-linejoin:round;stroke:rgb(66.27451%,66.27451%,66.27451%);stroke-opacity:1;stroke-miterlimit:10;\" d=\"M 260 321.453125 L 267.679688 321.453125 \"/>\n",
       "<path style=\"fill:none;stroke-width:0.75;stroke-linecap:round;stroke-linejoin:round;stroke:rgb(66.27451%,66.27451%,66.27451%);stroke-opacity:1;stroke-miterlimit:10;\" d=\"M 257.441406 324.871094 L 265.121094 324.871094 \"/>\n",
       "<path style=\"fill:none;stroke-width:0.75;stroke-linecap:round;stroke-linejoin:round;stroke:rgb(66.27451%,66.27451%,66.27451%);stroke-opacity:1;stroke-miterlimit:10;\" d=\"M 254.878906 328.164062 L 262.558594 328.164062 \"/>\n",
       "<path style=\"fill:none;stroke-width:0.75;stroke-linecap:round;stroke-linejoin:round;stroke:rgb(66.27451%,66.27451%,66.27451%);stroke-opacity:1;stroke-miterlimit:10;\" d=\"M 252.320312 331.324219 L 260 331.324219 \"/>\n",
       "<path style=\"fill:none;stroke-width:0.75;stroke-linecap:round;stroke-linejoin:round;stroke:rgb(66.27451%,66.27451%,66.27451%);stroke-opacity:1;stroke-miterlimit:10;\" d=\"M 249.761719 334.371094 L 257.441406 334.371094 \"/>\n",
       "<path style=\"fill:none;stroke-width:0.75;stroke-linecap:round;stroke-linejoin:round;stroke:rgb(66.27451%,66.27451%,66.27451%);stroke-opacity:1;stroke-miterlimit:10;\" d=\"M 247.199219 337.304688 L 254.878906 337.304688 \"/>\n",
       "<path style=\"fill:none;stroke-width:0.75;stroke-linecap:round;stroke-linejoin:round;stroke:rgb(66.27451%,66.27451%,66.27451%);stroke-opacity:1;stroke-miterlimit:10;\" d=\"M 244.640625 340.089844 L 252.320312 340.089844 \"/>\n",
       "<path style=\"fill:none;stroke-width:0.75;stroke-linecap:round;stroke-linejoin:round;stroke:rgb(66.27451%,66.27451%,66.27451%);stroke-opacity:1;stroke-miterlimit:10;\" d=\"M 242.078125 342.777344 L 249.761719 342.777344 \"/>\n",
       "<path style=\"fill:none;stroke-width:0.75;stroke-linecap:round;stroke-linejoin:round;stroke:rgb(66.27451%,66.27451%,66.27451%);stroke-opacity:1;stroke-miterlimit:10;\" d=\"M 239.519531 345.371094 L 247.199219 345.371094 \"/>\n",
       "<path style=\"fill:none;stroke-width:0.75;stroke-linecap:round;stroke-linejoin:round;stroke:rgb(66.27451%,66.27451%,66.27451%);stroke-opacity:1;stroke-miterlimit:10;\" d=\"M 236.960938 347.855469 L 244.640625 347.855469 \"/>\n",
       "<path style=\"fill:none;stroke-width:0.75;stroke-linecap:round;stroke-linejoin:round;stroke:rgb(66.27451%,66.27451%,66.27451%);stroke-opacity:1;stroke-miterlimit:10;\" d=\"M 234.398438 350.199219 L 242.078125 350.199219 \"/>\n",
       "<path style=\"fill:none;stroke-width:0.75;stroke-linecap:round;stroke-linejoin:round;stroke:rgb(66.27451%,66.27451%,66.27451%);stroke-opacity:1;stroke-miterlimit:10;\" d=\"M 231.839844 352.445312 L 239.519531 352.445312 \"/>\n",
       "<path style=\"fill:none;stroke-width:0.75;stroke-linecap:round;stroke-linejoin:round;stroke:rgb(66.27451%,66.27451%,66.27451%);stroke-opacity:1;stroke-miterlimit:10;\" d=\"M 229.28125 354.632812 L 236.960938 354.632812 \"/>\n",
       "<path style=\"fill:none;stroke-width:0.75;stroke-linecap:round;stroke-linejoin:round;stroke:rgb(66.27451%,66.27451%,66.27451%);stroke-opacity:1;stroke-miterlimit:10;\" d=\"M 226.71875 356.691406 L 234.398438 356.691406 \"/>\n",
       "<path style=\"fill:none;stroke-width:0.75;stroke-linecap:round;stroke-linejoin:round;stroke:rgb(66.27451%,66.27451%,66.27451%);stroke-opacity:1;stroke-miterlimit:10;\" d=\"M 224.160156 358.652344 L 231.839844 358.652344 \"/>\n",
       "<path style=\"fill:none;stroke-width:0.75;stroke-linecap:round;stroke-linejoin:round;stroke:rgb(66.27451%,66.27451%,66.27451%);stroke-opacity:1;stroke-miterlimit:10;\" d=\"M 221.601562 360.546875 L 229.28125 360.546875 \"/>\n",
       "<path style=\"fill:none;stroke-width:0.75;stroke-linecap:round;stroke-linejoin:round;stroke:rgb(66.27451%,66.27451%,66.27451%);stroke-opacity:1;stroke-miterlimit:10;\" d=\"M 219.039062 362.371094 L 226.71875 362.371094 \"/>\n",
       "<path style=\"fill:none;stroke-width:0.75;stroke-linecap:round;stroke-linejoin:round;stroke:rgb(66.27451%,66.27451%,66.27451%);stroke-opacity:1;stroke-miterlimit:10;\" d=\"M 216.480469 364.128906 L 224.160156 364.128906 \"/>\n",
       "<path style=\"fill:none;stroke-width:0.75;stroke-linecap:round;stroke-linejoin:round;stroke:rgb(66.27451%,66.27451%,66.27451%);stroke-opacity:1;stroke-miterlimit:10;\" d=\"M 213.921875 365.816406 L 221.601562 365.816406 \"/>\n",
       "<path style=\"fill:none;stroke-width:0.75;stroke-linecap:round;stroke-linejoin:round;stroke:rgb(66.27451%,66.27451%,66.27451%);stroke-opacity:1;stroke-miterlimit:10;\" d=\"M 211.359375 367.441406 L 219.039062 367.441406 \"/>\n",
       "<path style=\"fill:none;stroke-width:0.75;stroke-linecap:round;stroke-linejoin:round;stroke:rgb(66.27451%,66.27451%,66.27451%);stroke-opacity:1;stroke-miterlimit:10;\" d=\"M 208.800781 369.007812 L 216.480469 369.007812 \"/>\n",
       "<path style=\"fill:none;stroke-width:0.75;stroke-linecap:round;stroke-linejoin:round;stroke:rgb(66.27451%,66.27451%,66.27451%);stroke-opacity:1;stroke-miterlimit:10;\" d=\"M 206.238281 370.515625 L 213.921875 370.515625 \"/>\n",
       "<path style=\"fill:none;stroke-width:0.75;stroke-linecap:round;stroke-linejoin:round;stroke:rgb(66.27451%,66.27451%,66.27451%);stroke-opacity:1;stroke-miterlimit:10;\" d=\"M 203.679688 372.011719 L 211.359375 372.011719 \"/>\n",
       "<path style=\"fill:none;stroke-width:0.75;stroke-linecap:round;stroke-linejoin:round;stroke:rgb(66.27451%,66.27451%,66.27451%);stroke-opacity:1;stroke-miterlimit:10;\" d=\"M 201.121094 373.425781 L 208.800781 373.425781 \"/>\n",
       "<path style=\"fill:none;stroke-width:0.75;stroke-linecap:round;stroke-linejoin:round;stroke:rgb(66.27451%,66.27451%,66.27451%);stroke-opacity:1;stroke-miterlimit:10;\" d=\"M 198.558594 374.804688 L 206.238281 374.804688 \"/>\n",
       "<path style=\"fill:none;stroke-width:0.75;stroke-linecap:round;stroke-linejoin:round;stroke:rgb(66.27451%,66.27451%,66.27451%);stroke-opacity:1;stroke-miterlimit:10;\" d=\"M 196 376.132812 L 203.679688 376.132812 \"/>\n",
       "<path style=\"fill:none;stroke-width:0.75;stroke-linecap:round;stroke-linejoin:round;stroke:rgb(66.27451%,66.27451%,66.27451%);stroke-opacity:1;stroke-miterlimit:10;\" d=\"M 193.441406 377.425781 L 201.121094 377.425781 \"/>\n",
       "<path style=\"fill:none;stroke-width:0.75;stroke-linecap:round;stroke-linejoin:round;stroke:rgb(66.27451%,66.27451%,66.27451%);stroke-opacity:1;stroke-miterlimit:10;\" d=\"M 190.878906 378.652344 L 198.558594 378.652344 \"/>\n",
       "<path style=\"fill:none;stroke-width:0.75;stroke-linecap:round;stroke-linejoin:round;stroke:rgb(66.27451%,66.27451%,66.27451%);stroke-opacity:1;stroke-miterlimit:10;\" d=\"M 188.320312 379.839844 L 196 379.839844 \"/>\n",
       "<path style=\"fill:none;stroke-width:0.75;stroke-linecap:round;stroke-linejoin:round;stroke:rgb(66.27451%,66.27451%,66.27451%);stroke-opacity:1;stroke-miterlimit:10;\" d=\"M 185.761719 380.96875 L 193.441406 380.96875 \"/>\n",
       "<path style=\"fill:none;stroke-width:0.75;stroke-linecap:round;stroke-linejoin:round;stroke:rgb(66.27451%,66.27451%,66.27451%);stroke-opacity:1;stroke-miterlimit:10;\" d=\"M 183.199219 382.046875 L 190.878906 382.046875 \"/>\n",
       "<path style=\"fill:none;stroke-width:0.75;stroke-linecap:round;stroke-linejoin:round;stroke:rgb(66.27451%,66.27451%,66.27451%);stroke-opacity:1;stroke-miterlimit:10;\" d=\"M 180.640625 383.054688 L 188.320312 383.054688 \"/>\n",
       "<path style=\"fill:none;stroke-width:0.75;stroke-linecap:round;stroke-linejoin:round;stroke:rgb(66.27451%,66.27451%,66.27451%);stroke-opacity:1;stroke-miterlimit:10;\" d=\"M 178.078125 384.007812 L 185.761719 384.007812 \"/>\n",
       "<path style=\"fill:none;stroke-width:0.75;stroke-linecap:round;stroke-linejoin:round;stroke:rgb(66.27451%,66.27451%,66.27451%);stroke-opacity:1;stroke-miterlimit:10;\" d=\"M 175.519531 384.890625 L 183.199219 384.890625 \"/>\n",
       "<path style=\"fill:none;stroke-width:0.75;stroke-linecap:round;stroke-linejoin:round;stroke:rgb(66.27451%,66.27451%,66.27451%);stroke-opacity:1;stroke-miterlimit:10;\" d=\"M 172.960938 385.714844 L 180.640625 385.714844 \"/>\n",
       "<path style=\"fill:none;stroke-width:0.75;stroke-linecap:round;stroke-linejoin:round;stroke:rgb(66.27451%,66.27451%,66.27451%);stroke-opacity:1;stroke-miterlimit:10;\" d=\"M 170.398438 386.457031 L 178.078125 386.457031 \"/>\n",
       "<path style=\"fill:none;stroke-width:0.75;stroke-linecap:round;stroke-linejoin:round;stroke:rgb(66.27451%,66.27451%,66.27451%);stroke-opacity:1;stroke-miterlimit:10;\" d=\"M 167.839844 387.144531 L 175.519531 387.144531 \"/>\n",
       "<path style=\"fill:none;stroke-width:0.75;stroke-linecap:round;stroke-linejoin:round;stroke:rgb(66.27451%,66.27451%,66.27451%);stroke-opacity:1;stroke-miterlimit:10;\" d=\"M 165.28125 387.753906 L 172.960938 387.753906 \"/>\n",
       "<path style=\"fill:none;stroke-width:0.75;stroke-linecap:round;stroke-linejoin:round;stroke:rgb(66.27451%,66.27451%,66.27451%);stroke-opacity:1;stroke-miterlimit:10;\" d=\"M 162.71875 388.300781 L 170.398438 388.300781 \"/>\n",
       "<path style=\"fill:none;stroke-width:0.75;stroke-linecap:round;stroke-linejoin:round;stroke:rgb(66.27451%,66.27451%,66.27451%);stroke-opacity:1;stroke-miterlimit:10;\" d=\"M 160.160156 388.789062 L 167.839844 388.789062 \"/>\n",
       "<path style=\"fill:none;stroke-width:0.75;stroke-linecap:round;stroke-linejoin:round;stroke:rgb(66.27451%,66.27451%,66.27451%);stroke-opacity:1;stroke-miterlimit:10;\" d=\"M 157.601562 389.203125 L 165.28125 389.203125 \"/>\n",
       "<path style=\"fill:none;stroke-width:0.75;stroke-linecap:round;stroke-linejoin:round;stroke:rgb(66.27451%,66.27451%,66.27451%);stroke-opacity:1;stroke-miterlimit:10;\" d=\"M 155.039062 389.554688 L 162.71875 389.554688 \"/>\n",
       "<path style=\"fill:none;stroke-width:0.75;stroke-linecap:round;stroke-linejoin:round;stroke:rgb(66.27451%,66.27451%,66.27451%);stroke-opacity:1;stroke-miterlimit:10;\" d=\"M 152.480469 389.847656 L 160.160156 389.847656 \"/>\n",
       "<path style=\"fill:none;stroke-width:0.75;stroke-linecap:round;stroke-linejoin:round;stroke:rgb(66.27451%,66.27451%,66.27451%);stroke-opacity:1;stroke-miterlimit:10;\" d=\"M 149.921875 390.085938 L 157.601562 390.085938 \"/>\n",
       "<path style=\"fill:none;stroke-width:0.75;stroke-linecap:round;stroke-linejoin:round;stroke:rgb(66.27451%,66.27451%,66.27451%);stroke-opacity:1;stroke-miterlimit:10;\" d=\"M 147.359375 390.273438 L 155.039062 390.273438 \"/>\n",
       "<path style=\"fill:none;stroke-width:0.75;stroke-linecap:round;stroke-linejoin:round;stroke:rgb(66.27451%,66.27451%,66.27451%);stroke-opacity:1;stroke-miterlimit:10;\" d=\"M 144.800781 390.402344 L 152.480469 390.402344 \"/>\n",
       "<path style=\"fill:none;stroke-width:0.75;stroke-linecap:round;stroke-linejoin:round;stroke:rgb(66.27451%,66.27451%,66.27451%);stroke-opacity:1;stroke-miterlimit:10;\" d=\"M 142.238281 390.476562 L 149.921875 390.476562 \"/>\n",
       "<path style=\"fill:none;stroke-width:0.75;stroke-linecap:round;stroke-linejoin:round;stroke:rgb(66.27451%,66.27451%,66.27451%);stroke-opacity:1;stroke-miterlimit:10;\" d=\"M 139.679688 390.5 L 147.359375 390.5 \"/>\n",
       "<path style=\"fill:none;stroke-width:0.75;stroke-linecap:round;stroke-linejoin:round;stroke:rgb(66.27451%,66.27451%,66.27451%);stroke-opacity:1;stroke-miterlimit:10;\" d=\"M 137.121094 390.472656 L 144.800781 390.472656 \"/>\n",
       "<path style=\"fill:none;stroke-width:0.75;stroke-linecap:round;stroke-linejoin:round;stroke:rgb(66.27451%,66.27451%,66.27451%);stroke-opacity:1;stroke-miterlimit:10;\" d=\"M 134.558594 390.402344 L 142.238281 390.402344 \"/>\n",
       "<path style=\"fill:none;stroke-width:0.75;stroke-linecap:round;stroke-linejoin:round;stroke:rgb(66.27451%,66.27451%,66.27451%);stroke-opacity:1;stroke-miterlimit:10;\" d=\"M 132 390.28125 L 139.679688 390.28125 \"/>\n",
       "<path style=\"fill:none;stroke-width:0.75;stroke-linecap:round;stroke-linejoin:round;stroke:rgb(66.27451%,66.27451%,66.27451%);stroke-opacity:1;stroke-miterlimit:10;\" d=\"M 129.441406 390.109375 L 137.121094 390.109375 \"/>\n",
       "<path style=\"fill:none;stroke-width:0.75;stroke-linecap:round;stroke-linejoin:round;stroke:rgb(66.27451%,66.27451%,66.27451%);stroke-opacity:1;stroke-miterlimit:10;\" d=\"M 126.878906 389.890625 L 134.558594 389.890625 \"/>\n",
       "<path style=\"fill:none;stroke-width:0.75;stroke-linecap:round;stroke-linejoin:round;stroke:rgb(66.27451%,66.27451%,66.27451%);stroke-opacity:1;stroke-miterlimit:10;\" d=\"M 124.320312 389.621094 L 132 389.621094 \"/>\n",
       "<path style=\"fill:none;stroke-width:0.75;stroke-linecap:round;stroke-linejoin:round;stroke:rgb(66.27451%,66.27451%,66.27451%);stroke-opacity:1;stroke-miterlimit:10;\" d=\"M 121.761719 389.300781 L 129.441406 389.300781 \"/>\n",
       "<path style=\"fill:none;stroke-width:0.75;stroke-linecap:round;stroke-linejoin:round;stroke:rgb(66.27451%,66.27451%,66.27451%);stroke-opacity:1;stroke-miterlimit:10;\" d=\"M 119.199219 388.933594 L 126.878906 388.933594 \"/>\n",
       "<path style=\"fill:none;stroke-width:0.75;stroke-linecap:round;stroke-linejoin:round;stroke:rgb(66.27451%,66.27451%,66.27451%);stroke-opacity:1;stroke-miterlimit:10;\" d=\"M 116.640625 388.511719 L 124.320312 388.511719 \"/>\n",
       "<path style=\"fill:none;stroke-width:0.75;stroke-linecap:round;stroke-linejoin:round;stroke:rgb(66.27451%,66.27451%,66.27451%);stroke-opacity:1;stroke-miterlimit:10;\" d=\"M 114.078125 388.046875 L 121.761719 388.046875 \"/>\n",
       "<path style=\"fill:none;stroke-width:0.75;stroke-linecap:round;stroke-linejoin:round;stroke:rgb(66.27451%,66.27451%,66.27451%);stroke-opacity:1;stroke-miterlimit:10;\" d=\"M 111.519531 387.527344 L 119.199219 387.527344 \"/>\n",
       "<path style=\"fill:none;stroke-width:0.75;stroke-linecap:round;stroke-linejoin:round;stroke:rgb(66.27451%,66.27451%,66.27451%);stroke-opacity:1;stroke-miterlimit:10;\" d=\"M 108.960938 386.964844 L 116.640625 386.964844 \"/>\n",
       "<path style=\"fill:none;stroke-width:0.75;stroke-linecap:round;stroke-linejoin:round;stroke:rgb(66.27451%,66.27451%,66.27451%);stroke-opacity:1;stroke-miterlimit:10;\" d=\"M 106.398438 386.355469 L 114.078125 386.355469 \"/>\n",
       "<path style=\"fill:none;stroke-width:0.75;stroke-linecap:round;stroke-linejoin:round;stroke:rgb(66.27451%,66.27451%,66.27451%);stroke-opacity:1;stroke-miterlimit:10;\" d=\"M 103.839844 385.695312 L 111.519531 385.695312 \"/>\n",
       "<path style=\"fill:none;stroke-width:0.75;stroke-linecap:round;stroke-linejoin:round;stroke:rgb(66.27451%,66.27451%,66.27451%);stroke-opacity:1;stroke-miterlimit:10;\" d=\"M 101.28125 385.007812 L 108.960938 385.007812 \"/>\n",
       "<path style=\"fill:none;stroke-width:0.75;stroke-linecap:round;stroke-linejoin:round;stroke:rgb(66.27451%,66.27451%,66.27451%);stroke-opacity:1;stroke-miterlimit:10;\" d=\"M 98.71875 384.273438 L 106.398438 384.273438 \"/>\n",
       "<path style=\"fill:none;stroke-width:0.75;stroke-linecap:round;stroke-linejoin:round;stroke:rgb(66.27451%,66.27451%,66.27451%);stroke-opacity:1;stroke-miterlimit:10;\" d=\"M 96.160156 383.523438 L 103.839844 383.523438 \"/>\n",
       "<path style=\"fill:none;stroke-width:0.75;stroke-linecap:round;stroke-linejoin:round;stroke:rgb(66.27451%,66.27451%,66.27451%);stroke-opacity:1;stroke-miterlimit:10;\" d=\"M 93.601562 382.75 L 101.28125 382.75 \"/>\n",
       "<path style=\"fill:none;stroke-width:0.75;stroke-linecap:round;stroke-linejoin:round;stroke:rgb(66.27451%,66.27451%,66.27451%);stroke-opacity:1;stroke-miterlimit:10;\" d=\"M 91.039062 381.960938 L 98.71875 381.960938 \"/>\n",
       "<path style=\"fill:none;stroke-width:0.75;stroke-linecap:round;stroke-linejoin:round;stroke:rgb(66.27451%,66.27451%,66.27451%);stroke-opacity:1;stroke-miterlimit:10;\" d=\"M 88.480469 381.160156 L 96.160156 381.160156 \"/>\n",
       "<path style=\"fill:none;stroke-width:0.75;stroke-linecap:round;stroke-linejoin:round;stroke:rgb(66.27451%,66.27451%,66.27451%);stroke-opacity:1;stroke-miterlimit:10;\" d=\"M 85.921875 380.375 L 93.601562 380.375 \"/>\n",
       "<path style=\"fill:none;stroke-width:0.75;stroke-linecap:round;stroke-linejoin:round;stroke:rgb(66.27451%,66.27451%,66.27451%);stroke-opacity:1;stroke-miterlimit:10;\" d=\"M 83.359375 379.5625 L 91.039062 379.5625 \"/>\n",
       "<path style=\"fill:none;stroke-width:0.75;stroke-linecap:round;stroke-linejoin:round;stroke:rgb(66.27451%,66.27451%,66.27451%);stroke-opacity:1;stroke-miterlimit:10;\" d=\"M 80.800781 378.78125 L 88.480469 378.78125 \"/>\n",
       "<path style=\"fill:none;stroke-width:0.75;stroke-linecap:round;stroke-linejoin:round;stroke:rgb(66.27451%,66.27451%,66.27451%);stroke-opacity:1;stroke-miterlimit:10;\" d=\"M 78.238281 378.003906 L 85.921875 378.003906 \"/>\n",
       "<path style=\"fill:none;stroke-width:0.75;stroke-linecap:round;stroke-linejoin:round;stroke:rgb(66.27451%,66.27451%,66.27451%);stroke-opacity:1;stroke-miterlimit:10;\" d=\"M 75.679688 377.265625 L 83.359375 377.265625 \"/>\n",
       "<path style=\"fill:none;stroke-width:0.75;stroke-linecap:round;stroke-linejoin:round;stroke:rgb(66.27451%,66.27451%,66.27451%);stroke-opacity:1;stroke-miterlimit:10;\" d=\"M 73.121094 376.539062 L 80.800781 376.539062 \"/>\n",
       "<path style=\"fill:none;stroke-width:0.75;stroke-linecap:round;stroke-linejoin:round;stroke:rgb(66.27451%,66.27451%,66.27451%);stroke-opacity:1;stroke-miterlimit:10;\" d=\"M 70.558594 375.828125 L 78.238281 375.828125 \"/>\n",
       "<path style=\"fill:none;stroke-width:0.75;stroke-linecap:round;stroke-linejoin:round;stroke:rgb(66.27451%,66.27451%,66.27451%);stroke-opacity:1;stroke-miterlimit:10;\" d=\"M 454.558594 172.660156 L 462.238281 172.660156 \"/>\n",
       "<path style=\"fill:none;stroke-width:0.75;stroke-linecap:round;stroke-linejoin:round;stroke:rgb(66.27451%,66.27451%,66.27451%);stroke-opacity:1;stroke-miterlimit:10;\" d=\"M 452 172.765625 L 459.679688 172.765625 \"/>\n",
       "<path style=\"fill:none;stroke-width:0.75;stroke-linecap:round;stroke-linejoin:round;stroke:rgb(66.27451%,66.27451%,66.27451%);stroke-opacity:1;stroke-miterlimit:10;\" d=\"M 449.441406 172.882812 L 457.121094 172.882812 \"/>\n",
       "<path style=\"fill:none;stroke-width:0.75;stroke-linecap:round;stroke-linejoin:round;stroke:rgb(66.27451%,66.27451%,66.27451%);stroke-opacity:1;stroke-miterlimit:10;\" d=\"M 446.878906 173.011719 L 454.558594 173.011719 \"/>\n",
       "<path style=\"fill:none;stroke-width:0.75;stroke-linecap:round;stroke-linejoin:round;stroke:rgb(66.27451%,66.27451%,66.27451%);stroke-opacity:1;stroke-miterlimit:10;\" d=\"M 444.320312 173.15625 L 452 173.15625 \"/>\n",
       "<path style=\"fill:none;stroke-width:0.75;stroke-linecap:round;stroke-linejoin:round;stroke:rgb(66.27451%,66.27451%,66.27451%);stroke-opacity:1;stroke-miterlimit:10;\" d=\"M 441.761719 173.3125 L 449.441406 173.3125 \"/>\n",
       "<path style=\"fill:none;stroke-width:0.75;stroke-linecap:round;stroke-linejoin:round;stroke:rgb(66.27451%,66.27451%,66.27451%);stroke-opacity:1;stroke-miterlimit:10;\" d=\"M 439.199219 173.488281 L 446.878906 173.488281 \"/>\n",
       "<path style=\"fill:none;stroke-width:0.75;stroke-linecap:round;stroke-linejoin:round;stroke:rgb(66.27451%,66.27451%,66.27451%);stroke-opacity:1;stroke-miterlimit:10;\" d=\"M 436.640625 173.679688 L 444.320312 173.679688 \"/>\n",
       "<path style=\"fill:none;stroke-width:0.75;stroke-linecap:round;stroke-linejoin:round;stroke:rgb(66.27451%,66.27451%,66.27451%);stroke-opacity:1;stroke-miterlimit:10;\" d=\"M 434.078125 173.890625 L 441.761719 173.890625 \"/>\n",
       "<path style=\"fill:none;stroke-width:0.75;stroke-linecap:round;stroke-linejoin:round;stroke:rgb(66.27451%,66.27451%,66.27451%);stroke-opacity:1;stroke-miterlimit:10;\" d=\"M 431.519531 174.125 L 439.199219 174.125 \"/>\n",
       "<path style=\"fill:none;stroke-width:0.75;stroke-linecap:round;stroke-linejoin:round;stroke:rgb(66.27451%,66.27451%,66.27451%);stroke-opacity:1;stroke-miterlimit:10;\" d=\"M 428.960938 174.382812 L 436.640625 174.382812 \"/>\n",
       "<path style=\"fill:none;stroke-width:0.75;stroke-linecap:round;stroke-linejoin:round;stroke:rgb(66.27451%,66.27451%,66.27451%);stroke-opacity:1;stroke-miterlimit:10;\" d=\"M 426.398438 174.667969 L 434.078125 174.667969 \"/>\n",
       "<path style=\"fill:none;stroke-width:0.75;stroke-linecap:round;stroke-linejoin:round;stroke:rgb(66.27451%,66.27451%,66.27451%);stroke-opacity:1;stroke-miterlimit:10;\" d=\"M 423.839844 174.980469 L 431.519531 174.980469 \"/>\n",
       "<path style=\"fill:none;stroke-width:0.75;stroke-linecap:round;stroke-linejoin:round;stroke:rgb(66.27451%,66.27451%,66.27451%);stroke-opacity:1;stroke-miterlimit:10;\" d=\"M 421.28125 175.324219 L 428.960938 175.324219 \"/>\n",
       "<path style=\"fill:none;stroke-width:0.75;stroke-linecap:round;stroke-linejoin:round;stroke:rgb(66.27451%,66.27451%,66.27451%);stroke-opacity:1;stroke-miterlimit:10;\" d=\"M 418.71875 175.703125 L 426.398438 175.703125 \"/>\n",
       "<path style=\"fill:none;stroke-width:0.75;stroke-linecap:round;stroke-linejoin:round;stroke:rgb(66.27451%,66.27451%,66.27451%);stroke-opacity:1;stroke-miterlimit:10;\" d=\"M 416.160156 176.125 L 423.839844 176.125 \"/>\n",
       "<path style=\"fill:none;stroke-width:0.75;stroke-linecap:round;stroke-linejoin:round;stroke:rgb(66.27451%,66.27451%,66.27451%);stroke-opacity:1;stroke-miterlimit:10;\" d=\"M 413.601562 176.585938 L 421.28125 176.585938 \"/>\n",
       "<path style=\"fill:none;stroke-width:0.75;stroke-linecap:round;stroke-linejoin:round;stroke:rgb(66.27451%,66.27451%,66.27451%);stroke-opacity:1;stroke-miterlimit:10;\" d=\"M 411.039062 177.089844 L 418.71875 177.089844 \"/>\n",
       "<path style=\"fill:none;stroke-width:0.75;stroke-linecap:round;stroke-linejoin:round;stroke:rgb(66.27451%,66.27451%,66.27451%);stroke-opacity:1;stroke-miterlimit:10;\" d=\"M 408.480469 177.648438 L 416.160156 177.648438 \"/>\n",
       "<path style=\"fill:none;stroke-width:0.75;stroke-linecap:round;stroke-linejoin:round;stroke:rgb(66.27451%,66.27451%,66.27451%);stroke-opacity:1;stroke-miterlimit:10;\" d=\"M 405.921875 178.261719 L 413.601562 178.261719 \"/>\n",
       "<path style=\"fill:none;stroke-width:0.75;stroke-linecap:round;stroke-linejoin:round;stroke:rgb(66.27451%,66.27451%,66.27451%);stroke-opacity:1;stroke-miterlimit:10;\" d=\"M 403.359375 178.9375 L 411.039062 178.9375 \"/>\n",
       "<path style=\"fill:none;stroke-width:0.75;stroke-linecap:round;stroke-linejoin:round;stroke:rgb(66.27451%,66.27451%,66.27451%);stroke-opacity:1;stroke-miterlimit:10;\" d=\"M 400.800781 179.675781 L 408.480469 179.675781 \"/>\n",
       "<path style=\"fill:none;stroke-width:0.75;stroke-linecap:round;stroke-linejoin:round;stroke:rgb(66.27451%,66.27451%,66.27451%);stroke-opacity:1;stroke-miterlimit:10;\" d=\"M 398.238281 180.488281 L 405.921875 180.488281 \"/>\n",
       "<path style=\"fill:none;stroke-width:0.75;stroke-linecap:round;stroke-linejoin:round;stroke:rgb(66.27451%,66.27451%,66.27451%);stroke-opacity:1;stroke-miterlimit:10;\" d=\"M 395.679688 181.378906 L 403.359375 181.378906 \"/>\n",
       "<path style=\"fill:none;stroke-width:0.75;stroke-linecap:round;stroke-linejoin:round;stroke:rgb(66.27451%,66.27451%,66.27451%);stroke-opacity:1;stroke-miterlimit:10;\" d=\"M 393.121094 182.355469 L 400.800781 182.355469 \"/>\n",
       "<path style=\"fill:none;stroke-width:0.75;stroke-linecap:round;stroke-linejoin:round;stroke:rgb(66.27451%,66.27451%,66.27451%);stroke-opacity:1;stroke-miterlimit:10;\" d=\"M 390.558594 183.414062 L 398.238281 183.414062 \"/>\n",
       "<path style=\"fill:none;stroke-width:0.75;stroke-linecap:round;stroke-linejoin:round;stroke:rgb(66.27451%,66.27451%,66.27451%);stroke-opacity:1;stroke-miterlimit:10;\" d=\"M 388 184.570312 L 395.679688 184.570312 \"/>\n",
       "<path style=\"fill:none;stroke-width:0.75;stroke-linecap:round;stroke-linejoin:round;stroke:rgb(66.27451%,66.27451%,66.27451%);stroke-opacity:1;stroke-miterlimit:10;\" d=\"M 385.441406 185.84375 L 393.121094 185.84375 \"/>\n",
       "<path style=\"fill:none;stroke-width:0.75;stroke-linecap:round;stroke-linejoin:round;stroke:rgb(66.27451%,66.27451%,66.27451%);stroke-opacity:1;stroke-miterlimit:10;\" d=\"M 382.878906 187.234375 L 390.558594 187.234375 \"/>\n",
       "<path style=\"fill:none;stroke-width:0.75;stroke-linecap:round;stroke-linejoin:round;stroke:rgb(66.27451%,66.27451%,66.27451%);stroke-opacity:1;stroke-miterlimit:10;\" d=\"M 380.320312 188.746094 L 388 188.746094 \"/>\n",
       "<path style=\"fill:none;stroke-width:0.75;stroke-linecap:round;stroke-linejoin:round;stroke:rgb(66.27451%,66.27451%,66.27451%);stroke-opacity:1;stroke-miterlimit:10;\" d=\"M 377.761719 190.394531 L 385.441406 190.394531 \"/>\n",
       "<path style=\"fill:none;stroke-width:0.75;stroke-linecap:round;stroke-linejoin:round;stroke:rgb(66.27451%,66.27451%,66.27451%);stroke-opacity:1;stroke-miterlimit:10;\" d=\"M 375.199219 192.183594 L 382.878906 192.183594 \"/>\n",
       "<path style=\"fill:none;stroke-width:0.75;stroke-linecap:round;stroke-linejoin:round;stroke:rgb(66.27451%,66.27451%,66.27451%);stroke-opacity:1;stroke-miterlimit:10;\" d=\"M 372.640625 194.125 L 380.320312 194.125 \"/>\n",
       "<path style=\"fill:none;stroke-width:0.75;stroke-linecap:round;stroke-linejoin:round;stroke:rgb(66.27451%,66.27451%,66.27451%);stroke-opacity:1;stroke-miterlimit:10;\" d=\"M 370.078125 196.222656 L 377.761719 196.222656 \"/>\n",
       "<path style=\"fill:none;stroke-width:0.75;stroke-linecap:round;stroke-linejoin:round;stroke:rgb(66.27451%,66.27451%,66.27451%);stroke-opacity:1;stroke-miterlimit:10;\" d=\"M 367.519531 198.496094 L 375.199219 198.496094 \"/>\n",
       "<path style=\"fill:none;stroke-width:0.75;stroke-linecap:round;stroke-linejoin:round;stroke:rgb(66.27451%,66.27451%,66.27451%);stroke-opacity:1;stroke-miterlimit:10;\" d=\"M 364.960938 200.941406 L 372.640625 200.941406 \"/>\n",
       "<path style=\"fill:none;stroke-width:0.75;stroke-linecap:round;stroke-linejoin:round;stroke:rgb(66.27451%,66.27451%,66.27451%);stroke-opacity:1;stroke-miterlimit:10;\" d=\"M 362.398438 203.578125 L 370.078125 203.578125 \"/>\n",
       "<path style=\"fill:none;stroke-width:0.75;stroke-linecap:round;stroke-linejoin:round;stroke:rgb(66.27451%,66.27451%,66.27451%);stroke-opacity:1;stroke-miterlimit:10;\" d=\"M 359.839844 206.402344 L 367.519531 206.402344 \"/>\n",
       "<path style=\"fill:none;stroke-width:0.75;stroke-linecap:round;stroke-linejoin:round;stroke:rgb(66.27451%,66.27451%,66.27451%);stroke-opacity:1;stroke-miterlimit:10;\" d=\"M 357.28125 209.425781 L 364.960938 209.425781 \"/>\n",
       "<path style=\"fill:none;stroke-width:0.75;stroke-linecap:round;stroke-linejoin:round;stroke:rgb(66.27451%,66.27451%,66.27451%);stroke-opacity:1;stroke-miterlimit:10;\" d=\"M 354.71875 212.652344 L 362.398438 212.652344 \"/>\n",
       "<path style=\"fill:none;stroke-width:0.75;stroke-linecap:round;stroke-linejoin:round;stroke:rgb(66.27451%,66.27451%,66.27451%);stroke-opacity:1;stroke-miterlimit:10;\" d=\"M 352.160156 216.085938 L 359.839844 216.085938 \"/>\n",
       "<path style=\"fill:none;stroke-width:0.75;stroke-linecap:round;stroke-linejoin:round;stroke:rgb(66.27451%,66.27451%,66.27451%);stroke-opacity:1;stroke-miterlimit:10;\" d=\"M 349.601562 219.722656 L 357.28125 219.722656 \"/>\n",
       "<path style=\"fill:none;stroke-width:0.75;stroke-linecap:round;stroke-linejoin:round;stroke:rgb(66.27451%,66.27451%,66.27451%);stroke-opacity:1;stroke-miterlimit:10;\" d=\"M 347.039062 223.5625 L 354.71875 223.5625 \"/>\n",
       "<path style=\"fill:none;stroke-width:0.75;stroke-linecap:round;stroke-linejoin:round;stroke:rgb(66.27451%,66.27451%,66.27451%);stroke-opacity:1;stroke-miterlimit:10;\" d=\"M 344.480469 227.605469 L 352.160156 227.605469 \"/>\n",
       "<path style=\"fill:none;stroke-width:0.75;stroke-linecap:round;stroke-linejoin:round;stroke:rgb(66.27451%,66.27451%,66.27451%);stroke-opacity:1;stroke-miterlimit:10;\" d=\"M 341.921875 231.839844 L 349.601562 231.839844 \"/>\n",
       "<path style=\"fill:none;stroke-width:0.75;stroke-linecap:round;stroke-linejoin:round;stroke:rgb(66.27451%,66.27451%,66.27451%);stroke-opacity:1;stroke-miterlimit:10;\" d=\"M 339.359375 236.257812 L 347.039062 236.257812 \"/>\n",
       "<path style=\"fill:none;stroke-width:0.75;stroke-linecap:round;stroke-linejoin:round;stroke:rgb(66.27451%,66.27451%,66.27451%);stroke-opacity:1;stroke-miterlimit:10;\" d=\"M 336.800781 240.84375 L 344.480469 240.84375 \"/>\n",
       "<path style=\"fill:none;stroke-width:0.75;stroke-linecap:round;stroke-linejoin:round;stroke:rgb(66.27451%,66.27451%,66.27451%);stroke-opacity:1;stroke-miterlimit:10;\" d=\"M 334.238281 245.582031 L 341.921875 245.582031 \"/>\n",
       "<path style=\"fill:none;stroke-width:0.75;stroke-linecap:round;stroke-linejoin:round;stroke:rgb(66.27451%,66.27451%,66.27451%);stroke-opacity:1;stroke-miterlimit:10;\" d=\"M 331.679688 250.457031 L 339.359375 250.457031 \"/>\n",
       "<path style=\"fill:none;stroke-width:0.75;stroke-linecap:round;stroke-linejoin:round;stroke:rgb(66.27451%,66.27451%,66.27451%);stroke-opacity:1;stroke-miterlimit:10;\" d=\"M 329.121094 255.445312 L 336.800781 255.445312 \"/>\n",
       "<path style=\"fill:none;stroke-width:0.75;stroke-linecap:round;stroke-linejoin:round;stroke:rgb(66.27451%,66.27451%,66.27451%);stroke-opacity:1;stroke-miterlimit:10;\" d=\"M 326.558594 260.519531 L 334.238281 260.519531 \"/>\n",
       "<path style=\"fill:none;stroke-width:0.75;stroke-linecap:round;stroke-linejoin:round;stroke:rgb(66.27451%,66.27451%,66.27451%);stroke-opacity:1;stroke-miterlimit:10;\" d=\"M 324 265.652344 L 331.679688 265.652344 \"/>\n",
       "<path style=\"fill:none;stroke-width:0.75;stroke-linecap:round;stroke-linejoin:round;stroke:rgb(66.27451%,66.27451%,66.27451%);stroke-opacity:1;stroke-miterlimit:10;\" d=\"M 321.441406 270.820312 L 329.121094 270.820312 \"/>\n",
       "<path style=\"fill:none;stroke-width:0.75;stroke-linecap:round;stroke-linejoin:round;stroke:rgb(66.27451%,66.27451%,66.27451%);stroke-opacity:1;stroke-miterlimit:10;\" d=\"M 318.878906 275.992188 L 326.558594 275.992188 \"/>\n",
       "<path style=\"fill:none;stroke-width:0.75;stroke-linecap:round;stroke-linejoin:round;stroke:rgb(66.27451%,66.27451%,66.27451%);stroke-opacity:1;stroke-miterlimit:10;\" d=\"M 316.320312 281.144531 L 324 281.144531 \"/>\n",
       "<path style=\"fill:none;stroke-width:0.75;stroke-linecap:round;stroke-linejoin:round;stroke:rgb(66.27451%,66.27451%,66.27451%);stroke-opacity:1;stroke-miterlimit:10;\" d=\"M 313.761719 286.242188 L 321.441406 286.242188 \"/>\n",
       "<path style=\"fill:none;stroke-width:0.75;stroke-linecap:round;stroke-linejoin:round;stroke:rgb(66.27451%,66.27451%,66.27451%);stroke-opacity:1;stroke-miterlimit:10;\" d=\"M 311.199219 291.261719 L 318.878906 291.261719 \"/>\n",
       "<path style=\"fill:none;stroke-width:0.75;stroke-linecap:round;stroke-linejoin:round;stroke:rgb(66.27451%,66.27451%,66.27451%);stroke-opacity:1;stroke-miterlimit:10;\" d=\"M 308.640625 296.183594 L 316.320312 296.183594 \"/>\n",
       "<path style=\"fill:none;stroke-width:0.75;stroke-linecap:round;stroke-linejoin:round;stroke:rgb(66.27451%,66.27451%,66.27451%);stroke-opacity:1;stroke-miterlimit:10;\" d=\"M 306.078125 300.984375 L 313.761719 300.984375 \"/>\n",
       "<path style=\"fill:none;stroke-width:0.75;stroke-linecap:round;stroke-linejoin:round;stroke:rgb(66.27451%,66.27451%,66.27451%);stroke-opacity:1;stroke-miterlimit:10;\" d=\"M 303.519531 305.644531 L 311.199219 305.644531 \"/>\n",
       "<path style=\"fill:none;stroke-width:0.75;stroke-linecap:round;stroke-linejoin:round;stroke:rgb(66.27451%,66.27451%,66.27451%);stroke-opacity:1;stroke-miterlimit:10;\" d=\"M 300.960938 310.15625 L 308.640625 310.15625 \"/>\n",
       "<path style=\"fill:none;stroke-width:0.75;stroke-linecap:round;stroke-linejoin:round;stroke:rgb(66.27451%,66.27451%,66.27451%);stroke-opacity:1;stroke-miterlimit:10;\" d=\"M 298.398438 314.507812 L 306.078125 314.507812 \"/>\n",
       "<path style=\"fill:none;stroke-width:0.75;stroke-linecap:round;stroke-linejoin:round;stroke:rgb(66.27451%,66.27451%,66.27451%);stroke-opacity:1;stroke-miterlimit:10;\" d=\"M 295.839844 318.691406 L 303.519531 318.691406 \"/>\n",
       "<path style=\"fill:none;stroke-width:0.75;stroke-linecap:round;stroke-linejoin:round;stroke:rgb(66.27451%,66.27451%,66.27451%);stroke-opacity:1;stroke-miterlimit:10;\" d=\"M 293.28125 322.707031 L 300.960938 322.707031 \"/>\n",
       "<path style=\"fill:none;stroke-width:0.75;stroke-linecap:round;stroke-linejoin:round;stroke:rgb(66.27451%,66.27451%,66.27451%);stroke-opacity:1;stroke-miterlimit:10;\" d=\"M 290.71875 326.566406 L 298.398438 326.566406 \"/>\n",
       "<path style=\"fill:none;stroke-width:0.75;stroke-linecap:round;stroke-linejoin:round;stroke:rgb(66.27451%,66.27451%,66.27451%);stroke-opacity:1;stroke-miterlimit:10;\" d=\"M 288.160156 330.25 L 295.839844 330.25 \"/>\n",
       "<path style=\"fill:none;stroke-width:0.75;stroke-linecap:round;stroke-linejoin:round;stroke:rgb(66.27451%,66.27451%,66.27451%);stroke-opacity:1;stroke-miterlimit:10;\" d=\"M 285.601562 333.765625 L 293.28125 333.765625 \"/>\n",
       "<path style=\"fill:none;stroke-width:0.75;stroke-linecap:round;stroke-linejoin:round;stroke:rgb(66.27451%,66.27451%,66.27451%);stroke-opacity:1;stroke-miterlimit:10;\" d=\"M 283.039062 337.128906 L 290.71875 337.128906 \"/>\n",
       "<path style=\"fill:none;stroke-width:0.75;stroke-linecap:round;stroke-linejoin:round;stroke:rgb(66.27451%,66.27451%,66.27451%);stroke-opacity:1;stroke-miterlimit:10;\" d=\"M 280.480469 340.335938 L 288.160156 340.335938 \"/>\n",
       "<path style=\"fill:none;stroke-width:0.75;stroke-linecap:round;stroke-linejoin:round;stroke:rgb(66.27451%,66.27451%,66.27451%);stroke-opacity:1;stroke-miterlimit:10;\" d=\"M 277.921875 343.402344 L 285.601562 343.402344 \"/>\n",
       "<path style=\"fill:none;stroke-width:0.75;stroke-linecap:round;stroke-linejoin:round;stroke:rgb(66.27451%,66.27451%,66.27451%);stroke-opacity:1;stroke-miterlimit:10;\" d=\"M 275.359375 346.332031 L 283.039062 346.332031 \"/>\n",
       "<path style=\"fill:none;stroke-width:0.75;stroke-linecap:round;stroke-linejoin:round;stroke:rgb(66.27451%,66.27451%,66.27451%);stroke-opacity:1;stroke-miterlimit:10;\" d=\"M 272.800781 349.121094 L 280.480469 349.121094 \"/>\n",
       "<path style=\"fill:none;stroke-width:0.75;stroke-linecap:round;stroke-linejoin:round;stroke:rgb(66.27451%,66.27451%,66.27451%);stroke-opacity:1;stroke-miterlimit:10;\" d=\"M 270.238281 351.773438 L 277.921875 351.773438 \"/>\n",
       "<path style=\"fill:none;stroke-width:0.75;stroke-linecap:round;stroke-linejoin:round;stroke:rgb(66.27451%,66.27451%,66.27451%);stroke-opacity:1;stroke-miterlimit:10;\" d=\"M 267.679688 354.304688 L 275.359375 354.304688 \"/>\n",
       "<path style=\"fill:none;stroke-width:0.75;stroke-linecap:round;stroke-linejoin:round;stroke:rgb(66.27451%,66.27451%,66.27451%);stroke-opacity:1;stroke-miterlimit:10;\" d=\"M 265.121094 356.710938 L 272.800781 356.710938 \"/>\n",
       "<path style=\"fill:none;stroke-width:0.75;stroke-linecap:round;stroke-linejoin:round;stroke:rgb(66.27451%,66.27451%,66.27451%);stroke-opacity:1;stroke-miterlimit:10;\" d=\"M 262.558594 359.003906 L 270.238281 359.003906 \"/>\n",
       "<path style=\"fill:none;stroke-width:0.75;stroke-linecap:round;stroke-linejoin:round;stroke:rgb(66.27451%,66.27451%,66.27451%);stroke-opacity:1;stroke-miterlimit:10;\" d=\"M 260 361.175781 L 267.679688 361.175781 \"/>\n",
       "<path style=\"fill:none;stroke-width:0.75;stroke-linecap:round;stroke-linejoin:round;stroke:rgb(66.27451%,66.27451%,66.27451%);stroke-opacity:1;stroke-miterlimit:10;\" d=\"M 257.441406 363.242188 L 265.121094 363.242188 \"/>\n",
       "<path style=\"fill:none;stroke-width:0.75;stroke-linecap:round;stroke-linejoin:round;stroke:rgb(66.27451%,66.27451%,66.27451%);stroke-opacity:1;stroke-miterlimit:10;\" d=\"M 254.878906 365.207031 L 262.558594 365.207031 \"/>\n",
       "<path style=\"fill:none;stroke-width:0.75;stroke-linecap:round;stroke-linejoin:round;stroke:rgb(66.27451%,66.27451%,66.27451%);stroke-opacity:1;stroke-miterlimit:10;\" d=\"M 252.320312 367.070312 L 260 367.070312 \"/>\n",
       "<path style=\"fill:none;stroke-width:0.75;stroke-linecap:round;stroke-linejoin:round;stroke:rgb(66.27451%,66.27451%,66.27451%);stroke-opacity:1;stroke-miterlimit:10;\" d=\"M 249.761719 368.84375 L 257.441406 368.84375 \"/>\n",
       "<path style=\"fill:none;stroke-width:0.75;stroke-linecap:round;stroke-linejoin:round;stroke:rgb(66.27451%,66.27451%,66.27451%);stroke-opacity:1;stroke-miterlimit:10;\" d=\"M 247.199219 370.542969 L 254.878906 370.542969 \"/>\n",
       "<path style=\"fill:none;stroke-width:0.75;stroke-linecap:round;stroke-linejoin:round;stroke:rgb(66.27451%,66.27451%,66.27451%);stroke-opacity:1;stroke-miterlimit:10;\" d=\"M 244.640625 372.148438 L 252.320312 372.148438 \"/>\n",
       "<path style=\"fill:none;stroke-width:0.75;stroke-linecap:round;stroke-linejoin:round;stroke:rgb(66.27451%,66.27451%,66.27451%);stroke-opacity:1;stroke-miterlimit:10;\" d=\"M 242.078125 373.699219 L 249.761719 373.699219 \"/>\n",
       "<path style=\"fill:none;stroke-width:0.75;stroke-linecap:round;stroke-linejoin:round;stroke:rgb(66.27451%,66.27451%,66.27451%);stroke-opacity:1;stroke-miterlimit:10;\" d=\"M 239.519531 375.203125 L 247.199219 375.203125 \"/>\n",
       "<path style=\"fill:none;stroke-width:0.75;stroke-linecap:round;stroke-linejoin:round;stroke:rgb(66.27451%,66.27451%,66.27451%);stroke-opacity:1;stroke-miterlimit:10;\" d=\"M 236.960938 376.660156 L 244.640625 376.660156 \"/>\n",
       "<path style=\"fill:none;stroke-width:0.75;stroke-linecap:round;stroke-linejoin:round;stroke:rgb(66.27451%,66.27451%,66.27451%);stroke-opacity:1;stroke-miterlimit:10;\" d=\"M 234.398438 378.0625 L 242.078125 378.0625 \"/>\n",
       "<path style=\"fill:none;stroke-width:0.75;stroke-linecap:round;stroke-linejoin:round;stroke:rgb(66.27451%,66.27451%,66.27451%);stroke-opacity:1;stroke-miterlimit:10;\" d=\"M 231.839844 379.429688 L 239.519531 379.429688 \"/>\n",
       "<path style=\"fill:none;stroke-width:0.75;stroke-linecap:round;stroke-linejoin:round;stroke:rgb(66.27451%,66.27451%,66.27451%);stroke-opacity:1;stroke-miterlimit:10;\" d=\"M 229.28125 380.804688 L 236.960938 380.804688 \"/>\n",
       "<path style=\"fill:none;stroke-width:0.75;stroke-linecap:round;stroke-linejoin:round;stroke:rgb(66.27451%,66.27451%,66.27451%);stroke-opacity:1;stroke-miterlimit:10;\" d=\"M 226.71875 382.132812 L 234.398438 382.132812 \"/>\n",
       "<path style=\"fill:none;stroke-width:0.75;stroke-linecap:round;stroke-linejoin:round;stroke:rgb(66.27451%,66.27451%,66.27451%);stroke-opacity:1;stroke-miterlimit:10;\" d=\"M 224.160156 383.441406 L 231.839844 383.441406 \"/>\n",
       "<path style=\"fill:none;stroke-width:0.75;stroke-linecap:round;stroke-linejoin:round;stroke:rgb(66.27451%,66.27451%,66.27451%);stroke-opacity:1;stroke-miterlimit:10;\" d=\"M 221.601562 384.769531 L 229.28125 384.769531 \"/>\n",
       "<path style=\"fill:none;stroke-width:0.75;stroke-linecap:round;stroke-linejoin:round;stroke:rgb(66.27451%,66.27451%,66.27451%);stroke-opacity:1;stroke-miterlimit:10;\" d=\"M 219.039062 386.097656 L 226.71875 386.097656 \"/>\n",
       "<path style=\"fill:none;stroke-width:0.75;stroke-linecap:round;stroke-linejoin:round;stroke:rgb(66.27451%,66.27451%,66.27451%);stroke-opacity:1;stroke-miterlimit:10;\" d=\"M 216.480469 387.414062 L 224.160156 387.414062 \"/>\n",
       "<path style=\"fill:none;stroke-width:0.75;stroke-linecap:round;stroke-linejoin:round;stroke:rgb(66.27451%,66.27451%,66.27451%);stroke-opacity:1;stroke-miterlimit:10;\" d=\"M 213.921875 388.746094 L 221.601562 388.746094 \"/>\n",
       "<path style=\"fill:none;stroke-width:0.75;stroke-linecap:round;stroke-linejoin:round;stroke:rgb(66.27451%,66.27451%,66.27451%);stroke-opacity:1;stroke-miterlimit:10;\" d=\"M 211.359375 390.074219 L 219.039062 390.074219 \"/>\n",
       "<path style=\"fill:none;stroke-width:0.75;stroke-linecap:round;stroke-linejoin:round;stroke:rgb(66.27451%,66.27451%,66.27451%);stroke-opacity:1;stroke-miterlimit:10;\" d=\"M 208.800781 391.398438 L 216.480469 391.398438 \"/>\n",
       "<path style=\"fill:none;stroke-width:0.75;stroke-linecap:round;stroke-linejoin:round;stroke:rgb(66.27451%,66.27451%,66.27451%);stroke-opacity:1;stroke-miterlimit:10;\" d=\"M 206.238281 392.71875 L 213.921875 392.71875 \"/>\n",
       "<path style=\"fill:none;stroke-width:0.75;stroke-linecap:round;stroke-linejoin:round;stroke:rgb(66.27451%,66.27451%,66.27451%);stroke-opacity:1;stroke-miterlimit:10;\" d=\"M 203.679688 394.0625 L 211.359375 394.0625 \"/>\n",
       "<path style=\"fill:none;stroke-width:0.75;stroke-linecap:round;stroke-linejoin:round;stroke:rgb(66.27451%,66.27451%,66.27451%);stroke-opacity:1;stroke-miterlimit:10;\" d=\"M 201.121094 395.386719 L 208.800781 395.386719 \"/>\n",
       "<path style=\"fill:none;stroke-width:0.75;stroke-linecap:round;stroke-linejoin:round;stroke:rgb(66.27451%,66.27451%,66.27451%);stroke-opacity:1;stroke-miterlimit:10;\" d=\"M 198.558594 396.699219 L 206.238281 396.699219 \"/>\n",
       "<path style=\"fill:none;stroke-width:0.75;stroke-linecap:round;stroke-linejoin:round;stroke:rgb(66.27451%,66.27451%,66.27451%);stroke-opacity:1;stroke-miterlimit:10;\" d=\"M 196 398.015625 L 203.679688 398.015625 \"/>\n",
       "<path style=\"fill:none;stroke-width:0.75;stroke-linecap:round;stroke-linejoin:round;stroke:rgb(66.27451%,66.27451%,66.27451%);stroke-opacity:1;stroke-miterlimit:10;\" d=\"M 193.441406 399.316406 L 201.121094 399.316406 \"/>\n",
       "<path style=\"fill:none;stroke-width:0.75;stroke-linecap:round;stroke-linejoin:round;stroke:rgb(66.27451%,66.27451%,66.27451%);stroke-opacity:1;stroke-miterlimit:10;\" d=\"M 190.878906 400.59375 L 198.558594 400.59375 \"/>\n",
       "<path style=\"fill:none;stroke-width:0.75;stroke-linecap:round;stroke-linejoin:round;stroke:rgb(66.27451%,66.27451%,66.27451%);stroke-opacity:1;stroke-miterlimit:10;\" d=\"M 188.320312 401.855469 L 196 401.855469 \"/>\n",
       "<path style=\"fill:none;stroke-width:0.75;stroke-linecap:round;stroke-linejoin:round;stroke:rgb(66.27451%,66.27451%,66.27451%);stroke-opacity:1;stroke-miterlimit:10;\" d=\"M 185.761719 403.09375 L 193.441406 403.09375 \"/>\n",
       "<path style=\"fill:none;stroke-width:0.75;stroke-linecap:round;stroke-linejoin:round;stroke:rgb(66.27451%,66.27451%,66.27451%);stroke-opacity:1;stroke-miterlimit:10;\" d=\"M 183.199219 404.304688 L 190.878906 404.304688 \"/>\n",
       "<path style=\"fill:none;stroke-width:0.75;stroke-linecap:round;stroke-linejoin:round;stroke:rgb(66.27451%,66.27451%,66.27451%);stroke-opacity:1;stroke-miterlimit:10;\" d=\"M 180.640625 405.464844 L 188.320312 405.464844 \"/>\n",
       "<path style=\"fill:none;stroke-width:0.75;stroke-linecap:round;stroke-linejoin:round;stroke:rgb(66.27451%,66.27451%,66.27451%);stroke-opacity:1;stroke-miterlimit:10;\" d=\"M 178.078125 406.597656 L 185.761719 406.597656 \"/>\n",
       "<path style=\"fill:none;stroke-width:0.75;stroke-linecap:round;stroke-linejoin:round;stroke:rgb(66.27451%,66.27451%,66.27451%);stroke-opacity:1;stroke-miterlimit:10;\" d=\"M 175.519531 407.671875 L 183.199219 407.671875 \"/>\n",
       "<path style=\"fill:none;stroke-width:0.75;stroke-linecap:round;stroke-linejoin:round;stroke:rgb(66.27451%,66.27451%,66.27451%);stroke-opacity:1;stroke-miterlimit:10;\" d=\"M 172.960938 408.707031 L 180.640625 408.707031 \"/>\n",
       "<path style=\"fill:none;stroke-width:0.75;stroke-linecap:round;stroke-linejoin:round;stroke:rgb(66.27451%,66.27451%,66.27451%);stroke-opacity:1;stroke-miterlimit:10;\" d=\"M 170.398438 409.675781 L 178.078125 409.675781 \"/>\n",
       "<path style=\"fill:none;stroke-width:0.75;stroke-linecap:round;stroke-linejoin:round;stroke:rgb(66.27451%,66.27451%,66.27451%);stroke-opacity:1;stroke-miterlimit:10;\" d=\"M 167.839844 410.597656 L 175.519531 410.597656 \"/>\n",
       "<path style=\"fill:none;stroke-width:0.75;stroke-linecap:round;stroke-linejoin:round;stroke:rgb(66.27451%,66.27451%,66.27451%);stroke-opacity:1;stroke-miterlimit:10;\" d=\"M 165.28125 411.453125 L 172.960938 411.453125 \"/>\n",
       "<path style=\"fill:none;stroke-width:0.75;stroke-linecap:round;stroke-linejoin:round;stroke:rgb(66.27451%,66.27451%,66.27451%);stroke-opacity:1;stroke-miterlimit:10;\" d=\"M 162.71875 412.246094 L 170.398438 412.246094 \"/>\n",
       "<path style=\"fill:none;stroke-width:0.75;stroke-linecap:round;stroke-linejoin:round;stroke:rgb(66.27451%,66.27451%,66.27451%);stroke-opacity:1;stroke-miterlimit:10;\" d=\"M 160.160156 412.980469 L 167.839844 412.980469 \"/>\n",
       "<path style=\"fill:none;stroke-width:0.75;stroke-linecap:round;stroke-linejoin:round;stroke:rgb(66.27451%,66.27451%,66.27451%);stroke-opacity:1;stroke-miterlimit:10;\" d=\"M 157.601562 413.644531 L 165.28125 413.644531 \"/>\n",
       "<path style=\"fill:none;stroke-width:0.75;stroke-linecap:round;stroke-linejoin:round;stroke:rgb(66.27451%,66.27451%,66.27451%);stroke-opacity:1;stroke-miterlimit:10;\" d=\"M 155.039062 414.246094 L 162.71875 414.246094 \"/>\n",
       "<path style=\"fill:none;stroke-width:0.75;stroke-linecap:round;stroke-linejoin:round;stroke:rgb(66.27451%,66.27451%,66.27451%);stroke-opacity:1;stroke-miterlimit:10;\" d=\"M 152.480469 414.78125 L 160.160156 414.78125 \"/>\n",
       "<path style=\"fill:none;stroke-width:0.75;stroke-linecap:round;stroke-linejoin:round;stroke:rgb(66.27451%,66.27451%,66.27451%);stroke-opacity:1;stroke-miterlimit:10;\" d=\"M 149.921875 415.253906 L 157.601562 415.253906 \"/>\n",
       "<path style=\"fill:none;stroke-width:0.75;stroke-linecap:round;stroke-linejoin:round;stroke:rgb(66.27451%,66.27451%,66.27451%);stroke-opacity:1;stroke-miterlimit:10;\" d=\"M 147.359375 415.664062 L 155.039062 415.664062 \"/>\n",
       "<path style=\"fill:none;stroke-width:0.75;stroke-linecap:round;stroke-linejoin:round;stroke:rgb(66.27451%,66.27451%,66.27451%);stroke-opacity:1;stroke-miterlimit:10;\" d=\"M 144.800781 416.011719 L 152.480469 416.011719 \"/>\n",
       "<path style=\"fill:none;stroke-width:0.75;stroke-linecap:round;stroke-linejoin:round;stroke:rgb(66.27451%,66.27451%,66.27451%);stroke-opacity:1;stroke-miterlimit:10;\" d=\"M 142.238281 416.292969 L 149.921875 416.292969 \"/>\n",
       "<path style=\"fill:none;stroke-width:0.75;stroke-linecap:round;stroke-linejoin:round;stroke:rgb(66.27451%,66.27451%,66.27451%);stroke-opacity:1;stroke-miterlimit:10;\" d=\"M 139.679688 416.511719 L 147.359375 416.511719 \"/>\n",
       "<path style=\"fill:none;stroke-width:0.75;stroke-linecap:round;stroke-linejoin:round;stroke:rgb(66.27451%,66.27451%,66.27451%);stroke-opacity:1;stroke-miterlimit:10;\" d=\"M 137.121094 416.664062 L 144.800781 416.664062 \"/>\n",
       "<path style=\"fill:none;stroke-width:0.75;stroke-linecap:round;stroke-linejoin:round;stroke:rgb(66.27451%,66.27451%,66.27451%);stroke-opacity:1;stroke-miterlimit:10;\" d=\"M 134.558594 416.761719 L 142.238281 416.761719 \"/>\n",
       "<path style=\"fill:none;stroke-width:0.75;stroke-linecap:round;stroke-linejoin:round;stroke:rgb(66.27451%,66.27451%,66.27451%);stroke-opacity:1;stroke-miterlimit:10;\" d=\"M 132 416.800781 L 139.679688 416.800781 \"/>\n",
       "<path style=\"fill:none;stroke-width:0.75;stroke-linecap:round;stroke-linejoin:round;stroke:rgb(66.27451%,66.27451%,66.27451%);stroke-opacity:1;stroke-miterlimit:10;\" d=\"M 129.441406 416.777344 L 137.121094 416.777344 \"/>\n",
       "<path style=\"fill:none;stroke-width:0.75;stroke-linecap:round;stroke-linejoin:round;stroke:rgb(66.27451%,66.27451%,66.27451%);stroke-opacity:1;stroke-miterlimit:10;\" d=\"M 126.878906 416.703125 L 134.558594 416.703125 \"/>\n",
       "<path style=\"fill:none;stroke-width:0.75;stroke-linecap:round;stroke-linejoin:round;stroke:rgb(66.27451%,66.27451%,66.27451%);stroke-opacity:1;stroke-miterlimit:10;\" d=\"M 124.320312 416.574219 L 132 416.574219 \"/>\n",
       "<path style=\"fill:none;stroke-width:0.75;stroke-linecap:round;stroke-linejoin:round;stroke:rgb(66.27451%,66.27451%,66.27451%);stroke-opacity:1;stroke-miterlimit:10;\" d=\"M 121.761719 416.398438 L 129.441406 416.398438 \"/>\n",
       "<path style=\"fill:none;stroke-width:0.75;stroke-linecap:round;stroke-linejoin:round;stroke:rgb(66.27451%,66.27451%,66.27451%);stroke-opacity:1;stroke-miterlimit:10;\" d=\"M 119.199219 416.175781 L 126.878906 416.175781 \"/>\n",
       "<path style=\"fill:none;stroke-width:0.75;stroke-linecap:round;stroke-linejoin:round;stroke:rgb(66.27451%,66.27451%,66.27451%);stroke-opacity:1;stroke-miterlimit:10;\" d=\"M 116.640625 415.914062 L 124.320312 415.914062 \"/>\n",
       "<path style=\"fill:none;stroke-width:0.75;stroke-linecap:round;stroke-linejoin:round;stroke:rgb(66.27451%,66.27451%,66.27451%);stroke-opacity:1;stroke-miterlimit:10;\" d=\"M 114.078125 415.625 L 121.761719 415.625 \"/>\n",
       "<path style=\"fill:none;stroke-width:0.75;stroke-linecap:round;stroke-linejoin:round;stroke:rgb(66.27451%,66.27451%,66.27451%);stroke-opacity:1;stroke-miterlimit:10;\" d=\"M 111.519531 415.300781 L 119.199219 415.300781 \"/>\n",
       "<path style=\"fill:none;stroke-width:0.75;stroke-linecap:round;stroke-linejoin:round;stroke:rgb(66.27451%,66.27451%,66.27451%);stroke-opacity:1;stroke-miterlimit:10;\" d=\"M 108.960938 414.960938 L 116.640625 414.960938 \"/>\n",
       "<path style=\"fill:none;stroke-width:0.75;stroke-linecap:round;stroke-linejoin:round;stroke:rgb(66.27451%,66.27451%,66.27451%);stroke-opacity:1;stroke-miterlimit:10;\" d=\"M 106.398438 414.605469 L 114.078125 414.605469 \"/>\n",
       "<path style=\"fill:none;stroke-width:0.75;stroke-linecap:round;stroke-linejoin:round;stroke:rgb(66.27451%,66.27451%,66.27451%);stroke-opacity:1;stroke-miterlimit:10;\" d=\"M 103.839844 414.234375 L 111.519531 414.234375 \"/>\n",
       "<path style=\"fill:none;stroke-width:0.75;stroke-linecap:round;stroke-linejoin:round;stroke:rgb(66.27451%,66.27451%,66.27451%);stroke-opacity:1;stroke-miterlimit:10;\" d=\"M 101.28125 413.867188 L 108.960938 413.867188 \"/>\n",
       "<path style=\"fill:none;stroke-width:0.75;stroke-linecap:round;stroke-linejoin:round;stroke:rgb(66.27451%,66.27451%,66.27451%);stroke-opacity:1;stroke-miterlimit:10;\" d=\"M 98.71875 413.496094 L 106.398438 413.496094 \"/>\n",
       "<path style=\"fill:none;stroke-width:0.75;stroke-linecap:round;stroke-linejoin:round;stroke:rgb(66.27451%,66.27451%,66.27451%);stroke-opacity:1;stroke-miterlimit:10;\" d=\"M 96.160156 413.140625 L 103.839844 413.140625 \"/>\n",
       "<path style=\"fill:none;stroke-width:0.75;stroke-linecap:round;stroke-linejoin:round;stroke:rgb(66.27451%,66.27451%,66.27451%);stroke-opacity:1;stroke-miterlimit:10;\" d=\"M 93.601562 412.792969 L 101.28125 412.792969 \"/>\n",
       "<path style=\"fill:none;stroke-width:0.75;stroke-linecap:round;stroke-linejoin:round;stroke:rgb(66.27451%,66.27451%,66.27451%);stroke-opacity:1;stroke-miterlimit:10;\" d=\"M 91.039062 412.460938 L 98.71875 412.460938 \"/>\n",
       "<path style=\"fill:none;stroke-width:0.75;stroke-linecap:round;stroke-linejoin:round;stroke:rgb(66.27451%,66.27451%,66.27451%);stroke-opacity:1;stroke-miterlimit:10;\" d=\"M 88.480469 412.140625 L 96.160156 412.140625 \"/>\n",
       "<path style=\"fill:none;stroke-width:0.75;stroke-linecap:round;stroke-linejoin:round;stroke:rgb(66.27451%,66.27451%,66.27451%);stroke-opacity:1;stroke-miterlimit:10;\" d=\"M 85.921875 411.847656 L 93.601562 411.847656 \"/>\n",
       "<path style=\"fill:none;stroke-width:0.75;stroke-linecap:round;stroke-linejoin:round;stroke:rgb(66.27451%,66.27451%,66.27451%);stroke-opacity:1;stroke-miterlimit:10;\" d=\"M 83.359375 411.558594 L 91.039062 411.558594 \"/>\n",
       "<path style=\"fill:none;stroke-width:0.75;stroke-linecap:round;stroke-linejoin:round;stroke:rgb(66.27451%,66.27451%,66.27451%);stroke-opacity:1;stroke-miterlimit:10;\" d=\"M 80.800781 411.300781 L 88.480469 411.300781 \"/>\n",
       "<path style=\"fill:none;stroke-width:0.75;stroke-linecap:round;stroke-linejoin:round;stroke:rgb(66.27451%,66.27451%,66.27451%);stroke-opacity:1;stroke-miterlimit:10;\" d=\"M 78.238281 411.054688 L 85.921875 411.054688 \"/>\n",
       "<path style=\"fill:none;stroke-width:0.75;stroke-linecap:round;stroke-linejoin:round;stroke:rgb(66.27451%,66.27451%,66.27451%);stroke-opacity:1;stroke-miterlimit:10;\" d=\"M 75.679688 410.832031 L 83.359375 410.832031 \"/>\n",
       "<path style=\"fill:none;stroke-width:0.75;stroke-linecap:round;stroke-linejoin:round;stroke:rgb(66.27451%,66.27451%,66.27451%);stroke-opacity:1;stroke-miterlimit:10;\" d=\"M 73.121094 410.625 L 80.800781 410.625 \"/>\n",
       "<path style=\"fill:none;stroke-width:0.75;stroke-linecap:round;stroke-linejoin:round;stroke:rgb(66.27451%,66.27451%,66.27451%);stroke-opacity:1;stroke-miterlimit:10;\" d=\"M 70.558594 410.429688 L 78.238281 410.429688 \"/>\n",
       "<path style=\"fill-rule:nonzero;fill:rgb(100%,0%,0%);fill-opacity:1;stroke-width:0.75;stroke-linecap:round;stroke-linejoin:round;stroke:rgb(100%,0%,0%);stroke-opacity:1;stroke-miterlimit:10;\" d=\"M 460.199219 122.730469 C 460.199219 125.128906 456.601562 125.128906 456.601562 122.730469 C 456.601562 120.332031 460.199219 120.332031 460.199219 122.730469 \"/>\n",
       "<path style=\"fill-rule:nonzero;fill:rgb(100%,0%,0%);fill-opacity:1;stroke-width:0.75;stroke-linecap:round;stroke-linejoin:round;stroke:rgb(100%,0%,0%);stroke-opacity:1;stroke-miterlimit:10;\" d=\"M 457.640625 122.847656 C 457.640625 125.246094 454.039062 125.246094 454.039062 122.847656 C 454.039062 120.445312 457.640625 120.445312 457.640625 122.847656 \"/>\n",
       "<path style=\"fill-rule:nonzero;fill:rgb(100%,0%,0%);fill-opacity:1;stroke-width:0.75;stroke-linecap:round;stroke-linejoin:round;stroke:rgb(100%,0%,0%);stroke-opacity:1;stroke-miterlimit:10;\" d=\"M 455.078125 122.976562 C 455.078125 125.375 451.480469 125.375 451.480469 122.976562 C 451.480469 120.578125 455.078125 120.578125 455.078125 122.976562 \"/>\n",
       "<path style=\"fill-rule:nonzero;fill:rgb(100%,0%,0%);fill-opacity:1;stroke-width:0.75;stroke-linecap:round;stroke-linejoin:round;stroke:rgb(100%,0%,0%);stroke-opacity:1;stroke-miterlimit:10;\" d=\"M 452.519531 123.121094 C 452.519531 125.519531 448.921875 125.519531 448.921875 123.121094 C 448.921875 120.71875 452.519531 120.71875 452.519531 123.121094 \"/>\n",
       "<path style=\"fill-rule:nonzero;fill:rgb(100%,0%,0%);fill-opacity:1;stroke-width:0.75;stroke-linecap:round;stroke-linejoin:round;stroke:rgb(100%,0%,0%);stroke-opacity:1;stroke-miterlimit:10;\" d=\"M 449.960938 123.277344 C 449.960938 125.675781 446.359375 125.675781 446.359375 123.277344 C 446.359375 120.878906 449.960938 120.878906 449.960938 123.277344 \"/>\n",
       "<path style=\"fill-rule:nonzero;fill:rgb(100%,0%,0%);fill-opacity:1;stroke-width:0.75;stroke-linecap:round;stroke-linejoin:round;stroke:rgb(100%,0%,0%);stroke-opacity:1;stroke-miterlimit:10;\" d=\"M 447.398438 123.453125 C 447.398438 125.851562 443.800781 125.851562 443.800781 123.453125 C 443.800781 121.050781 447.398438 121.050781 447.398438 123.453125 \"/>\n",
       "<path style=\"fill-rule:nonzero;fill:rgb(100%,0%,0%);fill-opacity:1;stroke-width:0.75;stroke-linecap:round;stroke-linejoin:round;stroke:rgb(100%,0%,0%);stroke-opacity:1;stroke-miterlimit:10;\" d=\"M 444.839844 123.644531 C 444.839844 126.042969 441.238281 126.042969 441.238281 123.644531 C 441.238281 121.242188 444.839844 121.242188 444.839844 123.644531 \"/>\n",
       "<path style=\"fill-rule:nonzero;fill:rgb(100%,0%,0%);fill-opacity:1;stroke-width:0.75;stroke-linecap:round;stroke-linejoin:round;stroke:rgb(100%,0%,0%);stroke-opacity:1;stroke-miterlimit:10;\" d=\"M 442.28125 123.855469 C 442.28125 126.257812 438.679688 126.257812 438.679688 123.855469 C 438.679688 121.457031 442.28125 121.457031 442.28125 123.855469 \"/>\n",
       "<path style=\"fill-rule:nonzero;fill:rgb(100%,0%,0%);fill-opacity:1;stroke-width:0.75;stroke-linecap:round;stroke-linejoin:round;stroke:rgb(100%,0%,0%);stroke-opacity:1;stroke-miterlimit:10;\" d=\"M 439.71875 124.089844 C 439.71875 126.492188 436.121094 126.492188 436.121094 124.089844 C 436.121094 121.691406 439.71875 121.691406 439.71875 124.089844 \"/>\n",
       "<path style=\"fill-rule:nonzero;fill:rgb(100%,0%,0%);fill-opacity:1;stroke-width:0.75;stroke-linecap:round;stroke-linejoin:round;stroke:rgb(100%,0%,0%);stroke-opacity:1;stroke-miterlimit:10;\" d=\"M 437.160156 124.347656 C 437.160156 126.75 433.558594 126.75 433.558594 124.347656 C 433.558594 121.949219 437.160156 121.949219 437.160156 124.347656 \"/>\n",
       "<path style=\"fill-rule:nonzero;fill:rgb(100%,0%,0%);fill-opacity:1;stroke-width:0.75;stroke-linecap:round;stroke-linejoin:round;stroke:rgb(100%,0%,0%);stroke-opacity:1;stroke-miterlimit:10;\" d=\"M 434.601562 124.632812 C 434.601562 127.035156 431 127.035156 431 124.632812 C 431 122.234375 434.601562 122.234375 434.601562 124.632812 \"/>\n",
       "<path style=\"fill-rule:nonzero;fill:rgb(100%,0%,0%);fill-opacity:1;stroke-width:0.75;stroke-linecap:round;stroke-linejoin:round;stroke:rgb(100%,0%,0%);stroke-opacity:1;stroke-miterlimit:10;\" d=\"M 432.039062 124.949219 C 432.039062 127.347656 428.441406 127.347656 428.441406 124.949219 C 428.441406 122.546875 432.039062 122.546875 432.039062 124.949219 \"/>\n",
       "<path style=\"fill-rule:nonzero;fill:rgb(100%,0%,0%);fill-opacity:1;stroke-width:0.75;stroke-linecap:round;stroke-linejoin:round;stroke:rgb(100%,0%,0%);stroke-opacity:1;stroke-miterlimit:10;\" d=\"M 429.480469 125.292969 C 429.480469 127.695312 425.878906 127.695312 425.878906 125.292969 C 425.878906 122.894531 429.480469 122.894531 429.480469 125.292969 \"/>\n",
       "<path style=\"fill-rule:nonzero;fill:rgb(100%,0%,0%);fill-opacity:1;stroke-width:0.75;stroke-linecap:round;stroke-linejoin:round;stroke:rgb(100%,0%,0%);stroke-opacity:1;stroke-miterlimit:10;\" d=\"M 426.921875 125.675781 C 426.921875 128.074219 423.320312 128.074219 423.320312 125.675781 C 423.320312 123.273438 426.921875 123.273438 426.921875 125.675781 \"/>\n",
       "<path style=\"fill-rule:nonzero;fill:rgb(100%,0%,0%);fill-opacity:1;stroke-width:0.75;stroke-linecap:round;stroke-linejoin:round;stroke:rgb(100%,0%,0%);stroke-opacity:1;stroke-miterlimit:10;\" d=\"M 424.359375 126.09375 C 424.359375 128.496094 420.761719 128.496094 420.761719 126.09375 C 420.761719 123.695312 424.359375 123.695312 424.359375 126.09375 \"/>\n",
       "<path style=\"fill-rule:nonzero;fill:rgb(100%,0%,0%);fill-opacity:1;stroke-width:0.75;stroke-linecap:round;stroke-linejoin:round;stroke:rgb(100%,0%,0%);stroke-opacity:1;stroke-miterlimit:10;\" d=\"M 421.800781 126.558594 C 421.800781 128.957031 418.199219 128.957031 418.199219 126.558594 C 418.199219 124.15625 421.800781 124.15625 421.800781 126.558594 \"/>\n",
       "<path style=\"fill-rule:nonzero;fill:rgb(100%,0%,0%);fill-opacity:1;stroke-width:0.75;stroke-linecap:round;stroke-linejoin:round;stroke:rgb(100%,0%,0%);stroke-opacity:1;stroke-miterlimit:10;\" d=\"M 419.238281 127.066406 C 419.238281 129.46875 415.640625 129.46875 415.640625 127.066406 C 415.640625 124.667969 419.238281 124.667969 419.238281 127.066406 \"/>\n",
       "<path style=\"fill-rule:nonzero;fill:rgb(100%,0%,0%);fill-opacity:1;stroke-width:0.75;stroke-linecap:round;stroke-linejoin:round;stroke:rgb(100%,0%,0%);stroke-opacity:1;stroke-miterlimit:10;\" d=\"M 416.679688 127.628906 C 416.679688 130.027344 413.078125 130.027344 413.078125 127.628906 C 413.078125 125.226562 416.679688 125.226562 416.679688 127.628906 \"/>\n",
       "<path style=\"fill-rule:nonzero;fill:rgb(100%,0%,0%);fill-opacity:1;stroke-width:0.75;stroke-linecap:round;stroke-linejoin:round;stroke:rgb(100%,0%,0%);stroke-opacity:1;stroke-miterlimit:10;\" d=\"M 414.121094 128.246094 C 414.121094 130.644531 410.519531 130.644531 410.519531 128.246094 C 410.519531 125.84375 414.121094 125.84375 414.121094 128.246094 \"/>\n",
       "<path style=\"fill-rule:nonzero;fill:rgb(100%,0%,0%);fill-opacity:1;stroke-width:0.75;stroke-linecap:round;stroke-linejoin:round;stroke:rgb(100%,0%,0%);stroke-opacity:1;stroke-miterlimit:10;\" d=\"M 411.558594 128.921875 C 411.558594 131.324219 407.960938 131.324219 407.960938 128.921875 C 407.960938 126.523438 411.558594 126.523438 411.558594 128.921875 \"/>\n",
       "<path style=\"fill-rule:nonzero;fill:rgb(100%,0%,0%);fill-opacity:1;stroke-width:0.75;stroke-linecap:round;stroke-linejoin:round;stroke:rgb(100%,0%,0%);stroke-opacity:1;stroke-miterlimit:10;\" d=\"M 409 129.667969 C 409 132.070312 405.398438 132.070312 405.398438 129.667969 C 405.398438 127.269531 409 127.269531 409 129.667969 \"/>\n",
       "<path style=\"fill-rule:nonzero;fill:rgb(100%,0%,0%);fill-opacity:1;stroke-width:0.75;stroke-linecap:round;stroke-linejoin:round;stroke:rgb(100%,0%,0%);stroke-opacity:1;stroke-miterlimit:10;\" d=\"M 406.441406 130.488281 C 406.441406 132.886719 402.839844 132.886719 402.839844 130.488281 C 402.839844 128.085938 406.441406 128.085938 406.441406 130.488281 \"/>\n",
       "<path style=\"fill-rule:nonzero;fill:rgb(100%,0%,0%);fill-opacity:1;stroke-width:0.75;stroke-linecap:round;stroke-linejoin:round;stroke:rgb(100%,0%,0%);stroke-opacity:1;stroke-miterlimit:10;\" d=\"M 403.878906 131.386719 C 403.878906 133.785156 400.28125 133.785156 400.28125 131.386719 C 400.28125 128.984375 403.878906 128.984375 403.878906 131.386719 \"/>\n",
       "<path style=\"fill-rule:nonzero;fill:rgb(100%,0%,0%);fill-opacity:1;stroke-width:0.75;stroke-linecap:round;stroke-linejoin:round;stroke:rgb(100%,0%,0%);stroke-opacity:1;stroke-miterlimit:10;\" d=\"M 401.320312 132.371094 C 401.320312 134.769531 397.71875 134.769531 397.71875 132.371094 C 397.71875 129.96875 401.320312 129.96875 401.320312 132.371094 \"/>\n",
       "<path style=\"fill-rule:nonzero;fill:rgb(100%,0%,0%);fill-opacity:1;stroke-width:0.75;stroke-linecap:round;stroke-linejoin:round;stroke:rgb(100%,0%,0%);stroke-opacity:1;stroke-miterlimit:10;\" d=\"M 398.761719 133.449219 C 398.761719 135.847656 395.160156 135.847656 395.160156 133.449219 C 395.160156 131.050781 398.761719 131.050781 398.761719 133.449219 \"/>\n",
       "<path style=\"fill-rule:nonzero;fill:rgb(100%,0%,0%);fill-opacity:1;stroke-width:0.75;stroke-linecap:round;stroke-linejoin:round;stroke:rgb(100%,0%,0%);stroke-opacity:1;stroke-miterlimit:10;\" d=\"M 396.199219 134.625 C 396.199219 137.023438 392.601562 137.023438 392.601562 134.625 C 392.601562 132.226562 396.199219 132.226562 396.199219 134.625 \"/>\n",
       "<path style=\"fill-rule:nonzero;fill:rgb(100%,0%,0%);fill-opacity:1;stroke-width:0.75;stroke-linecap:round;stroke-linejoin:round;stroke:rgb(100%,0%,0%);stroke-opacity:1;stroke-miterlimit:10;\" d=\"M 393.640625 135.902344 C 393.640625 138.300781 390.039062 138.300781 390.039062 135.902344 C 390.039062 133.503906 393.640625 133.503906 393.640625 135.902344 \"/>\n",
       "<path style=\"fill-rule:nonzero;fill:rgb(100%,0%,0%);fill-opacity:1;stroke-width:0.75;stroke-linecap:round;stroke-linejoin:round;stroke:rgb(100%,0%,0%);stroke-opacity:1;stroke-miterlimit:10;\" d=\"M 391.078125 137.3125 C 391.078125 139.710938 387.480469 139.710938 387.480469 137.3125 C 387.480469 134.910156 391.078125 134.910156 391.078125 137.3125 \"/>\n",
       "<path style=\"fill-rule:nonzero;fill:rgb(100%,0%,0%);fill-opacity:1;stroke-width:0.75;stroke-linecap:round;stroke-linejoin:round;stroke:rgb(100%,0%,0%);stroke-opacity:1;stroke-miterlimit:10;\" d=\"M 388.519531 138.847656 C 388.519531 141.25 384.921875 141.25 384.921875 138.847656 C 384.921875 136.449219 388.519531 136.449219 388.519531 138.847656 \"/>\n",
       "<path style=\"fill-rule:nonzero;fill:rgb(100%,0%,0%);fill-opacity:1;stroke-width:0.75;stroke-linecap:round;stroke-linejoin:round;stroke:rgb(100%,0%,0%);stroke-opacity:1;stroke-miterlimit:10;\" d=\"M 385.960938 140.523438 C 385.960938 142.921875 382.359375 142.921875 382.359375 140.523438 C 382.359375 138.125 385.960938 138.125 385.960938 140.523438 \"/>\n",
       "<path style=\"fill-rule:nonzero;fill:rgb(100%,0%,0%);fill-opacity:1;stroke-width:0.75;stroke-linecap:round;stroke-linejoin:round;stroke:rgb(100%,0%,0%);stroke-opacity:1;stroke-miterlimit:10;\" d=\"M 383.398438 142.347656 C 383.398438 144.746094 379.800781 144.746094 379.800781 142.347656 C 379.800781 139.945312 383.398438 139.945312 383.398438 142.347656 \"/>\n",
       "<path style=\"fill-rule:nonzero;fill:rgb(100%,0%,0%);fill-opacity:1;stroke-width:0.75;stroke-linecap:round;stroke-linejoin:round;stroke:rgb(100%,0%,0%);stroke-opacity:1;stroke-miterlimit:10;\" d=\"M 380.839844 144.328125 C 380.839844 146.726562 377.238281 146.726562 377.238281 144.328125 C 377.238281 141.925781 380.839844 141.925781 380.839844 144.328125 \"/>\n",
       "<path style=\"fill-rule:nonzero;fill:rgb(100%,0%,0%);fill-opacity:1;stroke-width:0.75;stroke-linecap:round;stroke-linejoin:round;stroke:rgb(100%,0%,0%);stroke-opacity:1;stroke-miterlimit:10;\" d=\"M 378.28125 146.476562 C 378.28125 148.878906 374.679688 148.878906 374.679688 146.476562 C 374.679688 144.078125 378.28125 144.078125 378.28125 146.476562 \"/>\n",
       "<path style=\"fill-rule:nonzero;fill:rgb(100%,0%,0%);fill-opacity:1;stroke-width:0.75;stroke-linecap:round;stroke-linejoin:round;stroke:rgb(100%,0%,0%);stroke-opacity:1;stroke-miterlimit:10;\" d=\"M 375.71875 148.804688 C 375.71875 151.203125 372.121094 151.203125 372.121094 148.804688 C 372.121094 146.40625 375.71875 146.40625 375.71875 148.804688 \"/>\n",
       "<path style=\"fill-rule:nonzero;fill:rgb(100%,0%,0%);fill-opacity:1;stroke-width:0.75;stroke-linecap:round;stroke-linejoin:round;stroke:rgb(100%,0%,0%);stroke-opacity:1;stroke-miterlimit:10;\" d=\"M 373.160156 151.320312 C 373.160156 153.722656 369.558594 153.722656 369.558594 151.320312 C 369.558594 148.921875 373.160156 148.921875 373.160156 151.320312 \"/>\n",
       "<path style=\"fill-rule:nonzero;fill:rgb(100%,0%,0%);fill-opacity:1;stroke-width:0.75;stroke-linecap:round;stroke-linejoin:round;stroke:rgb(100%,0%,0%);stroke-opacity:1;stroke-miterlimit:10;\" d=\"M 370.601562 154.035156 C 370.601562 156.433594 367 156.433594 367 154.035156 C 367 151.636719 370.601562 151.636719 370.601562 154.035156 \"/>\n",
       "<path style=\"fill-rule:nonzero;fill:rgb(100%,0%,0%);fill-opacity:1;stroke-width:0.75;stroke-linecap:round;stroke-linejoin:round;stroke:rgb(100%,0%,0%);stroke-opacity:1;stroke-miterlimit:10;\" d=\"M 368.039062 156.957031 C 368.039062 159.355469 364.441406 159.355469 364.441406 156.957031 C 364.441406 154.554688 368.039062 154.554688 368.039062 156.957031 \"/>\n",
       "<path style=\"fill-rule:nonzero;fill:rgb(100%,0%,0%);fill-opacity:1;stroke-width:0.75;stroke-linecap:round;stroke-linejoin:round;stroke:rgb(100%,0%,0%);stroke-opacity:1;stroke-miterlimit:10;\" d=\"M 365.480469 160.089844 C 365.480469 162.492188 361.878906 162.492188 361.878906 160.089844 C 361.878906 157.691406 365.480469 157.691406 365.480469 160.089844 \"/>\n",
       "<path style=\"fill-rule:nonzero;fill:rgb(100%,0%,0%);fill-opacity:1;stroke-width:0.75;stroke-linecap:round;stroke-linejoin:round;stroke:rgb(100%,0%,0%);stroke-opacity:1;stroke-miterlimit:10;\" d=\"M 362.921875 163.449219 C 362.921875 165.847656 359.320312 165.847656 359.320312 163.449219 C 359.320312 161.046875 362.921875 161.046875 362.921875 163.449219 \"/>\n",
       "<path style=\"fill-rule:nonzero;fill:rgb(100%,0%,0%);fill-opacity:1;stroke-width:0.75;stroke-linecap:round;stroke-linejoin:round;stroke:rgb(100%,0%,0%);stroke-opacity:1;stroke-miterlimit:10;\" d=\"M 360.359375 167.03125 C 360.359375 169.433594 356.761719 169.433594 356.761719 167.03125 C 356.761719 164.632812 360.359375 164.632812 360.359375 167.03125 \"/>\n",
       "<path style=\"fill-rule:nonzero;fill:rgb(100%,0%,0%);fill-opacity:1;stroke-width:0.75;stroke-linecap:round;stroke-linejoin:round;stroke:rgb(100%,0%,0%);stroke-opacity:1;stroke-miterlimit:10;\" d=\"M 357.800781 170.847656 C 357.800781 173.246094 354.199219 173.246094 354.199219 170.847656 C 354.199219 168.445312 357.800781 168.445312 357.800781 170.847656 \"/>\n",
       "<path style=\"fill-rule:nonzero;fill:rgb(100%,0%,0%);fill-opacity:1;stroke-width:0.75;stroke-linecap:round;stroke-linejoin:round;stroke:rgb(100%,0%,0%);stroke-opacity:1;stroke-miterlimit:10;\" d=\"M 355.238281 174.894531 C 355.238281 177.292969 351.640625 177.292969 351.640625 174.894531 C 351.640625 172.492188 355.238281 172.492188 355.238281 174.894531 \"/>\n",
       "<path style=\"fill-rule:nonzero;fill:rgb(100%,0%,0%);fill-opacity:1;stroke-width:0.75;stroke-linecap:round;stroke-linejoin:round;stroke:rgb(100%,0%,0%);stroke-opacity:1;stroke-miterlimit:10;\" d=\"M 352.679688 179.171875 C 352.679688 181.570312 349.078125 181.570312 349.078125 179.171875 C 349.078125 176.773438 352.679688 176.773438 352.679688 179.171875 \"/>\n",
       "<path style=\"fill-rule:nonzero;fill:rgb(100%,0%,0%);fill-opacity:1;stroke-width:0.75;stroke-linecap:round;stroke-linejoin:round;stroke:rgb(100%,0%,0%);stroke-opacity:1;stroke-miterlimit:10;\" d=\"M 350.121094 183.675781 C 350.121094 186.078125 346.519531 186.078125 346.519531 183.675781 C 346.519531 181.277344 350.121094 181.277344 350.121094 183.675781 \"/>\n",
       "<path style=\"fill-rule:nonzero;fill:rgb(100%,0%,0%);fill-opacity:1;stroke-width:0.75;stroke-linecap:round;stroke-linejoin:round;stroke:rgb(100%,0%,0%);stroke-opacity:1;stroke-miterlimit:10;\" d=\"M 347.558594 188.402344 C 347.558594 190.804688 343.960938 190.804688 343.960938 188.402344 C 343.960938 186.003906 347.558594 186.003906 347.558594 188.402344 \"/>\n",
       "<path style=\"fill-rule:nonzero;fill:rgb(100%,0%,0%);fill-opacity:1;stroke-width:0.75;stroke-linecap:round;stroke-linejoin:round;stroke:rgb(100%,0%,0%);stroke-opacity:1;stroke-miterlimit:10;\" d=\"M 345 193.339844 C 345 195.742188 341.398438 195.742188 341.398438 193.339844 C 341.398438 190.941406 345 190.941406 345 193.339844 \"/>\n",
       "<path style=\"fill-rule:nonzero;fill:rgb(100%,0%,0%);fill-opacity:1;stroke-width:0.75;stroke-linecap:round;stroke-linejoin:round;stroke:rgb(100%,0%,0%);stroke-opacity:1;stroke-miterlimit:10;\" d=\"M 342.441406 198.476562 C 342.441406 200.875 338.839844 200.875 338.839844 198.476562 C 338.839844 196.078125 342.441406 196.078125 342.441406 198.476562 \"/>\n",
       "<path style=\"fill-rule:nonzero;fill:rgb(100%,0%,0%);fill-opacity:1;stroke-width:0.75;stroke-linecap:round;stroke-linejoin:round;stroke:rgb(100%,0%,0%);stroke-opacity:1;stroke-miterlimit:10;\" d=\"M 339.878906 203.792969 C 339.878906 206.195312 336.28125 206.195312 336.28125 203.792969 C 336.28125 201.394531 339.878906 201.394531 339.878906 203.792969 \"/>\n",
       "<path style=\"fill-rule:nonzero;fill:rgb(100%,0%,0%);fill-opacity:1;stroke-width:0.75;stroke-linecap:round;stroke-linejoin:round;stroke:rgb(100%,0%,0%);stroke-opacity:1;stroke-miterlimit:10;\" d=\"M 337.320312 209.273438 C 337.320312 211.671875 333.71875 211.671875 333.71875 209.273438 C 333.71875 206.875 337.320312 206.875 337.320312 209.273438 \"/>\n",
       "<path style=\"fill-rule:nonzero;fill:rgb(100%,0%,0%);fill-opacity:1;stroke-width:0.75;stroke-linecap:round;stroke-linejoin:round;stroke:rgb(100%,0%,0%);stroke-opacity:1;stroke-miterlimit:10;\" d=\"M 334.761719 214.894531 C 334.761719 217.292969 331.160156 217.292969 331.160156 214.894531 C 331.160156 212.492188 334.761719 212.492188 334.761719 214.894531 \"/>\n",
       "<path style=\"fill-rule:nonzero;fill:rgb(100%,0%,0%);fill-opacity:1;stroke-width:0.75;stroke-linecap:round;stroke-linejoin:round;stroke:rgb(100%,0%,0%);stroke-opacity:1;stroke-miterlimit:10;\" d=\"M 332.199219 220.625 C 332.199219 223.027344 328.601562 223.027344 328.601562 220.625 C 328.601562 218.226562 332.199219 218.226562 332.199219 220.625 \"/>\n",
       "<path style=\"fill-rule:nonzero;fill:rgb(100%,0%,0%);fill-opacity:1;stroke-width:0.75;stroke-linecap:round;stroke-linejoin:round;stroke:rgb(100%,0%,0%);stroke-opacity:1;stroke-miterlimit:10;\" d=\"M 329.640625 226.449219 C 329.640625 228.847656 326.039062 228.847656 326.039062 226.449219 C 326.039062 224.046875 329.640625 224.046875 329.640625 226.449219 \"/>\n",
       "<path style=\"fill-rule:nonzero;fill:rgb(100%,0%,0%);fill-opacity:1;stroke-width:0.75;stroke-linecap:round;stroke-linejoin:round;stroke:rgb(100%,0%,0%);stroke-opacity:1;stroke-miterlimit:10;\" d=\"M 327.078125 232.324219 C 327.078125 234.726562 323.480469 234.726562 323.480469 232.324219 C 323.480469 229.925781 327.078125 229.925781 327.078125 232.324219 \"/>\n",
       "<path style=\"fill-rule:nonzero;fill:rgb(100%,0%,0%);fill-opacity:1;stroke-width:0.75;stroke-linecap:round;stroke-linejoin:round;stroke:rgb(100%,0%,0%);stroke-opacity:1;stroke-miterlimit:10;\" d=\"M 324.519531 238.230469 C 324.519531 240.632812 320.921875 240.632812 320.921875 238.230469 C 320.921875 235.832031 324.519531 235.832031 324.519531 238.230469 \"/>\n",
       "<path style=\"fill-rule:nonzero;fill:rgb(100%,0%,0%);fill-opacity:1;stroke-width:0.75;stroke-linecap:round;stroke-linejoin:round;stroke:rgb(100%,0%,0%);stroke-opacity:1;stroke-miterlimit:10;\" d=\"M 321.960938 244.136719 C 321.960938 246.535156 318.359375 246.535156 318.359375 244.136719 C 318.359375 241.734375 321.960938 241.734375 321.960938 244.136719 \"/>\n",
       "<path style=\"fill-rule:nonzero;fill:rgb(100%,0%,0%);fill-opacity:1;stroke-width:0.75;stroke-linecap:round;stroke-linejoin:round;stroke:rgb(100%,0%,0%);stroke-opacity:1;stroke-miterlimit:10;\" d=\"M 319.398438 250.007812 C 319.398438 252.40625 315.800781 252.40625 315.800781 250.007812 C 315.800781 247.605469 319.398438 247.605469 319.398438 250.007812 \"/>\n",
       "<path style=\"fill-rule:nonzero;fill:rgb(100%,0%,0%);fill-opacity:1;stroke-width:0.75;stroke-linecap:round;stroke-linejoin:round;stroke:rgb(100%,0%,0%);stroke-opacity:1;stroke-miterlimit:10;\" d=\"M 316.839844 255.816406 C 316.839844 258.21875 313.238281 258.21875 313.238281 255.816406 C 313.238281 253.417969 316.839844 253.417969 316.839844 255.816406 \"/>\n",
       "<path style=\"fill-rule:nonzero;fill:rgb(100%,0%,0%);fill-opacity:1;stroke-width:0.75;stroke-linecap:round;stroke-linejoin:round;stroke:rgb(100%,0%,0%);stroke-opacity:1;stroke-miterlimit:10;\" d=\"M 314.28125 261.542969 C 314.28125 263.941406 310.679688 263.941406 310.679688 261.542969 C 310.679688 259.144531 314.28125 259.144531 314.28125 261.542969 \"/>\n",
       "<path style=\"fill-rule:nonzero;fill:rgb(100%,0%,0%);fill-opacity:1;stroke-width:0.75;stroke-linecap:round;stroke-linejoin:round;stroke:rgb(100%,0%,0%);stroke-opacity:1;stroke-miterlimit:10;\" d=\"M 311.71875 267.160156 C 311.71875 269.558594 308.121094 269.558594 308.121094 267.160156 C 308.121094 264.757812 311.71875 264.757812 311.71875 267.160156 \"/>\n",
       "<path style=\"fill-rule:nonzero;fill:rgb(100%,0%,0%);fill-opacity:1;stroke-width:0.75;stroke-linecap:round;stroke-linejoin:round;stroke:rgb(100%,0%,0%);stroke-opacity:1;stroke-miterlimit:10;\" d=\"M 309.160156 272.644531 C 309.160156 275.042969 305.558594 275.042969 305.558594 272.644531 C 305.558594 270.246094 309.160156 270.246094 309.160156 272.644531 \"/>\n",
       "<path style=\"fill-rule:nonzero;fill:rgb(100%,0%,0%);fill-opacity:1;stroke-width:0.75;stroke-linecap:round;stroke-linejoin:round;stroke:rgb(100%,0%,0%);stroke-opacity:1;stroke-miterlimit:10;\" d=\"M 306.601562 277.984375 C 306.601562 280.386719 303 280.386719 303 277.984375 C 303 275.585938 306.601562 275.585938 306.601562 277.984375 \"/>\n",
       "<path style=\"fill-rule:nonzero;fill:rgb(100%,0%,0%);fill-opacity:1;stroke-width:0.75;stroke-linecap:round;stroke-linejoin:round;stroke:rgb(100%,0%,0%);stroke-opacity:1;stroke-miterlimit:10;\" d=\"M 304.039062 283.167969 C 304.039062 285.566406 300.441406 285.566406 300.441406 283.167969 C 300.441406 280.769531 304.039062 280.769531 304.039062 283.167969 \"/>\n",
       "<path style=\"fill-rule:nonzero;fill:rgb(100%,0%,0%);fill-opacity:1;stroke-width:0.75;stroke-linecap:round;stroke-linejoin:round;stroke:rgb(100%,0%,0%);stroke-opacity:1;stroke-miterlimit:10;\" d=\"M 301.480469 288.183594 C 301.480469 290.582031 297.878906 290.582031 297.878906 288.183594 C 297.878906 285.78125 301.480469 285.78125 301.480469 288.183594 \"/>\n",
       "<path style=\"fill-rule:nonzero;fill:rgb(100%,0%,0%);fill-opacity:1;stroke-width:0.75;stroke-linecap:round;stroke-linejoin:round;stroke:rgb(100%,0%,0%);stroke-opacity:1;stroke-miterlimit:10;\" d=\"M 298.921875 293.023438 C 298.921875 295.425781 295.320312 295.425781 295.320312 293.023438 C 295.320312 290.625 298.921875 290.625 298.921875 293.023438 \"/>\n",
       "<path style=\"fill-rule:nonzero;fill:rgb(100%,0%,0%);fill-opacity:1;stroke-width:0.75;stroke-linecap:round;stroke-linejoin:round;stroke:rgb(100%,0%,0%);stroke-opacity:1;stroke-miterlimit:10;\" d=\"M 296.359375 297.710938 C 296.359375 300.113281 292.761719 300.113281 292.761719 297.710938 C 292.761719 295.3125 296.359375 295.3125 296.359375 297.710938 \"/>\n",
       "<path style=\"fill-rule:nonzero;fill:rgb(100%,0%,0%);fill-opacity:1;stroke-width:0.75;stroke-linecap:round;stroke-linejoin:round;stroke:rgb(100%,0%,0%);stroke-opacity:1;stroke-miterlimit:10;\" d=\"M 293.800781 302.207031 C 293.800781 304.605469 290.199219 304.605469 290.199219 302.207031 C 290.199219 299.804688 293.800781 299.804688 293.800781 302.207031 \"/>\n",
       "<path style=\"fill-rule:nonzero;fill:rgb(100%,0%,0%);fill-opacity:1;stroke-width:0.75;stroke-linecap:round;stroke-linejoin:round;stroke:rgb(100%,0%,0%);stroke-opacity:1;stroke-miterlimit:10;\" d=\"M 291.238281 306.527344 C 291.238281 308.925781 287.640625 308.925781 287.640625 306.527344 C 287.640625 304.128906 291.238281 304.128906 291.238281 306.527344 \"/>\n",
       "<path style=\"fill-rule:nonzero;fill:rgb(100%,0%,0%);fill-opacity:1;stroke-width:0.75;stroke-linecap:round;stroke-linejoin:round;stroke:rgb(100%,0%,0%);stroke-opacity:1;stroke-miterlimit:10;\" d=\"M 288.679688 310.679688 C 288.679688 313.078125 285.078125 313.078125 285.078125 310.679688 C 285.078125 308.277344 288.679688 308.277344 288.679688 310.679688 \"/>\n",
       "<path style=\"fill-rule:nonzero;fill:rgb(100%,0%,0%);fill-opacity:1;stroke-width:0.75;stroke-linecap:round;stroke-linejoin:round;stroke:rgb(100%,0%,0%);stroke-opacity:1;stroke-miterlimit:10;\" d=\"M 286.121094 314.667969 C 286.121094 317.066406 282.519531 317.066406 282.519531 314.667969 C 282.519531 312.265625 286.121094 312.265625 286.121094 314.667969 \"/>\n",
       "<path style=\"fill-rule:nonzero;fill:rgb(100%,0%,0%);fill-opacity:1;stroke-width:0.75;stroke-linecap:round;stroke-linejoin:round;stroke:rgb(100%,0%,0%);stroke-opacity:1;stroke-miterlimit:10;\" d=\"M 283.558594 318.496094 C 283.558594 320.894531 279.960938 320.894531 279.960938 318.496094 C 279.960938 316.097656 283.558594 316.097656 283.558594 318.496094 \"/>\n",
       "<path style=\"fill-rule:nonzero;fill:rgb(100%,0%,0%);fill-opacity:1;stroke-width:0.75;stroke-linecap:round;stroke-linejoin:round;stroke:rgb(100%,0%,0%);stroke-opacity:1;stroke-miterlimit:10;\" d=\"M 281 322.183594 C 281 324.582031 277.398438 324.582031 277.398438 322.183594 C 277.398438 319.78125 281 319.78125 281 322.183594 \"/>\n",
       "<path style=\"fill-rule:nonzero;fill:rgb(100%,0%,0%);fill-opacity:1;stroke-width:0.75;stroke-linecap:round;stroke-linejoin:round;stroke:rgb(100%,0%,0%);stroke-opacity:1;stroke-miterlimit:10;\" d=\"M 278.441406 325.714844 C 278.441406 328.113281 274.839844 328.113281 274.839844 325.714844 C 274.839844 323.316406 278.441406 323.316406 278.441406 325.714844 \"/>\n",
       "<path style=\"fill-rule:nonzero;fill:rgb(100%,0%,0%);fill-opacity:1;stroke-width:0.75;stroke-linecap:round;stroke-linejoin:round;stroke:rgb(100%,0%,0%);stroke-opacity:1;stroke-miterlimit:10;\" d=\"M 275.878906 329.097656 C 275.878906 331.5 272.28125 331.5 272.28125 329.097656 C 272.28125 326.699219 275.878906 326.699219 275.878906 329.097656 \"/>\n",
       "<path style=\"fill-rule:nonzero;fill:rgb(100%,0%,0%);fill-opacity:1;stroke-width:0.75;stroke-linecap:round;stroke-linejoin:round;stroke:rgb(100%,0%,0%);stroke-opacity:1;stroke-miterlimit:10;\" d=\"M 273.320312 332.347656 C 273.320312 334.746094 269.71875 334.746094 269.71875 332.347656 C 269.71875 329.945312 273.320312 329.945312 273.320312 332.347656 \"/>\n",
       "<path style=\"fill-rule:nonzero;fill:rgb(100%,0%,0%);fill-opacity:1;stroke-width:0.75;stroke-linecap:round;stroke-linejoin:round;stroke:rgb(100%,0%,0%);stroke-opacity:1;stroke-miterlimit:10;\" d=\"M 270.761719 335.464844 C 270.761719 337.863281 267.160156 337.863281 267.160156 335.464844 C 267.160156 333.0625 270.761719 333.0625 270.761719 335.464844 \"/>\n",
       "<path style=\"fill-rule:nonzero;fill:rgb(100%,0%,0%);fill-opacity:1;stroke-width:0.75;stroke-linecap:round;stroke-linejoin:round;stroke:rgb(100%,0%,0%);stroke-opacity:1;stroke-miterlimit:10;\" d=\"M 268.199219 338.457031 C 268.199219 340.855469 264.601562 340.855469 264.601562 338.457031 C 264.601562 336.054688 268.199219 336.054688 268.199219 338.457031 \"/>\n",
       "<path style=\"fill-rule:nonzero;fill:rgb(100%,0%,0%);fill-opacity:1;stroke-width:0.75;stroke-linecap:round;stroke-linejoin:round;stroke:rgb(100%,0%,0%);stroke-opacity:1;stroke-miterlimit:10;\" d=\"M 265.640625 341.316406 C 265.640625 343.714844 262.039062 343.714844 262.039062 341.316406 C 262.039062 338.914062 265.640625 338.914062 265.640625 341.316406 \"/>\n",
       "<path style=\"fill-rule:nonzero;fill:rgb(100%,0%,0%);fill-opacity:1;stroke-width:0.75;stroke-linecap:round;stroke-linejoin:round;stroke:rgb(100%,0%,0%);stroke-opacity:1;stroke-miterlimit:10;\" d=\"M 263.078125 344.058594 C 263.078125 346.457031 259.480469 346.457031 259.480469 344.058594 C 259.480469 341.660156 263.078125 341.660156 263.078125 344.058594 \"/>\n",
       "<path style=\"fill-rule:nonzero;fill:rgb(100%,0%,0%);fill-opacity:1;stroke-width:0.75;stroke-linecap:round;stroke-linejoin:round;stroke:rgb(100%,0%,0%);stroke-opacity:1;stroke-miterlimit:10;\" d=\"M 260.519531 346.683594 C 260.519531 349.085938 256.921875 349.085938 256.921875 346.683594 C 256.921875 344.285156 260.519531 344.285156 260.519531 346.683594 \"/>\n",
       "<path style=\"fill-rule:nonzero;fill:rgb(100%,0%,0%);fill-opacity:1;stroke-width:0.75;stroke-linecap:round;stroke-linejoin:round;stroke:rgb(100%,0%,0%);stroke-opacity:1;stroke-miterlimit:10;\" d=\"M 257.960938 349.199219 C 257.960938 351.597656 254.359375 351.597656 254.359375 349.199219 C 254.359375 346.796875 257.960938 346.796875 257.960938 349.199219 \"/>\n",
       "<path style=\"fill-rule:nonzero;fill:rgb(100%,0%,0%);fill-opacity:1;stroke-width:0.75;stroke-linecap:round;stroke-linejoin:round;stroke:rgb(100%,0%,0%);stroke-opacity:1;stroke-miterlimit:10;\" d=\"M 255.398438 351.609375 C 255.398438 354.007812 251.800781 354.007812 251.800781 351.609375 C 251.800781 349.207031 255.398438 349.207031 255.398438 351.609375 \"/>\n",
       "<path style=\"fill-rule:nonzero;fill:rgb(100%,0%,0%);fill-opacity:1;stroke-width:0.75;stroke-linecap:round;stroke-linejoin:round;stroke:rgb(100%,0%,0%);stroke-opacity:1;stroke-miterlimit:10;\" d=\"M 252.839844 353.925781 C 252.839844 356.324219 249.238281 356.324219 249.238281 353.925781 C 249.238281 351.523438 252.839844 351.523438 252.839844 353.925781 \"/>\n",
       "<path style=\"fill-rule:nonzero;fill:rgb(100%,0%,0%);fill-opacity:1;stroke-width:0.75;stroke-linecap:round;stroke-linejoin:round;stroke:rgb(100%,0%,0%);stroke-opacity:1;stroke-miterlimit:10;\" d=\"M 250.28125 356.117188 C 250.28125 358.519531 246.679688 358.519531 246.679688 356.117188 C 246.679688 353.71875 250.28125 353.71875 250.28125 356.117188 \"/>\n",
       "<path style=\"fill-rule:nonzero;fill:rgb(100%,0%,0%);fill-opacity:1;stroke-width:0.75;stroke-linecap:round;stroke-linejoin:round;stroke:rgb(100%,0%,0%);stroke-opacity:1;stroke-miterlimit:10;\" d=\"M 247.71875 358.238281 C 247.71875 360.636719 244.121094 360.636719 244.121094 358.238281 C 244.121094 355.839844 247.71875 355.839844 247.71875 358.238281 \"/>\n",
       "<path style=\"fill-rule:nonzero;fill:rgb(100%,0%,0%);fill-opacity:1;stroke-width:0.75;stroke-linecap:round;stroke-linejoin:round;stroke:rgb(100%,0%,0%);stroke-opacity:1;stroke-miterlimit:10;\" d=\"M 245.160156 360.289062 C 245.160156 362.6875 241.558594 362.6875 241.558594 360.289062 C 241.558594 357.890625 245.160156 357.890625 245.160156 360.289062 \"/>\n",
       "<path style=\"fill-rule:nonzero;fill:rgb(100%,0%,0%);fill-opacity:1;stroke-width:0.75;stroke-linecap:round;stroke-linejoin:round;stroke:rgb(100%,0%,0%);stroke-opacity:1;stroke-miterlimit:10;\" d=\"M 242.601562 362.257812 C 242.601562 364.65625 239 364.65625 239 362.257812 C 239 359.855469 242.601562 359.855469 242.601562 362.257812 \"/>\n",
       "<path style=\"fill-rule:nonzero;fill:rgb(100%,0%,0%);fill-opacity:1;stroke-width:0.75;stroke-linecap:round;stroke-linejoin:round;stroke:rgb(100%,0%,0%);stroke-opacity:1;stroke-miterlimit:10;\" d=\"M 240.039062 364.128906 C 240.039062 366.53125 236.441406 366.53125 236.441406 364.128906 C 236.441406 361.730469 240.039062 361.730469 240.039062 364.128906 \"/>\n",
       "<path style=\"fill-rule:nonzero;fill:rgb(100%,0%,0%);fill-opacity:1;stroke-width:0.75;stroke-linecap:round;stroke-linejoin:round;stroke:rgb(100%,0%,0%);stroke-opacity:1;stroke-miterlimit:10;\" d=\"M 237.480469 365.9375 C 237.480469 368.335938 233.878906 368.335938 233.878906 365.9375 C 233.878906 363.539062 237.480469 363.539062 237.480469 365.9375 \"/>\n",
       "<path style=\"fill-rule:nonzero;fill:rgb(100%,0%,0%);fill-opacity:1;stroke-width:0.75;stroke-linecap:round;stroke-linejoin:round;stroke:rgb(100%,0%,0%);stroke-opacity:1;stroke-miterlimit:10;\" d=\"M 234.921875 367.71875 C 234.921875 370.117188 231.320312 370.117188 231.320312 367.71875 C 231.320312 365.316406 234.921875 365.316406 234.921875 367.71875 \"/>\n",
       "<path style=\"fill-rule:nonzero;fill:rgb(100%,0%,0%);fill-opacity:1;stroke-width:0.75;stroke-linecap:round;stroke-linejoin:round;stroke:rgb(100%,0%,0%);stroke-opacity:1;stroke-miterlimit:10;\" d=\"M 232.359375 369.414062 C 232.359375 371.8125 228.761719 371.8125 228.761719 369.414062 C 228.761719 367.011719 232.359375 367.011719 232.359375 369.414062 \"/>\n",
       "<path style=\"fill-rule:nonzero;fill:rgb(100%,0%,0%);fill-opacity:1;stroke-width:0.75;stroke-linecap:round;stroke-linejoin:round;stroke:rgb(100%,0%,0%);stroke-opacity:1;stroke-miterlimit:10;\" d=\"M 229.800781 371.046875 C 229.800781 373.449219 226.199219 373.449219 226.199219 371.046875 C 226.199219 368.648438 229.800781 368.648438 229.800781 371.046875 \"/>\n",
       "<path style=\"fill-rule:nonzero;fill:rgb(100%,0%,0%);fill-opacity:1;stroke-width:0.75;stroke-linecap:round;stroke-linejoin:round;stroke:rgb(100%,0%,0%);stroke-opacity:1;stroke-miterlimit:10;\" d=\"M 227.238281 372.660156 C 227.238281 375.058594 223.640625 375.058594 223.640625 372.660156 C 223.640625 370.257812 227.238281 370.257812 227.238281 372.660156 \"/>\n",
       "<path style=\"fill-rule:nonzero;fill:rgb(100%,0%,0%);fill-opacity:1;stroke-width:0.75;stroke-linecap:round;stroke-linejoin:round;stroke:rgb(100%,0%,0%);stroke-opacity:1;stroke-miterlimit:10;\" d=\"M 224.679688 374.234375 C 224.679688 376.632812 221.078125 376.632812 221.078125 374.234375 C 221.078125 371.832031 224.679688 371.832031 224.679688 374.234375 \"/>\n",
       "<path style=\"fill-rule:nonzero;fill:rgb(100%,0%,0%);fill-opacity:1;stroke-width:0.75;stroke-linecap:round;stroke-linejoin:round;stroke:rgb(100%,0%,0%);stroke-opacity:1;stroke-miterlimit:10;\" d=\"M 222.121094 375.769531 C 222.121094 378.171875 218.519531 378.171875 218.519531 375.769531 C 218.519531 373.371094 222.121094 373.371094 222.121094 375.769531 \"/>\n",
       "<path style=\"fill-rule:nonzero;fill:rgb(100%,0%,0%);fill-opacity:1;stroke-width:0.75;stroke-linecap:round;stroke-linejoin:round;stroke:rgb(100%,0%,0%);stroke-opacity:1;stroke-miterlimit:10;\" d=\"M 219.558594 377.28125 C 219.558594 379.679688 215.960938 379.679688 215.960938 377.28125 C 215.960938 374.878906 219.558594 374.878906 219.558594 377.28125 \"/>\n",
       "<path style=\"fill-rule:nonzero;fill:rgb(100%,0%,0%);fill-opacity:1;stroke-width:0.75;stroke-linecap:round;stroke-linejoin:round;stroke:rgb(100%,0%,0%);stroke-opacity:1;stroke-miterlimit:10;\" d=\"M 217 378.757812 C 217 381.15625 213.398438 381.15625 213.398438 378.757812 C 213.398438 376.359375 217 376.359375 217 378.757812 \"/>\n",
       "<path style=\"fill-rule:nonzero;fill:rgb(100%,0%,0%);fill-opacity:1;stroke-width:0.75;stroke-linecap:round;stroke-linejoin:round;stroke:rgb(100%,0%,0%);stroke-opacity:1;stroke-miterlimit:10;\" d=\"M 214.441406 380.203125 C 214.441406 382.601562 210.839844 382.601562 210.839844 380.203125 C 210.839844 377.800781 214.441406 377.800781 214.441406 380.203125 \"/>\n",
       "<path style=\"fill-rule:nonzero;fill:rgb(100%,0%,0%);fill-opacity:1;stroke-width:0.75;stroke-linecap:round;stroke-linejoin:round;stroke:rgb(100%,0%,0%);stroke-opacity:1;stroke-miterlimit:10;\" d=\"M 211.878906 381.617188 C 211.878906 384.019531 208.28125 384.019531 208.28125 381.617188 C 208.28125 379.21875 211.878906 379.21875 211.878906 381.617188 \"/>\n",
       "<path style=\"fill-rule:nonzero;fill:rgb(100%,0%,0%);fill-opacity:1;stroke-width:0.75;stroke-linecap:round;stroke-linejoin:round;stroke:rgb(100%,0%,0%);stroke-opacity:1;stroke-miterlimit:10;\" d=\"M 209.320312 383.035156 C 209.320312 385.4375 205.71875 385.4375 205.71875 383.035156 C 205.71875 380.636719 209.320312 380.636719 209.320312 383.035156 \"/>\n",
       "<path style=\"fill-rule:nonzero;fill:rgb(100%,0%,0%);fill-opacity:1;stroke-width:0.75;stroke-linecap:round;stroke-linejoin:round;stroke:rgb(100%,0%,0%);stroke-opacity:1;stroke-miterlimit:10;\" d=\"M 206.761719 384.40625 C 206.761719 386.804688 203.160156 386.804688 203.160156 384.40625 C 203.160156 382.007812 206.761719 382.007812 206.761719 384.40625 \"/>\n",
       "<path style=\"fill-rule:nonzero;fill:rgb(100%,0%,0%);fill-opacity:1;stroke-width:0.75;stroke-linecap:round;stroke-linejoin:round;stroke:rgb(100%,0%,0%);stroke-opacity:1;stroke-miterlimit:10;\" d=\"M 204.199219 385.753906 C 204.199219 388.152344 200.601562 388.152344 200.601562 385.753906 C 200.601562 383.351562 204.199219 383.351562 204.199219 385.753906 \"/>\n",
       "<path style=\"fill-rule:nonzero;fill:rgb(100%,0%,0%);fill-opacity:1;stroke-width:0.75;stroke-linecap:round;stroke-linejoin:round;stroke:rgb(100%,0%,0%);stroke-opacity:1;stroke-miterlimit:10;\" d=\"M 201.640625 387.074219 C 201.640625 389.476562 198.039062 389.476562 198.039062 387.074219 C 198.039062 384.675781 201.640625 384.675781 201.640625 387.074219 \"/>\n",
       "<path style=\"fill-rule:nonzero;fill:rgb(100%,0%,0%);fill-opacity:1;stroke-width:0.75;stroke-linecap:round;stroke-linejoin:round;stroke:rgb(100%,0%,0%);stroke-opacity:1;stroke-miterlimit:10;\" d=\"M 199.078125 388.371094 C 199.078125 390.769531 195.480469 390.769531 195.480469 388.371094 C 195.480469 385.96875 199.078125 385.96875 199.078125 388.371094 \"/>\n",
       "<path style=\"fill-rule:nonzero;fill:rgb(100%,0%,0%);fill-opacity:1;stroke-width:0.75;stroke-linecap:round;stroke-linejoin:round;stroke:rgb(100%,0%,0%);stroke-opacity:1;stroke-miterlimit:10;\" d=\"M 196.519531 389.625 C 196.519531 392.023438 192.921875 392.023438 192.921875 389.625 C 192.921875 387.222656 196.519531 387.222656 196.519531 389.625 \"/>\n",
       "<path style=\"fill-rule:nonzero;fill:rgb(100%,0%,0%);fill-opacity:1;stroke-width:0.75;stroke-linecap:round;stroke-linejoin:round;stroke:rgb(100%,0%,0%);stroke-opacity:1;stroke-miterlimit:10;\" d=\"M 193.960938 390.847656 C 193.960938 393.246094 190.359375 393.246094 190.359375 390.847656 C 190.359375 388.449219 193.960938 388.449219 193.960938 390.847656 \"/>\n",
       "<path style=\"fill-rule:nonzero;fill:rgb(100%,0%,0%);fill-opacity:1;stroke-width:0.75;stroke-linecap:round;stroke-linejoin:round;stroke:rgb(100%,0%,0%);stroke-opacity:1;stroke-miterlimit:10;\" d=\"M 191.398438 392.03125 C 191.398438 394.433594 187.800781 394.433594 187.800781 392.03125 C 187.800781 389.632812 191.398438 389.632812 191.398438 392.03125 \"/>\n",
       "<path style=\"fill-rule:nonzero;fill:rgb(100%,0%,0%);fill-opacity:1;stroke-width:0.75;stroke-linecap:round;stroke-linejoin:round;stroke:rgb(100%,0%,0%);stroke-opacity:1;stroke-miterlimit:10;\" d=\"M 188.839844 393.175781 C 188.839844 395.574219 185.238281 395.574219 185.238281 393.175781 C 185.238281 390.773438 188.839844 390.773438 188.839844 393.175781 \"/>\n",
       "<path style=\"fill-rule:nonzero;fill:rgb(100%,0%,0%);fill-opacity:1;stroke-width:0.75;stroke-linecap:round;stroke-linejoin:round;stroke:rgb(100%,0%,0%);stroke-opacity:1;stroke-miterlimit:10;\" d=\"M 186.28125 394.257812 C 186.28125 396.660156 182.679688 396.660156 182.679688 394.257812 C 182.679688 391.859375 186.28125 391.859375 186.28125 394.257812 \"/>\n",
       "<path style=\"fill-rule:nonzero;fill:rgb(100%,0%,0%);fill-opacity:1;stroke-width:0.75;stroke-linecap:round;stroke-linejoin:round;stroke:rgb(100%,0%,0%);stroke-opacity:1;stroke-miterlimit:10;\" d=\"M 183.71875 395.300781 C 183.71875 397.703125 180.121094 397.703125 180.121094 395.300781 C 180.121094 392.902344 183.71875 392.902344 183.71875 395.300781 \"/>\n",
       "<path style=\"fill-rule:nonzero;fill:rgb(100%,0%,0%);fill-opacity:1;stroke-width:0.75;stroke-linecap:round;stroke-linejoin:round;stroke:rgb(100%,0%,0%);stroke-opacity:1;stroke-miterlimit:10;\" d=\"M 181.160156 396.28125 C 181.160156 398.683594 177.558594 398.683594 177.558594 396.28125 C 177.558594 393.882812 181.160156 393.882812 181.160156 396.28125 \"/>\n",
       "<path style=\"fill-rule:nonzero;fill:rgb(100%,0%,0%);fill-opacity:1;stroke-width:0.75;stroke-linecap:round;stroke-linejoin:round;stroke:rgb(100%,0%,0%);stroke-opacity:1;stroke-miterlimit:10;\" d=\"M 178.601562 397.210938 C 178.601562 399.609375 175 399.609375 175 397.210938 C 175 394.8125 178.601562 394.8125 178.601562 397.210938 \"/>\n",
       "<path style=\"fill-rule:nonzero;fill:rgb(100%,0%,0%);fill-opacity:1;stroke-width:0.75;stroke-linecap:round;stroke-linejoin:round;stroke:rgb(100%,0%,0%);stroke-opacity:1;stroke-miterlimit:10;\" d=\"M 176.039062 398.066406 C 176.039062 400.464844 172.441406 400.464844 172.441406 398.066406 C 172.441406 395.667969 176.039062 395.667969 176.039062 398.066406 \"/>\n",
       "<path style=\"fill-rule:nonzero;fill:rgb(100%,0%,0%);fill-opacity:1;stroke-width:0.75;stroke-linecap:round;stroke-linejoin:round;stroke:rgb(100%,0%,0%);stroke-opacity:1;stroke-miterlimit:10;\" d=\"M 173.480469 398.871094 C 173.480469 401.269531 169.878906 401.269531 169.878906 398.871094 C 169.878906 396.472656 173.480469 396.472656 173.480469 398.871094 \"/>\n",
       "<path style=\"fill-rule:nonzero;fill:rgb(100%,0%,0%);fill-opacity:1;stroke-width:0.75;stroke-linecap:round;stroke-linejoin:round;stroke:rgb(100%,0%,0%);stroke-opacity:1;stroke-miterlimit:10;\" d=\"M 170.921875 399.601562 C 170.921875 402.003906 167.320312 402.003906 167.320312 399.601562 C 167.320312 397.203125 170.921875 397.203125 170.921875 399.601562 \"/>\n",
       "<path style=\"fill-rule:nonzero;fill:rgb(100%,0%,0%);fill-opacity:1;stroke-width:0.75;stroke-linecap:round;stroke-linejoin:round;stroke:rgb(100%,0%,0%);stroke-opacity:1;stroke-miterlimit:10;\" d=\"M 168.359375 400.273438 C 168.359375 402.671875 164.761719 402.671875 164.761719 400.273438 C 164.761719 397.875 168.359375 397.875 168.359375 400.273438 \"/>\n",
       "<path style=\"fill-rule:nonzero;fill:rgb(100%,0%,0%);fill-opacity:1;stroke-width:0.75;stroke-linecap:round;stroke-linejoin:round;stroke:rgb(100%,0%,0%);stroke-opacity:1;stroke-miterlimit:10;\" d=\"M 165.800781 400.882812 C 165.800781 403.285156 162.199219 403.285156 162.199219 400.882812 C 162.199219 398.484375 165.800781 398.484375 165.800781 400.882812 \"/>\n",
       "<path style=\"fill-rule:nonzero;fill:rgb(100%,0%,0%);fill-opacity:1;stroke-width:0.75;stroke-linecap:round;stroke-linejoin:round;stroke:rgb(100%,0%,0%);stroke-opacity:1;stroke-miterlimit:10;\" d=\"M 163.238281 401.425781 C 163.238281 403.824219 159.640625 403.824219 159.640625 401.425781 C 159.640625 399.023438 163.238281 399.023438 163.238281 401.425781 \"/>\n",
       "<path style=\"fill-rule:nonzero;fill:rgb(100%,0%,0%);fill-opacity:1;stroke-width:0.75;stroke-linecap:round;stroke-linejoin:round;stroke:rgb(100%,0%,0%);stroke-opacity:1;stroke-miterlimit:10;\" d=\"M 160.679688 401.902344 C 160.679688 404.300781 157.078125 404.300781 157.078125 401.902344 C 157.078125 399.5 160.679688 399.5 160.679688 401.902344 \"/>\n",
       "<path style=\"fill-rule:nonzero;fill:rgb(100%,0%,0%);fill-opacity:1;stroke-width:0.75;stroke-linecap:round;stroke-linejoin:round;stroke:rgb(100%,0%,0%);stroke-opacity:1;stroke-miterlimit:10;\" d=\"M 158.121094 402.316406 C 158.121094 404.714844 154.519531 404.714844 154.519531 402.316406 C 154.519531 399.917969 158.121094 399.917969 158.121094 402.316406 \"/>\n",
       "<path style=\"fill-rule:nonzero;fill:rgb(100%,0%,0%);fill-opacity:1;stroke-width:0.75;stroke-linecap:round;stroke-linejoin:round;stroke:rgb(100%,0%,0%);stroke-opacity:1;stroke-miterlimit:10;\" d=\"M 155.558594 402.671875 C 155.558594 405.070312 151.960938 405.070312 151.960938 402.671875 C 151.960938 400.273438 155.558594 400.273438 155.558594 402.671875 \"/>\n",
       "<path style=\"fill-rule:nonzero;fill:rgb(100%,0%,0%);fill-opacity:1;stroke-width:0.75;stroke-linecap:round;stroke-linejoin:round;stroke:rgb(100%,0%,0%);stroke-opacity:1;stroke-miterlimit:10;\" d=\"M 153 402.96875 C 153 405.367188 149.398438 405.367188 149.398438 402.96875 C 149.398438 400.566406 153 400.566406 153 402.96875 \"/>\n",
       "<path style=\"fill-rule:nonzero;fill:rgb(100%,0%,0%);fill-opacity:1;stroke-width:0.75;stroke-linecap:round;stroke-linejoin:round;stroke:rgb(100%,0%,0%);stroke-opacity:1;stroke-miterlimit:10;\" d=\"M 150.441406 403.207031 C 150.441406 405.605469 146.839844 405.605469 146.839844 403.207031 C 146.839844 400.804688 150.441406 400.804688 150.441406 403.207031 \"/>\n",
       "<path style=\"fill-rule:nonzero;fill:rgb(100%,0%,0%);fill-opacity:1;stroke-width:0.75;stroke-linecap:round;stroke-linejoin:round;stroke:rgb(100%,0%,0%);stroke-opacity:1;stroke-miterlimit:10;\" d=\"M 147.878906 403.386719 C 147.878906 405.785156 144.28125 405.785156 144.28125 403.386719 C 144.28125 400.984375 147.878906 400.984375 147.878906 403.386719 \"/>\n",
       "<path style=\"fill-rule:nonzero;fill:rgb(100%,0%,0%);fill-opacity:1;stroke-width:0.75;stroke-linecap:round;stroke-linejoin:round;stroke:rgb(100%,0%,0%);stroke-opacity:1;stroke-miterlimit:10;\" d=\"M 145.320312 403.503906 C 145.320312 405.90625 141.71875 405.90625 141.71875 403.503906 C 141.71875 401.105469 145.320312 401.105469 145.320312 403.503906 \"/>\n",
       "<path style=\"fill-rule:nonzero;fill:rgb(100%,0%,0%);fill-opacity:1;stroke-width:0.75;stroke-linecap:round;stroke-linejoin:round;stroke:rgb(100%,0%,0%);stroke-opacity:1;stroke-miterlimit:10;\" d=\"M 142.761719 403.570312 C 142.761719 405.96875 139.160156 405.96875 139.160156 403.570312 C 139.160156 401.167969 142.761719 401.167969 142.761719 403.570312 \"/>\n",
       "<path style=\"fill-rule:nonzero;fill:rgb(100%,0%,0%);fill-opacity:1;stroke-width:0.75;stroke-linecap:round;stroke-linejoin:round;stroke:rgb(100%,0%,0%);stroke-opacity:1;stroke-miterlimit:10;\" d=\"M 140.199219 403.582031 C 140.199219 405.980469 136.601562 405.980469 136.601562 403.582031 C 136.601562 401.179688 140.199219 401.179688 140.199219 403.582031 \"/>\n",
       "<path style=\"fill-rule:nonzero;fill:rgb(100%,0%,0%);fill-opacity:1;stroke-width:0.75;stroke-linecap:round;stroke-linejoin:round;stroke:rgb(100%,0%,0%);stroke-opacity:1;stroke-miterlimit:10;\" d=\"M 137.640625 403.539062 C 137.640625 405.941406 134.039062 405.941406 134.039062 403.539062 C 134.039062 401.140625 137.640625 401.140625 137.640625 403.539062 \"/>\n",
       "<path style=\"fill-rule:nonzero;fill:rgb(100%,0%,0%);fill-opacity:1;stroke-width:0.75;stroke-linecap:round;stroke-linejoin:round;stroke:rgb(100%,0%,0%);stroke-opacity:1;stroke-miterlimit:10;\" d=\"M 135.078125 403.445312 C 135.078125 405.84375 131.480469 405.84375 131.480469 403.445312 C 131.480469 401.042969 135.078125 401.042969 135.078125 403.445312 \"/>\n",
       "<path style=\"fill-rule:nonzero;fill:rgb(100%,0%,0%);fill-opacity:1;stroke-width:0.75;stroke-linecap:round;stroke-linejoin:round;stroke:rgb(100%,0%,0%);stroke-opacity:1;stroke-miterlimit:10;\" d=\"M 132.519531 403.296875 C 132.519531 405.699219 128.921875 405.699219 128.921875 403.296875 C 128.921875 400.898438 132.519531 400.898438 132.519531 403.296875 \"/>\n",
       "<path style=\"fill-rule:nonzero;fill:rgb(100%,0%,0%);fill-opacity:1;stroke-width:0.75;stroke-linecap:round;stroke-linejoin:round;stroke:rgb(100%,0%,0%);stroke-opacity:1;stroke-miterlimit:10;\" d=\"M 129.960938 403.097656 C 129.960938 405.496094 126.359375 405.496094 126.359375 403.097656 C 126.359375 400.695312 129.960938 400.695312 129.960938 403.097656 \"/>\n",
       "<path style=\"fill-rule:nonzero;fill:rgb(100%,0%,0%);fill-opacity:1;stroke-width:0.75;stroke-linecap:round;stroke-linejoin:round;stroke:rgb(100%,0%,0%);stroke-opacity:1;stroke-miterlimit:10;\" d=\"M 127.398438 402.847656 C 127.398438 405.25 123.800781 405.25 123.800781 402.847656 C 123.800781 400.449219 127.398438 400.449219 127.398438 402.847656 \"/>\n",
       "<path style=\"fill-rule:nonzero;fill:rgb(100%,0%,0%);fill-opacity:1;stroke-width:0.75;stroke-linecap:round;stroke-linejoin:round;stroke:rgb(100%,0%,0%);stroke-opacity:1;stroke-miterlimit:10;\" d=\"M 124.839844 402.554688 C 124.839844 404.953125 121.238281 404.953125 121.238281 402.554688 C 121.238281 400.15625 124.839844 400.15625 124.839844 402.554688 \"/>\n",
       "<path style=\"fill-rule:nonzero;fill:rgb(100%,0%,0%);fill-opacity:1;stroke-width:0.75;stroke-linecap:round;stroke-linejoin:round;stroke:rgb(100%,0%,0%);stroke-opacity:1;stroke-miterlimit:10;\" d=\"M 122.28125 402.210938 C 122.28125 404.613281 118.679688 404.613281 118.679688 402.210938 C 118.679688 399.8125 122.28125 399.8125 122.28125 402.210938 \"/>\n",
       "<path style=\"fill-rule:nonzero;fill:rgb(100%,0%,0%);fill-opacity:1;stroke-width:0.75;stroke-linecap:round;stroke-linejoin:round;stroke:rgb(100%,0%,0%);stroke-opacity:1;stroke-miterlimit:10;\" d=\"M 119.71875 401.835938 C 119.71875 404.234375 116.121094 404.234375 116.121094 401.835938 C 116.121094 399.433594 119.71875 399.433594 119.71875 401.835938 \"/>\n",
       "<path style=\"fill-rule:nonzero;fill:rgb(100%,0%,0%);fill-opacity:1;stroke-width:0.75;stroke-linecap:round;stroke-linejoin:round;stroke:rgb(100%,0%,0%);stroke-opacity:1;stroke-miterlimit:10;\" d=\"M 117.160156 401.414062 C 117.160156 403.816406 113.558594 403.816406 113.558594 401.414062 C 113.558594 399.015625 117.160156 399.015625 117.160156 401.414062 \"/>\n",
       "<path style=\"fill-rule:nonzero;fill:rgb(100%,0%,0%);fill-opacity:1;stroke-width:0.75;stroke-linecap:round;stroke-linejoin:round;stroke:rgb(100%,0%,0%);stroke-opacity:1;stroke-miterlimit:10;\" d=\"M 114.601562 400.960938 C 114.601562 403.363281 111 403.363281 111 400.960938 C 111 398.5625 114.601562 398.5625 114.601562 400.960938 \"/>\n",
       "<path style=\"fill-rule:nonzero;fill:rgb(100%,0%,0%);fill-opacity:1;stroke-width:0.75;stroke-linecap:round;stroke-linejoin:round;stroke:rgb(100%,0%,0%);stroke-opacity:1;stroke-miterlimit:10;\" d=\"M 112.039062 400.480469 C 112.039062 402.878906 108.441406 402.878906 108.441406 400.480469 C 108.441406 398.078125 112.039062 398.078125 112.039062 400.480469 \"/>\n",
       "<path style=\"fill-rule:nonzero;fill:rgb(100%,0%,0%);fill-opacity:1;stroke-width:0.75;stroke-linecap:round;stroke-linejoin:round;stroke:rgb(100%,0%,0%);stroke-opacity:1;stroke-miterlimit:10;\" d=\"M 109.480469 399.964844 C 109.480469 402.363281 105.878906 402.363281 105.878906 399.964844 C 105.878906 397.5625 109.480469 397.5625 109.480469 399.964844 \"/>\n",
       "<path style=\"fill-rule:nonzero;fill:rgb(100%,0%,0%);fill-opacity:1;stroke-width:0.75;stroke-linecap:round;stroke-linejoin:round;stroke:rgb(100%,0%,0%);stroke-opacity:1;stroke-miterlimit:10;\" d=\"M 106.921875 399.4375 C 106.921875 401.835938 103.320312 401.835938 103.320312 399.4375 C 103.320312 397.039062 106.921875 397.039062 106.921875 399.4375 \"/>\n",
       "<path style=\"fill-rule:nonzero;fill:rgb(100%,0%,0%);fill-opacity:1;stroke-width:0.75;stroke-linecap:round;stroke-linejoin:round;stroke:rgb(100%,0%,0%);stroke-opacity:1;stroke-miterlimit:10;\" d=\"M 104.359375 398.886719 C 104.359375 401.285156 100.761719 401.285156 100.761719 398.886719 C 100.761719 396.484375 104.359375 396.484375 104.359375 398.886719 \"/>\n",
       "<path style=\"fill-rule:nonzero;fill:rgb(100%,0%,0%);fill-opacity:1;stroke-width:0.75;stroke-linecap:round;stroke-linejoin:round;stroke:rgb(100%,0%,0%);stroke-opacity:1;stroke-miterlimit:10;\" d=\"M 101.800781 398.332031 C 101.800781 400.730469 98.199219 400.730469 98.199219 398.332031 C 98.199219 395.929688 101.800781 395.929688 101.800781 398.332031 \"/>\n",
       "<path style=\"fill-rule:nonzero;fill:rgb(100%,0%,0%);fill-opacity:1;stroke-width:0.75;stroke-linecap:round;stroke-linejoin:round;stroke:rgb(100%,0%,0%);stroke-opacity:1;stroke-miterlimit:10;\" d=\"M 99.238281 397.773438 C 99.238281 400.171875 95.640625 400.171875 95.640625 397.773438 C 95.640625 395.371094 99.238281 395.371094 99.238281 397.773438 \"/>\n",
       "<path style=\"fill-rule:nonzero;fill:rgb(100%,0%,0%);fill-opacity:1;stroke-width:0.75;stroke-linecap:round;stroke-linejoin:round;stroke:rgb(100%,0%,0%);stroke-opacity:1;stroke-miterlimit:10;\" d=\"M 96.679688 397.210938 C 96.679688 399.609375 93.078125 399.609375 93.078125 397.210938 C 93.078125 394.8125 96.679688 394.8125 96.679688 397.210938 \"/>\n",
       "<path style=\"fill-rule:nonzero;fill:rgb(100%,0%,0%);fill-opacity:1;stroke-width:0.75;stroke-linecap:round;stroke-linejoin:round;stroke:rgb(100%,0%,0%);stroke-opacity:1;stroke-miterlimit:10;\" d=\"M 94.121094 396.648438 C 94.121094 399.050781 90.519531 399.050781 90.519531 396.648438 C 90.519531 394.25 94.121094 394.25 94.121094 396.648438 \"/>\n",
       "<path style=\"fill-rule:nonzero;fill:rgb(100%,0%,0%);fill-opacity:1;stroke-width:0.75;stroke-linecap:round;stroke-linejoin:round;stroke:rgb(100%,0%,0%);stroke-opacity:1;stroke-miterlimit:10;\" d=\"M 91.558594 396.113281 C 91.558594 398.511719 87.960938 398.511719 87.960938 396.113281 C 87.960938 393.710938 91.558594 393.710938 91.558594 396.113281 \"/>\n",
       "<path style=\"fill-rule:nonzero;fill:rgb(100%,0%,0%);fill-opacity:1;stroke-width:0.75;stroke-linecap:round;stroke-linejoin:round;stroke:rgb(100%,0%,0%);stroke-opacity:1;stroke-miterlimit:10;\" d=\"M 89 395.5625 C 89 397.960938 85.398438 397.960938 85.398438 395.5625 C 85.398438 393.160156 89 393.160156 89 395.5625 \"/>\n",
       "<path style=\"fill-rule:nonzero;fill:rgb(100%,0%,0%);fill-opacity:1;stroke-width:0.75;stroke-linecap:round;stroke-linejoin:round;stroke:rgb(100%,0%,0%);stroke-opacity:1;stroke-miterlimit:10;\" d=\"M 86.441406 395.039062 C 86.441406 397.441406 82.839844 397.441406 82.839844 395.039062 C 82.839844 392.640625 86.441406 392.640625 86.441406 395.039062 \"/>\n",
       "<path style=\"fill-rule:nonzero;fill:rgb(100%,0%,0%);fill-opacity:1;stroke-width:0.75;stroke-linecap:round;stroke-linejoin:round;stroke:rgb(100%,0%,0%);stroke-opacity:1;stroke-miterlimit:10;\" d=\"M 83.878906 394.527344 C 83.878906 396.925781 80.28125 396.925781 80.28125 394.527344 C 80.28125 392.128906 83.878906 392.128906 83.878906 394.527344 \"/>\n",
       "<path style=\"fill-rule:nonzero;fill:rgb(100%,0%,0%);fill-opacity:1;stroke-width:0.75;stroke-linecap:round;stroke-linejoin:round;stroke:rgb(100%,0%,0%);stroke-opacity:1;stroke-miterlimit:10;\" d=\"M 81.320312 394.046875 C 81.320312 396.449219 77.71875 396.449219 77.71875 394.046875 C 77.71875 391.648438 81.320312 391.648438 81.320312 394.046875 \"/>\n",
       "<path style=\"fill-rule:nonzero;fill:rgb(100%,0%,0%);fill-opacity:1;stroke-width:0.75;stroke-linecap:round;stroke-linejoin:round;stroke:rgb(100%,0%,0%);stroke-opacity:1;stroke-miterlimit:10;\" d=\"M 78.761719 393.582031 C 78.761719 395.980469 75.160156 395.980469 75.160156 393.582031 C 75.160156 391.179688 78.761719 391.179688 78.761719 393.582031 \"/>\n",
       "<path style=\"fill-rule:nonzero;fill:rgb(100%,0%,0%);fill-opacity:1;stroke-width:0.75;stroke-linecap:round;stroke-linejoin:round;stroke:rgb(100%,0%,0%);stroke-opacity:1;stroke-miterlimit:10;\" d=\"M 76.199219 393.128906 C 76.199219 395.53125 72.601562 395.53125 72.601562 393.128906 C 72.601562 390.730469 76.199219 390.730469 76.199219 393.128906 \"/>\n",
       "<g style=\"fill:rgb(0%,0%,0%);fill-opacity:1;\">\n",
       "  <use xlink:href=\"#glyph0-4\" x=\"67.398438\" y=\"41.625\"/>\n",
       "  <use xlink:href=\"#glyph0-8\" x=\"74.398438\" y=\"41.625\"/>\n",
       "</g>\n",
       "<g style=\"fill:rgb(0%,0%,0%);fill-opacity:1;\">\n",
       "  <use xlink:href=\"#glyph0-4\" x=\"93\" y=\"41.625\"/>\n",
       "  <use xlink:href=\"#glyph0-8\" x=\"100\" y=\"41.625\"/>\n",
       "</g>\n",
       "<g style=\"fill:rgb(0%,0%,0%);fill-opacity:1;\">\n",
       "  <use xlink:href=\"#glyph0-4\" x=\"118.601562\" y=\"41.625\"/>\n",
       "  <use xlink:href=\"#glyph0-8\" x=\"125.601562\" y=\"41.625\"/>\n",
       "</g>\n",
       "<g style=\"fill:rgb(0%,0%,0%);fill-opacity:1;\">\n",
       "  <use xlink:href=\"#glyph0-4\" x=\"144.199219\" y=\"41.625\"/>\n",
       "  <use xlink:href=\"#glyph0-8\" x=\"151.199219\" y=\"41.625\"/>\n",
       "</g>\n",
       "<g style=\"fill:rgb(0%,0%,0%);fill-opacity:1;\">\n",
       "  <use xlink:href=\"#glyph0-4\" x=\"169.800781\" y=\"41.625\"/>\n",
       "  <use xlink:href=\"#glyph0-8\" x=\"176.800781\" y=\"41.625\"/>\n",
       "</g>\n",
       "<g style=\"fill:rgb(0%,0%,0%);fill-opacity:1;\">\n",
       "  <use xlink:href=\"#glyph0-4\" x=\"195.398438\" y=\"41.625\"/>\n",
       "  <use xlink:href=\"#glyph0-8\" x=\"202.398438\" y=\"41.625\"/>\n",
       "</g>\n",
       "<g style=\"fill:rgb(0%,0%,0%);fill-opacity:1;\">\n",
       "  <use xlink:href=\"#glyph0-4\" x=\"221\" y=\"41.625\"/>\n",
       "  <use xlink:href=\"#glyph0-8\" x=\"228\" y=\"41.625\"/>\n",
       "</g>\n",
       "<g style=\"fill:rgb(0%,0%,0%);fill-opacity:1;\">\n",
       "  <use xlink:href=\"#glyph0-4\" x=\"246.601562\" y=\"41.625\"/>\n",
       "  <use xlink:href=\"#glyph0-8\" x=\"253.601562\" y=\"41.625\"/>\n",
       "</g>\n",
       "<g style=\"fill:rgb(0%,0%,0%);fill-opacity:1;\">\n",
       "  <use xlink:href=\"#glyph0-4\" x=\"272.199219\" y=\"41.625\"/>\n",
       "  <use xlink:href=\"#glyph0-8\" x=\"279.199219\" y=\"41.625\"/>\n",
       "</g>\n",
       "<g style=\"fill:rgb(0%,0%,0%);fill-opacity:1;\">\n",
       "  <use xlink:href=\"#glyph0-4\" x=\"297.800781\" y=\"41.625\"/>\n",
       "  <use xlink:href=\"#glyph0-8\" x=\"304.800781\" y=\"41.625\"/>\n",
       "</g>\n",
       "<g style=\"fill:rgb(0%,0%,0%);fill-opacity:1;\">\n",
       "  <use xlink:href=\"#glyph0-4\" x=\"323.398438\" y=\"41.625\"/>\n",
       "  <use xlink:href=\"#glyph0-8\" x=\"330.398438\" y=\"41.625\"/>\n",
       "</g>\n",
       "<g style=\"fill:rgb(0%,0%,0%);fill-opacity:1;\">\n",
       "  <use xlink:href=\"#glyph0-4\" x=\"349\" y=\"41.625\"/>\n",
       "  <use xlink:href=\"#glyph0-8\" x=\"356\" y=\"41.625\"/>\n",
       "</g>\n",
       "<g style=\"fill:rgb(0%,0%,0%);fill-opacity:1;\">\n",
       "  <use xlink:href=\"#glyph0-4\" x=\"374.601562\" y=\"41.625\"/>\n",
       "  <use xlink:href=\"#glyph0-8\" x=\"381.601562\" y=\"41.625\"/>\n",
       "</g>\n",
       "<g style=\"fill:rgb(0%,0%,0%);fill-opacity:1;\">\n",
       "  <use xlink:href=\"#glyph0-4\" x=\"400.199219\" y=\"41.625\"/>\n",
       "  <use xlink:href=\"#glyph0-8\" x=\"407.199219\" y=\"41.625\"/>\n",
       "</g>\n",
       "<g style=\"fill:rgb(0%,0%,0%);fill-opacity:1;\">\n",
       "  <use xlink:href=\"#glyph0-4\" x=\"425.800781\" y=\"41.625\"/>\n",
       "  <use xlink:href=\"#glyph0-8\" x=\"432.800781\" y=\"41.625\"/>\n",
       "</g>\n",
       "<g style=\"fill:rgb(0%,0%,0%);fill-opacity:1;\">\n",
       "  <use xlink:href=\"#glyph0-4\" x=\"451.398438\" y=\"41.625\"/>\n",
       "  <use xlink:href=\"#glyph0-8\" x=\"458.398438\" y=\"41.625\"/>\n",
       "</g>\n",
       "<g clip-path=\"url(#clip1)\" clip-rule=\"nonzero\">\n",
       "<path style=\"fill:none;stroke-width:0.75;stroke-linecap:round;stroke-linejoin:round;stroke:rgb(0%,0%,0%);stroke-opacity:1;stroke-dasharray:0.75,2.25;stroke-miterlimit:10;\" d=\"M 138.398438 430.558594 L 138.398438 59.039062 \"/>\n",
       "</g>\n",
       "<g clip-path=\"url(#clip2)\" clip-rule=\"nonzero\">\n",
       "<path style=\"fill:none;stroke-width:0.75;stroke-linecap:round;stroke-linejoin:round;stroke:rgb(0%,0%,0%);stroke-opacity:1;stroke-dasharray:0.75,2.25;stroke-miterlimit:10;\" d=\"M 192.160156 430.558594 L 192.160156 59.039062 \"/>\n",
       "</g>\n",
       "</g>\n",
       "</svg>\n"
      ],
      "text/plain": [
       "Plot with title “MSE of Ridge estimated by CV for different lambdas\n",
       "\n",
       "”"
      ]
     },
     "metadata": {
      "application/pdf": {
       "height": 420,
       "width": 420
      },
      "image/jpeg": {
       "height": 420,
       "width": 420
      },
      "image/png": {
       "height": 420,
       "width": 420
      },
      "image/svg+xml": {
       "height": 420,
       "isolated": true,
       "width": 420
      }
     },
     "output_type": "display_data"
    }
   ],
   "source": [
    "# plot_data <- ...\n",
    "# plot(plot_data, main = \"MSE of Ridge estimated by CV for different lambdas\\n\\n\")\n",
    "\n",
    "### BEGIN SOLUTION\n",
    "\n",
    "plot_data <- fat_cv_lambda_ridge\n",
    "plot(plot_data, main = \"MSE of Ridge estimated by CV for different lambdas\\n\\n\")\n",
    "### END SOLUTION"
   ]
  },
  {
   "cell_type": "code",
   "execution_count": 6,
   "id": "7238ec80",
   "metadata": {
    "nbgrader": {
     "grade": true,
     "grade_id": "cell-5f0cf0c7f5529806",
     "locked": true,
     "points": 1,
     "schema_version": 3,
     "solution": false,
     "task": false
    }
   },
   "outputs": [
    {
     "name": "stdout",
     "output_type": "stream",
     "text": [
      "\u001b[32mTest passed\u001b[39m 😸\n",
      "\u001b[32mTest passed\u001b[39m 🎊\n",
      "[1] \"Success!\"\n"
     ]
    }
   ],
   "source": [
    "test_1.1()"
   ]
  },
  {
   "cell_type": "markdown",
   "id": "8160c487",
   "metadata": {
    "nbgrader": {
     "grade": false,
     "grade_id": "cell-68b60264988b73c1",
     "locked": true,
     "schema_version": 3,
     "solution": false,
     "task": false
    }
   },
   "source": [
    "**Question 1.2**\n",
    "<br>{points: 1}\n",
    "\n",
    "The plot in **Question 1.1** also shows two vertical dotted lines. *Given an `object` coming from `cv.glmnet()`*, these lines correspond to two values of $\\lambda$:\n",
    "\n",
    "- $\\hat{\\lambda}_{\\text{min}}$ which minimizes MSE. It can be obtained with `object$lambda.min`.\n",
    "\n",
    "\n",
    "- $\\hat{\\lambda}_{\\text{1SE}}$ for which the MSE is within one standard error of the minimum. It can be obtained with `object$lambda.1se`.\n",
    "\n",
    "\n",
    "Using `fat_cv_lambda_ridge`, obtain the $\\hat{\\lambda}_{\\text{min}}$ and save it as `fat_lambda_min_MSE_ridge`.\n",
    "\n",
    "*Fill out those parts indicated with `...`, uncomment the corresponding code in the cell below, and run it.*"
   ]
  },
  {
   "cell_type": "code",
   "execution_count": 7,
   "id": "71a876e4",
   "metadata": {
    "nbgrader": {
     "grade": false,
     "grade_id": "cell-f8302019baf0e946",
     "locked": false,
     "schema_version": 3,
     "solution": true,
     "task": false
    }
   },
   "outputs": [
    {
     "data": {
      "text/html": [
       "0.0821"
      ],
      "text/latex": [
       "0.0821"
      ],
      "text/markdown": [
       "0.0821"
      ],
      "text/plain": [
       "[1] 0.0821"
      ]
     },
     "metadata": {},
     "output_type": "display_data"
    }
   ],
   "source": [
    "# fat_lambda_min_MSE_ridge <- round(..., 4)\n",
    "# fat_lambda_min_MSE_ridge\n",
    "\n",
    "\n",
    "### BEGIN SOLUTION\n",
    "fat_lambda_min_MSE_ridge <- round(fat_cv_lambda_ridge$lambda.min, 4)\n",
    "fat_lambda_min_MSE_ridge\n",
    "### END SOLUTION"
   ]
  },
  {
   "cell_type": "code",
   "execution_count": 8,
   "id": "1ed770e7",
   "metadata": {
    "nbgrader": {
     "grade": true,
     "grade_id": "cell-aa84acea9f83e4f0",
     "locked": true,
     "points": 1,
     "schema_version": 3,
     "solution": false,
     "task": false
    }
   },
   "outputs": [
    {
     "name": "stdout",
     "output_type": "stream",
     "text": [
      "\u001b[32mTest passed\u001b[39m 🎉\n",
      "\u001b[32mTest passed\u001b[39m 🎊\n",
      "\u001b[32mTest passed\u001b[39m 🌈\n",
      "[1] \"Success!\"\n"
     ]
    }
   ],
   "source": [
    "test_1.2()"
   ]
  },
  {
   "cell_type": "markdown",
   "id": "aa9652c7",
   "metadata": {
    "nbgrader": {
     "grade": false,
     "grade_id": "cell-11cd98e7e77dda38",
     "locked": true,
     "schema_version": 3,
     "solution": false,
     "task": false
    }
   },
   "source": [
    "**Question 1.3**\n",
    "<br>{points: 1}\n",
    "\n",
    "Once we have selected a value of $\\lambda$, we can fit a Ridge regression. \n",
    "\n",
    "Use the function `glmnet()` along with `fat_X_train` and `fat_Y_train`. Recall that `alpha` is equal to zero for Ridge. Store the estimated models in `fat_ridge_min_add`.\n",
    "\n",
    "*Fill out those parts indicated with `...`, uncomment the corresponding code in the cell below, and run it.*"
   ]
  },
  {
   "cell_type": "code",
   "execution_count": 9,
   "id": "5c8810da",
   "metadata": {
    "nbgrader": {
     "grade": false,
     "grade_id": "cell-6247996ee6baff00",
     "locked": false,
     "schema_version": 3,
     "solution": true,
     "task": false
    }
   },
   "outputs": [
    {
     "data": {
      "text/plain": [
       "\n",
       "Call:  glmnet(x = fat_X_train, y = fat_Y_train, alpha = 0, lambda = fat_lambda_min_MSE_ridge) \n",
       "\n",
       "  Df  %Dev Lambda\n",
       "1 14 75.03 0.0821"
      ]
     },
     "metadata": {},
     "output_type": "display_data"
    }
   ],
   "source": [
    "set.seed(1234) # DO NOT CHANGE!\n",
    "\n",
    "# fat_ridge_min_add <- ...(\n",
    "#   x = ..., y = ...,\n",
    "#   alpha = ...,\n",
    "#   lambda = ...\n",
    "# )\n",
    "# fat_ridge_min_add\n",
    "\n",
    "\n",
    "### BEGIN SOLUTION\n",
    "fat_ridge_min_add <- glmnet(\n",
    "  x = fat_X_train, y = fat_Y_train,\n",
    "  alpha = 0,\n",
    "  lambda = fat_lambda_min_MSE_ridge\n",
    ")\n",
    "fat_ridge_min_add\n",
    "### END SOLUTION"
   ]
  },
  {
   "cell_type": "code",
   "execution_count": 10,
   "id": "611adaad",
   "metadata": {
    "nbgrader": {
     "grade": true,
     "grade_id": "cell-403460fdc6dd4b11",
     "locked": true,
     "points": 1,
     "schema_version": 3,
     "solution": false,
     "task": false
    }
   },
   "outputs": [
    {
     "name": "stdout",
     "output_type": "stream",
     "text": [
      "\u001b[32mTest passed\u001b[39m 🌈\n",
      "\u001b[32mTest passed\u001b[39m 🥳\n",
      "[1] \"Success!\"\n"
     ]
    }
   ],
   "source": [
    "test_1.3()"
   ]
  },
  {
   "cell_type": "markdown",
   "id": "231731db",
   "metadata": {
    "nbgrader": {
     "grade": false,
     "grade_id": "cell-b9c46b4907252c05",
     "locked": true,
     "schema_version": 3,
     "solution": false,
     "task": false
    }
   },
   "source": [
    "**Question 1.4**\n",
    "<br>{points: 1}\n",
    "\n",
    "Let's compare the estimated regression coefficients of  `fat_ridge_min_add` with those of `fat_full_OLS_add`. Code the following:\n",
    "\n",
    "- Fit a LS regression with *all* available variables, call the object `fat_full_OLS_add`\n",
    "\n",
    "- Extract the estimated regression coefficients of `fat_ridge_min_add` and store them in `fat_ridge_min_add.coef`. Given an estimated ridge regression model called `fat_ridge_min_add`, we can obtain the corresponding estimated regression coefficients with `fat_ridge_min_add$beta`.\n",
    "\n",
    "- Create a data frame called `fat_reg_coef` with three columns:\n",
    "\n",
    "    1. `Full_OLS:` The estimated coefficients from `fat_full_OLS_add` obtained via function `coef()`.\n",
    "    2. `Ridge_min`: The estimated coefficients in `fat_ridge_min_add.coef`. Recall this is the ridge regression with $\\hat{\\lambda}_{\\text{min}}$.\n",
    "    \n",
    "*Fill out those parts indicated with `...`, uncomment the corresponding code in the cell below, and run it.*"
   ]
  },
  {
   "cell_type": "code",
   "execution_count": 11,
   "id": "b56dfa57",
   "metadata": {
    "nbgrader": {
     "grade": false,
     "grade_id": "cell-41c97a5a038f5b37",
     "locked": false,
     "schema_version": 3,
     "solution": true,
     "task": false
    },
    "scrolled": true
   },
   "outputs": [
    {
     "data": {
      "text/html": [
       "<table class=\"dataframe\">\n",
       "<caption>A data.frame: 15 × 2</caption>\n",
       "<thead>\n",
       "\t<tr><th></th><th scope=col>Full_OLS</th><th scope=col>Ridge_min</th></tr>\n",
       "\t<tr><th></th><th scope=col>&lt;dbl&gt;</th><th scope=col>&lt;dbl&gt;</th></tr>\n",
       "</thead>\n",
       "<tbody>\n",
       "\t<tr><th scope=row>(Intercept)</th><td>-12.6747</td><td>-10.3412</td></tr>\n",
       "\t<tr><th scope=row>age</th><td>  0.0810</td><td>  0.0945</td></tr>\n",
       "\t<tr><th scope=row>weight</th><td> -0.0812</td><td> -0.0581</td></tr>\n",
       "\t<tr><th scope=row>height</th><td> -0.0423</td><td> -0.0522</td></tr>\n",
       "\t<tr><th scope=row>adipos</th><td>  0.1074</td><td>  0.1715</td></tr>\n",
       "\t<tr><th scope=row>neck</th><td> -0.6135</td><td> -0.6175</td></tr>\n",
       "\t<tr><th scope=row>chest</th><td> -0.1311</td><td> -0.0856</td></tr>\n",
       "\t<tr><th scope=row>abdom</th><td>  0.9509</td><td>  0.8299</td></tr>\n",
       "\t<tr><th scope=row>hip</th><td> -0.2072</td><td> -0.1661</td></tr>\n",
       "\t<tr><th scope=row>thigh</th><td>  0.1701</td><td>  0.1553</td></tr>\n",
       "\t<tr><th scope=row>knee</th><td>  0.0833</td><td>  0.0729</td></tr>\n",
       "\t<tr><th scope=row>ankle</th><td>  0.3485</td><td>  0.2764</td></tr>\n",
       "\t<tr><th scope=row>biceps</th><td>  0.1975</td><td>  0.1637</td></tr>\n",
       "\t<tr><th scope=row>forearm</th><td>  0.3958</td><td>  0.3787</td></tr>\n",
       "\t<tr><th scope=row>wrist</th><td> -1.4912</td><td> -1.5350</td></tr>\n",
       "</tbody>\n",
       "</table>\n"
      ],
      "text/latex": [
       "A data.frame: 15 × 2\n",
       "\\begin{tabular}{r|ll}\n",
       "  & Full\\_OLS & Ridge\\_min\\\\\n",
       "  & <dbl> & <dbl>\\\\\n",
       "\\hline\n",
       "\t(Intercept) & -12.6747 & -10.3412\\\\\n",
       "\tage &   0.0810 &   0.0945\\\\\n",
       "\tweight &  -0.0812 &  -0.0581\\\\\n",
       "\theight &  -0.0423 &  -0.0522\\\\\n",
       "\tadipos &   0.1074 &   0.1715\\\\\n",
       "\tneck &  -0.6135 &  -0.6175\\\\\n",
       "\tchest &  -0.1311 &  -0.0856\\\\\n",
       "\tabdom &   0.9509 &   0.8299\\\\\n",
       "\thip &  -0.2072 &  -0.1661\\\\\n",
       "\tthigh &   0.1701 &   0.1553\\\\\n",
       "\tknee &   0.0833 &   0.0729\\\\\n",
       "\tankle &   0.3485 &   0.2764\\\\\n",
       "\tbiceps &   0.1975 &   0.1637\\\\\n",
       "\tforearm &   0.3958 &   0.3787\\\\\n",
       "\twrist &  -1.4912 &  -1.5350\\\\\n",
       "\\end{tabular}\n"
      ],
      "text/markdown": [
       "\n",
       "A data.frame: 15 × 2\n",
       "\n",
       "| <!--/--> | Full_OLS &lt;dbl&gt; | Ridge_min &lt;dbl&gt; |\n",
       "|---|---|---|\n",
       "| (Intercept) | -12.6747 | -10.3412 |\n",
       "| age |   0.0810 |   0.0945 |\n",
       "| weight |  -0.0812 |  -0.0581 |\n",
       "| height |  -0.0423 |  -0.0522 |\n",
       "| adipos |   0.1074 |   0.1715 |\n",
       "| neck |  -0.6135 |  -0.6175 |\n",
       "| chest |  -0.1311 |  -0.0856 |\n",
       "| abdom |   0.9509 |   0.8299 |\n",
       "| hip |  -0.2072 |  -0.1661 |\n",
       "| thigh |   0.1701 |   0.1553 |\n",
       "| knee |   0.0833 |   0.0729 |\n",
       "| ankle |   0.3485 |   0.2764 |\n",
       "| biceps |   0.1975 |   0.1637 |\n",
       "| forearm |   0.3958 |   0.3787 |\n",
       "| wrist |  -1.4912 |  -1.5350 |\n",
       "\n"
      ],
      "text/plain": [
       "            Full_OLS Ridge_min\n",
       "(Intercept) -12.6747 -10.3412 \n",
       "age           0.0810   0.0945 \n",
       "weight       -0.0812  -0.0581 \n",
       "height       -0.0423  -0.0522 \n",
       "adipos        0.1074   0.1715 \n",
       "neck         -0.6135  -0.6175 \n",
       "chest        -0.1311  -0.0856 \n",
       "abdom         0.9509   0.8299 \n",
       "hip          -0.2072  -0.1661 \n",
       "thigh         0.1701   0.1553 \n",
       "knee          0.0833   0.0729 \n",
       "ankle         0.3485   0.2764 \n",
       "biceps        0.1975   0.1637 \n",
       "forearm       0.3958   0.3787 \n",
       "wrist        -1.4912  -1.5350 "
      ]
     },
     "metadata": {},
     "output_type": "display_data"
    }
   ],
   "source": [
    "# fat_full_OLS_add <- ...\n",
    "\n",
    "# fat_ridge_min_add.coef <- ...\n",
    "\n",
    "# fat_reg_coef <- round(cbind(\n",
    "#   Full_OLS = ...(...),\n",
    "#   Ridge_min = c(\n",
    "#     fat_ridge_min_add$a0,\n",
    "#     as.vector(fat_ridge_min_add.coef)\n",
    "#   )\n",
    "# ), 4) %>% as.data.frame()\n",
    "# fat_reg_coef\n",
    "\n",
    "### BEGIN SOLUTION\n",
    "fat_full_OLS_add <- lm(brozek ~ .,\n",
    "data = training_fat\n",
    ")\n",
    "\n",
    "fat_ridge_min_add.coef <- fat_ridge_min_add$beta\n",
    "\n",
    "fat_reg_coef <- round(cbind(\n",
    "  Full_OLS = coef(fat_full_OLS_add),\n",
    "  Ridge_min = c(\n",
    "    fat_ridge_min_add$a0,\n",
    "    as.vector(fat_ridge_min_add.coef)\n",
    "  ) \n",
    "), 4) %>% as.data.frame()\n",
    "fat_reg_coef\n",
    "### END SOLUTION"
   ]
  },
  {
   "cell_type": "code",
   "execution_count": 12,
   "id": "5d0a3915",
   "metadata": {
    "nbgrader": {
     "grade": true,
     "grade_id": "cell-e200ac42567e5c8c",
     "locked": true,
     "points": 1,
     "schema_version": 3,
     "solution": false,
     "task": false
    }
   },
   "outputs": [
    {
     "name": "stdout",
     "output_type": "stream",
     "text": [
      "\u001b[32mTest passed\u001b[39m 🎉\n",
      "\u001b[32mTest passed\u001b[39m 🥇\n",
      "\u001b[32mTest passed\u001b[39m 🌈\n",
      "\u001b[32mTest passed\u001b[39m 🎊\n",
      "\u001b[32mTest passed\u001b[39m 😀\n",
      "\u001b[32mTest passed\u001b[39m 🥇\n",
      "[1] \"Success!\"\n"
     ]
    }
   ],
   "source": [
    "test_1.4()"
   ]
  },
  {
   "cell_type": "markdown",
   "id": "7e43c600",
   "metadata": {
    "nbgrader": {
     "grade": false,
     "grade_id": "cell-7af1141952d12623",
     "locked": true,
     "schema_version": 3,
     "solution": false,
     "task": false
    }
   },
   "source": [
    "**Question 1.5**\n",
    "<br>{points: 1}\n",
    "\n",
    "Write code following the steps outlined below. This time we provide minimal guideline since you have done this before.\n",
    "\n",
    "- Using `predict()` and `fat_full_OLS_add`, obtain the (out-of-sample) predicted `brozek` values for men in `testing_fat`. Store them in a variable called `fat_test_pred_full_OLS_add`. \n",
    "\n",
    "Fill out those parts indicated with ..., uncomment the corresponding code in the cell below, and run it."
   ]
  },
  {
   "cell_type": "code",
   "execution_count": 13,
   "id": "732cc9d2",
   "metadata": {
    "nbgrader": {
     "grade": false,
     "grade_id": "cell-2297ec6008034b96",
     "locked": false,
     "schema_version": 3,
     "solution": true,
     "task": false
    }
   },
   "outputs": [
    {
     "data": {
      "text/html": [
       "<style>\n",
       ".dl-inline {width: auto; margin:0; padding: 0}\n",
       ".dl-inline>dt, .dl-inline>dd {float: none; width: auto; display: inline-block}\n",
       ".dl-inline>dt::after {content: \":\\0020\"; padding-right: .5ex}\n",
       ".dl-inline>dt:not(:first-of-type) {padding-left: .5ex}\n",
       "</style><dl class=dl-inline><dt>2</dt><dd>8.64929730473164</dd><dt>3</dt><dd>18.7155218378213</dd><dt>10</dt><dd>9.73997702503387</dd><dt>12</dt><dd>12.4694397911768</dd><dt>15</dt><dd>22.8146018463224</dd><dt>18</dt><dd>18.1534271832039</dd></dl>\n"
      ],
      "text/latex": [
       "\\begin{description*}\n",
       "\\item[2] 8.64929730473164\n",
       "\\item[3] 18.7155218378213\n",
       "\\item[10] 9.73997702503387\n",
       "\\item[12] 12.4694397911768\n",
       "\\item[15] 22.8146018463224\n",
       "\\item[18] 18.1534271832039\n",
       "\\end{description*}\n"
      ],
      "text/markdown": [
       "2\n",
       ":   8.649297304731643\n",
       ":   18.715521837821310\n",
       ":   9.7399770250338712\n",
       ":   12.469439791176815\n",
       ":   22.814601846322418\n",
       ":   18.1534271832039\n",
       "\n"
      ],
      "text/plain": [
       "        2         3        10        12        15        18 \n",
       " 8.649297 18.715522  9.739977 12.469440 22.814602 18.153427 "
      ]
     },
     "metadata": {},
     "output_type": "display_data"
    }
   ],
   "source": [
    "# fat_test_pred_full_OLS_add <- ...\n",
    "# head(fat_test_pred_full_OLS_add)\n",
    "\n",
    "### BEGIN SOLUTION\n",
    "fat_test_pred_full_OLS_add <- predict(fat_full_OLS_add, newdata = testing_fat[, 2:15])\n",
    "head(fat_test_pred_full_OLS_add)\n",
    "### END SOLUTION"
   ]
  },
  {
   "cell_type": "code",
   "execution_count": 14,
   "id": "d7604f00",
   "metadata": {
    "nbgrader": {
     "grade": true,
     "grade_id": "cell-bc5e6cff16323212",
     "locked": true,
     "points": 1,
     "schema_version": 3,
     "solution": false,
     "task": false
    }
   },
   "outputs": [
    {
     "name": "stdout",
     "output_type": "stream",
     "text": [
      "\u001b[32mTest passed\u001b[39m 🎉\n",
      "\u001b[32mTest passed\u001b[39m 🌈\n",
      "[1] \"Success!\"\n"
     ]
    }
   ],
   "source": [
    "test_1.5()"
   ]
  },
  {
   "cell_type": "markdown",
   "id": "21ae7cb7",
   "metadata": {
    "nbgrader": {
     "grade": false,
     "grade_id": "cell-8a6eaa6ba1bb3417",
     "locked": true,
     "schema_version": 3,
     "solution": false,
     "task": false
    }
   },
   "source": [
    "**Question 1.6**\n",
    "<br>{points: 1}\n",
    "\n",
    "We will now compute the **Mean Squared Error (MSE)** on the test set to evaluate the predictive model (the smaller the metric, the more better the model):\n",
    "\n",
    "> **Heads up:** a related measure commonly used is the **Root Mean Squared Error (RMSE) = $\\sqrt{\\text{MSE}}$**, which is the standard deviation of the prediction errors $y_i - \\hat{y}_i$. This metric has the same units as the response.\n",
    "\n",
    "Use the function `rmse()` from the `mltools` package to compute the $\\text{RMSE}_{\\text{test}}$ of the *predicted* brozed values in `fat_test_pred_full_OLS_add`.\n",
    "\n",
    "Store the computed RMSE metric in a tibble called `fat_R_MSE_models` with two columns:\n",
    "\n",
    "- `Model`: The regression model from which we will obtain the prediction accuracy.\n",
    "- `R_MSE`: The $\\text{RMSE}_{\\text{test}}$ corresponding to the model.\n",
    "\n",
    "*Fill out those parts indicated with `...`, uncomment the corresponding code in the cell below, and run it.*"
   ]
  },
  {
   "cell_type": "code",
   "execution_count": 15,
   "id": "83df9feb",
   "metadata": {
    "nbgrader": {
     "grade": false,
     "grade_id": "cell-c6d9fa85904e6333",
     "locked": false,
     "schema_version": 3,
     "solution": true,
     "task": false
    },
    "scrolled": true
   },
   "outputs": [
    {
     "data": {
      "text/html": [
       "<table class=\"dataframe\">\n",
       "<caption>A tibble: 1 × 2</caption>\n",
       "<thead>\n",
       "\t<tr><th scope=col>Model</th><th scope=col>R_MSE</th></tr>\n",
       "\t<tr><th scope=col>&lt;chr&gt;</th><th scope=col>&lt;dbl&gt;</th></tr>\n",
       "</thead>\n",
       "<tbody>\n",
       "\t<tr><td>OLS Full Regression</td><td>3.997984</td></tr>\n",
       "</tbody>\n",
       "</table>\n"
      ],
      "text/latex": [
       "A tibble: 1 × 2\n",
       "\\begin{tabular}{ll}\n",
       " Model & R\\_MSE\\\\\n",
       " <chr> & <dbl>\\\\\n",
       "\\hline\n",
       "\t OLS Full Regression & 3.997984\\\\\n",
       "\\end{tabular}\n"
      ],
      "text/markdown": [
       "\n",
       "A tibble: 1 × 2\n",
       "\n",
       "| Model &lt;chr&gt; | R_MSE &lt;dbl&gt; |\n",
       "|---|---|\n",
       "| OLS Full Regression | 3.997984 |\n",
       "\n"
      ],
      "text/plain": [
       "  Model               R_MSE   \n",
       "1 OLS Full Regression 3.997984"
      ]
     },
     "metadata": {},
     "output_type": "display_data"
    }
   ],
   "source": [
    "# fat_R_MSE_models <- tibble(\n",
    "#   Model = \"OLS Full Regression\",\n",
    "#   R_MSE = ...(\n",
    "#     ...,\n",
    "#     ...\n",
    "#   )\n",
    "# )\n",
    "# fat_R_MSE_models\n",
    "\n",
    "### BEGIN SOLUTION\n",
    "fat_R_MSE_models <- tibble(\n",
    "  Model = \"OLS Full Regression\",\n",
    "  R_MSE = rmse(\n",
    "    preds = fat_test_pred_full_OLS_add,\n",
    "    actuals = testing_fat$brozek\n",
    "  )\n",
    ")\n",
    "fat_R_MSE_models\n",
    "### END SOLUTION"
   ]
  },
  {
   "cell_type": "code",
   "execution_count": 16,
   "id": "f42c128b",
   "metadata": {
    "nbgrader": {
     "grade": true,
     "grade_id": "cell-c33cd78592c228b6",
     "locked": true,
     "points": 1,
     "schema_version": 3,
     "solution": false,
     "task": false
    }
   },
   "outputs": [
    {
     "name": "stdout",
     "output_type": "stream",
     "text": [
      "\u001b[32mTest passed\u001b[39m 🥳\n",
      "\u001b[32mTest passed\u001b[39m 🎊\n",
      "\u001b[32mTest passed\u001b[39m 🎉\n",
      "\u001b[32mTest passed\u001b[39m 🥳\n",
      "\u001b[32mTest passed\u001b[39m 🎉\n",
      "[1] \"Success!\"\n"
     ]
    }
   ],
   "source": [
    "test_1.6()"
   ]
  },
  {
   "cell_type": "markdown",
   "id": "caac2e7d",
   "metadata": {
    "nbgrader": {
     "grade": false,
     "grade_id": "cell-1b5aee0f9e18c5dd",
     "locked": true,
     "schema_version": 3,
     "solution": false,
     "task": false
    }
   },
   "source": [
    "**Question 1.7**\n",
    "<br>{points: 1}\n",
    "\n",
    "Use the trained model `fat_ridge_min_add` to predict the brozek index of men in the test set `testing_fat`, and call the resulting object `fat_test_pred_ridge_min_add`.\n",
    "\n",
    "> **Hint:** Use function `predict()` with the argument `newx` to specifiy the test set.\n",
    "\n",
    "*Fill out those parts indicated with `...`, uncomment the corresponding code in the cell below, and run it.*"
   ]
  },
  {
   "cell_type": "code",
   "execution_count": 17,
   "id": "e1e4f36a",
   "metadata": {
    "nbgrader": {
     "grade": false,
     "grade_id": "cell-06d8fba564348542",
     "locked": false,
     "schema_version": 3,
     "solution": true,
     "task": false
    }
   },
   "outputs": [],
   "source": [
    "# fat_test_pred_ridge_min_add <- predict(...,\n",
    "#   newx =\n",
    "#     as.matrix(...)\n",
    "# )\n",
    "\n",
    "### BEGIN SOLUTION\n",
    "fat_test_pred_ridge_min_add <- predict(fat_ridge_min_add,\n",
    "  newx =\n",
    "    as.matrix(testing_fat[, 2:15])\n",
    ")\n",
    "### END SOLUTION"
   ]
  },
  {
   "cell_type": "code",
   "execution_count": 18,
   "id": "640599f9",
   "metadata": {
    "nbgrader": {
     "grade": true,
     "grade_id": "cell-b885be4545c4f590",
     "locked": true,
     "points": 1,
     "schema_version": 3,
     "solution": false,
     "task": false
    }
   },
   "outputs": [
    {
     "name": "stdout",
     "output_type": "stream",
     "text": [
      "\u001b[32mTest passed\u001b[39m 🎊\n",
      "\u001b[32mTest passed\u001b[39m 🎉\n",
      "[1] \"Success!\"\n"
     ]
    }
   ],
   "source": [
    "test_1.7()"
   ]
  },
  {
   "cell_type": "markdown",
   "id": "59e93e0d",
   "metadata": {
    "nbgrader": {
     "grade": false,
     "grade_id": "cell-09136c4608cf6502",
     "locked": true,
     "schema_version": 3,
     "solution": false,
     "task": false
    }
   },
   "source": [
    "**Question 1.8**\n",
    "<br>{points: 1}\n",
    "\n",
    "Use the function `rmse()` to compute the $\\text{RMSE}_{\\text{test}}$ using the predicted values stored in `fat_test_pred_ridge_min_add`. \n",
    "\n",
    "Add this metric as an additional row in the tibble `fat_R_MSE_models`. Use `\"Ridge Regression with minimum MSE\"` in column `Model` and the corresponding values for $\\text{RMSE}_{\\text{test}}$ in column `R_MSE`.\n",
    "\n",
    "**NOTE**: note that the code below binds rows into `fat_R_MSE_models`. Do not re-run this cell or restart the kernel if needed. Otherwise, this object will have extra (repeated) rows.\n",
    "\n",
    "*Fill out those parts indicated with `...`, uncomment the corresponding code in the cell below, and run it.*"
   ]
  },
  {
   "cell_type": "code",
   "execution_count": 19,
   "id": "1bac8628",
   "metadata": {
    "nbgrader": {
     "grade": false,
     "grade_id": "cell-6265b672edd860ec",
     "locked": false,
     "schema_version": 3,
     "solution": true,
     "task": false
    }
   },
   "outputs": [
    {
     "data": {
      "text/html": [
       "<table class=\"dataframe\">\n",
       "<caption>A tibble: 2 × 2</caption>\n",
       "<thead>\n",
       "\t<tr><th scope=col>Model</th><th scope=col>R_MSE</th></tr>\n",
       "\t<tr><th scope=col>&lt;chr&gt;</th><th scope=col>&lt;dbl&gt;</th></tr>\n",
       "</thead>\n",
       "<tbody>\n",
       "\t<tr><td>OLS Full Regression              </td><td>3.997984</td></tr>\n",
       "\t<tr><td>Ridge Regression with minimum MSE</td><td>3.929767</td></tr>\n",
       "</tbody>\n",
       "</table>\n"
      ],
      "text/latex": [
       "A tibble: 2 × 2\n",
       "\\begin{tabular}{ll}\n",
       " Model & R\\_MSE\\\\\n",
       " <chr> & <dbl>\\\\\n",
       "\\hline\n",
       "\t OLS Full Regression               & 3.997984\\\\\n",
       "\t Ridge Regression with minimum MSE & 3.929767\\\\\n",
       "\\end{tabular}\n"
      ],
      "text/markdown": [
       "\n",
       "A tibble: 2 × 2\n",
       "\n",
       "| Model &lt;chr&gt; | R_MSE &lt;dbl&gt; |\n",
       "|---|---|\n",
       "| OLS Full Regression               | 3.997984 |\n",
       "| Ridge Regression with minimum MSE | 3.929767 |\n",
       "\n"
      ],
      "text/plain": [
       "  Model                             R_MSE   \n",
       "1 OLS Full Regression               3.997984\n",
       "2 Ridge Regression with minimum MSE 3.929767"
      ]
     },
     "metadata": {},
     "output_type": "display_data"
    }
   ],
   "source": [
    "# fat_R_MSE_models <- rbind(\n",
    "#   fat_R_MSE_models,\n",
    "#   tibble(\n",
    "#     Model = \"Ridge Regression with minimum MSE\",\n",
    "#     R_MSE = ...\n",
    "#   )\n",
    "# )\n",
    "# fat_R_MSE_models\n",
    "\n",
    "### BEGIN SOLUTION\n",
    "fat_R_MSE_models <- rbind(\n",
    "    fat_R_MSE_models,\n",
    "    tibble(\n",
    "    Model = \"Ridge Regression with minimum MSE\",\n",
    "    R_MSE = rmse(\n",
    "      preds = fat_test_pred_ridge_min_add,\n",
    "      actuals = testing_fat$brozek\n",
    "    )\n",
    "  )\n",
    ")    \n",
    "\n",
    "\n",
    "fat_R_MSE_models\n",
    "### END SOLUTION"
   ]
  },
  {
   "cell_type": "code",
   "execution_count": 20,
   "id": "87d08855",
   "metadata": {
    "nbgrader": {
     "grade": true,
     "grade_id": "cell-2babb63d363b8d54",
     "locked": true,
     "points": 1,
     "schema_version": 3,
     "solution": false,
     "task": false
    },
    "scrolled": true
   },
   "outputs": [
    {
     "name": "stdout",
     "output_type": "stream",
     "text": [
      "\u001b[32mTest passed\u001b[39m 🌈\n",
      "\u001b[32mTest passed\u001b[39m 🎉\n",
      "\u001b[32mTest passed\u001b[39m 🎉\n",
      "\u001b[32mTest passed\u001b[39m 🎉\n",
      "\u001b[32mTest passed\u001b[39m 🌈\n",
      "[1] \"Success!\"\n"
     ]
    }
   ],
   "source": [
    "test_1.8()"
   ]
  },
  {
   "cell_type": "markdown",
   "id": "967852d1",
   "metadata": {
    "nbgrader": {
     "grade": false,
     "grade_id": "cell-fbaea8aa16ad36e6",
     "locked": true,
     "schema_version": 3,
     "solution": false,
     "task": false
    }
   },
   "source": [
    "**Question 1.9**\n",
    "<br>{points: 1}\n",
    "\n",
    "Based on your results in `fat_R_MSE_models`, which model shows the best prediction? Was this an expected result? Justify your answer"
   ]
  },
  {
   "cell_type": "markdown",
   "id": "3e1d7bf4",
   "metadata": {
    "nbgrader": {
     "grade": true,
     "grade_id": "cell-4ebd54748e26c8df",
     "locked": false,
     "points": 1,
     "schema_version": 3,
     "solution": true,
     "task": false
    }
   },
   "source": [
    "> *Your answer goes here.*\n",
    "\n",
    "### BEGIN SOLUTION\n",
    "Ridge has a better prediction performance. This was expected since lambda (the penalty parameter) was chosen to minimize the CV test-MSE.\n",
    "### END SOLUTION"
   ]
  },
  {
   "cell_type": "markdown",
   "id": "7bae7987",
   "metadata": {
    "nbgrader": {
     "grade": false,
     "grade_id": "cell-de4c5e5a0539af50",
     "locked": true,
     "schema_version": 3,
     "solution": false,
     "task": false
    }
   },
   "source": [
    "## Model Selection For Inference"
   ]
  },
  {
   "cell_type": "markdown",
   "id": "5461e9be",
   "metadata": {
    "nbgrader": {
     "grade": false,
     "grade_id": "cell-71132aeff4463df4",
     "locked": true,
     "schema_version": 3,
     "solution": false,
     "task": false
    }
   },
   "source": [
    "In the second part of thistutorial, you will select a generative model using a real data set and use it for inference. \n",
    "\n",
    "**Recall** the [Ames `Housing` dataset](https://www.kaggle.com/c/home-data-for-ml-course/) you worked on Worksheet 08. Let's refresh our memory: it was compiled by Dean De Cock, it has 79 input variables on different characteristics of residential houses in Ames, Iowa, USA that can be used to predict the property's final price, `SalePrice`. As in worksheet_08, we will focus our attention on 21 numerical input variables:\n",
    "\n",
    "- `LotFrontage`: Linear $\\text{ft}$ of street connected to the house.\n",
    "- `LotArea`: Lot size in $\\text{ft}^2$.\n",
    "- `MasVnrArea`: Masonry veneer area in $\\text{ft}^2$.\n",
    "- `TotalBsmtSF`: Total $\\text{ft}^2$ of basement area.\n",
    "- `GrLivArea`: Above grade (ground) living area in $\\text{ft}^2$.\n",
    "- `BsmtFullBath`: Number of full bathrooms in basement.\n",
    "- `BsmtHalfBath`: Number of half bathrooms in basement.\n",
    "- `FullBath`: Number of full bathrooms above grade.\n",
    "- `HalfBath`: Number of half bathroom above grade.\n",
    "- `BedroomAbvGr`: Number of bedrooms above grade (it does not include basement bedrooms).\n",
    "- `KitchenAbvGr`: Number of kitchens above grade.\n",
    "- `Fireplaces`: Number of fireplaces.\n",
    "- `GarageArea`: Garage's area in $\\text{ft}^2$.\n",
    "- `WoodDeckSF`: Wood deck area in $\\text{ft}^2$.\n",
    "- `OpenPorchSF`: Open porch area in $\\text{ft}^2$.\n",
    "- `EnclosedPorch`: Enclosed porch area in $\\text{ft}^2$.\n",
    "- `ScreenPorch`: Screen porch area in $\\text{ft}^2$.\n",
    "\n",
    "Let's start by loading the data set. "
   ]
  },
  {
   "cell_type": "code",
   "execution_count": 21,
   "id": "dd63c17d",
   "metadata": {
    "nbgrader": {
     "grade": false,
     "grade_id": "cell-f650c86ecdf10f20",
     "locked": true,
     "schema_version": 3,
     "solution": false,
     "task": false
    }
   },
   "outputs": [
    {
     "name": "stdout",
     "output_type": "stream",
     "text": [
      "tibble [1,162 × 21] (S3: tbl_df/tbl/data.frame)\n",
      " $ Id           : num [1:1162] 1 2 3 4 5 6 7 9 10 11 ...\n",
      " $ LotFrontage  : num [1:1162] 65 80 68 60 84 85 75 51 50 70 ...\n",
      " $ LotArea      : num [1:1162] 8450 9600 11250 9550 14260 ...\n",
      " $ MasVnrArea   : num [1:1162] 196 0 162 0 350 0 186 0 0 0 ...\n",
      " $ TotalBsmtSF  : num [1:1162] 856 1262 920 756 1145 ...\n",
      " $ GrLivArea    : num [1:1162] 1710 1262 1786 1717 2198 ...\n",
      " $ BsmtFullBath : num [1:1162] 1 0 1 1 1 1 1 0 1 1 ...\n",
      " $ BsmtHalfBath : num [1:1162] 0 1 0 0 0 0 0 0 0 0 ...\n",
      " $ FullBath     : num [1:1162] 2 2 2 1 2 1 2 2 1 1 ...\n",
      " $ HalfBath     : num [1:1162] 1 0 1 0 1 1 0 0 0 0 ...\n",
      " $ BedroomAbvGr : num [1:1162] 3 3 3 3 4 1 3 2 2 3 ...\n",
      " $ KitchenAbvGr : num [1:1162] 1 1 1 1 1 1 1 2 2 1 ...\n",
      " $ Fireplaces   : num [1:1162] 0 1 1 1 1 0 1 2 2 0 ...\n",
      " $ GarageArea   : num [1:1162] 548 460 608 642 836 480 636 468 205 384 ...\n",
      " $ WoodDeckSF   : num [1:1162] 0 298 0 0 192 40 255 90 0 0 ...\n",
      " $ OpenPorchSF  : num [1:1162] 61 0 42 35 84 30 57 0 4 0 ...\n",
      " $ EnclosedPorch: num [1:1162] 0 0 0 272 0 0 0 205 0 0 ...\n",
      " $ ScreenPorch  : num [1:1162] 0 0 0 0 0 0 0 0 0 0 ...\n",
      " $ PoolArea     : num [1:1162] 0 0 0 0 0 0 0 0 0 0 ...\n",
      " $ ageSold      : num [1:1162] 5 31 7 91 8 16 3 77 69 43 ...\n",
      " $ SalePrice    : num [1:1162] 208500 181500 223500 140000 250000 ...\n"
     ]
    }
   ],
   "source": [
    "## Load the housing data set\n",
    "housing_raw <- read_csv(\"data/Housing.csv\", col_types = cols())\n",
    "\n",
    "# Use `YearBuilt` and `YrSold` to create a variable `ageSold`\n",
    "housing_raw$ageSold <- housing_raw$YrSold - housing_raw$YearBuilt\n",
    "\n",
    "\n",
    "# Select subset of input variables\n",
    "housing_raw <- \n",
    "  housing_raw %>%\n",
    "  select(Id,\n",
    "    LotFrontage, LotArea, MasVnrArea, TotalBsmtSF, \n",
    "    GrLivArea, BsmtFullBath, BsmtHalfBath, FullBath, HalfBath, BedroomAbvGr, KitchenAbvGr, Fireplaces,\n",
    "    GarageArea, WoodDeckSF, OpenPorchSF, EnclosedPorch, ScreenPorch, PoolArea, ageSold, SalePrice\n",
    "  )\n",
    "\n",
    "# Remove those rows containing `NA`s and some outliers\n",
    "housing_raw <- \n",
    "    drop_na(housing_raw)  %>% \n",
    "    filter(LotArea < 20000)\n",
    "\n",
    "str( housing_raw )"
   ]
  },
  {
   "cell_type": "markdown",
   "id": "15b3278f",
   "metadata": {
    "nbgrader": {
     "grade": false,
     "grade_id": "cell-50321cb291721425",
     "locked": true,
     "schema_version": 3,
     "solution": false,
     "task": false
    }
   },
   "source": [
    "Our objective in this tutorial is to obtain a model for inference. We want to study how the properties' values are affected by the different properties' attributes. We want to be able to:\n",
    "\n",
    "1. Interpret the parameters of the model;\n",
    "2. Identify relevant attributes (covariates); \n",
    "3. Have a measure of uncertainty of our estimates."
   ]
  },
  {
   "cell_type": "markdown",
   "id": "f860668c",
   "metadata": {
    "nbgrader": {
     "grade": false,
     "grade_id": "cell-e7da157741ea3009",
     "locked": true,
     "schema_version": 3,
     "solution": false,
     "task": false
    }
   },
   "source": [
    "**Question 2.0** \n",
    "<br> {points: 1}\n",
    "\n",
    "Since we do not know which variables are important/relevant, we will need to conduct a variable selection technique. Let's start by splitting the data set into two sets: (1) the first part, with 70% of the rows, will be for inference; and (2) the second part, will be for variable selection. \n",
    "\n",
    "Your job is to randomly select 70% of the rows and store them in an object called `housing_inference`. Store the remaining rows in an object called `housing_selection`.\n",
    "\n",
    "The `housing_inference` object is golden! It should not be touched before we select the variables. No peeking!!  (Hint: you might want to check the [slice_sample](https://dplyr.tidyverse.org/reference/slice.html) and [anti_join](https://dplyr.tidyverse.org/articles/base.html?q=anti%20joi#filtering-joins) functions.)"
   ]
  },
  {
   "cell_type": "code",
   "execution_count": 22,
   "id": "341d694f",
   "metadata": {
    "nbgrader": {
     "grade": false,
     "grade_id": "cell-985f13c4ad88cab4",
     "locked": false,
     "schema_version": 3,
     "solution": true,
     "task": false
    },
    "scrolled": false
   },
   "outputs": [
    {
     "data": {
      "text/html": [
       "<table class=\"dataframe\">\n",
       "<caption>A tibble: 6 × 21</caption>\n",
       "<thead>\n",
       "\t<tr><th scope=col>Id</th><th scope=col>LotFrontage</th><th scope=col>LotArea</th><th scope=col>MasVnrArea</th><th scope=col>TotalBsmtSF</th><th scope=col>GrLivArea</th><th scope=col>BsmtFullBath</th><th scope=col>BsmtHalfBath</th><th scope=col>FullBath</th><th scope=col>HalfBath</th><th scope=col>⋯</th><th scope=col>KitchenAbvGr</th><th scope=col>Fireplaces</th><th scope=col>GarageArea</th><th scope=col>WoodDeckSF</th><th scope=col>OpenPorchSF</th><th scope=col>EnclosedPorch</th><th scope=col>ScreenPorch</th><th scope=col>PoolArea</th><th scope=col>ageSold</th><th scope=col>SalePrice</th></tr>\n",
       "\t<tr><th scope=col>&lt;dbl&gt;</th><th scope=col>&lt;dbl&gt;</th><th scope=col>&lt;dbl&gt;</th><th scope=col>&lt;dbl&gt;</th><th scope=col>&lt;dbl&gt;</th><th scope=col>&lt;dbl&gt;</th><th scope=col>&lt;dbl&gt;</th><th scope=col>&lt;dbl&gt;</th><th scope=col>&lt;dbl&gt;</th><th scope=col>&lt;dbl&gt;</th><th scope=col>⋯</th><th scope=col>&lt;dbl&gt;</th><th scope=col>&lt;dbl&gt;</th><th scope=col>&lt;dbl&gt;</th><th scope=col>&lt;dbl&gt;</th><th scope=col>&lt;dbl&gt;</th><th scope=col>&lt;dbl&gt;</th><th scope=col>&lt;dbl&gt;</th><th scope=col>&lt;dbl&gt;</th><th scope=col>&lt;dbl&gt;</th><th scope=col>&lt;dbl&gt;</th></tr>\n",
       "</thead>\n",
       "<tbody>\n",
       "\t<tr><td> 4</td><td>60</td><td> 9550</td><td>  0</td><td> 756</td><td>1717</td><td>1</td><td>0</td><td>1</td><td>0</td><td>⋯</td><td>1</td><td>1</td><td>642</td><td>  0</td><td> 35</td><td>272</td><td>0</td><td>0</td><td>91</td><td>140000</td></tr>\n",
       "\t<tr><td>10</td><td>50</td><td> 7420</td><td>  0</td><td> 991</td><td>1077</td><td>1</td><td>0</td><td>1</td><td>0</td><td>⋯</td><td>2</td><td>2</td><td>205</td><td>  0</td><td>  4</td><td>  0</td><td>0</td><td>0</td><td>69</td><td>118000</td></tr>\n",
       "\t<tr><td>12</td><td>85</td><td>11924</td><td>286</td><td>1175</td><td>2324</td><td>1</td><td>0</td><td>3</td><td>0</td><td>⋯</td><td>1</td><td>2</td><td>736</td><td>147</td><td> 21</td><td>  0</td><td>0</td><td>0</td><td> 1</td><td>345000</td></tr>\n",
       "\t<tr><td>14</td><td>91</td><td>10652</td><td>306</td><td>1494</td><td>1494</td><td>0</td><td>0</td><td>2</td><td>0</td><td>⋯</td><td>1</td><td>1</td><td>840</td><td>160</td><td> 33</td><td>  0</td><td>0</td><td>0</td><td> 1</td><td>279500</td></tr>\n",
       "\t<tr><td>16</td><td>51</td><td> 6120</td><td>  0</td><td> 832</td><td> 854</td><td>0</td><td>0</td><td>1</td><td>0</td><td>⋯</td><td>1</td><td>0</td><td>576</td><td> 48</td><td>112</td><td>  0</td><td>0</td><td>0</td><td>78</td><td>132000</td></tr>\n",
       "\t<tr><td>18</td><td>72</td><td>10791</td><td>  0</td><td>   0</td><td>1296</td><td>0</td><td>0</td><td>2</td><td>0</td><td>⋯</td><td>2</td><td>0</td><td>516</td><td>  0</td><td>  0</td><td>  0</td><td>0</td><td>0</td><td>39</td><td> 90000</td></tr>\n",
       "</tbody>\n",
       "</table>\n"
      ],
      "text/latex": [
       "A tibble: 6 × 21\n",
       "\\begin{tabular}{lllllllllllllllllllll}\n",
       " Id & LotFrontage & LotArea & MasVnrArea & TotalBsmtSF & GrLivArea & BsmtFullBath & BsmtHalfBath & FullBath & HalfBath & ⋯ & KitchenAbvGr & Fireplaces & GarageArea & WoodDeckSF & OpenPorchSF & EnclosedPorch & ScreenPorch & PoolArea & ageSold & SalePrice\\\\\n",
       " <dbl> & <dbl> & <dbl> & <dbl> & <dbl> & <dbl> & <dbl> & <dbl> & <dbl> & <dbl> & ⋯ & <dbl> & <dbl> & <dbl> & <dbl> & <dbl> & <dbl> & <dbl> & <dbl> & <dbl> & <dbl>\\\\\n",
       "\\hline\n",
       "\t  4 & 60 &  9550 &   0 &  756 & 1717 & 1 & 0 & 1 & 0 & ⋯ & 1 & 1 & 642 &   0 &  35 & 272 & 0 & 0 & 91 & 140000\\\\\n",
       "\t 10 & 50 &  7420 &   0 &  991 & 1077 & 1 & 0 & 1 & 0 & ⋯ & 2 & 2 & 205 &   0 &   4 &   0 & 0 & 0 & 69 & 118000\\\\\n",
       "\t 12 & 85 & 11924 & 286 & 1175 & 2324 & 1 & 0 & 3 & 0 & ⋯ & 1 & 2 & 736 & 147 &  21 &   0 & 0 & 0 &  1 & 345000\\\\\n",
       "\t 14 & 91 & 10652 & 306 & 1494 & 1494 & 0 & 0 & 2 & 0 & ⋯ & 1 & 1 & 840 & 160 &  33 &   0 & 0 & 0 &  1 & 279500\\\\\n",
       "\t 16 & 51 &  6120 &   0 &  832 &  854 & 0 & 0 & 1 & 0 & ⋯ & 1 & 0 & 576 &  48 & 112 &   0 & 0 & 0 & 78 & 132000\\\\\n",
       "\t 18 & 72 & 10791 &   0 &    0 & 1296 & 0 & 0 & 2 & 0 & ⋯ & 2 & 0 & 516 &   0 &   0 &   0 & 0 & 0 & 39 &  90000\\\\\n",
       "\\end{tabular}\n"
      ],
      "text/markdown": [
       "\n",
       "A tibble: 6 × 21\n",
       "\n",
       "| Id &lt;dbl&gt; | LotFrontage &lt;dbl&gt; | LotArea &lt;dbl&gt; | MasVnrArea &lt;dbl&gt; | TotalBsmtSF &lt;dbl&gt; | GrLivArea &lt;dbl&gt; | BsmtFullBath &lt;dbl&gt; | BsmtHalfBath &lt;dbl&gt; | FullBath &lt;dbl&gt; | HalfBath &lt;dbl&gt; | ⋯ ⋯ | KitchenAbvGr &lt;dbl&gt; | Fireplaces &lt;dbl&gt; | GarageArea &lt;dbl&gt; | WoodDeckSF &lt;dbl&gt; | OpenPorchSF &lt;dbl&gt; | EnclosedPorch &lt;dbl&gt; | ScreenPorch &lt;dbl&gt; | PoolArea &lt;dbl&gt; | ageSold &lt;dbl&gt; | SalePrice &lt;dbl&gt; |\n",
       "|---|---|---|---|---|---|---|---|---|---|---|---|---|---|---|---|---|---|---|---|---|\n",
       "|  4 | 60 |  9550 |   0 |  756 | 1717 | 1 | 0 | 1 | 0 | ⋯ | 1 | 1 | 642 |   0 |  35 | 272 | 0 | 0 | 91 | 140000 |\n",
       "| 10 | 50 |  7420 |   0 |  991 | 1077 | 1 | 0 | 1 | 0 | ⋯ | 2 | 2 | 205 |   0 |   4 |   0 | 0 | 0 | 69 | 118000 |\n",
       "| 12 | 85 | 11924 | 286 | 1175 | 2324 | 1 | 0 | 3 | 0 | ⋯ | 1 | 2 | 736 | 147 |  21 |   0 | 0 | 0 |  1 | 345000 |\n",
       "| 14 | 91 | 10652 | 306 | 1494 | 1494 | 0 | 0 | 2 | 0 | ⋯ | 1 | 1 | 840 | 160 |  33 |   0 | 0 | 0 |  1 | 279500 |\n",
       "| 16 | 51 |  6120 |   0 |  832 |  854 | 0 | 0 | 1 | 0 | ⋯ | 1 | 0 | 576 |  48 | 112 |   0 | 0 | 0 | 78 | 132000 |\n",
       "| 18 | 72 | 10791 |   0 |    0 | 1296 | 0 | 0 | 2 | 0 | ⋯ | 2 | 0 | 516 |   0 |   0 |   0 | 0 | 0 | 39 |  90000 |\n",
       "\n"
      ],
      "text/plain": [
       "  Id LotFrontage LotArea MasVnrArea TotalBsmtSF GrLivArea BsmtFullBath\n",
       "1  4 60           9550     0         756        1717      1           \n",
       "2 10 50           7420     0         991        1077      1           \n",
       "3 12 85          11924   286        1175        2324      1           \n",
       "4 14 91          10652   306        1494        1494      0           \n",
       "5 16 51           6120     0         832         854      0           \n",
       "6 18 72          10791     0           0        1296      0           \n",
       "  BsmtHalfBath FullBath HalfBath ⋯ KitchenAbvGr Fireplaces GarageArea\n",
       "1 0            1        0        ⋯ 1            1          642       \n",
       "2 0            1        0        ⋯ 2            2          205       \n",
       "3 0            3        0        ⋯ 1            2          736       \n",
       "4 0            2        0        ⋯ 1            1          840       \n",
       "5 0            1        0        ⋯ 1            0          576       \n",
       "6 0            2        0        ⋯ 2            0          516       \n",
       "  WoodDeckSF OpenPorchSF EnclosedPorch ScreenPorch PoolArea ageSold SalePrice\n",
       "1   0         35         272           0           0        91      140000   \n",
       "2   0          4           0           0           0        69      118000   \n",
       "3 147         21           0           0           0         1      345000   \n",
       "4 160         33           0           0           0         1      279500   \n",
       "5  48        112           0           0           0        78      132000   \n",
       "6   0          0           0           0           0        39       90000   "
      ]
     },
     "metadata": {},
     "output_type": "display_data"
    }
   ],
   "source": [
    "set.seed(20211118) # Do not change this\n",
    "\n",
    "# housing_inference <- \n",
    "#     ... %>% \n",
    "#     slice_sample(... = 0.7)\n",
    "\n",
    "# housing_selection <- \n",
    "#     housing_raw %>% \n",
    "#     anti_join(...)\n",
    "\n",
    "\n",
    "### BEGIN SOLUTION\n",
    "housing_inference <- \n",
    "    housing_raw %>% \n",
    "    slice_sample(prop = 0.7)\n",
    "\n",
    "housing_selection <- \n",
    "    housing_raw %>% \n",
    "    anti_join(y = housing_inference, by = c(\"Id\"=\"Id\"))\n",
    "### END SOLUTION\n",
    "\n",
    "head(housing_selection)"
   ]
  },
  {
   "cell_type": "code",
   "execution_count": 23,
   "id": "a37be3bd",
   "metadata": {
    "nbgrader": {
     "grade": true,
     "grade_id": "cell-6054ca27cbfa32bf",
     "locked": true,
     "points": 1,
     "schema_version": 3,
     "solution": false,
     "task": false
    }
   },
   "outputs": [
    {
     "name": "stdout",
     "output_type": "stream",
     "text": [
      "\u001b[32mTest passed\u001b[39m 😸\n",
      "\u001b[32mTest passed\u001b[39m 😸\n",
      "\u001b[32mTest passed\u001b[39m 🥇\n",
      "\u001b[32mTest passed\u001b[39m 😀\n",
      "\u001b[32mTest passed\u001b[39m 🥇\n",
      "\u001b[32mTest passed\u001b[39m 🥇\n",
      "\u001b[32mTest passed\u001b[39m 🥇\n",
      "\u001b[32mTest passed\u001b[39m 🥳\n",
      "\u001b[32mTest passed\u001b[39m 🎊\n",
      "\u001b[32mTest passed\u001b[39m 🌈\n",
      "[1] \"Success!\"\n"
     ]
    }
   ],
   "source": [
    "test_2.0()"
   ]
  },
  {
   "cell_type": "markdown",
   "id": "cb3d8b2c",
   "metadata": {
    "nbgrader": {
     "grade": false,
     "grade_id": "cell-a62689d1d83c3be9",
     "locked": true,
     "schema_version": 3,
     "solution": false,
     "task": false
    }
   },
   "source": [
    "Good work! Now let's remove the `Id` column from both datasets."
   ]
  },
  {
   "cell_type": "code",
   "execution_count": 24,
   "id": "c7e275c8",
   "metadata": {
    "nbgrader": {
     "grade": false,
     "grade_id": "cell-e987c66bfc87bc33",
     "locked": true,
     "schema_version": 3,
     "solution": false,
     "task": false
    }
   },
   "outputs": [],
   "source": [
    "housing_selection <-\n",
    "    housing_selection %>% \n",
    "    select(-Id)\n",
    "\n",
    "housing_inference <-\n",
    "    housing_inference %>% \n",
    "    select(-Id)"
   ]
  },
  {
   "cell_type": "markdown",
   "id": "7f336079",
   "metadata": {
    "nbgrader": {
     "grade": false,
     "grade_id": "cell-11d4086e95021066",
     "locked": true,
     "schema_version": 3,
     "solution": false,
     "task": false
    }
   },
   "source": [
    "**Question 2.1** \n",
    "<br> {points: 1}\n",
    "\n",
    "As we discussed in the worksheet, there are many possible approaches for model selection. Let's focus on Lasso. Run Lasso on the `housing_selection` tibble and find the value `lambda` that provides the lowest Cross-validation MSE. (See `cv.glmnet` function.)\n",
    "\n",
    "_Save the result in an object named `lasso_model`._"
   ]
  },
  {
   "cell_type": "code",
   "execution_count": 25,
   "id": "cb3237e5",
   "metadata": {
    "nbgrader": {
     "grade": false,
     "grade_id": "cell-cb6bd457d0686565",
     "locked": false,
     "schema_version": 3,
     "solution": true,
     "task": false
    }
   },
   "outputs": [
    {
     "data": {
      "text/plain": [
       "\n",
       "Call:  cv.glmnet(x = housing_selection %>% select(-SalePrice) %>% as.matrix(),      y = housing_selection$SalePrice, alpha = 1) \n",
       "\n",
       "Measure: Mean-Squared Error \n",
       "\n",
       "    Lambda Index   Measure        SE Nonzero\n",
       "min   1294    42 1.125e+09 136161399      14\n",
       "1se   4338    29 1.246e+09 169350901      13"
      ]
     },
     "metadata": {},
     "output_type": "display_data"
    }
   ],
   "source": [
    "set.seed(20211118) # do not change this\n",
    "\n",
    "# lasso_model <-\n",
    "#     cv.glmnet(... %>% as.matrix(), \n",
    "#               ..., \n",
    "#               alpha = ...)\n",
    "\n",
    "### BEGIN SOLUTION\n",
    "lasso_model <-\n",
    "    cv.glmnet(housing_selection %>% select(-SalePrice) %>% as.matrix(), \n",
    "              housing_selection$SalePrice, \n",
    "              alpha=1)\n",
    "### END SOLUTION\n",
    "\n",
    "lasso_model"
   ]
  },
  {
   "cell_type": "code",
   "execution_count": 26,
   "id": "ec113d42",
   "metadata": {
    "nbgrader": {
     "grade": true,
     "grade_id": "cell-262df79caf0b3bd1",
     "locked": true,
     "points": 1,
     "schema_version": 3,
     "solution": false,
     "task": false
    }
   },
   "outputs": [
    {
     "name": "stdout",
     "output_type": "stream",
     "text": [
      "\u001b[32mTest passed\u001b[39m 😀\n",
      "\u001b[32mTest passed\u001b[39m 😸\n",
      "\u001b[32mTest passed\u001b[39m 😀\n",
      "\u001b[32mTest passed\u001b[39m 😸\n",
      "[1] \"Success!\"\n"
     ]
    }
   ],
   "source": [
    "test_2.1()"
   ]
  },
  {
   "cell_type": "markdown",
   "id": "6e358f7b",
   "metadata": {
    "nbgrader": {
     "grade": false,
     "grade_id": "cell-c1dda3a387b34864",
     "locked": true,
     "schema_version": 3,
     "solution": false,
     "task": false
    }
   },
   "source": [
    "**Question 2.2** \n",
    "<br> {points: 1}\n",
    "\n",
    "Obtain the coefficients of the best lasso model found in the `lasso_model`. By best, we mean the one with the smallest MSE. \n",
    "\n",
    "_Save the result in an object named `beta_lasso`._"
   ]
  },
  {
   "cell_type": "code",
   "execution_count": 27,
   "id": "c51315e9",
   "metadata": {
    "nbgrader": {
     "grade": false,
     "grade_id": "cell-acd2d3a8859a9cd2",
     "locked": false,
     "schema_version": 3,
     "solution": true,
     "task": false
    }
   },
   "outputs": [
    {
     "data": {
      "text/plain": [
       "20 x 1 sparse Matrix of class \"dgCMatrix\"\n",
       "                         s1\n",
       "(Intercept)    30503.984612\n",
       "LotFrontage        .       \n",
       "LotArea            1.159446\n",
       "MasVnrArea        12.626166\n",
       "TotalBsmtSF       48.984883\n",
       "GrLivArea         76.187347\n",
       "BsmtFullBath   12924.333811\n",
       "BsmtHalfBath       .       \n",
       "FullBath        7758.260045\n",
       "HalfBath           .       \n",
       "BedroomAbvGr  -12649.531916\n",
       "KitchenAbvGr  -14053.883397\n",
       "Fireplaces      8611.864420\n",
       "GarageArea        32.462160\n",
       "WoodDeckSF        34.568906\n",
       "OpenPorchSF       57.994343\n",
       "EnclosedPorch      .       \n",
       "ScreenPorch        .       \n",
       "PoolArea         -20.991098\n",
       "ageSold         -531.499928"
      ]
     },
     "metadata": {},
     "output_type": "display_data"
    }
   ],
   "source": [
    "set.seed(20211118) # do not change this\n",
    "\n",
    "\n",
    "### BEGIN SOLUTION\n",
    "beta_lasso <-\n",
    "    coef(lasso_model, s = lasso_model$lambda.min)\n",
    "### END SOLUTION\n",
    "\n",
    "beta_lasso"
   ]
  },
  {
   "cell_type": "code",
   "execution_count": 28,
   "id": "68763f5c",
   "metadata": {
    "nbgrader": {
     "grade": true,
     "grade_id": "cell-ee50b59df5cb0f4f",
     "locked": true,
     "points": 1,
     "schema_version": 3,
     "solution": false,
     "task": false
    }
   },
   "outputs": [
    {
     "name": "stdout",
     "output_type": "stream",
     "text": [
      "\u001b[32mTest passed\u001b[39m 😸\n",
      "\u001b[32mTest passed\u001b[39m 🥇\n",
      "[1] \"Success!\"\n"
     ]
    }
   ],
   "source": [
    "test_2.2()"
   ]
  },
  {
   "cell_type": "markdown",
   "id": "b4f2cb07",
   "metadata": {
    "nbgrader": {
     "grade": false,
     "grade_id": "cell-06e3152180dc9c5b",
     "locked": true,
     "schema_version": 3,
     "solution": false,
     "task": false
    }
   },
   "source": [
    "**Question 2.3** \n",
    "<br> {points: 1}\n",
    "\n",
    "Next, we shall save the covariates selected by our Lasso model in an object named `lasso_selected_covariates`.  "
   ]
  },
  {
   "cell_type": "code",
   "execution_count": 29,
   "id": "9aaa77b2",
   "metadata": {
    "nbgrader": {
     "grade": false,
     "grade_id": "cell-14ead3643c9ab06d",
     "locked": false,
     "schema_version": 3,
     "solution": true,
     "task": false
    }
   },
   "outputs": [
    {
     "data": {
      "text/html": [
       "<style>\n",
       ".list-inline {list-style: none; margin:0; padding: 0}\n",
       ".list-inline>li {display: inline-block}\n",
       ".list-inline>li:not(:last-child)::after {content: \"\\00b7\"; padding: 0 .5ex}\n",
       "</style>\n",
       "<ol class=list-inline><li>'LotArea'</li><li>'MasVnrArea'</li><li>'TotalBsmtSF'</li><li>'GrLivArea'</li><li>'BsmtFullBath'</li><li>'FullBath'</li><li>'BedroomAbvGr'</li><li>'KitchenAbvGr'</li><li>'Fireplaces'</li><li>'GarageArea'</li><li>'WoodDeckSF'</li><li>'OpenPorchSF'</li><li>'PoolArea'</li><li>'ageSold'</li></ol>\n"
      ],
      "text/latex": [
       "\\begin{enumerate*}\n",
       "\\item 'LotArea'\n",
       "\\item 'MasVnrArea'\n",
       "\\item 'TotalBsmtSF'\n",
       "\\item 'GrLivArea'\n",
       "\\item 'BsmtFullBath'\n",
       "\\item 'FullBath'\n",
       "\\item 'BedroomAbvGr'\n",
       "\\item 'KitchenAbvGr'\n",
       "\\item 'Fireplaces'\n",
       "\\item 'GarageArea'\n",
       "\\item 'WoodDeckSF'\n",
       "\\item 'OpenPorchSF'\n",
       "\\item 'PoolArea'\n",
       "\\item 'ageSold'\n",
       "\\end{enumerate*}\n"
      ],
      "text/markdown": [
       "1. 'LotArea'\n",
       "2. 'MasVnrArea'\n",
       "3. 'TotalBsmtSF'\n",
       "4. 'GrLivArea'\n",
       "5. 'BsmtFullBath'\n",
       "6. 'FullBath'\n",
       "7. 'BedroomAbvGr'\n",
       "8. 'KitchenAbvGr'\n",
       "9. 'Fireplaces'\n",
       "10. 'GarageArea'\n",
       "11. 'WoodDeckSF'\n",
       "12. 'OpenPorchSF'\n",
       "13. 'PoolArea'\n",
       "14. 'ageSold'\n",
       "\n",
       "\n"
      ],
      "text/plain": [
       " [1] \"LotArea\"      \"MasVnrArea\"   \"TotalBsmtSF\"  \"GrLivArea\"    \"BsmtFullBath\"\n",
       " [6] \"FullBath\"     \"BedroomAbvGr\" \"KitchenAbvGr\" \"Fireplaces\"   \"GarageArea\"  \n",
       "[11] \"WoodDeckSF\"   \"OpenPorchSF\"  \"PoolArea\"     \"ageSold\"     "
      ]
     },
     "metadata": {},
     "output_type": "display_data"
    }
   ],
   "source": [
    "#lasso_selected_covariates <-\n",
    "\n",
    "### BEGIN SOLUTION\n",
    "lasso_selected_covariates <-\n",
    "    as_tibble(\n",
    "        as.matrix(beta_lasso),\n",
    "        rownames='covariate') %>%\n",
    "        filter(covariate != '(Intercept)' & abs(s1) > 10e-6) %>% \n",
    "        pull(covariate)\n",
    "### END SOLUTION\n",
    "\n",
    "lasso_selected_covariates"
   ]
  },
  {
   "cell_type": "code",
   "execution_count": 30,
   "id": "9bd94158",
   "metadata": {
    "nbgrader": {
     "grade": true,
     "grade_id": "cell-c9cb0881a7edf8c8",
     "locked": true,
     "points": 1,
     "schema_version": 3,
     "solution": false,
     "task": false
    },
    "scrolled": true
   },
   "outputs": [
    {
     "name": "stdout",
     "output_type": "stream",
     "text": [
      "\u001b[32mTest passed\u001b[39m 😀\n",
      "\u001b[32mTest passed\u001b[39m 🥳\n",
      "[1] \"Success!\"\n"
     ]
    }
   ],
   "source": [
    "test_2.3()"
   ]
  },
  {
   "cell_type": "markdown",
   "id": "6c1a7ab3",
   "metadata": {
    "nbgrader": {
     "grade": false,
     "grade_id": "cell-61add4e6deeca1d0",
     "locked": true,
     "schema_version": 3,
     "solution": false,
     "task": false
    }
   },
   "source": [
    "**Question 2.4** \n",
    "<br> {points: 1}\n",
    "\n",
    "In **Question 1.4** of this tutorial you extracted the estimated coefficients obtained using Ridge. In **Question 2.3**, you identified the variables selected by LASSO. \n",
    "\n",
    "**What is a main difference between these two methods in terms of variable selection?** Comment on the numbers of variables selected in relation to the variables available in the dataset."
   ]
  },
  {
   "cell_type": "markdown",
   "id": "8cc26b5c",
   "metadata": {
    "nbgrader": {
     "grade": true,
     "grade_id": "cell-e208b12ca32db945",
     "locked": false,
     "points": 1,
     "schema_version": 3,
     "solution": true,
     "task": false
    }
   },
   "source": [
    "> *Your answer goes here.*\n",
    "\n",
    "### BEGIN SOLUTION\n",
    "Ridge uses an L2 penalty that does not select variables. LASSO uses an L1 penalty that selects a subset of the available variables to build a predictive model.\n",
    "### END SOLUTION"
   ]
  },
  {
   "cell_type": "markdown",
   "id": "34dd7017",
   "metadata": {
    "nbgrader": {
     "grade": false,
     "grade_id": "cell-b07c4fe7a2646768",
     "locked": true,
     "schema_version": 3,
     "solution": false,
     "task": false
    }
   },
   "source": [
    "**Question 2.5** \n",
    "<br> {points: 1}\n",
    "\n",
    "We expect that Lasso would remove highly correlated variables. However, Lasso can still fit a linear model on data sets with high levels of multicollinearity. Unfortunately, ordinary least squares cannot. To be on the safe side, let's check the variance inflator factor of the variables selected by Lasso. \n",
    "\n",
    "_Save the output in an object named `lasso_variables_vif`._"
   ]
  },
  {
   "cell_type": "code",
   "execution_count": 31,
   "id": "ad296477",
   "metadata": {
    "nbgrader": {
     "grade": false,
     "grade_id": "cell-afa71facbda57961",
     "locked": false,
     "schema_version": 3,
     "solution": true,
     "task": false
    }
   },
   "outputs": [
    {
     "data": {
      "text/html": [
       "<style>\n",
       ".dl-inline {width: auto; margin:0; padding: 0}\n",
       ".dl-inline>dt, .dl-inline>dd {float: none; width: auto; display: inline-block}\n",
       ".dl-inline>dt::after {content: \":\\0020\"; padding-right: .5ex}\n",
       ".dl-inline>dt:not(:first-of-type) {padding-left: .5ex}\n",
       "</style><dl class=dl-inline><dt>LotArea</dt><dd>1.43633511099092</dd><dt>MasVnrArea</dt><dd>1.5008702177958</dd><dt>TotalBsmtSF</dt><dd>1.82061157343745</dd><dt>GrLivArea</dt><dd>3.97955020105824</dd><dt>BsmtFullBath</dt><dd>1.12175523509122</dd><dt>FullBath</dt><dd>2.42775736090036</dd><dt>BedroomAbvGr</dt><dd>1.72702257338805</dd><dt>KitchenAbvGr</dt><dd>1.18941991547069</dd><dt>Fireplaces</dt><dd>1.43248910172284</dd><dt>GarageArea</dt><dd>2.14903683784443</dd><dt>WoodDeckSF</dt><dd>1.22309903662074</dd><dt>OpenPorchSF</dt><dd>1.15774853845602</dd><dt>PoolArea</dt><dd>1.03414953143055</dd><dt>ageSold</dt><dd>2.10128810348373</dd></dl>\n"
      ],
      "text/latex": [
       "\\begin{description*}\n",
       "\\item[LotArea] 1.43633511099092\n",
       "\\item[MasVnrArea] 1.5008702177958\n",
       "\\item[TotalBsmtSF] 1.82061157343745\n",
       "\\item[GrLivArea] 3.97955020105824\n",
       "\\item[BsmtFullBath] 1.12175523509122\n",
       "\\item[FullBath] 2.42775736090036\n",
       "\\item[BedroomAbvGr] 1.72702257338805\n",
       "\\item[KitchenAbvGr] 1.18941991547069\n",
       "\\item[Fireplaces] 1.43248910172284\n",
       "\\item[GarageArea] 2.14903683784443\n",
       "\\item[WoodDeckSF] 1.22309903662074\n",
       "\\item[OpenPorchSF] 1.15774853845602\n",
       "\\item[PoolArea] 1.03414953143055\n",
       "\\item[ageSold] 2.10128810348373\n",
       "\\end{description*}\n"
      ],
      "text/markdown": [
       "LotArea\n",
       ":   1.43633511099092MasVnrArea\n",
       ":   1.5008702177958TotalBsmtSF\n",
       ":   1.82061157343745GrLivArea\n",
       ":   3.97955020105824BsmtFullBath\n",
       ":   1.12175523509122FullBath\n",
       ":   2.42775736090036BedroomAbvGr\n",
       ":   1.72702257338805KitchenAbvGr\n",
       ":   1.18941991547069Fireplaces\n",
       ":   1.43248910172284GarageArea\n",
       ":   2.14903683784443WoodDeckSF\n",
       ":   1.22309903662074OpenPorchSF\n",
       ":   1.15774853845602PoolArea\n",
       ":   1.03414953143055ageSold\n",
       ":   2.10128810348373\n",
       "\n"
      ],
      "text/plain": [
       "     LotArea   MasVnrArea  TotalBsmtSF    GrLivArea BsmtFullBath     FullBath \n",
       "    1.436335     1.500870     1.820612     3.979550     1.121755     2.427757 \n",
       "BedroomAbvGr KitchenAbvGr   Fireplaces   GarageArea   WoodDeckSF  OpenPorchSF \n",
       "    1.727023     1.189420     1.432489     2.149037     1.223099     1.157749 \n",
       "    PoolArea      ageSold \n",
       "    1.034150     2.101288 "
      ]
     },
     "metadata": {},
     "output_type": "display_data"
    }
   ],
   "source": [
    "#lasso_variables_vif <- \n",
    "#    vif(...)\n",
    "\n",
    "### BEGIN SOLUTION\n",
    "lasso_variables_vif <- vif(lm(SalePrice ~ . , data = housing_selection %>% \n",
    "        select(contains(lasso_selected_covariates), SalePrice)))\n",
    "### END SOLUTION\n",
    "\n",
    "lasso_variables_vif"
   ]
  },
  {
   "cell_type": "code",
   "execution_count": 32,
   "id": "41a3a7e4",
   "metadata": {
    "nbgrader": {
     "grade": true,
     "grade_id": "cell-b15f03793cb8f509",
     "locked": true,
     "points": 1,
     "schema_version": 3,
     "solution": false,
     "task": false
    }
   },
   "outputs": [
    {
     "name": "stdout",
     "output_type": "stream",
     "text": [
      "\u001b[32mTest passed\u001b[39m 🌈\n",
      "\u001b[32mTest passed\u001b[39m 🥳\n",
      "[1] \"Success!\"\n"
     ]
    }
   ],
   "source": [
    "test_2.5()"
   ]
  },
  {
   "cell_type": "markdown",
   "id": "35ecb688",
   "metadata": {
    "nbgrader": {
     "grade": false,
     "grade_id": "cell-7b7350b720570c76",
     "locked": true,
     "schema_version": 3,
     "solution": false,
     "task": false
    }
   },
   "source": [
    "**Question 2.6**\n",
    "<br>{points: 1}\n",
    "\n",
    "True or false?\n",
    "\n",
    "The `lasso_variables_vif` does not indicate a very concerning presence of multicollinearity. \n",
    "\n",
    "_Assign your answer to an object called `answer2.6`. Your answer should be either \"true\" or \"false\", surrounded by quotes._"
   ]
  },
  {
   "cell_type": "code",
   "execution_count": 33,
   "id": "3e67f537",
   "metadata": {
    "nbgrader": {
     "grade": false,
     "grade_id": "cell-1bc8096b1175869d",
     "locked": false,
     "schema_version": 3,
     "solution": true,
     "task": false
    }
   },
   "outputs": [],
   "source": [
    "# answer2.6 <- ...\n",
    "\n",
    "### BEGIN SOLUTION\n",
    "answer2.6 <- \"true\"\n",
    "### END SOLUTION"
   ]
  },
  {
   "cell_type": "code",
   "execution_count": 34,
   "id": "2d030219",
   "metadata": {
    "nbgrader": {
     "grade": true,
     "grade_id": "cell-147fee130248b744",
     "locked": true,
     "points": 1,
     "schema_version": 3,
     "solution": false,
     "task": false
    }
   },
   "outputs": [
    {
     "name": "stdout",
     "output_type": "stream",
     "text": [
      "\u001b[32mTest passed\u001b[39m 😸\n",
      "\u001b[32mTest passed\u001b[39m 🥳\n",
      "\u001b[32mTest passed\u001b[39m 🥳\n",
      "[1] \"Success!\"\n"
     ]
    }
   ],
   "source": [
    "test_2.6()"
   ]
  },
  {
   "cell_type": "markdown",
   "id": "1211e88a",
   "metadata": {
    "nbgrader": {
     "grade": false,
     "grade_id": "cell-017240641a0ef825",
     "locked": true,
     "schema_version": 3,
     "solution": false,
     "task": false
    }
   },
   "source": [
    "**Question 2.7** \n",
    "<br> {points: 1}\n",
    "\n",
    "Finally, let's use the covariates selected by lasso and stored in `lasso_selected_covariates` to fit a linear model using ordinary least squares.\n",
    "\n",
    "_Save the output in an object named `inference_model`._"
   ]
  },
  {
   "cell_type": "code",
   "execution_count": 35,
   "id": "710469f7",
   "metadata": {
    "nbgrader": {
     "grade": false,
     "grade_id": "cell-9b0750c9fa46f4cd",
     "locked": false,
     "schema_version": 3,
     "solution": true,
     "task": false
    }
   },
   "outputs": [
    {
     "data": {
      "text/plain": [
       "\n",
       "Call:\n",
       "lm(formula = SalePrice ~ ., data = housing_inference %>% select(contains(lasso_selected_covariates), \n",
       "    SalePrice))\n",
       "\n",
       "Residuals:\n",
       "    Min      1Q  Median      3Q     Max \n",
       "-146749  -18058   -1918   15879  222833 \n",
       "\n",
       "Coefficients:\n",
       "               Estimate Std. Error t value Pr(>|t|)    \n",
       "(Intercept)   5.943e+04  7.709e+03   7.709 3.78e-14 ***\n",
       "LotArea       2.318e+00  4.177e-01   5.549 3.91e-08 ***\n",
       "MasVnrArea    3.792e+01  7.256e+00   5.226 2.21e-07 ***\n",
       "TotalBsmtSF   3.369e+01  3.495e+00   9.637  < 2e-16 ***\n",
       "GrLivArea     8.109e+01  4.164e+00  19.473  < 2e-16 ***\n",
       "BsmtFullBath  9.184e+03  2.475e+03   3.711 0.000221 ***\n",
       "FullBath      5.139e+03  3.329e+03   1.543 0.123112    \n",
       "BedroomAbvGr -1.492e+04  1.831e+03  -8.149 1.42e-15 ***\n",
       "KitchenAbvGr -3.812e+04  5.280e+03  -7.220 1.21e-12 ***\n",
       "Fireplaces    5.201e+03  2.189e+03   2.375 0.017770 *  \n",
       "GarageArea    4.519e+01  6.896e+00   6.553 1.01e-10 ***\n",
       "WoodDeckSF    1.222e-01  1.052e+01   0.012 0.990739    \n",
       "OpenPorchSF   2.940e+01  1.934e+01   1.520 0.128896    \n",
       "PoolArea      2.245e+02  4.154e+01   5.405 8.57e-08 ***\n",
       "ageSold      -4.827e+02  5.178e+01  -9.322  < 2e-16 ***\n",
       "---\n",
       "Signif. codes:  0 ‘***’ 0.001 ‘**’ 0.01 ‘*’ 0.05 ‘.’ 0.1 ‘ ’ 1\n",
       "\n",
       "Residual standard error: 32590 on 798 degrees of freedom\n",
       "Multiple R-squared:  0.8288,\tAdjusted R-squared:  0.8258 \n",
       "F-statistic:   276 on 14 and 798 DF,  p-value: < 2.2e-16\n"
      ]
     },
     "metadata": {},
     "output_type": "display_data"
    }
   ],
   "source": [
    "### BEGIN SOLUTION\n",
    "inference_model <- \n",
    "    lm( SalePrice ~ .,\n",
    "        data = housing_inference %>% \n",
    "                   select(contains(lasso_selected_covariates), SalePrice))\n",
    "### END SOLUTION\n",
    "\n",
    "summary(inference_model)"
   ]
  },
  {
   "cell_type": "code",
   "execution_count": 36,
   "id": "2e1b58ee",
   "metadata": {
    "nbgrader": {
     "grade": true,
     "grade_id": "cell-c5fb858fa1d1ca00",
     "locked": true,
     "points": 1,
     "schema_version": 3,
     "solution": false,
     "task": false
    }
   },
   "outputs": [
    {
     "name": "stdout",
     "output_type": "stream",
     "text": [
      "\u001b[32mTest passed\u001b[39m 🥇\n",
      "\u001b[32mTest passed\u001b[39m 🥇\n",
      "[1] \"Success!\"\n"
     ]
    }
   ],
   "source": [
    "test_2.7()"
   ]
  },
  {
   "cell_type": "markdown",
   "id": "28dc29bf",
   "metadata": {
    "nbgrader": {
     "grade": false,
     "grade_id": "cell-e45c0a6408e71e0b",
     "locked": true,
     "schema_version": 3,
     "solution": false,
     "task": false
    }
   },
   "source": [
    "**Question 2.8** \n",
    "<br> {points: 1}\n",
    "\n",
    "The model stored in `inference_model` has shown 3 non-significant variables. Should we remove these variables and re-fit the model with them? Briefly explain why or why not. "
   ]
  },
  {
   "cell_type": "markdown",
   "id": "4576c42c",
   "metadata": {
    "nbgrader": {
     "grade": true,
     "grade_id": "cell-37a2865a0526fd39",
     "locked": false,
     "points": 1,
     "schema_version": 3,
     "solution": true,
     "task": false
    }
   },
   "source": [
    "> Your answer goes here\n",
    "\n",
    "### BEGIN SOLUTION\n",
    "\n",
    "The problem of removing the variables at this stage is that this would also consist of using the data to find significant variables. We could not fully trust the inference quantities (Std. Error and t-values) in the re-fitted model. All components of variable selection should be done in the `housing_selection` data set so that we can have an accurate estimate of the uncertainties in `housing_inference`.\n",
    "\n",
    "### END SOLUTION"
   ]
  }
 ],
 "metadata": {
  "celltoolbar": "Create Assignment",
  "kernelspec": {
   "display_name": "R",
   "language": "R",
   "name": "ir"
  },
  "language_info": {
   "codemirror_mode": "r",
   "file_extension": ".r",
   "mimetype": "text/x-r-source",
   "name": "R",
   "pygments_lexer": "r",
   "version": "4.1.3"
  }
 },
 "nbformat": 4,
 "nbformat_minor": 5
}
