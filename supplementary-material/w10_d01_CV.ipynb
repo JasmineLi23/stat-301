{
 "cells": [
  {
   "cell_type": "markdown",
   "metadata": {
    "nbgrader": {
     "grade": false,
     "grade_id": "cell-3410823c297a225b",
     "locked": true,
     "schema_version": 3,
     "solution": false,
     "task": false
    },
    "slideshow": {
     "slide_type": "slide"
    }
   },
   "source": [
    "# Predictive Modelling: cross-validation"
   ]
  },
  {
   "cell_type": "markdown",
   "metadata": {
    "nbgrader": {
     "grade": false,
     "grade_id": "cell-b77ba84637c0d579",
     "locked": true,
     "schema_version": 3,
     "solution": false,
     "task": false
    }
   },
   "source": [
    "# <font color=red> Last class:\n",
    "\n",
    "## Build, train and test predictive models\n",
    "    \n",
    "### a. Hold-out approach\n",
    "    \n",
    "    - Split the data in 2: training and test (or validation) set \n",
    "    \n",
    "    - Build and train the model on the training set\n",
    "    \n",
    "    - Test its performance on the left-out test set"
   ]
  },
  {
   "cell_type": "markdown",
   "metadata": {},
   "source": [
    "# <font color=red> Today:\n",
    "\n",
    "### b. Cross-validation\n",
    "   "
   ]
  },
  {
   "cell_type": "markdown",
   "metadata": {
    "nbgrader": {
     "grade": false,
     "grade_id": "cell-aa844e3860a3dcbe",
     "locked": true,
     "schema_version": 3,
     "solution": false,
     "task": false
    }
   },
   "source": [
    "## Dataset\n",
    "\n",
    "In this section we will work with a richer real estate dataset, the [Ames `Housing` dataset](https://www.kaggle.com/c/home-data-for-ml-course/), compiled by Dean De Cock. It has 79 input variables on different characteristics of residential houses in Ames, Iowa, USA that can be used to predict the property's final price, `SalePrice`. We will use a subset of 21 continuous input variables:\n",
    "\n",
    "- `LotFrontage`: Linear $\\text{ft}$ of street connected to the house.\n",
    "- `LotArea`: Lot size in $\\text{ft}^2$.\n",
    "- `MasVnrArea`: Masonry veneer area in $\\text{ft}^2$.\n",
    "- `TotalBsmtSF`: Total $\\text{ft}^2$ of basement area.\n",
    "- `GrLivArea`: Above grade (ground) living area in $\\text{ft}^2$.\n",
    "- `BsmtFullBath`: Number of full bathrooms in basement.\n",
    "- `BsmtHalfBath`: Number of half bathrooms in basement.\n",
    "- `FullBath`: Number of full bathrooms above grade.\n",
    "- `HalfBath`: Number of half bathroom above grade.\n",
    "- `BedroomAbvGr`: Number of bedrooms above grade (it does not include basement bedrooms).\n",
    "- `KitchenAbvGr`: Number of kitchens above grade.\n",
    "- `Fireplaces`: Number of fireplaces.\n",
    "- `GarageArea`: Garage's area in $\\text{ft}^2$.\n",
    "- `WoodDeckSF`: Wood deck area in $\\text{ft}^2$.\n",
    "- `OpenPorchSF`: Open porch area in $\\text{ft}^2$.\n",
    "- `EnclosedPorch`: Enclosed porch area in $\\text{ft}^2$.\n",
    "- `ScreenPorch`: Screen porch area in $\\text{ft}^2$.\n",
    "- `PoolArea`: Pool area in $\\text{ft}^2$.\n",
    "\n",
    "The following variables will be used to construct a variable `ageSold`\n",
    "- `YearBuilt`: Original construction date.\n",
    "- `YrSold`: Year sold."
   ]
  },
  {
   "cell_type": "markdown",
   "metadata": {
    "nbgrader": {
     "grade": false,
     "grade_id": "cell-0e57653584382931",
     "locked": true,
     "schema_version": 3,
     "solution": false,
     "task": false
    }
   },
   "source": [
    "Run this code to prepare a working dataset"
   ]
  },
  {
   "cell_type": "code",
   "execution_count": 1,
   "metadata": {},
   "outputs": [
    {
     "name": "stderr",
     "output_type": "stream",
     "text": [
      "── \u001b[1mAttaching packages\u001b[22m ────────────────────────────────────────────────────────────── tidyverse 1.3.1 ──\n",
      "\n",
      "\u001b[32m✔\u001b[39m \u001b[34mggplot2\u001b[39m 3.3.5     \u001b[32m✔\u001b[39m \u001b[34mpurrr  \u001b[39m 0.3.4\n",
      "\u001b[32m✔\u001b[39m \u001b[34mtibble \u001b[39m 3.1.4     \u001b[32m✔\u001b[39m \u001b[34mdplyr  \u001b[39m 1.0.7\n",
      "\u001b[32m✔\u001b[39m \u001b[34mtidyr  \u001b[39m 1.1.3     \u001b[32m✔\u001b[39m \u001b[34mstringr\u001b[39m 1.4.0\n",
      "\u001b[32m✔\u001b[39m \u001b[34mreadr  \u001b[39m 2.0.1     \u001b[32m✔\u001b[39m \u001b[34mforcats\u001b[39m 0.5.1\n",
      "\n",
      "── \u001b[1mConflicts\u001b[22m ───────────────────────────────────────────────────────────────── tidyverse_conflicts() ──\n",
      "\u001b[31m✖\u001b[39m \u001b[34mdplyr\u001b[39m::\u001b[32mfilter()\u001b[39m masks \u001b[34mstats\u001b[39m::filter()\n",
      "\u001b[31m✖\u001b[39m \u001b[34mdplyr\u001b[39m::\u001b[32mlag()\u001b[39m    masks \u001b[34mstats\u001b[39m::lag()\n",
      "\n",
      "\n",
      "Attaching package: ‘mltools’\n",
      "\n",
      "\n",
      "The following object is masked from ‘package:tidyr’:\n",
      "\n",
      "    replace_na\n",
      "\n",
      "\n",
      "Loading required package: Matrix\n",
      "\n",
      "\n",
      "Attaching package: ‘Matrix’\n",
      "\n",
      "\n",
      "The following objects are masked from ‘package:tidyr’:\n",
      "\n",
      "    expand, pack, unpack\n",
      "\n",
      "\n",
      "Loaded glmnet 4.1-2\n",
      "\n",
      "Loading required package: lattice\n",
      "\n",
      "\n",
      "Attaching package: ‘lattice’\n",
      "\n",
      "\n",
      "The following object is masked from ‘package:faraway’:\n",
      "\n",
      "    melanoma\n",
      "\n",
      "\n",
      "\n",
      "Attaching package: ‘caret’\n",
      "\n",
      "\n",
      "The following object is masked from ‘package:purrr’:\n",
      "\n",
      "    lift\n",
      "\n",
      "\n"
     ]
    }
   ],
   "source": [
    "library(broom)\n",
    "#install.packages(\"latex2exp\")\n",
    "#library(latex2exp)\n",
    "library(tidyverse)\n",
    "library(repr)\n",
    "library(digest)\n",
    "library(faraway)\n",
    "library(mltools)\n",
    "library(leaps)\n",
    "library(glmnet)\n",
    "library(caret)\n",
    "\n",
    "options(repr.plot.width=10, repr.plot.height=8)"
   ]
  },
  {
   "cell_type": "code",
   "execution_count": 2,
   "metadata": {
    "nbgrader": {
     "grade": false,
     "grade_id": "cell-95e16218a5e51a83",
     "locked": true,
     "schema_version": 3,
     "solution": false,
     "task": false
    },
    "scrolled": false
   },
   "outputs": [
    {
     "name": "stderr",
     "output_type": "stream",
     "text": [
      "\u001b[1m\u001b[1mRows: \u001b[1m\u001b[22m\u001b[34m\u001b[34m1460\u001b[34m\u001b[39m \u001b[1m\u001b[1mColumns: \u001b[1m\u001b[22m\u001b[34m\u001b[34m81\u001b[34m\u001b[39m\n",
      "\n",
      "\u001b[36m──\u001b[39m \u001b[1m\u001b[1mColumn specification\u001b[1m\u001b[22m \u001b[36m───────────────────────────────────────────────────────────────────────────────\u001b[39m\n",
      "\u001b[1mDelimiter:\u001b[22m \",\"\n",
      "\u001b[31mchr\u001b[39m (43): MSZoning, Street, Alley, LotShape, LandContour, Utilities, LotConf...\n",
      "\u001b[32mdbl\u001b[39m (38): Id, MSSubClass, LotFrontage, LotArea, OverallQual, OverallCond, Ye...\n",
      "\n",
      "\n",
      "\u001b[36mℹ\u001b[39m Use \u001b[30m\u001b[47m\u001b[30m\u001b[47m`spec()`\u001b[47m\u001b[30m\u001b[49m\u001b[39m to retrieve the full column specification for this data.\n",
      "\u001b[36mℹ\u001b[39m Specify the column types or set \u001b[30m\u001b[47m\u001b[30m\u001b[47m`show_col_types = FALSE`\u001b[47m\u001b[30m\u001b[49m\u001b[39m to quiet this message.\n",
      "\n"
     ]
    }
   ],
   "source": [
    "Housing <- read_csv(\"data/Housing.csv\")\n",
    "\n",
    "# Use `YearBuilt` and `YrSold` to create a variable `ageSold`\n",
    "Housing$ageSold <- Housing$YrSold - Housing$YearBuilt\n",
    "\n",
    "\n",
    "# Select subset of input variables\n",
    "Housing <- Housing %>%\n",
    "  select(\n",
    "    LotFrontage, LotArea, MasVnrArea, TotalBsmtSF, \n",
    "    GrLivArea, BsmtFullBath, BsmtHalfBath, FullBath, HalfBath, BedroomAbvGr, KitchenAbvGr, Fireplaces,\n",
    "    GarageArea, WoodDeckSF, OpenPorchSF, EnclosedPorch, ScreenPorch, PoolArea, ageSold, SalePrice\n",
    "  )\n",
    "\n",
    "# Remove those rows containing `NA`s and some outliers\n",
    "Housing <- drop_na(Housing)  %>% \n",
    "            filter(LotArea < 20000)"
   ]
  },
  {
   "cell_type": "markdown",
   "metadata": {},
   "source": [
    "## Recall: hold-out\n",
    "\n",
    "Let's start by reviewing the results of the \"hold-out\" method to estimate the **test Root Mean Squared Error (RMSE)**:"
   ]
  },
  {
   "cell_type": "code",
   "execution_count": 3,
   "metadata": {},
   "outputs": [],
   "source": [
    "set.seed(1234)\n",
    "\n",
    "# Training LS\n",
    "\n",
    "train=sample(nrow(Housing), round(nrow(Housing) * 0.60))\n",
    "Housing_train_LS <- lm(SalePrice ~ .,\n",
    "                        data = Housing,subset = train)\n",
    "\n",
    "# Test the estimated model\n",
    "\n",
    "Housing_test_LS <- predict(Housing_train_LS, \n",
    "                           Housing)[-train]"
   ]
  },
  {
   "cell_type": "code",
   "execution_count": 4,
   "metadata": {
    "scrolled": true
   },
   "outputs": [
    {
     "data": {
      "text/html": [
       "<table class=\"dataframe\">\n",
       "<caption>A tibble: 1 × 2</caption>\n",
       "<thead>\n",
       "\t<tr><th scope=col>Method</th><th scope=col>MSE</th></tr>\n",
       "\t<tr><th scope=col>&lt;chr&gt;</th><th scope=col>&lt;dbl&gt;</th></tr>\n",
       "</thead>\n",
       "<tbody>\n",
       "\t<tr><td>Hold-out</td><td>34686.05</td></tr>\n",
       "</tbody>\n",
       "</table>\n"
      ],
      "text/latex": [
       "A tibble: 1 × 2\n",
       "\\begin{tabular}{ll}\n",
       " Method & MSE\\\\\n",
       " <chr> & <dbl>\\\\\n",
       "\\hline\n",
       "\t Hold-out & 34686.05\\\\\n",
       "\\end{tabular}\n"
      ],
      "text/markdown": [
       "\n",
       "A tibble: 1 × 2\n",
       "\n",
       "| Method &lt;chr&gt; | MSE &lt;dbl&gt; |\n",
       "|---|---|\n",
       "| Hold-out | 34686.05 |\n",
       "\n"
      ],
      "text/plain": [
       "  Method   MSE     \n",
       "1 Hold-out 34686.05"
      ]
     },
     "metadata": {},
     "output_type": "display_data"
    }
   ],
   "source": [
    "# Test MSE\n",
    "\n",
    "RMSE_method = tibble(\n",
    "  Method = \"Hold-out\",\n",
    "  MSE = round(rmse(\n",
    "    preds = Housing_test_LS,\n",
    "    actuals = Housing$SalePrice[-train]\n",
    "  ),\n",
    "               3))\n",
    "\n",
    "RMSE_method"
   ]
  },
  {
   "cell_type": "markdown",
   "metadata": {},
   "source": [
    "### Limitations\n",
    "\n",
    "- The estimate of the population test error rate depends on the split of the dataset. Thus, it can be highly variable.\n",
    "\n",
    "- Only a *subset* of the observations (included in the training set) are used to fit the model (smaller sample size). Thus, this approach tends to overestimate the population test error rate.\n",
    "\n",
    "Let's illustrate the variation associated with different splits of the data:"
   ]
  },
  {
   "cell_type": "code",
   "execution_count": 5,
   "metadata": {},
   "outputs": [
    {
     "name": "stderr",
     "output_type": "stream",
     "text": [
      "Warning message in predict.lm(Housing_train_LS, Housing):\n",
      "“prediction from a rank-deficient fit may be misleading”\n",
      "Warning message in predict.lm(Housing_train_LS, Housing):\n",
      "“prediction from a rank-deficient fit may be misleading”\n",
      "Warning message in predict.lm(Housing_train_LS, Housing):\n",
      "“prediction from a rank-deficient fit may be misleading”\n",
      "Warning message in predict.lm(Housing_train_LS, Housing):\n",
      "“prediction from a rank-deficient fit may be misleading”\n",
      "Warning message in predict.lm(Housing_train_LS, Housing):\n",
      "“prediction from a rank-deficient fit may be misleading”\n",
      "Warning message in predict.lm(Housing_train_LS, Housing):\n",
      "“prediction from a rank-deficient fit may be misleading”\n"
     ]
    },
    {
     "data": {
      "text/html": [
       "<table class=\"dataframe\">\n",
       "<caption>A tibble: 3 × 2</caption>\n",
       "<thead>\n",
       "\t<tr><th scope=col>Method</th><th scope=col>RMSE</th></tr>\n",
       "\t<tr><th scope=col>&lt;chr&gt;</th><th scope=col>&lt;dbl&gt;</th></tr>\n",
       "</thead>\n",
       "<tbody>\n",
       "\t<tr><td>Hold-out</td><td>34686</td></tr>\n",
       "\t<tr><td>Hold-out</td><td>36474</td></tr>\n",
       "\t<tr><td>Hold-out</td><td>36581</td></tr>\n",
       "</tbody>\n",
       "</table>\n"
      ],
      "text/latex": [
       "A tibble: 3 × 2\n",
       "\\begin{tabular}{ll}\n",
       " Method & RMSE\\\\\n",
       " <chr> & <dbl>\\\\\n",
       "\\hline\n",
       "\t Hold-out & 34686\\\\\n",
       "\t Hold-out & 36474\\\\\n",
       "\t Hold-out & 36581\\\\\n",
       "\\end{tabular}\n"
      ],
      "text/markdown": [
       "\n",
       "A tibble: 3 × 2\n",
       "\n",
       "| Method &lt;chr&gt; | RMSE &lt;dbl&gt; |\n",
       "|---|---|\n",
       "| Hold-out | 34686 |\n",
       "| Hold-out | 36474 |\n",
       "| Hold-out | 36581 |\n",
       "\n"
      ],
      "text/plain": [
       "  Method   RMSE \n",
       "1 Hold-out 34686\n",
       "2 Hold-out 36474\n",
       "3 Hold-out 36581"
      ]
     },
     "metadata": {},
     "output_type": "display_data"
    }
   ],
   "source": [
    "set.seed(1234)\n",
    "\n",
    "# Training LS\n",
    "\n",
    "holdout.rmse= rep (0 ,100)\n",
    "\n",
    "for (i in 1:100){\n",
    "train=sample(nrow(Housing), round(nrow(Housing) * 0.60))\n",
    "Housing_train_LS <- lm(SalePrice ~ .,\n",
    "                        data = Housing,subset =train)\n",
    "\n",
    "# Test the estimated model\n",
    "Housing_test_LS <- predict(Housing_train_LS, \n",
    "                           Housing)[-train]\n",
    "holdout.rmse[i] <- round(rmse(\n",
    "    preds = Housing_test_LS,\n",
    "    actuals = Housing$SalePrice[-train],\n",
    "    3))\n",
    "    \n",
    "    }\n",
    "\n",
    "RMSE <- tibble(\n",
    " Method = \"Hold-out\",\n",
    "  RMSE = holdout.rmse)\n",
    "\n",
    "head(RMSE,3)"
   ]
  },
  {
   "cell_type": "markdown",
   "metadata": {},
   "source": [
    "#### Plot"
   ]
  },
  {
   "cell_type": "code",
   "execution_count": 6,
   "metadata": {
    "scrolled": true
   },
   "outputs": [
    {
     "data": {
      "image/png": "[encoded data removed]",
      "text/plain": [
       "plot without title"
      ]
     },
     "metadata": {
      "image/png": {
       "height": 480,
       "width": 600
      }
     },
     "output_type": "display_data"
    }
   ],
   "source": [
    "RMSE_boxplot <- RMSE %>%\n",
    "  ggplot() +\n",
    "  geom_boxplot(aes(Method, RMSE, fill = Method)) +\n",
    "  theme(\n",
    "    text = element_text(size = 18),\n",
    "    plot.title = element_text(face = \"bold\"),\n",
    "    axis.title = element_text(face = \"bold\")\n",
    "  ) +\n",
    "  ggtitle(\"Variation in RMSE Estimates\") +\n",
    "  xlab(\"Method\") +\n",
    "  ylab(\"Estimated Test RMSE\") +\n",
    "  stat_summary(aes(Method, RMSE, fill = Method),\n",
    "    fun = mean, colour = \"yellow\", geom = \"point\",\n",
    "    shape = 18, size = 5\n",
    "  )\n",
    "RMSE_boxplot "
   ]
  },
  {
   "cell_type": "markdown",
   "metadata": {},
   "source": [
    "#### Randomness: \n",
    "\n",
    "Note there are several ways of partioning the data into 2 parts!! Since results depend on the partion used, we need to make several partitions!"
   ]
  },
  {
   "cell_type": "markdown",
   "metadata": {},
   "source": [
    "## Cross-validation\n",
    "\n",
    "To address the limitation of the hold-out method, we can partition the data differently and:\n",
    "\n",
    "- use more observations in the training set\n",
    "\n",
    "- consider different training sets with different subset of observations"
   ]
  },
  {
   "cell_type": "markdown",
   "metadata": {},
   "source": [
    "### k-fold CV:\n",
    "\n",
    "- Split the data into $k$-folds\n",
    "    \n",
    "- Leave one fold appart as a test set\n",
    "\n",
    "- Build and train the model on the remaining $(k-1)$ folds (training set)\n",
    "    \n",
    "- Estimate the test MSE using the left-out fold: CV$_i$\n",
    "    \n",
    "- Repeat the last 3 steps until *all* folds are used as a test set\n",
    "\n",
    "As a result, you'll get $k$ estimates of the MSE which you can average\n",
    "\n",
    "> Note: this is what cv.glmnet uses to select $\\lambda$\n",
    "\n",
    "- Except for $k = 1$ and $k = n$, there is randomness in this procedure since there's not a unique way to partition the data into $k$ folds"
   ]
  },
  {
   "cell_type": "markdown",
   "metadata": {},
   "source": [
    "![](img/CV.png)"
   ]
  },
  {
   "cell_type": "markdown",
   "metadata": {},
   "source": [
    "#### Randomness: \n",
    "\n",
    "Note there are several ways of partioning the data into (approximately) 3 parts!! Since results depend on the partion used, we need to run the CV multiple times!\n",
    "\n",
    "> except when $k = N$, a.k.a leave-one-out CV (see below)"
   ]
  },
  {
   "cell_type": "markdown",
   "metadata": {},
   "source": [
    "### CV-MSE: estimate of the test MSE using CV\n",
    "\n",
    "Note that at the end we have $k$ estimates (3 in this particular example) of the test MSE, one for each fold left out!\n",
    "\n",
    "$$\\text{CV-MSE} = \\frac{1}{k}\\sum_{j=1}^k \\text{MSE}_j$$\n",
    "\n",
    "### CV-RMSE: estimate of the test RMSE using CV\n",
    "\n",
    "Note that we have 2 approaches in this case:\n",
    "\n",
    "1) $\\text{CV-RMSE} = \\sqrt{\\text{CV-MSE}} = \\sqrt{\\frac{1}{k}\\sum_{j=1}^k \\text{MSE}_j}$\n",
    "\n",
    "\n",
    "2) $\\text{CV-RMSE} = \\frac{1}{k}\\sum_{j=1}^k \\text{RMSE}_j = \\frac{1}{k}\\sum_{j=1}^k \\sqrt{\\text{MSE}_j}$\n",
    "\n",
    "\n",
    "> the package `caret` implements option 2"
   ]
  },
  {
   "cell_type": "markdown",
   "metadata": {},
   "source": [
    "#### <font color=red> Leave-one-out CV (LOOCV): </font> a particular case of k-fold CV is the n-fold CV\n",
    "    \n",
    "> in a LOOCV, each fold has only 1 observation. \n",
    "\n",
    "- The test set of the LOOCV has only one observation to estimate the MSE!\n",
    "\n",
    "> The estimate of the MSE is highly variable, since it is based upon a single observation!\n",
    "\n",
    "\n",
    "- The training set of the LOOCV has (n-1) observations!! Very similar to the full set!\n",
    "\n",
    "\n",
    "- There is no randomness in the training/validation set splits"
   ]
  },
  {
   "cell_type": "markdown",
   "metadata": {},
   "source": [
    "Let's write a code to estimate the RMSE using LOOCV:"
   ]
  },
  {
   "cell_type": "code",
   "execution_count": 7,
   "metadata": {},
   "outputs": [],
   "source": [
    "#LOOCV\n",
    "\n",
    "N <- nrow(Housing)\n",
    "loocv.rmse= rep (0, N)\n",
    "\n",
    "for (i in 1:N){\n",
    "train=c(1:N)[-i]\n",
    "Housing_train_LS <- lm(SalePrice ~ .,\n",
    "                        data = Housing,subset = train)\n",
    "\n",
    "# Test the estimated model\n",
    "Housing_test_LS <- predict(Housing_train_LS, \n",
    "                           Housing)[-train]\n",
    "loocv.rmse[i] <- round(rmse(\n",
    "    preds = Housing_test_LS,\n",
    "    actuals = Housing$SalePrice[-train]),3)\n",
    "    \n",
    "    }\n",
    "\n",
    "RMSE <- rbind(RMSE,tibble(\n",
    " Method = \"LOOCV\",\n",
    "  RMSE = loocv.rmse))"
   ]
  },
  {
   "cell_type": "markdown",
   "metadata": {},
   "source": [
    "We can see that each estimate is highly variable:"
   ]
  },
  {
   "cell_type": "code",
   "execution_count": 8,
   "metadata": {
    "scrolled": false
   },
   "outputs": [
    {
     "data": {
      "text/html": [
       "<table class=\"dataframe\">\n",
       "<caption>A tibble: 3 × 2</caption>\n",
       "<thead>\n",
       "\t<tr><th scope=col>Method</th><th scope=col>RMSE</th></tr>\n",
       "\t<tr><th scope=col>&lt;chr&gt;</th><th scope=col>&lt;dbl&gt;</th></tr>\n",
       "</thead>\n",
       "<tbody>\n",
       "\t<tr><td>LOOCV</td><td>55550.347</td></tr>\n",
       "\t<tr><td>LOOCV</td><td> 1692.987</td></tr>\n",
       "\t<tr><td>LOOCV</td><td>15571.335</td></tr>\n",
       "</tbody>\n",
       "</table>\n"
      ],
      "text/latex": [
       "A tibble: 3 × 2\n",
       "\\begin{tabular}{ll}\n",
       " Method & RMSE\\\\\n",
       " <chr> & <dbl>\\\\\n",
       "\\hline\n",
       "\t LOOCV & 55550.347\\\\\n",
       "\t LOOCV &  1692.987\\\\\n",
       "\t LOOCV & 15571.335\\\\\n",
       "\\end{tabular}\n"
      ],
      "text/markdown": [
       "\n",
       "A tibble: 3 × 2\n",
       "\n",
       "| Method &lt;chr&gt; | RMSE &lt;dbl&gt; |\n",
       "|---|---|\n",
       "| LOOCV | 55550.347 |\n",
       "| LOOCV |  1692.987 |\n",
       "| LOOCV | 15571.335 |\n",
       "\n"
      ],
      "text/plain": [
       "  Method RMSE     \n",
       "1 LOOCV  55550.347\n",
       "2 LOOCV   1692.987\n",
       "3 LOOCV  15571.335"
      ]
     },
     "metadata": {},
     "output_type": "display_data"
    }
   ],
   "source": [
    "tail(RMSE,3)"
   ]
  },
  {
   "cell_type": "code",
   "execution_count": 9,
   "metadata": {
    "scrolled": false
   },
   "outputs": [
    {
     "data": {
      "text/html": [
       "<table class=\"dataframe\">\n",
       "<caption>A tibble: 1 × 1</caption>\n",
       "<thead>\n",
       "\t<tr><th scope=col>mean</th></tr>\n",
       "\t<tr><th scope=col>&lt;dbl&gt;</th></tr>\n",
       "</thead>\n",
       "<tbody>\n",
       "\t<tr><td>23283.24</td></tr>\n",
       "</tbody>\n",
       "</table>\n"
      ],
      "text/latex": [
       "A tibble: 1 × 1\n",
       "\\begin{tabular}{l}\n",
       " mean\\\\\n",
       " <dbl>\\\\\n",
       "\\hline\n",
       "\t 23283.24\\\\\n",
       "\\end{tabular}\n"
      ],
      "text/markdown": [
       "\n",
       "A tibble: 1 × 1\n",
       "\n",
       "| mean &lt;dbl&gt; |\n",
       "|---|\n",
       "| 23283.24 |\n",
       "\n"
      ],
      "text/plain": [
       "  mean    \n",
       "1 23283.24"
      ]
     },
     "metadata": {},
     "output_type": "display_data"
    }
   ],
   "source": [
    "# LOOCV-RMSE\n",
    "\n",
    "RMSE_LOOCV <- RMSE  %>% filter(Method == \"LOOCV\") %>% \n",
    "           summarize(mean = mean(RMSE))\n",
    "RMSE_LOOCV"
   ]
  },
  {
   "cell_type": "markdown",
   "metadata": {},
   "source": [
    "## Using the package `caret`:\n",
    "\n",
    "### LOOCV-RMSE"
   ]
  },
  {
   "cell_type": "code",
   "execution_count": 10,
   "metadata": {
    "scrolled": true
   },
   "outputs": [
    {
     "name": "stderr",
     "output_type": "stream",
     "text": [
      "Warning message in nominalTrainWorkflow(x = x, y = y, wts = weights, info = trainInfo, :\n",
      "“There were missing values in resampled performance measures.”\n"
     ]
    },
    {
     "name": "stdout",
     "output_type": "stream",
     "text": [
      "Linear Regression \n",
      "\n",
      "1162 samples\n",
      "  19 predictor\n",
      "\n",
      "No pre-processing\n",
      "Resampling: Cross-Validated (1162 fold) \n",
      "Summary of sample sizes: 1161, 1161, 1161, 1161, 1161, 1161, ... \n",
      "Resampling results:\n",
      "\n",
      "  RMSE      Rsquared  MAE     \n",
      "  23283.24  NaN       23283.24\n",
      "\n",
      "Tuning parameter 'intercept' was held constant at a value of TRUE\n"
     ]
    }
   ],
   "source": [
    "# define training control\n",
    "train_control <- trainControl(method=\"cv\", number = N)\n",
    "\n",
    "# train the model\n",
    "model_LOOCV <- train(SalePrice~., data = Housing, \n",
    "               trControl=train_control, method=\"lm\")\n",
    "\n",
    "# summarize results\n",
    "print(model_LOOCV)"
   ]
  },
  {
   "cell_type": "markdown",
   "metadata": {},
   "source": [
    "### 10-fold CV-RMSE\n",
    "\n",
    "Let's use `caret` to estimate to run a 10-fold CV\n",
    "\n",
    "> recall that results depend on the random split into 10 folds!"
   ]
  },
  {
   "cell_type": "code",
   "execution_count": 11,
   "metadata": {},
   "outputs": [
    {
     "name": "stdout",
     "output_type": "stream",
     "text": [
      "Linear Regression \n",
      "\n",
      "1162 samples\n",
      "  19 predictor\n",
      "\n",
      "No pre-processing\n",
      "Resampling: Cross-Validated (10 fold) \n",
      "Summary of sample sizes: 1045, 1047, 1046, 1045, 1046, 1046, ... \n",
      "Resampling results:\n",
      "\n",
      "  RMSE     Rsquared   MAE     \n",
      "  33381.7  0.8212842  23277.92\n",
      "\n",
      "Tuning parameter 'intercept' was held constant at a value of TRUE\n"
     ]
    }
   ],
   "source": [
    "# define training control\n",
    "train_control <- trainControl(method=\"cv\", number = 10)\n",
    "\n",
    "# train the model\n",
    "model_10CV <- train(SalePrice~., data = Housing, \n",
    "               trControl=train_control, method=\"lm\")\n",
    "\n",
    "# summarize results\n",
    "print(model_10CV)"
   ]
  },
  {
   "cell_type": "markdown",
   "metadata": {},
   "source": [
    "### Comparison of different methods\n",
    "\n",
    "We can compare the variation of all methods due to different splits of the data"
   ]
  },
  {
   "cell_type": "code",
   "execution_count": 12,
   "metadata": {
    "scrolled": true
   },
   "outputs": [
    {
     "name": "stderr",
     "output_type": "stream",
     "text": [
      "Warning message in predict.lm(Housing_train_LS, Housing):\n",
      "“prediction from a rank-deficient fit may be misleading”\n",
      "Warning message in predict.lm(Housing_train_LS, Housing):\n",
      "“prediction from a rank-deficient fit may be misleading”\n",
      "Warning message in predict.lm(Housing_train_LS, Housing):\n",
      "“prediction from a rank-deficient fit may be misleading”\n",
      "Warning message in predict.lm(Housing_train_LS, Housing):\n",
      "“prediction from a rank-deficient fit may be misleading”\n"
     ]
    }
   ],
   "source": [
    "set.seed(123)\n",
    "\n",
    "RMSE <- tibble(\n",
    " Method = \"LOOCV\",\n",
    "  RMSE = model_LOOCV$results$RMSE)\n",
    "\n",
    "for (i in 1:100){\n",
    "    \n",
    "## Hold-out    \n",
    "train=sample(nrow(Housing), round(nrow(Housing) * 0.60))\n",
    "Housing_train_LS <- lm(SalePrice ~ .,\n",
    "                        data = Housing,subset =train)\n",
    "\n",
    "Housing_test_LS <- predict(Housing_train_LS, \n",
    "                           Housing)[-train]\n",
    "holdout.rmse <- round(rmse(\n",
    "    preds = Housing_test_LS,\n",
    "    actuals = Housing$SalePrice[-train]),3)\n",
    "\n",
    "# add hold-out estimate to tibble    \n",
    "RMSE <- rbind(RMSE,tibble(\n",
    " Method = \"Hold-out\",\n",
    "  RMSE = holdout.rmse))\n",
    "    \n",
    "## 10-fold CV    \n",
    "    \n",
    "train_control <- trainControl(method=\"cv\", number = 10)\n",
    "\n",
    "# train the model\n",
    "model_10CV <- train(SalePrice~., data = Housing, \n",
    "               trControl=train_control, method=\"lm\")    \n",
    "    \n",
    "\n",
    "RMSE <- rbind(RMSE,tibble(\n",
    " Method = \"10-foldCV\",\n",
    "  RMSE = model_10CV$results$RMSE))\n",
    "    }"
   ]
  },
  {
   "cell_type": "code",
   "execution_count": 13,
   "metadata": {},
   "outputs": [
    {
     "data": {
      "text/html": [
       "32254.935"
      ],
      "text/latex": [
       "32254.935"
      ],
      "text/markdown": [
       "32254.935"
      ],
      "text/plain": [
       "[1] 32254.94"
      ]
     },
     "metadata": {},
     "output_type": "display_data"
    }
   ],
   "source": [
    "train=sort(sample(nrow(Housing), round(nrow(Housing) * 0.60)))\n",
    "data_tr <- Housing[train,]\n",
    "data_te <- Housing[- train,]\n",
    "\n",
    "Housing_train_LS <- lm(SalePrice ~ .,\n",
    "                        data = Housing[train,])\n",
    "\n",
    "Housing_test_LS <- predict(Housing_train_LS, \n",
    "                           Housing[-train,])\n",
    "holdout.rmse <- round(rmse(\n",
    "    preds = Housing_test_LS,\n",
    "    actuals = Housing$SalePrice[-train]),3)\n",
    "holdout.rmse"
   ]
  },
  {
   "cell_type": "code",
   "execution_count": 14,
   "metadata": {
    "scrolled": true
   },
   "outputs": [
    {
     "data": {
      "image/png": "[encoded data removed]",
      "text/plain": [
       "plot without title"
      ]
     },
     "metadata": {
      "image/png": {
       "height": 480,
       "width": 600
      }
     },
     "output_type": "display_data"
    }
   ],
   "source": [
    "RMSE_boxplot <- RMSE %>%\n",
    "  ggplot() +\n",
    "  geom_boxplot(aes(Method, RMSE, fill = Method)) +\n",
    "  theme(\n",
    "    text = element_text(size = 18),\n",
    "    plot.title = element_text(face = \"bold\"),\n",
    "    axis.title = element_text(face = \"bold\")\n",
    "  ) +\n",
    "  ggtitle(\"Variation in RMSE Estimates\") +\n",
    "  xlab(\"Method\") +\n",
    "  ylab(\"Estimated Test RMSE\") +\n",
    "  stat_summary(aes(Method, RMSE, fill = Method),\n",
    "    fun = mean, colour = \"yellow\", geom = \"point\",\n",
    "    shape = 18, size = 5\n",
    "  )\n",
    "RMSE_boxplot "
   ]
  },
  {
   "cell_type": "markdown",
   "metadata": {},
   "source": [
    "### Other useful functions related to CV\n",
    "\n",
    "There are other functions to perform CV but each has different arguments and are limited to some models. For example: `cv.glm()` in `boot` and `cv.glmnet()` in `glmnet`.\n",
    "\n",
    "The advantage of `caret` is that it provides a unifying framework for many models.\n",
    "\n",
    "- You can use `caret` to partion the data into training/test using `createDataPartition` \n",
    "\n",
    "\n",
    "- You can run many iterations of CV using `method = \"repeatedcv\"` and `repeat` arguments\n",
    "\n",
    "\n",
    "- You can run a using `method = \"LOOCV\"`\n",
    "\n",
    "\n",
    "- You can repeated training/test splits using `method = \"LGOCV\"`"
   ]
  },
  {
   "cell_type": "markdown",
   "metadata": {},
   "source": [
    "### Additional comments\n",
    "\n",
    "In this lecture, we've trained the LR using LS, a simple method that does not require any tuning. However, if we need to select additional arguments as in LASSO, for example, we need an additional *validation* set!! \n",
    "\n",
    "Methods that require the selection of additional parameters need to run a *nested* CV within each training set of the outer CV!!\n",
    "\n",
    "> note that the function `cv.glmnet()` runs a CV to select the penalty parameter of LASSO and RIDGE. If we train the model $k$ times (one per data partition), we need to call this function $k$ time as well *within* each run."
   ]
  },
  {
   "cell_type": "markdown",
   "metadata": {},
   "source": [
    "![](img/nestedCV.png)"
   ]
  }
 ],
 "metadata": {
  "kernelspec": {
   "display_name": "R",
   "language": "R",
   "name": "ir"
  },
  "language_info": {
   "codemirror_mode": "r",
   "file_extension": ".r",
   "mimetype": "text/x-r-source",
   "name": "R",
   "pygments_lexer": "r",
   "version": "4.1.0"
  }
 },
 "nbformat": 4,
 "nbformat_minor": 2
}
