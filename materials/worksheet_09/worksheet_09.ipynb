{
 "cells": [
  {
   "cell_type": "markdown",
   "metadata": {
    "deletable": false,
    "editable": false,
    "nbgrader": {
     "cell_type": "markdown",
     "checksum": "0ed7a69c731054d68ecd481562ec9e57",
     "grade": false,
     "grade_id": "cell-3410823c297a225b",
     "locked": true,
     "schema_version": 3,
     "solution": false,
     "task": false
    },
    "slideshow": {
     "slide_type": "slide"
    }
   },
   "source": [
    "# Worksheet 9: Prediction and Model Selection"
   ]
  },
  {
   "cell_type": "markdown",
   "metadata": {
    "deletable": false,
    "editable": false,
    "nbgrader": {
     "cell_type": "markdown",
     "checksum": "b75f7897e60da07def4120a33c44b828",
     "grade": false,
     "grade_id": "cell-34b6d6e1de870f0a",
     "locked": true,
     "schema_version": 3,
     "solution": false,
     "task": false
    }
   },
   "source": [
    "#### Lecture and Tutorial Learning Goals:\n",
    "\n",
    "By the end of this section, students will be able to:\n",
    "\n",
    "- Explain the difference between confidence intervals for prediction and prediction confidence intervals and what elements need to be estimated to construct these intervals.\n",
    "\n",
    "- Write a computer script to calculate these intervals. Interpret and communicate the results from that computer script.\n",
    "\n",
    "- Give an example of a question that can be answered by predictive modelling.\n",
    "\n",
    "- Explain the algorithms for the following variable selection methods: • Forward selection • Backward selection\n",
    "\n",
    "- Explain when a linear regression is an appropriate model to predict new outcomes based on new values of the input variables.\n",
    "\n",
    "- List model metrics that are suitable for evaluation of a statistical model developed for the purpose of predictive modelling (e.g., RMSE), as well as how they are calculated.\n",
    "\n",
    "- Discuss how different estimation methods can result in different predictions."
   ]
  },
  {
   "cell_type": "markdown",
   "metadata": {
    "deletable": false,
    "editable": false,
    "nbgrader": {
     "cell_type": "markdown",
     "checksum": "1ae0a38a50463a0e47cd1f0f4c07be3e",
     "grade": false,
     "grade_id": "cell-1a091fc0c614272c",
     "locked": true,
     "schema_version": 3,
     "solution": false,
     "task": false
    }
   },
   "source": [
    "# Part I: Uncertainty of prediction"
   ]
  },
  {
   "cell_type": "markdown",
   "metadata": {
    "deletable": false,
    "editable": false,
    "nbgrader": {
     "cell_type": "markdown",
     "checksum": "0e99e83675503461caa0d4efdcd144ef",
     "grade": false,
     "grade_id": "cell-5b30cf6538a4f9db",
     "locked": true,
     "schema_version": 3,
     "solution": false,
     "task": false
    },
    "slideshow": {
     "slide_type": "slide"
    }
   },
   "source": [
    "## 1. Prediction Intervals *vs* Confidence Intervals for prediction"
   ]
  },
  {
   "cell_type": "markdown",
   "metadata": {
    "deletable": false,
    "editable": false,
    "nbgrader": {
     "cell_type": "markdown",
     "checksum": "1436009813f3ef9f42a5354edc4b0c20",
     "grade": false,
     "grade_id": "cell-48c44f77b644ac2c",
     "locked": true,
     "schema_version": 3,
     "solution": false,
     "task": false
    }
   },
   "source": [
    "Last week we have seen that the <font color=blue> estimated LR </font> can be used to predict values of the response variable\n",
    "\n",
    "> we can predict observations from the training or test sets! \n",
    "\n",
    "We have also learned different metrics to evaluate the estimated model. Many of these metrics compared the observed response $y$ with its predicted value using the estimated LR $\\hat{y}$. For example:\n",
    "\n",
    "\n",
    "- **Mean Squared Error**: MSE = $\\frac{1}{n}\\sum_{i=1}^n(y_i - \\hat{y}_i)^2$\n",
    "\n",
    "or \n",
    "\n",
    "- $R^2 = cor(y, \\hat{y})^2$ (for a model with an intercept estimated by LS)\n",
    "\n",
    "**Today we will measure the uncertainty of $\\hat{Y}$**"
   ]
  },
  {
   "cell_type": "markdown",
   "metadata": {
    "deletable": false,
    "editable": false,
    "nbgrader": {
     "cell_type": "markdown",
     "checksum": "b4da14a664293069531a03a96ee4bf0e",
     "grade": false,
     "grade_id": "cell-34428e10444fc41f",
     "locked": true,
     "schema_version": 3,
     "solution": false,
     "task": false
    },
    "tags": []
   },
   "source": [
    "#### Predictions are random variables\n",
    "\n",
    "- Since the predictions are functions of the estimated LR, they also depend on the sample used!! \n",
    "\n",
    "    \n",
    "- A different sample would have resulted in a different estimated LR and thus different predictions!! \n",
    "\n",
    "    - recall the sample to sample variation in the estimated coefficients?? it translates into variation in the predictions!\n",
    "\n",
    "    \n",
    "<font color=\"blue\">**As dicussed for the estimation of the regression parameters, we can obtain *confidence intervals* that take into account the sample-to-sample variation of the predictions as well!**</font>\n",
    "    \n",
    "There are 2 type of intervals we can construct depending on the quantity we want to predict: *confidence intervals for prediction (CIP)* and *prediction confidence intervals (PI)*\n",
    "    \n",
    "Let's use a SLR to present concepts \n",
    "    \n",
    "> **NOTE**: these intervals can be constructed for *any* LR  "
   ]
  },
  {
   "cell_type": "markdown",
   "metadata": {
    "deletable": false,
    "editable": false,
    "nbgrader": {
     "cell_type": "markdown",
     "checksum": "7e0fbad086a4df4a3145a642a3359106",
     "grade": false,
     "grade_id": "cell-bbea6b83996fe162",
     "locked": true,
     "schema_version": 3,
     "solution": false,
     "task": false
    }
   },
   "source": [
    "## Dataset: [2015 Property Tax Assessment from Strathcona County](https://data.strathcona.ca/Housing-Buildings/2015-Property-Tax-Assessment/uexh-8sx8)\n",
    "\n",
    "In this first part of the worksheet, we'll work with a new dataset with data on property tax assessed values of properties in the Strathcona County. A valuation date of July 1, 2014 and a property condition date as of December 31, 2014 are provided. "
   ]
  },
  {
   "cell_type": "markdown",
   "metadata": {
    "deletable": false,
    "editable": false,
    "nbgrader": {
     "cell_type": "markdown",
     "checksum": "6f9d4b44052cc691a3dca6b58d18b99c",
     "grade": false,
     "grade_id": "cell-75f0e3d05e6d7159",
     "locked": true,
     "schema_version": 3,
     "solution": false,
     "task": false
    }
   },
   "source": [
    "![](https://github.com/UBC-STAT/stat-301/blob/master/supplementary-material/img/popul_AB.png?raw=true)"
   ]
  },
  {
   "cell_type": "code",
   "execution_count": null,
   "metadata": {
    "deletable": false,
    "editable": false,
    "nbgrader": {
     "cell_type": "code",
     "checksum": "36ff1c22b8a2cc1ab0292fa7f9de8672",
     "grade": false,
     "grade_id": "cell-3363ef5dcb1be0f5",
     "locked": true,
     "schema_version": 3,
     "solution": false,
     "task": false
    },
    "slideshow": {
     "slide_type": "skip"
    },
    "tags": []
   },
   "outputs": [],
   "source": [
    "options(repr.plot.width=8, repr.plot.height=6)\n",
    "library(broom)\n",
    "install.packages(\"latex2exp\")\n",
    "library(latex2exp)\n",
    "library(tidyverse)\n",
    "library(tidymodels)\n",
    "library(repr)\n",
    "library(gridExtra)\n",
    "library(faraway)\n",
    "library(mltools)\n",
    "library(leaps)\n",
    "library(glmnet)\n",
    "library(cowplot)\n",
    "source(\"tests_worksheet_09.R\")\n",
    "\n",
    "dat <- read.csv(\"data/Assessment_2015.csv\")\n",
    "dat <- dat %>% filter(ASSESSCLAS==\"Residential\")  %>% \n",
    "        mutate(assess_val = ASSESSMENT / 1000)"
   ]
  },
  {
   "cell_type": "markdown",
   "metadata": {
    "deletable": false,
    "editable": false,
    "nbgrader": {
     "cell_type": "markdown",
     "checksum": "e97406c97d66e0b31fb2edc6462e549c",
     "grade": false,
     "grade_id": "cell-987637027a073fc9",
     "locked": true,
     "schema_version": 3,
     "solution": false,
     "task": false
    }
   },
   "source": [
    "#### NOTE 1: re-scaling ASSESSMENT\n",
    "\n",
    "The variable `ASSESSMENT` was divided by 1000 to work with smaller numbers. The transformed values are stored in `assess_val` and are used as the response variable. \n",
    "\n",
    "#### NOTE 2: population parameters\n",
    "\n",
    "Unless we work with a simulated dataset, the true population parameters are *unknown*. Instead of simulating data and *just* to illustrate concepts, we'll use all the residencies in the dataset to obtain a LR and pretend that this is the *population* line.\n",
    "\n",
    "> **NOTE**: this is not done in a real data analysis!\n",
    "\n",
    "We'll use a random sample to estimate the true LR and use it to predict"
   ]
  },
  {
   "cell_type": "code",
   "execution_count": null,
   "metadata": {
    "deletable": false,
    "editable": false,
    "nbgrader": {
     "cell_type": "code",
     "checksum": "43e8b120bc86b62d7e520eae5978f9c3",
     "grade": false,
     "grade_id": "cell-ded6505b2204daba",
     "locked": true,
     "schema_version": 3,
     "solution": false,
     "task": false
    },
    "tags": []
   },
   "outputs": [],
   "source": [
    "# A smaller sample\n",
    "set.seed(561)\n",
    "dat_s <- sample_n(dat, 100, replace = FALSE)"
   ]
  },
  {
   "cell_type": "code",
   "execution_count": null,
   "metadata": {
    "deletable": false,
    "editable": false,
    "nbgrader": {
     "cell_type": "code",
     "checksum": "2f26e46543316224dafc7a75f375a91b",
     "grade": false,
     "grade_id": "cell-e2c0b2606548c5f4",
     "locked": true,
     "schema_version": 3,
     "solution": false,
     "task": false
    },
    "tags": []
   },
   "outputs": [],
   "source": [
    "lm_p <- lm(assess_val ~ BLDG_METRE, dat)\n",
    "lm_s <- lm(assess_val ~ BLDG_METRE, dat_s)\n",
    "\n",
    "tidy(lm_s)  %>% mutate_if(is.numeric, round, 3)"
   ]
  },
  {
   "cell_type": "code",
   "execution_count": null,
   "metadata": {
    "deletable": false,
    "editable": false,
    "nbgrader": {
     "cell_type": "code",
     "checksum": "15d04b4f4dba213469886e9a7841999a",
     "grade": false,
     "grade_id": "cell-c0e582aa6d451053",
     "locked": true,
     "schema_version": 3,
     "solution": false,
     "task": false
    }
   },
   "outputs": [],
   "source": [
    "cols <- c(\"Population\"=\"#f04546\",\"LS Estimate\"=\"#3591d1\")\n",
    "\n",
    "plot_sample <- ggplot(data=dat_s,aes(BLDG_METRE, assess_val)) + \n",
    "  xlab(\"building size (mts)\")+ \n",
    "  ylab(\"assessed value ($/1000)\") +\n",
    "  xlim(50,450)+\n",
    "  geom_point(aes(BLDG_METRE, assess_val), color=\"grey\")"
   ]
  },
  {
   "cell_type": "markdown",
   "metadata": {
    "deletable": false,
    "editable": false,
    "nbgrader": {
     "cell_type": "markdown",
     "checksum": "224135a86f62d26eee922e5bbdda5a99",
     "grade": false,
     "grade_id": "cell-68940463627e0ff3",
     "locked": true,
     "schema_version": 3,
     "solution": false,
     "task": false
    }
   },
   "source": [
    "### Prediction of the assessed value of a house in Strathcona\n",
    "\n",
    "The assessed value of a random house in Strathcona can be modelled as the average assessed value of a house with similar characteristics plus some random error\n",
    "\n",
    "Mathematically:\n",
    "\n",
    "$$Y_i = E[Y_i|X_{i}] + \\varepsilon_i$$\n",
    "\n",
    "> a random residence won't have a value exactly equal to the average population value of residencies of the same size, some has higher values and others have lower values \n",
    "\n",
    "In addition, we have assumed that the conditional expectation is linear. Then,\n",
    "\n",
    "<font color=red> $$ E[Y_i|X_{i}] = \\beta_0 + \\beta_1 X_{i}$$ </font>"
   ]
  },
  {
   "cell_type": "markdown",
   "metadata": {
    "deletable": false,
    "editable": false,
    "nbgrader": {
     "cell_type": "markdown",
     "checksum": "e58f521db3a577f0a7a1eaad27c3eedc",
     "grade": false,
     "grade_id": "cell-a38b45df8fd40683",
     "locked": true,
     "schema_version": 3,
     "solution": false,
     "task": false
    }
   },
   "source": [
    "Since we are pretending that we know this population line, we can plot it\n",
    "\n",
    "> **NOTE**: recall that in practice this line is *unknown*"
   ]
  },
  {
   "cell_type": "code",
   "execution_count": null,
   "metadata": {
    "deletable": false,
    "editable": false,
    "nbgrader": {
     "cell_type": "code",
     "checksum": "05d42779e78232e75561b040ccd7e12c",
     "grade": false,
     "grade_id": "cell-d5c4a34c9107d0b6",
     "locked": true,
     "schema_version": 3,
     "solution": false,
     "task": false
    }
   },
   "outputs": [],
   "source": [
    "plot_expect <- plot_sample +\n",
    "    geom_segment(x = 251, y = predict(lm_p,data.frame(BLDG_METRE = 251)),xend = 251,yend = 534, linetype = \"dashed\")+\n",
    "    geom_point(aes(x = 251,y = 534), color = \"black\", size = 3)+\n",
    "    geom_text(aes(x = 251,y = 490,label = TeX(r\"($y_i$)\", output = \"character\")), size = 5,parse = TRUE)+\n",
    "    geom_point(aes(x = 251,y = predict(lm_p,data.frame(BLDG_METRE=251))),color = \"red\", size = 3)+  \n",
    "    geom_text(aes(x = 280,y = 730,label = TeX(r\"($E(Y_i|X_i)$)\", output = \"character\")), color = \"red\", size = 5,parse = TRUE)+\n",
    "    geom_text(aes(x = 265,y = 600,label = TeX(r\"($e_i$)\", output = \"character\")), size = 5,parse = TRUE)+\n",
    "    geom_smooth(data = dat,aes(BLDG_METRE, assess_val, color = \"Population\"),method = lm, \n",
    "                linetype = 2, se = FALSE, fullrange=TRUE)+\n",
    "    scale_colour_manual(name=\"SLR\",values=cols)"
   ]
  },
  {
   "cell_type": "code",
   "execution_count": null,
   "metadata": {
    "deletable": false,
    "editable": false,
    "nbgrader": {
     "cell_type": "code",
     "checksum": "8a7e918ebe12a6af7ce857c335127c34",
     "grade": false,
     "grade_id": "cell-fd72d3ae0e23d393",
     "locked": true,
     "schema_version": 3,
     "solution": false,
     "task": false
    }
   },
   "outputs": [],
   "source": [
    "plot_expect"
   ]
  },
  {
   "cell_type": "markdown",
   "metadata": {
    "deletable": false,
    "editable": false,
    "nbgrader": {
     "cell_type": "markdown",
     "checksum": "6c9ae942453b220e33a6cf900a5c83ac",
     "grade": false,
     "grade_id": "cell-3553d89a222dad9f",
     "locked": true,
     "schema_version": 3,
     "solution": false,
     "task": false
    }
   },
   "source": [
    "#### Estimated Linear Regression:\n",
    "\n",
    "In practice, we use the random sample to estimate the regression line !\n",
    "\n",
    "> Based on a random sample of houses from Strathcona, we estimate the relation between the assessed value  of a house and its size. We use the estimated relation to predict the value of any house in the county\n",
    "\n",
    " Then we can use the <font color=blue> estimated LR (blue line) </font> to predict.\n",
    "\n",
    "The prediction of the $i$-th observation is given by:\n",
    "\n",
    "<font color=blue> $$ \\hat{Y}_i = \\hat{\\beta}_0 + \\hat{\\beta}_1 X_{i} $$"
   ]
  },
  {
   "cell_type": "code",
   "execution_count": null,
   "metadata": {
    "deletable": false,
    "editable": false,
    "nbgrader": {
     "cell_type": "code",
     "checksum": "506286cdf161e8dd9b1273fd717457bb",
     "grade": false,
     "grade_id": "cell-536d2524f5c04a81",
     "locked": true,
     "schema_version": 3,
     "solution": false,
     "task": false
    }
   },
   "outputs": [],
   "source": [
    "plot_ls <- plot_expect +    \n",
    "    geom_smooth(data = dat_s,aes(BLDG_METRE, assess_val, color=\"LS Estimate\"),method=lm, se = FALSE,fullrange=TRUE)+\n",
    "    geom_point(aes(x=251,y=predict(lm_s,data.frame(BLDG_METRE=251))), color=\"blue\", size=3)+\n",
    "    geom_text(aes(x=251,y=predict(lm_s,data.frame(BLDG_METRE=251))+50,label=TeX(r\"($\\hat{y}_i$)\", output = \"character\")), color=\"blue\", size=5,parse = TRUE)"
   ]
  },
  {
   "cell_type": "code",
   "execution_count": null,
   "metadata": {
    "deletable": false,
    "editable": false,
    "nbgrader": {
     "cell_type": "code",
     "checksum": "36ae6eafe7df6fce4add99e92285d4d3",
     "grade": false,
     "grade_id": "cell-4b58e81ee20a8a60",
     "locked": true,
     "schema_version": 3,
     "solution": false,
     "task": false
    }
   },
   "outputs": [],
   "source": [
    "plot_ls"
   ]
  },
  {
   "cell_type": "markdown",
   "metadata": {
    "deletable": false,
    "editable": false,
    "nbgrader": {
     "cell_type": "markdown",
     "checksum": "edb9af0cdb68b22bcb44f26cf16095b7",
     "grade": false,
     "grade_id": "cell-a9e283dc646b9ee6",
     "locked": true,
     "schema_version": 3,
     "solution": false,
     "task": false
    }
   },
   "source": [
    "### What do we want to predict with <font color=blue> $\\hat{Y}_i$ </font>?\n",
    "\n",
    "- **(A)** the *average* assessed value of a house of *this size*: <font color=red> $E[Y_i|X_i]$ </font>\n",
    "\n",
    "- **(B)** the *actual* value of a house of *this size*: $Y_i$ (knowing its size $X_i$)\n",
    "\n",
    "#### Note that we predict both with *uncertainty*!! \n",
    "\n",
    "> Which one do you think is more difficult to predict??"
   ]
  },
  {
   "cell_type": "markdown",
   "metadata": {
    "deletable": false,
    "editable": false,
    "nbgrader": {
     "cell_type": "markdown",
     "checksum": "e01d560a6b2078d1e302793ed4de659a",
     "grade": false,
     "grade_id": "cell-5f12fdc1d66cc358",
     "locked": true,
     "schema_version": 3,
     "solution": false,
     "task": false
    }
   },
   "source": [
    "### Intervals to describe uncertainty"
   ]
  },
  {
   "cell_type": "markdown",
   "metadata": {
    "deletable": false,
    "editable": false,
    "nbgrader": {
     "cell_type": "markdown",
     "checksum": "75cc2aab43886bce3b1ebc6b2f9a44f6",
     "grade": false,
     "grade_id": "cell-2a551d2c94abb365",
     "locked": true,
     "schema_version": 3,
     "solution": false,
     "task": false
    }
   },
   "source": [
    "#### (A) Confidence Intervals for Prediction (CIP)\n",
    "\n",
    "The uncertainty comes from the estimation \n",
    "\n",
    "> only 1 sources of variation!\n",
    "\n",
    "The predicted value <font color=blue> $ \\hat{Y}_i = \\hat{\\beta}_0 + \\hat{\\beta}_1 X_{i}$ </font> approximates, with uncertainty, the <font color=red> population $ E[Y_i| X_{i}] = \\beta_0 + \\beta_1 X_{i}$ </font>\n",
    "\n",
    "> because the estimated coefficients <font color=blue> $\\hat{\\beta}_0$ and $\\hat{\\beta}_1$ </font> are estimates, *approximations*, of the true population coefficients <font color=red> $\\beta_0$ and $\\beta_1$ </font>, respectively\n",
    "\n",
    "> if we take a different sample, we get: different estimates, different blue lines, and different predictions!"
   ]
  },
  {
   "cell_type": "markdown",
   "metadata": {
    "deletable": false,
    "editable": false,
    "nbgrader": {
     "cell_type": "markdown",
     "checksum": "549de405fac9d4545c1c432bc8f035f6",
     "grade": false,
     "grade_id": "cell-1dfe3556fad4bc5e",
     "locked": true,
     "schema_version": 3,
     "solution": false,
     "task": false
    }
   },
   "source": [
    "#### A **95% confidence interval for prediction** is a range that with 95% probability contains the *average* value of a house of *this size* \n",
    "\n",
    "> note that once we have estimated values and a numerical range based on the sample we use the word \"confidence\" (instead of \"probability\") since nothing else is random"
   ]
  },
  {
   "cell_type": "markdown",
   "metadata": {
    "deletable": false,
    "editable": false,
    "nbgrader": {
     "cell_type": "markdown",
     "checksum": "570873a5274efa95da60fa81d438ac6e",
     "grade": false,
     "grade_id": "cell-cc9483f6f41a9eea",
     "locked": true,
     "schema_version": 3,
     "solution": false,
     "task": false
    }
   },
   "source": [
    "**A quick look at data**\n",
    "\n",
    "Using the sample `dat_s`, let's compute 95% confidence intervals for prediction using the function `predict`. \n",
    "\n",
    "- Create a dataframe, called `dat_cip`, that contains the response, the input, the predictions using `lm_s`, and the lower and upper bounds of the intervals for *each* observation\n",
    "\n",
    "> each row corresponds to one (in-sample) prediction and its confidence interval"
   ]
  },
  {
   "cell_type": "code",
   "execution_count": null,
   "metadata": {
    "deletable": false,
    "editable": false,
    "nbgrader": {
     "cell_type": "code",
     "checksum": "1690d738ae6a56f656002760f264e056",
     "grade": false,
     "grade_id": "cell-17c0b8c272a33e9f",
     "locked": true,
     "schema_version": 3,
     "solution": false,
     "task": false
    },
    "slideshow": {
     "slide_type": "slide"
    }
   },
   "outputs": [],
   "source": [
    "dat_cip <- dat_s  %>% \n",
    "    select(assess_val,BLDG_METRE) %>% \n",
    "    cbind(predict(lm_s,interval=\"confidence\",se.fit=TRUE)$fit)"
   ]
  },
  {
   "cell_type": "code",
   "execution_count": null,
   "metadata": {
    "deletable": false,
    "editable": false,
    "nbgrader": {
     "cell_type": "code",
     "checksum": "0447a46a8ef7e3043553faacdb0d0dd1",
     "grade": false,
     "grade_id": "cell-d43539fbcdb32a75",
     "locked": true,
     "schema_version": 3,
     "solution": false,
     "task": false
    }
   },
   "outputs": [],
   "source": [
    "head(dat_cip,3)"
   ]
  },
  {
   "cell_type": "markdown",
   "metadata": {
    "deletable": false,
    "editable": false,
    "nbgrader": {
     "cell_type": "markdown",
     "checksum": "d22c2ec24f54391f72eec11645301f72",
     "grade": false,
     "grade_id": "cell-bb887c8569f536c9",
     "locked": true,
     "schema_version": 3,
     "solution": false,
     "task": false
    }
   },
   "source": [
    "#### Interpretation:\n",
    "\n",
    "*Row 1*: with 95% confidence, the *expected* value of a house of size 220 mts is between \\\\$671944 and \\\\$748198 (rounded)"
   ]
  },
  {
   "cell_type": "markdown",
   "metadata": {
    "deletable": false,
    "editable": false,
    "nbgrader": {
     "cell_type": "markdown",
     "checksum": "7983c9bae87f810f9180993fce67d55e",
     "grade": false,
     "grade_id": "cell-db0180cfb57e36af",
     "locked": true,
     "schema_version": 3,
     "solution": false,
     "task": false
    }
   },
   "source": [
    "#### Visualization"
   ]
  },
  {
   "cell_type": "code",
   "execution_count": null,
   "metadata": {
    "deletable": false,
    "editable": false,
    "nbgrader": {
     "cell_type": "code",
     "checksum": "669016dbba14c4db3cac73e3670cf481",
     "grade": false,
     "grade_id": "cell-569e309f8224c11e",
     "locked": true,
     "schema_version": 3,
     "solution": false,
     "task": false
    }
   },
   "outputs": [],
   "source": [
    "ggplot(data=dat_s,aes(BLDG_METRE, assess_val)) + \n",
    "        xlab(\"building size (mts)\")+ \n",
    "        ylab(\"assessed value ($/1000)\") +\n",
    "        xlim(50,450)+ \n",
    "        geom_smooth(data = dat,aes(BLDG_METRE, assess_val, color=\"Population\"),method=lm, se = FALSE,fullrange=TRUE)+\n",
    "        geom_smooth(data = dat_s,aes(BLDG_METRE, assess_val, color=\"LS Estimate\"),method=lm, se = TRUE,fullrange=TRUE)+\n",
    "        scale_colour_manual(name=\"SLR\",values=cols)"
   ]
  },
  {
   "cell_type": "markdown",
   "metadata": {
    "deletable": false,
    "editable": false,
    "nbgrader": {
     "cell_type": "markdown",
     "checksum": "70f0de96615fe5d6b17f3583a7790b94",
     "grade": false,
     "grade_id": "cell-dd59cc5d41966b48",
     "locked": true,
     "schema_version": 3,
     "solution": false,
     "task": false
    }
   },
   "source": [
    "**Question 1.0** \n",
    "{points: 1}\n",
    "\n",
    "Using the sample `dat_s`, compute 90% confidence intervals for prediction. Create a dataframe, called `dat_cip_90`, that contains the response, the input, the predictions using `lm_s`, and the lower and upper bounds of the intervals for each observation. Columns in your dataframe should be in this order.\n",
    "\n",
    "*Fill out those parts indicated with `...`, uncomment the corresponding code in the cell below, and run it.*"
   ]
  },
  {
   "cell_type": "code",
   "execution_count": null,
   "metadata": {
    "deletable": false,
    "nbgrader": {
     "cell_type": "code",
     "checksum": "56230319b351cfd7de5c43aaf8691d84",
     "grade": false,
     "grade_id": "cell-4a11e2a9a809fa15",
     "locked": false,
     "schema_version": 3,
     "solution": true,
     "task": false
    },
    "slideshow": {
     "slide_type": "slide"
    }
   },
   "outputs": [],
   "source": [
    "# dat_cip_90 <- ...  %>% \n",
    "#    select(...,...) %>% \n",
    "#    cbind(...(..., interval = \"...\", level = ..., se.fit=TRUE)$fit)\n",
    "\n",
    "# head(dat_cip_90)\n",
    "# your code here\n",
    "fail() # No Answer - remove if you provide an answer"
   ]
  },
  {
   "cell_type": "code",
   "execution_count": null,
   "metadata": {
    "deletable": false,
    "editable": false,
    "nbgrader": {
     "cell_type": "code",
     "checksum": "b1c0d3d532f6c22ce858034dd8f18d76",
     "grade": true,
     "grade_id": "cell-5e7d32fc59cedd6a",
     "locked": true,
     "points": 1,
     "schema_version": 3,
     "solution": false,
     "task": false
    }
   },
   "outputs": [],
   "source": [
    "test_1.0()"
   ]
  },
  {
   "cell_type": "markdown",
   "metadata": {
    "deletable": false,
    "editable": false,
    "nbgrader": {
     "cell_type": "markdown",
     "checksum": "cedc2eb8cf66877bc48daf74b4fd16cb",
     "grade": false,
     "grade_id": "cell-d8d9ff2c6afb130d",
     "locked": true,
     "schema_version": 3,
     "solution": false,
     "task": false
    }
   },
   "source": [
    "**Question 1.1** \n",
    "{points: 1}\n",
    "\n",
    "Based on the output `dat_cip_90`, which of the following claims is correct?\n",
    "\n",
    "**A.** with 90% confidence, the *expected* value of a house of size 97 mts is between \\\\$301274 and \\\\$363407 (rounded) \n",
    "\n",
    "**B.** with 90% confidence, the value of a house of size 97 mts is between \\\\$301274 and \\\\$363407 (rounded) \n",
    "\n",
    "\n",
    "**C.** with 90% confidence, the *expected* value of a house of size 97 mts is between \\\\$678167 and \\\\$741974 (rounded) \n",
    "\n",
    "\n",
    "**D.** with 90% confidence, the *expected* value of any house is between \\\\$678167 and \\\\$741974 (rounded) \n",
    "\n",
    "\n",
    "*Assign your answer to an object called `answer1.1`. Your answer should be one of `\"A\"`, `\"B\"`, `\"C\"`, or `\"D\"` surrounded by quotes. *"
   ]
  },
  {
   "cell_type": "code",
   "execution_count": null,
   "metadata": {
    "deletable": false,
    "nbgrader": {
     "cell_type": "code",
     "checksum": "8ebb566f19cdbbc14d5797c71e630a10",
     "grade": false,
     "grade_id": "cell-a00893a2d010e32a",
     "locked": false,
     "schema_version": 3,
     "solution": true,
     "task": false
    }
   },
   "outputs": [],
   "source": [
    "# answer1.1 <- \n",
    "\n",
    "# your code here\n",
    "fail() # No Answer - remove if you provide an answer"
   ]
  },
  {
   "cell_type": "code",
   "execution_count": null,
   "metadata": {
    "deletable": false,
    "editable": false,
    "nbgrader": {
     "cell_type": "code",
     "checksum": "f6372a7e4720999194d16f764d001bc0",
     "grade": true,
     "grade_id": "cell-1305aba3b4830400",
     "locked": true,
     "points": 1,
     "schema_version": 3,
     "solution": false,
     "task": false
    }
   },
   "outputs": [],
   "source": [
    "test_1.1()"
   ]
  },
  {
   "cell_type": "markdown",
   "metadata": {
    "deletable": false,
    "editable": false,
    "nbgrader": {
     "cell_type": "markdown",
     "checksum": "8720eca84ddd6b9ffdc5450da9336a26",
     "grade": false,
     "grade_id": "cell-3fdcd17d46c25efa",
     "locked": true,
     "schema_version": 3,
     "solution": false,
     "task": false
    }
   },
   "source": [
    "**Question 1.2** \n",
    "{points: 1}\n",
    "\n",
    "True or false?\n",
    "\n",
    "Based on the outputs `dat_cip_90` and `dat_cip`, CIP are centered at the fitted value  <font color=blue>$\\hat{Y}_i$ </font>\n",
    "\n",
    "*Assign your answer to an object called `answer1.2`. Your answer should be either `\"true\"` or `\"false\"`, surrounded by quotes.*"
   ]
  },
  {
   "cell_type": "code",
   "execution_count": null,
   "metadata": {
    "deletable": false,
    "nbgrader": {
     "cell_type": "code",
     "checksum": "aa61354aaf212b18dc0c27e369bb4484",
     "grade": false,
     "grade_id": "cell-cea820eb6b462663",
     "locked": false,
     "schema_version": 3,
     "solution": true,
     "task": false
    }
   },
   "outputs": [],
   "source": [
    "# answer1.2 <- \n",
    "\n",
    "# your code here\n",
    "fail() # No Answer - remove if you provide an answer"
   ]
  },
  {
   "cell_type": "code",
   "execution_count": null,
   "metadata": {
    "deletable": false,
    "editable": false,
    "nbgrader": {
     "cell_type": "code",
     "checksum": "314699f8086eef20bd7eab7daea81d22",
     "grade": true,
     "grade_id": "cell-29dd9eb47eb77962",
     "locked": true,
     "points": 1,
     "schema_version": 3,
     "solution": false,
     "task": false
    }
   },
   "outputs": [],
   "source": [
    "test_1.2()"
   ]
  },
  {
   "cell_type": "markdown",
   "metadata": {
    "deletable": false,
    "editable": false,
    "nbgrader": {
     "cell_type": "markdown",
     "checksum": "78649ea1cb6a79675d9b060b44f661ef",
     "grade": false,
     "grade_id": "cell-600f2c6e91c98ed5",
     "locked": true,
     "schema_version": 3,
     "solution": false,
     "task": false
    }
   },
   "source": [
    "**Question 1.3** \n",
    "{points: 1}\n",
    "\n",
    "True or false?\n",
    "\n",
    "The 90% confidence intervals for prediction are wider than the 95% confidence intervals for prediction\n",
    "\n",
    "*Assign your answer to an object called `answer1.3`. Your answer should be either `\"true\"` or `\"false\"`, surrounded by quotes.*"
   ]
  },
  {
   "cell_type": "code",
   "execution_count": null,
   "metadata": {
    "deletable": false,
    "nbgrader": {
     "cell_type": "code",
     "checksum": "3af77b3f20ce5ca18f6493d064e8ac4d",
     "grade": false,
     "grade_id": "cell-b74a9de088fc7b1c",
     "locked": false,
     "schema_version": 3,
     "solution": true,
     "task": false
    }
   },
   "outputs": [],
   "source": [
    "# answer1.3 <- \n",
    "\n",
    "# your code here\n",
    "fail() # No Answer - remove if you provide an answer"
   ]
  },
  {
   "cell_type": "code",
   "execution_count": null,
   "metadata": {
    "deletable": false,
    "editable": false,
    "nbgrader": {
     "cell_type": "code",
     "checksum": "3c9c5917084b482ecdc04fd0c78eddf5",
     "grade": true,
     "grade_id": "cell-7217e749f0e1d9b8",
     "locked": true,
     "points": 1,
     "schema_version": 3,
     "solution": false,
     "task": false
    }
   },
   "outputs": [],
   "source": [
    "test_1.3()"
   ]
  },
  {
   "cell_type": "markdown",
   "metadata": {
    "deletable": false,
    "editable": false,
    "nbgrader": {
     "cell_type": "markdown",
     "checksum": "b51d2e89bf252954f20e42167bba4bdf",
     "grade": false,
     "grade_id": "cell-51c7bb13e6dedae8",
     "locked": true,
     "schema_version": 3,
     "solution": false,
     "task": false
    }
   },
   "source": [
    "#### (B) Prediction Intervals (PI)"
   ]
  },
  {
   "cell_type": "markdown",
   "metadata": {
    "deletable": false,
    "editable": false,
    "nbgrader": {
     "cell_type": "markdown",
     "checksum": "d139e6d23c2a8f3a2131bc954737af39",
     "grade": false,
     "grade_id": "cell-21e19da17bc59006",
     "locked": true,
     "schema_version": 3,
     "solution": false,
     "task": false
    }
   },
   "source": [
    "The predicted value <font color=blue> $ \\hat{Y}_i = \\hat{\\beta}_0 + \\hat{\\beta}_1 X_{i}$ </font> also approximates, with uncertainty, an actual observation $ Y_i = \\beta_0 + \\beta_1 X_{i} + \\varepsilon_i$\n",
    "\n",
    "The uncertainty comes from the estimation and from the error term that generates the data!\n",
    "\n",
    "> 2 sources of variation! more uncertainty!!\n",
    "\n",
    "> **uncertainty 1**: because the estimated value <font color=blue> $\\hat{\\beta}_0 + \\hat{\\beta}_1 X_i$ </font> *approximates* the average (population) value $\\beta_0 + \\beta_1 X_i$ \n",
    "\n",
    "> **uncertainty 2**: because the actual observation $Y_i$ differs from the average (population) value by an error $\\varepsilon_i$\n",
    "\n",
    "- PI are centered at the fitted value  <font color=blue>$\\hat{Y}_i$</font>, but they are wider than the CIP (more uncertainty)!\n",
    "\n",
    "\n",
    "> classical intervals are based on the $t$-distribution (we omit details)"
   ]
  },
  {
   "cell_type": "markdown",
   "metadata": {
    "deletable": false,
    "editable": false,
    "nbgrader": {
     "cell_type": "markdown",
     "checksum": "0523b883663d2ef3bef2b31637c463a9",
     "grade": false,
     "grade_id": "cell-fd600e8d3f5fbec5",
     "locked": true,
     "schema_version": 3,
     "solution": false,
     "task": false
    }
   },
   "source": [
    "#### **A 95% prediction interval** is a range that with  95% probability contains the *actual value* of a house of *this size* \n",
    "\n",
    "> as mentioned before, for a particular interval based on an *observed* random sample, we replace \"probability\" by \"confidence\""
   ]
  },
  {
   "cell_type": "markdown",
   "metadata": {
    "deletable": false,
    "editable": false,
    "nbgrader": {
     "cell_type": "markdown",
     "checksum": "2840afb79fd2579f099d94fb23475a05",
     "grade": false,
     "grade_id": "cell-eea8d815c63add87",
     "locked": true,
     "schema_version": 3,
     "solution": false,
     "task": false
    }
   },
   "source": [
    "**A quick look at data**\n",
    "\n",
    "> each row corresponds to one (in-sample) prediction and its confidence interval"
   ]
  },
  {
   "cell_type": "code",
   "execution_count": null,
   "metadata": {
    "deletable": false,
    "editable": false,
    "nbgrader": {
     "cell_type": "code",
     "checksum": "c95b573c94ba46ea11f820ad4dfc4ab0",
     "grade": false,
     "grade_id": "cell-d8ed4230865f4b11",
     "locked": true,
     "schema_version": 3,
     "solution": false,
     "task": false
    },
    "slideshow": {
     "slide_type": "slide"
    }
   },
   "outputs": [],
   "source": [
    "dat_pi <- dat_s  %>% \n",
    "    select(assess_val,BLDG_METRE) %>% \n",
    "    cbind(predict(lm_s,interval=\"prediction\"))"
   ]
  },
  {
   "cell_type": "code",
   "execution_count": null,
   "metadata": {
    "deletable": false,
    "editable": false,
    "nbgrader": {
     "cell_type": "code",
     "checksum": "a59cb80a72326db8851dd49f8c6867ba",
     "grade": false,
     "grade_id": "cell-e1aba24b87523763",
     "locked": true,
     "schema_version": 3,
     "solution": false,
     "task": false
    }
   },
   "outputs": [],
   "source": [
    "head(dat_pi,3)"
   ]
  },
  {
   "cell_type": "markdown",
   "metadata": {
    "deletable": false,
    "editable": false,
    "nbgrader": {
     "cell_type": "markdown",
     "checksum": "5efe6c962070bc91a408880a58e0ae77",
     "grade": false,
     "grade_id": "cell-497c1bb723ea7d5c",
     "locked": true,
     "schema_version": 3,
     "solution": false,
     "task": false
    }
   },
   "source": [
    "#### Interpretation:\n",
    "\n",
    "*Row 1*: with 95% confidence, the value of a house of size 220 mts is between \\\\$454519 and \\\\$965622 (rounded)"
   ]
  },
  {
   "cell_type": "markdown",
   "metadata": {
    "deletable": false,
    "editable": false,
    "nbgrader": {
     "cell_type": "markdown",
     "checksum": "0be9d9890853e0b860929f1bf61a46de",
     "grade": false,
     "grade_id": "cell-44aded3f5798da84",
     "locked": true,
     "schema_version": 3,
     "solution": false,
     "task": false
    }
   },
   "source": [
    "**Question 1.4** \n",
    "{points: 1}\n",
    "\n",
    "Let's use the results in `dat_cip` and `dat_pi` to corroborate that the prediction intervals are wider than the confidence intervals for prediction.\n",
    "\n",
    "*Fill out those parts indicated with `...`, uncomment the corresponding code in the cell below, and run it.*"
   ]
  },
  {
   "cell_type": "code",
   "execution_count": null,
   "metadata": {
    "deletable": false,
    "nbgrader": {
     "cell_type": "code",
     "checksum": "5cf6da55c0ff7afef8a6ab02debc1f40",
     "grade": false,
     "grade_id": "cell-90a108fa8cd1df19",
     "locked": false,
     "schema_version": 3,
     "solution": true,
     "task": false
    }
   },
   "outputs": [],
   "source": [
    "# cipWider <- sum((...$lwr - ...$lwr) > 0) == nrow(...)\n",
    "# piWider <- sum((...$upr - ...$upr) > 0) == nrow(...)\n",
    "\n",
    "\n",
    "# your code here\n",
    "fail() # No Answer - remove if you provide an answer"
   ]
  },
  {
   "cell_type": "code",
   "execution_count": null,
   "metadata": {
    "deletable": false,
    "editable": false,
    "nbgrader": {
     "cell_type": "code",
     "checksum": "842a3a423618dc4591ef48d5973ffddc",
     "grade": true,
     "grade_id": "cell-d2c259279d279ada",
     "locked": true,
     "points": 1,
     "schema_version": 3,
     "solution": false,
     "task": false
    }
   },
   "outputs": [],
   "source": [
    "test_1.4()"
   ]
  },
  {
   "cell_type": "markdown",
   "metadata": {
    "deletable": false,
    "editable": false,
    "nbgrader": {
     "cell_type": "markdown",
     "checksum": "0a3d2add0a5d193e829f5ec961e0f275",
     "grade": false,
     "grade_id": "cell-40d35493a2960b93",
     "locked": true,
     "schema_version": 3,
     "solution": false,
     "task": false
    }
   },
   "source": [
    "## Conclusions Part I: Prediction uncertainty\n",
    "\n",
    "- Confidence intervals for prediction account for the uncertainty given by the estimated LR to predict the conditional expectation of the response\n",
    "\n",
    "\n",
    "- Prediction intervals account for the uncertainty given by the estimated LR to predict the conditional expectation of the response, *plus* the error that generates the data! \n",
    "\n",
    "\n",
    "- PI are wider than CIP, both are centered at the fitted value!"
   ]
  },
  {
   "cell_type": "markdown",
   "metadata": {
    "deletable": false,
    "editable": false,
    "nbgrader": {
     "cell_type": "markdown",
     "checksum": "f730873d9311f0ffd014620bdb804e87",
     "grade": false,
     "grade_id": "cell-ed7d0d5863057855",
     "locked": true,
     "schema_version": 3,
     "solution": false,
     "task": false
    },
    "tags": []
   },
   "source": [
    "![](https://github.com/UBC-STAT/stat-301/blob/master/supplementary-material/img/pred_error.png?raw=true)"
   ]
  },
  {
   "cell_type": "markdown",
   "metadata": {
    "deletable": false,
    "editable": false,
    "nbgrader": {
     "cell_type": "markdown",
     "checksum": "26446dc2d989057d66ca7562104cd30b",
     "grade": false,
     "grade_id": "cell-9b8b52ce313503af",
     "locked": true,
     "schema_version": 3,
     "solution": false,
     "task": false
    }
   },
   "source": [
    "# PART II: Model Selection"
   ]
  },
  {
   "cell_type": "markdown",
   "metadata": {
    "deletable": false,
    "editable": false,
    "nbgrader": {
     "cell_type": "markdown",
     "checksum": "4796312340e3d58c755fae7122cbb8b7",
     "grade": false,
     "grade_id": "cell-f968abd3ee677d53",
     "locked": true,
     "schema_version": 3,
     "solution": false,
     "task": false
    }
   },
   "source": [
    "#### Do we need all the available input variables in the model?\n",
    "\n",
    "<font color=\"blue\">**This week we will focus on selecting a subset of variable to be included in the model**</font>\n",
    "\n",
    "Some datasets contain *many* variables but not all are relevant\n",
    "\n",
    "> you may want to identify the *most relevant* variables to build a model\n",
    "\n",
    "But again: \n",
    "    \n",
    "#### <font color=red>  What is your goal??\n",
    "    \n",
    "> inference vs prediction\n",
    "    \n",
    "To decide if a variable (or set of variables) is relevant or not we need to choose an evaluation metric\n",
    "    \n",
    "As we discussed last week, the evaluation metric used depends on the goal of the analysis!!"
   ]
  },
  {
   "cell_type": "markdown",
   "metadata": {
    "deletable": false,
    "editable": false,
    "nbgrader": {
     "cell_type": "markdown",
     "checksum": "e1bbc82127ec6d13e88c25891b3ddcc2",
     "grade": false,
     "grade_id": "cell-f47e7121e611c1e7",
     "locked": true,
     "schema_version": 3,
     "solution": false,
     "task": false
    }
   },
   "source": [
    "## 2. Variable selection for generative models\n",
    "\n",
    "In previous worksheets, we learned different selection and estimation methods when the goal is to *estimate and make inference about* the model that generated the data. We refered to these models as ***generative models***.\n",
    "\n",
    "For a LR with an intercept and estimated by LS:\n",
    "\n",
    "- The <font color=\"blue\">$R^2$</font>, coefficient of determination, can be used to measure the part of the variation in the response explained by the estimated model\n",
    "\n",
    "\n",
    "- The <font color=\"blue\">adjusted $R^2$</font> can be used to compare the fit of estimated models of different sizes\n",
    "\n",
    "\n",
    "- The <font color=\"blue\">MSE</font> (based on in-sample data) can be used to compare the observed values with those predicted by the estimated model  \n",
    "\n",
    "\n",
    "- These <font color=\"blue\">$F$</font> tests can be used to select variables by comparing nested models"
   ]
  },
  {
   "cell_type": "markdown",
   "metadata": {
    "deletable": false,
    "editable": false,
    "nbgrader": {
     "cell_type": "markdown",
     "checksum": "5b0ce079aa3c92dc1d26d386b189b0da",
     "grade": false,
     "grade_id": "cell-9dac937e51857aca",
     "locked": true,
     "schema_version": 3,
     "solution": false,
     "task": false
    }
   },
   "source": [
    "## 3. Variable selection for predictive models\n",
    "\n",
    "How do we evaluate the predictive performance of a model?\n",
    "\n",
    "- **Mean Squared Error**: MSE$_{\\text{test}} = \\frac{1}{n}\\sum_{i=1}^n(y_i - \\hat{y}_i)^2$\n",
    "\n",
    "> *Test MSE*: where $y_i$ are new responses from the test set and $\\hat{y}_i$ are predicted values using the LR estimated with training data\n",
    "\n",
    "- **Root Mean Squared Error**:\n",
    "\n",
    "$$\\text{RMSE}_{\\text{test}} = \\sqrt{\\frac{1}{n}\\sum_{i = 1}^n(y_i - \\hat{y}_i)^2}$$\n",
    "\n",
    " \n",
    "\n",
    "- **$R^2$**: $R^2 = cor(\\boldsymbol{y}, \\hat{\\boldsymbol{y}})$\n",
    "\n",
    "> Can we compute the $R^2$ on the test set??\n",
    "    \n",
    "Yes, as we mentioned for the MSE, the $R^2$ can be computed for new responses in a test set $y_{new}$ compared to the predicted values obtained using the trained LR, $\\hat{y}_{new}$   \n",
    "    \n",
    "> some functions compute the $R^2$ from a validation set or using cross validation (perhaps seen in other courses)   \n",
    "    \n",
    "> however, note that it is *no longer the coefficient of determination*. It measures the correlation between the true and the predicted responses *in a test set*   \n",
    "\n",
    "Some metrics, such as $C_p$, AIC and BIC, have been proposed to approximate the *test MSE* but are computed with the training set. \n",
    "\n",
    "#### You can use these measures to select variables of predictive models, even without using a test set."
   ]
  },
  {
   "cell_type": "markdown",
   "metadata": {
    "deletable": false,
    "editable": false,
    "nbgrader": {
     "cell_type": "markdown",
     "checksum": "db7749b7e65dd57bf3ee7b2c1620998c",
     "grade": false,
     "grade_id": "cell-aa844e3860a3dcbe",
     "locked": true,
     "schema_version": 3,
     "solution": false,
     "task": false
    }
   },
   "source": [
    "## Dataset\n",
    "\n",
    "In this section we will work with a real estate dataset, the [Ames `Housing` dataset](https://www.kaggle.com/c/home-data-for-ml-course/), compiled by Dean De Cock. It has 79 input variables on different characteristics of residential houses in Ames, Iowa, USA that can be used to predict the property's final price, `SalePrice`. We will use the following continuous input variables:\n",
    "\n",
    "- `LotFrontage`: Linear $\\text{ft}$ of street connected to the house.\n",
    "- `LotArea`: Lot size in $\\text{ft}^2$.\n",
    "- `MasVnrArea`: Masonry veneer area in $\\text{ft}^2$.\n",
    "- `TotalBsmtSF`: Total $\\text{ft}^2$ of basement area.\n",
    "- `GrLivArea`: Above grade (ground) living area in $\\text{ft}^2$.\n",
    "- `BsmtFullBath`: Number of full bathrooms in basement.\n",
    "- `BsmtHalfBath`: Number of half bathrooms in basement.\n",
    "- `FullBath`: Number of full bathrooms above grade.\n",
    "- `HalfBath`: Number of half bathroom above grade.\n",
    "- `BedroomAbvGr`: Number of bedrooms above grade (it does not include basement bedrooms).\n",
    "- `KitchenAbvGr`: Number of kitchens above grade.\n",
    "- `Fireplaces`: Number of fireplaces.\n",
    "- `GarageArea`: Garage's area in $\\text{ft}^2$.\n",
    "- `WoodDeckSF`: Wood deck area in $\\text{ft}^2$.\n",
    "- `OpenPorchSF`: Open porch area in $\\text{ft}^2$.\n",
    "- `EnclosedPorch`: Enclosed porch area in $\\text{ft}^2$.\n",
    "- `ScreenPorch`: Screen porch area in $\\text{ft}^2$.\n",
    "- `PoolArea`: Pool area in $\\text{ft}^2$.\n",
    "\n",
    "The following variables will be used to construct a variable `ageSold`\n",
    "- `YearBuilt`: Original construction date.\n",
    "- `YrSold`: Year sold."
   ]
  },
  {
   "cell_type": "markdown",
   "metadata": {
    "deletable": false,
    "editable": false,
    "nbgrader": {
     "cell_type": "markdown",
     "checksum": "617c92c4ab25c5405f61960f761d0810",
     "grade": false,
     "grade_id": "cell-0e57653584382931",
     "locked": true,
     "schema_version": 3,
     "solution": false,
     "task": false
    }
   },
   "source": [
    "Run this code to prepare a working dataset"
   ]
  },
  {
   "cell_type": "code",
   "execution_count": null,
   "metadata": {
    "deletable": false,
    "editable": false,
    "nbgrader": {
     "cell_type": "code",
     "checksum": "4e6d641564ec243a1ba44f738b03a936",
     "grade": false,
     "grade_id": "cell-95e16218a5e51a83",
     "locked": true,
     "schema_version": 3,
     "solution": false,
     "task": false
    },
    "tags": []
   },
   "outputs": [],
   "source": [
    "#run this cell\n",
    "Housing <- read_csv(\"data/Housing.csv\")\n",
    "\n",
    "# Use `YearBuilt` and `YrSold` to create a variable `ageSold`\n",
    "Housing$ageSold <- Housing$YrSold - Housing$YearBuilt\n",
    "\n",
    "\n",
    "# Select subset of input variables\n",
    "Housing <- Housing %>%\n",
    "  select(\n",
    "    LotFrontage, LotArea, MasVnrArea, TotalBsmtSF, \n",
    "    GrLivArea, BsmtFullBath, BsmtHalfBath, FullBath, HalfBath, BedroomAbvGr, KitchenAbvGr, Fireplaces,\n",
    "    GarageArea, WoodDeckSF, OpenPorchSF, EnclosedPorch, ScreenPorch, PoolArea, ageSold, SalePrice\n",
    "  )\n",
    "\n",
    "# Remove those rows containing `NA`s and some outliers\n",
    "Housing <- drop_na(Housing)  %>% \n",
    "            filter(LotArea < 20000)\n",
    "\n",
    "str(Housing)"
   ]
  },
  {
   "cell_type": "markdown",
   "metadata": {
    "deletable": false,
    "editable": false,
    "nbgrader": {
     "cell_type": "markdown",
     "checksum": "0c387931f6180368971c253c4936ad04",
     "grade": false,
     "grade_id": "cell-04b81214318292af",
     "locked": true,
     "schema_version": 3,
     "solution": false,
     "task": false
    },
    "tags": []
   },
   "source": [
    "We'll first split this dataset into a *training* and a *test* set using the package `tidymodels`.\n",
    "\n",
    "Run this code to split the dataset `Housing`."
   ]
  },
  {
   "cell_type": "code",
   "execution_count": null,
   "metadata": {
    "deletable": false,
    "editable": false,
    "nbgrader": {
     "cell_type": "code",
     "checksum": "d8ee20a98d76b6f30c763730c2d7b13b",
     "grade": false,
     "grade_id": "cell-7008e2fc78a22fcf",
     "locked": true,
     "schema_version": 3,
     "solution": false,
     "task": false
    },
    "tags": []
   },
   "outputs": [],
   "source": [
    "#run this cell\n",
    "set.seed(1234)\n",
    "\n",
    "Housing_split <- initial_split(Housing, prop = 0.6, strata = SalePrice)\n",
    "training_Housing <- training(Housing_split)\n",
    "testing_Housing <- testing(Housing_split)"
   ]
  },
  {
   "cell_type": "code",
   "execution_count": null,
   "metadata": {
    "deletable": false,
    "editable": false,
    "nbgrader": {
     "cell_type": "code",
     "checksum": "0a744975a854571dfee93c6257703311",
     "grade": false,
     "grade_id": "cell-ff62a9f7bb684c78",
     "locked": true,
     "schema_version": 3,
     "solution": false,
     "task": false
    },
    "tags": []
   },
   "outputs": [],
   "source": [
    "head(training_Housing, 3)\n",
    "nrow(training_Housing)"
   ]
  },
  {
   "cell_type": "code",
   "execution_count": null,
   "metadata": {
    "deletable": false,
    "editable": false,
    "nbgrader": {
     "cell_type": "code",
     "checksum": "cd34ed060ce9e17598a98c376ddb93d1",
     "grade": false,
     "grade_id": "cell-4bea34ca87ec85f2",
     "locked": true,
     "schema_version": 3,
     "solution": false,
     "task": false
    },
    "tags": []
   },
   "outputs": [],
   "source": [
    "head(testing_Housing, 3)\n",
    "nrow(testing_Housing)"
   ]
  },
  {
   "cell_type": "markdown",
   "metadata": {
    "deletable": false,
    "editable": false,
    "nbgrader": {
     "cell_type": "markdown",
     "checksum": "b63c59f140f69fca7fd4bfdaac2007e3",
     "grade": false,
     "grade_id": "cell-cfd5f798bca9908d",
     "locked": true,
     "schema_version": 3,
     "solution": false,
     "task": false
    }
   },
   "source": [
    "### Estimating a MLR and Predicting\n",
    "\n",
    "In DSCI100, you have learned how to use `tidymodels` to build a model and use it to predict. You can write your own script to perform these steps or you can use a `linear_reg` model specification with the `lm` engine in `tidymodels`. Below you will use the usual tidymodels workflow to predict each house's sale price in the test set.\n",
    "\n",
    "Run this code to fit a MLR using `tidymodels` and call it `Housing_full_tidy`."
   ]
  },
  {
   "cell_type": "code",
   "execution_count": null,
   "metadata": {
    "deletable": false,
    "editable": false,
    "nbgrader": {
     "cell_type": "code",
     "checksum": "037db158f30bcf1614add98f9270c6d3",
     "grade": false,
     "grade_id": "cell-9f38c52756dd7dfe",
     "locked": true,
     "schema_version": 3,
     "solution": false,
     "task": false
    },
    "tags": []
   },
   "outputs": [],
   "source": [
    "lm_spec <- linear_reg() %>% \n",
    "  set_engine(\"lm\") %>% \n",
    "  set_mode(\"regression\")\n",
    "\n",
    "lm_recipe <- recipe(SalePrice ~ ., data = training_Housing)\n",
    "\n",
    "Housing_full_tidy <- workflow() %>% \n",
    "  add_recipe(lm_recipe) %>% \n",
    "  add_model(lm_spec) %>% \n",
    "  fit(data = training_Housing)"
   ]
  },
  {
   "cell_type": "markdown",
   "metadata": {
    "deletable": false,
    "editable": false,
    "nbgrader": {
     "cell_type": "markdown",
     "checksum": "690ad302db9c8e93f181e935f5d5758c",
     "grade": false,
     "grade_id": "cell-55a3f1be685733c0",
     "locked": true,
     "schema_version": 3,
     "solution": false,
     "task": false
    },
    "tags": []
   },
   "source": [
    "Recall that we can extract the estimated coefficients from the workflow using the `extract_git_parsnip()` function. We then use `tidy()` to arrange them into a data frame.\n",
    "\n",
    "Run the code below to get the estimated coefficients:"
   ]
  },
  {
   "cell_type": "code",
   "execution_count": null,
   "metadata": {
    "deletable": false,
    "editable": false,
    "nbgrader": {
     "cell_type": "code",
     "checksum": "7bb99607b9392324a8cd2fd3ceb2c582",
     "grade": false,
     "grade_id": "cell-252bbfc230614233",
     "locked": true,
     "schema_version": 3,
     "solution": false,
     "task": false
    },
    "tags": []
   },
   "outputs": [],
   "source": [
    "coeffs <- Housing_full_tidy %>% \n",
    "             extract_fit_parsnip() %>% \n",
    "             tidy()\n",
    "\n",
    "coeffs"
   ]
  },
  {
   "cell_type": "markdown",
   "metadata": {
    "deletable": false,
    "editable": false,
    "nbgrader": {
     "cell_type": "markdown",
     "checksum": "1b2f0c467aaff0d9799a4faa6ff1f765",
     "grade": false,
     "grade_id": "cell-92225ba1bcfd49ec",
     "locked": true,
     "schema_version": 3,
     "solution": false,
     "task": false
    },
    "tags": []
   },
   "source": [
    "**Question 3.0**\n",
    "<br>{points: 1}\n",
    "\n",
    "Write your own code and compare the results obtained with those using `tidymodels`\n",
    "\n",
    "- Fit a MLR using data from `training_Housing`. Call the resulting object `Housing_full_OLS`\n",
    "\n",
    "- Use `tidy()` to obtain a summary table of the estimated `Housing_full_OLS`. Call it `Housing_full_OLS_results`\n",
    "\n",
    "- Use the `predict()` and `Housing_full_OLS` to obtain the **out-of-sample predictions** for `testing_Housing`. Store them as a new column in `testing_Housing` called `.pred`\n",
    "\n",
    "> **Note**: if you enter the input variables manually in `lm`, follow the order in the dataset. This is not important for results, just to pass the tests of autograding."
   ]
  },
  {
   "cell_type": "code",
   "execution_count": null,
   "metadata": {
    "deletable": false,
    "nbgrader": {
     "cell_type": "code",
     "checksum": "d5c473672b1f7e0a48717188bdcc12ab",
     "grade": false,
     "grade_id": "cell-d9c668e2b532fbc7",
     "locked": false,
     "schema_version": 3,
     "solution": true,
     "task": false
    },
    "tags": []
   },
   "outputs": [],
   "source": [
    "# Housing_full_OLS <- ...(..., data = ...)\n",
    "\n",
    "# Housing_full_OLS_results <- ...(Housing_full_OLS)\n",
    "\n",
    "# testing_Housing$.pred <- ... %>%\n",
    "#   ...(...) \n",
    "\n",
    "# Housing_full_OLS_results\n",
    "# head(testing_Housing)\n",
    "\n",
    "# your code here\n",
    "fail() # No Answer - remove if you provide an answer"
   ]
  },
  {
   "cell_type": "code",
   "execution_count": null,
   "metadata": {
    "deletable": false,
    "editable": false,
    "nbgrader": {
     "cell_type": "code",
     "checksum": "d0505558214eb260f117a1d2feb03f0f",
     "grade": true,
     "grade_id": "cell-976fe40dfb808a95",
     "locked": true,
     "points": 1,
     "schema_version": 3,
     "solution": false,
     "task": false
    },
    "tags": []
   },
   "outputs": [],
   "source": [
    "test_3.0()"
   ]
  },
  {
   "cell_type": "markdown",
   "metadata": {
    "deletable": false,
    "editable": false,
    "nbgrader": {
     "cell_type": "markdown",
     "checksum": "8660984ba91e88fd3349faef3603f757",
     "grade": false,
     "grade_id": "cell-018c67dd165c7d79",
     "locked": true,
     "schema_version": 3,
     "solution": false,
     "task": false
    },
    "tags": []
   },
   "source": [
    "**Question 3.1**\n",
    "<br>{points: 1}\n",
    "\n",
    "Running the code below you can corroborate that the estimated coefficients obtained using the `tidymodels` workflow are the same as those obtained using your code. \n",
    "\n",
    "> You can run the code below to check.\n",
    "\n",
    "*Assign your answer to an object called `answer3.1`. Your answer should be either `\"true\"` or `\"false\"`, surrounded by quotes.*"
   ]
  },
  {
   "cell_type": "code",
   "execution_count": null,
   "metadata": {
    "deletable": false,
    "nbgrader": {
     "cell_type": "code",
     "checksum": "f2ccb501fc38c00b59efd6b9b3782335",
     "grade": false,
     "grade_id": "cell-8ea2dda367d4fd62",
     "locked": false,
     "schema_version": 3,
     "solution": true,
     "task": false
    },
    "tags": []
   },
   "outputs": [],
   "source": [
    "# answer3.1 <- \n",
    "\n",
    "# your code here\n",
    "fail() # No Answer - remove if you provide an answer"
   ]
  },
  {
   "cell_type": "code",
   "execution_count": null,
   "metadata": {
    "deletable": false,
    "editable": false,
    "nbgrader": {
     "cell_type": "code",
     "checksum": "202fdb5aa5889a5439b9ed83c5f6d921",
     "grade": true,
     "grade_id": "cell-8f424ba76018ad76",
     "locked": true,
     "points": 1,
     "schema_version": 3,
     "solution": false,
     "task": false
    },
    "tags": []
   },
   "outputs": [],
   "source": [
    "test_3.1()"
   ]
  },
  {
   "cell_type": "code",
   "execution_count": null,
   "metadata": {
    "deletable": false,
    "editable": false,
    "nbgrader": {
     "cell_type": "code",
     "checksum": "129083d7eafbfc94c28b13a90e73e423",
     "grade": false,
     "grade_id": "cell-a0f01e4daa5d0b5b",
     "locked": true,
     "schema_version": 3,
     "solution": false,
     "task": false
    },
    "tags": []
   },
   "outputs": [],
   "source": [
    "cbind(Housing_full_OLS_results$estimate, coeffs$estimate)"
   ]
  },
  {
   "cell_type": "markdown",
   "metadata": {
    "deletable": false,
    "editable": false,
    "nbgrader": {
     "cell_type": "markdown",
     "checksum": "58c96e8cea4271868e0746c8f941dd94",
     "grade": false,
     "grade_id": "cell-8cd6efd0c1c53d7b",
     "locked": true,
     "schema_version": 3,
     "solution": false,
     "task": false
    }
   },
   "source": [
    "**Question 3.2**\n",
    "<br>{points: 1}\n",
    "\n",
    "We can use the function `metrics()` to compute the root mean squared error, the $R^2$ and the mean absolute error for the predicted `SalePrice` of the test samples. \n",
    "\n",
    "Alternatively, we can write our own code to compute these measures. In this exercise, write your code to compute the RMSE.\n",
    "\n",
    "Create a tibble, called `Housing_RMSE_models` to store the computed RMSE. We will later compare it with the RMSE of a reduced model. The new tibble will have 2 columns:\n",
    "\n",
    "- `Model`: Name of the estimated model from which we will obtain the prediction accuracy.\n",
    "- `RMSE`: The $\\text{RMSE}_{\\text{test}}$ corresponding to the estimated model.\n",
    "\n",
    "*Fill out those parts indicated with `...`, uncomment the corresponding code in the cell below, and run it.*"
   ]
  },
  {
   "cell_type": "code",
   "execution_count": null,
   "metadata": {
    "deletable": false,
    "nbgrader": {
     "cell_type": "code",
     "checksum": "baec158ff9240b3e997280962e850ee4",
     "grade": false,
     "grade_id": "cell-a325bd988a79aa49",
     "locked": false,
     "schema_version": 3,
     "solution": true,
     "task": false
    },
    "tags": []
   },
   "outputs": [],
   "source": [
    "# 1. compute the RMSE:\n",
    "\n",
    "# testing_Housing <- ... %>% mutate(pred_error = ... - ...)\n",
    "# rmse_full <- ...(...(testing_Housing$...^2)) %>% round(2)\n",
    "\n",
    "# 2. store it in a tibble:\n",
    "\n",
    "# Housing_RMSE_models <- tibble(\n",
    "#   Model = \"OLS Full Regression\",\n",
    "#   RMSE = ...\n",
    "#   )\n",
    "\n",
    "# Housing_RMSE_models\n",
    "\n",
    "# your code here\n",
    "fail() # No Answer - remove if you provide an answer"
   ]
  },
  {
   "cell_type": "code",
   "execution_count": null,
   "metadata": {
    "deletable": false,
    "editable": false,
    "nbgrader": {
     "cell_type": "code",
     "checksum": "be4e03ed47d5ed6a3554ecd8fb6b2413",
     "grade": true,
     "grade_id": "cell-bd5363bd8cd05844",
     "locked": true,
     "points": 1,
     "schema_version": 3,
     "solution": false,
     "task": false
    },
    "tags": []
   },
   "outputs": [],
   "source": [
    "test_3.2()"
   ]
  },
  {
   "cell_type": "markdown",
   "metadata": {
    "deletable": false,
    "editable": false,
    "nbgrader": {
     "cell_type": "markdown",
     "checksum": "85cf04d74feec09bbef76e71dd2ab38b",
     "grade": false,
     "grade_id": "cell-c3b15096f7ada01e",
     "locked": true,
     "schema_version": 3,
     "solution": false,
     "task": false
    },
    "tags": []
   },
   "source": [
    "Run the code below to compare the results with those obtained with `metics()`."
   ]
  },
  {
   "cell_type": "code",
   "execution_count": null,
   "metadata": {
    "deletable": false,
    "editable": false,
    "nbgrader": {
     "cell_type": "code",
     "checksum": "a479e6ef9c31790386b7bb0201224227",
     "grade": false,
     "grade_id": "cell-734c7db6f61e879a",
     "locked": true,
     "schema_version": 3,
     "solution": false,
     "task": false
    },
    "tags": []
   },
   "outputs": [],
   "source": [
    "Housing_test_metrics <- testing_Housing %>%\n",
    "  metrics(truth = SalePrice, estimate = .pred)\n",
    "\n",
    "Housing_test_metrics"
   ]
  },
  {
   "cell_type": "markdown",
   "metadata": {
    "deletable": false,
    "editable": false,
    "nbgrader": {
     "cell_type": "markdown",
     "checksum": "9e1a191f7960849bf72e105838be64e9",
     "grade": false,
     "grade_id": "cell-8f8a4c8fe2b330e5",
     "locked": true,
     "schema_version": 3,
     "solution": false,
     "task": false
    }
   },
   "source": [
    "## 4. An automated proceedure for model selection\n",
    "\n",
    "When we don't have any idea about which variables should be included in the model, ideally, you want to select the best model out of *all possible models* of all possible sizes. \n",
    "\n",
    "> For example: if the dataset has 2 explanatory variables $X_1$ and $X_2$, there are 4 models to compare: (1) an intercept-only model, (2) a model with only $X_1$, (3) a model with only $X_2$, and (4) a model with both $X_1$ and $X_2$. \n",
    "\n",
    "However, the number of *all possible* models become too large rapidely, even for small subset of variables\n",
    "\n",
    "> there are a total of $2^p$ models from a set of $p$ variables\n",
    "\n",
    "> if $p = 20$ (20 available explanatory variables) we need to evaluate more than a million models! \n",
    "\n",
    "There are methods to search more efficiently for a good model (although it may not find the \"best\" one out of all possible):"
   ]
  },
  {
   "cell_type": "markdown",
   "metadata": {
    "deletable": false,
    "editable": false,
    "nbgrader": {
     "cell_type": "markdown",
     "checksum": "4dae7bc7ca94c6d63e59e4f04e48566e",
     "grade": false,
     "grade_id": "cell-407d22a6a1e202f9",
     "locked": true,
     "schema_version": 3,
     "solution": false,
     "task": false
    }
   },
   "source": [
    "- **Forward selection**: \n",
    "Image from [ISLR](https://www.statlearning.com)\n",
    "![](https://github.com/UBC-STAT/stat-301/blob/master/supplementary-material/img/forward.png?raw=true)"
   ]
  },
  {
   "cell_type": "markdown",
   "metadata": {
    "deletable": false,
    "editable": false,
    "nbgrader": {
     "cell_type": "markdown",
     "checksum": "62b184724d934a36aa21b662cadab8a3",
     "grade": false,
     "grade_id": "cell-fb0d05896adad813",
     "locked": true,
     "schema_version": 3,
     "solution": false,
     "task": false
    }
   },
   "source": [
    "1. Start with the intercept only model: $y_i = \\beta_0 + \\varepsilon_i$\n",
    "\n",
    "> remember that $\\hat{\\beta}_0 = \\bar{y}$ from the training samples, so $\\hat{y}_{0} = \\bar{y}$ for any observation (from the training or the test set)\n",
    "\n",
    "2. Select and add variables sequentially \n",
    "\n",
    "**Size 1** Evaluate all models of size 1, choose the best model of size 1 (based on RSS, equal size models), call it $\\mathcal{M}_1$. \n",
    "\n",
    "**Size 2** *Starting with the best size 1 model*, add 1 variable to create a (expanded) model of size 2. Repeat for all remaining variables and evaluate all expanded models of size 2. Choose the best model of size 2 (based on RSS), call it $\\mathcal{M}_2$.\n",
    "\n",
    "> note that there are more models of size 2 that we are not evaluating since 1 variable has been already chosen in the previous step\n",
    "\n",
    "\n",
    "$\\ldots$ continue until you reach the full model\n",
    "\n",
    "\n",
    "**Size p** there's only one full model, call it $\\mathcal{M}_p$.\n",
    "\n",
    "> note that we can stop this iteration earlier if we want a model of a predetermined size\n",
    "\n",
    "3. Now we have to select the best out of the $p$ selected models: $\\mathcal{M}_1$ (the best model of size 1), $\\mathcal{M}_2$ (the best expanded model of size 2), $\\ldots, \\mathcal{M}_p$ (the full model of size $p$)\n",
    "\n",
    "> you can't use the RSS to compare models of different sizes\n",
    "\n",
    "**Depending on the goal of the study you can use**:\n",
    "    \n",
    " - the adjusted $R^2$ to select *generative models*\n",
    "    \n",
    "or\n",
    "\n",
    " - the test MSE, $C_p$, AIC or BIC to select *predictive models*\n",
    " \n",
    "You can learn more about these measures in [ISLR](https://www.statlearning.com)\n",
    "\n"
   ]
  },
  {
   "cell_type": "markdown",
   "metadata": {
    "deletable": false,
    "editable": false,
    "nbgrader": {
     "cell_type": "markdown",
     "checksum": "47fba39ea0fa6be89c9d21375475f315",
     "grade": false,
     "grade_id": "cell-de41449632c6590f",
     "locked": true,
     "schema_version": 3,
     "solution": false,
     "task": false
    }
   },
   "source": [
    "Other selection procedures include:\n",
    "\n",
    "- **Backward selection**: start with the full model and remove variables, one at a time\n",
    "\n",
    "\n",
    "- **Hybrid selection**: after adding a variable, the method may also remove variables \n"
   ]
  },
  {
   "cell_type": "markdown",
   "metadata": {
    "deletable": false,
    "editable": false,
    "nbgrader": {
     "cell_type": "markdown",
     "checksum": "69436cc4c4df807b86fe6b6259c81c3d",
     "grade": false,
     "grade_id": "cell-bf5842286faba0c5",
     "locked": true,
     "schema_version": 3,
     "solution": false,
     "task": false
    }
   },
   "source": [
    "### 4.1 Selecting a smaller model\n",
    "\n",
    "The OLS model uses all input variables to estimate a generative model. However, as we see from the results table, not all the terms in this regression are statistically significant and this may not be the best predictive model either. \n",
    "\n",
    "You may want to **select a smaller subset of variables** that better explain the variation in `SalePrice` or to predict.\n",
    "\n",
    "In the following questions you will use the forward selection algorithm to select a smaller model. We will compute different metrics so that we can examine different types of models."
   ]
  },
  {
   "cell_type": "markdown",
   "metadata": {
    "deletable": false,
    "editable": false,
    "nbgrader": {
     "cell_type": "markdown",
     "checksum": "1e1bdfa83580d3b1fb645229ee423950",
     "grade": false,
     "grade_id": "cell-195b5904f0f0cd43",
     "locked": true,
     "schema_version": 3,
     "solution": false,
     "task": false
    }
   },
   "source": [
    "#### Algorithms in R\n",
    "\n",
    "Both the **forward** and **backward** selection algorithms are implemented in R by the function `regsubsets()` from library `leaps`. \n",
    "\n",
    "- The argument `x` of `regsubsets()` is analogous to `formula` in `lm()`. \n",
    "\n",
    "- The argument `nvmax` indicates the maximum size of the input set to be used in the variable selection.\n",
    "\n",
    "This function identifies subsets of input variables that provide the best model for different model sizes and the selects the best among those."
   ]
  },
  {
   "cell_type": "markdown",
   "metadata": {
    "deletable": false,
    "editable": false,
    "nbgrader": {
     "cell_type": "markdown",
     "checksum": "e0769bf74593bdec3dab3a9e761b76c0",
     "grade": false,
     "grade_id": "cell-c5d137288b408d5b",
     "locked": true,
     "schema_version": 3,
     "solution": false,
     "task": false
    }
   },
   "source": [
    "**Forward selection**\n",
    "\n",
    "Let's select some of the input variables in `Housing` using the **forward selection** algorithm aiming for a strong generative model. \n",
    "\n",
    "Create one object using `regsubsets()`with `training_Housing`: `Housing_forward_sel`. This object has to indicate  selected models for each model size, from **1 to 19 input variables** (check argument `nvmax`).\n",
    "\n",
    "> **Note**: if you enter the input variables manually, follow the order in the dataset. Easier to you use `.`, even if the dataset contains the response variable\n",
    "\n",
    "*Run the code below to select the best nested models of each size*"
   ]
  },
  {
   "cell_type": "code",
   "execution_count": null,
   "metadata": {
    "deletable": false,
    "editable": false,
    "nbgrader": {
     "cell_type": "code",
     "checksum": "d30a25bec77b40bb6c1c84ed45668738",
     "grade": false,
     "grade_id": "cell-7b173b9bec803e9c",
     "locked": true,
     "schema_version": 3,
     "solution": false,
     "task": false
    },
    "tags": []
   },
   "outputs": [],
   "source": [
    "Housing_forward_sel <- regsubsets(\n",
    "  x = SalePrice ~ ., nvmax = 19,\n",
    "  data = training_Housing,\n",
    "  method = \"forward\",\n",
    ")\n",
    "\n",
    "housing_forward_summary <- summary(Housing_forward_sel)\n",
    "housing_forward_summary"
   ]
  },
  {
   "cell_type": "markdown",
   "metadata": {
    "deletable": false,
    "editable": false,
    "nbgrader": {
     "cell_type": "markdown",
     "checksum": "fbed2a62391b1f9a856ed1351888822c",
     "grade": false,
     "grade_id": "cell-04e315d7f0efdfff",
     "locked": true,
     "schema_version": 3,
     "solution": false,
     "task": false
    }
   },
   "source": [
    "You can see that: \n",
    "\n",
    "- variables are selected one at a time.\n",
    "\n",
    "- once the variable is in the model, it stays and another variable is selected\n",
    "\n",
    "- the algorithm continues until it builds a model of size `nvmax`\n",
    "\n",
    "**Final selection**\n",
    "\n",
    "Out of the 19 possible models obtained with forward selection and stored in `Housing_forward_sel`, we can select the best one in terms of its *goodness of fit*. \n",
    "\n",
    "Let's store and examine different evaluation metrics contained in `housing_forward_summary`. Construct a tibble called `housing_forward_eval`. This object should contain the following columns:\n",
    "\n",
    "- `n_input_variables`: the number of input variables in each selected model (from 1 to 19).\n",
    "\n",
    "- `RSQ`: the $R^2$ of each model\n",
    "\n",
    "- `RSS`: the RSS of each model\n",
    "\n",
    "- `ADJ.R2`: the adjusted $R^2$ of each model\n",
    "\n",
    "- `Cp`: the $C_p$ of each model\n",
    "\n",
    "- `BIC`: the Bayesian Information Criterion of each model\n",
    "\n",
    "*Run the following code to evaluate the best models of each size*"
   ]
  },
  {
   "cell_type": "code",
   "execution_count": null,
   "metadata": {
    "deletable": false,
    "editable": false,
    "nbgrader": {
     "cell_type": "code",
     "checksum": "c78e8e1816712abda7ca0a0624d650bf",
     "grade": false,
     "grade_id": "cell-6790f3a767aece0e",
     "locked": true,
     "schema_version": 3,
     "solution": false,
     "task": false
    },
    "tags": []
   },
   "outputs": [],
   "source": [
    "housing_forward_summary_df <- tibble(\n",
    "    n_input_variables = 1:19,\n",
    "    RSQ = housing_forward_summary$rsq,\n",
    "    RSS = housing_forward_summary$rss,\n",
    "    ADJ.R2 = housing_forward_summary$adjr2,\n",
    "    Cp = housing_forward_summary$cp,\n",
    "    BIC = housing_forward_summary$bic,\n",
    ")\n",
    "housing_forward_summary_df"
   ]
  },
  {
   "cell_type": "markdown",
   "metadata": {
    "deletable": false,
    "editable": false,
    "nbgrader": {
     "cell_type": "markdown",
     "checksum": "617fd1bf3f65f092cd543cfb55f7717d",
     "grade": false,
     "grade_id": "cell-69bc1407080925bc",
     "locked": true,
     "schema_version": 3,
     "solution": false,
     "task": false
    }
   },
   "source": [
    "You can see how the $R^2$ increases with more variables in the model. However, its adjusted version will start decreasing after 13 variables are selected. \n",
    "\n",
    "**The forward algorithm would select a generative model with 13 variables using the adjusted $R^2$**\n",
    "\n",
    "**The forward algorithm would select a predictive model with 11 variables using BIC**\n",
    "\n",
    "We can **visualize** how these measures change as variables are added to the selected model with the function `plot()`. \n",
    "\n",
    "Run this code to plot the $C_p$ of the models selected by the forward selection algorithm "
   ]
  },
  {
   "cell_type": "code",
   "execution_count": null,
   "metadata": {
    "deletable": false,
    "editable": false,
    "nbgrader": {
     "cell_type": "code",
     "checksum": "aecba1cd8b0a87eae603edc9de34519f",
     "grade": false,
     "grade_id": "cell-0693a2cff89dfa39",
     "locked": true,
     "schema_version": 3,
     "solution": false,
     "task": false
    },
    "tags": []
   },
   "outputs": [],
   "source": [
    "plot(summary(Housing_forward_sel)$cp,\n",
    "  main = \"Cp for forward selection\",\n",
    "  xlab = \"Number of Input Variables\", ylab = \"Rsq\", type = \"b\", pch = 19,\n",
    "  col = \"red\"\n",
    ")"
   ]
  },
  {
   "cell_type": "markdown",
   "metadata": {
    "deletable": false,
    "editable": false,
    "nbgrader": {
     "cell_type": "markdown",
     "checksum": "081dd95589f0937932e77eef1983ecbd",
     "grade": false,
     "grade_id": "cell-5b3fd20fb437c9de",
     "locked": true,
     "schema_version": 3,
     "solution": false,
     "task": false
    }
   },
   "source": [
    "#### Prediction performance of the selected predictive model\n",
    "\n",
    "In this problem, you will select the model that minimized the $C_p$. Once we have a selected model we can train it using `lm()` with the training dataset and use it predict values of the residences in the test set. \n",
    "\n",
    "Run this code to obtain the name of the variables selected."
   ]
  },
  {
   "cell_type": "code",
   "execution_count": null,
   "metadata": {
    "deletable": false,
    "editable": false,
    "nbgrader": {
     "cell_type": "code",
     "checksum": "e446c2f57e46398290afe91b9ab46173",
     "grade": false,
     "grade_id": "cell-a841f211bf64e777",
     "locked": true,
     "schema_version": 3,
     "solution": false,
     "task": false
    },
    "tags": []
   },
   "outputs": [],
   "source": [
    "cp_min = which.min(housing_forward_summary$cp) \n",
    "selected_var <- names(coef(Housing_forward_sel, cp_min))[-1]\n",
    "selected_var"
   ]
  },
  {
   "cell_type": "markdown",
   "metadata": {
    "deletable": false,
    "editable": false,
    "nbgrader": {
     "cell_type": "markdown",
     "checksum": "f3b0f66ba514ff2d33e4722874dd46a3",
     "grade": false,
     "grade_id": "cell-67995940c0bcc135",
     "locked": true,
     "schema_version": 3,
     "solution": false,
     "task": false
    },
    "tags": []
   },
   "source": [
    "Run this code to subset only the predictors selected from the full dataset."
   ]
  },
  {
   "cell_type": "code",
   "execution_count": null,
   "metadata": {
    "deletable": false,
    "editable": false,
    "nbgrader": {
     "cell_type": "code",
     "checksum": "864b0a1ee2cff42c46e4063681d2cb7c",
     "grade": false,
     "grade_id": "cell-943bb2d88f880089",
     "locked": true,
     "schema_version": 3,
     "solution": false,
     "task": false
    },
    "tags": []
   },
   "outputs": [],
   "source": [
    "training_subset <- training_Housing %>% select(selected_var,SalePrice)\n",
    "testing_subset <- testing_Housing %>% select(selected_var,SalePrice)"
   ]
  },
  {
   "cell_type": "markdown",
   "metadata": {
    "deletable": false,
    "editable": false,
    "nbgrader": {
     "cell_type": "markdown",
     "checksum": "e355ca6f774247c9156932c2a9c3c41c",
     "grade": false,
     "grade_id": "cell-93e95f38df759d47",
     "locked": true,
     "schema_version": 3,
     "solution": false,
     "task": false
    },
    "tags": []
   },
   "source": [
    "Run this code to train the selected models and use it to predict in the test set."
   ]
  },
  {
   "cell_type": "code",
   "execution_count": null,
   "metadata": {
    "deletable": false,
    "editable": false,
    "nbgrader": {
     "cell_type": "code",
     "checksum": "5c86764b689bd6e505b2ea13efb2c124",
     "grade": false,
     "grade_id": "cell-05251bb3db6a3810",
     "locked": true,
     "schema_version": 3,
     "solution": false,
     "task": false
    },
    "tags": []
   },
   "outputs": [],
   "source": [
    "# Estimation\n",
    "\n",
    "Housing_red_OLS <- lm(SalePrice ~ .,\n",
    "  data = training_subset\n",
    ")"
   ]
  },
  {
   "cell_type": "markdown",
   "metadata": {
    "deletable": false,
    "editable": false,
    "nbgrader": {
     "cell_type": "markdown",
     "checksum": "f40b8cc5bbc3266d66abc8fe691b5576",
     "grade": false,
     "grade_id": "cell-e6c3ceb269ad8bd1",
     "locked": true,
     "schema_version": 3,
     "solution": false,
     "task": false
    }
   },
   "source": [
    "**Question 4.0**\n",
    "<br>{points: 1}\n",
    "\n",
    "Use the function `rmse()` to compute the $\\text{RMSE}_{\\text{test}}$ of the new predictive model `Housing_test_pred_red_OLS` using the test set `testing_Housing`. Add this metric as another row in the tibble `Housing_R_MSE_models` with `\"OLS Reduced Regression\"` in the column `Model` and the corresponding $\\text{RMSE}_{\\text{test}}$ in column `R_MSE`.\n",
    "\n",
    "> Note: since you are adding a row to an existing object, you may need to restart the kernel or rerun the cell with the original data frame to avoid extra concatenation.\n",
    "\n",
    "*Fill out those parts indicated with `...`, uncomment the corresponding code in the cell below, and run it.*"
   ]
  },
  {
   "cell_type": "code",
   "execution_count": null,
   "metadata": {
    "deletable": false,
    "nbgrader": {
     "cell_type": "code",
     "checksum": "a0f4301fe30ffcfc90b4baa53d03432b",
     "grade": false,
     "grade_id": "cell-b0bc48dc5dfd91bc",
     "locked": false,
     "schema_version": 3,
     "solution": true,
     "task": false
    },
    "tags": []
   },
   "outputs": [],
   "source": [
    "# testing_subset$.pred_red <- ... %>%\n",
    "#   ...(testing_subset[, -13]) \n",
    "\n",
    "# testing_subset <- ... %>% mutate(pred_red_error = ... - ...)\n",
    "# rmse_red <- ...(mean(...)) %>% round(2)\n",
    "\n",
    "# Housing_RMSE_models <- rbind(\n",
    "#   Housing_RMSE_models,\n",
    "#   tibble(\n",
    "#     Model = \"OLS Reduced Regression\",\n",
    "#     RMSE = ...\n",
    "#     )\n",
    "#   )\n",
    "\n",
    "# Housing_RMSE_models\n",
    "\n",
    "# your code here\n",
    "fail() # No Answer - remove if you provide an answer"
   ]
  },
  {
   "cell_type": "code",
   "execution_count": null,
   "metadata": {
    "deletable": false,
    "editable": false,
    "nbgrader": {
     "cell_type": "code",
     "checksum": "6e0de85708ab2e73f45f1a982633928f",
     "grade": true,
     "grade_id": "cell-25b2040355c36cb8",
     "locked": true,
     "points": 1,
     "schema_version": 3,
     "solution": false,
     "task": false
    },
    "tags": []
   },
   "outputs": [],
   "source": [
    "test_4.0()"
   ]
  },
  {
   "cell_type": "markdown",
   "metadata": {
    "deletable": false,
    "editable": false,
    "nbgrader": {
     "cell_type": "markdown",
     "checksum": "c2c89c1fcbe3c1e681d7aff014d4bd73",
     "grade": false,
     "grade_id": "cell-897661ec25ffa521",
     "locked": true,
     "schema_version": 3,
     "solution": false,
     "task": false
    },
    "tags": []
   },
   "source": [
    "While we selected a reduced model with an expected better predicted performance, for this test set, the RMSE of the full model is lower than that of the reduced one. Note that this is only one estimate of the true test RMSE based on a random split of the data. A different split may give a different result."
   ]
  }
 ],
 "metadata": {
  "kernelspec": {
   "display_name": "R",
   "language": "R",
   "name": "ir"
  },
  "language_info": {
   "codemirror_mode": "r",
   "file_extension": ".r",
   "mimetype": "text/x-r-source",
   "name": "R",
   "pygments_lexer": "r",
   "version": "4.2.3"
  }
 },
 "nbformat": 4,
 "nbformat_minor": 4
}
