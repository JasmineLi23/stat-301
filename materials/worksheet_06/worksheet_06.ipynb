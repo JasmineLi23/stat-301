{
 "cells": [
  {
   "cell_type": "markdown",
   "metadata": {
    "deletable": false,
    "editable": false,
    "nbgrader": {
     "cell_type": "markdown",
     "checksum": "c0014df4f844e33ab58143bb5e201251",
     "grade": false,
     "grade_id": "cell-abfe05c13b28f3fb",
     "locked": true,
     "schema_version": 3,
     "solution": false,
     "task": false
    },
    "slideshow": {
     "slide_type": "slide"
    },
    "tags": []
   },
   "source": [
    "# STAT 301: Statistical Modelling for Data Science \n",
    "\n",
    "\n",
    "# <font color=red> Confounding Factors\n",
    "    \n",
    "## Gabriela Cohen Freue"
   ]
  },
  {
   "cell_type": "markdown",
   "metadata": {
    "deletable": false,
    "editable": false,
    "nbgrader": {
     "cell_type": "markdown",
     "checksum": "54c1d8418dcb9d131263ced1972df11e",
     "grade": false,
     "grade_id": "cell-81cf925059a39173",
     "locked": true,
     "schema_version": 3,
     "solution": false,
     "task": false
    },
    "slideshow": {
     "slide_type": "slide"
    },
    "tags": []
   },
   "source": [
    "## Last class ...\n",
    "\n",
    "- we discuss usual assumptions of LR and how to check them\n",
    "\n",
    "- we examined the problem of confounding factors through a simulation study"
   ]
  },
  {
   "cell_type": "markdown",
   "metadata": {
    "deletable": false,
    "editable": false,
    "nbgrader": {
     "cell_type": "markdown",
     "checksum": "43178f3610a1c6e91232e562ac8bebb7",
     "grade": false,
     "grade_id": "cell-1d166852b3220b9e",
     "locked": true,
     "schema_version": 3,
     "solution": false,
     "task": false
    },
    "tags": []
   },
   "source": [
    "## Today ....\n",
    "\n",
    "I'll introduce a new case study:\n",
    "\n",
    "### <font color=\"blue\"> Can we predict protein from mRNA levels?? </font>\n",
    "\n",
    "We'll use this case study in the next few weeks. Answers to questions will be evaluated through iClickers."
   ]
  },
  {
   "cell_type": "markdown",
   "metadata": {
    "deletable": false,
    "editable": false,
    "nbgrader": {
     "cell_type": "markdown",
     "checksum": "a8d04ec158a40bedbcb9a412cbf9d57a",
     "grade": false,
     "grade_id": "cell-d411b71d06d27831",
     "locked": true,
     "schema_version": 3,
     "solution": false,
     "task": false
    },
    "tags": []
   },
   "source": [
    "## Case study: relation between mRNA and protein levels\n",
    "\n",
    "The picture illustrates what is known as the Central Dogma of Biology\n",
    "\n",
    "<center>\n",
    "<img src=\"img/prot_gene.png\" width=500>\n",
    "</center>"
   ]
  },
  {
   "cell_type": "markdown",
   "metadata": {
    "deletable": false,
    "editable": false,
    "nbgrader": {
     "cell_type": "markdown",
     "checksum": "aec0d4615aadc335055c29f81a8469ad",
     "grade": false,
     "grade_id": "cell-73c3136ab4c3af30",
     "locked": true,
     "schema_version": 3,
     "solution": false,
     "task": false
    },
    "tags": []
   },
   "source": [
    "Despite expectations of a high correlation between mRNA and protein levels, experimental results have shown very low correlation values.\n",
    "\n",
    "In 2014, a research group claimed to find a \"predictive model\", which can be used to predict protein from mRNA!!\n",
    "\n",
    "> Wilhelm, M. et al. Mass-spectrometry-based draft of the human proteome. Nature 509, 582–587 (2014)\n",
    "\n",
    "> Paper from my research group: Fortelny N, Overall CM, Pavlidis P, Freue GVC. Can we predict protein from mRNA levels? Nature. 2017 Jul 26;547(7664):E19-E20. doi: 10.1038/nature22293.\n",
    "\n",
    "We'll use data from this group submitted to the Journal to examine this problem"
   ]
  },
  {
   "cell_type": "markdown",
   "metadata": {
    "deletable": false,
    "editable": false,
    "nbgrader": {
     "cell_type": "markdown",
     "checksum": "fc168b80a72327613736cabfffa8c707",
     "grade": false,
     "grade_id": "cell-ab65cd02b9e145ab",
     "locked": true,
     "schema_version": 3,
     "solution": false,
     "task": false
    },
    "tags": []
   },
   "source": [
    "### Claim\n",
    "\n",
    "Using the median ratio of protein to mRNA levels per gene as a proxy for translation rates, our data show that [...] ***it now becomes possible to predict protein abundance in any given tissue with good accuracy from the measured mRNA abundance***\n",
    "\n",
    "<center>\n",
    "<img src=\"img/nature_res.png\" width=500>\n",
    "</center>"
   ]
  },
  {
   "cell_type": "markdown",
   "metadata": {
    "deletable": false,
    "editable": false,
    "nbgrader": {
     "cell_type": "markdown",
     "checksum": "f35461dea2f04ea357cfa173d7a10b22",
     "grade": false,
     "grade_id": "cell-93535b8312494a0c",
     "locked": true,
     "schema_version": 3,
     "solution": false,
     "task": false
    },
    "tags": []
   },
   "source": [
    "In the paper, the authors estimated the relation between protein and mRNA levels *per gene*, and used those estimated models to predict protein levels *per gene*.\n",
    "\n",
    "> it will be important at a later phase of the analysis to note that models are *gene-specific*\n",
    "\n",
    "**Gene-specific models**: for each gene they estimated the following model (for simplicity we do not use a subscript $g$)  \n",
    "\n",
    "$$\\text{prot}_{t} = \\beta_1 \\; \\times \\text{mrna}_{t} + \\varepsilon_t$$ \n",
    "\n",
    "where $\\hat{\\beta}_1 = median_t(\\text{prot}_{t}/\\text{mrna}_{t})$\n",
    "\n",
    "> prot$_{t}$ and mrna$_{t}$ are the protein and mRNA levels of a gene $g$ in tissue $t$, respectively"
   ]
  },
  {
   "cell_type": "markdown",
   "metadata": {
    "deletable": false,
    "editable": false,
    "nbgrader": {
     "cell_type": "markdown",
     "checksum": "e31833da413bb1d9c3cbe8887de2e986",
     "grade": false,
     "grade_id": "cell-b9c1e1fde9b5d604",
     "locked": true,
     "schema_version": 3,
     "solution": false,
     "task": false
    },
    "tags": []
   },
   "source": [
    "**Question 1**\n",
    "\n",
    "Is this a LR model:\n",
    "\n",
    "- **A** TRUE\n",
    "\n",
    "- **B** FALSE"
   ]
  },
  {
   "cell_type": "markdown",
   "metadata": {
    "deletable": false,
    "editable": false,
    "nbgrader": {
     "cell_type": "markdown",
     "checksum": "7b3eb77661ec24c684804be1f8a32eff",
     "grade": false,
     "grade_id": "cell-d1ddcb315195db54",
     "locked": true,
     "schema_version": 3,
     "solution": false,
     "task": false
    },
    "tags": []
   },
   "source": [
    "<font color=\"blue\"> **Note that these models do not contain an intercept! and they were not estimated by LS.**</font> \n",
    "    \n",
    "While in general different models and estimation methods can be used to analyze the same data, it is important to evaluate the results according to the assumptions and the methodology used. \n",
    "    \n",
    "> The evaluation and interpretation of the results in the paper were not appropriate\n",
    "    \n",
    "*Let's take a look at the data.*"
   ]
  },
  {
   "cell_type": "markdown",
   "metadata": {
    "deletable": false,
    "editable": false,
    "nbgrader": {
     "cell_type": "markdown",
     "checksum": "cab234644383022014bed85de5078c26",
     "grade": false,
     "grade_id": "cell-e0ef634cb868a8b6",
     "locked": true,
     "schema_version": 3,
     "solution": false,
     "task": false
    },
    "slideshow": {
     "slide_type": "slide"
    },
    "tags": []
   },
   "source": [
    "### <font color=\"blue\"> This a simple linear regression!! </font>\n",
    "\n",
    "... even if the estimated ratio of the $g$-th gene, $\\hat{r}_g$, is *not* estimated by LS"
   ]
  },
  {
   "cell_type": "markdown",
   "metadata": {
    "deletable": false,
    "editable": false,
    "nbgrader": {
     "cell_type": "markdown",
     "checksum": "feb7ed8dec2340bed17bf325cb1cb4eb",
     "grade": false,
     "grade_id": "cell-e6fe4c2abef9cbb6",
     "locked": true,
     "schema_version": 3,
     "solution": false,
     "task": false
    },
    "slideshow": {
     "slide_type": "slide"
    },
    "tags": []
   },
   "source": [
    "**A.** LR with 1 continuous variable (SLR per gene): `lm(protein~mrna, data=dat_G1)`\n",
    "\n",
    "> models the relation between protein and mRNA separately for each gene \n",
    "\n",
    "\n",
    "**B.** LR with 1 categorical and 1 continuous, without interaction (additive): `lm(protein~gene+mrna,dat_3genes)`\n",
    "\n",
    "> assumes that the relation between mRNA and protein levels is the same for all genes but allows different predictions for different genes\n",
    "\n",
    "**C.** LR with 1 categorical and 1 continuous, *plus* interactions: `lm(protein~gene * mrna,dat_3genes)`\n",
    "\n",
    "> we allowed the relation between protein and mRNA to depend on gene\n",
    "\n",
    "> Wilhelm et al.: \"translation rate is a fundamental, encoded (constant) *characteristic of a transcript [gene]*\""
   ]
  },
  {
   "cell_type": "code",
   "execution_count": null,
   "metadata": {
    "deletable": false,
    "editable": false,
    "nbgrader": {
     "cell_type": "code",
     "checksum": "33aa712e9b5c47c85800c76e0f41deec",
     "grade": false,
     "grade_id": "cell-6b08fa9c34b476b1",
     "locked": true,
     "schema_version": 3,
     "solution": false,
     "task": false
    },
    "tags": []
   },
   "outputs": [],
   "source": [
    "library(tidyverse)\n",
    "library(repr)\n",
    "library(ggplot2)\n",
    "library(cowplot)\n",
    "library(moderndive)\n",
    "library(broom)\n",
    "\n",
    "prot_mrna_dat <- read.csv(\"data/nature_dat.csv\", row.names = 1, stringsAsFactors= TRUE)"
   ]
  },
  {
   "cell_type": "markdown",
   "metadata": {
    "deletable": false,
    "editable": false,
    "nbgrader": {
     "cell_type": "markdown",
     "checksum": "478024f1650a2822581c32ec6d883e8e",
     "grade": false,
     "grade_id": "cell-ff11669f0318b4c4",
     "locked": true,
     "schema_version": 3,
     "solution": false,
     "task": false
    },
    "tags": []
   },
   "source": [
    "### A quick glance at the data:\n",
    "\n",
    "**Question 2**\n",
    "\n",
    "For how many genes with protein and mRNA values are included in the data?\n",
    "\n",
    "- **A** 4824 were measured but some have missing values\n",
    "\n",
    "- **B** 4824 were measured without any missing value\n",
    "\n",
    "- **C** 12 genes were measured for each sample\n",
    "\n",
    "- **D** 57,888 genes "
   ]
  },
  {
   "cell_type": "markdown",
   "metadata": {
    "deletable": false,
    "editable": false,
    "nbgrader": {
     "cell_type": "markdown",
     "checksum": "9385a4f9de8ca2ce80ad0169790ec164",
     "grade": false,
     "grade_id": "cell-3c1985548286640e",
     "locked": true,
     "schema_version": 3,
     "solution": false,
     "task": false
    },
    "tags": []
   },
   "source": [
    "## Subset to examine different questions\n",
    "\n",
    "We first randomly select 3 genes with complete data (no missing values) to examine some questions related to this problem"
   ]
  },
  {
   "cell_type": "code",
   "execution_count": null,
   "metadata": {
    "deletable": false,
    "editable": false,
    "nbgrader": {
     "cell_type": "code",
     "checksum": "6fed1fd25b91787eb421c5c66fee2f5d",
     "grade": false,
     "grade_id": "cell-cd07fa5c931a3bec",
     "locked": true,
     "schema_version": 3,
     "solution": false,
     "task": false
    },
    "tags": []
   },
   "outputs": [],
   "source": [
    "set.seed(561)\n",
    "dat_3genes <- prot_mrna_dat  %>% subset(values.av == 12)  %>% \n",
    "         subset(gene %in% sample(gene,3)) "
   ]
  },
  {
   "cell_type": "code",
   "execution_count": null,
   "metadata": {
    "deletable": false,
    "editable": false,
    "nbgrader": {
     "cell_type": "code",
     "checksum": "31d5a112ca174710b3beb8aaa881c00b",
     "grade": false,
     "grade_id": "cell-5c0c814098732a8f",
     "locked": true,
     "schema_version": 3,
     "solution": false,
     "task": false
    },
    "tags": []
   },
   "outputs": [],
   "source": [
    "dat_3genes"
   ]
  },
  {
   "cell_type": "markdown",
   "metadata": {
    "deletable": false,
    "editable": false,
    "nbgrader": {
     "cell_type": "markdown",
     "checksum": "d86b16871361e81e0eb63c2fc6b2ac97",
     "grade": false,
     "grade_id": "cell-ee11d5e00250bfb3",
     "locked": true,
     "schema_version": 3,
     "solution": false,
     "task": false
    },
    "tags": []
   },
   "source": [
    "**Question 3**\n",
    "\n",
    "In how many tissues were each gene measured?\n",
    "\n",
    "- **A** 12 genes per tissue\n",
    "\n",
    "- **B** 12 tissues per genes\n",
    "\n",
    "- **C** 3 tissues per gene\n",
    "\n",
    "- **D** 36 tissues per gene"
   ]
  },
  {
   "cell_type": "markdown",
   "metadata": {
    "deletable": false,
    "editable": false,
    "nbgrader": {
     "cell_type": "markdown",
     "checksum": "f6e07ff907429417eb71fed4917b5244",
     "grade": false,
     "grade_id": "cell-1203935f3f8bfd18",
     "locked": true,
     "schema_version": 3,
     "solution": false,
     "task": false
    },
    "tags": []
   },
   "source": [
    "## SLR: can we predict protein from mRNA (separately for each gene)? \n",
    "\n",
    "**Question 4**\n",
    "\n",
    "The authors emphasized the importance of estimating *gene-specific* models to predict protein levels from mRNA levels. Which model do you think would be appropriate to address this question??\n",
    "\n",
    "- **A** `dat_3genes %>% lm(prot ~ mrna, data = .) %>% tidy()`\n",
    "\n",
    "- **B** `dat_3genes %>% group_by(gene) %>% do(model=tidy(lm(prot ~ mrna, data = .))) %>% pull()`\n",
    "\n",
    "- **C** `dat_3genes %>% lm(prot ~ mrna + gene, data = .) %>% tidy()`"
   ]
  },
  {
   "cell_type": "markdown",
   "metadata": {
    "deletable": false,
    "editable": false,
    "nbgrader": {
     "cell_type": "markdown",
     "checksum": "6697fa9515be7fc29f6a8a20e3b08dc3",
     "grade": false,
     "grade_id": "cell-3a4a0edea9888ab8",
     "locked": true,
     "schema_version": 3,
     "solution": false,
     "task": false
    },
    "tags": []
   },
   "source": [
    "**Question 5**\n",
    "\n",
    "The following 2 codes can be used to estimate gene-specific models for the 3 selected genes. Which of the following statement is FALSE??\n",
    "\n",
    "`dat_3genes %>% group_by(gene) %>% do(model=tidy(lm(prot ~ mrna, data = .))) %>% pull()`\n",
    "\n",
    "vs\n",
    "\n",
    "`dat_3genes %>% lm(prot ~ mrna * gene, data = .) %>% tidy()`\n",
    "\n",
    "\n",
    "- **A** both codes give us equivalent information, just different output format\n",
    "\n",
    "- **B** both codes give us the same estimates for the coefficients of 3 LRs but different SEs\n",
    "\n",
    "- **C** these models are not appropriate, we need to fit an additive model: `dat_3genes %>% lm(prot ~ mrna + gene, data = .)`\n",
    "\n",
    "- **D** both codes can be used to predict protein levels using *gene-specific* models\n"
   ]
  },
  {
   "cell_type": "markdown",
   "metadata": {
    "deletable": false,
    "editable": false,
    "nbgrader": {
     "cell_type": "markdown",
     "checksum": "0ff9b53d6d5078f5042834a089aea7cb",
     "grade": false,
     "grade_id": "cell-3e89f661013ff33b",
     "locked": true,
     "schema_version": 3,
     "solution": false,
     "task": false
    },
    "tags": []
   },
   "source": [
    "### Visualization"
   ]
  },
  {
   "cell_type": "code",
   "execution_count": null,
   "metadata": {
    "deletable": false,
    "editable": false,
    "nbgrader": {
     "cell_type": "code",
     "checksum": "fd7b8c5e2793c4fab70326bbcae44281",
     "grade": false,
     "grade_id": "cell-e7c21c80c53fe9b3",
     "locked": true,
     "schema_version": 3,
     "solution": false,
     "task": false
    },
    "tags": []
   },
   "outputs": [],
   "source": [
    "plot_A <- dat_3genes %>% ggplot(aes(mrna,prot, color = gene)) +\n",
    "    geom_point() + \n",
    "    geom_smooth(method = lm, se = FALSE, linewidth = 1.5,fullrange=TRUE)\n",
    "\n",
    "plot_B <- dat_3genes %>% ggplot(aes(mrna,prot, color = gene)) +\n",
    "    geom_point() + \n",
    "    geom_parallel_slopes(fullrange=TRUE, se= FALSE, linewidth = 1.5)\n",
    "\n",
    "plot_all <- plot_grid(\n",
    "  plot_A + theme(legend.position=\"none\"),\n",
    "  plot_B  + theme(legend.position=\"none\"),\n",
    "  align = 'vh',\n",
    "  labels = c(\"A\", \"B\"),\n",
    "  vjust = -1,\n",
    "  nrow = 1\n",
    ")\n",
    "\n",
    "# extract a legend \n",
    "legend_all <- get_legend(plot_A + \n",
    "    guides(color = guide_legend(nrow = 1)) +\n",
    "    theme(legend.position = \"bottom\")\n",
    ")\n",
    "\n",
    "plot_all <- plot_grid(plot_all, legend_all, ncol = 1, rel_heights = c(1, .1))"
   ]
  },
  {
   "cell_type": "code",
   "execution_count": null,
   "metadata": {
    "deletable": false,
    "editable": false,
    "nbgrader": {
     "cell_type": "code",
     "checksum": "e3eef6221278a1db4700161327c5e99a",
     "grade": false,
     "grade_id": "cell-ca159723cc11890b",
     "locked": true,
     "schema_version": 3,
     "solution": false,
     "task": false
    },
    "tags": []
   },
   "outputs": [],
   "source": [
    "plot_all"
   ]
  },
  {
   "cell_type": "markdown",
   "metadata": {
    "deletable": false,
    "editable": false,
    "nbgrader": {
     "cell_type": "markdown",
     "checksum": "a16ce7ef30d07669e4d8135022a84c30",
     "grade": false,
     "grade_id": "cell-82d5f13eff9a29fd",
     "locked": true,
     "schema_version": 3,
     "solution": false,
     "task": false
    },
    "tags": []
   },
   "source": [
    "**Question 6**\n",
    "\n",
    "Plot A corresponds to a model with interaction terms and can be estimated with the following code: \n",
    "\n",
    "`dat_3genes %>% lm(prot ~ mrna * gene, data = .) %>% tidy()`\n",
    "\n",
    "This model can be used to answer the authors' question because:\n",
    "\n",
    "- **A** it estimates the change in protein level per unit change in mRNA level, separately per each gene\n",
    "\n",
    "- **B** it estimates the change in protein level per unit change in mRNA level, holding everything else constant\n",
    "\n",
    "- **C** it estimates the change in protein level per unit change in mRNA level, on average for all genes"
   ]
  },
  {
   "cell_type": "markdown",
   "metadata": {
    "deletable": false,
    "editable": false,
    "nbgrader": {
     "cell_type": "markdown",
     "checksum": "7d4b598168c41ad4071c5f986c28a307",
     "grade": false,
     "grade_id": "cell-04d0164075cefc39",
     "locked": true,
     "schema_version": 3,
     "solution": false,
     "task": false
    },
    "tags": []
   },
   "source": [
    "**Question 7**\n",
    "\n",
    "Plot B corresponds to an additive model and can be estimated with the following code: \n",
    "\n",
    "`dat_3genes %>% lm(prot ~ mrna + gene, data = .) %>% tidy()`\n",
    "\n",
    "- **A** TRUE\n",
    "\n",
    "- **B** FALSE"
   ]
  },
  {
   "cell_type": "markdown",
   "metadata": {
    "deletable": false,
    "editable": false,
    "nbgrader": {
     "cell_type": "markdown",
     "checksum": "f5223464875892076f9783446eaf676d",
     "grade": false,
     "grade_id": "cell-e654a540d6e38a6e",
     "locked": true,
     "schema_version": 3,
     "solution": false,
     "task": false
    },
    "tags": []
   },
   "source": [
    "**Question 8**\n",
    "\n",
    "Which of the following statements is correct??\n",
    "\n",
    "- **A** The model in plot A was fitted using 3 dummy variables, one per gene\n",
    "\n",
    "- **B** The model in plot A was fitted using 2 dummy variables\n",
    "\n",
    "- **C** The model in plot A was fitted using more dummy variables than that in plot B because the slopes are different\n",
    "\n",
    "- **D** I have no idea what dummy variable is!!"
   ]
  }
 ],
 "metadata": {
  "kernelspec": {
   "display_name": "R",
   "language": "R",
   "name": "ir"
  },
  "language_info": {
   "codemirror_mode": "r",
   "file_extension": ".r",
   "mimetype": "text/x-r-source",
   "name": "R",
   "pygments_lexer": "r",
   "version": "4.2.3"
  }
 },
 "nbformat": 4,
 "nbformat_minor": 4
}
