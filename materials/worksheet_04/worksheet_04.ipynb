{
 "cells": [
  {
   "cell_type": "markdown",
   "metadata": {
    "deletable": false,
    "editable": false,
    "nbgrader": {
     "cell_type": "markdown",
     "checksum": "2bc0ab1d62a0ed56ab2ad3c13fdcba23",
     "grade": false,
     "grade_id": "cell-f1e1d845873036f4",
     "locked": true,
     "schema_version": 3,
     "solution": false,
     "task": false
    }
   },
   "source": [
    "# Worksheet 4: Different Types of Input Variables and Interactions"
   ]
  },
  {
   "cell_type": "markdown",
   "metadata": {
    "deletable": false,
    "editable": false,
    "nbgrader": {
     "cell_type": "markdown",
     "checksum": "2330c49b79d97925eb3fd19dbc44f3f3",
     "grade": false,
     "grade_id": "cell-da4f21ec759fe7cc",
     "locked": true,
     "schema_version": 3,
     "solution": false,
     "task": false
    }
   },
   "source": [
    "# Multiple Linear Regression (MLR)\n",
    "\n",
    "This week we are going to \"unleash\" the scope of linear regression models and use them to study the association between a continuous response and *many* input variables of *different types*!! \n",
    "\n",
    "A linear regression model with many input variables is usually called a **Multiple Linear Regression (MLR)**. We will present models with:\n",
    "\n",
    "- Continuous and categorical input variables\n",
    "\n",
    "\n",
    "- Additive models and models with interaction terms"
   ]
  },
  {
   "cell_type": "markdown",
   "metadata": {
    "deletable": false,
    "editable": false,
    "nbgrader": {
     "cell_type": "markdown",
     "checksum": "f512f82d019d4de9e295d1a863b15b65",
     "grade": false,
     "grade_id": "cell-82d9926086d47a80",
     "locked": true,
     "schema_version": 3,
     "solution": false,
     "task": false
    },
    "tags": []
   },
   "source": [
    "# Learning Objectives:\n",
    "\n",
    "After completing this week's lecture and tutorial work, you will be able to:\n",
    "\n",
    "1. Give an example of a real problem that could be answered by a multiple linear regression.\n",
    "\n",
    "2. Interpret the coefficients and p-values of different types of input variables, including categorical input variables.\n",
    "\n",
    "3. Define interactions in the context of linear regression.\n",
    "\n",
    "4. Write a computer script to perform linear regression when input variables are continuous or discrete, and when there are interactions between some of these variables."
   ]
  },
  {
   "cell_type": "code",
   "execution_count": null,
   "metadata": {
    "deletable": false,
    "editable": false,
    "jupyter": {
     "outputs_hidden": true
    },
    "nbgrader": {
     "cell_type": "code",
     "checksum": "fb02d85f5dd3448c17ba0b8277d7d7b4",
     "grade": false,
     "grade_id": "cell-a2a153352bc44a68",
     "locked": true,
     "schema_version": 3,
     "solution": false,
     "task": false
    },
    "tags": []
   },
   "outputs": [],
   "source": [
    "# Run this cell before continuing.\n",
    "library(tidyverse)\n",
    "library(repr)\n",
    "library(infer)\n",
    "library(cowplot)\n",
    "library(broom)\n",
    "library(GGally)\n",
    "source(\"tests_worksheet_04.R\")"
   ]
  },
  {
   "cell_type": "markdown",
   "metadata": {
    "deletable": false,
    "editable": false,
    "nbgrader": {
     "cell_type": "markdown",
     "checksum": "7156831e68bec6004bb333f5008386b2",
     "grade": false,
     "grade_id": "cell-ee52500a6f5e8006",
     "locked": true,
     "schema_version": 3,
     "solution": false,
     "task": false
    }
   },
   "source": [
    "# PART I"
   ]
  },
  {
   "cell_type": "markdown",
   "metadata": {
    "deletable": false,
    "editable": false,
    "nbgrader": {
     "cell_type": "markdown",
     "checksum": "79fbf9bcdfb73066c212dea24d2f8b27",
     "grade": false,
     "grade_id": "cell-e9b0c70835891fa8",
     "locked": true,
     "schema_version": 3,
     "solution": false,
     "task": false
    }
   },
   "source": [
    "## 1. MLR: additive models with continuous input variables\n",
    "\n",
    "In this section, we will continue working with the dataset `US_cancer_data` introduced in `worksheet_03`. You noticed that there exists a positive association between mortality rates (measured by `TARGET_deathRate`) and the percentage of the county's populace in poverty (measured by `povertyPercent`).\n",
    "\n",
    "However, there may be other variables associated with mortality. Let's start by visualizing again the relationship between the variables in our data using the plotting function `ggpairs()`, from the library `GGally`. The `ggplot()` object's name will be `US_cancer_data_pairplots`."
   ]
  },
  {
   "cell_type": "code",
   "execution_count": null,
   "metadata": {
    "deletable": false,
    "editable": false,
    "nbgrader": {
     "cell_type": "code",
     "checksum": "dfd69f2e8ab631368286743abff1ddcf",
     "grade": false,
     "grade_id": "cell-14bec94f435065b2",
     "locked": true,
     "schema_version": 3,
     "solution": false,
     "task": false
    },
    "tags": []
   },
   "outputs": [],
   "source": [
    "US_cancer_data <- read_csv(\"data/US_county_cancer_data.csv\") %>%\n",
    "  select(TARGET_deathRate, povertyPercent, PctPrivateCoverage)"
   ]
  },
  {
   "cell_type": "code",
   "execution_count": null,
   "metadata": {
    "deletable": false,
    "editable": false,
    "nbgrader": {
     "cell_type": "code",
     "checksum": "d1c25fbd01604d371ee4d3cf075f1f35",
     "grade": false,
     "grade_id": "cell-4bfbcd7bf2300890",
     "locked": true,
     "schema_version": 3,
     "solution": false,
     "task": false
    },
    "tags": []
   },
   "outputs": [],
   "source": [
    "US_cancer_data_pairplots <- US_cancer_data %>%\n",
    "  ggpairs(progress = FALSE) +\n",
    "  theme(\n",
    "    text = element_text(size = 15),\n",
    "    plot.title = element_text(face = \"bold\"),\n",
    "    axis.title = element_text(face = \"bold\")\n",
    "  )\n",
    "US_cancer_data_pairplots"
   ]
  },
  {
   "cell_type": "markdown",
   "metadata": {
    "deletable": false,
    "editable": false,
    "nbgrader": {
     "cell_type": "markdown",
     "checksum": "04922f968f08934e2af58fe8ab79a54b",
     "grade": false,
     "grade_id": "cell-fec7f6f2d3be53a5",
     "locked": true,
     "schema_version": 3,
     "solution": false,
     "task": false
    }
   },
   "source": [
    "#### <font color=\"blue\">Should we study the relation of the response with input variables separately or jointly using linear regressions? </font>"
   ]
  },
  {
   "cell_type": "markdown",
   "metadata": {
    "deletable": false,
    "editable": false,
    "nbgrader": {
     "cell_type": "markdown",
     "checksum": "0be8281f0267ec0c41e9297818e51221",
     "grade": false,
     "grade_id": "cell-999efddaa87f6e21",
     "locked": true,
     "schema_version": 3,
     "solution": false,
     "task": false
    }
   },
   "source": [
    "### R Code\n",
    "\n",
    "In R, you can add input variables in the RHS of the formula with signs `+` or `*`, depending on the assumptions made. For example, in an **additive model**, variables are added to the model using `+`. If you want to model interactions between variables you use `*`.\n",
    "\n",
    "`MLR_poverty_coverage_add <- lm(TARGET_deathRate ~ povertyPercent + PctPrivateCoverage, data = US_cancer_data)`"
   ]
  },
  {
   "cell_type": "markdown",
   "metadata": {
    "deletable": false,
    "editable": false,
    "nbgrader": {
     "cell_type": "markdown",
     "checksum": "5079477b9048eb8aecebe119cb533be4",
     "grade": false,
     "grade_id": "cell-f2341623cf23ea5f",
     "locked": true,
     "schema_version": 3,
     "solution": false,
     "task": false
    }
   },
   "source": [
    "**Question 1.0**\n",
    "<br>{points: 2}\n",
    "\n",
    "Using the dataset `US_cancer_data` fit the following 3 models:\n",
    "\n",
    "**A.** A SLR with `TARGET_deathRate` as the response and `povertyPercent` as a single input variable. Call this model `SLR_poverty`\n",
    "\n",
    "**B.** A SLR with `TARGET_deathRate` as the response and `PctPrivateCoverage` as a single input variable. Call this model `SLR_coverage`\n",
    "\n",
    "**C.** An additive MLR with `TARGET_deathRate` as the response and `povertyPercent` and `PctPrivateCoverage` as input variables. Call this model `MLR_poverty_coverage`\n",
    "\n",
    "*Fill out those parts indicated with `...`, uncomment the corresponding code in the cell below, and run it.*"
   ]
  },
  {
   "cell_type": "code",
   "execution_count": null,
   "metadata": {
    "deletable": false,
    "nbgrader": {
     "cell_type": "code",
     "checksum": "74c0112856209f790d2d14afa7a41244",
     "grade": false,
     "grade_id": "cell-6c3053af7bc15cf8",
     "locked": false,
     "schema_version": 3,
     "solution": true,
     "task": false
    },
    "tags": []
   },
   "outputs": [],
   "source": [
    "# Model A \n",
    "# SLR_poverty <- ...(..., ...)\n",
    "# SLR_poverty\n",
    "\n",
    "# Model B\n",
    "# SLR_coverage <- ...(..., ...)\n",
    "# SLR_coverage\n",
    "\n",
    "# Model C\n",
    "# MLR_poverty_coverage <- ...(..., ...)\n",
    "# MLR_poverty_coverage\n",
    "\n",
    "# your code here\n",
    "fail() # No Answer - remove if you provide an answer"
   ]
  },
  {
   "cell_type": "code",
   "execution_count": null,
   "metadata": {
    "deletable": false,
    "editable": false,
    "nbgrader": {
     "cell_type": "code",
     "checksum": "abc457f5b02a04a7867466d6b15a9687",
     "grade": true,
     "grade_id": "cell-e5e9619068ec6fc6",
     "locked": true,
     "points": 1,
     "schema_version": 3,
     "solution": false,
     "task": false
    },
    "tags": []
   },
   "outputs": [],
   "source": [
    "test_1.0.0()\n",
    "test_1.0.1()\n",
    "test_1.0.2()"
   ]
  },
  {
   "cell_type": "markdown",
   "metadata": {
    "deletable": false,
    "editable": false,
    "nbgrader": {
     "cell_type": "markdown",
     "checksum": "25b712a92432d7e2fac9dcebfece9bf4",
     "grade": false,
     "grade_id": "cell-1c263f0fea96650d",
     "locked": true,
     "schema_version": 3,
     "solution": false,
     "task": false
    }
   },
   "source": [
    "**Question 1.1**\n",
    "<br>{points: 1}\n",
    "\n",
    "Use `tidy` and manipulate the output to obtain the estimated coefficients of the variable `PctPrivateCoverage` in models **B** and **C**, respectively. Assign your answer to an object called `SLR_coverage_coef` and `MLR_coverage_coef`, respectively.\n",
    "\n",
    "*Fill out those parts indicated with ..., uncomment the corresponding code in the cell below, and run it.*"
   ]
  },
  {
   "cell_type": "code",
   "execution_count": null,
   "metadata": {
    "deletable": false,
    "nbgrader": {
     "cell_type": "code",
     "checksum": "9f8bf3ce001772f520bb9f4152d68376",
     "grade": false,
     "grade_id": "cell-c3a6ef315856d940",
     "locked": false,
     "schema_version": 3,
     "solution": true,
     "task": false
    },
    "tags": []
   },
   "outputs": [],
   "source": [
    "#SLR_coverage_coef <- tidy(...) %>% mutate_if(is.numeric, round, 2) %>% \n",
    "#                        subset(term == \"...\")  %>% pull(...)\n",
    "#SLR_coverage_coef\n",
    "\n",
    "#MLR_coverage_coef <- tidy(MLR_cancer_poverty_coverage) %>% mutate_if(is.numeric, round, 2) %>% \n",
    "#                        subset(term == \"...\")  %>% pull(...)\n",
    "#MLR_coverage_coef\n",
    "\n",
    "\n",
    "\n",
    "# your code here\n",
    "fail() # No Answer - remove if you provide an answer"
   ]
  },
  {
   "cell_type": "code",
   "execution_count": null,
   "metadata": {
    "deletable": false,
    "editable": false,
    "nbgrader": {
     "cell_type": "code",
     "checksum": "78c64af1dcb4e53ea14b516de13cd9ea",
     "grade": true,
     "grade_id": "cell-e8cf16dd75d1fe83",
     "locked": true,
     "points": 1,
     "schema_version": 3,
     "solution": false,
     "task": false
    },
    "tags": []
   },
   "outputs": [],
   "source": [
    "test_1.1.0()\n",
    "test_1.1.1()"
   ]
  },
  {
   "cell_type": "markdown",
   "metadata": {
    "deletable": false,
    "editable": false,
    "nbgrader": {
     "cell_type": "markdown",
     "checksum": "362a059678eadc7ee5a0a6524e4ea7d4",
     "grade": false,
     "grade_id": "cell-e0d1e9302b5ffd5d",
     "locked": true,
     "schema_version": 3,
     "solution": false,
     "task": false
    }
   },
   "source": [
    "The results from **Question 1.1** show that the estimated relation between `TARGET_deathRate` and `PctPrivateCoverage` is ***not*** the same in both models. \n",
    "\n",
    "#### But why??\n",
    "\n",
    "- **In the MLR**, the coefficient of `PctPrivateCoverage` models the relation between `TARGET_deathRate` and `PctPrivateCoverage` *for any fix percentage of populace in poverty*.\n",
    "\n",
    "\n",
    "- **In the SLR**, the variable `povertyPercent` is not even in the model!! Thus, the variation in mortality due to this variable is part of the error term, together with many other variables that may be related with mortality!!\n",
    "\n",
    "Keeping these observations in mind, distinguish between the following interpretations:"
   ]
  },
  {
   "cell_type": "markdown",
   "metadata": {
    "deletable": false,
    "editable": false,
    "nbgrader": {
     "cell_type": "markdown",
     "checksum": "4cab06206d107b19ccb312a99d52bd2e",
     "grade": false,
     "grade_id": "cell-4166a7b5a8dd3e4f",
     "locked": true,
     "schema_version": 3,
     "solution": false,
     "task": false
    }
   },
   "source": [
    "**Question 1.2**\n",
    "<br>{points: 1}\n",
    "\n",
    "Use the estimates from **Question 1.1** to complete the following interpretations:\n",
    "\n",
    "1. ***On average***, the expected cancer mortality per capita is related with a `answer1.2.0` (cases/100,000) change for every 1 percent increase percentage of county residents with private health coverage. \n",
    "\n",
    "\n",
    "2. ***At any fix percentage of populace in poverty***, the expected cancer mortality per capita is related with a `answer1.2.1` (cases/100,000) change for every 1 percent increase percentage of county residents with private health coverage.\n",
    "\n",
    "\n",
    "*Assign your answers to the objects `answer1.2.0` and `answer1.2.1` (numeric type).* \n",
    "\n",
    "**Tip: Your answers should be the names of the objects used to store the estimates in the previous question**"
   ]
  },
  {
   "cell_type": "code",
   "execution_count": null,
   "metadata": {
    "deletable": false,
    "nbgrader": {
     "cell_type": "code",
     "checksum": "56ac45cde14c95b07816df0860abcec8",
     "grade": false,
     "grade_id": "cell-1f531a6a33ef6231",
     "locked": false,
     "schema_version": 3,
     "solution": true,
     "task": false
    },
    "tags": []
   },
   "outputs": [],
   "source": [
    "# answer1.2.0 <- ...\n",
    "#answer1.2.0\n",
    "\n",
    "# answer1.2.1 <- ...\n",
    "#answer1.2.1\n",
    "\n",
    "# your code here\n",
    "fail() # No Answer - remove if you provide an answer"
   ]
  },
  {
   "cell_type": "code",
   "execution_count": null,
   "metadata": {
    "deletable": false,
    "editable": false,
    "nbgrader": {
     "cell_type": "code",
     "checksum": "1a73ed9bbbea62c3b46daefb083b1968",
     "grade": true,
     "grade_id": "cell-ab9a7716b0d70932",
     "locked": true,
     "points": 1,
     "schema_version": 3,
     "solution": false,
     "task": false
    },
    "tags": []
   },
   "outputs": [],
   "source": [
    "test_1.2.0()\n",
    "test_1.2.1()"
   ]
  },
  {
   "cell_type": "markdown",
   "metadata": {
    "deletable": false,
    "editable": false,
    "nbgrader": {
     "cell_type": "markdown",
     "checksum": "be3ad6a71ffd5dcbc849be2ea3a439c1",
     "grade": false,
     "grade_id": "cell-1d29345fdfe81eac",
     "locked": true,
     "schema_version": 3,
     "solution": false,
     "task": false
    }
   },
   "source": [
    "**Question 1.3**\n",
    "<br>{points: 1}\n",
    "\n",
    "As we have learned for SLRs, `lm` uses some theoretical results to measure the sample-to-sample variation of the estimators. The same is true for the estimators of MLR coefficients! \n",
    "\n",
    "Use `tidy` to obtain the standard errors, statistics, and p-values for the coefficients of `MLR_poverty_coverage` model which are needed to perform statistical hypothesis tests. \n",
    "\n",
    "Store them in the variable `MLR_poverty_coverage_results`.\n",
    "\n",
    "*Fill out those parts indicated with ..., uncomment the corresponding code in the cell below, and run it.*"
   ]
  },
  {
   "cell_type": "code",
   "execution_count": null,
   "metadata": {
    "deletable": false,
    "nbgrader": {
     "cell_type": "code",
     "checksum": "ffccbd48a3c978ef1cafd0ce2cf2dab5",
     "grade": false,
     "grade_id": "cell-4caa40aab9d5f472",
     "locked": false,
     "schema_version": 3,
     "solution": true,
     "task": false
    },
    "tags": []
   },
   "outputs": [],
   "source": [
    "# MLR_poverty_coverage_results <- ...(...) %>% mutate_if(is.numeric, round, 2)\n",
    "# MLR_poverty_coverage_results\n",
    "\n",
    "# your code here\n",
    "fail() # No Answer - remove if you provide an answer"
   ]
  },
  {
   "cell_type": "code",
   "execution_count": null,
   "metadata": {
    "deletable": false,
    "editable": false,
    "nbgrader": {
     "cell_type": "code",
     "checksum": "8a9dbbca0467f16b60e4664da8ecb436",
     "grade": true,
     "grade_id": "cell-669d1af7dbfd9ed2",
     "locked": true,
     "points": 1,
     "schema_version": 3,
     "solution": false,
     "task": false
    },
    "tags": []
   },
   "outputs": [],
   "source": [
    "test_1.3()"
   ]
  },
  {
   "cell_type": "markdown",
   "metadata": {
    "deletable": false,
    "editable": false,
    "nbgrader": {
     "cell_type": "markdown",
     "checksum": "4aceee0210fb3dcf968f12b06505c53e",
     "grade": false,
     "grade_id": "cell-8bdff6da17cfb4e7",
     "locked": true,
     "schema_version": 3,
     "solution": false,
     "task": false
    }
   },
   "source": [
    "**Question 1.4**\n",
    "<br>{points: 1}\n",
    "\n",
    "Based on the output stored in `MLR_poverty_coverage_results` with a significance level $\\alpha = 0.05$, in plain words, what is the conclusion of the hypothesis testing for the association between mortality and the percentage of county residents with private health coverage?\n",
    "\n",
    "**A.** We reject the null hypothesis; thus, holding the county's populace in poverty constant, the percentage of county residents with private health coverage has a statistically significant effect on the county's cancer mortality per capita (cases/100,000).\n",
    "\n",
    "**B.** We fail to reject the null hypothesis; thus, holding the county's populace in poverty constant, the percentage of county residents with private health coverage does not have a statistically significant effect on the county's cancer mortality per capita (cases/100,000).\n",
    "\n",
    "**C.** We fail to reject the null hypothesis; thus, holding the county's populace in poverty constant, the percentage of county residents with private health coverage is not statistically associated with the county's cancer mortality per capita (cases/100,000).\n",
    "\n",
    "**D.** We reject the null hypothesis; thus, holding the county's populace in poverty constant, the percentage of county residents with private health coverage is statistically associated with the county's cancer mortality per capita (cases/100,000).\n",
    "\n",
    "\n",
    "*Assign your answer to an object called `answer1.4`. Your answer should be one of `\"A\"`, `\"B\"`, `\"C\"`, or `\"D\"` surrounded by quotes.*"
   ]
  },
  {
   "cell_type": "code",
   "execution_count": null,
   "metadata": {
    "deletable": false,
    "nbgrader": {
     "cell_type": "code",
     "checksum": "43d787e9da21bcdb4920240a74123b76",
     "grade": false,
     "grade_id": "cell-a3da1cb1cf749dab",
     "locked": false,
     "schema_version": 3,
     "solution": true,
     "task": false
    }
   },
   "outputs": [],
   "source": [
    "# answer1.4 <- \n",
    "\n",
    "# your code here\n",
    "fail() # No Answer - remove if you provide an answer"
   ]
  },
  {
   "cell_type": "code",
   "execution_count": null,
   "metadata": {
    "deletable": false,
    "editable": false,
    "nbgrader": {
     "cell_type": "code",
     "checksum": "eaa9fef8b213fd86312c4a43f84f9fc2",
     "grade": true,
     "grade_id": "cell-9439f55a394cc7d8",
     "locked": true,
     "points": 1,
     "schema_version": 3,
     "solution": false,
     "task": false
    }
   },
   "outputs": [],
   "source": [
    "test_1.4()"
   ]
  },
  {
   "cell_type": "markdown",
   "metadata": {
    "deletable": false,
    "editable": false,
    "nbgrader": {
     "cell_type": "markdown",
     "checksum": "d131a8c20f2f36f1ce09c87a622a3604",
     "grade": false,
     "grade_id": "cell-d03e76b877e96808",
     "locked": true,
     "schema_version": 3,
     "solution": false,
     "task": false
    }
   },
   "source": [
    "#### <font color=\"blue\"> MLR *simultaneously* models the association of multiple predictors with the response\n",
    "\n",
    "In additive models:\n",
    "\n",
    "- we assume that the association between each input and the response does *not* vary across values of other variables\n",
    "    \n",
    "    \n",
    "- each estimate is interpreted as the association of the input variable with the response, keeping all other input variables constant (at any value)!! "
   ]
  },
  {
   "cell_type": "markdown",
   "metadata": {
    "deletable": false,
    "editable": false,
    "nbgrader": {
     "cell_type": "markdown",
     "checksum": "82f57cb561e937911cb5240ac41ecfae",
     "grade": false,
     "grade_id": "cell-2d1ba07bb9b4b1f0",
     "locked": true,
     "schema_version": 3,
     "solution": false,
     "task": false
    }
   },
   "source": [
    "## 2. Categorical input variables with 2 or more levels\n",
    "\n",
    "In STAT 201 and in week 2, we used statistical tools to examine if population quantities differ among different groups.\n",
    "\n",
    "- For example: does the average size donation depend on a website version (with 2 or more variations of it)?\n",
    "\n",
    "Note that even in those cases we are examining the association between 2 variables\n",
    "\n",
    "- In the example above: `donation` (in $) *vs* `website version` (with levels A and B)  \n",
    "\n",
    "#### Can we use linear regression to answer to compare population quantities from different groups??\n",
    "\n",
    "Let's use the `US_cancer_data` to explore if the cancer mortality differ by states. \n",
    "\n",
    "> Note: the original `US_county_cancer_data` does not contain a specific column for the state where each county belongs, so we'll get that information from the variable `Geography` using code to split strings.\n",
    "\n",
    "Let's start by comparing the mortality rates in 2 states: *Alabama* vs *California*. "
   ]
  },
  {
   "cell_type": "code",
   "execution_count": null,
   "metadata": {
    "deletable": false,
    "editable": false,
    "nbgrader": {
     "cell_type": "code",
     "checksum": "74e6b455cb2bb37522603223bf96c57a",
     "grade": false,
     "grade_id": "cell-7e42615a46c8b5b9",
     "locked": true,
     "schema_version": 3,
     "solution": false,
     "task": false
    },
    "tags": []
   },
   "outputs": [],
   "source": [
    "US_cancer_data <- read_csv(\"data/US_county_cancer_data.csv\") %>%\n",
    "  select(TARGET_deathRate, povertyPercent, PctPrivateCoverage, Geography)\n",
    "\n",
    "US_cancer_data$state <- sapply(strsplit(US_cancer_data$Geography, \", \"), \"[\", 2)  \n",
    "                            \n",
    "head(US_cancer_data,3)\n",
    "\n",
    "str(US_cancer_data)"
   ]
  },
  {
   "cell_type": "code",
   "execution_count": null,
   "metadata": {
    "deletable": false,
    "editable": false,
    "nbgrader": {
     "cell_type": "code",
     "checksum": "9c76ac6fdc89c7f2efdfd535db216ac1",
     "grade": false,
     "grade_id": "cell-6dd23eb9cc946271",
     "locked": true,
     "schema_version": 3,
     "solution": false,
     "task": false
    },
    "tags": []
   },
   "outputs": [],
   "source": [
    "AC_cancer_data <- US_cancer_data %>%filter(state %in% c(\"California\", \"Alabama\"))%>% \n",
    "                            droplevels()\n",
    "\n",
    "AC_cancer_data$state <- as.factor(AC_cancer_data$state)\n",
    "\n",
    "str(AC_cancer_data)"
   ]
  },
  {
   "cell_type": "markdown",
   "metadata": {
    "deletable": false,
    "editable": false,
    "nbgrader": {
     "cell_type": "markdown",
     "checksum": "1166f41345c04c37c24070f048da02d9",
     "grade": false,
     "grade_id": "cell-15aa0f5be3b0c198",
     "locked": true,
     "schema_version": 3,
     "solution": false,
     "task": false
    }
   },
   "source": [
    "**Question 2.0**\n",
    "<br>{points: 1}\n",
    "\n",
    "Let's start by graphically compare the distributions and spread of mortality rates in both states. We will use side-by-side boxplots. The `ggplot()` object's name will be `TARGET_deathRate_boxplots`. \n",
    "\n",
    "> Note that function `stat_summary()` will be needed to add the average mortality rates in each state as points on top of each boxplot.\n",
    "\n",
    "*Fill out those parts indicated with `...`, uncomment the corresponding code in the cell below, and run it.*"
   ]
  },
  {
   "cell_type": "code",
   "execution_count": null,
   "metadata": {
    "deletable": false,
    "nbgrader": {
     "cell_type": "code",
     "checksum": "6dba4c0105574c927bddc9a9efe34dde",
     "grade": false,
     "grade_id": "cell-71bef695d66fdf12",
     "locked": false,
     "schema_version": 3,
     "solution": true,
     "task": false
    },
    "tags": []
   },
   "outputs": [],
   "source": [
    "options(repr.plot.width = 15, repr.plot.height = 7) # Adjust these numbers so the plot looks good in your desktop.\n",
    "\n",
    "# TARGET_deathRate_boxplots <- ... %>%\n",
    "#   ggplot() +\n",
    "#   ...(aes(..., ..., fill = ...)) +\n",
    "#   theme(\n",
    "#     text = element_text(size = 18),\n",
    "#     plot.title = element_text(face = \"bold\"),\n",
    "#     axis.title = element_text(face = \"bold\")\n",
    "#   ) +\n",
    "#   ggtitle(...) +\n",
    "#   xlab(...) +\n",
    "#   ylab(...) +\n",
    "#   stat_summary(aes(..., ..., fill = ...),\n",
    "#     fun = ..., colour = \"yellow\", geom = \"point\",\n",
    "#     shape = 18, size = 5\n",
    "#   )\n",
    "\n",
    "# TARGET_deathRate_boxplots\n",
    "\n",
    "# your code here\n",
    "fail() # No Answer - remove if you provide an answer"
   ]
  },
  {
   "cell_type": "code",
   "execution_count": null,
   "metadata": {
    "deletable": false,
    "editable": false,
    "nbgrader": {
     "cell_type": "code",
     "checksum": "340e4b1068d8b4415dfc1bc471ca9c0d",
     "grade": true,
     "grade_id": "cell-0c392b9d7ff9ff85",
     "locked": true,
     "points": 1,
     "schema_version": 3,
     "solution": false,
     "task": false
    },
    "tags": []
   },
   "outputs": [],
   "source": [
    "test_2.0()"
   ]
  },
  {
   "cell_type": "markdown",
   "metadata": {
    "deletable": false,
    "editable": false,
    "nbgrader": {
     "cell_type": "markdown",
     "checksum": "615df3592e7404bf81b7c904607e9935",
     "grade": false,
     "grade_id": "cell-04cf4b926da687d8",
     "locked": true,
     "schema_version": 3,
     "solution": false,
     "task": false
    }
   },
   "source": [
    "The side-by-side boxplots in `TARGET_deathRate_boxplots` show some differences in mortality rates between both states. Let's use data, and a linear regression to estimate the relationship between these variables and test this hypothesis!!\n",
    "\n",
    "#### How can we include a categorical variable in a mathematical equation??"
   ]
  },
  {
   "cell_type": "markdown",
   "metadata": {
    "deletable": false,
    "editable": false,
    "nbgrader": {
     "cell_type": "markdown",
     "checksum": "fa12abf5a16f08e63f0ca34fcc18b84f",
     "grade": false,
     "grade_id": "cell-fdf0edc709accccf",
     "locked": true,
     "schema_version": 3,
     "solution": false,
     "task": false
    }
   },
   "source": [
    "Note that this is like having 2 LR in one:\n",
    "\n",
    "- For counties in Alabama, $X_i=0$, then $Y_i = \\beta_0 + \\beta_1 \\times 0 + \\varepsilon_i = \\beta_0 + \\varepsilon_i$\n",
    "\n",
    "\n",
    "- For counties in California, $X_i=1$, then $Y_i = \\beta_0 + \\beta_1 \\times 1 + \\varepsilon_i = \\beta_0 + \\beta_1 + \\varepsilon_i$\n",
    "\n",
    "\n",
    "Then,\n",
    "\n",
    "\n",
    "- For counties in Alabama, $X_i=0$, $E[Y_i|X_i=0] = \\beta_0$\n",
    "\n",
    "\n",
    "- For counties in California, $X_i=1$, $E[Y_i|X_i=1] = \\beta_0 + \\beta_1$\n",
    "\n",
    "\n"
   ]
  },
  {
   "cell_type": "markdown",
   "metadata": {
    "deletable": false,
    "editable": false,
    "nbgrader": {
     "cell_type": "markdown",
     "checksum": "127e7711ca96dbff98505233a0b01045",
     "grade": false,
     "grade_id": "cell-6a6cfab503bd4bcd",
     "locked": true,
     "schema_version": 3,
     "solution": false,
     "task": false
    }
   },
   "source": [
    "### R Code\n",
    "\n",
    "R creates special numerical variables for you, called dummy variables, to include in the model if you indicate that the input variable (in our case `state`) is a *factor*!! For example, \n",
    "\n",
    "`AC_data_LR <- lm(TARGET_deathRate ~ state, data = AC_cancer_data)`\n",
    "\n",
    "If `state` is a factor, R creates a dummy variables to estimate the model:\n",
    "\n",
    "- `R` calls the dummy variable `stateCalifornia` (name of the variable followed by the level corresponding to 1)\n",
    "\n",
    "\n",
    "- The reference level (dummy variable = 0, level \"left out\") is \"Alabama\", chosen alphabetically.\n",
    "\n",
    "#### Important: Note that there's not a *line* in this case!! We can still call it a \"linear regression\" because the model is a linear combination of variables! "
   ]
  },
  {
   "cell_type": "markdown",
   "metadata": {
    "deletable": false,
    "editable": false,
    "nbgrader": {
     "cell_type": "markdown",
     "checksum": "f54139b3e8d4304cf644235c138a0c16",
     "grade": false,
     "grade_id": "cell-7dd6ff8b03ac703f",
     "locked": true,
     "schema_version": 3,
     "solution": false,
     "task": false
    }
   },
   "source": [
    "**Question 2.1**\n",
    "<br>{points: 1}\n",
    "\n",
    "Using `AC_cancer_data`, use a LR to estimate the relation between `TARGET_deathRate` and `state` and assign it to the object `AC_data_LR`.\n",
    "\n",
    "*Fill out those parts indicated with `...`, uncomment the corresponding code in the cell below, and run it.*"
   ]
  },
  {
   "cell_type": "code",
   "execution_count": null,
   "metadata": {
    "deletable": false,
    "nbgrader": {
     "cell_type": "code",
     "checksum": "41fd1c7de3e1cb997e160a488dc9452d",
     "grade": false,
     "grade_id": "cell-ac71cc4d1135a313",
     "locked": false,
     "schema_version": 3,
     "solution": true,
     "task": false
    },
    "tags": []
   },
   "outputs": [],
   "source": [
    "# AC_data_LR <- ...(...,\n",
    "#   ...\n",
    "# )\n",
    "# AC_data_LR\n",
    "\n",
    "# your code here\n",
    "fail() # No Answer - remove if you provide an answer"
   ]
  },
  {
   "cell_type": "code",
   "execution_count": null,
   "metadata": {
    "deletable": false,
    "editable": false,
    "nbgrader": {
     "cell_type": "code",
     "checksum": "44c4da1df28d3bffa13ba40a0b65fa14",
     "grade": true,
     "grade_id": "cell-2b958124fea93936",
     "locked": true,
     "points": 1,
     "schema_version": 3,
     "solution": false,
     "task": false
    },
    "tags": []
   },
   "outputs": [],
   "source": [
    "test_2.1.0()\n",
    "test_2.1.1()"
   ]
  },
  {
   "cell_type": "markdown",
   "metadata": {
    "deletable": false,
    "editable": false,
    "nbgrader": {
     "cell_type": "markdown",
     "checksum": "abe1288ccbdd0e93cdb009729ca55122",
     "grade": false,
     "grade_id": "cell-72a6a5135ffaaf3b",
     "locked": true,
     "schema_version": 3,
     "solution": false,
     "task": false
    }
   },
   "source": [
    "**Question 2.2**\n",
    "<br>{points: 1}\n",
    "\n",
    "Find the estimated coefficients of `AC_data_LR` using `tidy()`. Report the estimated coefficients, their standard errors, and corresponding $p$-values. Include the corresponding asymptotic 95% confidence intervals. \n",
    "\n",
    "Store the results in the variable `AC_data_LR_results`.\n",
    "\n",
    "*Fill out those parts indicated with `...`, uncomment the corresponding code in the cell below, and run it.*"
   ]
  },
  {
   "cell_type": "code",
   "execution_count": null,
   "metadata": {
    "deletable": false,
    "nbgrader": {
     "cell_type": "code",
     "checksum": "8eb80ee8655f56381e40572c45daf71a",
     "grade": false,
     "grade_id": "cell-9294e9ba8d1b9394",
     "locked": false,
     "schema_version": 3,
     "solution": true,
     "task": false
    },
    "tags": []
   },
   "outputs": [],
   "source": [
    "# AC_data_LR_results <- ...(..., ...) %>% mutate_if(is.numeric, round, 2)\n",
    "# AC_data_LR_results\n",
    "\n",
    "# your code here\n",
    "fail() # No Answer - remove if you provide an answer"
   ]
  },
  {
   "cell_type": "code",
   "execution_count": null,
   "metadata": {
    "deletable": false,
    "editable": false,
    "nbgrader": {
     "cell_type": "code",
     "checksum": "79c3ad1295454a0994b0e9076a32a108",
     "grade": true,
     "grade_id": "cell-57610c27ce370eb0",
     "locked": true,
     "points": 1,
     "schema_version": 3,
     "solution": false,
     "task": false
    },
    "tags": []
   },
   "outputs": [],
   "source": [
    "test_2.2()"
   ]
  },
  {
   "cell_type": "markdown",
   "metadata": {
    "deletable": false,
    "editable": false,
    "nbgrader": {
     "cell_type": "markdown",
     "checksum": "818f99bbeaa22528c90b656d15a2ee23",
     "grade": false,
     "grade_id": "cell-349903d046e57131",
     "locked": true,
     "schema_version": 3,
     "solution": false,
     "task": false
    }
   },
   "source": [
    "**Question 2.3**\n",
    "<br>{points: 1}\n",
    "\n",
    "Recall that we want to investigate if the expected mortality rates are statistically different between states. Hence, it will be necessary to perform a hypothesis testing on the regression coefficient corresponding to `state`. In plain words, the hypotheses ($H_0$ versus $H_1$) are the following:\n",
    "\n",
    "$$H_0: \\text{there is no difference in the expected mortality rates (means) between both states}$$\n",
    "$$H_1: \\text{there is a difference in the expected mortality rates (means) between both states}$$\n",
    "\n",
    "What is the mathematical translation of these hypotheses?\n",
    "\n",
    "**A.** $H_0: \\beta_1 = 0$ vs. $H_1: \\beta_1 > 0$\n",
    "\n",
    "**B.** $H_0: \\beta_0 = 0$ vs. $H_1: \\beta_0 \\neq 0$\n",
    "\n",
    "**C.** $H_0: \\beta_0 = 0$ vs. $H_1: \\beta_0 > 0$\n",
    "\n",
    "**D.** $H_0: \\hat{\\beta}_1$ = 0 vs. $H_1: \\hat{\\beta}_1 \\neq 0$\n",
    "\n",
    "**E.** $H_0: \\hat{\\beta}_0$ = 0 vs. $H_1: \\hat{\\beta}_0 > 0$\n",
    "\n",
    "**F.** $H_0: \\beta_1 = 0$ vs. $H_1: \\beta_1 \\neq 0$\n",
    "\n",
    "*Assign your answer to an object called `answer2.3`. Your answer should be one of `\"A\"`, `\"B\"`, `\"C\"`, `\"D\"`, `\"E\"`, or `\"F\"` surrounded by quotes.*"
   ]
  },
  {
   "cell_type": "code",
   "execution_count": null,
   "metadata": {
    "deletable": false,
    "nbgrader": {
     "cell_type": "code",
     "checksum": "42bf068382585eafc24c4ce06d1a89ee",
     "grade": false,
     "grade_id": "cell-8ca28d9fe6e21a19",
     "locked": false,
     "schema_version": 3,
     "solution": true,
     "task": false
    }
   },
   "outputs": [],
   "source": [
    "# answer2.3 <- \n",
    "\n",
    "# your code here\n",
    "fail() # No Answer - remove if you provide an answer"
   ]
  },
  {
   "cell_type": "code",
   "execution_count": null,
   "metadata": {
    "deletable": false,
    "editable": false,
    "nbgrader": {
     "cell_type": "code",
     "checksum": "801772c34d7a663b885f2087c4725227",
     "grade": true,
     "grade_id": "cell-936e1a3537f9f0ab",
     "locked": true,
     "points": 1,
     "schema_version": 3,
     "solution": false,
     "task": false
    }
   },
   "outputs": [],
   "source": [
    "test_2.3()"
   ]
  },
  {
   "cell_type": "markdown",
   "metadata": {
    "deletable": false,
    "editable": false,
    "nbgrader": {
     "cell_type": "markdown",
     "checksum": "a29162aabaa02e474358daaa2edc2d70",
     "grade": false,
     "grade_id": "cell-70ce39d223c56952",
     "locked": true,
     "schema_version": 3,
     "solution": false,
     "task": false
    }
   },
   "source": [
    "**Question 2.4**\n",
    "<br>{points: 1}\n",
    "\n",
    "Using the corresponding $p$-value stored in `AC_data_LR_results` and a **significance level $\\alpha = 0.05$**, in plain words, what is the conclusion of the hypothesis test in **Question 2.3**?\n",
    "\n",
    "**A.** We fail to reject the null hypothesis; thus, there is no statistically significant difference in the mortality rates between states.\n",
    "\n",
    "**B.** We reject the alternative hypothesis; thus, there is no statistically significant difference in the average mortality rates between states.\n",
    "\n",
    "**C.** We reject the null hypothesis; thus, there is a statistically significant difference in the average mortality rates between states.\n",
    "\n",
    "*Assign your answer to an object called `answer2.4`. Your answer should be one of `\"A\"`, `\"B\"`, or `\"C\"`, surrounded by quotes.*"
   ]
  },
  {
   "cell_type": "code",
   "execution_count": null,
   "metadata": {
    "deletable": false,
    "nbgrader": {
     "cell_type": "code",
     "checksum": "fa7fb29e168295ddd6199cdc43245fb9",
     "grade": false,
     "grade_id": "cell-171580d19801a8fc",
     "locked": false,
     "schema_version": 3,
     "solution": true,
     "task": false
    }
   },
   "outputs": [],
   "source": [
    "# answer2.4 <- \n",
    "\n",
    "# your code here\n",
    "fail() # No Answer - remove if you provide an answer"
   ]
  },
  {
   "cell_type": "code",
   "execution_count": null,
   "metadata": {
    "deletable": false,
    "editable": false,
    "nbgrader": {
     "cell_type": "code",
     "checksum": "06287bcb963506e246ba2839953b5f89",
     "grade": true,
     "grade_id": "cell-838f7849134cd6fe",
     "locked": true,
     "points": 1,
     "schema_version": 3,
     "solution": false,
     "task": false
    }
   },
   "outputs": [],
   "source": [
    "test_2.4()"
   ]
  },
  {
   "cell_type": "code",
   "execution_count": null,
   "metadata": {
    "deletable": false,
    "editable": false,
    "nbgrader": {
     "cell_type": "code",
     "checksum": "6e0eaa93ff7e38e4c22cd8f6e98cbc19",
     "grade": false,
     "grade_id": "cell-10025b2da2bab927",
     "locked": true,
     "schema_version": 3,
     "solution": false,
     "task": false
    }
   },
   "outputs": [],
   "source": [
    "AC_data_LR_results"
   ]
  },
  {
   "cell_type": "markdown",
   "metadata": {
    "deletable": false,
    "editable": false,
    "nbgrader": {
     "cell_type": "markdown",
     "checksum": "b81a657fb65d57d4ee6bd1912ea709f1",
     "grade": false,
     "grade_id": "cell-1e3ed8f6cfb8008d",
     "locked": true,
     "schema_version": 3,
     "solution": false,
     "task": false
    }
   },
   "source": [
    "**Question 2.5**\n",
    "<br>{points: 1}\n",
    "\n",
    "\n",
    "What is the correct interpretation of the estimated regression coefficient for the dummy variable `stateCalifornia`?\n",
    "\n",
    "**A.** The average mortality rate in California is 34.63 (cases/100,000) below that of Alabama.\n",
    "\n",
    "**B.** The average mortality rate in Alabama is 34.63 (cases/100,000) below that of California.\n",
    "\n",
    "**C.** The average mortality rate in California is 34.63 (cases/100,000).\n",
    "\n",
    "\n",
    "*Assign your answers to the object `answer2.5` (it should be one of `\"A\"`, `\"B\"`, or `\"C\"` surrounded by quotes).*"
   ]
  },
  {
   "cell_type": "code",
   "execution_count": null,
   "metadata": {
    "deletable": false,
    "nbgrader": {
     "cell_type": "code",
     "checksum": "2a48c749cc415b3f260d61ec5ddf9b43",
     "grade": false,
     "grade_id": "cell-974569bc8b3b9f4d",
     "locked": false,
     "schema_version": 3,
     "solution": true,
     "task": false
    }
   },
   "outputs": [],
   "source": [
    "# answer2.5 <- ...\n",
    "\n",
    "# your code here\n",
    "fail() # No Answer - remove if you provide an answer"
   ]
  },
  {
   "cell_type": "code",
   "execution_count": null,
   "metadata": {
    "deletable": false,
    "editable": false,
    "nbgrader": {
     "cell_type": "code",
     "checksum": "df1fdf1894f620e99884f01a0442fda6",
     "grade": true,
     "grade_id": "cell-689404c848bdbf57",
     "locked": true,
     "points": 1,
     "schema_version": 3,
     "solution": false,
     "task": false
    }
   },
   "outputs": [],
   "source": [
    "test_2.5()"
   ]
  },
  {
   "cell_type": "markdown",
   "metadata": {
    "deletable": false,
    "editable": false,
    "nbgrader": {
     "cell_type": "markdown",
     "checksum": "d1c32793dee7c08ba41dc6752869172c",
     "grade": false,
     "grade_id": "cell-4a32c1f2fbee683c",
     "locked": true,
     "schema_version": 3,
     "solution": false,
     "task": false
    }
   },
   "source": [
    "### But wait: isn't this a 2-sample t-test??\n",
    "\n",
    "> run the following cell and discuss results with your neighbour."
   ]
  },
  {
   "cell_type": "code",
   "execution_count": null,
   "metadata": {
    "deletable": false,
    "editable": false,
    "nbgrader": {
     "cell_type": "code",
     "checksum": "1a03dc7e28424c29ed98fc8bc8cf1915",
     "grade": false,
     "grade_id": "cell-00b0e2f481d93a54",
     "locked": true,
     "schema_version": 3,
     "solution": false,
     "task": false
    }
   },
   "outputs": [],
   "source": [
    "t.test(TARGET_deathRate ~ state,AC_cancer_data,var.equal=T)"
   ]
  },
  {
   "cell_type": "markdown",
   "metadata": {
    "deletable": false,
    "editable": false,
    "nbgrader": {
     "cell_type": "markdown",
     "checksum": "7aba354105fe9d5ad06f2483504b3a26",
     "grade": false,
     "grade_id": "cell-6d25c79cd467ed7a",
     "locked": true,
     "schema_version": 3,
     "solution": false,
     "task": false
    }
   },
   "source": [
    "#### This is not a coincidence! `lm` is running the *same* *t*-test!!"
   ]
  },
  {
   "cell_type": "markdown",
   "metadata": {
    "deletable": false,
    "editable": false,
    "nbgrader": {
     "cell_type": "markdown",
     "checksum": "f0f8a1a2f48194f6edc95b9b81832c93",
     "grade": false,
     "grade_id": "cell-ecc1ba485f634be7",
     "locked": true,
     "schema_version": 3,
     "solution": false,
     "task": false
    }
   },
   "source": [
    "### Categorical variable with more than 2 levels¶\n",
    "\n",
    "But what do we do if the categorical variable has more levels??!\n",
    "\n",
    "We need additional dummy variables! Dummy variables are comparisons to a *reference* level. Thus, we need more of these variables to compare all other levels with respect to the reference.\n",
    "\n",
    "Don't worry, R will create these variables (as long as the categorical variables is a factor)."
   ]
  },
  {
   "cell_type": "code",
   "execution_count": null,
   "metadata": {
    "deletable": false,
    "editable": false,
    "nbgrader": {
     "cell_type": "code",
     "checksum": "7833ed6d04f5c4a5dc0bee93ed8f8568",
     "grade": false,
     "grade_id": "cell-9f33651d68c60288",
     "locked": true,
     "schema_version": 3,
     "solution": false,
     "task": false
    },
    "tags": []
   },
   "outputs": [],
   "source": [
    "ACK_cancer_data <- US_cancer_data %>%filter(state %in% c(\"California\", \"Alabama\", \"Kansas\"))%>% \n",
    "                            droplevels()\n",
    "\n",
    "ACK_cancer_data$state <- as.factor(ACK_cancer_data$state)"
   ]
  },
  {
   "cell_type": "code",
   "execution_count": null,
   "metadata": {
    "deletable": false,
    "editable": false,
    "nbgrader": {
     "cell_type": "code",
     "checksum": "77f3c01567a01774b8fc0a1206c3d494",
     "grade": false,
     "grade_id": "cell-d1b3a92b37895e76",
     "locked": true,
     "schema_version": 3,
     "solution": false,
     "task": false
    },
    "tags": []
   },
   "outputs": [],
   "source": [
    "ACK_data_LR <- tidy(lm(TARGET_deathRate ~ state,\n",
    "                  data = ACK_cancer_data))  %>% mutate_if(is.numeric, round, 3)\n",
    "ACK_data_LR"
   ]
  },
  {
   "cell_type": "markdown",
   "metadata": {
    "deletable": false,
    "editable": false,
    "nbgrader": {
     "cell_type": "markdown",
     "checksum": "914c3e1abf7465af3536a2b0c9762757",
     "grade": false,
     "grade_id": "cell-afdd9961cbbef389",
     "locked": true,
     "schema_version": 3,
     "solution": false,
     "task": false
    }
   },
   "source": [
    "#### <font color=\"blue\"> Categorical variables can be included in a LR using dummy variables\n",
    "\n",
    "Dummy variables:\n",
    "\n",
    "- R creates them for all factors in the model\n",
    "    \n",
    "    \n",
    "- (by default) a reference level is chosen alphabetically \n",
    "    \n",
    "\n",
    "- levels of a categorical variable are compared to the reference level!! "
   ]
  },
  {
   "cell_type": "markdown",
   "metadata": {
    "deletable": false,
    "editable": false,
    "nbgrader": {
     "cell_type": "markdown",
     "checksum": "0786121535bb4404e0b7975b7a76426e",
     "grade": false,
     "grade_id": "cell-85f6b5d9210bc0ab",
     "locked": true,
     "schema_version": 3,
     "solution": false,
     "task": false
    }
   },
   "source": [
    "# PART II"
   ]
  },
  {
   "cell_type": "markdown",
   "metadata": {
    "deletable": false,
    "editable": false,
    "nbgrader": {
     "cell_type": "markdown",
     "checksum": "6c482153f69501853c05c64642125ea5",
     "grade": false,
     "grade_id": "cell-b0786b1179eeda7a",
     "locked": true,
     "schema_version": 3,
     "solution": false,
     "task": false
    }
   },
   "source": [
    "## 3. MLR: additive model with one continuous and one categorical variable"
   ]
  },
  {
   "cell_type": "markdown",
   "metadata": {
    "deletable": false,
    "editable": false,
    "nbgrader": {
     "cell_type": "markdown",
     "checksum": "fb60b9630053734a070a72db896bf56a",
     "grade": false,
     "grade_id": "cell-b4095171532c8b1f",
     "locked": true,
     "schema_version": 3,
     "solution": false,
     "task": false
    }
   },
   "source": [
    "**Question 3.0**\n",
    "<br>{points: 1}\n",
    "\n",
    "Use the data to estimate this additive model. Report the estimated coefficients, their standard errors, and corresponding $p$-values using `tidy()`. Include the corresponding asymptotic 95% confidence intervals. \n",
    "\n",
    "Store the results in the variable `MLR_state_poverty_add_results`.\n",
    "\n",
    "*Fill out those parts indicated with `...`, uncomment the corresponding code in the cell below, and run it.*"
   ]
  },
  {
   "cell_type": "code",
   "execution_count": null,
   "metadata": {
    "deletable": false,
    "nbgrader": {
     "cell_type": "code",
     "checksum": "d096758ec617937c1e2325264875aefc",
     "grade": false,
     "grade_id": "cell-2946a12265647212",
     "locked": false,
     "schema_version": 3,
     "solution": true,
     "task": false
    },
    "tags": []
   },
   "outputs": [],
   "source": [
    "# MLR_state_poverty_add <- ...(...,\n",
    "#   ...\n",
    "# )\n",
    "# MLR_state_poverty_add\n",
    "\n",
    "# MLR_state_poverty_add_results <- ...(..., ...) %>% mutate_if(is.numeric, round, 2)\n",
    "# MLR_state_poverty_add_results\n",
    "\n",
    "# your code here\n",
    "fail() # No Answer - remove if you provide an answer"
   ]
  },
  {
   "cell_type": "code",
   "execution_count": null,
   "metadata": {
    "deletable": false,
    "editable": false,
    "nbgrader": {
     "cell_type": "code",
     "checksum": "8b0e71778b6718ad1cb938fa3f017253",
     "grade": true,
     "grade_id": "cell-be7150262eba4cb3",
     "locked": true,
     "points": 1,
     "schema_version": 3,
     "solution": false,
     "task": false
    },
    "tags": []
   },
   "outputs": [],
   "source": [
    "test_3.0()"
   ]
  },
  {
   "cell_type": "markdown",
   "metadata": {
    "deletable": false,
    "editable": false,
    "nbgrader": {
     "cell_type": "markdown",
     "checksum": "17eaa2f3392450732a5fe925ffe7c6c6",
     "grade": false,
     "grade_id": "cell-ce31044ed34aab3c",
     "locked": true,
     "schema_version": 3,
     "solution": false,
     "task": false
    }
   },
   "source": [
    "#### NOTE: there are 3 coefficients for 2 lines because the additive model assumes a *common* slope!!"
   ]
  },
  {
   "cell_type": "markdown",
   "metadata": {
    "deletable": false,
    "editable": false,
    "nbgrader": {
     "cell_type": "markdown",
     "checksum": "1d92b46244e484ad17cead8eeca110f4",
     "grade": false,
     "grade_id": "cell-1c26185c5851d59e",
     "locked": true,
     "schema_version": 3,
     "solution": false,
     "task": false
    }
   },
   "source": [
    "**Question 3.1**\n",
    "<br>{points: 1}\n",
    "\n",
    "Using a **significance level $\\alpha = 0.10$**, and the results in `MLR_state_poverty_add_results`, which of the following interpretations is correct?\n",
    "\n",
    "**A.** On average, the mortality rate in California is statistically different from that in Alabama.\n",
    "\n",
    "**B.** On average, the mortality rate is statistically associated with poverty.\n",
    "\n",
    "**C.** The association between mortality and poverty differs per state.\n",
    "\n",
    "**D.** The expected mortality rate is the same in both states.\n",
    "\n",
    "*Assign your answers to the object `answer3.1`. Your answers have to be included in a single string indicating the correct options **in alphabetical order** and surrounded by quotes (e.g., `\"ABCD\"` indicates you are selecting the four options).*"
   ]
  },
  {
   "cell_type": "code",
   "execution_count": null,
   "metadata": {
    "deletable": false,
    "nbgrader": {
     "cell_type": "code",
     "checksum": "d87904f248c77f3abf90406ab304f08c",
     "grade": false,
     "grade_id": "cell-f85bb6f2a36d6aab",
     "locked": false,
     "schema_version": 3,
     "solution": true,
     "task": false
    }
   },
   "outputs": [],
   "source": [
    "# answer3.1 <- \n",
    "\n",
    "# your code here\n",
    "fail() # No Answer - remove if you provide an answer"
   ]
  },
  {
   "cell_type": "code",
   "execution_count": null,
   "metadata": {
    "deletable": false,
    "editable": false,
    "nbgrader": {
     "cell_type": "code",
     "checksum": "78dd30a634893c32e6da2275f84b6559",
     "grade": true,
     "grade_id": "cell-4ec433c8a5e3feaf",
     "locked": true,
     "points": 1,
     "schema_version": 3,
     "solution": false,
     "task": false
    }
   },
   "outputs": [],
   "source": [
    "test_3.1()"
   ]
  },
  {
   "cell_type": "markdown",
   "metadata": {
    "deletable": false,
    "editable": false,
    "nbgrader": {
     "cell_type": "markdown",
     "checksum": "329cc748aea31949bd9e0a2b25abd59f",
     "grade": false,
     "grade_id": "cell-b0cb1633a525c60a",
     "locked": true,
     "schema_version": 3,
     "solution": false,
     "task": false
    }
   },
   "source": [
    "#### **Question 3.2**\n",
    "<br>{points: 1}\n",
    "\n",
    "Create a plot of the data (using `geom_point()`) along with the estimated regression lines coming from the additive regression model `MLR_state_poverty_add` (note that your plot should have two regression lines, one for each state). \n",
    "\n",
    "- You have to colour the points and regression lines by state. \n",
    "\n",
    "- Include a legend indicating what colour corresponds to each state with proper axis labels. \n",
    "\n",
    "The `ggplot()` object's name will be `MLR_state_poverty_add_plot`.\n",
    "\n",
    "*Fill out those parts indicated with `...`, uncomment the corresponding code in the cell below, and run it.*"
   ]
  },
  {
   "cell_type": "code",
   "execution_count": null,
   "metadata": {
    "deletable": false,
    "nbgrader": {
     "cell_type": "code",
     "checksum": "bb5cde60f4f8e3957d09661012daa9b8",
     "grade": false,
     "grade_id": "cell-9e94dc68363dec56",
     "locked": false,
     "schema_version": 3,
     "solution": true,
     "task": false
    }
   },
   "outputs": [],
   "source": [
    "# AC_cancer_data$pred_MLR_add <- predict(MLR_state_poverty_add) # Using predict() to create estimated regression lines.\n",
    "\n",
    "# MLR_state_poverty_add_plot <- ggplot(..., aes(\n",
    "#   ...,\n",
    "#   ...,\n",
    "#   color = ...\n",
    "# )) +\n",
    "#   ...() +\n",
    "#   geom_line(aes(y = pred_MLR_add), size = 1) +\n",
    "#   labs(\n",
    "#     title = ...,\n",
    "#     x = ...,\n",
    "#     y = ...\n",
    "#   ) +\n",
    "#   theme(\n",
    "#     text = element_text(size = 16.5),\n",
    "#     plot.title = element_text(face = \"bold\"),\n",
    "#     axis.title = element_text(face = \"bold\"),\n",
    "#     legend.title = element_text(face = \"bold\"),\n",
    "#   ) +\n",
    "#   labs(color = \"State\")\n",
    "# MLR_state_poverty_add_plot\n",
    "\n",
    "# your code here\n",
    "fail() # No Answer - remove if you provide an answer"
   ]
  },
  {
   "cell_type": "code",
   "execution_count": null,
   "metadata": {
    "deletable": false,
    "editable": false,
    "nbgrader": {
     "cell_type": "code",
     "checksum": "e375c513022d23794b13f662bccd9a6e",
     "grade": true,
     "grade_id": "cell-10b3b1d7e3b64d1d",
     "locked": true,
     "points": 1,
     "schema_version": 3,
     "solution": false,
     "task": false
    }
   },
   "outputs": [],
   "source": [
    "test_3.2()"
   ]
  },
  {
   "cell_type": "markdown",
   "metadata": {
    "deletable": false,
    "editable": false,
    "nbgrader": {
     "cell_type": "markdown",
     "checksum": "e677f6b7da7320ddc557dea7bc6256e2",
     "grade": false,
     "grade_id": "cell-cef46ec1b084cec8",
     "locked": true,
     "schema_version": 3,
     "solution": false,
     "task": false
    }
   },
   "source": [
    "#### **Question 3.3**\n",
    "<br>{points: 1}\n",
    "\n",
    "Looking at the plot in **Question 3.2** and the modelling framework in **Question 3.0**, what is the fundamental assumption we are making when using an additive MLR with a mixture of continuous and categorical explanatory variables?\n",
    "\n",
    "**A.** The regression lines for both states have different slopes relating poverty to average mortality.\n",
    "\n",
    "**B.** The regression lines for both states have the same slopes relating poverty to average mortality, but different intercepts.\n",
    "\n",
    "**C.** The regression lines for both states have different slopes and intercepts relating poverty to average mortality.\n",
    "\n",
    "*Assign your answer to the object `answer3.3`. Your answer should be one of `\"A\"`, `\"B\"`, or `\"C\"` surrounded by quotes.*"
   ]
  },
  {
   "cell_type": "code",
   "execution_count": null,
   "metadata": {
    "deletable": false,
    "nbgrader": {
     "cell_type": "code",
     "checksum": "3dbf3f5736cade464cc47fc198f89931",
     "grade": false,
     "grade_id": "cell-1ea882444c1027f8",
     "locked": false,
     "schema_version": 3,
     "solution": true,
     "task": false
    }
   },
   "outputs": [],
   "source": [
    "# answer3.3 <- \n",
    "\n",
    "# your code here\n",
    "fail() # No Answer - remove if you provide an answer"
   ]
  },
  {
   "cell_type": "code",
   "execution_count": null,
   "metadata": {
    "deletable": false,
    "editable": false,
    "nbgrader": {
     "cell_type": "code",
     "checksum": "09e91abd7503ae1bfdf1dc159d1cc505",
     "grade": true,
     "grade_id": "cell-bc1ca9c4cb59a2ce",
     "locked": true,
     "points": 1,
     "schema_version": 3,
     "solution": false,
     "task": false
    }
   },
   "outputs": [],
   "source": [
    "test_3.3()"
   ]
  },
  {
   "cell_type": "markdown",
   "metadata": {
    "deletable": false,
    "editable": false,
    "nbgrader": {
     "cell_type": "markdown",
     "checksum": "25aea8f83935551a36cf0914c00f88b3",
     "grade": false,
     "grade_id": "cell-a82b9b87faa8f123",
     "locked": true,
     "schema_version": 3,
     "solution": false,
     "task": false
    }
   },
   "source": [
    "#### <font color=\"blue\"> An additive model with one continuous and one categorical input variable, has a common slope and different intercepts for each level of the categorical variable </font>  "
   ]
  },
  {
   "cell_type": "markdown",
   "metadata": {
    "deletable": false,
    "editable": false,
    "nbgrader": {
     "cell_type": "markdown",
     "checksum": "bcb5f22681022c9c2781a2043827cf4d",
     "grade": false,
     "grade_id": "cell-c11b86226891397a",
     "locked": true,
     "schema_version": 3,
     "solution": false,
     "task": false
    }
   },
   "source": [
    "## 4. MLR: interaction between a continuous and a categorical variable"
   ]
  },
  {
   "cell_type": "markdown",
   "metadata": {
    "deletable": false,
    "editable": false,
    "nbgrader": {
     "cell_type": "markdown",
     "checksum": "77c1bc52999779cb0340c85a75a87590",
     "grade": false,
     "grade_id": "cell-a206cc5c30a9f053",
     "locked": true,
     "schema_version": 3,
     "solution": false,
     "task": false
    }
   },
   "source": [
    "Now, estimate another MLR model called `MLR_state_poverty_int` but this time we do not assume that the association between mortality and poverty is the same in both states. \n",
    "\n",
    "> In other words, there may exist an *interaction* between the input variables.\n",
    "\n",
    "#### <font color=\"blue\">If the relation changes by the levels of the categorical variable, we need to add interaction term(s)</font>"
   ]
  },
  {
   "cell_type": "markdown",
   "metadata": {
    "deletable": false,
    "editable": false,
    "nbgrader": {
     "cell_type": "markdown",
     "checksum": "3fe0118630efdde19b1925abd8eadad5",
     "grade": false,
     "grade_id": "cell-facaf3cc65b6e0be",
     "locked": true,
     "schema_version": 3,
     "solution": false,
     "task": false
    }
   },
   "source": [
    "#### **Question 4.0**\n",
    "<br>{points: 1}\n",
    "\n",
    "Use the data to estimate the new model with an interaction term. Report the estimated coefficients, their standard errors, and corresponding $p$-values using `tidy()`. Include the corresponding asymptotic 95% confidence intervals. Store the results in the variable `MLR_state_poverty_int_results`.\n",
    "\n",
    "*Fill out those parts indicated with `...`, uncomment the corresponding code in the cell below, and run it.*"
   ]
  },
  {
   "cell_type": "code",
   "execution_count": null,
   "metadata": {
    "deletable": false,
    "nbgrader": {
     "cell_type": "code",
     "checksum": "a90a4ffe2456eb0d50c33f4c59ba0741",
     "grade": false,
     "grade_id": "cell-e2dfc93d5dcc3940",
     "locked": false,
     "schema_version": 3,
     "solution": true,
     "task": false
    }
   },
   "outputs": [],
   "source": [
    "# MLR_state_poverty_int <- ...(...,\n",
    "#   ...\n",
    "# )\n",
    "# MLR_state_poverty_int\n",
    "\n",
    "# MLR_state_poverty_int_results <- ...(..., ...) %>% mutate_if(is.numeric, round, 2)\n",
    "# MLR_state_poverty_int_results\n",
    "\n",
    "# your code here\n",
    "fail() # No Answer - remove if you provide an answer"
   ]
  },
  {
   "cell_type": "code",
   "execution_count": null,
   "metadata": {
    "deletable": false,
    "editable": false,
    "nbgrader": {
     "cell_type": "code",
     "checksum": "228b99df5cc5cfb24c1d7f84acb0c5cb",
     "grade": true,
     "grade_id": "cell-981315043633b23f",
     "locked": true,
     "points": 1,
     "schema_version": 3,
     "solution": false,
     "task": false
    }
   },
   "outputs": [],
   "source": [
    "test_4.0()"
   ]
  },
  {
   "cell_type": "markdown",
   "metadata": {
    "deletable": false,
    "editable": false,
    "nbgrader": {
     "cell_type": "markdown",
     "checksum": "f0338e1b480abe86b19ae638864c898e",
     "grade": false,
     "grade_id": "cell-7db47d332e83d2b3",
     "locked": true,
     "schema_version": 3,
     "solution": false,
     "task": false
    }
   },
   "source": [
    "#### NOTE: there are now 4 coefficients for 2 lines because in the model with interactions we do *NOT* assume a common slope!!"
   ]
  },
  {
   "cell_type": "markdown",
   "metadata": {
    "deletable": false,
    "editable": false,
    "nbgrader": {
     "cell_type": "markdown",
     "checksum": "830b1705b3d2497ec90f92107feece33",
     "grade": false,
     "grade_id": "cell-fa10bf6e6ab8a06e",
     "locked": true,
     "schema_version": 3,
     "solution": false,
     "task": false
    }
   },
   "source": [
    "**Question 4.1**\n",
    "<br>{points: 1}\n",
    "\n",
    "Using a **significance level $\\alpha = 0.10$**, and the results in `MLR_state_poverty_int_results`, which of the following interpretations is correct?\n",
    "\n",
    "**A.** Mortality rates in Alabama are low.\n",
    "\n",
    "**B.** The expected mortality rate does not differ by state.\n",
    "\n",
    "**C.** In California, the expected change in mortality as poverty increases is higher than in Alabama.\n",
    "\n",
    "**D.** In Alabama, the mortality rate is statistically associated with poverty.\n",
    "\n",
    "**E.** The association between mortality and poverty varies (significantly) between Alabama and California.\n",
    "\n",
    "**F.** The association between mortality and poverty is the same in Alabama and California.\n",
    "\n",
    "*Assign your answers to the object `answer4.1`. Your answers have to be included in a single string indicating the correct options **in alphabetical order** and surrounded by quotes (e.g., `\"ABCD\"` indicates you are selecting the four options).*"
   ]
  },
  {
   "cell_type": "code",
   "execution_count": null,
   "metadata": {
    "deletable": false,
    "nbgrader": {
     "cell_type": "code",
     "checksum": "0cf020e93aeac369e24222bf547a369b",
     "grade": false,
     "grade_id": "cell-3257b17772b64147",
     "locked": false,
     "schema_version": 3,
     "solution": true,
     "task": false
    }
   },
   "outputs": [],
   "source": [
    "# answer4.1 <- \n",
    "\n",
    "# your code here\n",
    "fail() # No Answer - remove if you provide an answer"
   ]
  },
  {
   "cell_type": "code",
   "execution_count": null,
   "metadata": {
    "deletable": false,
    "editable": false,
    "nbgrader": {
     "cell_type": "code",
     "checksum": "a791437a1625a1bc330fd0b9add2de4b",
     "grade": true,
     "grade_id": "cell-466c41ec1c2daeac",
     "locked": true,
     "points": 1,
     "schema_version": 3,
     "solution": false,
     "task": false
    }
   },
   "outputs": [],
   "source": [
    "test_4.1()"
   ]
  },
  {
   "cell_type": "markdown",
   "metadata": {
    "deletable": false,
    "editable": false,
    "nbgrader": {
     "cell_type": "markdown",
     "checksum": "a9b555d0b42b3865bb9da9dda7df55ce",
     "grade": false,
     "grade_id": "cell-fac6de579f7aac57",
     "locked": true,
     "schema_version": 3,
     "solution": false,
     "task": false
    }
   },
   "source": [
    "**Question 4.2**\n",
    "<br>{points: 1}\n",
    "\n",
    "Create a plot of the data (using `geom_point()`) along with the estimated regression lines coming from the interaction regression model `MLR_state_poverty_int` (note that your plot should have two regression lines, oone for each state). \n",
    "\n",
    "- You have to colour the points and regression lines by state. \n",
    "\n",
    "- Include a legend indicating what colour corresponds to each state with proper axis labels. \n",
    "\n",
    "The `ggplot()` object's name will be `MLR_state_poverty_int_plot`.\n",
    "\n",
    "*Fill out those parts indicated with `...`, uncomment the corresponding code in the cell below, and run it.*"
   ]
  },
  {
   "cell_type": "code",
   "execution_count": null,
   "metadata": {
    "deletable": false,
    "nbgrader": {
     "cell_type": "code",
     "checksum": "f426bb35088033c46452481156f37c10",
     "grade": false,
     "grade_id": "cell-c71a0651a14cbba4",
     "locked": false,
     "schema_version": 3,
     "solution": true,
     "task": false
    }
   },
   "outputs": [],
   "source": [
    "# AC_cancer_data$pred_MLR_int <- predict(MLR_state_poverty_int) # Using predict() to create estimated regression lines.\n",
    "\n",
    "# MLR_state_poverty_int_plot <- ggplot(..., aes(\n",
    "#   ...,\n",
    "#   ...,\n",
    "#   color = ...\n",
    "# )) +\n",
    "#   ...() +\n",
    "#   geom_line(aes(y = pred_MLR_int), size = 1) +\n",
    "#   labs(\n",
    "#     title = ...,\n",
    "#     x = ...,\n",
    "#     y = ...\n",
    "#   ) +\n",
    "#   theme(\n",
    "#     text = element_text(size = 16.5),\n",
    "#     plot.title = element_text(face = \"bold\"),\n",
    "#     axis.title = element_text(face = \"bold\"),\n",
    "#     legend.title = element_text(face = \"bold\"),\n",
    "#   ) +\n",
    "#   labs(color = \"State\")\n",
    "# MLR_state_poverty_int_plot\n",
    "\n",
    "\n",
    "# your code here\n",
    "fail() # No Answer - remove if you provide an answer"
   ]
  },
  {
   "cell_type": "code",
   "execution_count": null,
   "metadata": {
    "deletable": false,
    "editable": false,
    "nbgrader": {
     "cell_type": "code",
     "checksum": "cd3ae67c54dad725f3eb6728c1a2fbf5",
     "grade": true,
     "grade_id": "cell-199f87e4053a4c6b",
     "locked": true,
     "points": 1,
     "schema_version": 3,
     "solution": false,
     "task": false
    }
   },
   "outputs": [],
   "source": [
    "test_4.2()"
   ]
  },
  {
   "cell_type": "markdown",
   "metadata": {
    "deletable": false,
    "editable": false,
    "nbgrader": {
     "cell_type": "markdown",
     "checksum": "c5cc174bb15a24f3fa07b2ecb483ed65",
     "grade": false,
     "grade_id": "cell-a679b20a69c2f10c",
     "locked": true,
     "schema_version": 3,
     "solution": false,
     "task": false
    }
   },
   "source": [
    "**Question 4.3**\n",
    "<br>{points: 1}\n",
    "\n",
    "Looking at the plot in **Question 4.2** and the modelling framework in **Question 4.0**, what is the fundamental assumption we are making when using an interaction MLR with a mixture of continuous and categorical explanatory variables?\n",
    "\n",
    "**A.** The regression lines for both states have the same slope relating poverty to average mortality, but different intercepts.\n",
    "\n",
    "**B.** The regression lines for both states have different slopes and intercepts relating poverty to average mortality.\n",
    "\n",
    "**C.** The regression lines for both states have different slopes relating poverty to average mortality, but same intercepts.\n",
    "\n",
    "*Assign your answer to the object `answer4.3`. Your answer should be one of `\"A\"`, `\"B\"`, or `\"C\"` surrounded by quotes.*"
   ]
  },
  {
   "cell_type": "code",
   "execution_count": null,
   "metadata": {
    "deletable": false,
    "nbgrader": {
     "cell_type": "code",
     "checksum": "45c6d0dc87f26b4b096c027433e1bec4",
     "grade": false,
     "grade_id": "cell-359584e444cfad09",
     "locked": false,
     "schema_version": 3,
     "solution": true,
     "task": false
    }
   },
   "outputs": [],
   "source": [
    "# answer4.3 <- \n",
    "\n",
    "# your code here\n",
    "fail() # No Answer - remove if you provide an answer"
   ]
  },
  {
   "cell_type": "code",
   "execution_count": null,
   "metadata": {
    "deletable": false,
    "editable": false,
    "nbgrader": {
     "cell_type": "code",
     "checksum": "054209c4a1b3d1f80c5d4425829409c6",
     "grade": true,
     "grade_id": "cell-7d6e04742f94b20f",
     "locked": true,
     "points": 1,
     "schema_version": 3,
     "solution": false,
     "task": false
    }
   },
   "outputs": [],
   "source": [
    "test_4.3()"
   ]
  },
  {
   "cell_type": "markdown",
   "metadata": {
    "deletable": false,
    "editable": false,
    "nbgrader": {
     "cell_type": "markdown",
     "checksum": "ea82cea1343d447245f6a95f0e1ba9e5",
     "grade": false,
     "grade_id": "cell-1976fe551cbd704a",
     "locked": true,
     "schema_version": 3,
     "solution": false,
     "task": false
    }
   },
   "source": [
    "#### <font color=\"blue\"> If the relation between the continuous predictor and the response changes for each  level of the categorical variable, we need to add interaction term(s). The model now has different slopes and different intercepts for each level of the categorical variable </font>  "
   ]
  }
 ],
 "metadata": {
  "jupytext": {
   "formats": "ipynb,Rmd"
  },
  "kernelspec": {
   "display_name": "R",
   "language": "R",
   "name": "ir"
  },
  "language_info": {
   "codemirror_mode": "r",
   "file_extension": ".r",
   "mimetype": "text/x-r-source",
   "name": "R",
   "pygments_lexer": "r",
   "version": "4.2.3"
  },
  "latex_envs": {
   "LaTeX_envs_menu_present": true,
   "autoclose": false,
   "autocomplete": true,
   "bibliofile": "biblio.bib",
   "cite_by": "apalike",
   "current_citInitial": 1,
   "eqLabelWithNumbers": true,
   "eqNumInitial": 1,
   "hotkeys": {
    "equation": "Ctrl-E",
    "itemize": "Ctrl-I"
   },
   "labels_anchors": false,
   "latex_user_defs": false,
   "report_style_numbering": false,
   "user_envs_cfg": false
  }
 },
 "nbformat": 4,
 "nbformat_minor": 4
}
