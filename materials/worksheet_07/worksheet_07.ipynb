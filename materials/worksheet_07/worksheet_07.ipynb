{
 "cells": [
  {
   "cell_type": "markdown",
   "metadata": {
    "nbgrader": {
     "grade": false,
     "grade_id": "cell-f1e1d845873036f4",
     "locked": true,
     "schema_version": 3,
     "solution": false,
     "task": false
    }
   },
   "source": [
    "# Worksheet 7: Model Evaluation and Model Selection"
   ]
  },
  {
   "cell_type": "markdown",
   "metadata": {
    "nbgrader": {
     "grade": false,
     "grade_id": "cell-82d9926086d47a80",
     "locked": true,
     "schema_version": 3,
     "solution": false,
     "task": false
    }
   },
   "source": [
    "#### Lecture and Tutorial Learning Goals:\n",
    "After completing this week's lecture and tutorial work, you will be able to:\n",
    "\n",
    "1. List model metrics that are suitable for evaluation of a statistical model developed to make inference about the data-generating mechanism (e.g., $R^2$, $\\text{AIC}$, Likelihood ratio test/$F$-test), their strengths and limitations, as well as how they are calculated.\n",
    "2. Write a computer script to calculate these model metrics. Interpret and communicate the results from that computer script.\n",
    "3. Explain the algorithms for the following variable selection methods:\n",
    "\n",
    "    - $F$-test to compare nested models.\n",
    "    - Forward selection.\n",
    "    - Backward selection."
   ]
  },
  {
   "cell_type": "code",
   "execution_count": 1,
   "metadata": {
    "nbgrader": {
     "grade": false,
     "grade_id": "cell-a2a153352bc44a68",
     "locked": true,
     "schema_version": 3,
     "solution": false,
     "task": false
    }
   },
   "outputs": [
    {
     "name": "stderr",
     "output_type": "stream",
     "text": [
      "── \u001b[1mAttaching packages\u001b[22m ─────────────────────────────────────── tidyverse 1.3.2 ──\n",
      "\u001b[32m✔\u001b[39m \u001b[34mggplot2\u001b[39m 3.3.6      \u001b[32m✔\u001b[39m \u001b[34mpurrr  \u001b[39m 0.3.5 \n",
      "\u001b[32m✔\u001b[39m \u001b[34mtibble \u001b[39m 3.1.8      \u001b[32m✔\u001b[39m \u001b[34mdplyr  \u001b[39m 1.0.10\n",
      "\u001b[32m✔\u001b[39m \u001b[34mtidyr  \u001b[39m 1.2.1      \u001b[32m✔\u001b[39m \u001b[34mstringr\u001b[39m 1.4.1 \n",
      "\u001b[32m✔\u001b[39m \u001b[34mreadr  \u001b[39m 2.1.3      \u001b[32m✔\u001b[39m \u001b[34mforcats\u001b[39m 0.5.2 \n",
      "── \u001b[1mConflicts\u001b[22m ────────────────────────────────────────── tidyverse_conflicts() ──\n",
      "\u001b[31m✖\u001b[39m \u001b[34mdplyr\u001b[39m::\u001b[32mfilter()\u001b[39m masks \u001b[34mstats\u001b[39m::filter()\n",
      "\u001b[31m✖\u001b[39m \u001b[34mdplyr\u001b[39m::\u001b[32mlag()\u001b[39m    masks \u001b[34mstats\u001b[39m::lag()\n",
      "\n",
      "Attaching package: ‘testthat’\n",
      "\n",
      "\n",
      "The following object is masked from ‘package:dplyr’:\n",
      "\n",
      "    matches\n",
      "\n",
      "\n",
      "The following object is masked from ‘package:purrr’:\n",
      "\n",
      "    is_null\n",
      "\n",
      "\n",
      "The following objects are masked from ‘package:readr’:\n",
      "\n",
      "    edition_get, local_edition\n",
      "\n",
      "\n",
      "The following object is masked from ‘package:tidyr’:\n",
      "\n",
      "    matches\n",
      "\n",
      "\n"
     ]
    }
   ],
   "source": [
    "# Run this cell before continuing.\n",
    "library(tidyverse)\n",
    "library(repr)\n",
    "library(broom)\n",
    "library(leaps)\n",
    "library(latex2exp)\n",
    "source(\"tests_worksheet_07.R\")"
   ]
  },
  {
   "cell_type": "markdown",
   "metadata": {
    "nbgrader": {
     "grade": false,
     "grade_id": "cell-30d72e348848492c",
     "locked": true,
     "schema_version": 3,
     "solution": false,
     "task": false
    }
   },
   "source": [
    "# PART I: Model Evaluation"
   ]
  },
  {
   "cell_type": "markdown",
   "metadata": {
    "nbgrader": {
     "grade": false,
     "grade_id": "cell-459184ff51dbea84",
     "locked": true,
     "schema_version": 3,
     "solution": false,
     "task": false
    }
   },
   "source": [
    "## Inference vs Predition\n",
    "\n",
    "To assess or select a model there is a more essential question to answer: \n",
    "    \n",
    "### <font color=red>  What is your goal??\n",
    "    \n",
    "The evaluation metrics are different depending on the goal of the analysis\n",
    "    \n",
    "> the estimation methodologies can also differ although we cover only LS in the course\n",
    "    \n",
    "- **Inference**: your primary goal is to understand the relation between a response variable $Y$ and a set of input variables $X_1, \\ldots, X_p$ \n",
    "    \n",
    "    > you estimate the LR using a sample to understand how variables are associated (in the population)\n",
    "    \n",
    "    > you use methods to draw conclusions about the population from the results obtained in the sample (inference)\n",
    "    \n",
    "- **Prediction**: your primary goal is to make predictions about the response $Y$, and you are not so concerned about how you got those predictions\n",
    "    \n",
    "    > you estimate the LR using a sample to make predictions of the response for *new* units (houses, subjects, counties, etc) from the population\n",
    "    \n",
    "    \n",
    "**Examples of inference problems**: \n",
    "    \n",
    "- A real estate agent wants to identify factors that are related to the assessed values of homes (e.g., size of houses, age, amenities, etc) \n",
    "    \n",
    "    \n",
    "- Biologists want to verify empirically the central dogma of biology that relates mRNA to protein values \n",
    "    \n",
    "    \n",
    "**Examples of prediction problems**: \n",
    "    \n",
    "\n",
    "- A real estate agent is interested in determining if a house is under- or over-valued given its characteristics (prediction problem)\n",
    "\n",
    "\n",
    "- Biologists want to use mRNA data to predict protein values\n",
    "    \n",
    "**In this worksheet you will learn different methods to evaluate and select appropriate models depending on the goal of your study.**"
   ]
  },
  {
   "cell_type": "markdown",
   "metadata": {
    "nbgrader": {
     "grade": false,
     "grade_id": "cell-9be71f65643c5906",
     "locked": true,
     "schema_version": 3,
     "solution": false,
     "task": false
    }
   },
   "source": [
    "## Case Study: protein vs mRNA\n",
    "\n",
    "In this section we will introduce a new case study to learn how to examine the goodness of the fitted model and choose among different nested models. The data and some of the discussions related to this case were published in Nature (see citations below).\n",
    "\n",
    "In 2014, a research group claimed to find a \"predictive model\", which can be used to predict protein from mRNA expression!! \n",
    "\n",
    "> Wilhelm, M. et al. Mass-spectrometry-based draft of the human proteome. Nature 509, 582–587 (2014)\n",
    "\n",
    "Although their hypotheses were funded in the Central Dogma of Biology, most experimental results have shown very low correlation values between protein and mRNA values. \n",
    "\n",
    "Further examination of their analysis has shwon that their data do not support their claims:\n",
    "\n",
    "> Paper from my research group: Fortelny N, Overall CM, Pavlidis P, Freue GVC. Can we predict protein from mRNA levels? Nature. 2017 Jul 26;547(7664):E19-E20. doi: 10.1038/nature22293.\n",
    "\n",
    "We'll use data from this group submitted to the Journal to (re)analyse their data and evalute different models using concepts learned in this course."
   ]
  },
  {
   "cell_type": "markdown",
   "metadata": {
    "nbgrader": {
     "grade": false,
     "grade_id": "cell-c2f2ad804e83a969",
     "locked": true,
     "schema_version": 3,
     "solution": false,
     "task": false
    }
   },
   "source": [
    "### Relation between mRNA and protein levels\n",
    "\n",
    "The picture illustrates what is known as the Central Dogma of Biology\n",
    "\n",
    "![](https://github.com/UBC-STAT/stat-301/blob/master/materials/worksheet_07/img/prot_gene.png?raw=true)"
   ]
  },
  {
   "cell_type": "markdown",
   "metadata": {
    "nbgrader": {
     "grade": false,
     "grade_id": "cell-b5104ce4905d3cf2",
     "locked": true,
     "schema_version": 3,
     "solution": false,
     "task": false
    }
   },
   "source": [
    "Let's start by taking a glance at the data.\n",
    "\n",
    "> Protein and mRNA values were measured for 6104 genes on 12 different tissues. \n",
    "\n",
    "Note that these are 2 different dataset!! \n",
    "\n",
    "> However, many proteins were not detected by the technology used due to values below limits of detection and the protein dataset contains many missing values!! \n",
    "\n",
    "For simplicity, we will use **a set of 1392 genes** that were measured in **all 12 tissues** and thus contain complete data on both protein and mRNA sets. \n",
    "\n",
    "You can find in Canvas the script that was used to wrangle the original datases from the Journal.\n",
    "\n",
    "*Run the cell below before continuing to read in the data.* "
   ]
  },
  {
   "cell_type": "code",
   "execution_count": 2,
   "metadata": {
    "nbgrader": {
     "grade": false,
     "grade_id": "cell-c3a6eba286971086",
     "locked": true,
     "schema_version": 3,
     "solution": false,
     "task": false
    },
    "scrolled": true
   },
   "outputs": [
    {
     "name": "stdout",
     "output_type": "stream",
     "text": [
      "'data.frame':\t16704 obs. of  4 variables:\n",
      " $ gene  : Factor w/ 1392 levels \"ENSG00000000419\",..: 1 2 3 4 5 6 7 8 9 10 ...\n",
      " $ tissue: Factor w/ 12 levels \"adrenal.gland\",..: 12 12 12 12 12 12 12 12 12 12 ...\n",
      " $ prot  : num  9.97e-06 3.63e-05 1.69e-05 6.75e-05 5.55e-05 ...\n",
      " $ mrna  : num  3.44e-05 1.42e-05 1.92e-05 3.64e-05 3.89e-05 ...\n"
     ]
    },
    {
     "data": {
      "text/html": [
       "<table class=\"dataframe\">\n",
       "<caption>A data.frame: 3 × 4</caption>\n",
       "<thead>\n",
       "\t<tr><th></th><th scope=col>gene</th><th scope=col>tissue</th><th scope=col>prot</th><th scope=col>mrna</th></tr>\n",
       "\t<tr><th></th><th scope=col>&lt;fct&gt;</th><th scope=col>&lt;fct&gt;</th><th scope=col>&lt;dbl&gt;</th><th scope=col>&lt;dbl&gt;</th></tr>\n",
       "</thead>\n",
       "<tbody>\n",
       "\t<tr><th scope=row>1</th><td>ENSG00000000419</td><td>uterus</td><td>9.966484e-06</td><td>3.44e-05</td></tr>\n",
       "\t<tr><th scope=row>3</th><td>ENSG00000000971</td><td>uterus</td><td>3.633516e-05</td><td>1.42e-05</td></tr>\n",
       "\t<tr><th scope=row>5</th><td>ENSG00000001084</td><td>uterus</td><td>1.693588e-05</td><td>1.92e-05</td></tr>\n",
       "</tbody>\n",
       "</table>\n"
      ],
      "text/latex": [
       "A data.frame: 3 × 4\n",
       "\\begin{tabular}{r|llll}\n",
       "  & gene & tissue & prot & mrna\\\\\n",
       "  & <fct> & <fct> & <dbl> & <dbl>\\\\\n",
       "\\hline\n",
       "\t1 & ENSG00000000419 & uterus & 9.966484e-06 & 3.44e-05\\\\\n",
       "\t3 & ENSG00000000971 & uterus & 3.633516e-05 & 1.42e-05\\\\\n",
       "\t5 & ENSG00000001084 & uterus & 1.693588e-05 & 1.92e-05\\\\\n",
       "\\end{tabular}\n"
      ],
      "text/markdown": [
       "\n",
       "A data.frame: 3 × 4\n",
       "\n",
       "| <!--/--> | gene &lt;fct&gt; | tissue &lt;fct&gt; | prot &lt;dbl&gt; | mrna &lt;dbl&gt; |\n",
       "|---|---|---|---|---|\n",
       "| 1 | ENSG00000000419 | uterus | 9.966484e-06 | 3.44e-05 |\n",
       "| 3 | ENSG00000000971 | uterus | 3.633516e-05 | 1.42e-05 |\n",
       "| 5 | ENSG00000001084 | uterus | 1.693588e-05 | 1.92e-05 |\n",
       "\n"
      ],
      "text/plain": [
       "  gene            tissue prot         mrna    \n",
       "1 ENSG00000000419 uterus 9.966484e-06 3.44e-05\n",
       "3 ENSG00000000971 uterus 3.633516e-05 1.42e-05\n",
       "5 ENSG00000001084 uterus 1.693588e-05 1.92e-05"
      ]
     },
     "metadata": {},
     "output_type": "display_data"
    },
    {
     "data": {
      "text/html": [
       "<table class=\"dataframe\">\n",
       "<caption>A data.frame: 3 × 4</caption>\n",
       "<thead>\n",
       "\t<tr><th></th><th scope=col>gene</th><th scope=col>tissue</th><th scope=col>prot</th><th scope=col>mrna</th></tr>\n",
       "\t<tr><th></th><th scope=col>&lt;fct&gt;</th><th scope=col>&lt;fct&gt;</th><th scope=col>&lt;dbl&gt;</th><th scope=col>&lt;dbl&gt;</th></tr>\n",
       "</thead>\n",
       "<tbody>\n",
       "\t<tr><th scope=row>57882</th><td>ENSG00000262246</td><td>esophagus</td><td>3.337902e-05</td><td>6.90e-06</td></tr>\n",
       "\t<tr><th scope=row>57886</th><td>ENSG00000269190</td><td>esophagus</td><td>3.703505e-06</td><td>7.80e-06</td></tr>\n",
       "\t<tr><th scope=row>57888</th><td>ENSG00000272325</td><td>esophagus</td><td>2.574201e-05</td><td>1.35e-05</td></tr>\n",
       "</tbody>\n",
       "</table>\n"
      ],
      "text/latex": [
       "A data.frame: 3 × 4\n",
       "\\begin{tabular}{r|llll}\n",
       "  & gene & tissue & prot & mrna\\\\\n",
       "  & <fct> & <fct> & <dbl> & <dbl>\\\\\n",
       "\\hline\n",
       "\t57882 & ENSG00000262246 & esophagus & 3.337902e-05 & 6.90e-06\\\\\n",
       "\t57886 & ENSG00000269190 & esophagus & 3.703505e-06 & 7.80e-06\\\\\n",
       "\t57888 & ENSG00000272325 & esophagus & 2.574201e-05 & 1.35e-05\\\\\n",
       "\\end{tabular}\n"
      ],
      "text/markdown": [
       "\n",
       "A data.frame: 3 × 4\n",
       "\n",
       "| <!--/--> | gene &lt;fct&gt; | tissue &lt;fct&gt; | prot &lt;dbl&gt; | mrna &lt;dbl&gt; |\n",
       "|---|---|---|---|---|\n",
       "| 57882 | ENSG00000262246 | esophagus | 3.337902e-05 | 6.90e-06 |\n",
       "| 57886 | ENSG00000269190 | esophagus | 3.703505e-06 | 7.80e-06 |\n",
       "| 57888 | ENSG00000272325 | esophagus | 2.574201e-05 | 1.35e-05 |\n",
       "\n"
      ],
      "text/plain": [
       "      gene            tissue    prot         mrna    \n",
       "57882 ENSG00000262246 esophagus 3.337902e-05 6.90e-06\n",
       "57886 ENSG00000269190 esophagus 3.703505e-06 7.80e-06\n",
       "57888 ENSG00000272325 esophagus 2.574201e-05 1.35e-05"
      ]
     },
     "metadata": {},
     "output_type": "display_data"
    }
   ],
   "source": [
    "# Read and take a look at the data.\n",
    "dat_bio <- read.csv(\"data/nature_dat.csv\", row.names = 1, stringsAsFactors=TRUE)\n",
    "str(dat_bio)\n",
    "head(dat_bio,3)\n",
    "tail(dat_bio,3)"
   ]
  },
  {
   "cell_type": "markdown",
   "metadata": {
    "nbgrader": {
     "grade": false,
     "grade_id": "cell-e6b7bf58e2eb7a77",
     "locked": true,
     "schema_version": 3,
     "solution": false,
     "task": false
    }
   },
   "source": [
    "We can think that we have **1392 datasets**, one for each gene!\n",
    "\n",
    "> each dataset contains **12 observations**, one per tissue, and 2 variables, `protein` and `mrna`, along with an accession number for the gene (`gene`, an ID for each gene) and the name of the tissue (`tissue`, that works as an ID for each observation).\n",
    "\n",
    "*Run the cell below to get the data for gene ENSG00000085733.* "
   ]
  },
  {
   "cell_type": "code",
   "execution_count": 3,
   "metadata": {
    "nbgrader": {
     "grade": false,
     "grade_id": "cell-28e85de12a1890ed",
     "locked": true,
     "schema_version": 3,
     "solution": false,
     "task": false
    },
    "scrolled": true
   },
   "outputs": [
    {
     "data": {
      "text/html": [
       "<table class=\"dataframe\">\n",
       "<caption>A data.frame: 12 × 4</caption>\n",
       "<thead>\n",
       "\t<tr><th></th><th scope=col>gene</th><th scope=col>tissue</th><th scope=col>prot</th><th scope=col>mrna</th></tr>\n",
       "\t<tr><th></th><th scope=col>&lt;fct&gt;</th><th scope=col>&lt;fct&gt;</th><th scope=col>&lt;dbl&gt;</th><th scope=col>&lt;dbl&gt;</th></tr>\n",
       "</thead>\n",
       "<tbody>\n",
       "\t<tr><th scope=row>585</th><td>ENSG00000085733</td><td>uterus        </td><td>1.648298e-06</td><td>0.0001278</td></tr>\n",
       "\t<tr><th scope=row>5409</th><td>ENSG00000085733</td><td>kidney        </td><td>1.349573e-05</td><td>0.0000673</td></tr>\n",
       "\t<tr><th scope=row>10233</th><td>ENSG00000085733</td><td>testis        </td><td>4.069264e-05</td><td>0.0000862</td></tr>\n",
       "\t<tr><th scope=row>15057</th><td>ENSG00000085733</td><td>pancreas      </td><td>9.279162e-06</td><td>0.0000358</td></tr>\n",
       "\t<tr><th scope=row>19881</th><td>ENSG00000085733</td><td>stomach       </td><td>2.254923e-05</td><td>0.0001167</td></tr>\n",
       "\t<tr><th scope=row>24705</th><td>ENSG00000085733</td><td>prostate      </td><td>6.259907e-06</td><td>0.0000931</td></tr>\n",
       "\t<tr><th scope=row>29529</th><td>ENSG00000085733</td><td>ovary         </td><td>8.225857e-05</td><td>0.0001345</td></tr>\n",
       "\t<tr><th scope=row>34353</th><td>ENSG00000085733</td><td>thyroid.gland </td><td>5.948111e-07</td><td>0.0000885</td></tr>\n",
       "\t<tr><th scope=row>39177</th><td>ENSG00000085733</td><td>adrenal.gland </td><td>2.461557e-05</td><td>0.0001172</td></tr>\n",
       "\t<tr><th scope=row>44001</th><td>ENSG00000085733</td><td>salivary.gland</td><td>6.050506e-05</td><td>0.0000661</td></tr>\n",
       "\t<tr><th scope=row>48825</th><td>ENSG00000085733</td><td>spleen        </td><td>1.854525e-05</td><td>0.0000661</td></tr>\n",
       "\t<tr><th scope=row>53649</th><td>ENSG00000085733</td><td>esophagus     </td><td>1.872389e-05</td><td>0.0000857</td></tr>\n",
       "</tbody>\n",
       "</table>\n"
      ],
      "text/latex": [
       "A data.frame: 12 × 4\n",
       "\\begin{tabular}{r|llll}\n",
       "  & gene & tissue & prot & mrna\\\\\n",
       "  & <fct> & <fct> & <dbl> & <dbl>\\\\\n",
       "\\hline\n",
       "\t585 & ENSG00000085733 & uterus         & 1.648298e-06 & 0.0001278\\\\\n",
       "\t5409 & ENSG00000085733 & kidney         & 1.349573e-05 & 0.0000673\\\\\n",
       "\t10233 & ENSG00000085733 & testis         & 4.069264e-05 & 0.0000862\\\\\n",
       "\t15057 & ENSG00000085733 & pancreas       & 9.279162e-06 & 0.0000358\\\\\n",
       "\t19881 & ENSG00000085733 & stomach        & 2.254923e-05 & 0.0001167\\\\\n",
       "\t24705 & ENSG00000085733 & prostate       & 6.259907e-06 & 0.0000931\\\\\n",
       "\t29529 & ENSG00000085733 & ovary          & 8.225857e-05 & 0.0001345\\\\\n",
       "\t34353 & ENSG00000085733 & thyroid.gland  & 5.948111e-07 & 0.0000885\\\\\n",
       "\t39177 & ENSG00000085733 & adrenal.gland  & 2.461557e-05 & 0.0001172\\\\\n",
       "\t44001 & ENSG00000085733 & salivary.gland & 6.050506e-05 & 0.0000661\\\\\n",
       "\t48825 & ENSG00000085733 & spleen         & 1.854525e-05 & 0.0000661\\\\\n",
       "\t53649 & ENSG00000085733 & esophagus      & 1.872389e-05 & 0.0000857\\\\\n",
       "\\end{tabular}\n"
      ],
      "text/markdown": [
       "\n",
       "A data.frame: 12 × 4\n",
       "\n",
       "| <!--/--> | gene &lt;fct&gt; | tissue &lt;fct&gt; | prot &lt;dbl&gt; | mrna &lt;dbl&gt; |\n",
       "|---|---|---|---|---|\n",
       "| 585 | ENSG00000085733 | uterus         | 1.648298e-06 | 0.0001278 |\n",
       "| 5409 | ENSG00000085733 | kidney         | 1.349573e-05 | 0.0000673 |\n",
       "| 10233 | ENSG00000085733 | testis         | 4.069264e-05 | 0.0000862 |\n",
       "| 15057 | ENSG00000085733 | pancreas       | 9.279162e-06 | 0.0000358 |\n",
       "| 19881 | ENSG00000085733 | stomach        | 2.254923e-05 | 0.0001167 |\n",
       "| 24705 | ENSG00000085733 | prostate       | 6.259907e-06 | 0.0000931 |\n",
       "| 29529 | ENSG00000085733 | ovary          | 8.225857e-05 | 0.0001345 |\n",
       "| 34353 | ENSG00000085733 | thyroid.gland  | 5.948111e-07 | 0.0000885 |\n",
       "| 39177 | ENSG00000085733 | adrenal.gland  | 2.461557e-05 | 0.0001172 |\n",
       "| 44001 | ENSG00000085733 | salivary.gland | 6.050506e-05 | 0.0000661 |\n",
       "| 48825 | ENSG00000085733 | spleen         | 1.854525e-05 | 0.0000661 |\n",
       "| 53649 | ENSG00000085733 | esophagus      | 1.872389e-05 | 0.0000857 |\n",
       "\n"
      ],
      "text/plain": [
       "      gene            tissue         prot         mrna     \n",
       "585   ENSG00000085733 uterus         1.648298e-06 0.0001278\n",
       "5409  ENSG00000085733 kidney         1.349573e-05 0.0000673\n",
       "10233 ENSG00000085733 testis         4.069264e-05 0.0000862\n",
       "15057 ENSG00000085733 pancreas       9.279162e-06 0.0000358\n",
       "19881 ENSG00000085733 stomach        2.254923e-05 0.0001167\n",
       "24705 ENSG00000085733 prostate       6.259907e-06 0.0000931\n",
       "29529 ENSG00000085733 ovary          8.225857e-05 0.0001345\n",
       "34353 ENSG00000085733 thyroid.gland  5.948111e-07 0.0000885\n",
       "39177 ENSG00000085733 adrenal.gland  2.461557e-05 0.0001172\n",
       "44001 ENSG00000085733 salivary.gland 6.050506e-05 0.0000661\n",
       "48825 ENSG00000085733 spleen         1.854525e-05 0.0000661\n",
       "53649 ENSG00000085733 esophagus      1.872389e-05 0.0000857"
      ]
     },
     "metadata": {},
     "output_type": "display_data"
    }
   ],
   "source": [
    "dat_g1 <- dat_bio  %>% subset(gene == \"ENSG00000085733\") \n",
    "dat_g1"
   ]
  },
  {
   "cell_type": "markdown",
   "metadata": {
    "nbgrader": {
     "grade": false,
     "grade_id": "cell-4135e761a8664bad",
     "locked": true,
     "schema_version": 3,
     "solution": false,
     "task": false
    }
   },
   "source": [
    "## 1.Estimation and Inference\n",
    "\n",
    "In the paper, the authors used a linear regression to estimate the relation between protein and mRNA levels *per gene*, and used that model to predict protein levels *per gene*.\n",
    "\n",
    "> it will be important at a later phase of the analysis to note that models are *gene-specific*\n",
    "\n",
    "**Gene-specific models**: for each gene they estimated the following model (for simplicity we do not use a subscript $g$)  \n",
    "\n",
    "$$\\text{prot}_{t} = \\beta_1 \\; \\times \\text{mrna}_{t} + \\varepsilon$$ \n",
    "\n",
    "where $\\hat{\\beta}_1 = median_t(\\text{mrna}_{t}/\\text{prot}_{t})$\n",
    "\n",
    "> $prot_{t}$ and $mrna_{t}$ are the protein and mRNA levels of a gene $g$ in tissue $t$, respectively\n",
    "\n",
    "<font color=\"blue\"> **Note that these models do not contain an intercept! and they were not estimated by LS.**</font> \n",
    "    \n",
    "While in general different models and estimation methods can be used to analyze the same data, it is important to evaluate the results according to the assumptions and the methodology used. \n",
    "    \n",
    "> The evaluation and interpretation of the results in the paper were not appropriate\n",
    "    \n",
    "*We will start by (re)anlayzing the data using a SLR and LS estimation*"
   ]
  },
  {
   "cell_type": "markdown",
   "metadata": {
    "nbgrader": {
     "grade": false,
     "grade_id": "cell-f76d01efb9d4c744",
     "locked": true,
     "schema_version": 3,
     "solution": false,
     "task": false
    }
   },
   "source": [
    "**Gene-specific SLR**: for each gene we will use LS to estimate the following SLR (for simplicity we do not use a subscript $g$)  \n",
    "\n",
    "$$prot_{t} = \\beta_0 +\\beta_1 \\; \\times mrna_{t} + \\varepsilon$$ \n",
    "\n",
    "where $\\hat{\\beta}_g$ is estimated by LS\n",
    "\n",
    "> using `lm()` and `group_by(gene)`"
   ]
  },
  {
   "cell_type": "markdown",
   "metadata": {
    "nbgrader": {
     "grade": false,
     "grade_id": "cell-b8733fe0b705dbdb",
     "locked": true,
     "schema_version": 3,
     "solution": false,
     "task": false
    }
   },
   "source": [
    "### 1.1 Visualization and Estimation:\n",
    "\n",
    "Let's focus on the proposed model for one gene (geneID: ENSG00000085733)"
   ]
  },
  {
   "cell_type": "code",
   "execution_count": 4,
   "metadata": {
    "nbgrader": {
     "grade": false,
     "grade_id": "cell-52582d5c438817c2",
     "locked": true,
     "schema_version": 3,
     "solution": false,
     "task": false
    },
    "scrolled": true
   },
   "outputs": [
    {
     "name": "stderr",
     "output_type": "stream",
     "text": [
      "`geom_smooth()` using formula 'y ~ x'\n",
      "\n"
     ]
    },
    {
     "data": {
      "application/pdf": "[encoded data removed]",
      "image/jpeg": "[encoded data removed]",
      "image/png": "[encoded data removed]",
      "image/svg+xml": [
       "<?xml version=\"1.0\" encoding=\"UTF-8\"?>\n",
       "<svg xmlns=\"http://www.w3.org/2000/svg\" xmlns:xlink=\"http://www.w3.org/1999/xlink\" width=\"432pt\" height=\"216pt\" viewBox=\"0 0 432 216\" version=\"1.1\">\n",
       "<defs>\n",
       "<g>\n",
       "<symbol overflow=\"visible\" id=\"glyph0-0\">\n",
       "<path style=\"stroke:none;\" d=\"M 0.296875 0 L 0.296875 -5.859375 L 2.625 -5.859375 L 2.625 0 Z M 0.578125 -0.296875 L 2.34375 -0.296875 L 2.34375 -5.578125 L 0.578125 -5.578125 Z M 0.578125 -0.296875 \"/>\n",
       "</symbol>\n",
       "<symbol overflow=\"visible\" id=\"glyph0-1\">\n",
       "<path style=\"stroke:none;\" d=\"M 4.546875 -3.03125 C 4.546875 -2.445312 4.488281 -1.957031 4.375 -1.5625 C 4.269531 -1.164062 4.117188 -0.84375 3.921875 -0.59375 C 3.734375 -0.351562 3.507812 -0.179688 3.25 -0.078125 C 3 0.0234375 2.726562 0.078125 2.4375 0.078125 C 2.144531 0.078125 1.867188 0.0234375 1.609375 -0.078125 C 1.359375 -0.179688 1.140625 -0.351562 0.953125 -0.59375 C 0.765625 -0.84375 0.613281 -1.164062 0.5 -1.5625 C 0.394531 -1.957031 0.34375 -2.445312 0.34375 -3.03125 C 0.34375 -3.632812 0.394531 -4.132812 0.5 -4.53125 C 0.613281 -4.9375 0.765625 -5.257812 0.953125 -5.5 C 1.140625 -5.738281 1.359375 -5.90625 1.609375 -6 C 1.867188 -6.09375 2.15625 -6.140625 2.46875 -6.140625 C 2.75 -6.140625 3.015625 -6.09375 3.265625 -6 C 3.523438 -5.90625 3.75 -5.738281 3.9375 -5.5 C 4.125 -5.257812 4.269531 -4.9375 4.375 -4.53125 C 4.488281 -4.132812 4.546875 -3.632812 4.546875 -3.03125 Z M 3.765625 -3.03125 C 3.765625 -3.507812 3.734375 -3.90625 3.671875 -4.21875 C 3.617188 -4.539062 3.535156 -4.796875 3.421875 -4.984375 C 3.304688 -5.179688 3.164062 -5.316406 3 -5.390625 C 2.84375 -5.472656 2.664062 -5.515625 2.46875 -5.515625 C 2.25 -5.515625 2.054688 -5.472656 1.890625 -5.390625 C 1.722656 -5.316406 1.582031 -5.179688 1.46875 -4.984375 C 1.351562 -4.796875 1.265625 -4.539062 1.203125 -4.21875 C 1.148438 -3.90625 1.125 -3.507812 1.125 -3.03125 C 1.125 -2.5625 1.148438 -2.164062 1.203125 -1.84375 C 1.265625 -1.53125 1.351562 -1.273438 1.46875 -1.078125 C 1.582031 -0.890625 1.71875 -0.753906 1.875 -0.671875 C 2.039062 -0.585938 2.226562 -0.546875 2.4375 -0.546875 C 2.644531 -0.546875 2.828125 -0.585938 2.984375 -0.671875 C 3.148438 -0.753906 3.289062 -0.890625 3.40625 -1.078125 C 3.519531 -1.273438 3.609375 -1.53125 3.671875 -1.84375 C 3.734375 -2.164062 3.765625 -2.5625 3.765625 -3.03125 Z M 3.765625 -3.03125 \"/>\n",
       "</symbol>\n",
       "<symbol overflow=\"visible\" id=\"glyph0-2\">\n",
       "<path style=\"stroke:none;\" d=\"M 1.1875 -2.15625 C 1.1875 -1.914062 1.207031 -1.691406 1.25 -1.484375 C 1.300781 -1.285156 1.378906 -1.109375 1.484375 -0.953125 C 1.597656 -0.804688 1.734375 -0.691406 1.890625 -0.609375 C 2.054688 -0.535156 2.253906 -0.5 2.484375 -0.5 C 2.816406 -0.5 3.082031 -0.5625 3.28125 -0.6875 C 3.488281 -0.820312 3.628906 -0.992188 3.703125 -1.203125 L 4.375 -1.015625 C 4.320312 -0.890625 4.253906 -0.757812 4.171875 -0.625 C 4.085938 -0.488281 3.972656 -0.367188 3.828125 -0.265625 C 3.679688 -0.160156 3.5 -0.078125 3.28125 -0.015625 C 3.0625 0.046875 2.796875 0.078125 2.484375 0.078125 C 1.796875 0.078125 1.269531 -0.125 0.90625 -0.53125 C 0.550781 -0.9375 0.375 -1.546875 0.375 -2.359375 C 0.375 -2.785156 0.425781 -3.148438 0.53125 -3.453125 C 0.644531 -3.753906 0.796875 -4 0.984375 -4.1875 C 1.171875 -4.382812 1.390625 -4.523438 1.640625 -4.609375 C 1.890625 -4.691406 2.160156 -4.734375 2.453125 -4.734375 C 2.835938 -4.734375 3.160156 -4.671875 3.421875 -4.546875 C 3.691406 -4.421875 3.90625 -4.242188 4.0625 -4.015625 C 4.21875 -3.796875 4.328125 -3.535156 4.390625 -3.234375 C 4.460938 -2.929688 4.5 -2.609375 4.5 -2.265625 L 4.5 -2.15625 Z M 3.703125 -2.75 C 3.660156 -3.238281 3.535156 -3.59375 3.328125 -3.8125 C 3.117188 -4.039062 2.820312 -4.15625 2.4375 -4.15625 C 2.3125 -4.15625 2.175781 -4.132812 2.03125 -4.09375 C 1.894531 -4.050781 1.765625 -3.976562 1.640625 -3.875 C 1.515625 -3.769531 1.410156 -3.625 1.328125 -3.4375 C 1.253906 -3.257812 1.207031 -3.03125 1.1875 -2.75 Z M 3.703125 -2.75 \"/>\n",
       "</symbol>\n",
       "<symbol overflow=\"visible\" id=\"glyph0-3\">\n",
       "<path style=\"stroke:none;\" d=\"M 2.875 -2.609375 L 2.875 -0.765625 L 2.25 -0.765625 L 2.25 -2.609375 L 0.421875 -2.609375 L 0.421875 -3.234375 L 2.25 -3.234375 L 2.25 -5.078125 L 2.875 -5.078125 L 2.875 -3.234375 L 4.703125 -3.234375 L 4.703125 -2.609375 Z M 2.875 -2.609375 \"/>\n",
       "</symbol>\n",
       "<symbol overflow=\"visible\" id=\"glyph0-4\">\n",
       "<path style=\"stroke:none;\" d=\"M 0.4375 0 L 0.4375 -0.546875 C 0.582031 -0.878906 0.757812 -1.171875 0.96875 -1.421875 C 1.1875 -1.679688 1.410156 -1.914062 1.640625 -2.125 C 1.867188 -2.332031 2.097656 -2.523438 2.328125 -2.703125 C 2.554688 -2.878906 2.757812 -3.054688 2.9375 -3.234375 C 3.125 -3.410156 3.273438 -3.597656 3.390625 -3.796875 C 3.503906 -3.992188 3.5625 -4.210938 3.5625 -4.453125 C 3.5625 -4.628906 3.535156 -4.78125 3.484375 -4.90625 C 3.429688 -5.039062 3.351562 -5.148438 3.25 -5.234375 C 3.15625 -5.328125 3.039062 -5.394531 2.90625 -5.4375 C 2.769531 -5.476562 2.617188 -5.5 2.453125 -5.5 C 2.296875 -5.5 2.148438 -5.476562 2.015625 -5.4375 C 1.878906 -5.394531 1.757812 -5.332031 1.65625 -5.25 C 1.550781 -5.164062 1.460938 -5.054688 1.390625 -4.921875 C 1.328125 -4.796875 1.285156 -4.648438 1.265625 -4.484375 L 0.484375 -4.5625 C 0.503906 -4.78125 0.5625 -4.984375 0.65625 -5.171875 C 0.75 -5.359375 0.878906 -5.523438 1.046875 -5.671875 C 1.210938 -5.816406 1.410156 -5.929688 1.640625 -6.015625 C 1.878906 -6.097656 2.148438 -6.140625 2.453125 -6.140625 C 2.753906 -6.140625 3.019531 -6.101562 3.25 -6.03125 C 3.488281 -5.957031 3.6875 -5.847656 3.84375 -5.703125 C 4.007812 -5.566406 4.132812 -5.394531 4.21875 -5.1875 C 4.3125 -4.988281 4.359375 -4.753906 4.359375 -4.484375 C 4.359375 -4.273438 4.320312 -4.078125 4.25 -3.890625 C 4.175781 -3.710938 4.078125 -3.539062 3.953125 -3.375 C 3.828125 -3.207031 3.6875 -3.046875 3.53125 -2.890625 C 3.375 -2.742188 3.207031 -2.59375 3.03125 -2.4375 C 2.851562 -2.289062 2.675781 -2.144531 2.5 -2 C 2.320312 -1.863281 2.15625 -1.722656 2 -1.578125 C 1.84375 -1.429688 1.703125 -1.28125 1.578125 -1.125 C 1.453125 -0.976562 1.359375 -0.820312 1.296875 -0.65625 L 4.453125 -0.65625 L 4.453125 0 Z M 0.4375 0 \"/>\n",
       "</symbol>\n",
       "<symbol overflow=\"visible\" id=\"glyph0-5\">\n",
       "<path style=\"stroke:none;\" d=\"M 0.390625 -2 L 0.390625 -2.6875 L 2.53125 -2.6875 L 2.53125 -2 Z M 0.390625 -2 \"/>\n",
       "</symbol>\n",
       "<symbol overflow=\"visible\" id=\"glyph0-6\">\n",
       "<path style=\"stroke:none;\" d=\"M 4.515625 -1.96875 C 4.515625 -1.664062 4.46875 -1.390625 4.375 -1.140625 C 4.289062 -0.890625 4.15625 -0.671875 3.96875 -0.484375 C 3.789062 -0.304688 3.566406 -0.164062 3.296875 -0.0625 C 3.035156 0.03125 2.726562 0.078125 2.375 0.078125 C 2.0625 0.078125 1.785156 0.0390625 1.546875 -0.03125 C 1.304688 -0.101562 1.101562 -0.203125 0.9375 -0.328125 C 0.78125 -0.460938 0.648438 -0.613281 0.546875 -0.78125 C 0.453125 -0.957031 0.390625 -1.148438 0.359375 -1.359375 L 1.140625 -1.4375 C 1.171875 -1.320312 1.210938 -1.210938 1.265625 -1.109375 C 1.328125 -1.003906 1.40625 -0.910156 1.5 -0.828125 C 1.601562 -0.742188 1.722656 -0.675781 1.859375 -0.625 C 2.003906 -0.570312 2.179688 -0.546875 2.390625 -0.546875 C 2.585938 -0.546875 2.769531 -0.578125 2.9375 -0.640625 C 3.101562 -0.703125 3.242188 -0.789062 3.359375 -0.90625 C 3.472656 -1.03125 3.5625 -1.175781 3.625 -1.34375 C 3.6875 -1.519531 3.71875 -1.722656 3.71875 -1.953125 C 3.71875 -2.140625 3.6875 -2.3125 3.625 -2.46875 C 3.570312 -2.625 3.488281 -2.757812 3.375 -2.875 C 3.257812 -2.988281 3.117188 -3.078125 2.953125 -3.140625 C 2.796875 -3.203125 2.613281 -3.234375 2.40625 -3.234375 C 2.28125 -3.234375 2.160156 -3.21875 2.046875 -3.1875 C 1.941406 -3.164062 1.84375 -3.132812 1.75 -3.09375 C 1.65625 -3.0625 1.570312 -3.015625 1.5 -2.953125 C 1.425781 -2.898438 1.351562 -2.847656 1.28125 -2.796875 L 0.53125 -2.796875 L 0.734375 -6.046875 L 4.171875 -6.046875 L 4.171875 -5.390625 L 1.4375 -5.390625 L 1.3125 -3.46875 C 1.457031 -3.582031 1.628906 -3.675781 1.828125 -3.75 C 2.035156 -3.820312 2.28125 -3.859375 2.5625 -3.859375 C 2.863281 -3.859375 3.132812 -3.8125 3.375 -3.71875 C 3.613281 -3.632812 3.816406 -3.503906 3.984375 -3.328125 C 4.160156 -3.160156 4.289062 -2.960938 4.375 -2.734375 C 4.46875 -2.503906 4.515625 -2.25 4.515625 -1.96875 Z M 4.515625 -1.96875 \"/>\n",
       "</symbol>\n",
       "<symbol overflow=\"visible\" id=\"glyph0-7\">\n",
       "<path style=\"stroke:none;\" d=\"M 3.78125 -1.375 L 3.78125 0 L 3.046875 0 L 3.046875 -1.375 L 0.203125 -1.375 L 0.203125 -1.96875 L 2.96875 -6.046875 L 3.78125 -6.046875 L 3.78125 -1.984375 L 4.640625 -1.984375 L 4.640625 -1.375 Z M 3.046875 -5.1875 C 3.046875 -5.164062 3.035156 -5.132812 3.015625 -5.09375 C 2.992188 -5.050781 2.96875 -5.003906 2.9375 -4.953125 C 2.90625 -4.898438 2.875 -4.847656 2.84375 -4.796875 C 2.8125 -4.742188 2.785156 -4.703125 2.765625 -4.671875 L 1.21875 -2.390625 C 1.195312 -2.359375 1.171875 -2.320312 1.140625 -2.28125 C 1.117188 -2.25 1.09375 -2.210938 1.0625 -2.171875 C 1.039062 -2.140625 1.015625 -2.101562 0.984375 -2.0625 C 0.953125 -2.03125 0.929688 -2.003906 0.921875 -1.984375 L 3.046875 -1.984375 Z M 3.046875 -5.1875 \"/>\n",
       "</symbol>\n",
       "<symbol overflow=\"visible\" id=\"glyph0-8\">\n",
       "<path style=\"stroke:none;\" d=\"M 4.5 -1.984375 C 4.5 -1.679688 4.457031 -1.398438 4.375 -1.140625 C 4.289062 -0.890625 4.164062 -0.671875 4 -0.484375 C 3.84375 -0.304688 3.640625 -0.164062 3.390625 -0.0625 C 3.148438 0.03125 2.867188 0.078125 2.546875 0.078125 C 2.191406 0.078125 1.882812 0.015625 1.625 -0.109375 C 1.363281 -0.242188 1.144531 -0.4375 0.96875 -0.6875 C 0.789062 -0.945312 0.660156 -1.257812 0.578125 -1.625 C 0.492188 -2 0.453125 -2.421875 0.453125 -2.890625 C 0.453125 -3.421875 0.5 -3.890625 0.59375 -4.296875 C 0.695312 -4.703125 0.835938 -5.039062 1.015625 -5.3125 C 1.203125 -5.59375 1.429688 -5.800781 1.703125 -5.9375 C 1.972656 -6.070312 2.273438 -6.140625 2.609375 -6.140625 C 2.816406 -6.140625 3.007812 -6.117188 3.1875 -6.078125 C 3.375 -6.035156 3.539062 -5.960938 3.6875 -5.859375 C 3.832031 -5.765625 3.957031 -5.640625 4.0625 -5.484375 C 4.175781 -5.328125 4.269531 -5.132812 4.34375 -4.90625 L 3.59375 -4.78125 C 3.519531 -5.039062 3.394531 -5.226562 3.21875 -5.34375 C 3.039062 -5.457031 2.835938 -5.515625 2.609375 -5.515625 C 2.390625 -5.515625 2.191406 -5.460938 2.015625 -5.359375 C 1.847656 -5.265625 1.703125 -5.117188 1.578125 -4.921875 C 1.460938 -4.722656 1.375 -4.472656 1.3125 -4.171875 C 1.25 -3.867188 1.21875 -3.515625 1.21875 -3.109375 C 1.351562 -3.367188 1.546875 -3.566406 1.796875 -3.703125 C 2.054688 -3.835938 2.351562 -3.90625 2.6875 -3.90625 C 2.957031 -3.90625 3.203125 -3.859375 3.421875 -3.765625 C 3.648438 -3.679688 3.84375 -3.554688 4 -3.390625 C 4.164062 -3.222656 4.289062 -3.019531 4.375 -2.78125 C 4.457031 -2.539062 4.5 -2.273438 4.5 -1.984375 Z M 3.71875 -1.953125 C 3.71875 -2.160156 3.691406 -2.347656 3.640625 -2.515625 C 3.585938 -2.679688 3.507812 -2.820312 3.40625 -2.9375 C 3.300781 -3.0625 3.171875 -3.15625 3.015625 -3.21875 C 2.867188 -3.28125 2.695312 -3.3125 2.5 -3.3125 C 2.363281 -3.3125 2.222656 -3.289062 2.078125 -3.25 C 1.929688 -3.207031 1.800781 -3.140625 1.6875 -3.046875 C 1.570312 -2.953125 1.476562 -2.828125 1.40625 -2.671875 C 1.332031 -2.523438 1.296875 -2.34375 1.296875 -2.125 C 1.296875 -1.90625 1.320312 -1.695312 1.375 -1.5 C 1.4375 -1.3125 1.519531 -1.144531 1.625 -1 C 1.726562 -0.851562 1.851562 -0.738281 2 -0.65625 C 2.15625 -0.570312 2.332031 -0.53125 2.53125 -0.53125 C 2.71875 -0.53125 2.882812 -0.5625 3.03125 -0.625 C 3.175781 -0.695312 3.300781 -0.789062 3.40625 -0.90625 C 3.507812 -1.03125 3.585938 -1.179688 3.640625 -1.359375 C 3.691406 -1.535156 3.71875 -1.734375 3.71875 -1.953125 Z M 3.71875 -1.953125 \"/>\n",
       "</symbol>\n",
       "<symbol overflow=\"visible\" id=\"glyph0-9\">\n",
       "<path style=\"stroke:none;\" d=\"M 4.515625 -1.6875 C 4.515625 -1.425781 4.472656 -1.1875 4.390625 -0.96875 C 4.304688 -0.757812 4.179688 -0.578125 4.015625 -0.421875 C 3.847656 -0.265625 3.632812 -0.140625 3.375 -0.046875 C 3.113281 0.0351562 2.804688 0.078125 2.453125 0.078125 C 2.097656 0.078125 1.789062 0.0351562 1.53125 -0.046875 C 1.269531 -0.140625 1.050781 -0.265625 0.875 -0.421875 C 0.707031 -0.578125 0.582031 -0.757812 0.5 -0.96875 C 0.414062 -1.1875 0.375 -1.421875 0.375 -1.671875 C 0.375 -1.898438 0.40625 -2.097656 0.46875 -2.265625 C 0.539062 -2.441406 0.632812 -2.59375 0.75 -2.71875 C 0.863281 -2.84375 0.992188 -2.941406 1.140625 -3.015625 C 1.285156 -3.085938 1.4375 -3.140625 1.59375 -3.171875 L 1.59375 -3.1875 C 1.414062 -3.226562 1.257812 -3.289062 1.125 -3.375 C 1 -3.46875 0.890625 -3.578125 0.796875 -3.703125 C 0.710938 -3.828125 0.644531 -3.960938 0.59375 -4.109375 C 0.550781 -4.265625 0.53125 -4.425781 0.53125 -4.59375 C 0.53125 -4.800781 0.566406 -5 0.640625 -5.1875 C 0.722656 -5.375 0.84375 -5.535156 1 -5.671875 C 1.164062 -5.816406 1.367188 -5.929688 1.609375 -6.015625 C 1.847656 -6.097656 2.125 -6.140625 2.4375 -6.140625 C 2.757812 -6.140625 3.039062 -6.097656 3.28125 -6.015625 C 3.53125 -5.929688 3.734375 -5.816406 3.890625 -5.671875 C 4.046875 -5.535156 4.160156 -5.375 4.234375 -5.1875 C 4.316406 -5 4.359375 -4.796875 4.359375 -4.578125 C 4.359375 -4.410156 4.332031 -4.25 4.28125 -4.09375 C 4.238281 -3.945312 4.171875 -3.8125 4.078125 -3.6875 C 3.992188 -3.5625 3.882812 -3.457031 3.75 -3.375 C 3.613281 -3.289062 3.457031 -3.226562 3.28125 -3.1875 L 3.28125 -3.171875 C 3.457031 -3.140625 3.617188 -3.085938 3.765625 -3.015625 C 3.921875 -2.941406 4.050781 -2.84375 4.15625 -2.71875 C 4.269531 -2.59375 4.359375 -2.441406 4.421875 -2.265625 C 4.484375 -2.097656 4.515625 -1.90625 4.515625 -1.6875 Z M 3.5625 -4.546875 C 3.5625 -4.691406 3.539062 -4.828125 3.5 -4.953125 C 3.457031 -5.078125 3.390625 -5.1875 3.296875 -5.28125 C 3.210938 -5.375 3.097656 -5.441406 2.953125 -5.484375 C 2.816406 -5.535156 2.644531 -5.5625 2.4375 -5.5625 C 2.226562 -5.5625 2.050781 -5.535156 1.90625 -5.484375 C 1.769531 -5.441406 1.65625 -5.375 1.5625 -5.28125 C 1.476562 -5.1875 1.414062 -5.078125 1.375 -4.953125 C 1.332031 -4.828125 1.3125 -4.691406 1.3125 -4.546875 C 1.3125 -4.421875 1.328125 -4.296875 1.359375 -4.171875 C 1.390625 -4.046875 1.445312 -3.929688 1.53125 -3.828125 C 1.613281 -3.722656 1.726562 -3.632812 1.875 -3.5625 C 2.019531 -3.5 2.207031 -3.46875 2.4375 -3.46875 C 2.6875 -3.46875 2.882812 -3.5 3.03125 -3.5625 C 3.175781 -3.632812 3.285156 -3.722656 3.359375 -3.828125 C 3.441406 -3.929688 3.492188 -4.046875 3.515625 -4.171875 C 3.546875 -4.296875 3.5625 -4.421875 3.5625 -4.546875 Z M 3.703125 -1.765625 C 3.703125 -1.910156 3.679688 -2.050781 3.640625 -2.1875 C 3.609375 -2.320312 3.539062 -2.441406 3.4375 -2.546875 C 3.34375 -2.648438 3.210938 -2.734375 3.046875 -2.796875 C 2.878906 -2.859375 2.675781 -2.890625 2.4375 -2.890625 C 2.207031 -2.890625 2.007812 -2.859375 1.84375 -2.796875 C 1.6875 -2.734375 1.554688 -2.648438 1.453125 -2.546875 C 1.359375 -2.441406 1.289062 -2.316406 1.25 -2.171875 C 1.207031 -2.035156 1.1875 -1.894531 1.1875 -1.75 C 1.1875 -1.5625 1.207031 -1.390625 1.25 -1.234375 C 1.289062 -1.078125 1.363281 -0.941406 1.46875 -0.828125 C 1.570312 -0.722656 1.703125 -0.640625 1.859375 -0.578125 C 2.023438 -0.523438 2.222656 -0.5 2.453125 -0.5 C 2.691406 -0.5 2.890625 -0.523438 3.046875 -0.578125 C 3.210938 -0.640625 3.34375 -0.722656 3.4375 -0.828125 C 3.53125 -0.941406 3.597656 -1.078125 3.640625 -1.234375 C 3.679688 -1.390625 3.703125 -1.566406 3.703125 -1.765625 Z M 3.703125 -1.765625 \"/>\n",
       "</symbol>\n",
       "<symbol overflow=\"visible\" id=\"glyph0-10\">\n",
       "<path style=\"stroke:none;\" d=\"M 0.796875 0 L 0.796875 -0.9375 L 1.640625 -0.9375 L 1.640625 0 Z M 0.796875 0 \"/>\n",
       "</symbol>\n",
       "<symbol overflow=\"visible\" id=\"glyph0-11\">\n",
       "<path style=\"stroke:none;\" d=\"M 4.46875 -3.15625 C 4.46875 -2.613281 4.414062 -2.140625 4.3125 -1.734375 C 4.21875 -1.328125 4.078125 -0.988281 3.890625 -0.71875 C 3.703125 -0.445312 3.472656 -0.242188 3.203125 -0.109375 C 2.929688 0.015625 2.625 0.078125 2.28125 0.078125 C 2.050781 0.078125 1.84375 0.0507812 1.65625 0 C 1.46875 -0.0390625 1.300781 -0.109375 1.15625 -0.203125 C 1.007812 -0.304688 0.882812 -0.4375 0.78125 -0.59375 C 0.675781 -0.757812 0.59375 -0.953125 0.53125 -1.171875 L 1.28125 -1.296875 C 1.351562 -1.035156 1.472656 -0.84375 1.640625 -0.71875 C 1.816406 -0.59375 2.035156 -0.53125 2.296875 -0.53125 C 2.503906 -0.53125 2.691406 -0.578125 2.859375 -0.671875 C 3.035156 -0.773438 3.1875 -0.925781 3.3125 -1.125 C 3.4375 -1.320312 3.53125 -1.566406 3.59375 -1.859375 C 3.664062 -2.160156 3.707031 -2.515625 3.71875 -2.921875 C 3.65625 -2.785156 3.570312 -2.664062 3.46875 -2.5625 C 3.363281 -2.457031 3.242188 -2.367188 3.109375 -2.296875 C 2.972656 -2.222656 2.828125 -2.164062 2.671875 -2.125 C 2.515625 -2.082031 2.359375 -2.0625 2.203125 -2.0625 C 1.929688 -2.0625 1.679688 -2.109375 1.453125 -2.203125 C 1.234375 -2.304688 1.046875 -2.445312 0.890625 -2.625 C 0.742188 -2.800781 0.625 -3.015625 0.53125 -3.265625 C 0.445312 -3.515625 0.40625 -3.796875 0.40625 -4.109375 C 0.40625 -4.421875 0.453125 -4.703125 0.546875 -4.953125 C 0.640625 -5.203125 0.769531 -5.414062 0.9375 -5.59375 C 1.113281 -5.769531 1.328125 -5.90625 1.578125 -6 C 1.828125 -6.09375 2.109375 -6.140625 2.421875 -6.140625 C 3.097656 -6.140625 3.609375 -5.890625 3.953125 -5.390625 C 4.296875 -4.890625 4.46875 -4.144531 4.46875 -3.15625 Z M 3.640625 -3.890625 C 3.640625 -4.117188 3.609375 -4.332031 3.546875 -4.53125 C 3.492188 -4.726562 3.414062 -4.898438 3.3125 -5.046875 C 3.207031 -5.191406 3.078125 -5.304688 2.921875 -5.390625 C 2.773438 -5.472656 2.601562 -5.515625 2.40625 -5.515625 C 2.21875 -5.515625 2.046875 -5.476562 1.890625 -5.40625 C 1.742188 -5.34375 1.617188 -5.25 1.515625 -5.125 C 1.410156 -5.007812 1.332031 -4.863281 1.28125 -4.6875 C 1.226562 -4.507812 1.203125 -4.316406 1.203125 -4.109375 C 1.203125 -3.898438 1.222656 -3.707031 1.265625 -3.53125 C 1.316406 -3.363281 1.394531 -3.210938 1.5 -3.078125 C 1.601562 -2.953125 1.726562 -2.851562 1.875 -2.78125 C 2.019531 -2.707031 2.191406 -2.671875 2.390625 -2.671875 C 2.535156 -2.671875 2.679688 -2.695312 2.828125 -2.75 C 2.972656 -2.800781 3.101562 -2.875 3.21875 -2.96875 C 3.34375 -3.070312 3.441406 -3.195312 3.515625 -3.34375 C 3.597656 -3.5 3.640625 -3.679688 3.640625 -3.890625 Z M 3.640625 -3.890625 \"/>\n",
       "</symbol>\n",
       "<symbol overflow=\"visible\" id=\"glyph0-12\">\n",
       "<path style=\"stroke:none;\" d=\"M 0.671875 0 L 0.671875 -0.65625 L 2.21875 -0.65625 L 2.21875 -5.3125 L 0.84375 -4.34375 L 0.84375 -5.0625 L 2.28125 -6.046875 L 2.984375 -6.046875 L 2.984375 -0.65625 L 4.46875 -0.65625 L 4.46875 0 Z M 0.671875 0 \"/>\n",
       "</symbol>\n",
       "<symbol overflow=\"visible\" id=\"glyph1-0\">\n",
       "<path style=\"stroke:none;\" d=\"M 0.359375 0 L 0.359375 -7.328125 L 3.28125 -7.328125 L 3.28125 0 Z M 0.734375 -0.359375 L 2.921875 -0.359375 L 2.921875 -6.96875 L 0.734375 -6.96875 Z M 0.734375 -0.359375 \"/>\n",
       "</symbol>\n",
       "<symbol overflow=\"visible\" id=\"glyph1-1\">\n",
       "<path style=\"stroke:none;\" d=\"M 4.125 0 L 4.125 -3.6875 C 4.125 -3.96875 4.101562 -4.203125 4.0625 -4.390625 C 4.03125 -4.578125 3.972656 -4.726562 3.890625 -4.84375 C 3.804688 -4.96875 3.695312 -5.050781 3.5625 -5.09375 C 3.425781 -5.144531 3.257812 -5.171875 3.0625 -5.171875 C 2.851562 -5.171875 2.664062 -5.128906 2.5 -5.046875 C 2.34375 -4.972656 2.203125 -4.859375 2.078125 -4.703125 C 1.960938 -4.546875 1.875 -4.351562 1.8125 -4.125 C 1.75 -3.90625 1.71875 -3.65625 1.71875 -3.375 L 1.71875 0 L 0.765625 0 L 0.765625 -4.578125 C 0.765625 -4.691406 0.757812 -4.816406 0.75 -4.953125 C 0.75 -5.085938 0.75 -5.210938 0.75 -5.328125 C 0.75 -5.453125 0.742188 -5.554688 0.734375 -5.640625 C 0.734375 -5.734375 0.734375 -5.789062 0.734375 -5.8125 L 1.640625 -5.8125 C 1.648438 -5.789062 1.65625 -5.738281 1.65625 -5.65625 C 1.65625 -5.582031 1.65625 -5.492188 1.65625 -5.390625 C 1.664062 -5.296875 1.671875 -5.191406 1.671875 -5.078125 C 1.679688 -4.972656 1.6875 -4.882812 1.6875 -4.8125 L 1.703125 -4.8125 C 1.785156 -4.988281 1.875 -5.144531 1.96875 -5.28125 C 2.070312 -5.414062 2.191406 -5.53125 2.328125 -5.625 C 2.460938 -5.71875 2.617188 -5.789062 2.796875 -5.84375 C 2.972656 -5.894531 3.175781 -5.921875 3.40625 -5.921875 C 3.84375 -5.921875 4.1875 -5.832031 4.4375 -5.65625 C 4.695312 -5.476562 4.878906 -5.195312 4.984375 -4.8125 L 5 -4.8125 C 5.082031 -4.988281 5.175781 -5.144531 5.28125 -5.28125 C 5.394531 -5.414062 5.519531 -5.53125 5.65625 -5.625 C 5.800781 -5.71875 5.960938 -5.789062 6.140625 -5.84375 C 6.316406 -5.894531 6.519531 -5.921875 6.75 -5.921875 C 7.050781 -5.921875 7.304688 -5.878906 7.515625 -5.796875 C 7.734375 -5.722656 7.910156 -5.601562 8.046875 -5.4375 C 8.179688 -5.269531 8.28125 -5.054688 8.34375 -4.796875 C 8.40625 -4.535156 8.4375 -4.226562 8.4375 -3.875 L 8.4375 0 L 7.484375 0 L 7.484375 -3.6875 C 7.484375 -3.96875 7.460938 -4.203125 7.421875 -4.390625 C 7.390625 -4.578125 7.332031 -4.726562 7.25 -4.84375 C 7.164062 -4.96875 7.054688 -5.050781 6.921875 -5.09375 C 6.785156 -5.144531 6.617188 -5.171875 6.421875 -5.171875 C 6.210938 -5.171875 6.023438 -5.128906 5.859375 -5.046875 C 5.703125 -4.972656 5.5625 -4.859375 5.4375 -4.703125 C 5.320312 -4.554688 5.234375 -4.367188 5.171875 -4.140625 C 5.109375 -3.921875 5.078125 -3.664062 5.078125 -3.375 L 5.078125 0 Z M 4.125 0 \"/>\n",
       "</symbol>\n",
       "<symbol overflow=\"visible\" id=\"glyph1-2\">\n",
       "<path style=\"stroke:none;\" d=\"M 0.765625 0 L 0.765625 -4.453125 C 0.765625 -4.578125 0.757812 -4.703125 0.75 -4.828125 C 0.75 -4.953125 0.75 -5.070312 0.75 -5.1875 C 0.75 -5.3125 0.742188 -5.425781 0.734375 -5.53125 C 0.734375 -5.632812 0.734375 -5.726562 0.734375 -5.8125 L 1.640625 -5.8125 C 1.648438 -5.726562 1.65625 -5.632812 1.65625 -5.53125 C 1.664062 -5.425781 1.671875 -5.316406 1.671875 -5.203125 C 1.679688 -5.085938 1.6875 -4.976562 1.6875 -4.875 C 1.6875 -4.78125 1.6875 -4.695312 1.6875 -4.625 L 1.703125 -4.625 C 1.773438 -4.84375 1.847656 -5.035156 1.921875 -5.203125 C 2.003906 -5.367188 2.097656 -5.503906 2.203125 -5.609375 C 2.304688 -5.710938 2.425781 -5.789062 2.5625 -5.84375 C 2.707031 -5.894531 2.882812 -5.921875 3.09375 -5.921875 C 3.164062 -5.921875 3.238281 -5.910156 3.3125 -5.890625 C 3.382812 -5.878906 3.441406 -5.867188 3.484375 -5.859375 L 3.484375 -4.984375 C 3.421875 -4.992188 3.34375 -5.003906 3.25 -5.015625 C 3.164062 -5.023438 3.070312 -5.03125 2.96875 -5.03125 C 2.738281 -5.03125 2.546875 -4.976562 2.390625 -4.875 C 2.242188 -4.78125 2.117188 -4.644531 2.015625 -4.46875 C 1.921875 -4.289062 1.847656 -4.078125 1.796875 -3.828125 C 1.753906 -3.585938 1.734375 -3.320312 1.734375 -3.03125 L 1.734375 0 Z M 0.765625 0 \"/>\n",
       "</symbol>\n",
       "<symbol overflow=\"visible\" id=\"glyph1-3\">\n",
       "<path style=\"stroke:none;\" d=\"M 4.4375 0 L 4.4375 -3.6875 C 4.4375 -3.96875 4.414062 -4.203125 4.375 -4.390625 C 4.332031 -4.578125 4.265625 -4.726562 4.171875 -4.84375 C 4.078125 -4.96875 3.953125 -5.050781 3.796875 -5.09375 C 3.648438 -5.144531 3.460938 -5.171875 3.234375 -5.171875 C 3.003906 -5.171875 2.796875 -5.128906 2.609375 -5.046875 C 2.429688 -4.972656 2.273438 -4.859375 2.140625 -4.703125 C 2.003906 -4.546875 1.898438 -4.351562 1.828125 -4.125 C 1.765625 -3.90625 1.734375 -3.65625 1.734375 -3.375 L 1.734375 0 L 0.765625 0 L 0.765625 -4.578125 C 0.765625 -4.691406 0.757812 -4.816406 0.75 -4.953125 C 0.75 -5.085938 0.75 -5.210938 0.75 -5.328125 C 0.75 -5.453125 0.742188 -5.554688 0.734375 -5.640625 C 0.734375 -5.734375 0.734375 -5.789062 0.734375 -5.8125 L 1.640625 -5.8125 C 1.648438 -5.789062 1.65625 -5.738281 1.65625 -5.65625 C 1.65625 -5.582031 1.65625 -5.492188 1.65625 -5.390625 C 1.664062 -5.296875 1.671875 -5.191406 1.671875 -5.078125 C 1.679688 -4.972656 1.6875 -4.882812 1.6875 -4.8125 L 1.703125 -4.8125 C 1.796875 -4.988281 1.894531 -5.144531 2 -5.28125 C 2.113281 -5.414062 2.242188 -5.53125 2.390625 -5.625 C 2.535156 -5.71875 2.703125 -5.789062 2.890625 -5.84375 C 3.085938 -5.894531 3.3125 -5.921875 3.5625 -5.921875 C 3.882812 -5.921875 4.160156 -5.878906 4.390625 -5.796875 C 4.628906 -5.722656 4.820312 -5.601562 4.96875 -5.4375 C 5.113281 -5.269531 5.222656 -5.054688 5.296875 -4.796875 C 5.367188 -4.535156 5.40625 -4.226562 5.40625 -3.875 L 5.40625 0 Z M 4.4375 0 \"/>\n",
       "</symbol>\n",
       "<symbol overflow=\"visible\" id=\"glyph1-4\">\n",
       "<path style=\"stroke:none;\" d=\"M 2.21875 0.109375 C 1.632812 0.109375 1.195312 -0.0390625 0.90625 -0.34375 C 0.613281 -0.65625 0.46875 -1.082031 0.46875 -1.625 C 0.46875 -2.007812 0.539062 -2.320312 0.6875 -2.5625 C 0.832031 -2.8125 1.019531 -3.003906 1.25 -3.140625 C 1.488281 -3.285156 1.757812 -3.382812 2.0625 -3.4375 C 2.363281 -3.488281 2.664062 -3.519531 2.96875 -3.53125 L 4.28125 -3.546875 L 4.28125 -3.859375 C 4.28125 -4.097656 4.253906 -4.300781 4.203125 -4.46875 C 4.148438 -4.644531 4.070312 -4.78125 3.96875 -4.875 C 3.863281 -4.976562 3.734375 -5.054688 3.578125 -5.109375 C 3.429688 -5.160156 3.25 -5.1875 3.03125 -5.1875 C 2.84375 -5.1875 2.671875 -5.171875 2.515625 -5.140625 C 2.367188 -5.117188 2.238281 -5.070312 2.125 -5 C 2.019531 -4.925781 1.929688 -4.828125 1.859375 -4.703125 C 1.796875 -4.585938 1.753906 -4.441406 1.734375 -4.265625 L 0.71875 -4.34375 C 0.757812 -4.570312 0.828125 -4.78125 0.921875 -4.96875 C 1.023438 -5.164062 1.171875 -5.332031 1.359375 -5.46875 C 1.546875 -5.613281 1.773438 -5.722656 2.046875 -5.796875 C 2.328125 -5.878906 2.664062 -5.921875 3.0625 -5.921875 C 3.789062 -5.921875 4.335938 -5.753906 4.703125 -5.421875 C 5.078125 -5.085938 5.265625 -4.601562 5.265625 -3.96875 L 5.265625 -1.46875 C 5.265625 -1.175781 5.300781 -0.957031 5.375 -0.8125 C 5.445312 -0.664062 5.585938 -0.59375 5.796875 -0.59375 C 5.847656 -0.59375 5.898438 -0.597656 5.953125 -0.609375 C 6.015625 -0.617188 6.070312 -0.628906 6.125 -0.640625 L 6.125 -0.03125 C 6 0 5.875 0.0195312 5.75 0.03125 C 5.632812 0.0390625 5.507812 0.046875 5.375 0.046875 C 5.1875 0.046875 5.023438 0.0234375 4.890625 -0.015625 C 4.765625 -0.0664062 4.660156 -0.140625 4.578125 -0.234375 C 4.492188 -0.335938 4.429688 -0.460938 4.390625 -0.609375 C 4.347656 -0.753906 4.320312 -0.921875 4.3125 -1.109375 L 4.28125 -1.109375 C 4.175781 -0.921875 4.0625 -0.75 3.9375 -0.59375 C 3.8125 -0.445312 3.664062 -0.320312 3.5 -0.21875 C 3.34375 -0.113281 3.15625 -0.0351562 2.9375 0.015625 C 2.726562 0.078125 2.488281 0.109375 2.21875 0.109375 Z M 2.4375 -0.625 C 2.75 -0.625 3.019531 -0.675781 3.25 -0.78125 C 3.476562 -0.894531 3.671875 -1.039062 3.828125 -1.21875 C 3.984375 -1.394531 4.097656 -1.585938 4.171875 -1.796875 C 4.242188 -2.003906 4.28125 -2.203125 4.28125 -2.390625 L 4.28125 -2.875 L 3.21875 -2.84375 C 2.988281 -2.84375 2.765625 -2.828125 2.546875 -2.796875 C 2.335938 -2.765625 2.148438 -2.703125 1.984375 -2.609375 C 1.828125 -2.523438 1.703125 -2.398438 1.609375 -2.234375 C 1.515625 -2.078125 1.46875 -1.867188 1.46875 -1.609375 C 1.46875 -1.296875 1.550781 -1.050781 1.71875 -0.875 C 1.882812 -0.707031 2.125 -0.625 2.4375 -0.625 Z M 2.4375 -0.625 \"/>\n",
       "</symbol>\n",
       "<symbol overflow=\"visible\" id=\"glyph2-0\">\n",
       "<path style=\"stroke:none;\" d=\"M 0 -0.359375 L -7.328125 -0.359375 L -7.328125 -3.28125 L 0 -3.28125 Z M -0.359375 -0.734375 L -0.359375 -2.921875 L -6.96875 -2.921875 L -6.96875 -0.734375 Z M -0.359375 -0.734375 \"/>\n",
       "</symbol>\n",
       "<symbol overflow=\"visible\" id=\"glyph2-1\">\n",
       "<path style=\"stroke:none;\" d=\"M -2.9375 -5.65625 C -2.488281 -5.65625 -2.078125 -5.617188 -1.703125 -5.546875 C -1.335938 -5.472656 -1.019531 -5.351562 -0.75 -5.1875 C -0.476562 -5.019531 -0.265625 -4.800781 -0.109375 -4.53125 C 0.0351562 -4.257812 0.109375 -3.921875 0.109375 -3.515625 C 0.109375 -3.097656 0.03125 -2.734375 -0.125 -2.421875 C -0.28125 -2.109375 -0.539062 -1.875 -0.90625 -1.71875 L -0.90625 -1.6875 C -0.894531 -1.6875 -0.859375 -1.6875 -0.796875 -1.6875 C -0.742188 -1.695312 -0.675781 -1.703125 -0.59375 -1.703125 C -0.507812 -1.703125 -0.410156 -1.703125 -0.296875 -1.703125 C -0.191406 -1.703125 -0.0859375 -1.703125 0.015625 -1.703125 L 2.28125 -1.703125 L 2.28125 -0.734375 L -4.625 -0.734375 C -4.757812 -0.734375 -4.890625 -0.734375 -5.015625 -0.734375 C -5.148438 -0.734375 -5.269531 -0.726562 -5.375 -0.71875 C -5.476562 -0.71875 -5.566406 -0.71875 -5.640625 -0.71875 C -5.722656 -0.71875 -5.78125 -0.710938 -5.8125 -0.703125 L -5.8125 -1.640625 C -5.800781 -1.648438 -5.765625 -1.65625 -5.703125 -1.65625 C -5.640625 -1.664062 -5.5625 -1.671875 -5.46875 -1.671875 C -5.375 -1.679688 -5.273438 -1.6875 -5.171875 -1.6875 C -5.066406 -1.695312 -4.96875 -1.703125 -4.875 -1.703125 L -4.875 -1.71875 C -5.0625 -1.8125 -5.21875 -1.914062 -5.34375 -2.03125 C -5.476562 -2.144531 -5.585938 -2.273438 -5.671875 -2.421875 C -5.753906 -2.566406 -5.8125 -2.726562 -5.84375 -2.90625 C -5.882812 -3.09375 -5.90625 -3.296875 -5.90625 -3.515625 C -5.90625 -3.921875 -5.832031 -4.257812 -5.6875 -4.53125 C -5.550781 -4.800781 -5.351562 -5.019531 -5.09375 -5.1875 C -4.832031 -5.351562 -4.519531 -5.472656 -4.15625 -5.546875 C -3.789062 -5.617188 -3.382812 -5.65625 -2.9375 -5.65625 Z M -2.90625 -4.640625 C -3.269531 -4.640625 -3.585938 -4.617188 -3.859375 -4.578125 C -4.140625 -4.535156 -4.375 -4.457031 -4.5625 -4.34375 C -4.757812 -4.238281 -4.910156 -4.097656 -5.015625 -3.921875 C -5.117188 -3.753906 -5.171875 -3.535156 -5.171875 -3.265625 C -5.171875 -3.054688 -5.140625 -2.851562 -5.078125 -2.65625 C -5.015625 -2.46875 -4.894531 -2.300781 -4.71875 -2.15625 C -4.550781 -2.019531 -4.316406 -1.910156 -4.015625 -1.828125 C -3.710938 -1.742188 -3.320312 -1.703125 -2.84375 -1.703125 C -2.425781 -1.703125 -2.070312 -1.734375 -1.78125 -1.796875 C -1.5 -1.867188 -1.269531 -1.96875 -1.09375 -2.09375 C -0.925781 -2.226562 -0.800781 -2.394531 -0.71875 -2.59375 C -0.644531 -2.789062 -0.609375 -3.015625 -0.609375 -3.265625 C -0.609375 -3.523438 -0.660156 -3.742188 -0.765625 -3.921875 C -0.867188 -4.097656 -1.019531 -4.238281 -1.21875 -4.34375 C -1.414062 -4.457031 -1.65625 -4.535156 -1.9375 -4.578125 C -2.21875 -4.617188 -2.539062 -4.640625 -2.90625 -4.640625 Z M -2.90625 -4.640625 \"/>\n",
       "</symbol>\n",
       "<symbol overflow=\"visible\" id=\"glyph2-2\">\n",
       "<path style=\"stroke:none;\" d=\"M 0 -0.765625 L -4.453125 -0.765625 C -4.578125 -0.765625 -4.703125 -0.757812 -4.828125 -0.75 C -4.953125 -0.75 -5.070312 -0.75 -5.1875 -0.75 C -5.3125 -0.75 -5.425781 -0.742188 -5.53125 -0.734375 C -5.632812 -0.734375 -5.726562 -0.734375 -5.8125 -0.734375 L -5.8125 -1.640625 C -5.726562 -1.648438 -5.632812 -1.65625 -5.53125 -1.65625 C -5.425781 -1.664062 -5.316406 -1.671875 -5.203125 -1.671875 C -5.085938 -1.679688 -4.976562 -1.6875 -4.875 -1.6875 C -4.78125 -1.6875 -4.695312 -1.6875 -4.625 -1.6875 L -4.625 -1.703125 C -4.84375 -1.773438 -5.035156 -1.847656 -5.203125 -1.921875 C -5.367188 -2.003906 -5.503906 -2.097656 -5.609375 -2.203125 C -5.710938 -2.304688 -5.789062 -2.425781 -5.84375 -2.5625 C -5.894531 -2.707031 -5.921875 -2.882812 -5.921875 -3.09375 C -5.921875 -3.164062 -5.910156 -3.238281 -5.890625 -3.3125 C -5.878906 -3.382812 -5.867188 -3.441406 -5.859375 -3.484375 L -4.984375 -3.484375 C -4.992188 -3.421875 -5.003906 -3.34375 -5.015625 -3.25 C -5.023438 -3.164062 -5.03125 -3.070312 -5.03125 -2.96875 C -5.03125 -2.738281 -4.976562 -2.546875 -4.875 -2.390625 C -4.78125 -2.242188 -4.644531 -2.117188 -4.46875 -2.015625 C -4.289062 -1.921875 -4.078125 -1.847656 -3.828125 -1.796875 C -3.585938 -1.753906 -3.320312 -1.734375 -3.03125 -1.734375 L 0 -1.734375 Z M 0 -0.765625 \"/>\n",
       "</symbol>\n",
       "<symbol overflow=\"visible\" id=\"glyph2-3\">\n",
       "<path style=\"stroke:none;\" d=\"M -2.90625 -5.65625 C -1.894531 -5.65625 -1.140625 -5.429688 -0.640625 -4.984375 C -0.140625 -4.535156 0.109375 -3.882812 0.109375 -3.03125 C 0.109375 -2.625 0.046875 -2.257812 -0.078125 -1.9375 C -0.203125 -1.625 -0.390625 -1.359375 -0.640625 -1.140625 C -0.890625 -0.921875 -1.203125 -0.753906 -1.578125 -0.640625 C -1.953125 -0.523438 -2.394531 -0.46875 -2.90625 -0.46875 C -4.914062 -0.46875 -5.921875 -1.332031 -5.921875 -3.0625 C -5.921875 -3.519531 -5.859375 -3.910156 -5.734375 -4.234375 C -5.609375 -4.566406 -5.421875 -4.835938 -5.171875 -5.046875 C -4.921875 -5.253906 -4.601562 -5.40625 -4.21875 -5.5 C -3.84375 -5.601562 -3.40625 -5.65625 -2.90625 -5.65625 Z M -2.90625 -4.640625 C -3.363281 -4.640625 -3.738281 -4.601562 -4.03125 -4.53125 C -4.320312 -4.46875 -4.554688 -4.367188 -4.734375 -4.234375 C -4.910156 -4.097656 -5.03125 -3.929688 -5.09375 -3.734375 C -5.164062 -3.546875 -5.203125 -3.328125 -5.203125 -3.078125 C -5.203125 -2.835938 -5.164062 -2.613281 -5.09375 -2.40625 C -5.019531 -2.207031 -4.894531 -2.039062 -4.71875 -1.90625 C -4.539062 -1.769531 -4.304688 -1.664062 -4.015625 -1.59375 C -3.722656 -1.519531 -3.351562 -1.484375 -2.90625 -1.484375 C -2.457031 -1.484375 -2.082031 -1.519531 -1.78125 -1.59375 C -1.488281 -1.675781 -1.253906 -1.785156 -1.078125 -1.921875 C -0.910156 -2.054688 -0.789062 -2.21875 -0.71875 -2.40625 C -0.644531 -2.59375 -0.609375 -2.800781 -0.609375 -3.03125 C -0.609375 -3.269531 -0.640625 -3.488281 -0.703125 -3.6875 C -0.773438 -3.894531 -0.898438 -4.066406 -1.078125 -4.203125 C -1.253906 -4.347656 -1.488281 -4.457031 -1.78125 -4.53125 C -2.082031 -4.601562 -2.457031 -4.640625 -2.90625 -4.640625 Z M -2.90625 -4.640625 \"/>\n",
       "</symbol>\n",
       "<symbol overflow=\"visible\" id=\"glyph2-4\">\n",
       "<path style=\"stroke:none;\" d=\"M -0.046875 -2.96875 C -0.00390625 -2.820312 0.0234375 -2.671875 0.046875 -2.515625 C 0.078125 -2.367188 0.09375 -2.195312 0.09375 -2 C 0.09375 -1.226562 -0.347656 -0.84375 -1.234375 -0.84375 L -5.109375 -0.84375 L -5.109375 -0.171875 L -5.8125 -0.171875 L -5.8125 -0.875 L -7.109375 -1.15625 L -7.109375 -1.8125 L -5.8125 -1.8125 L -5.8125 -2.875 L -5.109375 -2.875 L -5.109375 -1.8125 L -1.4375 -1.8125 C -1.15625 -1.8125 -0.957031 -1.851562 -0.84375 -1.9375 C -0.738281 -2.03125 -0.6875 -2.191406 -0.6875 -2.421875 C -0.6875 -2.515625 -0.691406 -2.601562 -0.703125 -2.6875 C -0.710938 -2.769531 -0.726562 -2.863281 -0.75 -2.96875 Z M -0.046875 -2.96875 \"/>\n",
       "</symbol>\n",
       "<symbol overflow=\"visible\" id=\"glyph2-5\">\n",
       "<path style=\"stroke:none;\" d=\"M -2.703125 -1.484375 C -2.398438 -1.484375 -2.117188 -1.515625 -1.859375 -1.578125 C -1.609375 -1.640625 -1.390625 -1.734375 -1.203125 -1.859375 C -1.015625 -1.992188 -0.867188 -2.160156 -0.765625 -2.359375 C -0.671875 -2.566406 -0.625 -2.816406 -0.625 -3.109375 C -0.625 -3.523438 -0.707031 -3.859375 -0.875 -4.109375 C -1.039062 -4.359375 -1.253906 -4.53125 -1.515625 -4.625 L -1.265625 -5.46875 C -1.109375 -5.40625 -0.945312 -5.316406 -0.78125 -5.203125 C -0.613281 -5.097656 -0.460938 -4.953125 -0.328125 -4.765625 C -0.203125 -4.585938 -0.0976562 -4.363281 -0.015625 -4.09375 C 0.0664062 -3.820312 0.109375 -3.492188 0.109375 -3.109375 C 0.109375 -2.242188 -0.144531 -1.585938 -0.65625 -1.140625 C -1.164062 -0.691406 -1.925781 -0.46875 -2.9375 -0.46875 C -3.488281 -0.46875 -3.953125 -0.535156 -4.328125 -0.671875 C -4.703125 -0.804688 -5.007812 -0.988281 -5.25 -1.21875 C -5.488281 -1.457031 -5.660156 -1.734375 -5.765625 -2.046875 C -5.867188 -2.367188 -5.921875 -2.707031 -5.921875 -3.0625 C -5.921875 -3.550781 -5.84375 -3.957031 -5.6875 -4.28125 C -5.53125 -4.613281 -5.3125 -4.878906 -5.03125 -5.078125 C -4.75 -5.273438 -4.421875 -5.414062 -4.046875 -5.5 C -3.671875 -5.582031 -3.265625 -5.625 -2.828125 -5.625 L -2.703125 -5.625 Z M -3.4375 -4.625 C -4.050781 -4.570312 -4.5 -4.414062 -4.78125 -4.15625 C -5.0625 -3.90625 -5.203125 -3.535156 -5.203125 -3.046875 C -5.203125 -2.890625 -5.175781 -2.722656 -5.125 -2.546875 C -5.070312 -2.367188 -4.976562 -2.203125 -4.84375 -2.046875 C -4.71875 -1.898438 -4.539062 -1.773438 -4.3125 -1.671875 C -4.082031 -1.566406 -3.789062 -1.507812 -3.4375 -1.5 Z M -3.4375 -4.625 \"/>\n",
       "</symbol>\n",
       "<symbol overflow=\"visible\" id=\"glyph2-6\">\n",
       "<path style=\"stroke:none;\" d=\"M -7.046875 -0.734375 L -7.96875 -0.734375 L -7.96875 -1.703125 L -7.046875 -1.703125 Z M 0 -0.734375 L -5.8125 -0.734375 L -5.8125 -1.703125 L 0 -1.703125 Z M 0 -0.734375 \"/>\n",
       "</symbol>\n",
       "<symbol overflow=\"visible\" id=\"glyph2-7\">\n",
       "<path style=\"stroke:none;\" d=\"M 0 -4.4375 L -3.6875 -4.4375 C -3.96875 -4.4375 -4.203125 -4.414062 -4.390625 -4.375 C -4.578125 -4.332031 -4.726562 -4.265625 -4.84375 -4.171875 C -4.96875 -4.078125 -5.050781 -3.953125 -5.09375 -3.796875 C -5.144531 -3.648438 -5.171875 -3.460938 -5.171875 -3.234375 C -5.171875 -3.003906 -5.128906 -2.796875 -5.046875 -2.609375 C -4.972656 -2.429688 -4.859375 -2.273438 -4.703125 -2.140625 C -4.546875 -2.003906 -4.351562 -1.898438 -4.125 -1.828125 C -3.90625 -1.765625 -3.65625 -1.734375 -3.375 -1.734375 L 0 -1.734375 L 0 -0.765625 L -4.578125 -0.765625 C -4.691406 -0.765625 -4.816406 -0.757812 -4.953125 -0.75 C -5.085938 -0.75 -5.210938 -0.75 -5.328125 -0.75 C -5.453125 -0.75 -5.554688 -0.742188 -5.640625 -0.734375 C -5.734375 -0.734375 -5.789062 -0.734375 -5.8125 -0.734375 L -5.8125 -1.640625 C -5.789062 -1.648438 -5.738281 -1.65625 -5.65625 -1.65625 C -5.582031 -1.65625 -5.492188 -1.65625 -5.390625 -1.65625 C -5.296875 -1.664062 -5.191406 -1.671875 -5.078125 -1.671875 C -4.972656 -1.679688 -4.882812 -1.6875 -4.8125 -1.6875 L -4.8125 -1.703125 C -4.988281 -1.796875 -5.144531 -1.894531 -5.28125 -2 C -5.414062 -2.113281 -5.53125 -2.242188 -5.625 -2.390625 C -5.71875 -2.535156 -5.789062 -2.703125 -5.84375 -2.890625 C -5.894531 -3.085938 -5.921875 -3.3125 -5.921875 -3.5625 C -5.921875 -3.882812 -5.878906 -4.160156 -5.796875 -4.390625 C -5.722656 -4.628906 -5.601562 -4.820312 -5.4375 -4.96875 C -5.269531 -5.113281 -5.054688 -5.222656 -4.796875 -5.296875 C -4.535156 -5.367188 -4.226562 -5.40625 -3.875 -5.40625 L 0 -5.40625 Z M 0 -4.4375 \"/>\n",
       "</symbol>\n",
       "</g>\n",
       "<clipPath id=\"clip1\">\n",
       "  <path d=\"M 48.152344 5.480469 L 426.523438 5.480469 L 426.523438 183.851562 L 48.152344 183.851562 Z M 48.152344 5.480469 \"/>\n",
       "</clipPath>\n",
       "<clipPath id=\"clip2\">\n",
       "  <path d=\"M 48.152344 156 L 426.523438 156 L 426.523438 158 L 48.152344 158 Z M 48.152344 156 \"/>\n",
       "</clipPath>\n",
       "<clipPath id=\"clip3\">\n",
       "  <path d=\"M 48.152344 117 L 426.523438 117 L 426.523438 118 L 48.152344 118 Z M 48.152344 117 \"/>\n",
       "</clipPath>\n",
       "<clipPath id=\"clip4\">\n",
       "  <path d=\"M 48.152344 77 L 426.523438 77 L 426.523438 78 L 48.152344 78 Z M 48.152344 77 \"/>\n",
       "</clipPath>\n",
       "<clipPath id=\"clip5\">\n",
       "  <path d=\"M 48.152344 37 L 426.523438 37 L 426.523438 39 L 48.152344 39 Z M 48.152344 37 \"/>\n",
       "</clipPath>\n",
       "<clipPath id=\"clip6\">\n",
       "  <path d=\"M 97 5.480469 L 98 5.480469 L 98 183.851562 L 97 183.851562 Z M 97 5.480469 \"/>\n",
       "</clipPath>\n",
       "<clipPath id=\"clip7\">\n",
       "  <path d=\"M 201 5.480469 L 203 5.480469 L 203 183.851562 L 201 183.851562 Z M 201 5.480469 \"/>\n",
       "</clipPath>\n",
       "<clipPath id=\"clip8\">\n",
       "  <path d=\"M 306 5.480469 L 307 5.480469 L 307 183.851562 L 306 183.851562 Z M 306 5.480469 \"/>\n",
       "</clipPath>\n",
       "<clipPath id=\"clip9\">\n",
       "  <path d=\"M 410 5.480469 L 412 5.480469 L 412 183.851562 L 410 183.851562 Z M 410 5.480469 \"/>\n",
       "</clipPath>\n",
       "<clipPath id=\"clip10\">\n",
       "  <path d=\"M 48.152344 176 L 426.523438 176 L 426.523438 178 L 48.152344 178 Z M 48.152344 176 \"/>\n",
       "</clipPath>\n",
       "<clipPath id=\"clip11\">\n",
       "  <path d=\"M 48.152344 136 L 426.523438 136 L 426.523438 138 L 48.152344 138 Z M 48.152344 136 \"/>\n",
       "</clipPath>\n",
       "<clipPath id=\"clip12\">\n",
       "  <path d=\"M 48.152344 96 L 426.523438 96 L 426.523438 99 L 48.152344 99 Z M 48.152344 96 \"/>\n",
       "</clipPath>\n",
       "<clipPath id=\"clip13\">\n",
       "  <path d=\"M 48.152344 57 L 426.523438 57 L 426.523438 59 L 48.152344 59 Z M 48.152344 57 \"/>\n",
       "</clipPath>\n",
       "<clipPath id=\"clip14\">\n",
       "  <path d=\"M 48.152344 17 L 426.523438 17 L 426.523438 19 L 48.152344 19 Z M 48.152344 17 \"/>\n",
       "</clipPath>\n",
       "<clipPath id=\"clip15\">\n",
       "  <path d=\"M 149 5.480469 L 151 5.480469 L 151 183.851562 L 149 183.851562 Z M 149 5.480469 \"/>\n",
       "</clipPath>\n",
       "<clipPath id=\"clip16\">\n",
       "  <path d=\"M 253 5.480469 L 255 5.480469 L 255 183.851562 L 253 183.851562 Z M 253 5.480469 \"/>\n",
       "</clipPath>\n",
       "<clipPath id=\"clip17\">\n",
       "  <path d=\"M 358 5.480469 L 360 5.480469 L 360 183.851562 L 358 183.851562 Z M 358 5.480469 \"/>\n",
       "</clipPath>\n",
       "</defs>\n",
       "<g id=\"surface87\">\n",
       "<rect x=\"0\" y=\"0\" width=\"432\" height=\"216\" style=\"fill:rgb(100%,100%,100%);fill-opacity:1;stroke:none;\"/>\n",
       "<rect x=\"0\" y=\"0\" width=\"432\" height=\"216\" style=\"fill:rgb(100%,100%,100%);fill-opacity:1;stroke:none;\"/>\n",
       "<path style=\"fill:none;stroke-width:1.066978;stroke-linecap:round;stroke-linejoin:round;stroke:rgb(100%,100%,100%);stroke-opacity:1;stroke-miterlimit:10;\" d=\"M 0 216 L 432 216 L 432 0 L 0 0 Z M 0 216 \"/>\n",
       "<g clip-path=\"url(#clip1)\" clip-rule=\"nonzero\">\n",
       "<path style=\" stroke:none;fill-rule:nonzero;fill:rgb(92.156863%,92.156863%,92.156863%);fill-opacity:1;\" d=\"M 48.152344 183.847656 L 426.523438 183.847656 L 426.523438 5.476562 L 48.152344 5.476562 Z M 48.152344 183.847656 \"/>\n",
       "</g>\n",
       "<g clip-path=\"url(#clip2)\" clip-rule=\"nonzero\">\n",
       "<path style=\"fill:none;stroke-width:0.533489;stroke-linecap:butt;stroke-linejoin:round;stroke:rgb(100%,100%,100%);stroke-opacity:1;stroke-miterlimit:10;\" d=\"M 48.152344 157.066406 L 426.519531 157.066406 \"/>\n",
       "</g>\n",
       "<g clip-path=\"url(#clip3)\" clip-rule=\"nonzero\">\n",
       "<path style=\"fill:none;stroke-width:0.533489;stroke-linecap:butt;stroke-linejoin:round;stroke:rgb(100%,100%,100%);stroke-opacity:1;stroke-miterlimit:10;\" d=\"M 48.152344 117.355469 L 426.519531 117.355469 \"/>\n",
       "</g>\n",
       "<g clip-path=\"url(#clip4)\" clip-rule=\"nonzero\">\n",
       "<path style=\"fill:none;stroke-width:0.533489;stroke-linecap:butt;stroke-linejoin:round;stroke:rgb(100%,100%,100%);stroke-opacity:1;stroke-miterlimit:10;\" d=\"M 48.152344 77.640625 L 426.519531 77.640625 \"/>\n",
       "</g>\n",
       "<g clip-path=\"url(#clip5)\" clip-rule=\"nonzero\">\n",
       "<path style=\"fill:none;stroke-width:0.533489;stroke-linecap:butt;stroke-linejoin:round;stroke:rgb(100%,100%,100%);stroke-opacity:1;stroke-miterlimit:10;\" d=\"M 48.152344 37.929688 L 426.519531 37.929688 \"/>\n",
       "</g>\n",
       "<g clip-path=\"url(#clip6)\" clip-rule=\"nonzero\">\n",
       "<path style=\"fill:none;stroke-width:0.533489;stroke-linecap:butt;stroke-linejoin:round;stroke:rgb(100%,100%,100%);stroke-opacity:1;stroke-miterlimit:10;\" d=\"M 97.410156 183.847656 L 97.410156 5.480469 \"/>\n",
       "</g>\n",
       "<g clip-path=\"url(#clip7)\" clip-rule=\"nonzero\">\n",
       "<path style=\"fill:none;stroke-width:0.533489;stroke-linecap:butt;stroke-linejoin:round;stroke:rgb(100%,100%,100%);stroke-opacity:1;stroke-miterlimit:10;\" d=\"M 201.960938 183.847656 L 201.960938 5.480469 \"/>\n",
       "</g>\n",
       "<g clip-path=\"url(#clip8)\" clip-rule=\"nonzero\">\n",
       "<path style=\"fill:none;stroke-width:0.533489;stroke-linecap:butt;stroke-linejoin:round;stroke:rgb(100%,100%,100%);stroke-opacity:1;stroke-miterlimit:10;\" d=\"M 306.511719 183.847656 L 306.511719 5.480469 \"/>\n",
       "</g>\n",
       "<g clip-path=\"url(#clip9)\" clip-rule=\"nonzero\">\n",
       "<path style=\"fill:none;stroke-width:0.533489;stroke-linecap:butt;stroke-linejoin:round;stroke:rgb(100%,100%,100%);stroke-opacity:1;stroke-miterlimit:10;\" d=\"M 411.0625 183.847656 L 411.0625 5.480469 \"/>\n",
       "</g>\n",
       "<g clip-path=\"url(#clip10)\" clip-rule=\"nonzero\">\n",
       "<path style=\"fill:none;stroke-width:1.066978;stroke-linecap:butt;stroke-linejoin:round;stroke:rgb(100%,100%,100%);stroke-opacity:1;stroke-miterlimit:10;\" d=\"M 48.152344 176.921875 L 426.519531 176.921875 \"/>\n",
       "</g>\n",
       "<g clip-path=\"url(#clip11)\" clip-rule=\"nonzero\">\n",
       "<path style=\"fill:none;stroke-width:1.066978;stroke-linecap:butt;stroke-linejoin:round;stroke:rgb(100%,100%,100%);stroke-opacity:1;stroke-miterlimit:10;\" d=\"M 48.152344 137.210938 L 426.519531 137.210938 \"/>\n",
       "</g>\n",
       "<g clip-path=\"url(#clip12)\" clip-rule=\"nonzero\">\n",
       "<path style=\"fill:none;stroke-width:1.066978;stroke-linecap:butt;stroke-linejoin:round;stroke:rgb(100%,100%,100%);stroke-opacity:1;stroke-miterlimit:10;\" d=\"M 48.152344 97.496094 L 426.519531 97.496094 \"/>\n",
       "</g>\n",
       "<g clip-path=\"url(#clip13)\" clip-rule=\"nonzero\">\n",
       "<path style=\"fill:none;stroke-width:1.066978;stroke-linecap:butt;stroke-linejoin:round;stroke:rgb(100%,100%,100%);stroke-opacity:1;stroke-miterlimit:10;\" d=\"M 48.152344 57.785156 L 426.519531 57.785156 \"/>\n",
       "</g>\n",
       "<g clip-path=\"url(#clip14)\" clip-rule=\"nonzero\">\n",
       "<path style=\"fill:none;stroke-width:1.066978;stroke-linecap:butt;stroke-linejoin:round;stroke:rgb(100%,100%,100%);stroke-opacity:1;stroke-miterlimit:10;\" d=\"M 48.152344 18.070312 L 426.519531 18.070312 \"/>\n",
       "</g>\n",
       "<g clip-path=\"url(#clip15)\" clip-rule=\"nonzero\">\n",
       "<path style=\"fill:none;stroke-width:1.066978;stroke-linecap:butt;stroke-linejoin:round;stroke:rgb(100%,100%,100%);stroke-opacity:1;stroke-miterlimit:10;\" d=\"M 149.6875 183.847656 L 149.6875 5.480469 \"/>\n",
       "</g>\n",
       "<g clip-path=\"url(#clip16)\" clip-rule=\"nonzero\">\n",
       "<path style=\"fill:none;stroke-width:1.066978;stroke-linecap:butt;stroke-linejoin:round;stroke:rgb(100%,100%,100%);stroke-opacity:1;stroke-miterlimit:10;\" d=\"M 254.238281 183.847656 L 254.238281 5.480469 \"/>\n",
       "</g>\n",
       "<g clip-path=\"url(#clip17)\" clip-rule=\"nonzero\">\n",
       "<path style=\"fill:none;stroke-width:1.066978;stroke-linecap:butt;stroke-linejoin:round;stroke:rgb(100%,100%,100%);stroke-opacity:1;stroke-miterlimit:10;\" d=\"M 358.789062 183.847656 L 358.789062 5.480469 \"/>\n",
       "</g>\n",
       "<path style=\"fill-rule:nonzero;fill:rgb(0%,0%,0%);fill-opacity:1;stroke-width:0.708661;stroke-linecap:round;stroke-linejoin:round;stroke:rgb(0%,0%,0%);stroke-opacity:1;stroke-miterlimit:10;\" d=\"M 387.925781 173.648438 C 387.925781 176.257812 384.015625 176.257812 384.015625 173.648438 C 384.015625 171.042969 387.925781 171.042969 387.925781 173.648438 \"/>\n",
       "<path style=\"fill-rule:nonzero;fill:rgb(0%,0%,0%);fill-opacity:1;stroke-width:0.708661;stroke-linecap:round;stroke-linejoin:round;stroke:rgb(0%,0%,0%);stroke-opacity:1;stroke-miterlimit:10;\" d=\"M 177.082031 150.125 C 177.082031 152.730469 173.171875 152.730469 173.171875 150.125 C 173.171875 147.519531 177.082031 147.519531 177.082031 150.125 \"/>\n",
       "<path style=\"fill-rule:nonzero;fill:rgb(0%,0%,0%);fill-opacity:1;stroke-width:0.708661;stroke-linecap:round;stroke-linejoin:round;stroke:rgb(0%,0%,0%);stroke-opacity:1;stroke-miterlimit:10;\" d=\"M 242.949219 96.121094 C 242.949219 98.726562 239.039062 98.726562 239.039062 96.121094 C 239.039062 93.515625 242.949219 93.515625 242.949219 96.121094 \"/>\n",
       "<path style=\"fill-rule:nonzero;fill:rgb(0%,0%,0%);fill-opacity:1;stroke-width:0.708661;stroke-linecap:round;stroke-linejoin:round;stroke:rgb(0%,0%,0%);stroke-opacity:1;stroke-miterlimit:10;\" d=\"M 67.304688 158.496094 C 67.304688 161.105469 63.394531 161.105469 63.394531 158.496094 C 63.394531 155.890625 67.304688 155.890625 67.304688 158.496094 \"/>\n",
       "<path style=\"fill-rule:nonzero;fill:rgb(0%,0%,0%);fill-opacity:1;stroke-width:0.708661;stroke-linecap:round;stroke-linejoin:round;stroke:rgb(0%,0%,0%);stroke-opacity:1;stroke-miterlimit:10;\" d=\"M 349.242188 132.148438 C 349.242188 134.753906 345.332031 134.753906 345.332031 132.148438 C 345.332031 129.542969 349.242188 129.542969 349.242188 132.148438 \"/>\n",
       "<path style=\"fill-rule:nonzero;fill:rgb(0%,0%,0%);fill-opacity:1;stroke-width:0.708661;stroke-linecap:round;stroke-linejoin:round;stroke:rgb(0%,0%,0%);stroke-opacity:1;stroke-miterlimit:10;\" d=\"M 266.996094 164.492188 C 266.996094 167.097656 263.085938 167.097656 263.085938 164.492188 C 263.085938 161.886719 266.996094 161.886719 266.996094 164.492188 \"/>\n",
       "<path style=\"fill-rule:nonzero;fill:rgb(0%,0%,0%);fill-opacity:1;stroke-width:0.708661;stroke-linecap:round;stroke-linejoin:round;stroke:rgb(0%,0%,0%);stroke-opacity:1;stroke-miterlimit:10;\" d=\"M 411.277344 13.585938 C 411.277344 16.195312 407.367188 16.195312 407.367188 13.585938 C 407.367188 10.980469 411.277344 10.980469 411.277344 13.585938 \"/>\n",
       "<path style=\"fill-rule:nonzero;fill:rgb(0%,0%,0%);fill-opacity:1;stroke-width:0.708661;stroke-linecap:round;stroke-linejoin:round;stroke:rgb(0%,0%,0%);stroke-opacity:1;stroke-miterlimit:10;\" d=\"M 250.964844 175.742188 C 250.964844 178.347656 247.054688 178.347656 247.054688 175.742188 C 247.054688 173.136719 250.964844 173.136719 250.964844 175.742188 \"/>\n",
       "<path style=\"fill-rule:nonzero;fill:rgb(0%,0%,0%);fill-opacity:1;stroke-width:0.708661;stroke-linecap:round;stroke-linejoin:round;stroke:rgb(0%,0%,0%);stroke-opacity:1;stroke-miterlimit:10;\" d=\"M 350.984375 128.046875 C 350.984375 130.652344 347.074219 130.652344 347.074219 128.046875 C 347.074219 125.4375 350.984375 125.4375 350.984375 128.046875 \"/>\n",
       "<path style=\"fill-rule:nonzero;fill:rgb(0%,0%,0%);fill-opacity:1;stroke-width:0.708661;stroke-linecap:round;stroke-linejoin:round;stroke:rgb(0%,0%,0%);stroke-opacity:1;stroke-miterlimit:10;\" d=\"M 172.902344 56.78125 C 172.902344 59.386719 168.992188 59.386719 168.992188 56.78125 C 168.992188 54.175781 172.902344 54.175781 172.902344 56.78125 \"/>\n",
       "<path style=\"fill-rule:nonzero;fill:rgb(0%,0%,0%);fill-opacity:1;stroke-width:0.708661;stroke-linecap:round;stroke-linejoin:round;stroke:rgb(0%,0%,0%);stroke-opacity:1;stroke-miterlimit:10;\" d=\"M 172.902344 140.097656 C 172.902344 142.703125 168.992188 142.703125 168.992188 140.097656 C 168.992188 137.492188 172.902344 137.492188 172.902344 140.097656 \"/>\n",
       "<path style=\"fill-rule:nonzero;fill:rgb(0%,0%,0%);fill-opacity:1;stroke-width:0.708661;stroke-linecap:round;stroke-linejoin:round;stroke:rgb(0%,0%,0%);stroke-opacity:1;stroke-miterlimit:10;\" d=\"M 241.207031 139.742188 C 241.207031 142.351562 237.296875 142.351562 237.296875 139.742188 C 237.296875 137.136719 241.207031 137.136719 241.207031 139.742188 \"/>\n",
       "<path style=\"fill:none;stroke-width:2.560748;stroke-linecap:butt;stroke-linejoin:round;stroke:rgb(100%,0%,0%);stroke-opacity:1;stroke-miterlimit:10;\" d=\"M 65.347656 149.730469 L 69.703125 149.222656 L 74.058594 148.710938 L 78.410156 148.199219 L 82.765625 147.691406 L 87.121094 147.179688 L 91.472656 146.667969 L 95.828125 146.160156 L 100.183594 145.648438 L 104.535156 145.136719 L 108.890625 144.628906 L 113.246094 144.117188 L 117.597656 143.605469 L 121.953125 143.097656 L 126.304688 142.585938 L 130.660156 142.074219 L 135.015625 141.566406 L 139.367188 141.054688 L 143.722656 140.542969 L 148.078125 140.035156 L 152.429688 139.523438 L 156.785156 139.011719 L 161.140625 138.503906 L 165.492188 137.992188 L 169.847656 137.480469 L 174.203125 136.972656 L 178.554688 136.460938 L 182.910156 135.949219 L 187.261719 135.441406 L 191.617188 134.929688 L 195.972656 134.421875 L 200.324219 133.910156 L 204.679688 133.398438 L 209.035156 132.890625 L 213.386719 132.378906 L 217.742188 131.867188 L 222.097656 131.359375 L 226.449219 130.847656 L 230.804688 130.335938 L 235.160156 129.828125 L 239.511719 129.316406 L 243.867188 128.804688 L 248.222656 128.296875 L 252.574219 127.785156 L 256.929688 127.273438 L 261.28125 126.765625 L 269.992188 125.742188 L 274.34375 125.234375 L 283.054688 124.210938 L 287.40625 123.703125 L 296.117188 122.679688 L 300.46875 122.171875 L 309.179688 121.148438 L 313.53125 120.640625 L 322.242188 119.617188 L 326.59375 119.109375 L 330.949219 118.597656 L 335.300781 118.085938 L 339.65625 117.578125 L 344.011719 117.066406 L 348.363281 116.554688 L 352.71875 116.046875 L 357.074219 115.535156 L 361.425781 115.023438 L 365.78125 114.515625 L 370.136719 114.003906 L 374.488281 113.492188 L 378.84375 112.984375 L 383.199219 112.472656 L 387.550781 111.960938 L 391.90625 111.453125 L 396.257812 110.941406 L 400.613281 110.429688 L 404.96875 109.921875 L 409.320312 109.410156 \"/>\n",
       "<g style=\"fill:rgb(30.196078%,30.196078%,30.196078%);fill-opacity:1;\">\n",
       "  <use xlink:href=\"#glyph0-1\" x=\"18.21875\" y=\"180.387695\"/>\n",
       "  <use xlink:href=\"#glyph0-2\" x=\"23.21875\" y=\"180.387695\"/>\n",
       "  <use xlink:href=\"#glyph0-3\" x=\"28.21875\" y=\"180.387695\"/>\n",
       "  <use xlink:href=\"#glyph0-1\" x=\"33.21875\" y=\"180.387695\"/>\n",
       "  <use xlink:href=\"#glyph0-1\" x=\"38.21875\" y=\"180.387695\"/>\n",
       "</g>\n",
       "<g style=\"fill:rgb(30.196078%,30.196078%,30.196078%);fill-opacity:1;\">\n",
       "  <use xlink:href=\"#glyph0-4\" x=\"20.21875\" y=\"140.676758\"/>\n",
       "  <use xlink:href=\"#glyph0-2\" x=\"25.21875\" y=\"140.676758\"/>\n",
       "  <use xlink:href=\"#glyph0-5\" x=\"30.21875\" y=\"140.676758\"/>\n",
       "  <use xlink:href=\"#glyph0-1\" x=\"33.21875\" y=\"140.676758\"/>\n",
       "  <use xlink:href=\"#glyph0-6\" x=\"38.21875\" y=\"140.676758\"/>\n",
       "</g>\n",
       "<g style=\"fill:rgb(30.196078%,30.196078%,30.196078%);fill-opacity:1;\">\n",
       "  <use xlink:href=\"#glyph0-7\" x=\"20.21875\" y=\"100.961914\"/>\n",
       "  <use xlink:href=\"#glyph0-2\" x=\"25.21875\" y=\"100.961914\"/>\n",
       "  <use xlink:href=\"#glyph0-5\" x=\"30.21875\" y=\"100.961914\"/>\n",
       "  <use xlink:href=\"#glyph0-1\" x=\"33.21875\" y=\"100.961914\"/>\n",
       "  <use xlink:href=\"#glyph0-6\" x=\"38.21875\" y=\"100.961914\"/>\n",
       "</g>\n",
       "<g style=\"fill:rgb(30.196078%,30.196078%,30.196078%);fill-opacity:1;\">\n",
       "  <use xlink:href=\"#glyph0-8\" x=\"20.21875\" y=\"61.250977\"/>\n",
       "  <use xlink:href=\"#glyph0-2\" x=\"25.21875\" y=\"61.250977\"/>\n",
       "  <use xlink:href=\"#glyph0-5\" x=\"30.21875\" y=\"61.250977\"/>\n",
       "  <use xlink:href=\"#glyph0-1\" x=\"33.21875\" y=\"61.250977\"/>\n",
       "  <use xlink:href=\"#glyph0-6\" x=\"38.21875\" y=\"61.250977\"/>\n",
       "</g>\n",
       "<g style=\"fill:rgb(30.196078%,30.196078%,30.196078%);fill-opacity:1;\">\n",
       "  <use xlink:href=\"#glyph0-9\" x=\"20.21875\" y=\"21.536133\"/>\n",
       "  <use xlink:href=\"#glyph0-2\" x=\"25.21875\" y=\"21.536133\"/>\n",
       "  <use xlink:href=\"#glyph0-5\" x=\"30.21875\" y=\"21.536133\"/>\n",
       "  <use xlink:href=\"#glyph0-1\" x=\"33.21875\" y=\"21.536133\"/>\n",
       "  <use xlink:href=\"#glyph0-6\" x=\"38.21875\" y=\"21.536133\"/>\n",
       "</g>\n",
       "<path style=\"fill:none;stroke-width:1.066978;stroke-linecap:butt;stroke-linejoin:round;stroke:rgb(20%,20%,20%);stroke-opacity:1;stroke-miterlimit:10;\" d=\"M 45.410156 176.921875 L 48.152344 176.921875 \"/>\n",
       "<path style=\"fill:none;stroke-width:1.066978;stroke-linecap:butt;stroke-linejoin:round;stroke:rgb(20%,20%,20%);stroke-opacity:1;stroke-miterlimit:10;\" d=\"M 45.410156 137.210938 L 48.152344 137.210938 \"/>\n",
       "<path style=\"fill:none;stroke-width:1.066978;stroke-linecap:butt;stroke-linejoin:round;stroke:rgb(20%,20%,20%);stroke-opacity:1;stroke-miterlimit:10;\" d=\"M 45.410156 97.496094 L 48.152344 97.496094 \"/>\n",
       "<path style=\"fill:none;stroke-width:1.066978;stroke-linecap:butt;stroke-linejoin:round;stroke:rgb(20%,20%,20%);stroke-opacity:1;stroke-miterlimit:10;\" d=\"M 45.410156 57.785156 L 48.152344 57.785156 \"/>\n",
       "<path style=\"fill:none;stroke-width:1.066978;stroke-linecap:butt;stroke-linejoin:round;stroke:rgb(20%,20%,20%);stroke-opacity:1;stroke-miterlimit:10;\" d=\"M 45.410156 18.070312 L 48.152344 18.070312 \"/>\n",
       "<path style=\"fill:none;stroke-width:1.066978;stroke-linecap:butt;stroke-linejoin:round;stroke:rgb(20%,20%,20%);stroke-opacity:1;stroke-miterlimit:10;\" d=\"M 149.6875 186.589844 L 149.6875 183.847656 \"/>\n",
       "<path style=\"fill:none;stroke-width:1.066978;stroke-linecap:butt;stroke-linejoin:round;stroke:rgb(20%,20%,20%);stroke-opacity:1;stroke-miterlimit:10;\" d=\"M 254.238281 186.589844 L 254.238281 183.847656 \"/>\n",
       "<path style=\"fill:none;stroke-width:1.066978;stroke-linecap:butt;stroke-linejoin:round;stroke:rgb(20%,20%,20%);stroke-opacity:1;stroke-miterlimit:10;\" d=\"M 358.789062 186.589844 L 358.789062 183.847656 \"/>\n",
       "<g style=\"fill:rgb(30.196078%,30.196078%,30.196078%);fill-opacity:1;\">\n",
       "  <use xlink:href=\"#glyph0-1\" x=\"133.6875\" y=\"195.74707\"/>\n",
       "  <use xlink:href=\"#glyph0-10\" x=\"138.6875\" y=\"195.74707\"/>\n",
       "  <use xlink:href=\"#glyph0-1\" x=\"140.6875\" y=\"195.74707\"/>\n",
       "  <use xlink:href=\"#glyph0-1\" x=\"145.6875\" y=\"195.74707\"/>\n",
       "  <use xlink:href=\"#glyph0-1\" x=\"150.6875\" y=\"195.74707\"/>\n",
       "  <use xlink:href=\"#glyph0-1\" x=\"155.6875\" y=\"195.74707\"/>\n",
       "  <use xlink:href=\"#glyph0-8\" x=\"160.6875\" y=\"195.74707\"/>\n",
       "</g>\n",
       "<g style=\"fill:rgb(30.196078%,30.196078%,30.196078%);fill-opacity:1;\">\n",
       "  <use xlink:href=\"#glyph0-1\" x=\"238.238281\" y=\"195.74707\"/>\n",
       "  <use xlink:href=\"#glyph0-10\" x=\"243.238281\" y=\"195.74707\"/>\n",
       "  <use xlink:href=\"#glyph0-1\" x=\"245.238281\" y=\"195.74707\"/>\n",
       "  <use xlink:href=\"#glyph0-1\" x=\"250.238281\" y=\"195.74707\"/>\n",
       "  <use xlink:href=\"#glyph0-1\" x=\"255.238281\" y=\"195.74707\"/>\n",
       "  <use xlink:href=\"#glyph0-1\" x=\"260.238281\" y=\"195.74707\"/>\n",
       "  <use xlink:href=\"#glyph0-11\" x=\"265.238281\" y=\"195.74707\"/>\n",
       "</g>\n",
       "<g style=\"fill:rgb(30.196078%,30.196078%,30.196078%);fill-opacity:1;\">\n",
       "  <use xlink:href=\"#glyph0-1\" x=\"342.789062\" y=\"195.74707\"/>\n",
       "  <use xlink:href=\"#glyph0-10\" x=\"347.789062\" y=\"195.74707\"/>\n",
       "  <use xlink:href=\"#glyph0-1\" x=\"349.789062\" y=\"195.74707\"/>\n",
       "  <use xlink:href=\"#glyph0-1\" x=\"354.789062\" y=\"195.74707\"/>\n",
       "  <use xlink:href=\"#glyph0-1\" x=\"359.789062\" y=\"195.74707\"/>\n",
       "  <use xlink:href=\"#glyph0-12\" x=\"364.789062\" y=\"195.74707\"/>\n",
       "  <use xlink:href=\"#glyph0-4\" x=\"369.789062\" y=\"195.74707\"/>\n",
       "</g>\n",
       "<g style=\"fill:rgb(0%,0%,0%);fill-opacity:1;\">\n",
       "  <use xlink:href=\"#glyph1-1\" x=\"224.835938\" y=\"208.477539\"/>\n",
       "  <use xlink:href=\"#glyph1-2\" x=\"233.835938\" y=\"208.477539\"/>\n",
       "  <use xlink:href=\"#glyph1-3\" x=\"237.835938\" y=\"208.477539\"/>\n",
       "  <use xlink:href=\"#glyph1-4\" x=\"243.835938\" y=\"208.477539\"/>\n",
       "</g>\n",
       "<g style=\"fill:rgb(0%,0%,0%);fill-opacity:1;\">\n",
       "  <use xlink:href=\"#glyph2-1\" x=\"13.438477\" y=\"111.164062\"/>\n",
       "  <use xlink:href=\"#glyph2-2\" x=\"13.438477\" y=\"105.164062\"/>\n",
       "  <use xlink:href=\"#glyph2-3\" x=\"13.438477\" y=\"101.164062\"/>\n",
       "  <use xlink:href=\"#glyph2-4\" x=\"13.438477\" y=\"95.164062\"/>\n",
       "  <use xlink:href=\"#glyph2-5\" x=\"13.438477\" y=\"92.164062\"/>\n",
       "  <use xlink:href=\"#glyph2-6\" x=\"13.438477\" y=\"86.164062\"/>\n",
       "  <use xlink:href=\"#glyph2-7\" x=\"13.438477\" y=\"84.164062\"/>\n",
       "</g>\n",
       "</g>\n",
       "</svg>\n"
      ],
      "text/plain": [
       "plot without title"
      ]
     },
     "metadata": {
      "application/pdf": {
       "height": 180,
       "width": 360
      },
      "image/jpeg": {
       "height": 180,
       "width": 360
      },
      "image/png": {
       "height": 180,
       "width": 360
      },
      "image/svg+xml": {
       "height": 180,
       "isolated": true,
       "width": 360
      }
     },
     "output_type": "display_data"
    }
   ],
   "source": [
    "options(repr.plot.width = 6, repr.plot.height = 3) # Adjust these numbers so the plot looks good in your desktop.\n",
    "\n",
    "plot_g1 <- dat_g1 %>% ggplot(aes(mrna,prot)) +\n",
    "                ylab(\"protein\")+\n",
    "                geom_point() + geom_smooth(aes(mrna,prot), method = lm, se = FALSE, size = 1.2, color=\"red\")\n",
    "\n",
    "plot_g1"
   ]
  },
  {
   "cell_type": "markdown",
   "metadata": {
    "nbgrader": {
     "grade": false,
     "grade_id": "cell-4166dc30d7557b4f",
     "locked": true,
     "schema_version": 3,
     "solution": false,
     "task": false
    }
   },
   "source": [
    "We can get results from the LS estimates and corresponding tests for this particular gene:\n",
    "\n",
    "> remember that this is *only 1* gene in the dataset but there are 1391 more genes!!"
   ]
  },
  {
   "cell_type": "code",
   "execution_count": 6,
   "metadata": {
    "nbgrader": {
     "grade": false,
     "grade_id": "cell-c05f3277a48ee808",
     "locked": true,
     "schema_version": 3,
     "solution": false,
     "task": false
    },
    "scrolled": true
   },
   "outputs": [
    {
     "data": {
      "text/html": [
       "<table class=\"dataframe\">\n",
       "<caption>A tibble: 2 × 5</caption>\n",
       "<thead>\n",
       "\t<tr><th scope=col>term</th><th scope=col>estimate</th><th scope=col>std.error</th><th scope=col>statistic</th><th scope=col>p.value</th></tr>\n",
       "\t<tr><th scope=col>&lt;chr&gt;</th><th scope=col>&lt;dbl&gt;</th><th scope=col>&lt;dbl&gt;</th><th scope=col>&lt;dbl&gt;</th><th scope=col>&lt;dbl&gt;</th></tr>\n",
       "</thead>\n",
       "<tbody>\n",
       "\t<tr><td>(Intercept)</td><td>6.327928e-06</td><td>2.446664e-05</td><td>0.2586349</td><td>0.8011625</td></tr>\n",
       "\t<tr><td>mrna       </td><td>2.057447e-01</td><td>2.583776e-01</td><td>0.7962945</td><td>0.4443536</td></tr>\n",
       "</tbody>\n",
       "</table>\n"
      ],
      "text/latex": [
       "A tibble: 2 × 5\n",
       "\\begin{tabular}{lllll}\n",
       " term & estimate & std.error & statistic & p.value\\\\\n",
       " <chr> & <dbl> & <dbl> & <dbl> & <dbl>\\\\\n",
       "\\hline\n",
       "\t (Intercept) & 6.327928e-06 & 2.446664e-05 & 0.2586349 & 0.8011625\\\\\n",
       "\t mrna        & 2.057447e-01 & 2.583776e-01 & 0.7962945 & 0.4443536\\\\\n",
       "\\end{tabular}\n"
      ],
      "text/markdown": [
       "\n",
       "A tibble: 2 × 5\n",
       "\n",
       "| term &lt;chr&gt; | estimate &lt;dbl&gt; | std.error &lt;dbl&gt; | statistic &lt;dbl&gt; | p.value &lt;dbl&gt; |\n",
       "|---|---|---|---|---|\n",
       "| (Intercept) | 6.327928e-06 | 2.446664e-05 | 0.2586349 | 0.8011625 |\n",
       "| mrna        | 2.057447e-01 | 2.583776e-01 | 0.7962945 | 0.4443536 |\n",
       "\n"
      ],
      "text/plain": [
       "  term        estimate     std.error    statistic p.value  \n",
       "1 (Intercept) 6.327928e-06 2.446664e-05 0.2586349 0.8011625\n",
       "2 mrna        2.057447e-01 2.583776e-01 0.7962945 0.4443536"
      ]
     },
     "metadata": {},
     "output_type": "display_data"
    }
   ],
   "source": [
    "slr_g1 <- lm(prot ~ mrna,data=dat_g1)\n",
    "tidy(slr_g1)"
   ]
  },
  {
   "cell_type": "markdown",
   "metadata": {
    "nbgrader": {
     "grade": false,
     "grade_id": "cell-95546104fe6954ec",
     "locked": true,
     "schema_version": 3,
     "solution": false,
     "task": false
    }
   },
   "source": [
    "### 1.2 Predicted values and Residuals\n",
    "\n",
    "#### The predicted values:\n",
    "\n",
    "The blue dot, <font color=\"blue\"> $\\hat{Y}$ </font> in the line, is the *predicted* protein level for a given amount of mRNA in this gene, predicted by our estimated model! \n",
    "\n",
    "> In `R` output all predicted values are stored in the column `.fitted`. \n",
    "\n",
    "$$\\hat{y}_i = \\hat{\\beta}_0 +  \\hat{\\beta}_1 * x_{i}$$\n",
    "\n",
    "In our case:\n",
    "\n",
    "$$ \\hat{\\text{prot}}_{t} = 6.33e-06 + 0.02 * \\text{mrna}_{t}$$\n",
    "\n",
    "> we put a \"hat\" on $y$ to indicate that it's a predicted value using the estimated regression \n",
    "\n",
    "> NOTE: there's no error term in the predicted model!\n",
    "\n",
    "The predictions $\\hat{Y}_i$ are random variables since they are functions of the estimators of the coefficients. \n",
    "\n",
    "> we can estimate their standard error and CI!!\n",
    "\n",
    "But once we get a value based on an observed sample, they become a non-random real number. *Deja vu??*"
   ]
  },
  {
   "cell_type": "markdown",
   "metadata": {
    "nbgrader": {
     "grade": false,
     "grade_id": "cell-7b34958a1cbb9bad",
     "locked": true,
     "schema_version": 3,
     "solution": false,
     "task": false
    }
   },
   "source": [
    "#### The residuals:\n",
    "\n",
    "The *residual* is the difference between the predicted and the observed value of the response\n",
    "\n",
    "> In `R` output all predicted values are stored in the column `.resid`. \n",
    "\n",
    "\n",
    "$$ \\text{res}_i = y_{i}-\\hat{y}_{i}$$\n",
    "\n",
    "In our case:\n",
    "\n",
    "$$ \\text{res}_t=\\text{prot}_{t}-\\hat{\\text{prot}}_{t}$$\n",
    "\n",
    "> **Note**: $\\varepsilon_i \\ne \\text{res}_i$\n",
    "\n",
    "The residuals are the errors of the prediction and estimates of the error terms in the regression."
   ]
  },
  {
   "cell_type": "code",
   "execution_count": null,
   "metadata": {
    "nbgrader": {
     "grade": false,
     "grade_id": "cell-a1e79445b6d7a877",
     "locked": true,
     "schema_version": 3,
     "solution": false,
     "task": false
    }
   },
   "outputs": [],
   "source": [
    "dat_g1 <- dat_g1 %>% do(augment(slr_g1))\n",
    "dat_g1"
   ]
  },
  {
   "cell_type": "code",
   "execution_count": null,
   "metadata": {
    "nbgrader": {
     "grade": false,
     "grade_id": "cell-1d143f9099847c9f",
     "locked": true,
     "schema_version": 3,
     "solution": false,
     "task": false
    },
    "scrolled": true
   },
   "outputs": [],
   "source": [
    "#one particular point in the data to illustrate new concepts\n",
    "dat_g1_0 <- dat_g1[10,]\n",
    "\n",
    "plot_g1 <- dat_g1 %>% \n",
    "    ggplot(aes(mrna,prot)) +\n",
    "    geom_point() + \n",
    "    geom_smooth(aes(mrna,prot), method = lm, se = FALSE, size = 1.2, color=\"red\")+\n",
    "    geom_point(aes(x = dat_g1_0$mrna, y = dat_g1_0$.fitted), \n",
    "               color=\"blue\", size=3)+\n",
    "    geom_text(aes(x=dat_g1_0$mrna + 3.7*10^(-6),y=dat_g1_0$.fitted - 5*10^(-6),\n",
    "                  label=TeX(r\"($\\hat{y}_i$)\", output = \"character\")), \n",
    "                  color=\"blue\", size=5,parse = TRUE)+\n",
    "    geom_text(aes(x=dat_g1_0$mrna + 2.5*10^(-6),y=dat_g1_0$prot+ 5*10^(-6),\n",
    "                  label=TeX(r\"($y_i$)\", output = \"character\")), size=5,parse = TRUE)+\n",
    "    geom_segment(x=dat_g1_0$mrna, y=dat_g1_0$.fitted,\n",
    "                 xend=dat_g1_0$mrna,yend=dat_g1_0$prot, \n",
    "                 linetype=\"dotted\",color=\"brown\")+\n",
    "    geom_text(aes(x=dat_g1_0$mrna + 3.7*10^(-6),y=dat_g1_0$prot - 10^(-5),\n",
    "                  label=TeX(r\"(res$_i$)\", output = \"character\")), \n",
    "                  color=\"brown\", size=5,parse = TRUE)+\n",
    "    ylab(\"protein\")\n",
    "    \n",
    "plot_g1"
   ]
  },
  {
   "cell_type": "markdown",
   "metadata": {
    "nbgrader": {
     "grade": false,
     "grade_id": "cell-c99faa80e472321f",
     "locked": true,
     "schema_version": 3,
     "solution": false,
     "task": false
    }
   },
   "source": [
    "### 1.3 Goodness of fit: is our model better than \"nothing\"?\n",
    "\n",
    "We are now ready to evaluate the fit of our model to the observed data.\n",
    "\n",
    "Without any additional information, the best predictor of the response $Y$ is $E[Y]$ which we can estimate with the sample mean of $Y$ ...\n",
    "\n",
    "> \"nothing\" means no explanatory variables, intercept-only model\n",
    "\n",
    "<font color=\"blue\"> so why do we need a LR?? </font>\n",
    "\n",
    "**Because, given the (additional) information** in $\\mathbf{X}$, the \"best\" predictor is $E[Y|\\mathbf{X}]$ which we can model as a LR to estimate it!! \n",
    "\n",
    "> \"best\" according to a criteria: minimizes the mean square error!\n",
    "\n",
    "> Note that there are different ways of estimating this conditional expectation!\n",
    "\n",
    "So, here is an important question: \n",
    "\n",
    "> Is our linear regression better than just using $E[Y]$ to predict??\n",
    "\n",
    "**Statistically, we want to compare our prediction <font color=\"blue\"> $\\hat{Y}$ </font> (the best estimate of $E[Y|\\mathbf{X}]$) with <font color=\"red\"> $\\bar{Y}$ </font> (the best estimate of $E[Y]$)** (note that font colors match the plots below).\n",
    "\n",
    "Let's represent the errors of these 2 predictors with squares of their errors since in LS we want to minimize the sum of the squares of these errors. \n",
    "\n",
    "**Visually**:\n",
    "\n",
    "![](https://upload.wikimedia.org/wikipedia/commons/thumb/8/86/Coefficient_of_Determination.svg/800px-Coefficient_of_Determination.svg.png)"
   ]
  },
  {
   "cell_type": "markdown",
   "metadata": {
    "nbgrader": {
     "grade": false,
     "grade_id": "cell-4c35b7548cf84ac3",
     "locked": true,
     "schema_version": 3,
     "solution": false,
     "task": false
    }
   },
   "source": [
    "**Mathematically**:\n",
    "\n",
    "#### 1.3.1 Sum of squares decomposition\n",
    "\n",
    "<font color=\"blue\"> If parameters are estimated using LS and the LR has an intercept</font>, it can be proved that \n",
    "\n",
    "$$\\sum_{i=1}^n(y_i-\\bar{y})^2 = \\sum_{i=1}^n(\\hat{y}_i-\\bar{y})^2 + \\sum_{i=1}^n(y_i - \\hat{y}_i)^2$$\n",
    "\n",
    "Each of these sums carry important information to evaluate our analysis:\n",
    "\n",
    "**Total Sum of Squares**: $TSS=\\sum_{i=1}^n(y_i-\\bar{y})^2$\n",
    "\n",
    "- this is the sum of the squares of the residuals from the intercept-only (no explanatory variables) model\n",
    "\n",
    "- the squares of these residuals are represented with red squares in the plot above\n",
    "\n",
    "- when properly scaled, it is the sample variance of $Y$ which *estimates* the population variance of $Y$\n",
    "\n",
    "\n",
    "**Explained Sum of Squares**: $ESS=\\sum_{i=1}^n(\\hat{y}_i-\\bar{y})^2$\n",
    "\n",
    "- $\\hat{y}_i$ predicts $y_i$ using the LR, while $\\bar{y}$ predicts $y_i$ without a model. If our model is better than nothing, this should be large!!\n",
    "\n",
    "- it measures how much it is *explained* by the additional information given by the LR\n",
    "\n",
    "\n",
    "**Residual Sum of Squares**: $RSS=\\sum_{i=1}^n(y_i - \\hat{y}_i)^2$\n",
    "\n",
    "- this is the sum of the squares of the residuals from the *fitted* LR with explanatory variables\n",
    "\n",
    "- the squares of these residuals are represented with blue squares in the plot above\n",
    "\n",
    "- our estimated parameters minimize these errors, this should be small!!"
   ]
  },
  {
   "cell_type": "markdown",
   "metadata": {
    "nbgrader": {
     "grade": false,
     "grade_id": "cell-f06b2b137bc46e5f",
     "locked": true,
     "schema_version": 3,
     "solution": false,
     "task": false
    }
   },
   "source": [
    "#### 1.3.2 The coefficient of determination\n",
    "\n",
    "If our model provides a good fit, we expect the TSS (residuals from the empty model, in red) to be much larger than the RSS (residuals from the fitted LR with explanatory variables, in blue)!! \n",
    "\n",
    "Using the decomposition above and dividing by TSS: \n",
    "\n",
    "$$1=\\frac{\\text{ESS}}{\\text{TSS}} + \\frac{\\text{RSS}}{\\text{TSS}}$$\n",
    "\n",
    "\n",
    "**The Coefficient of determination** was first defined as:\n",
    "\n",
    "$$R^2=1 - \\frac{\\text{RSS}}{\\text{TSS}}$$\n",
    "\n",
    "*For a LR with an intercept and estimated by LS* it is equivalent to \n",
    "\n",
    "$$R^2=\\frac{\\text{ESS}}{\\text{TSS}}$$ \n",
    "\n",
    "#### Interpretations \n",
    "\n",
    "For a LR with an intercept and estimated by LS, the coefficient of determination:\n",
    "\n",
    "- measures the gain in predicting the response using the LR instead of the sample mean, relative to the total variation in the response. \n",
    "\n",
    "\n",
    "- is also interpreted as the proportion of variance of the response (TSS) explained by the model (ESS)\n",
    "\n",
    "\n",
    "- is between 0 and 1 since we expect TSS to be much larger than RSS (thus their ratio is smaller than 1)\n",
    "\n",
    "*Don't worry, R computes this statistic for you!!*"
   ]
  },
  {
   "cell_type": "code",
   "execution_count": null,
   "metadata": {
    "nbgrader": {
     "grade": false,
     "grade_id": "cell-52f593f50e45adde",
     "locked": true,
     "schema_version": 3,
     "solution": false,
     "task": false
    },
    "scrolled": true
   },
   "outputs": [],
   "source": [
    "glance(slr_g1)\n",
    "\n",
    "(my_Rsq <- 1-sum(dat_g1$.resid^2)/(sd(dat_g1$prot)^2*(nrow(dat_g1)-1)))\n"
   ]
  },
  {
   "cell_type": "markdown",
   "metadata": {
    "nbgrader": {
     "grade": false,
     "grade_id": "cell-bbaa62c34332d83c",
     "locked": true,
     "schema_version": 3,
     "solution": false,
     "task": false
    }
   },
   "source": [
    "The $R^2$ compares $Y$ vs $\\hat{Y}$ using the RSS but *relative to* the TSS \n",
    "\n",
    "<font color=\"blue\"> **In a SLR, the coefficient of determination equals the square of the correlation coefficient** </font>\n",
    "\n",
    "> you probably noticed this in the SLR: $r^2=R^2$\n",
    "\n",
    "**Note**: this is not true for any type of estimation. In particular, it is not true for the estimation method suggested in the Nature's paper or their models since they do not have an intercept!\n",
    "\n",
    "<font color=\"blue\"> **In LR, the coefficient of determination equals the square of the coefficient of multiple correlation** </font>\n",
    "\n",
    "\n",
    "> in fact, the coefficient of determination was first introduced this way in 1921!\n",
    "\n",
    "\n",
    "> the $R^2 = cor(Y, \\hat{Y})^2$, if $\\hat{Y}$ is a predition obtained from a LR with an intercept estimated by LS\n",
    "\n",
    "**Note**: in the paper the authors computed this measure but *not* per each gene, which flawed their conclusions."
   ]
  },
  {
   "cell_type": "markdown",
   "metadata": {
    "nbgrader": {
     "grade": false,
     "grade_id": "cell-48d1de4e5ced402a",
     "locked": true,
     "schema_version": 3,
     "solution": false,
     "task": false
    }
   },
   "source": [
    "#### Scope and limitations of the coefficient of determination\n",
    "\n",
    "The $R^2$ is computed based on *in-sample* observations and it does not provide a sense of how good is our model in predicting *out-of-sample* cases (aka test set)!!\n",
    "\n",
    "Note that $R^2$ computed as $R^2 = 1 - \\frac{\\text{RSS}}{\\text{TSS}}$ ranges between 0 and 1 *if* the LR model has an intercept and is estimated by LS!! \n",
    "\n",
    "> otherwise, this definition can result in negative values!! (see discussion in Wooldridge)\n",
    "\n",
    "> A negative $R^2$ indicates that the sample mean is a better predictor than the estimated linear regression. We'll come to this point later.\n",
    "\n",
    "*Let's compute the $R^2$ for all the genes in the dataset*"
   ]
  },
  {
   "cell_type": "markdown",
   "metadata": {
    "nbgrader": {
     "grade": false,
     "grade_id": "cell-79247febad83752b",
     "locked": true,
     "schema_version": 3,
     "solution": false,
     "task": false
    }
   },
   "source": [
    "**Question 1.0**\n",
    "<br>{points: 1}\n",
    "\n",
    "In this problem you will: \n",
    "\n",
    "- fit 1392 SLR, one for each gene in the dataset using `lm()` and `group_by()`\n",
    "\n",
    "- use the function `augment()` to compute residuals from each fitted SLRs\n",
    "\n",
    "- compute the RSS and the TSS for each gene and estimated SLR\n",
    "\n",
    "- use the RSS and the TSS to compute the $R^2$ for each gene and estimated SLR\n",
    "\n",
    "Collect all these quantities in an object called `data_ss`.\n",
    "\n",
    "*Fill out those parts indicated with `...`, uncomment the corresponding code in the cell below, and run it.*"
   ]
  },
  {
   "cell_type": "code",
   "execution_count": null,
   "metadata": {
    "nbgrader": {
     "grade": false,
     "grade_id": "cell-30b40631b6494c74",
     "locked": false,
     "schema_version": 3,
     "solution": true,
     "task": false
    },
    "scrolled": false
   },
   "outputs": [],
   "source": [
    "# n_tissues = ...\n",
    "\n",
    "#dat_ss <- dat_bio %>%  \n",
    "#  group_by(...) %>%\n",
    "#  do(augment(...(prot ~ ..., data = .)))   %>% \n",
    "#  summarize(RSS= sum(...),TSS=...(...)^2*(n_tissues - 1),\n",
    "#           myR2 = 1- .../...)\n",
    "\n",
    "# head(dat_ss,3)\n",
    "\n",
    "### BEGIN SOLUTION\n",
    "n_tissues = 12\n",
    "\n",
    "dat_ss <- dat_bio %>%  \n",
    "  group_by(gene) %>%\n",
    "  do(augment(lm(prot ~ mrna, data = .)))   %>% \n",
    "  summarize(RSS= sum(.resid^2),TSS=sd(prot)^2*(n_tissues - 1),\n",
    "           myR2 = 1- RSS/TSS)\n",
    "\n",
    "head(dat_ss,3)\n",
    "### END SOLUTION"
   ]
  },
  {
   "cell_type": "code",
   "execution_count": null,
   "metadata": {
    "nbgrader": {
     "grade": true,
     "grade_id": "cell-b3ad10a8f196443d",
     "locked": true,
     "points": 1,
     "schema_version": 3,
     "solution": false,
     "task": false
    }
   },
   "outputs": [],
   "source": [
    "test_1.0()"
   ]
  },
  {
   "cell_type": "markdown",
   "metadata": {
    "nbgrader": {
     "grade": false,
     "grade_id": "cell-4b70ba83b183cc69",
     "locked": true,
     "schema_version": 3,
     "solution": false,
     "task": false
    }
   },
   "source": [
    "**Question 1.1**\n",
    "<br>{points: 1}\n",
    "\n",
    "In this problem you will compute the $R^2$ for each gene and estimated SLR using the function `glance()`\n",
    "\n",
    "- select the columns `gene` and `r.squared` and store them in an object called `data_r2`\n",
    "\n",
    "- extend `data_r2` by joining it `data_ss` to compare your calculation of the $R^2$ with that given by `glance()`\n",
    "\n",
    "\n",
    "*Fill out those parts indicated with `...`, uncomment the corresponding code in the cell below, and run it.*"
   ]
  },
  {
   "cell_type": "code",
   "execution_count": null,
   "metadata": {
    "nbgrader": {
     "grade": false,
     "grade_id": "cell-fcff0641f931f0b2",
     "locked": false,
     "schema_version": 3,
     "solution": true,
     "task": false
    }
   },
   "outputs": [],
   "source": [
    "#dat_glance <- dat_slr  %>% \n",
    "#  group_by(...)  %>% \n",
    "#  do(glance(...(... ~ ..., data = .))) \n",
    "\n",
    "#dat_r2 <- dat_glance %>% \n",
    "#  select(..., ...)\n",
    "\n",
    "#dat_r2 <- dat_ss  %>%  full_join(dat_r2, by = c(\"gene\")) \n",
    "\n",
    "#tail(dat_r2,3)\n",
    "\n",
    "### BEGIN SOLUTION\n",
    "dat_glance <- dat_slr  %>% \n",
    "  group_by(gene)  %>% \n",
    "  do(glance(lm(prot ~ mrna, data = .))) \n",
    "\n",
    "dat_r2 <- dat_glance  %>% \n",
    "  select(gene, r.squared)\n",
    "\n",
    "dat_r2 <- dat_ss  %>%  full_join(dat_r2, by = c(\"gene\")) \n",
    "\n",
    "tail(dat_r2,3)\n",
    "### END SOLUTION"
   ]
  },
  {
   "cell_type": "code",
   "execution_count": null,
   "metadata": {
    "nbgrader": {
     "grade": true,
     "grade_id": "cell-dc341effd245527e",
     "locked": true,
     "points": 1,
     "schema_version": 3,
     "solution": false,
     "task": false
    }
   },
   "outputs": [],
   "source": [
    "test_1.1()"
   ]
  },
  {
   "cell_type": "markdown",
   "metadata": {
    "nbgrader": {
     "grade": false,
     "grade_id": "cell-dfaabf410163976a",
     "locked": true,
     "schema_version": 3,
     "solution": false,
     "task": false
    }
   },
   "source": [
    "#### Visualization of results \n",
    "\n",
    "We have computed 1392 coefficients of determination, one for each *gene-specific* fitted model. Let's visualize the results using a histogram of the coefficients of determination"
   ]
  },
  {
   "cell_type": "code",
   "execution_count": null,
   "metadata": {
    "nbgrader": {
     "grade": false,
     "grade_id": "cell-0dd8c3a8d46da2f2",
     "locked": true,
     "schema_version": 3,
     "solution": false,
     "task": false
    },
    "scrolled": false
   },
   "outputs": [],
   "source": [
    "hist_ls_r2 <- dat_r2  %>% \n",
    "  ggplot(aes(x=r.squared)) + \n",
    "  geom_histogram(color=\"navy\", bins=20) + \n",
    "  geom_vline(xintercept=median(dat_r2$r.squared, na.rm=T),color=\"red\")+\n",
    "  labs(\n",
    "    title = \"Rsq of gene-specific LS models\",\n",
    "    x = \"Rsq\",\n",
    "    y = \"Count\")+\n",
    "  xlim(0, 1)\n",
    "\n",
    "hist_ls_r2"
   ]
  },
  {
   "cell_type": "markdown",
   "metadata": {
    "nbgrader": {
     "grade": false,
     "grade_id": "cell-d9d98e89fc0d5560",
     "locked": true,
     "schema_version": 3,
     "solution": false,
     "task": false
    }
   },
   "source": [
    "**Question 1.2**\n",
    "<br>{points: 1}\n",
    "\n",
    "In the following claims, a \"gene-specific model\" refers to a SLR using `mRNA` as an input variable and estimated by LS for each gene.\n",
    "\n",
    "Select all the claims that are true based on the $R^2$ computed for each gene.\n",
    "\n",
    "**A.** These results suggest that the quality of the proposed models vary greatly across genes. For some genes, a gene-specific model explains more than 80% of the observed variation in protein abundance. However, for half of the genes it explains less than 15% of the observed variation in protein levels.\n",
    "\n",
    "**B.** For the majority of the genes, a gene-specific model fits the data well. \n",
    "\n",
    "**C.** With the suggested gene-specific models, it now becomes possible to predict protein abundance in any given tissue with good accuracy from the measured mRNA for any gene.  \n",
    "\n",
    "**D.** For gene ENSG00000262246, the gene-specific model explains approximately 87% of the observed variation in protein abundance, making `mRNA` statistically significant.\n",
    "\n",
    "*Assign your answer to an object called `answer1.2`. Your answer should be one of `\"A\"`, `\"B\"`, `\"C\"`, or `\"D\"` surrounded by quotes.*"
   ]
  },
  {
   "cell_type": "code",
   "execution_count": null,
   "metadata": {
    "nbgrader": {
     "grade": false,
     "grade_id": "cell-6f09b9a6725554ff",
     "locked": false,
     "schema_version": 3,
     "solution": true,
     "task": false
    }
   },
   "outputs": [],
   "source": [
    "# answer1.2 <- \n",
    "\n",
    "### BEGIN SOLUTION\n",
    "answer1.2 <- \"A\"\n",
    "### END SOLUTION"
   ]
  },
  {
   "cell_type": "code",
   "execution_count": null,
   "metadata": {
    "nbgrader": {
     "grade": true,
     "grade_id": "cell-7c63e0b50f9f1aca",
     "locked": true,
     "points": 1,
     "schema_version": 3,
     "solution": false,
     "task": false
    }
   },
   "outputs": [],
   "source": [
    "test_1.2()"
   ]
  },
  {
   "cell_type": "markdown",
   "metadata": {
    "nbgrader": {
     "grade": false,
     "grade_id": "cell-98eac64db7a12412",
     "locked": true,
     "schema_version": 3,
     "solution": false,
     "task": false
    }
   },
   "source": [
    "#### Claim from the paper\n",
    "\n",
    "Using the median ratio of protein to mRNA levels per gene as a proxy for translation rates, our data show that [...] ***it now becomes possible to predict protein abundance in any given tissue with good accuracy from the measured mRNA abundance***\n",
    "\n",
    "<font color=\"blue\"> Hmmmm .... how??? is the median ratio a much better estimate of the regression coefficients?? </font>\n",
    "\n",
    "*We'll come back for this later ....*"
   ]
  },
  {
   "cell_type": "markdown",
   "metadata": {
    "nbgrader": {
     "grade": false,
     "grade_id": "cell-0d442678a3b10e7c",
     "locked": true,
     "schema_version": 3,
     "solution": false,
     "task": false
    }
   },
   "source": [
    "#### 1.3.3 Model Evaluation via Adjusted $R^2$\n",
    "\n",
    "A drawback of the $R^2$ is that it increases as more input variables are added to teh model, *regardless of the relevance of the input variables added* since the $\\text{RSS} = \\sum_{i = 1}^n(y_i - \\hat{y}_i)^2$ as more input variables are included in the model. \n",
    "\n",
    "To overcome this issue with $R^2$, we can obtain an **adjusted $R^2$** as follows:\n",
    "\n",
    "$$ \\text{adjusted } R^2 = 1- \\frac{\\text{RSS}/(n - p)}{\\text{TSS}/(n - 1)},$$\n",
    "\n",
    "where \n",
    "\n",
    "- $p$ is the number of regression parameters of the model, including $\\beta_0$.\n",
    "- $n$ is our sample size to train the model.\n",
    "\n",
    "This adjusted coefficient of determination penalizes $\\text{RSS}$ with $n - p$. Hence, even if the $\\text{RSS}$ decreases, we divide it by $n - p$ to compensate for the model's size."
   ]
  },
  {
   "cell_type": "markdown",
   "metadata": {
    "nbgrader": {
     "grade": false,
     "grade_id": "cell-0475ff0a71595824",
     "locked": true,
     "schema_version": 3,
     "solution": false,
     "task": false
    }
   },
   "source": [
    "#### 1.3.4 Other evaluation metrics\n",
    "\n",
    "Other related metrics used to evaluate LR which measure how far $Y$ is from $\\hat{Y}$ are:\n",
    "\n",
    "\n",
    "- **Residuals Standard Error**: RSE = $\\sqrt{\\frac{1}{n-p} \\text{RSS}}$\n",
    "\n",
    "> called `sigma` in `glance()` output\n",
    "\n",
    "> estimates the standard deviation of the error term $\\varepsilon$ (the RSS is divided by the appropriate degrees of freedom to give a \"good\" estimate of $\\sigma = \\sqrt{Var(\\varepsilon)}$)\n",
    "\n",
    "> needed to estimate the standard errors of $\\hat{\\beta}_j$ in classical theory! (for inference)\n",
    "\n",
    "> a measure based on *training* data to evaluate the fit of the model (for inference)\n",
    "\n",
    "> gives an idea of the size of the *irreducible* error, very similar to the RSS, small is good\n",
    "\n",
    "\n",
    "- **Mean Squared Error**: MSE = $\\frac{1}{n}\\sum_{i=1}^n(y_i - \\hat{y}_i)^2$\n",
    "\n",
    "> *Training MSE*: if we use the original sample $y_1, \\ldots, y_n$ and their predicted values (formula above). It can be easily obtained from `.resid` column in `augment()` output "
   ]
  },
  {
   "cell_type": "markdown",
   "metadata": {
    "nbgrader": {
     "grade": false,
     "grade_id": "cell-d65854ba88ab7d8d",
     "locked": true,
     "schema_version": 3,
     "solution": false,
     "task": false
    }
   },
   "source": [
    "### 1.4 Selection of nested models: the *F*-test\n",
    "\n",
    "Are the $R^2$ or its adjusted version useful?? \n",
    "\n",
    "- For some genes, the $R^2$ is around 50%, is this value large??\n",
    "\n",
    "The $R^2$ can be used to compare the size of the residuals of the fitted model with those of an empty model. However, we can't use it to *test* any hypothesis to answer this question since its sampling distribution is unknown.\n",
    "\n",
    "\n",
    "Alternatively, the **$F$-test** can be used to compare *nested* models. \n",
    "\n",
    "> what do we mean by *nested models*?\n",
    "\n",
    "> <font color=blue> nested </font>: the full model contains all the variables from the reduced model together with $k$ additional input variables"
   ]
  },
  {
   "cell_type": "markdown",
   "metadata": {
    "nbgrader": {
     "grade": false,
     "grade_id": "cell-0e0703b41e37a2f6",
     "locked": true,
     "schema_version": 3,
     "solution": false,
     "task": false
    }
   },
   "source": [
    "**Case 1:**\n",
    "Let's compare a SLR with an intercept only model:\n",
    "\n",
    "- model reduced: $Y_i=\\beta_0 + \\varepsilon_i$ \n",
    "\n",
    "    > LR with no input variables\n",
    "\n",
    "\n",
    "- model full:  $Y_i=\\beta_0 + \\beta_1 X_{i} + \\varepsilon_i$ \n",
    "\n",
    "    > SLR with 1 additional input variable\n",
    "\n",
    "\n",
    "#### <font color=red> Is the full model significantly different from the reduced model? </font>\n",
    "\n",
    "To compare and test nested models we need an **$F$-test**\n",
    "\n",
    "> the function `anova()` can be used to compute this test\n",
    "\n",
    "> `glance()` also includes this statistic and its corresponding p-value"
   ]
  },
  {
   "cell_type": "code",
   "execution_count": null,
   "metadata": {
    "nbgrader": {
     "grade": false,
     "grade_id": "cell-0858334cd62a4536",
     "locked": true,
     "schema_version": 3,
     "solution": false,
     "task": false
    }
   },
   "outputs": [],
   "source": [
    "lm_red <- lm(prot~1, dat_g1)\n",
    "\n",
    "lm_full <- lm(prot~ mrna, dat_g1)\n",
    "\n",
    "anova(lm_red,lm_full)"
   ]
  },
  {
   "cell_type": "markdown",
   "metadata": {
    "nbgrader": {
     "grade": false,
     "grade_id": "cell-68e9eecc55019cda",
     "locked": true,
     "schema_version": 3,
     "solution": false,
     "task": false
    }
   },
   "source": [
    "Note that in this simple case, the only difference between the reduced and the full model is the term with $\\beta_1$\n",
    "\n",
    "> we are testing if $\\beta_1$ is different from zero!! $H_0: \\beta_1 = 0$\n",
    "\n",
    "Same as before!! \n",
    "\n",
    "> Note the $p$-values are the same. This is not a coincidence! \n",
    "\n",
    "When we test only one parameter: $t^2 = F$"
   ]
  },
  {
   "cell_type": "code",
   "execution_count": null,
   "metadata": {
    "nbgrader": {
     "grade": false,
     "grade_id": "cell-c0b972863e8e2814",
     "locked": true,
     "schema_version": 3,
     "solution": false,
     "task": false
    },
    "scrolled": false
   },
   "outputs": [],
   "source": [
    "anova(lm_red,lm_full)\n",
    "glance(slr_g1)  %>% select(statistic, p.value)\n",
    "tidy(slr_g1)"
   ]
  },
  {
   "cell_type": "markdown",
   "metadata": {
    "nbgrader": {
     "grade": false,
     "grade_id": "cell-77633c07793baf4d",
     "locked": true,
     "schema_version": 3,
     "solution": false,
     "task": false
    }
   },
   "source": [
    "For this gene, the full model is not statistically different from the reduced (intercept only) model at a significance level of 5%.\n",
    "\n",
    "> for this gene, the full model, including `mrna` does not fit the data significantly better than then intercept only model! \n",
    "\n",
    "**For this gene, there is not statistical evidence that mRNA is associated with protein levels**\n",
    "\n",
    "As before, we can look at the results of *all* genes"
   ]
  },
  {
   "cell_type": "code",
   "execution_count": null,
   "metadata": {
    "nbgrader": {
     "grade": false,
     "grade_id": "cell-44d9b6ea19ad3cb8",
     "locked": true,
     "schema_version": 3,
     "solution": false,
     "task": false
    }
   },
   "outputs": [],
   "source": [
    "hist_ls_F <- dat_glance  %>% \n",
    "  ggplot(aes(x=p.value)) + \n",
    "  geom_histogram(color=\"navy\", bins=20) + \n",
    "  geom_vline(xintercept=median(dat_glance$p.value, na.rm=T),color=\"red\")+\n",
    "  geom_vline(xintercept=0.05,linetype = 2, color=\"green\")+\n",
    "  labs(\n",
    "    title = \"F-test of gene-specific LS models\",\n",
    "    x = \"p.value\",\n",
    "    y = \"Count\")+\n",
    "  xlim(0, 1)\n",
    "\n",
    "hist_ls_F"
   ]
  },
  {
   "cell_type": "markdown",
   "metadata": {
    "nbgrader": {
     "grade": false,
     "grade_id": "cell-4453fda3273e33be",
     "locked": true,
     "schema_version": 3,
     "solution": false,
     "task": false
    }
   },
   "source": [
    "#### Claim from the paper\n",
    "\n",
    "Using the median ratio of protein to mRNA levels per gene as a proxy for translation rates, our data show that [...] ***it now becomes possible to predict protein abundance in any given tissue with good accuracy from the measured mRNA abundance***\n",
    "\n",
    "**In our analysis, for most genes, the model with `mrna` is not significanly better, at 5% significance, than the empty model.**\n",
    "\n",
    "<font color=\"blue\"> Hmmmm .... is the median ratio a much better estimate of the regression coefficients?? </font>\n",
    "\n",
    "*We'll come back for this later ....*"
   ]
  },
  {
   "cell_type": "markdown",
   "metadata": {
    "nbgrader": {
     "grade": false,
     "grade_id": "cell-3118339d0d723854",
     "locked": true,
     "schema_version": 3,
     "solution": false,
     "task": false
    }
   },
   "source": [
    "#### Back to the F-test:\n",
    "\n",
    "In the previous case, the $F$-test was used in a very simple case, mathematically equivalent to a (squared) $t$-test.\n",
    "\n",
    "However, the $F$-test can be generalized to compare any pair of *nested* models."
   ]
  },
  {
   "cell_type": "markdown",
   "metadata": {
    "nbgrader": {
     "grade": false,
     "grade_id": "cell-31fb152ce8bbd93a",
     "locked": true,
     "schema_version": 3,
     "solution": false,
     "task": false
    }
   },
   "source": [
    "**Case 2:**\n",
    "\n",
    "- model reduced: $Y_i=\\beta_0 + \\varepsilon_i$ \n",
    "\n",
    "    > LR with no input variables\n",
    "\n",
    "\n",
    "- model full:  $Y_i=\\beta_0 + \\beta_1 X_{i1} + \\beta_2 X_{i2} + \\varepsilon_i$ \n",
    "\n",
    "    > LR with 2 additional input variables\n",
    "    \n",
    "    \n",
    "#### <font color=red> Is the full model significantly different from the reduced model? </font>\n",
    "\n",
    "Note that now the full model has 2 extra terms!!\n",
    "\n",
    "> $H_0: \\beta_1 = 0 \\text{ and }  \\beta_2 = 0$\n",
    "\n",
    "We are *simulataneously* testing if *both parameters* are zero!!"
   ]
  },
  {
   "cell_type": "markdown",
   "metadata": {
    "nbgrader": {
     "grade": false,
     "grade_id": "cell-bfb30d92944f1b64",
     "locked": true,
     "schema_version": 3,
     "solution": false,
     "task": false
    }
   },
   "source": [
    "**Case 3: general**\n",
    "\n",
    "- model reduced: $Y_i=\\beta_0 + \\beta_1 X_{i1} + \\ldots + \\beta_q X_{iq} + \\varepsilon_i$ \n",
    "\n",
    "    > LR with $q+1$ variables\n",
    "\n",
    "\n",
    "- model full:  $Y_i=\\beta_0 + \\beta_1 X_{i1} +  \\ldots + \\beta_q X_{iq} + \\ldots +  \\beta_s X_{is} + \\varepsilon_i$ \n",
    "\n",
    "    > LR with $p=s+1$ variables, $k = s - q$ additional explanatory variables\n",
    "    \n",
    "    \n",
    "#### <font color=red> Is the full model significantly different from the reduced model? </font>\n",
    "\n",
    "Note that in this simple case, we are testing if $\\beta_1$ is different from zero!!\n",
    "\n",
    "> $H_0: \\beta_{q+1} = 0 \\text{ and }  \\beta_{q+2} = 0 \\text{ and } \\ldots  \\beta_{s} = 0$\n",
    "\n",
    "We are *simulataneously* testing if *k parameters* are zero!!\n",
    "\n",
    "It can be challenging to write the model and the null hypothesis mathematically. \n",
    "\n",
    "However, in any analysis, you should be able identify both the reduced and the full models being compared and tested. "
   ]
  },
  {
   "cell_type": "markdown",
   "metadata": {
    "nbgrader": {
     "grade": false,
     "grade_id": "cell-f383d7ac468e9631",
     "locked": true,
     "schema_version": 3,
     "solution": false,
     "task": false
    }
   },
   "source": [
    "**(For fun) the formula of the F-statistic is given by:** \n",
    "\n",
    "$$F = \\frac{(RSS_{reduced}-RSS_{full})/k}{RSS_{full}/(n-p)} \\sim \\mathcal{F}_{k, n-p}$$\n",
    "\n",
    "- $RSS_{reduced}$ is the **RSS** of the reduced model \n",
    "\n",
    "\n",
    "- $RSS_{full}$ is the **RSS** of the full model \n",
    "\n",
    "\n",
    "- $k$ is the number of parameters tested (difference between models)\n",
    "\n",
    "\n",
    "- $p$ is the number of parameters of the full model ($s+1$)\n",
    "\n",
    "For LS estimation, if the conditional distribution of the error terms $\\varepsilon_i$ is normal, under $H_0$:\n",
    "\n",
    "$$F \\sim \\mathcal{F}_{k, n - p}$$ \n",
    "\n",
    "i.e., the $F$-statistic has an $\\mathcal{F}$ distribution with $k$ degrees of freedom in the numerator and $n - p$ degrees of freedom in the denominator. Otherwise, this is still approximately true by results of the CLT for large samples.\n",
    "\n",
    "> the $F$ and the $R^2$ both depend on the RSS and the TSS so there is a formula that relates them!! however, the former has a known (or approximately known) sampling distribution (under certain assumptions) so we can use it to make probabilistic statements\n",
    "\n",
    "*Don't worry, R computes this statistic for you!!*"
   ]
  },
  {
   "cell_type": "markdown",
   "metadata": {
    "nbgrader": {
     "grade": false,
     "grade_id": "cell-3885fb69104f7fac",
     "locked": true,
     "schema_version": 3,
     "solution": false,
     "task": false
    }
   },
   "source": [
    "To illustrate other applications of the $F$-test, let's consider a subset with 3 randomly selected genes. \n",
    "\n",
    "We will use this (sub)dataset to analyze the relation between `mrna` and `prot`, *and* `gene` as a variable in the model!!"
   ]
  },
  {
   "cell_type": "code",
   "execution_count": null,
   "metadata": {
    "nbgrader": {
     "grade": false,
     "grade_id": "cell-5ca588daa7120836",
     "locked": true,
     "schema_version": 3,
     "solution": false,
     "task": false
    },
    "scrolled": true
   },
   "outputs": [],
   "source": [
    "set.seed(561)\n",
    "dat_3genes <- dat_bio  %>%  \n",
    "         subset(gene %in% sample(gene,3)) \n",
    "\n",
    "res_per_g <- dat_3genes %>%\n",
    "         group_by(gene) %>%\n",
    "         do(glance(lm(prot ~ mrna, data = .)))  %>% \n",
    "         select(gene, r.squared, statistic, p.value)\n",
    "\n",
    "res_per_g"
   ]
  },
  {
   "cell_type": "markdown",
   "metadata": {
    "nbgrader": {
     "grade": false,
     "grade_id": "cell-bb62dbae14684093",
     "locked": true,
     "schema_version": 3,
     "solution": false,
     "task": false
    }
   },
   "source": [
    "#### LR with 1 categorical and 1 continuous, without interaction (additive)\n",
    "\n",
    "This model assumes that when mRNA changes the change in protein levels is the same for all 3 genes but allows different predictions for different genes:\n",
    "\n",
    "$$\\text{prot}_t=\\beta_0 + \\beta_1 \\text{mrna}_{t} + \\beta_2 \\text{G2}_{t} + \\beta_3 \\text{G3}_{t} + \\varepsilon_t$$\n",
    "\n",
    "> the subscript $t$ indicates the tissue where the gene was measured"
   ]
  },
  {
   "cell_type": "markdown",
   "metadata": {
    "nbgrader": {
     "grade": false,
     "grade_id": "cell-4746d4cb9862031e",
     "locked": true,
     "schema_version": 3,
     "solution": false,
     "task": false
    }
   },
   "source": [
    "#### Recall ....\n",
    "\n",
    "\n",
    "The variables $G2$ and $G3$ are dummy variables that take only 2 values, 0 and 1\n",
    "\n",
    "> $G2 = 1$ for gene ENSG00000143553, and it's $0$ otherwise \n",
    "\n",
    "> $G3 = 1$ for gene ENSG00000168497, and it's $0$ otherwise\n",
    "\n",
    "\n",
    "> as before, we use 2 dummy variables to model 3 levels of a categorical variable\n",
    "\n",
    "Let's take a closer look at our model:\n",
    "\n",
    "- for gene ENSG00000085733, $G2=0$ and $G3=0$ : then \n",
    "\n",
    "$$\\text{prot}_t=\\beta_0 + \\beta_1 \\text{mrna}_{t} + \\varepsilon_t$$\n",
    "\n",
    "> just replace the dummy variables with 0, respectively, in the equation above\n",
    "\n",
    "> this is just a SLR with intercept $\\beta_0$ and slope $\\beta_1$ to model the relation between `protein` and `mrna`!!\n",
    "\n",
    "- for gene ENSG00000143553, $G2=1$ and $G3=0$: then \n",
    "\n",
    "$$\\text{prot}_t=\\beta_0 + \\beta_1 \\text{mrna}_{t} + \\beta_2  + \\varepsilon_t$$ \n",
    "\n",
    "> just replace the dummies with 1 and 0, respectively, in the equation above\n",
    "\n",
    "> this is just a SLR with *the same* slope $\\beta_1$ to model the relation between `prot` and `mrna`!!\n",
    "\n",
    "> but note that in this case the intercept is *different*: $\\beta_0 + \\beta_2$\n",
    "\n",
    "- for gene ENSG00000168497, $G2=0$ and $G3=1$: then \n",
    "\n",
    "$$\\text{prot}_t=\\beta_0 + \\beta_1 \\text{mrna}_{t} + \\beta_3  + \\varepsilon_t$$ \n",
    "\n",
    "> just replace the dummies with 0 and 1, respectively, in the equation above\n",
    "\n",
    "> this is just a SLR with *the same* slope $\\beta_1$ to model the relation between `prot` and `mrna`!!\n",
    "\n",
    "> but note that in this case the intercept is *different*: $\\beta_0 + \\beta_3$"
   ]
  },
  {
   "cell_type": "markdown",
   "metadata": {
    "nbgrader": {
     "grade": false,
     "grade_id": "cell-2b5f6d0a48ebc993",
     "locked": true,
     "schema_version": 3,
     "solution": false,
     "task": false
    }
   },
   "source": [
    "**Question 1.3**\n",
    "<br>{points: 1}\n",
    "\n",
    "Using the data from the 3 selected genes `data_3genes`, fit the additive model outlined above. Store the results in an object called `mlr_3genes_add`.\n",
    "\n",
    "Use `tidy` to obtain a table with results from the LS estimation and inference. "
   ]
  },
  {
   "cell_type": "code",
   "execution_count": null,
   "metadata": {
    "nbgrader": {
     "grade": false,
     "grade_id": "cell-b19aacfa7238f6ed",
     "locked": false,
     "schema_version": 3,
     "solution": true,
     "task": false
    },
    "scrolled": true
   },
   "outputs": [],
   "source": [
    "#mlr_3genes_add <- ...(...~ ..., data = dat_3genes)\n",
    "#mlr_3genes_add_res <- tidy(mlr_3genes_add)\n",
    "#mlr_3genes_add_res\n",
    "\n",
    "\n",
    "### BEGIN SOLUTION\n",
    "mlr_3genes_add <- lm(prot~ gene + mrna,dat_3genes)\n",
    "mlr_3genes_add_res <- tidy(mlr_3genes_add)\n",
    "mlr_3genes_add_res\n",
    "### END SOLUTION"
   ]
  },
  {
   "cell_type": "code",
   "execution_count": null,
   "metadata": {
    "nbgrader": {
     "grade": true,
     "grade_id": "cell-ee55b94ef330046a",
     "locked": true,
     "points": 1,
     "schema_version": 3,
     "solution": false,
     "task": false
    }
   },
   "outputs": [],
   "source": [
    "test_1.3()"
   ]
  },
  {
   "cell_type": "markdown",
   "metadata": {
    "nbgrader": {
     "grade": false,
     "grade_id": "cell-2afa8c39d578b70c",
     "locked": true,
     "schema_version": 3,
     "solution": false,
     "task": false
    }
   },
   "source": [
    "#### Visualizing the data and fitted model"
   ]
  },
  {
   "cell_type": "code",
   "execution_count": null,
   "metadata": {
    "nbgrader": {
     "grade": false,
     "grade_id": "cell-f5eb98ebfc04c163",
     "locked": true,
     "schema_version": 3,
     "solution": false,
     "task": false
    }
   },
   "outputs": [],
   "source": [
    "#Define a grid to extend the estimated LR\n",
    "newdat = expand.grid(mrna = seq(min(dat_3genes$mrna), max(dat_3genes$mrna), by = 1e-06),\n",
    "                     gene = unique(dat_3genes$gene) )\n",
    "newdat$pred_add = predict(mlr_3genes_add, newdata = newdat)\n",
    "\n",
    "plot_add <- ggplot(dat_3genes, aes(x = mrna, y = prot, color = gene)) +\n",
    "     geom_point(size=.5) +     \n",
    "     geom_line(data = newdat, aes(y = pred_add), size = 0.5)+\n",
    "     labs(title = 'Additive Model', x = \"mRNA\", y = \"Protein\") + \n",
    "     theme(plot.title = element_text(face = \"bold\", size = 12, hjust = 0.5),\n",
    "        axis.title = element_text(face = \"bold\", size = 12))\n",
    "\n",
    "plot_add"
   ]
  },
  {
   "cell_type": "markdown",
   "metadata": {
    "nbgrader": {
     "grade": false,
     "grade_id": "cell-898f36e96547cf93",
     "locked": true,
     "schema_version": 3,
     "solution": false,
     "task": false
    }
   },
   "source": [
    "#### LR with 1 categorical and 1 continuous, *plus* interactions: \n",
    "\n",
    "Let's now consider a model that assumes that when mRNA changes the change in protein levels is different for each genes. Each gene should have its own translation rate!!\n",
    "\n",
    "> isn't this the same as the *gene-specific* models??\n",
    "\n",
    "> Wilhelm et al.: \"translation rate is a fundamental, encoded (constant) *characteristic of a transcript [gene]*\"\n",
    "\n",
    "\n",
    "$$\\text{prot}_t = \\beta_0 + \\beta_1 \\text{mrna}_{t} + \\beta_2 G2_{t}  + \\beta_3 G3_{t}  + \\beta_4 G2_{t} * \\text{mrna}_{t} + \\beta_5 G3_{t} * \\text{mrna}_{t} +\\varepsilon_t$$\n",
    "\n",
    "\n",
    "> mathematically, we multiply variables\n",
    "\n",
    "> Recall: 6 parameters related to 3 intercepts and 3 slopes"
   ]
  },
  {
   "cell_type": "markdown",
   "metadata": {
    "nbgrader": {
     "grade": false,
     "grade_id": "cell-a26def16487f21f0",
     "locked": true,
     "schema_version": 3,
     "solution": false,
     "task": false
    }
   },
   "source": [
    "Using the data from the 3 selected genes `data_3genes`, we will now fit the model with interaction terms outlined above. \n",
    "\n",
    "We will store the results in an object called `mlr_3genes_int` and use `tidy` to obtain a table with results from the LS estimation and inference. "
   ]
  },
  {
   "cell_type": "code",
   "execution_count": null,
   "metadata": {
    "nbgrader": {
     "grade": false,
     "grade_id": "cell-5f1240b71f992980",
     "locked": true,
     "schema_version": 3,
     "solution": false,
     "task": false
    },
    "scrolled": true
   },
   "outputs": [],
   "source": [
    "mlr_3genes_int <- lm(prot ~ gene * mrna, dat_3genes)\n",
    "tidy(mlr_3genes_int)"
   ]
  },
  {
   "cell_type": "code",
   "execution_count": null,
   "metadata": {
    "nbgrader": {
     "grade": false,
     "grade_id": "cell-009e2d6fa2652a0c",
     "locked": true,
     "schema_version": 3,
     "solution": false,
     "task": false
    }
   },
   "outputs": [],
   "source": [
    "newdat = expand.grid(mrna = seq(min(dat_3genes$mrna), max(dat_3genes$mrna), by = 1e-06),\n",
    "                     gene = unique(dat_3genes$gene) )\n",
    "newdat$pred_int = predict(mlr_3genes_int, newdata = newdat)\n",
    "\n",
    "plot_int <- ggplot(dat_3genes, aes(x = mrna, y = prot, color = gene)) +\n",
    "     geom_point(size=.5) +     \n",
    "     geom_line(data = newdat, aes(y = pred_int), size = 0.5)+\n",
    "     labs(title = 'Model with interaction', x = \"mRNA\", y = \"Protein\") + \n",
    "     theme(plot.title = element_text(face = \"bold\", size = 12, hjust = 0.5),\n",
    "        axis.title = element_text(face = \"bold\", size = 12))\n",
    "\n",
    "plot_int"
   ]
  },
  {
   "cell_type": "markdown",
   "metadata": {
    "nbgrader": {
     "grade": false,
     "grade_id": "cell-377ceb2f92921288",
     "locked": true,
     "schema_version": 3,
     "solution": false,
     "task": false
    }
   },
   "source": [
    "**Question 1.4**\n",
    "<br>{points: 1}\n",
    "\n",
    "Note that to decide if we need to add interaction terms in the LR, we need to compare the following nested models:\n",
    "\n",
    "$$\\textbf{reduced}:\\text{prot}_t=\\beta_0 + \\beta_1 \\text{mrna}_{t} + \\beta_2 \\text{G2}_{t} + \\beta_3 \\text{G3}_{t} + \\varepsilon_t$$\n",
    "\n",
    "$$\\textbf{full}:\\text{prot}_t = \\beta_0 + \\beta_1 \\text{mrna}_{t} + \\beta_2 G2_{t}  + \\beta_3 G3_{t}  + \\beta_4 G2_{t} * \\text{mrna}_{t} + \\beta_5 G3_{t} * \\text{mrna}_{t} +\\varepsilon_t$$\n",
    "\n",
    "We want to test if the *additional terms of the full* model are useful to explain the observed variation in protein abundance.\n",
    "\n",
    "The $F$-test can be used to test *simultaneously* whether the additional parameters in the full model are zero. \n",
    "\n",
    "In plain words, the hypotheses ($H_0$ versus $H_1$) are the following:\n",
    "\n",
    "$H_0$: The additional coefficients (of the interaction terms) in the full model are equal to zero\n",
    "\n",
    "$H_1$: At least one of the additional coefficients in the full model is different from zero\n",
    "\n",
    "What is the mathematical translation of these hypotheses for our pair of MLR models?\n",
    "\n",
    "**A.** $H_0: \\beta_0 = \\beta_1 = \\beta_2 = \\beta_3 = 0$ vs. $H_1: \\text{at least one } \\beta_j \\neq 0 \\text{ (for } $j = 0, 1, 2, 3$ \\text{)}$\n",
    "\n",
    "**B.** $H_0: \\beta_1 = \\beta_2 = \\beta_3 = 0$ vs. $H_1: \\text{at least one } \\beta_j \\neq 0 \\text{ (for } $j = 1, 2, 3$ \\text{)}$\n",
    "\n",
    "**C.** $H_0: \\beta_4 = \\beta_5 = 0$ vs. $H_1: \\beta_4 \\neq 0 \\text{ and } \\beta_5 \\neq 0$\n",
    "\n",
    "**D.** $H_0: \\beta_4 = \\beta_5 = 0$ vs. $H_1: \\text{at least one } \\beta_j \\neq 0 \\text{ (for } $j = 4, 5$ \\text{)}$\n",
    "\n",
    "**E.** $H_0: \\hat{\\beta}_4 = \\hat{\\beta}_5 = 0$ vs. $H_1: \\text{at least one } \\hat{\\beta}_j \\neq 0 \\text{ (for } $j = 4, 5$ \\text{)}$\n",
    "\n",
    "*Assign your answer to an object called `answer2.4`. Your answer should be one of `\"A\"`, `\"B\"`, `\"C\"`, `\"D\"`, or `\"E\"` surrounded by quotes.*"
   ]
  },
  {
   "cell_type": "code",
   "execution_count": null,
   "metadata": {
    "nbgrader": {
     "grade": false,
     "grade_id": "cell-9d0d4fac52a22f63",
     "locked": false,
     "schema_version": 3,
     "solution": true,
     "task": false
    }
   },
   "outputs": [],
   "source": [
    "# answer1.4 <- \n",
    "\n",
    "### BEGIN SOLUTION\n",
    "answer1.4 <- \"D\"\n",
    "### END SOLUTION"
   ]
  },
  {
   "cell_type": "code",
   "execution_count": null,
   "metadata": {
    "nbgrader": {
     "grade": true,
     "grade_id": "cell-6c817e4c8dcc41ee",
     "locked": true,
     "points": 1,
     "schema_version": 3,
     "solution": false,
     "task": false
    }
   },
   "outputs": [],
   "source": [
    "test_1.4()"
   ]
  },
  {
   "cell_type": "markdown",
   "metadata": {
    "nbgrader": {
     "grade": false,
     "grade_id": "cell-348868b77e38ce14",
     "locked": true,
     "schema_version": 3,
     "solution": false,
     "task": false
    }
   },
   "source": [
    "**Question 1.5**\n",
    "<br>{points: 1}\n",
    "\n",
    "Use the function `anova` to obtain the $F$-statistic and its associated $p$-value for the test of $H_0$ versus $H_1$.\n",
    "\n",
    "Store your results in an object called `Ftest_3genes_full_reduced`.\n",
    "\n",
    "*Fill out those parts indicated with `...`, uncomment the corresponding code in the cell below, and run it.*"
   ]
  },
  {
   "cell_type": "code",
   "execution_count": null,
   "metadata": {
    "nbgrader": {
     "grade": false,
     "grade_id": "cell-77472b95a740aaef",
     "locked": false,
     "schema_version": 3,
     "solution": true,
     "task": false
    }
   },
   "outputs": [],
   "source": [
    "# Ftest_3genes_full_reduced <- ...(..., ...) %>% mutate_if(is.numeric, round, 3)\n",
    "# Ftest_3genes_full_reduced\n",
    "\n",
    "### BEGIN SOLUTION\n",
    "Ftest_3genes_full_reduced <- anova(mlr_3genes_add, mlr_3genes_int) %>% mutate_if(is.numeric, round, 3)\n",
    "Ftest_3genes_full_reduced\n",
    "### END SOLUTION"
   ]
  },
  {
   "cell_type": "code",
   "execution_count": null,
   "metadata": {
    "nbgrader": {
     "grade": true,
     "grade_id": "cell-6a786727cc958fbc",
     "locked": true,
     "points": 1,
     "schema_version": 3,
     "solution": false,
     "task": false
    }
   },
   "outputs": [],
   "source": [
    "test_1.5()"
   ]
  },
  {
   "cell_type": "markdown",
   "metadata": {
    "nbgrader": {
     "grade": false,
     "grade_id": "cell-feb2eb0cfc2c0ad5",
     "locked": true,
     "schema_version": 3,
     "solution": false,
     "task": false
    }
   },
   "source": [
    "**Question 1.6**\n",
    "<br>{points: 1}\n",
    "\n",
    "Using a significance level $\\alpha = 0.05$ and the results in `Ftest_3genes_full_reduced`, in plain words, what is the conclusion of the hypotheses stated in **Question 1.4**?\n",
    "\n",
    "**A.** We reject the null hypothesis; thus, the *full* model is significatly better than the *reduced* model.\n",
    "\n",
    "**B.** We fail to reject the null hypothesis; thus, there is not enough evidence that the *full* model with additional interaction terms is better than the additive (reduced) model.\n",
    "\n",
    "**C.** We accept the alternative hypothesis; thus, the *full* model is significantly better than the *reduced* model.\n",
    "\n",
    "**D.** We do not accept the alternative hypothesis; thus, the *full* model with additional interaction terms is not better than the *reduced* model.\n",
    "\n",
    "*Assign your answer to an object called `answer1.6`. Your answer should be one of `\"A\"`, `\"B\"`, `\"C\"`, or `\"D\"` surrounded by quotes.*"
   ]
  },
  {
   "cell_type": "code",
   "execution_count": null,
   "metadata": {
    "nbgrader": {
     "grade": false,
     "grade_id": "cell-1fafb5ef90566bcb",
     "locked": false,
     "schema_version": 3,
     "solution": true,
     "task": false
    }
   },
   "outputs": [],
   "source": [
    "# answer1.6 <- \n",
    "\n",
    "### BEGIN SOLUTION\n",
    "answer1.6 <- \"B\"\n",
    "### END SOLUTION"
   ]
  },
  {
   "cell_type": "code",
   "execution_count": null,
   "metadata": {
    "nbgrader": {
     "grade": true,
     "grade_id": "cell-2a29bf3dbf308272",
     "locked": true,
     "points": 1,
     "schema_version": 3,
     "solution": false,
     "task": false
    },
    "scrolled": false
   },
   "outputs": [],
   "source": [
    "test_1.6()"
   ]
  },
  {
   "cell_type": "markdown",
   "metadata": {
    "nbgrader": {
     "grade": false,
     "grade_id": "cell-4e97586f9cff53e1",
     "locked": true,
     "schema_version": 3,
     "solution": false,
     "task": false
    }
   },
   "source": [
    "**Observation in the context of the case study**\n",
    "\n",
    "Note that at least for these 3 genes, there is no evidence that the \"translation rate is a fundamental, encoded (constant) *characteristic of a transcript [gene]*\" (as claimed in the paper."
   ]
  },
  {
   "cell_type": "markdown",
   "metadata": {
    "nbgrader": {
     "grade": false,
     "grade_id": "cell-c52a18cc8af85c36",
     "locked": true,
     "schema_version": 3,
     "solution": false,
     "task": false
    }
   },
   "source": [
    "**Question 1.7**\n",
    "<br>{points: 1}\n",
    "\n",
    "We can also test whether any of these 2 models (the additive model or the model with interaction) are statistically different from an intercept-only model. For example:\n",
    "\n",
    "$$\\textbf{reduced}:\\text{prot}_t=\\beta_0 + \\varepsilon_t$$\n",
    "\n",
    "$$\\textbf{full}:\\text{prot}_t=\\beta_0 + \\beta_1 \\text{mrna}_{t} + \\beta_2 \\text{G2}_{t} + \\beta_3 \\text{G3}_{t} + \\varepsilon_t$$\n",
    "\n",
    "\n",
    "In plain words, the hypotheses ($H_0$ versus $H_1$) are the following:\n",
    "\n",
    "$H_0$: Excluding the intercept, all the regression coefficients in the full model are equal to zero. \n",
    "\n",
    "$H_1$: Excluding the intercept, at least one of the regression coefficients in the full model is different from zero.\n",
    "\n",
    "What is the mathematical translation of these hypotheses for our pair of MLR models?\n",
    "\n",
    "**A.** $H_0: \\beta_1 = \\beta_2 = \\beta_3 = \\beta_4 = \\beta_5 = 0$ vs. $H_1: \\text{at least one } \\beta_j \\neq 0 \\text{ (for } $j = 1, 2, 3, 4, 5$ \\text{)}$\n",
    "\n",
    "**B.** $H_0: \\beta_0 = \\beta_1 = \\beta_2 = \\beta_3 = \\beta_4 = \\beta_5 = 0$ vs. $H_1: \\text{at least one } \\beta_j \\neq 0 \\text{ (for } $j = 0, 1, 2, 3, 4, 5$ \\text{)}$\n",
    "\n",
    "**C.** $H_0: \\beta_1 = \\beta_2 = \\beta_3 = \\beta_4 = \\beta_5 = 0$ vs. $H_1: \\beta_1 \\neq 0 \\text{ and } \\beta_2 \\neq 0 \\text{ and } \\beta_3 \\neq 0 \\text{ and } \\beta_4 \\neq 0 \\text{ and } \\beta_5 \\neq 0$\n",
    "\n",
    "**D.** $H_0: \\hat{\\beta}_1 = \\hat{\\beta}_2 = \\hat{\\beta}_3 = \\hat{\\beta}_4 = \\hat{\\beta}_5 = 0$ vs. $H_1: \\text{at least one } \\hat{\\beta}_j \\neq 0 \\text{ (for } $j = 1, 2, 3, 4, 5$ \\text{)}$\n",
    "\n",
    "*Assign your answer to an object called `answer1.7`. Your answer should be one of `\"A\"`, `\"B\"`, `\"C\"`, or `\"D\"` surrounded by quotes.*"
   ]
  },
  {
   "cell_type": "code",
   "execution_count": null,
   "metadata": {
    "nbgrader": {
     "grade": false,
     "grade_id": "cell-499121ebfc0f64c7",
     "locked": false,
     "schema_version": 3,
     "solution": true,
     "task": false
    }
   },
   "outputs": [],
   "source": [
    "# answer1.7 <- \n",
    "\n",
    "### BEGIN SOLUTION\n",
    "answer1.7 <- \"A\"\n",
    "### END SOLUTION"
   ]
  },
  {
   "cell_type": "code",
   "execution_count": null,
   "metadata": {
    "nbgrader": {
     "grade": true,
     "grade_id": "cell-b65c4a6933d524a1",
     "locked": true,
     "points": 1,
     "schema_version": 3,
     "solution": false,
     "task": false
    },
    "scrolled": true
   },
   "outputs": [],
   "source": [
    "test_1.7()"
   ]
  },
  {
   "cell_type": "markdown",
   "metadata": {
    "nbgrader": {
     "grade": false,
     "grade_id": "cell-04dfc9903e2bbf13",
     "locked": true,
     "schema_version": 3,
     "solution": false,
     "task": false
    }
   },
   "source": [
    "To test $H_0$ versus $H_1$ with an $F$-test, you can either use the function `anova` as before or obtain the $F$-statistic and its associated $p$-value from the function `glance()`.\n",
    "\n",
    "> note `glance()` can *only* be used when the reduced model is the intercept-empty model. For other reduced models you need to use `anova()`\n",
    "\n",
    "See the columns `statistic` and `p.value` in `Prestige_MLR_Int_statistics`.\n",
    "\n",
    "*Run the cell below before continuing.*"
   ]
  },
  {
   "cell_type": "markdown",
   "metadata": {
    "nbgrader": {
     "grade": false,
     "grade_id": "cell-bbb46fd7929b1425",
     "locked": true,
     "schema_version": 3,
     "solution": false,
     "task": false
    }
   },
   "source": [
    "#### Additive vs intercept-only"
   ]
  },
  {
   "cell_type": "code",
   "execution_count": null,
   "metadata": {
    "nbgrader": {
     "grade": false,
     "grade_id": "cell-8ee5335298116580",
     "locked": true,
     "schema_version": 3,
     "solution": false,
     "task": false
    },
    "scrolled": true
   },
   "outputs": [],
   "source": [
    "intercept_3genes <- lm(prot~1,data=dat_3genes)\n",
    "\n",
    "anova(intercept_3genes,mlr_3genes_add)\n",
    "glance(mlr_3genes_add)  %>% select(r.squared, statistic, p.value)"
   ]
  },
  {
   "cell_type": "markdown",
   "metadata": {
    "nbgrader": {
     "grade": false,
     "grade_id": "cell-bae53d91a52b45c4",
     "locked": true,
     "schema_version": 3,
     "solution": false,
     "task": false
    }
   },
   "source": [
    "#### Interaction vs intercept-only"
   ]
  },
  {
   "cell_type": "markdown",
   "metadata": {
    "nbgrader": {
     "grade": false,
     "grade_id": "cell-0fbccf4edd998dda",
     "locked": true,
     "schema_version": 3,
     "solution": false,
     "task": false
    }
   },
   "source": [
    "**Question 1.8**\n",
    "<br>{points: 1}\n",
    "\n",
    "Use the function `glance` to obtain the $F$-statistic and its associated $p$-value for the test if the LR with *gene-specific* coefficients (model with interaction) using `dat_3genes` gives a better prediction than the mean protein value of these 3 genes.\n",
    "\n",
    "Store $F-test$ and its correspoinding $p$-value in an object called `Ftest_3genes_interaction`.\n",
    "\n",
    "*Fill out those parts indicated with `...`, uncomment the corresponding code in the cell below, and run it.*"
   ]
  },
  {
   "cell_type": "code",
   "execution_count": null,
   "metadata": {
    "nbgrader": {
     "grade": false,
     "grade_id": "cell-20ab328a3e81d820",
     "locked": false,
     "schema_version": 3,
     "solution": true,
     "task": false
    }
   },
   "outputs": [],
   "source": [
    "# Ftest_3genes_interaction  <- glance(...)  %>% \n",
    "#        select(..., ...)\n",
    "\n",
    "# Ftest_3genes_interaction \n",
    "\n",
    "### BEGIN SOLUTION\n",
    "Ftest_3genes_interaction  <- glance(mlr_3genes_int)  %>% \n",
    "        select(statistic, p.value)\n",
    "\n",
    "Ftest_3genes_interaction \n",
    "### END SOLUTION"
   ]
  },
  {
   "cell_type": "code",
   "execution_count": null,
   "metadata": {
    "nbgrader": {
     "grade": true,
     "grade_id": "cell-04654b98a6306078",
     "locked": true,
     "points": 1,
     "schema_version": 3,
     "solution": false,
     "task": false
    }
   },
   "outputs": [],
   "source": [
    "test_1.8()"
   ]
  },
  {
   "cell_type": "markdown",
   "metadata": {
    "nbgrader": {
     "grade": false,
     "grade_id": "cell-af974191c796a1fa",
     "locked": true,
     "schema_version": 3,
     "solution": false,
     "task": false
    }
   },
   "source": [
    "Note that in both case, there is enough evidence to reject the null hypothesis. Thus, both the additive and the model with interaction are significantly better than the intercept-only model.\n",
    "\n",
    "**However**, this does not prove that `mRNA` is essential to predict protein abundance\n",
    "\n",
    "> **Why??**"
   ]
  },
  {
   "cell_type": "markdown",
   "metadata": {
    "nbgrader": {
     "grade": false,
     "grade_id": "cell-cd7017f83f911799",
     "locked": true,
     "schema_version": 3,
     "solution": false,
     "task": false
    }
   },
   "source": [
    "#### Assessing mRNA "
   ]
  },
  {
   "cell_type": "markdown",
   "metadata": {
    "nbgrader": {
     "grade": false,
     "grade_id": "cell-67b62ec15b1b6a6e",
     "locked": true,
     "schema_version": 3,
     "solution": false,
     "task": false
    }
   },
   "source": [
    "**Question 1.9**\n",
    "<br>{points: 1}\n",
    "\n",
    "Think which nested models need to be compared to determine if mRNA is a fundamental quantity to predict protein!!\n",
    "\n",
    "Compute the test using `anova` and store the results in an object called `Ftest_3genes_mrna`.\n",
    "\n",
    "*Test your understanding and work on your own!*"
   ]
  },
  {
   "cell_type": "code",
   "execution_count": null,
   "metadata": {
    "nbgrader": {
     "grade": false,
     "grade_id": "cell-a290ce6bc1a11890",
     "locked": false,
     "schema_version": 3,
     "solution": true,
     "task": false
    },
    "scrolled": true
   },
   "outputs": [],
   "source": [
    "#[write your code here]\n",
    "#Ftest_3genes_mrna\n",
    "\n",
    "### BEGIN SOLUTION\n",
    "\n",
    "lm_red <- lm(prot ~ gene, dat_3genes)\n",
    "lm_full <- lm(prot ~ gene * mrna, dat_3genes)\n",
    "\n",
    "Ftest_3genes_mrna  <- anova(lm_red,lm_full)\n",
    "Ftest_3genes_mrna\n",
    "### END SOLUTION"
   ]
  },
  {
   "cell_type": "code",
   "execution_count": null,
   "metadata": {
    "nbgrader": {
     "grade": true,
     "grade_id": "cell-155d2ad157394a2c",
     "locked": true,
     "points": 1,
     "schema_version": 3,
     "solution": false,
     "task": false
    }
   },
   "outputs": [],
   "source": [
    "test_1.9()"
   ]
  },
  {
   "cell_type": "markdown",
   "metadata": {
    "nbgrader": {
     "grade": false,
     "grade_id": "cell-9dac937e51857aca",
     "locked": true,
     "schema_version": 3,
     "solution": false,
     "task": false
    }
   },
   "source": [
    "## 2. Prediction\n",
    "\n",
    "How do we evaluate the predictive performance of a model?\n",
    "\n",
    "- **Mean Squared Error**: MSE = $\\frac{1}{n}\\sum_{i=1}^n(y_i - \\hat{y}_i)^2$\n",
    "\n",
    "> *Test MSE*: where $y_i$ are new responses from the test set and $\\hat{y}_i$ are predicted values using the LR estimated with training data\n",
    "\n",
    "- **$R^2$**: $R^2 = 1 - \\frac{RSS}{TSS}$\n",
    "\n",
    "> Can we compute the $R^2$ on the test set??\n",
    "    \n",
    "Yes, as we mentioned for the MSE, the $R^2$ can be computed for new responses in a test set $y_{new}$ compared to the predicted values obtained using the trained LR, $\\hat{y}_{new}$   \n",
    "    \n",
    "> some functions compute the $R^2$ from a validation set or using cross validation (perhaps seen in other courses)   \n",
    "    \n",
    "> however, note that it is *no longer the coefficient of determination*. It measures the correlation between the true and the predicted responses *in a test set*   \n",
    "\n",
    "**We'll see examples in future lectures**"
   ]
  },
  {
   "cell_type": "markdown",
   "metadata": {
    "nbgrader": {
     "grade": false,
     "grade_id": "cell-a7f0358b7a8d93f7",
     "locked": true,
     "schema_version": 3,
     "solution": false,
     "task": false
    }
   },
   "source": [
    "## Conclusions of PART I\n",
    "\n",
    "#### Evaluation of Models when the main goal is estimation and inference:\n",
    "\n",
    "- The $R^2$, coefficient of determination, can be used to compared the sum of squares of the residuals of the fitted model with that of the null model\n",
    "\n",
    "\n",
    "- The $R^2$ is usually interpreted as the part of the variation in the response explained by the model\n",
    "\n",
    "\n",
    "- Many definitions and interpretations of the $R^2$ are for LS estimators of LR containing an intercept\n",
    "\n",
    "\n",
    "- The $R^2$ is not a test and it does not provide a probabilistic result and it's distribution is unknown!\n",
    "\n",
    "\n",
    "- Instead, we can use an $F$ test, also refer as ANOVA, to compare nested models\n",
    "\n",
    "    - tests the simultaneous significance of additional coefficients of the full model (not in the reduced model)\n",
    "    \n",
    "    - in particular, we can use it to test the significance of the fitted model over the null model\n",
    "    \n",
    "\n",
    "- These $F$ tests can be used to select variables!! since we are comparing and testing how the fit changes as we select variables\n",
    "\n",
    "#### Evaluation of Models when the main goal is prediction:\n",
    "\n",
    "- The test MSE is a natural measure to compare new responses from a test set with the predicted values $\\hat{y}_i$ from the LR estimated with training data\n",
    "\n",
    "- The $R^2$ based on test data can also be used but it should not be called a \"coefficient of determination\" "
   ]
  },
  {
   "cell_type": "markdown",
   "metadata": {
    "nbgrader": {
     "grade": false,
     "grade_id": "cell-0e49ee209f5c4f94",
     "locked": true,
     "schema_version": 3,
     "solution": false,
     "task": false
    }
   },
   "source": [
    "# PART II: Variable (model) selection"
   ]
  },
  {
   "cell_type": "markdown",
   "metadata": {
    "nbgrader": {
     "grade": false,
     "grade_id": "cell-f968abd3ee677d53",
     "locked": true,
     "schema_version": 3,
     "solution": false,
     "task": false
    }
   },
   "source": [
    "#### Do we need all the available predictors in the model?\n",
    "\n",
    "Some datasets contain *many* variables but not all are relevant\n",
    "\n",
    "> you may want to identify the *most relevant* variables to build a model\n",
    "\n",
    "But again: \n",
    "    \n",
    "#### <font color=red>  What is your goal??\n",
    "    \n",
    "> inference vs prediction\n",
    "    \n",
    "To decide if a variable (or set of variables) is relevant or not we need to choose an evaluation metric\n",
    "    \n",
    "As we have just discussed, the evaluation metric used depends on the goal of the analysis!!"
   ]
  },
  {
   "cell_type": "markdown",
   "metadata": {
    "nbgrader": {
     "grade": false,
     "grade_id": "cell-ea806819f87e3fec",
     "locked": true,
     "schema_version": 3,
     "solution": false,
     "task": false
    }
   },
   "source": [
    "## 1. Variable selection when the main goal is estimation and inference\n",
    "\n",
    "Do all the predictors help to explain the response, or is only a subset of the predictors useful?\n",
    "\n",
    "- ###  The $F$-test\n",
    "\n",
    "We can respond to this question testing if some coefficients are zero:\n",
    "\n",
    "#### $$H_0: \\beta_{q+1} = \\beta_{q+2} = \\ldots = \\beta_s=0$$\n",
    "\n",
    "versus the alternative\n",
    "\n",
    "#### $$H_1: \\text{ at least one of the coefficients in the questionable subset is different from 0}$$\n",
    "\n",
    "#### In PART I, we've learned that we can use an $F$-test to compare nested models and answer to this question\n",
    "\n",
    "> you can use `anova` to compare a full model (with all terms) vs a reduced model (which excludes terms from $q+1$ to $s$)"
   ]
  },
  {
   "cell_type": "markdown",
   "metadata": {
    "nbgrader": {
     "grade": false,
     "grade_id": "cell-578399986fc057c8",
     "locked": true,
     "schema_version": 3,
     "solution": false,
     "task": false
    }
   },
   "source": [
    "- ### The $t$- tests:\n",
    "\n",
    "In previous lectures we evaluated the contribution of individual variables to explain a response using $t$-tests calculated by `lm` and given in the `tidy` table:\n",
    "\n",
    "$$H_0: \\beta_j = 0,  \\text{ versus }  H_1: \\beta_j \\neq 0$$ \n",
    "\n",
    "> $H_0$ contains only *one* coefficient\n",
    "\n",
    "The results of the $t$-tests evaluate the contribution of *each* variable (separately) to explain the variation observed in the response ***with all other variables included*** in the model!!\n",
    "\n",
    "> sometimes refer as: \"after controlling for other explanatory variables\"\n",
    "\n",
    "#### Thus, we can use the results of these tests to establish a *selection rule* to evaluate variables one at a time:\n",
    "\n",
    "> for example: discard variables with *p-values* above a threshold\n",
    "\n",
    "> *caution note 1*: if there are many variables in the model (i.e., $p$ is large) using individual $t$-tests may result in many false discoveries (i.e., erroneously reject a true $H_0$)\n",
    "\n",
    "> *caution note2*: the *training* set is used (over an over) to select so it can't be used again to assess the final significance of the model. This problem is known as the *post-inference* problem"
   ]
  },
  {
   "cell_type": "markdown",
   "metadata": {
    "nbgrader": {
     "grade": false,
     "grade_id": "cell-c2b4c5148c19a5ff",
     "locked": true,
     "schema_version": 3,
     "solution": false,
     "task": false
    }
   },
   "source": [
    "- ### The $R^2$ (or the RSS) and the adjusted $R^2$:\n",
    "\n",
    "Can we compare the coefficient of determinations of two models to select the best one?\n",
    "\n",
    "The RSS decreases as more variables are included in the model!! \n",
    "\n",
    "> so the $R^2$ of bigger models are *always* larger than the $R^2$ of nested models! <font color=red> *regardless of the relevance of the variables added*\n",
    "    \n",
    "To overcome this problem the **adjusted $R^2$** has been proposed:\n",
    "\n",
    "$$ \\text{adjusted } R^2 = 1- \\frac{RSS/(n-p-1)}{TSS/(n-1)} $$ \n",
    "\n",
    "> note that the RSS is penalized by the degrees of freedom. Even if the RSS decreases we divide it by a smaller number to compensate for the size of the model\n",
    "\n",
    "Thus,\n",
    "\n",
    "#### You can use the $R^2$ to compare models of equal size (not necessarily nested) \n",
    "\n",
    "or \n",
    "\n",
    "#### You can use the adjusted $R^2$ to compare models of different sizes (not necessarily nested)   "
   ]
  },
  {
   "cell_type": "markdown",
   "metadata": {
    "nbgrader": {
     "grade": false,
     "grade_id": "cell-dceb179479d61e36",
     "locked": true,
     "schema_version": 3,
     "solution": false,
     "task": false
    }
   },
   "source": [
    "#### The $F$-statistic vs the $R^2$ and the adjusted $R^2$:\n",
    "\n",
    "- The $F$-statistic can be used *only* to compare *nested models*\n",
    "\n",
    "> $R^2$ and the adjusted $R^2$ can be used to compare any set of models of equal size!    \n",
    "    \n",
    "- The $F$-statistic is computed on the *training* set so it is only useful to understand if a subset of predictors is useful to explain the response (inference)\n",
    "    \n",
    "> same for the coefficient of determination (formal definition of $R^2$)\n",
    "    \n",
    "> however, we can compute the correlation between the observed and the predicted responses in a test set (in the context of prediction). Just be careful about the conclusions of this analysis!    "
   ]
  },
  {
   "cell_type": "markdown",
   "metadata": {
    "nbgrader": {
     "grade": false,
     "grade_id": "cell-8f8a4c8fe2b330e5",
     "locked": true,
     "schema_version": 3,
     "solution": false,
     "task": false
    }
   },
   "source": [
    "### 1.2 An automated proceedure\n",
    "\n",
    "When we don't have any idea about which variables should be included in the model, ideally, you want to select the best model out of *all possible models* of all possible sizes. \n",
    "\n",
    "> For example: if the dataset has 2 explanatory variables $X_1$ and $X_2$, there are 4 models to compare: (1) an intercept-only model, (2) a model with only $X_1$, (3) a model with only $X_2$, and (4) a model with both $X_1$ and $X_2$. \n",
    "\n",
    "However, the number of *all possible* models become too large rapidely, even for small subset of variables\n",
    "\n",
    "> there are a total of $2^p$ models from a set of $p$ variables\n",
    "\n",
    "> if $p = 20$ (20 available explanatory variables) we need to evaluate more than a million models! \n",
    "\n",
    "There are methods to search more efficiently for a good model (although it may not find the \"best\" one out of all possible):"
   ]
  },
  {
   "cell_type": "markdown",
   "metadata": {
    "nbgrader": {
     "grade": false,
     "grade_id": "cell-2ea56a1329163900",
     "locked": true,
     "schema_version": 3,
     "solution": false,
     "task": false
    }
   },
   "source": [
    "- **Forward selection**: \n",
    "Image from [ISLR](http://faculty.marshall.usc.edu/gareth-james/ISL/ISLR%20Seventh%20Printing.pdf)\n",
    "\n",
    "![](https://github.com/UBC-STAT/stat-301/blob/master/materials/worksheet_07/img/forward.png?raw=true)"
   ]
  },
  {
   "cell_type": "markdown",
   "metadata": {
    "nbgrader": {
     "grade": false,
     "grade_id": "cell-171001924db231a0",
     "locked": true,
     "schema_version": 3,
     "solution": false,
     "task": false
    }
   },
   "source": [
    "1. Start with the intercept only model: $y_i = \\beta_0 + \\varepsilon_i$\n",
    "\n",
    "> remember that $\\hat{\\beta}_0 = \\bar{y}$ from the training samples, so $\\hat{y}_{0} = \\bar{y}$ for any observation (from the training or the test set)\n",
    "\n",
    "2. Select the best model of each size\n",
    "\n",
    "**Size 1** Evaluate all models of size 1, choose the best model of size 1 (based on RSS, equal size models), call it $\\mathcal{M}_1$. \n",
    "\n",
    "**Size 2** Starting with the best size 1 model, add 1 variable and evaluate all models of size 2. Choose the best model of size 2 (based on RSS), call it $\\mathcal{M}_2$.\n",
    "\n",
    "\n",
    "$\\ldots$ continue until you reach the full model\n",
    "\n",
    "\n",
    "**Size p** there's only one full model, call it $\\mathcal{M}_p$.\n",
    "\n",
    "> note that we can stop this iteration earlier if we want a model of a predetermined size\n",
    "\n",
    "3. Now we have to select the best out of $p$ models: $\\mathcal{M}_1$ (the best model of size 1), $\\mathcal{M}_2$ (the best model of size 2 evaluated), $\\ldots, \\mathcal{M}_p$ (the full model of size $p$)\n",
    "\n",
    "> you can't use the RSS to compare models of different sizes\n",
    "\n",
    "> depending on the goal of the study you can use the adjusted $R^2$ (for *inference*), or test MSE, the $C_p$ (proportional to AIC) or the BIC (*for prediction*)"
   ]
  },
  {
   "cell_type": "markdown",
   "metadata": {
    "nbgrader": {
     "grade": false,
     "grade_id": "cell-375ca4d284414316",
     "locked": true,
     "schema_version": 3,
     "solution": false,
     "task": false
    }
   },
   "source": [
    "Other selection procedures include:\n",
    "\n",
    "- **Backward selection**: start with the full model and remove variables, one at a time\n",
    "\n",
    "\n",
    "- **Hybrid selection**: after adding a variable, the method may also remove variables \n",
    "\n",
    "### 2. Prediction\n",
    "\n",
    "Regularization offers an alternative way to select a model by penalizing the RSS\n",
    "\n",
    "> e.g., lasso \n",
    "\n",
    "These are different *estimation methods* that estimate coefficients to be exactly zero\n",
    "\n",
    "> they are mainly used when the goal is to predict (more coming next week!)"
   ]
  },
  {
   "cell_type": "markdown",
   "metadata": {
    "nbgrader": {
     "grade": false,
     "grade_id": "cell-b9a37f4c49eb356b",
     "locked": true,
     "schema_version": 3,
     "solution": false,
     "task": false
    }
   },
   "source": [
    "# Summary\n",
    "\n",
    "- We have reviewed different metrics to evaluate a model \n",
    "   \n",
    "   \n",
    "- Different metrics should be used depending on the goal of the analysis: inference vs prediction\n",
    "\n",
    "\n",
    "- It is important to understand the set used to compute these metrics: training vs test sets\n",
    "\n",
    "\n",
    "- Different procedures exist to automate an efficient search of a good model: greedy variable selection"
   ]
  }
 ],
 "metadata": {
  "celltoolbar": "Create Assignment",
  "jupytext": {
   "formats": "ipynb,Rmd"
  },
  "kernelspec": {
   "display_name": "R",
   "language": "R",
   "name": "ir"
  },
  "language_info": {
   "codemirror_mode": "r",
   "file_extension": ".r",
   "mimetype": "text/x-r-source",
   "name": "R",
   "pygments_lexer": "r",
   "version": "4.1.3"
  },
  "latex_envs": {
   "LaTeX_envs_menu_present": true,
   "autoclose": false,
   "autocomplete": true,
   "bibliofile": "biblio.bib",
   "cite_by": "apalike",
   "current_citInitial": 1,
   "eqLabelWithNumbers": true,
   "eqNumInitial": 1,
   "hotkeys": {
    "equation": "Ctrl-E",
    "itemize": "Ctrl-I"
   },
   "labels_anchors": false,
   "latex_user_defs": false,
   "report_style_numbering": false,
   "user_envs_cfg": false
  }
 },
 "nbformat": 4,
 "nbformat_minor": 4
}
