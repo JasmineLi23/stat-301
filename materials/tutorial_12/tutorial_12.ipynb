{
 "cells": [
  {
   "cell_type": "markdown",
   "metadata": {
    "nbgrader": {
     "grade": false,
     "grade_id": "cell-f1e1d845873036f4",
     "locked": true,
     "schema_version": 3,
     "solution": false,
     "task": false
    }
   },
   "source": [
    "# Tutorial 12: Introduction to Explanatory Modeling when the Response Variable is Categorical or Discrete Counts"
   ]
  },
  {
   "cell_type": "markdown",
   "metadata": {
    "nbgrader": {
     "grade": false,
     "grade_id": "cell-82d9926086d47a80",
     "locked": true,
     "schema_version": 3,
     "solution": false,
     "task": false
    }
   },
   "source": [
    "#### Lecture and Tutorial Learning Goals:\n",
    "After completing this week's lecture and tutorial work, you will be able to:\n",
    "\n",
    "1. Describe the logistic regression estimation procedure (categorical data as the response variable and explanatory variables), and Poisson regression estimation procedure (discrete counts as the response variable and explanatory variables).\n",
    "2. Discuss the relationship between linear regression and logistic and Poisson regression. Discuss the consequences of modeling data that is more suitable for logistic and Poisson regression models as a linear regression model.\n",
    "3. Interpret the coefficients and $p$-values in the logistic and Poisson regression settings.\n",
    "4. Discuss useful diagnostics for logistic and Poisson regression and explain why they should be performed.\n",
    "5. Write a computer script to perform logistic and Poisson regression and perform model diagnostics. Interpret and communicate the results from that computer script."
   ]
  },
  {
   "cell_type": "code",
   "execution_count": 1,
   "metadata": {
    "nbgrader": {
     "grade": false,
     "grade_id": "cell-a2a153352bc44a68",
     "locked": true,
     "schema_version": 3,
     "solution": false,
     "task": false
    },
    "scrolled": false
   },
   "outputs": [
    {
     "name": "stderr",
     "output_type": "stream",
     "text": [
      "── \u001b[1mAttaching packages\u001b[22m ─────────────────────────────────────── tidyverse 1.3.1 ──\n",
      "\n",
      "\u001b[32m✔\u001b[39m \u001b[34mggplot2\u001b[39m 3.3.5     \u001b[32m✔\u001b[39m \u001b[34mpurrr  \u001b[39m 0.3.4\n",
      "\u001b[32m✔\u001b[39m \u001b[34mtibble \u001b[39m 3.1.4     \u001b[32m✔\u001b[39m \u001b[34mdplyr  \u001b[39m 1.0.7\n",
      "\u001b[32m✔\u001b[39m \u001b[34mtidyr  \u001b[39m 1.1.3     \u001b[32m✔\u001b[39m \u001b[34mstringr\u001b[39m 1.4.0\n",
      "\u001b[32m✔\u001b[39m \u001b[34mreadr  \u001b[39m 2.0.1     \u001b[32m✔\u001b[39m \u001b[34mforcats\u001b[39m 0.5.1\n",
      "\n",
      "── \u001b[1mConflicts\u001b[22m ────────────────────────────────────────── tidyverse_conflicts() ──\n",
      "\u001b[31m✖\u001b[39m \u001b[34mdplyr\u001b[39m::\u001b[32mfilter()\u001b[39m masks \u001b[34mstats\u001b[39m::filter()\n",
      "\u001b[31m✖\u001b[39m \u001b[34mdplyr\u001b[39m::\u001b[32mlag()\u001b[39m    masks \u001b[34mstats\u001b[39m::lag()\n",
      "\n",
      "\n",
      "Attaching package: ‘gridExtra’\n",
      "\n",
      "\n",
      "The following object is masked from ‘package:dplyr’:\n",
      "\n",
      "    combine\n",
      "\n",
      "\n",
      "Loading required package: car\n",
      "\n",
      "Loading required package: carData\n",
      "\n",
      "\n",
      "Attaching package: ‘car’\n",
      "\n",
      "\n",
      "The following object is masked from ‘package:dplyr’:\n",
      "\n",
      "    recode\n",
      "\n",
      "\n",
      "The following object is masked from ‘package:purrr’:\n",
      "\n",
      "    some\n",
      "\n",
      "\n",
      "Loading required package: lmtest\n",
      "\n",
      "Loading required package: zoo\n",
      "\n",
      "\n",
      "Attaching package: ‘zoo’\n",
      "\n",
      "\n",
      "The following objects are masked from ‘package:base’:\n",
      "\n",
      "    as.Date, as.Date.numeric\n",
      "\n",
      "\n",
      "Loading required package: sandwich\n",
      "\n",
      "Loading required package: survival\n",
      "\n",
      "\n",
      "Attaching package: ‘qqplotr’\n",
      "\n",
      "\n",
      "The following objects are masked from ‘package:ggplot2’:\n",
      "\n",
      "    stat_qq_line, StatQqLine\n",
      "\n",
      "\n",
      "\n",
      "Attaching package: ‘MASS’\n",
      "\n",
      "\n",
      "The following object is masked from ‘package:dplyr’:\n",
      "\n",
      "    select\n",
      "\n",
      "\n"
     ]
    },
    {
     "name": "stdout",
     "output_type": "stream",
     "text": [
      "Error in get(genname, envir = envir) : object 'testthat_print' not found\n"
     ]
    },
    {
     "name": "stderr",
     "output_type": "stream",
     "text": [
      "\n",
      "Attaching package: ‘testthat’\n",
      "\n",
      "\n",
      "The following object is masked from ‘package:dplyr’:\n",
      "\n",
      "    matches\n",
      "\n",
      "\n",
      "The following object is masked from ‘package:purrr’:\n",
      "\n",
      "    is_null\n",
      "\n",
      "\n",
      "The following object is masked from ‘package:tidyr’:\n",
      "\n",
      "    matches\n",
      "\n",
      "\n"
     ]
    }
   ],
   "source": [
    "# Run this cell before continuing.\n",
    "library(tidyverse)\n",
    "library(repr)\n",
    "library(digest)\n",
    "library(infer)\n",
    "library(gridExtra)\n",
    "library(mlbench)\n",
    "library(AER)\n",
    "library(ISLR)\n",
    "library(broom)\n",
    "library(qqplotr)\n",
    "library(performance)\n",
    "library(see)\n",
    "library(MASS)\n",
    "library(glmbb)\n",
    "library(cowplot)\n",
    "source(\"tests_tutorial_12.R\")"
   ]
  },
  {
   "cell_type": "markdown",
   "metadata": {
    "nbgrader": {
     "grade": false,
     "grade_id": "cell-801b28434bf00853",
     "locked": true,
     "schema_version": 3,
     "solution": false,
     "task": false
    }
   },
   "source": [
    "## 1. Poisson Regression\n",
    "\n",
    "Let us proceed with Poisson regression. This class of GLM is intended for cases where the response is a count (i.e., an integer). What do we mean by this? Firstly, we will load the dataset to be used in this section. The data frame `crabs` ([Brockmann, 1996](https://ubc.summon.serialssolutions.com/2.0.0/link/0/eLvHCXMwrV3JasMwEBUlpZBLl7Sl6YY_oE4sy5sgFEpICKU9NadcjFYSmtghCyRf0t-tJC_EPhRaepMHS8jSSPM0M3oGALkdx67tCYRyKV0GacCp9CBX60RCySMcYiigy2qpOq_F1ZiMLqL0v-mFYrZvvd4JXXcPEnOUZbU1z6W-fxdoh6eO-XQUvDyGCnXrbK_hxCkDDCHKgs9KH20FelDOR_pzWxXbdYhljTEanoF10e8iC6V2SbDK9Pg_H3gOTnPsar1kynYBjkTSAs1yC923wMkkNaVL8NVbkNXn8wcxjJ8b0euaZysTvyuzVJUYH9i6Kpsl1ijVOSbTtPZ2f6V6nYuectnbbLGdb2tNLNP5fjkVi1J-BcbDwbg_svOfQNhMIRdsu4KHEnIsIiQYJoGQvsKQmAuOsE8lojRnrPEIlZQHHIUEEs8PBVHQjaJr0EjSRNwAS8ebmMNk4DHkRYgQSt2ARoxRnzuhJG2AitmNlxnVR3x4REI41sMf6-GP8-GPd20QmVn7RZV4MB7p0u3fq96BZpY-rn1B96CxWW3FgyGOeDR6_g1rIQSN)) is a dataset detailing the **counts** of satellite male crabs residing around a female crab nest: `n_males`. \n",
    "\n",
    "> The data frame `crabs` contains 173 observations on horseshoe crabs (*Limulus polyphemus*). The response is the count of male crabs (`n_males`) around a female breeding nest. It is subject to four input variables: a factor for the `color` of the prosoma with four levels, a factor for the condition of the posterior `spine` with three levels, the continuous variables carapace `width` (cm), and `weight` (g).\n",
    "\n",
    "Run the cell below before proceeding."
   ]
  },
  {
   "cell_type": "code",
   "execution_count": 2,
   "metadata": {
    "nbgrader": {
     "grade": false,
     "grade_id": "cell-c42393c3147ab6d0",
     "locked": true,
     "schema_version": 3,
     "solution": false,
     "task": false
    }
   },
   "outputs": [
    {
     "name": "stdout",
     "output_type": "stream",
     "text": [
      "'data.frame':\t173 obs. of  5 variables:\n",
      " $ color  : Factor w/ 4 levels \"dark\",\"darker\",..: 4 1 3 1 1 4 3 1 4 1 ...\n",
      " $ spine  : Factor w/ 3 levels \"bad\",\"good\",\"middle\": 1 1 2 1 1 1 2 3 2 1 ...\n",
      " $ width  : num  28.3 22.5 26 24.8 26 23.8 26.5 24.7 23.7 25.6 ...\n",
      " $ n_males: int  8 0 9 0 4 0 0 0 0 0 ...\n",
      " $ weight : int  3050 1550 2300 2100 2600 2100 2350 1900 1950 2150 ...\n"
     ]
    },
    {
     "data": {
      "text/html": [
       "<table class=\"dataframe\">\n",
       "<caption>A data.frame: 6 × 5</caption>\n",
       "<thead>\n",
       "\t<tr><th></th><th scope=col>color</th><th scope=col>spine</th><th scope=col>width</th><th scope=col>n_males</th><th scope=col>weight</th></tr>\n",
       "\t<tr><th></th><th scope=col>&lt;fct&gt;</th><th scope=col>&lt;fct&gt;</th><th scope=col>&lt;dbl&gt;</th><th scope=col>&lt;int&gt;</th><th scope=col>&lt;int&gt;</th></tr>\n",
       "</thead>\n",
       "<tbody>\n",
       "\t<tr><th scope=row>1</th><td>medium</td><td>bad </td><td>28.3</td><td>8</td><td>3050</td></tr>\n",
       "\t<tr><th scope=row>2</th><td>dark  </td><td>bad </td><td>22.5</td><td>0</td><td>1550</td></tr>\n",
       "\t<tr><th scope=row>3</th><td>light </td><td>good</td><td>26.0</td><td>9</td><td>2300</td></tr>\n",
       "\t<tr><th scope=row>4</th><td>dark  </td><td>bad </td><td>24.8</td><td>0</td><td>2100</td></tr>\n",
       "\t<tr><th scope=row>5</th><td>dark  </td><td>bad </td><td>26.0</td><td>4</td><td>2600</td></tr>\n",
       "\t<tr><th scope=row>6</th><td>medium</td><td>bad </td><td>23.8</td><td>0</td><td>2100</td></tr>\n",
       "</tbody>\n",
       "</table>\n"
      ],
      "text/latex": [
       "A data.frame: 6 × 5\n",
       "\\begin{tabular}{r|lllll}\n",
       "  & color & spine & width & n\\_males & weight\\\\\n",
       "  & <fct> & <fct> & <dbl> & <int> & <int>\\\\\n",
       "\\hline\n",
       "\t1 & medium & bad  & 28.3 & 8 & 3050\\\\\n",
       "\t2 & dark   & bad  & 22.5 & 0 & 1550\\\\\n",
       "\t3 & light  & good & 26.0 & 9 & 2300\\\\\n",
       "\t4 & dark   & bad  & 24.8 & 0 & 2100\\\\\n",
       "\t5 & dark   & bad  & 26.0 & 4 & 2600\\\\\n",
       "\t6 & medium & bad  & 23.8 & 0 & 2100\\\\\n",
       "\\end{tabular}\n"
      ],
      "text/markdown": [
       "\n",
       "A data.frame: 6 × 5\n",
       "\n",
       "| <!--/--> | color &lt;fct&gt; | spine &lt;fct&gt; | width &lt;dbl&gt; | n_males &lt;int&gt; | weight &lt;int&gt; |\n",
       "|---|---|---|---|---|---|\n",
       "| 1 | medium | bad  | 28.3 | 8 | 3050 |\n",
       "| 2 | dark   | bad  | 22.5 | 0 | 1550 |\n",
       "| 3 | light  | good | 26.0 | 9 | 2300 |\n",
       "| 4 | dark   | bad  | 24.8 | 0 | 2100 |\n",
       "| 5 | dark   | bad  | 26.0 | 4 | 2600 |\n",
       "| 6 | medium | bad  | 23.8 | 0 | 2100 |\n",
       "\n"
      ],
      "text/plain": [
       "  color  spine width n_males weight\n",
       "1 medium bad   28.3  8       3050  \n",
       "2 dark   bad   22.5  0       1550  \n",
       "3 light  good  26.0  9       2300  \n",
       "4 dark   bad   24.8  0       2100  \n",
       "5 dark   bad   26.0  4       2600  \n",
       "6 medium bad   23.8  0       2100  "
      ]
     },
     "metadata": {},
     "output_type": "display_data"
    }
   ],
   "source": [
    "data(crabs)\n",
    "crabs <- crabs %>%\n",
    "  rename(n_males = satell) %>%\n",
    "  dplyr::select(-y)\n",
    "\n",
    "str(crabs)\n",
    "head(crabs)"
   ]
  },
  {
   "cell_type": "markdown",
   "metadata": {
    "nbgrader": {
     "grade": false,
     "grade_id": "cell-3245a397a3c0a56f",
     "locked": true,
     "schema_version": 3,
     "solution": false,
     "task": false
    }
   },
   "source": [
    "**Question 1.1**\n",
    "<br>{points: 1}\n",
    "\n",
    "Create a scatterplot of `n_males` versus carapace `width` (via `geom_point()`), even though `n_males` is not continuous. The `ggplot()` object's name will be `Crabs_vs_width_scatterplot`. Recall that the response must be placed on the $y$-axis, whereas the continuous input must be on the $x$-axis. Include proper axis labels and title.\n",
    "\n",
    "*Fill out those parts indicated with `...`, uncomment the corresponding code in the cell below, and run it.*"
   ]
  },
  {
   "cell_type": "code",
   "execution_count": 3,
   "metadata": {
    "nbgrader": {
     "grade": false,
     "grade_id": "cell-267744b8584d386b",
     "locked": false,
     "schema_version": 3,
     "solution": true,
     "task": false
    }
   },
   "outputs": [
    {
     "data": {
      "image/png": "[encoded data removed]",
      "text/plain": [
       "plot without title"
      ]
     },
     "metadata": {
      "image/png": {
       "height": 420,
       "width": 420
      }
     },
     "output_type": "display_data"
    }
   ],
   "source": [
    "# Crabs_vs_width_scatterplot <- \n",
    "#   ... %>%\n",
    "#   ggplot() +\n",
    "#   ...(aes(..., ...)) +\n",
    "#   labs(y = ..., x = ...) +\n",
    "#   ggtitle(...) +\n",
    "#   theme(\n",
    "#     text = element_text(size = 16.5),\n",
    "#     plot.title = element_text(face = \"bold\"),\n",
    "#     axis.title = element_text(face = \"bold\"),\n",
    "#     legend.title = element_text(face = \"bold\")) + \n",
    "#   scale_x_continuous(breaks = seq(20, 34, 2))\n",
    "\n",
    "### BEGIN SOLUTION\n",
    "Crabs_vs_width_scatterplot <- \n",
    "  crabs %>%\n",
    "  ggplot() +\n",
    "  geom_point(aes(width, n_males)) +\n",
    "  labs(y = \"Number of Male Crabs\", x = \"Carapace Width (cm)\") +\n",
    "  ggtitle(\"Scatterplot of Number of Male Crabs Versus Carapace Width\") +\n",
    "  theme(\n",
    "    text = element_text(size = 14),\n",
    "    plot.title = element_text(face = \"bold\"),\n",
    "    axis.title = element_text(face = \"bold\"),\n",
    "    legend.title = element_text(face = \"bold\"),\n",
    "  ) + \n",
    "  scale_x_continuous(breaks = seq(20, 34, 2))\n",
    "### END SOLUTION\n",
    "\n",
    "Crabs_vs_width_scatterplot"
   ]
  },
  {
   "cell_type": "code",
   "execution_count": 4,
   "metadata": {
    "nbgrader": {
     "grade": true,
     "grade_id": "cell-4ea95eb36fa39c91",
     "locked": true,
     "points": 1,
     "schema_version": 3,
     "solution": false,
     "task": false
    }
   },
   "outputs": [
    {
     "name": "stdout",
     "output_type": "stream",
     "text": [
      "[1] \"Success!\"\n"
     ]
    }
   ],
   "source": [
    "test_1.1()"
   ]
  },
  {
   "cell_type": "markdown",
   "metadata": {
    "nbgrader": {
     "grade": false,
     "grade_id": "cell-d8dc6bd50a1e51f1",
     "locked": true,
     "schema_version": 3,
     "solution": false,
     "task": false
    }
   },
   "source": [
    "**Question 1.2**\n",
    "<br>{points: 1}\n",
    "\n",
    "Note the characteristic horizontal pattern in the points of `Crabs_vs_width_scatterplot`, since the $y$-axis has repeated counts associated with different `width` values. Another question arises, graphically speaking, how is the variable `n_males` associated with the carapace `width`?\n",
    "\n",
    "The `Crabs_vs_width_scatterplot` above is too hard to graphically conclude something about the relationship between `n_males` and caparace `width`. Hence, let us plot the average `n_males` by non-overlapped carapace `width` groups. Create a data frame called `Crabs_group_avg_width`, which is created from `crabs` and has two columns:\n",
    "\n",
    "- `width_intervals`: a column created with column `width` via function `cut()` with `breaks = 10` (i.e., bins).\n",
    "- `mean_n_males`: the average `n_males` by each bin.\n",
    "\n",
    "*Fill out those parts indicated with `...`, uncomment the corresponding code in the cell below, and run it.*"
   ]
  },
  {
   "cell_type": "code",
   "execution_count": 5,
   "metadata": {
    "nbgrader": {
     "grade": false,
     "grade_id": "cell-e136e294390e75db",
     "locked": false,
     "schema_version": 3,
     "solution": true,
     "task": false
    }
   },
   "outputs": [
    {
     "data": {
      "text/html": [
       "<table class=\"dataframe\">\n",
       "<caption>A tibble: 10 × 2</caption>\n",
       "<thead>\n",
       "\t<tr><th scope=col>width_intervals</th><th scope=col>mean_n_males</th></tr>\n",
       "\t<tr><th scope=col>&lt;fct&gt;</th><th scope=col>&lt;dbl&gt;</th></tr>\n",
       "</thead>\n",
       "<tbody>\n",
       "\t<tr><td>(21,22.2]  </td><td>0.000000</td></tr>\n",
       "\t<tr><td>(22.2,23.5]</td><td>1.000000</td></tr>\n",
       "\t<tr><td>(23.5,24.8]</td><td>1.769231</td></tr>\n",
       "\t<tr><td>(24.8,26]  </td><td>2.976744</td></tr>\n",
       "\t<tr><td>(26,27.2]  </td><td>2.531250</td></tr>\n",
       "\t<tr><td>(27.2,28.5]</td><td>4.151515</td></tr>\n",
       "\t<tr><td>(28.5,29.8]</td><td>4.000000</td></tr>\n",
       "\t<tr><td>(29.8,31]  </td><td>4.857143</td></tr>\n",
       "\t<tr><td>(31,32.2]  </td><td>3.000000</td></tr>\n",
       "\t<tr><td>(32.2,33.5]</td><td>7.000000</td></tr>\n",
       "</tbody>\n",
       "</table>\n"
      ],
      "text/latex": [
       "A tibble: 10 × 2\n",
       "\\begin{tabular}{ll}\n",
       " width\\_intervals & mean\\_n\\_males\\\\\n",
       " <fct> & <dbl>\\\\\n",
       "\\hline\n",
       "\t (21,22.2{]}   & 0.000000\\\\\n",
       "\t (22.2,23.5{]} & 1.000000\\\\\n",
       "\t (23.5,24.8{]} & 1.769231\\\\\n",
       "\t (24.8,26{]}   & 2.976744\\\\\n",
       "\t (26,27.2{]}   & 2.531250\\\\\n",
       "\t (27.2,28.5{]} & 4.151515\\\\\n",
       "\t (28.5,29.8{]} & 4.000000\\\\\n",
       "\t (29.8,31{]}   & 4.857143\\\\\n",
       "\t (31,32.2{]}   & 3.000000\\\\\n",
       "\t (32.2,33.5{]} & 7.000000\\\\\n",
       "\\end{tabular}\n"
      ],
      "text/markdown": [
       "\n",
       "A tibble: 10 × 2\n",
       "\n",
       "| width_intervals &lt;fct&gt; | mean_n_males &lt;dbl&gt; |\n",
       "|---|---|\n",
       "| (21,22.2]   | 0.000000 |\n",
       "| (22.2,23.5] | 1.000000 |\n",
       "| (23.5,24.8] | 1.769231 |\n",
       "| (24.8,26]   | 2.976744 |\n",
       "| (26,27.2]   | 2.531250 |\n",
       "| (27.2,28.5] | 4.151515 |\n",
       "| (28.5,29.8] | 4.000000 |\n",
       "| (29.8,31]   | 4.857143 |\n",
       "| (31,32.2]   | 3.000000 |\n",
       "| (32.2,33.5] | 7.000000 |\n",
       "\n"
      ],
      "text/plain": [
       "   width_intervals mean_n_males\n",
       "1  (21,22.2]       0.000000    \n",
       "2  (22.2,23.5]     1.000000    \n",
       "3  (23.5,24.8]     1.769231    \n",
       "4  (24.8,26]       2.976744    \n",
       "5  (26,27.2]       2.531250    \n",
       "6  (27.2,28.5]     4.151515    \n",
       "7  (28.5,29.8]     4.000000    \n",
       "8  (29.8,31]       4.857143    \n",
       "9  (31,32.2]       3.000000    \n",
       "10 (32.2,33.5]     7.000000    "
      ]
     },
     "metadata": {},
     "output_type": "display_data"
    }
   ],
   "source": [
    "# Crabs_group_avg_width <- \n",
    "#  ... %>%\n",
    "#  ...(width_intervals = ...(..., ...)) %>%\n",
    "#  group_by(...) %>% \n",
    "#  summarise(... = ...(...)) \n",
    "\n",
    "### BEGIN SOLUTION\n",
    "Crabs_group_avg_width <- \n",
    "  crabs %>%\n",
    "  mutate(width_intervals = cut(width, breaks = 10)) %>%\n",
    "  group_by(width_intervals) %>% \n",
    "  summarise(mean_n_males = mean(n_males)) \n",
    "### END SOLUTION\n",
    "\n",
    "Crabs_group_avg_width"
   ]
  },
  {
   "cell_type": "code",
   "execution_count": 6,
   "metadata": {
    "nbgrader": {
     "grade": true,
     "grade_id": "cell-24bf5f18b3ee2717",
     "locked": true,
     "points": 1,
     "schema_version": 3,
     "solution": false,
     "task": false
    }
   },
   "outputs": [
    {
     "name": "stdout",
     "output_type": "stream",
     "text": [
      "[1] \"Success!\"\n"
     ]
    }
   ],
   "source": [
    "test_1.2()"
   ]
  },
  {
   "cell_type": "markdown",
   "metadata": {
    "nbgrader": {
     "grade": false,
     "grade_id": "cell-fcf23138e5f9e32f",
     "locked": true,
     "schema_version": 3,
     "solution": false,
     "task": false
    }
   },
   "source": [
    "**Question 1.3**\n",
    "<br>{points: 1}\n",
    "\n",
    "Create another scatterplot of `mean_n_males` on the $y$-axis versus the carapace `width_intervals` on the $x$-axis using `Crabs_group_avg_width` with `geom_point()`. The `ggplot()` object's name will be `Crabs_avg_width_scatterplot`. Include proper axis labels and title.\n",
    "\n",
    "*Fill out those parts indicated with `...`, uncomment the corresponding code in the cell below, and run it.*"
   ]
  },
  {
   "cell_type": "code",
   "execution_count": 7,
   "metadata": {
    "nbgrader": {
     "grade": false,
     "grade_id": "cell-72dcede930e14421",
     "locked": false,
     "schema_version": 3,
     "solution": true,
     "task": false
    },
    "scrolled": false
   },
   "outputs": [
    {
     "data": {
      "image/png": "[encoded data removed]",
      "text/plain": [
       "plot without title"
      ]
     },
     "metadata": {
      "image/png": {
       "height": 420,
       "width": 900
      }
     },
     "output_type": "display_data"
    }
   ],
   "source": [
    "# Crabs_avg_width_scatterplot <- ... %>%\n",
    "#   ggplot() +\n",
    "#   ...(aes(..., ...), colour = \"red\", size = 4) +\n",
    "#   labs(y = ..., x = ...) +\n",
    "#   ggtitle(...) +\n",
    "#   theme(\n",
    "#     text = element_text(size = 14),\n",
    "#     plot.title = element_text(face = \"bold\"),\n",
    "#     axis.title = element_text(face = \"bold\"),\n",
    "#     legend.title = element_text(face = \"bold\"),\n",
    "#     axis.text.x = element_text(angle = 45, hjust = 1)\n",
    "#   )\n",
    "\n",
    "### BEGIN SOLUTION\n",
    "Crabs_avg_width_scatterplot <- \n",
    "  Crabs_group_avg_width %>%\n",
    "  ggplot() +\n",
    "  geom_point(aes(width_intervals, mean_n_males), colour = \"red\", size = 4) +\n",
    "  labs(y = \"Mean Number of Male Crabs\", x = \"Carapace Width Interval (cm)\") +\n",
    "  ggtitle(\"Mean Number of Male Crabs Versus Carapace Width by Interval\") +\n",
    "  theme(\n",
    "    text = element_text(size = 14),\n",
    "    plot.title = element_text(face = \"bold\"),\n",
    "    axis.title = element_text(face = \"bold\"),\n",
    "    legend.title = element_text(face = \"bold\"),\n",
    "    axis.text.x = element_text(angle = 45, hjust = 1)\n",
    "  )\n",
    "### END SOLUTION\n",
    "\n",
    "options(repr.plot.width = 15, repr.plot.height = 7)\n",
    "plot_grid(Crabs_vs_width_scatterplot, Crabs_avg_width_scatterplot, ncol = 2)"
   ]
  },
  {
   "cell_type": "code",
   "execution_count": 8,
   "metadata": {
    "nbgrader": {
     "grade": true,
     "grade_id": "cell-c470e7f855f8f4c8",
     "locked": true,
     "points": 1,
     "schema_version": 3,
     "solution": false,
     "task": false
    }
   },
   "outputs": [
    {
     "name": "stdout",
     "output_type": "stream",
     "text": [
      "[1] \"Success!\"\n"
     ]
    }
   ],
   "source": [
    "test_1.3()"
   ]
  },
  {
   "cell_type": "markdown",
   "metadata": {
    "nbgrader": {
     "grade": false,
     "grade_id": "cell-58f301f5cab01d1a",
     "locked": true,
     "schema_version": 3,
     "solution": false,
     "task": false
    }
   },
   "source": [
    "**Question 1.4**\n",
    "<br>{points: 1}\n",
    "\n",
    "By looking at `Crabs_avg_width_scatterplot`, graphically speaking, what is the relationship between `n_males` and carapace `width`?\n",
    "\n",
    "**A.** Positive.\n",
    "\n",
    "**B.** Negative.\n",
    "\n",
    "**C.** No relationship.\n",
    "\n",
    "*Assign your answer to the object `answer1.4` (character type surrounded by quotes).*"
   ]
  },
  {
   "cell_type": "code",
   "execution_count": 9,
   "metadata": {
    "nbgrader": {
     "grade": false,
     "grade_id": "cell-5f4531deea0754da",
     "locked": false,
     "schema_version": 3,
     "solution": true,
     "task": false
    }
   },
   "outputs": [
    {
     "data": {
      "text/html": [
       "'A'"
      ],
      "text/latex": [
       "'A'"
      ],
      "text/markdown": [
       "'A'"
      ],
      "text/plain": [
       "[1] \"A\""
      ]
     },
     "metadata": {},
     "output_type": "display_data"
    }
   ],
   "source": [
    "# answer1.4 <- ...\n",
    "\n",
    "### BEGIN SOLUTION\n",
    "answer1.4 <- \"A\"\n",
    "### END SOLUTION\n",
    "\n",
    "answer1.4"
   ]
  },
  {
   "cell_type": "code",
   "execution_count": 10,
   "metadata": {
    "nbgrader": {
     "grade": true,
     "grade_id": "cell-32224ab4e0d00a59",
     "locked": true,
     "points": 1,
     "schema_version": 3,
     "solution": false,
     "task": false
    }
   },
   "outputs": [
    {
     "name": "stdout",
     "output_type": "stream",
     "text": [
      "[1] \"Success!\"\n"
     ]
    }
   ],
   "source": [
    "test_1.4()"
   ]
  },
  {
   "cell_type": "markdown",
   "metadata": {
    "nbgrader": {
     "grade": false,
     "grade_id": "cell-98e957ee7f6dfc9c",
     "locked": true,
     "schema_version": 3,
     "solution": false,
     "task": false
    }
   },
   "source": [
    "If we compare `Crabs_vs_width_scatterplot` and `Crabs_avg_width_scatterplot`, we can see that working with the averages of `n_males` by carapace `width` intervals gives us a clearer perspective of the relationship between these two variables. Nonetheless, we need to find a suitable regression model to confirm this statistically.\n",
    "\n",
    "Recall that the residual component in an ordinary linear regression model, namely $\\varepsilon_i$, is assumed to be normal, making the response $Y_i$ normal. In this case, our response variable is the \"Number of male crabs\" (count!). Counts distributions can be asymmetric, and they are non-negative -- the normal distribution might not be adequate. Nor the logistic regression, since we are not estimating proportions. \n",
    "\n",
    "A very useful distribution to model counts (not the only one!) is the Poisson distribution. "
   ]
  },
  {
   "cell_type": "markdown",
   "metadata": {
    "nbgrader": {
     "grade": false,
     "grade_id": "cell-d07f008bc4129b8f",
     "locked": true,
     "schema_version": 3,
     "solution": false,
     "task": false
    }
   },
   "source": [
    "**The Poisson Regression**\n",
    "\n",
    "A Poisson random variable refers to discrete data with non-negative integer values that count something in a given timeframe or even in a space such as a geographic unit. A particularity of the Poisson distribution is that its mean is equal to its variance. Thus, any factor that affects the mean will also affect the variance. This fact could be a potential drawback for using a Poisson regression model.\n",
    "\n",
    "The Poisson regression model is given by:\n",
    "\n",
    "$$Y_i|\\mathbf{X}_i \\sim \\text{Poisson}(\\lambda_i),$$\n",
    "\n",
    "$$\\log(\\lambda_i) = \\beta_0 + \\beta_1X_{1,i} + \\ldots + \\beta_pX_{1,p}$$\n",
    "\n",
    "where each variable has its own mean, $\\lambda_i$, and variance, also $\\lambda_i$. The parameter $\\lambda_i$ is interpreted as the risk of an event occurring in a given timeframe or even a space. Note that $\\lambda_i$ cannot be negative, hence the use of the $\\log(\\lambda_i)$."
   ]
  },
  {
   "cell_type": "markdown",
   "metadata": {
    "nbgrader": {
     "grade": false,
     "grade_id": "cell-27605b7706aedb71",
     "locked": true,
     "schema_version": 3,
     "solution": false,
     "task": false
    }
   },
   "source": [
    "**Question 1.5**\n",
    "<br>{points: 1}\n",
    "\n",
    "For our `crabs` dataset the events are the number of male crabs, `n_males`, around a space: the female breeding nest. Suppose we want to make inference on whether the carapace `width` is related to the response `n_males`. Thus, we could use Poisson regression. Let $X_{\\texttt{width}_i}$ be the $i$th value for the input `width` in our dataset `crabs`. The model's sample regression equation will be:\n",
    "\n",
    "$$\\log(\\lambda_i) = \\beta_0 + \\beta_1 X_{\\texttt{width}_i}.$$\n",
    "\n",
    "Let us plot the predictions of this model on top of `Crabs_vs_width_scatterplot`. Use `geom_smooth()` with `method = \"glm\"` and `method.args = list(family = poisson)`.\n",
    "\n",
    "*Fill out those parts indicated with `...`, uncomment the corresponding code in the cell below, and run it.*"
   ]
  },
  {
   "cell_type": "code",
   "execution_count": 11,
   "metadata": {
    "nbgrader": {
     "grade": false,
     "grade_id": "cell-3a1e6d7e495e79d0",
     "locked": false,
     "schema_version": 3,
     "solution": true,
     "task": false
    }
   },
   "outputs": [
    {
     "name": "stderr",
     "output_type": "stream",
     "text": [
      "`geom_smooth()` using formula 'y ~ x'\n",
      "\n"
     ]
    },
    {
     "data": {
      "image/png": "[encoded data removed]",
      "text/plain": [
       "plot without title"
      ]
     },
     "metadata": {
      "image/png": {
       "height": 420,
       "width": 900
      }
     },
     "output_type": "display_data"
    }
   ],
   "source": [
    "# Crabs_vs_width_scatterplot <- \n",
    "#   Crabs_vs_width_scatterplot +\n",
    "#   ...(\n",
    "#     aes(..., ...), \n",
    "#     ..., se = FALSE,\n",
    "#     ...)\n",
    "\n",
    "### BEGIN SOLUTION\n",
    "Crabs_vs_width_scatterplot <- \n",
    "    Crabs_vs_width_scatterplot +\n",
    "    geom_smooth(\n",
    "        aes(width, n_males), \n",
    "        method = \"glm\", se = FALSE,\n",
    "        method.args = list(family = poisson))\n",
    "### END SOLUTION\n",
    "\n",
    "Crabs_vs_width_scatterplot"
   ]
  },
  {
   "cell_type": "code",
   "execution_count": 12,
   "metadata": {
    "nbgrader": {
     "grade": true,
     "grade_id": "cell-e6f45c72012f6548",
     "locked": true,
     "points": 1,
     "schema_version": 3,
     "solution": false,
     "task": false
    }
   },
   "outputs": [
    {
     "name": "stdout",
     "output_type": "stream",
     "text": [
      "[1] \"Success!\"\n"
     ]
    }
   ],
   "source": [
    "test_1.5()"
   ]
  },
  {
   "cell_type": "markdown",
   "metadata": {
    "nbgrader": {
     "grade": false,
     "grade_id": "cell-1cd6b2d8388adfad",
     "locked": true,
     "schema_version": 3,
     "solution": false,
     "task": false
    }
   },
   "source": [
    "**Question 1.6**\n",
    "<br>{points: 1}\n",
    "\n",
    "The parameters $\\beta_0, \\beta_1, \\dots, \\beta_{p}$ in this model are also unknown. In order to fit a Poisson regression model, we can also use the function `glm()` and its argument `family = poisson` (required to specify the Poisson nature of the response), which obtains the estimates $\\hat{\\beta}_0, \\hat{\\beta}_1, \\dots \\hat{\\beta}_{p}$. The estimates are obtained through maximum likelihood where we assume a Poisson joint probability mass function of the $n$ responses $Y_i$.\n",
    "\n",
    "Using `glm()`, estimate a Poisson regression model with `n_males` as a response and two input variables: `width` ($X_{\\texttt{width}_i}$) and `color` ($X_{\\texttt{color_darker}_i}$, $X_{\\texttt{color_light}_i}$, and $X_{\\texttt{color_medium}_i}$) for the $i$th observation:\n",
    "\n",
    "$$\n",
    "log(\\lambda_i) = \\beta_0 + \\beta_1 X_{\\texttt{width}_i} + \\beta_2 X_{\\texttt{color_darker}_i} + \\beta_3 X_{\\texttt{color_light}_i} + \\beta_4 X_{\\texttt{color_medium}_i}.\n",
    "$$\n",
    "\n",
    "Note that the discrete and nominal input `color` has four levels (where `dark` is the baseline): "
   ]
  },
  {
   "cell_type": "code",
   "execution_count": 13,
   "metadata": {
    "nbgrader": {
     "grade": false,
     "grade_id": "cell-a5c51d7457cd83a8",
     "locked": true,
     "schema_version": 3,
     "solution": false,
     "task": false
    }
   },
   "outputs": [
    {
     "data": {
      "text/html": [
       "<style>\n",
       ".list-inline {list-style: none; margin:0; padding: 0}\n",
       ".list-inline>li {display: inline-block}\n",
       ".list-inline>li:not(:last-child)::after {content: \"\\00b7\"; padding: 0 .5ex}\n",
       "</style>\n",
       "<ol class=list-inline><li>'dark'</li><li>'darker'</li><li>'light'</li><li>'medium'</li></ol>\n"
      ],
      "text/latex": [
       "\\begin{enumerate*}\n",
       "\\item 'dark'\n",
       "\\item 'darker'\n",
       "\\item 'light'\n",
       "\\item 'medium'\n",
       "\\end{enumerate*}\n"
      ],
      "text/markdown": [
       "1. 'dark'\n",
       "2. 'darker'\n",
       "3. 'light'\n",
       "4. 'medium'\n",
       "\n",
       "\n"
      ],
      "text/plain": [
       "[1] \"dark\"   \"darker\" \"light\"  \"medium\""
      ]
     },
     "metadata": {},
     "output_type": "display_data"
    }
   ],
   "source": [
    "levels(crabs$color)"
   ]
  },
  {
   "cell_type": "markdown",
   "metadata": {
    "nbgrader": {
     "grade": false,
     "grade_id": "cell-3474c3e0f1563e34",
     "locked": true,
     "schema_version": 3,
     "solution": false,
     "task": false
    }
   },
   "source": [
    "Therefore, we have three dummy variables: $X_{\\texttt{color_darker}_i}$, $X_{\\texttt{color_light}_i}$, and $X_{\\texttt{color_medium}_i}$. Depending on the `color`, these dummy variables take on the following values:\n",
    "\n",
    "- When `color` is `darker`, then $X_{\\texttt{color_darker}_i} = 1$ while the other two dummy variables $X_{\\texttt{color_light}_i} = X_{\\texttt{color_medium}_i} = 0$.\n",
    "- When `color` is `light`, then $X_{\\texttt{light}_i} = 1$ while the other two dummy variables $X_{\\texttt{color_darker}_i} = X_{\\texttt{color_medium}_i} = 0$.\n",
    "- When `color` is `medium`, then $X_{\\texttt{medium}_i} = 1$ while the other two dummy variables $X_{\\texttt{color_darker}_i} = X_{\\texttt{color_light}_i} = 0$.\n",
    "\n",
    "Call the model `crabs_Poisson_model`.\n",
    "    \n",
    "*Fill out those parts indicated with `...`, uncomment the corresponding code in the cell below, and run it.*    "
   ]
  },
  {
   "cell_type": "code",
   "execution_count": 14,
   "metadata": {
    "nbgrader": {
     "grade": false,
     "grade_id": "cell-cce6669279499835",
     "locked": false,
     "schema_version": 3,
     "solution": true,
     "task": false
    }
   },
   "outputs": [
    {
     "data": {
      "text/plain": [
       "\n",
       "Call:\n",
       "glm(formula = n_males ~ width + color, family = poisson, data = crabs)\n",
       "\n",
       "Deviance Residuals: \n",
       "    Min       1Q   Median       3Q      Max  \n",
       "-3.0415  -1.9581  -0.5575   0.9830   4.7523  \n",
       "\n",
       "Coefficients:\n",
       "            Estimate Std. Error z value Pr(>|z|)    \n",
       "(Intercept) -3.08640    0.55750  -5.536 3.09e-08 ***\n",
       "width        0.14934    0.02084   7.166 7.73e-13 ***\n",
       "colordarker -0.01100    0.18041  -0.061   0.9514    \n",
       "colorlight   0.43636    0.17636   2.474   0.0133 *  \n",
       "colormedium  0.23668    0.11815   2.003   0.0452 *  \n",
       "---\n",
       "Signif. codes:  0 ‘***’ 0.001 ‘**’ 0.01 ‘*’ 0.05 ‘.’ 0.1 ‘ ’ 1\n",
       "\n",
       "(Dispersion parameter for poisson family taken to be 1)\n",
       "\n",
       "    Null deviance: 632.79  on 172  degrees of freedom\n",
       "Residual deviance: 559.34  on 168  degrees of freedom\n",
       "AIC: 924.64\n",
       "\n",
       "Number of Fisher Scoring iterations: 6\n"
      ]
     },
     "metadata": {},
     "output_type": "display_data"
    }
   ],
   "source": [
    "# crabs_Poisson_model <- ...(\n",
    "#   ...,\n",
    "#   ...,\n",
    "#   ...\n",
    "# )\n",
    "\n",
    "### BEGIN SOLUTION\n",
    "crabs_Poisson_model <- glm(\n",
    "  formula = n_males ~ width + color,\n",
    "  data = crabs,\n",
    "  family = poisson\n",
    ")\n",
    "### END SOLUTION\n",
    "\n",
    "summary(crabs_Poisson_model)"
   ]
  },
  {
   "cell_type": "code",
   "execution_count": 15,
   "metadata": {
    "nbgrader": {
     "grade": true,
     "grade_id": "cell-97cc9b41beb464bf",
     "locked": true,
     "points": 1,
     "schema_version": 3,
     "solution": false,
     "task": false
    }
   },
   "outputs": [
    {
     "name": "stdout",
     "output_type": "stream",
     "text": [
      "[1] \"Success!\"\n"
     ]
    }
   ],
   "source": [
    "test_1.6()"
   ]
  },
  {
   "cell_type": "markdown",
   "metadata": {
    "nbgrader": {
     "grade": false,
     "grade_id": "cell-b7f592bf64da6cf8",
     "locked": true,
     "schema_version": 3,
     "solution": false,
     "task": false
    }
   },
   "source": [
    "**Question 1.7**\n",
    "<br>{points: 1}\n",
    "\n",
    "Report the estimated coefficients, their standard errors, and corresponding $p$-values using `tidy()` with `crabs_Poisson_model`. Include the corresponding asymptotic 95% confidence intervals. Store the results in the variable `crabs_Poisson_model_results`.\n",
    "\n",
    "*Fill out those parts indicated with `...`, uncomment the corresponding code in the cell below, and run it.*"
   ]
  },
  {
   "cell_type": "code",
   "execution_count": 16,
   "metadata": {
    "nbgrader": {
     "grade": false,
     "grade_id": "cell-4deafdcc73d1ddc4",
     "locked": false,
     "schema_version": 3,
     "solution": true,
     "task": false
    }
   },
   "outputs": [
    {
     "data": {
      "text/html": [
       "<table class=\"dataframe\">\n",
       "<caption>A tibble: 5 × 7</caption>\n",
       "<thead>\n",
       "\t<tr><th scope=col>term</th><th scope=col>estimate</th><th scope=col>std.error</th><th scope=col>statistic</th><th scope=col>p.value</th><th scope=col>conf.low</th><th scope=col>conf.high</th></tr>\n",
       "\t<tr><th scope=col>&lt;chr&gt;</th><th scope=col>&lt;dbl&gt;</th><th scope=col>&lt;dbl&gt;</th><th scope=col>&lt;dbl&gt;</th><th scope=col>&lt;dbl&gt;</th><th scope=col>&lt;dbl&gt;</th><th scope=col>&lt;dbl&gt;</th></tr>\n",
       "</thead>\n",
       "<tbody>\n",
       "\t<tr><td>(Intercept)</td><td>-3.0864</td><td>0.5575</td><td>-5.5362</td><td>0.0000</td><td>-4.1781</td><td>-1.9927</td></tr>\n",
       "\t<tr><td>width      </td><td> 0.1493</td><td>0.0208</td><td> 7.1659</td><td>0.0000</td><td> 0.1083</td><td> 0.1900</td></tr>\n",
       "\t<tr><td>colordarker</td><td>-0.0110</td><td>0.1804</td><td>-0.0610</td><td>0.9514</td><td>-0.3733</td><td> 0.3359</td></tr>\n",
       "\t<tr><td>colorlight </td><td> 0.4364</td><td>0.1764</td><td> 2.4743</td><td>0.0133</td><td> 0.0834</td><td> 0.7764</td></tr>\n",
       "\t<tr><td>colormedium</td><td> 0.2367</td><td>0.1181</td><td> 2.0032</td><td>0.0452</td><td> 0.0091</td><td> 0.4728</td></tr>\n",
       "</tbody>\n",
       "</table>\n"
      ],
      "text/latex": [
       "A tibble: 5 × 7\n",
       "\\begin{tabular}{lllllll}\n",
       " term & estimate & std.error & statistic & p.value & conf.low & conf.high\\\\\n",
       " <chr> & <dbl> & <dbl> & <dbl> & <dbl> & <dbl> & <dbl>\\\\\n",
       "\\hline\n",
       "\t (Intercept) & -3.0864 & 0.5575 & -5.5362 & 0.0000 & -4.1781 & -1.9927\\\\\n",
       "\t width       &  0.1493 & 0.0208 &  7.1659 & 0.0000 &  0.1083 &  0.1900\\\\\n",
       "\t colordarker & -0.0110 & 0.1804 & -0.0610 & 0.9514 & -0.3733 &  0.3359\\\\\n",
       "\t colorlight  &  0.4364 & 0.1764 &  2.4743 & 0.0133 &  0.0834 &  0.7764\\\\\n",
       "\t colormedium &  0.2367 & 0.1181 &  2.0032 & 0.0452 &  0.0091 &  0.4728\\\\\n",
       "\\end{tabular}\n"
      ],
      "text/markdown": [
       "\n",
       "A tibble: 5 × 7\n",
       "\n",
       "| term &lt;chr&gt; | estimate &lt;dbl&gt; | std.error &lt;dbl&gt; | statistic &lt;dbl&gt; | p.value &lt;dbl&gt; | conf.low &lt;dbl&gt; | conf.high &lt;dbl&gt; |\n",
       "|---|---|---|---|---|---|---|\n",
       "| (Intercept) | -3.0864 | 0.5575 | -5.5362 | 0.0000 | -4.1781 | -1.9927 |\n",
       "| width       |  0.1493 | 0.0208 |  7.1659 | 0.0000 |  0.1083 |  0.1900 |\n",
       "| colordarker | -0.0110 | 0.1804 | -0.0610 | 0.9514 | -0.3733 |  0.3359 |\n",
       "| colorlight  |  0.4364 | 0.1764 |  2.4743 | 0.0133 |  0.0834 |  0.7764 |\n",
       "| colormedium |  0.2367 | 0.1181 |  2.0032 | 0.0452 |  0.0091 |  0.4728 |\n",
       "\n"
      ],
      "text/plain": [
       "  term        estimate std.error statistic p.value conf.low conf.high\n",
       "1 (Intercept) -3.0864  0.5575    -5.5362   0.0000  -4.1781  -1.9927  \n",
       "2 width        0.1493  0.0208     7.1659   0.0000   0.1083   0.1900  \n",
       "3 colordarker -0.0110  0.1804    -0.0610   0.9514  -0.3733   0.3359  \n",
       "4 colorlight   0.4364  0.1764     2.4743   0.0133   0.0834   0.7764  \n",
       "5 colormedium  0.2367  0.1181     2.0032   0.0452   0.0091   0.4728  "
      ]
     },
     "metadata": {},
     "output_type": "display_data"
    }
   ],
   "source": [
    "# crabs_Poisson_model_results <- \n",
    "#   ...(..., conf.int = TRUE) %>%\n",
    "#   mutate_if(is.numeric, round, 3)\n",
    "\n",
    "### BEGIN SOLUTION\n",
    "crabs_Poisson_model_results <- \n",
    "  tidy(crabs_Poisson_model, conf.int = TRUE) %>%\n",
    "  mutate_if(is.numeric, round, 4)\n",
    "### END SOLUTION\n",
    "\n",
    "crabs_Poisson_model_results"
   ]
  },
  {
   "cell_type": "code",
   "execution_count": 17,
   "metadata": {
    "nbgrader": {
     "grade": true,
     "grade_id": "cell-441e381e29ca858b",
     "locked": true,
     "points": 1,
     "schema_version": 3,
     "solution": false,
     "task": false
    }
   },
   "outputs": [
    {
     "name": "stdout",
     "output_type": "stream",
     "text": [
      "[1] \"Success!\"\n"
     ]
    }
   ],
   "source": [
    "test_1.7()"
   ]
  },
  {
   "cell_type": "markdown",
   "metadata": {
    "nbgrader": {
     "grade": false,
     "grade_id": "cell-f95b8a861b29b15b",
     "locked": true,
     "schema_version": 3,
     "solution": false,
     "task": false
    }
   },
   "source": [
    "**Question 1.8**\n",
    "<br>{points: 1}\n",
    "\n",
    "Add to `crabs_Poisson_model_results` the estimate, and 95% confidence interval, of $\\exp\\{\\beta_j\\}, j=0,...,p$. \n",
    "\n",
    "*Fill out those parts indicated with `...`, uncomment the corresponding code in the cell below, and run it.*"
   ]
  },
  {
   "cell_type": "code",
   "execution_count": 18,
   "metadata": {
    "nbgrader": {
     "grade": false,
     "grade_id": "cell-faa353ab9211c114",
     "locked": false,
     "schema_version": 3,
     "solution": true,
     "task": false
    }
   },
   "outputs": [
    {
     "data": {
      "text/html": [
       "<table class=\"dataframe\">\n",
       "<caption>A tibble: 5 × 10</caption>\n",
       "<thead>\n",
       "\t<tr><th scope=col>term</th><th scope=col>estimate</th><th scope=col>std.error</th><th scope=col>statistic</th><th scope=col>p.value</th><th scope=col>conf.low</th><th scope=col>conf.high</th><th scope=col>exp.estimate</th><th scope=col>exp.conf.low</th><th scope=col>exp.conf.high</th></tr>\n",
       "\t<tr><th scope=col>&lt;chr&gt;</th><th scope=col>&lt;dbl&gt;</th><th scope=col>&lt;dbl&gt;</th><th scope=col>&lt;dbl&gt;</th><th scope=col>&lt;dbl&gt;</th><th scope=col>&lt;dbl&gt;</th><th scope=col>&lt;dbl&gt;</th><th scope=col>&lt;dbl&gt;</th><th scope=col>&lt;dbl&gt;</th><th scope=col>&lt;dbl&gt;</th></tr>\n",
       "</thead>\n",
       "<tbody>\n",
       "\t<tr><td>(Intercept)</td><td>-3.0864</td><td>0.5575</td><td>-5.5362</td><td>0.0000</td><td>-4.1781</td><td>-1.9927</td><td>0.0457</td><td>0.0153</td><td>0.1363</td></tr>\n",
       "\t<tr><td>width      </td><td> 0.1493</td><td>0.0208</td><td> 7.1659</td><td>0.0000</td><td> 0.1083</td><td> 0.1900</td><td>1.1610</td><td>1.1144</td><td>1.2092</td></tr>\n",
       "\t<tr><td>colordarker</td><td>-0.0110</td><td>0.1804</td><td>-0.0610</td><td>0.9514</td><td>-0.3733</td><td> 0.3359</td><td>0.9891</td><td>0.6885</td><td>1.3992</td></tr>\n",
       "\t<tr><td>colorlight </td><td> 0.4364</td><td>0.1764</td><td> 2.4743</td><td>0.0133</td><td> 0.0834</td><td> 0.7764</td><td>1.5471</td><td>1.0870</td><td>2.1736</td></tr>\n",
       "\t<tr><td>colormedium</td><td> 0.2367</td><td>0.1181</td><td> 2.0032</td><td>0.0452</td><td> 0.0091</td><td> 0.4728</td><td>1.2671</td><td>1.0091</td><td>1.6045</td></tr>\n",
       "</tbody>\n",
       "</table>\n"
      ],
      "text/latex": [
       "A tibble: 5 × 10\n",
       "\\begin{tabular}{llllllllll}\n",
       " term & estimate & std.error & statistic & p.value & conf.low & conf.high & exp.estimate & exp.conf.low & exp.conf.high\\\\\n",
       " <chr> & <dbl> & <dbl> & <dbl> & <dbl> & <dbl> & <dbl> & <dbl> & <dbl> & <dbl>\\\\\n",
       "\\hline\n",
       "\t (Intercept) & -3.0864 & 0.5575 & -5.5362 & 0.0000 & -4.1781 & -1.9927 & 0.0457 & 0.0153 & 0.1363\\\\\n",
       "\t width       &  0.1493 & 0.0208 &  7.1659 & 0.0000 &  0.1083 &  0.1900 & 1.1610 & 1.1144 & 1.2092\\\\\n",
       "\t colordarker & -0.0110 & 0.1804 & -0.0610 & 0.9514 & -0.3733 &  0.3359 & 0.9891 & 0.6885 & 1.3992\\\\\n",
       "\t colorlight  &  0.4364 & 0.1764 &  2.4743 & 0.0133 &  0.0834 &  0.7764 & 1.5471 & 1.0870 & 2.1736\\\\\n",
       "\t colormedium &  0.2367 & 0.1181 &  2.0032 & 0.0452 &  0.0091 &  0.4728 & 1.2671 & 1.0091 & 1.6045\\\\\n",
       "\\end{tabular}\n"
      ],
      "text/markdown": [
       "\n",
       "A tibble: 5 × 10\n",
       "\n",
       "| term &lt;chr&gt; | estimate &lt;dbl&gt; | std.error &lt;dbl&gt; | statistic &lt;dbl&gt; | p.value &lt;dbl&gt; | conf.low &lt;dbl&gt; | conf.high &lt;dbl&gt; | exp.estimate &lt;dbl&gt; | exp.conf.low &lt;dbl&gt; | exp.conf.high &lt;dbl&gt; |\n",
       "|---|---|---|---|---|---|---|---|---|---|\n",
       "| (Intercept) | -3.0864 | 0.5575 | -5.5362 | 0.0000 | -4.1781 | -1.9927 | 0.0457 | 0.0153 | 0.1363 |\n",
       "| width       |  0.1493 | 0.0208 |  7.1659 | 0.0000 |  0.1083 |  0.1900 | 1.1610 | 1.1144 | 1.2092 |\n",
       "| colordarker | -0.0110 | 0.1804 | -0.0610 | 0.9514 | -0.3733 |  0.3359 | 0.9891 | 0.6885 | 1.3992 |\n",
       "| colorlight  |  0.4364 | 0.1764 |  2.4743 | 0.0133 |  0.0834 |  0.7764 | 1.5471 | 1.0870 | 2.1736 |\n",
       "| colormedium |  0.2367 | 0.1181 |  2.0032 | 0.0452 |  0.0091 |  0.4728 | 1.2671 | 1.0091 | 1.6045 |\n",
       "\n"
      ],
      "text/plain": [
       "  term        estimate std.error statistic p.value conf.low conf.high\n",
       "1 (Intercept) -3.0864  0.5575    -5.5362   0.0000  -4.1781  -1.9927  \n",
       "2 width        0.1493  0.0208     7.1659   0.0000   0.1083   0.1900  \n",
       "3 colordarker -0.0110  0.1804    -0.0610   0.9514  -0.3733   0.3359  \n",
       "4 colorlight   0.4364  0.1764     2.4743   0.0133   0.0834   0.7764  \n",
       "5 colormedium  0.2367  0.1181     2.0032   0.0452   0.0091   0.4728  \n",
       "  exp.estimate exp.conf.low exp.conf.high\n",
       "1 0.0457       0.0153       0.1363       \n",
       "2 1.1610       1.1144       1.2092       \n",
       "3 0.9891       0.6885       1.3992       \n",
       "4 1.5471       1.0870       2.1736       \n",
       "5 1.2671       1.0091       1.6045       "
      ]
     },
     "metadata": {},
     "output_type": "display_data"
    }
   ],
   "source": [
    "# crabs_Poisson_model_results <- \n",
    "#   crabs_Poisson_model_results %>%\n",
    "#   mutate(\n",
    "#     exp.estimate = ...,\n",
    "#     exp.conf.low = ...,\n",
    "#     exp.conf.high = ...) %>%\n",
    "#   mutate_if(is.numeric, round, 3)\n",
    "\n",
    "### BEGIN SOLUTION\n",
    "crabs_Poisson_model_results <- \n",
    "  crabs_Poisson_model_results %>%\n",
    "  mutate(\n",
    "    exp.estimate = exp(estimate),\n",
    "    exp.conf.low = exp(conf.low),\n",
    "    exp.conf.high = exp(conf.high)) %>%\n",
    "  mutate_if(is.numeric, round, 4)\n",
    "### END SOLUTION\n",
    "\n",
    "crabs_Poisson_model_results\n"
   ]
  },
  {
   "cell_type": "code",
   "execution_count": 19,
   "metadata": {
    "nbgrader": {
     "grade": true,
     "grade_id": "cell-1822a6990bcbbd0f",
     "locked": true,
     "points": 1,
     "schema_version": 3,
     "solution": false,
     "task": false
    }
   },
   "outputs": [
    {
     "name": "stdout",
     "output_type": "stream",
     "text": [
      "[1] \"Success!\"\n"
     ]
    }
   ],
   "source": [
    "test_1.8()"
   ]
  },
  {
   "cell_type": "markdown",
   "metadata": {
    "nbgrader": {
     "grade": false,
     "grade_id": "cell-7c2691fb066e9a1e",
     "locked": true,
     "schema_version": 3,
     "solution": false,
     "task": false
    }
   },
   "source": [
    "**Question 1.9**\n",
    "<br>{points: 1}\n",
    "\n",
    "Using a **significance level $\\alpha = 0.05$**, which inputs are statistically associated to the response via their regression coefficients in `crabs_Poisson_model_results`?\n",
    "\n",
    "**A.** The continuous input `width`.\n",
    "\n",
    "**B.** The dummy variable associated with a `darker` `color`.\n",
    "\n",
    "**C.** The dummy variable associated with a `light` `color`.\n",
    "\n",
    "**D.** The dummy variable associated with a `medium` `color`\n",
    "\n",
    "*Assign your answers to the object `answer1.9`. Your answers have to be included in a single string indicating the correct options **in alphabetical order** and surrounded by quotes (e.g., `\"ABCD\"` indicates you are selecting the four options).*"
   ]
  },
  {
   "cell_type": "code",
   "execution_count": 20,
   "metadata": {
    "nbgrader": {
     "grade": false,
     "grade_id": "cell-d1466876e62cbd8d",
     "locked": false,
     "schema_version": 3,
     "solution": true,
     "task": false
    }
   },
   "outputs": [
    {
     "data": {
      "text/html": [
       "'ACD'"
      ],
      "text/latex": [
       "'ACD'"
      ],
      "text/markdown": [
       "'ACD'"
      ],
      "text/plain": [
       "[1] \"ACD\""
      ]
     },
     "metadata": {},
     "output_type": "display_data"
    }
   ],
   "source": [
    "# answer1.9 <- \n",
    "\n",
    "### BEGIN SOLUTION\n",
    "answer1.9 <- \"ACD\"\n",
    "### END SOLUTION\n",
    "\n",
    "answer1.9"
   ]
  },
  {
   "cell_type": "code",
   "execution_count": 21,
   "metadata": {
    "nbgrader": {
     "grade": true,
     "grade_id": "cell-c4b2bdbb07660385",
     "locked": true,
     "points": 1,
     "schema_version": 3,
     "solution": false,
     "task": false
    }
   },
   "outputs": [
    {
     "name": "stdout",
     "output_type": "stream",
     "text": [
      "[1] \"Success!\"\n"
     ]
    }
   ],
   "source": [
    "test_1.9()"
   ]
  },
  {
   "cell_type": "markdown",
   "metadata": {
    "nbgrader": {
     "grade": false,
     "grade_id": "cell-30680ad0b12b005a",
     "locked": true,
     "schema_version": 3,
     "solution": false,
     "task": false
    }
   },
   "source": [
    "**Question 1.10**\n",
    "<br>{points: 1}\n",
    "\n",
    "Firstly, let us focus on the coefficient interpretation corresponding to carapace `width`, *while keeping `color` constant*. Consider an observation with a given value $X_{\\texttt{width}} = \\texttt{w}$ cm, and another observation with a given $X_{\\texttt{width + 1}} = \\texttt{w} + 1$ cm (i.e., an increase of $1$ cm). Then we have their corresponding regression equations:\n",
    "\n",
    "$$\n",
    "\\log \\lambda_{\\texttt{width}} = \\beta_0 + \\beta_1 \\overbrace{\\texttt{w}}^{X_{\\texttt{width}}} + \\overbrace{\\beta_2 X_{\\texttt{color_darker}} + \\beta_3 X_{\\texttt{color_light}} + \\beta_4 X_{\\texttt{color_medium}}}^{\\text{Constant}}\n",
    "$$\n",
    "$$\n",
    "\\log \\lambda_{\\texttt{width + 1}} = \\beta_0 + \\beta_1 \\underbrace{(\\texttt{w} + 1)}_{X_{\\texttt{width + 1}}} + \\underbrace{\\beta_2 X_{\\texttt{color_darker}} + \\beta_3 X_{\\texttt{color_light}} + \\beta_4 X_{\\texttt{color_medium}}.}_{\\text{Constant}}\n",
    "$$\n",
    "\n",
    "We take the difference between both equations as:\n",
    "\n",
    "\\begin{align*}\n",
    "\\log \\lambda_{\\texttt{width + 1}} - \\log \\lambda_{\\texttt{width}} &= \\beta_1 (\\texttt{w} + 1) - \\beta_1 \\texttt{w} \\\\\n",
    "&= \\beta_1.\n",
    "\\end{align*}\n",
    "\n",
    "Then, we apply the logarithm property for a ratio:\n",
    "\n",
    "\\begin{align*}\n",
    "\\log \\frac{\\lambda_{\\texttt{width + 1}} }{\\lambda_{\\texttt{width}}} &= \\log \\lambda_{\\texttt{width + 1}} - \\log \\lambda_{\\texttt{width}} \\\\\n",
    "&= \\beta_1.\n",
    "\\end{align*}\n",
    "\n",
    "Finally, we have to exponentiate the previous equation:\n",
    "\n",
    "$$\n",
    "\\frac{\\lambda_{\\texttt{width + 1}} }{\\lambda_{\\texttt{width}}} = e^{\\beta_1}.\n",
    "$$\n",
    "\n",
    "The expression $\\frac{\\lambda_{\\texttt{width + 1}} }{\\lambda_{\\texttt{width}}} = e^{\\beta_1}$ indicates that the response varies in a multiplicative way when increased 1 cm in carapace `width`. Hence, **using the column `exp.estimate` from `crabs_Poisson_model_results`**, what is the correct interpretation of the regression equation's estimated slope for `width`?\n",
    "\n",
    "**A.** The mean count of male crabs (`n_males`) around a female breeding nest decreases by $161\\%$ when increasing the carapace `width` by $1$ cm, *while keeping `color` constant*.\n",
    "\n",
    "**B.** The mean count of male crabs (`n_males`) around a female breeding nest increases by $161\\%$ when increasing the carapace `width` by $1$ cm, *while keeping `color` constant*.\n",
    "\n",
    "**C.** The mean count of male crabs (`n_males`) around a female breeding nest increases by $16.1\\%$ when increasing the carapace `width` by $1$ cm, *while keeping `color` constant*.\n",
    "\n",
    "**D.** The mean count of male crabs (`n_males`) around a female breeding nest decreases by $16.1\\%$ when increasing the carapace `width` by $1$ cm, *while keeping `color` constant*.\n",
    "\n",
    "*Assign your answer to the object `answer1.10` (character type surrounded by quotes).*"
   ]
  },
  {
   "cell_type": "code",
   "execution_count": 22,
   "metadata": {
    "nbgrader": {
     "grade": false,
     "grade_id": "cell-813f996317ff61dd",
     "locked": false,
     "schema_version": 3,
     "solution": true,
     "task": false
    }
   },
   "outputs": [
    {
     "data": {
      "text/html": [
       "'C'"
      ],
      "text/latex": [
       "'C'"
      ],
      "text/markdown": [
       "'C'"
      ],
      "text/plain": [
       "[1] \"C\""
      ]
     },
     "metadata": {},
     "output_type": "display_data"
    }
   ],
   "source": [
    "# answer1.10 <- ...\n",
    "\n",
    "### BEGIN SOLUTION\n",
    "answer1.10 <- \"C\"\n",
    "### END SOLUTION\n",
    "\n",
    "answer1.10"
   ]
  },
  {
   "cell_type": "code",
   "execution_count": 23,
   "metadata": {
    "nbgrader": {
     "grade": true,
     "grade_id": "cell-01b57f216ff8f262",
     "locked": true,
     "points": 1,
     "schema_version": 3,
     "solution": false,
     "task": false
    }
   },
   "outputs": [
    {
     "name": "stdout",
     "output_type": "stream",
     "text": [
      "[1] \"Success!\"\n"
     ]
    }
   ],
   "source": [
    "test_1.10()"
   ]
  },
  {
   "cell_type": "markdown",
   "metadata": {
    "nbgrader": {
     "grade": false,
     "grade_id": "cell-f8af88cea66668b0",
     "locked": true,
     "schema_version": 3,
     "solution": false,
     "task": false
    }
   },
   "source": [
    "**Question 1.11**\n",
    "<br>{points: 1}\n",
    "\n",
    "Let us move on to the interpretation of the coefficient corresponding to `light color` to the baseline level `dark`. \n",
    "Using the `crabs_Poisson_model_results` tibble, what is the correct interpretation of the regression equation's estimated slope for a `light color`?\n",
    "\n",
    "**A.** The mean count of male crabs (`n_males`) around a female breeding nest decreases by $54.7\\%$ when the `color` of the prosoma changes from `dark` to `light`, *while keeping the carapace `width` constant.*\n",
    "\n",
    "**B.** The mean count of male crabs (`n_males`) around a female breeding nest increases by $54.7\\%$ when the `color` of the prosoma changes from `dark` to `light`, *while keeping the carapace `width` constant.*\n",
    "\n",
    "**C.** The mean count of male crabs (`n_males`) around a female breeding nest increases by $154.7\\%$ when the `color` of the prosoma changes from `dark` to `light`, *while keeping the carapace `width` constant.*\n",
    "\n",
    "**D.** The mean count of male crabs (`n_males`) around a female breeding nest decreases by $154.7\\%$ when the `color` of the prosoma changes from `dark` to `light`, *while keeping the carapace `width` constant.*\n",
    "\n",
    "*Assign your answer to the object `answer1.11` (character type surrounded by quotes).*"
   ]
  },
  {
   "cell_type": "code",
   "execution_count": 24,
   "metadata": {
    "nbgrader": {
     "grade": false,
     "grade_id": "cell-9dd1384a6af3a36a",
     "locked": false,
     "schema_version": 3,
     "solution": true,
     "task": false
    }
   },
   "outputs": [
    {
     "data": {
      "text/html": [
       "'B'"
      ],
      "text/latex": [
       "'B'"
      ],
      "text/markdown": [
       "'B'"
      ],
      "text/plain": [
       "[1] \"B\""
      ]
     },
     "metadata": {},
     "output_type": "display_data"
    }
   ],
   "source": [
    "# answer1.11 <- ...\n",
    "\n",
    "### BEGIN SOLUTION\n",
    "answer1.11 <- \"B\"\n",
    "### END SOLUTION\n",
    "\n",
    "answer1.11"
   ]
  },
  {
   "cell_type": "code",
   "execution_count": 25,
   "metadata": {
    "nbgrader": {
     "grade": true,
     "grade_id": "cell-27d30eed0b7b8bae",
     "locked": true,
     "points": 1,
     "schema_version": 3,
     "solution": false,
     "task": false
    }
   },
   "outputs": [
    {
     "name": "stdout",
     "output_type": "stream",
     "text": [
      "[1] \"Success!\"\n"
     ]
    }
   ],
   "source": [
    "test_1.11()"
   ]
  },
  {
   "cell_type": "markdown",
   "metadata": {
    "nbgrader": {
     "grade": false,
     "grade_id": "cell-96565a64571f2a45",
     "locked": true,
     "schema_version": 3,
     "solution": false,
     "task": false
    }
   },
   "source": [
    "**Question 1.12**\n",
    "<br>{points: 1}\n",
    "\n",
    "Suppose we want to predict the mean count of male crabs (`n_males`) around a female breeding nest with a carapace `width` of $27.5$ cm and a `light` `color` of the prosoma. Then, using the function `predict()` with the object `crabs_Poisson_model`, obtain the corresponding prediction.\n",
    "\n",
    "> **Hint:** Check the argument `type` when coding this prediction.\n",
    "\n",
    "*Assign your answer to the object `answer1.12`. Fill out those parts indicated with `...`, uncomment the corresponding code in the cell below, and run it.*"
   ]
  },
  {
   "cell_type": "code",
   "execution_count": 26,
   "metadata": {
    "nbgrader": {
     "grade": false,
     "grade_id": "cell-5f4ccaec6bf73492",
     "locked": false,
     "schema_version": 3,
     "solution": true,
     "task": false
    }
   },
   "outputs": [
    {
     "data": {
      "text/html": [
       "<strong>1:</strong> 4.29256175748916"
      ],
      "text/latex": [
       "\\textbf{1:} 4.29256175748916"
      ],
      "text/markdown": [
       "**1:** 4.29256175748916"
      ],
      "text/plain": [
       "       1 \n",
       "4.292562 "
      ]
     },
     "metadata": {},
     "output_type": "display_data"
    }
   ],
   "source": [
    "# answer1.12 <- \n",
    "#   ...(...,\n",
    "#     tibble(..., ..., ...),\n",
    "#     type = ...\n",
    "#   )\n",
    "\n",
    "### BEGIN SOLUTION\n",
    "answer1.12 <- \n",
    "  predict(crabs_Poisson_model,\n",
    "    tibble(width = 27.5, color = \"light\"),\n",
    "    type = \"response\"\n",
    "  )\n",
    "### END SOLUTION\n",
    "\n",
    "answer1.12"
   ]
  },
  {
   "cell_type": "code",
   "execution_count": 27,
   "metadata": {
    "nbgrader": {
     "grade": true,
     "grade_id": "cell-0df8c510b063bb57",
     "locked": true,
     "points": 1,
     "schema_version": 3,
     "solution": false,
     "task": false
    }
   },
   "outputs": [
    {
     "name": "stdout",
     "output_type": "stream",
     "text": [
      "[1] \"Success!\"\n"
     ]
    }
   ],
   "source": [
    "test_1.12()"
   ]
  }
 ],
 "metadata": {
  "celltoolbar": "Create Assignment",
  "jupytext": {
   "formats": "ipynb,Rmd"
  },
  "kernelspec": {
   "display_name": "R",
   "language": "R",
   "name": "ir"
  },
  "language_info": {
   "codemirror_mode": "r",
   "file_extension": ".r",
   "mimetype": "text/x-r-source",
   "name": "R",
   "pygments_lexer": "r",
   "version": "4.1.1"
  },
  "latex_envs": {
   "LaTeX_envs_menu_present": true,
   "autoclose": false,
   "autocomplete": true,
   "bibliofile": "biblio.bib",
   "cite_by": "apalike",
   "current_citInitial": 1,
   "eqLabelWithNumbers": true,
   "eqNumInitial": 1,
   "hotkeys": {
    "equation": "Ctrl-E",
    "itemize": "Ctrl-I"
   },
   "labels_anchors": false,
   "latex_user_defs": false,
   "report_style_numbering": false,
   "user_envs_cfg": false
  }
 },
 "nbformat": 4,
 "nbformat_minor": 4
}
