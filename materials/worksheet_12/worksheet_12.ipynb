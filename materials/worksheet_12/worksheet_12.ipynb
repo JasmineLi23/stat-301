{
 "cells": [
  {
   "cell_type": "markdown",
   "metadata": {
    "nbgrader": {
     "grade": false,
     "grade_id": "cell-f1e1d845873036f4",
     "locked": true,
     "schema_version": 3,
     "solution": false,
     "task": false
    }
   },
   "source": [
    "# Worksheet 11: Introduction to Explanatory Modeling when the Response Variable is Categorical or Discrete Counts"
   ]
  },
  {
   "cell_type": "markdown",
   "metadata": {
    "nbgrader": {
     "grade": false,
     "grade_id": "cell-82d9926086d47a80",
     "locked": true,
     "schema_version": 3,
     "solution": false,
     "task": false
    }
   },
   "source": [
    "#### Lecture and Tutorial Learning Goals:\n",
    "After completing this week's lecture and tutorial work, you will be able to:\n",
    "\n",
    "1. Describe the logistic regression estimation procedure (categorical data as the response variable and explanatory variables), and Poisson regression estimation procedure (discrete counts as the response variable and explanatory variables).\n",
    "2. Discuss the relationship between linear regression and logistic and Poisson regression. Discuss the consequences of modeling data that is more suitable for logistic and Poisson regression models as a linear regression model.\n",
    "3. Interpret the coefficients and $p$-values in the logistic and Poisson regression settings.\n",
    "4. Discuss useful diagnostics for logistic and Poisson regression and explain why they should be performed.\n",
    "5. Write a computer script to perform logistic and Poisson regression and perform model diagnostics. Interpret and communicate the results from that computer script."
   ]
  },
  {
   "cell_type": "code",
   "execution_count": 1,
   "metadata": {
    "nbgrader": {
     "grade": false,
     "grade_id": "cell-a2a153352bc44a68",
     "locked": true,
     "schema_version": 3,
     "solution": false,
     "task": false
    },
    "scrolled": false
   },
   "outputs": [
    {
     "name": "stderr",
     "output_type": "stream",
     "text": [
      "── \u001b[1mAttaching packages\u001b[22m ────────────────────────────────────────────────────────────────────────────────────────── tidyverse 1.3.1 ──\n",
      "\n",
      "\u001b[32m✔\u001b[39m \u001b[34mggplot2\u001b[39m 3.3.5     \u001b[32m✔\u001b[39m \u001b[34mpurrr  \u001b[39m 0.3.4\n",
      "\u001b[32m✔\u001b[39m \u001b[34mtibble \u001b[39m 3.1.4     \u001b[32m✔\u001b[39m \u001b[34mdplyr  \u001b[39m 1.0.7\n",
      "\u001b[32m✔\u001b[39m \u001b[34mtidyr  \u001b[39m 1.1.3     \u001b[32m✔\u001b[39m \u001b[34mstringr\u001b[39m 1.4.0\n",
      "\u001b[32m✔\u001b[39m \u001b[34mreadr  \u001b[39m 2.0.1     \u001b[32m✔\u001b[39m \u001b[34mforcats\u001b[39m 0.5.1\n",
      "\n",
      "── \u001b[1mConflicts\u001b[22m ───────────────────────────────────────────────────────────────────────────────────────────── tidyverse_conflicts() ──\n",
      "\u001b[31m✖\u001b[39m \u001b[34mdplyr\u001b[39m::\u001b[32mfilter()\u001b[39m masks \u001b[34mstats\u001b[39m::filter()\n",
      "\u001b[31m✖\u001b[39m \u001b[34mdplyr\u001b[39m::\u001b[32mlag()\u001b[39m    masks \u001b[34mstats\u001b[39m::lag()\n",
      "\n",
      "\n",
      "Attaching package: ‘gridExtra’\n",
      "\n",
      "\n",
      "The following object is masked from ‘package:dplyr’:\n",
      "\n",
      "    combine\n",
      "\n",
      "\n",
      "Loading required package: car\n",
      "\n",
      "Loading required package: carData\n",
      "\n",
      "\n",
      "Attaching package: ‘car’\n",
      "\n",
      "\n",
      "The following object is masked from ‘package:dplyr’:\n",
      "\n",
      "    recode\n",
      "\n",
      "\n",
      "The following object is masked from ‘package:purrr’:\n",
      "\n",
      "    some\n",
      "\n",
      "\n",
      "Loading required package: lmtest\n",
      "\n",
      "Loading required package: zoo\n",
      "\n",
      "\n",
      "Attaching package: ‘zoo’\n",
      "\n",
      "\n",
      "The following objects are masked from ‘package:base’:\n",
      "\n",
      "    as.Date, as.Date.numeric\n",
      "\n",
      "\n",
      "Loading required package: sandwich\n",
      "\n",
      "Loading required package: survival\n",
      "\n",
      "\n",
      "Attaching package: ‘qqplotr’\n",
      "\n",
      "\n",
      "The following objects are masked from ‘package:ggplot2’:\n",
      "\n",
      "    stat_qq_line, StatQqLine\n",
      "\n",
      "\n",
      "\n",
      "Attaching package: ‘MASS’\n",
      "\n",
      "\n",
      "The following object is masked from ‘package:dplyr’:\n",
      "\n",
      "    select\n",
      "\n",
      "\n"
     ]
    },
    {
     "name": "stdout",
     "output_type": "stream",
     "text": [
      "Error in get(genname, envir = envir) : object 'testthat_print' not found\n"
     ]
    },
    {
     "name": "stderr",
     "output_type": "stream",
     "text": [
      "\n",
      "Attaching package: ‘testthat’\n",
      "\n",
      "\n",
      "The following object is masked from ‘package:dplyr’:\n",
      "\n",
      "    matches\n",
      "\n",
      "\n",
      "The following object is masked from ‘package:purrr’:\n",
      "\n",
      "    is_null\n",
      "\n",
      "\n",
      "The following object is masked from ‘package:tidyr’:\n",
      "\n",
      "    matches\n",
      "\n",
      "\n"
     ]
    }
   ],
   "source": [
    "# Run this cell before continuing.\n",
    "library(tidyverse)\n",
    "library(repr)\n",
    "library(digest)\n",
    "library(infer)\n",
    "library(gridExtra)\n",
    "library(mlbench)\n",
    "library(AER)\n",
    "library(ISLR)\n",
    "library(broom)\n",
    "library(qqplotr)\n",
    "library(performance)\n",
    "library(see)\n",
    "library(MASS)\n",
    "library(glmbb)\n",
    "library(cowplot)\n",
    "source(\"tests_worksheet_12.R\")"
   ]
  },
  {
   "cell_type": "markdown",
   "metadata": {
    "nbgrader": {
     "grade": false,
     "grade_id": "cell-82e529f0a9216400",
     "locked": true,
     "schema_version": 3,
     "solution": false,
     "task": false
    }
   },
   "source": [
    "## 1. Intro\n",
    "\n",
    "In previous week, you explored the Multiple Linear Regression (MLR) as a way to model the mean of a numeric response variable, $Y$, given a set of covariate $\\mathbf{X}$:\n",
    "\n",
    "$$\n",
    "E\\left[Y\\left|\\mathbf{X}=\\left(X_1,...,X_p\\right)\\right.\\right] = \\beta_0 + \\beta_1X_1 + \\ldots + \\beta_pX_p\n",
    "$$\n",
    "\n",
    "However, in some situations, the MLR is not suitable. This week we are going to study two of those situations that commonly arises in practice:\n",
    "\n",
    "- the case of dichotomous variables (e.g., yes/no, success/failure, win/lose, sick/not sick); \n",
    "- the case of counts (e.g., number of cases of a rare disease in Vancouver in a period of one year; the number of accidents in the Canada Highway in a period of one month;)"
   ]
  },
  {
   "cell_type": "markdown",
   "metadata": {
    "nbgrader": {
     "grade": false,
     "grade_id": "cell-9be71f65643c5906",
     "locked": true,
     "schema_version": 3,
     "solution": false,
     "task": false
    }
   },
   "source": [
    "## 1. Logistic Regression\n",
    "\n"
   ]
  },
  {
   "cell_type": "markdown",
   "metadata": {
    "nbgrader": {
     "grade": false,
     "grade_id": "cell-7aad649d27ed77eb",
     "locked": true,
     "schema_version": 3,
     "solution": false,
     "task": false
    }
   },
   "source": [
    "The first section of this worksheet will focus on the dataset `Default` from [*An Introduction to Statistical Learning*](https://www.statlearning.com/) (James et al., 2013). This is a dataset of $n = 10,000$ observations with the following variables:\n",
    "\n",
    "- `default`: a binary response indicating whether the customer defaulted on their debt (`Yes` or `No`).\n",
    "- `student`: a binary input variable indicating whether the customer is a student (`Yes` or `No`).\n",
    "- `balance`: a continuous input variable indicating the remaining average balance of the customer's credit card (after the monthly payment).\n",
    "- `income`: a continuous input variable indicating the customer's income."
   ]
  },
  {
   "cell_type": "code",
   "execution_count": 2,
   "metadata": {
    "nbgrader": {
     "grade": false,
     "grade_id": "cell-be65b9244ff2e164",
     "locked": true,
     "schema_version": 3,
     "solution": false,
     "task": false
    }
   },
   "outputs": [
    {
     "data": {
      "text/html": [
       "<table class=\"dataframe\">\n",
       "<caption>A data.frame: 6 × 4</caption>\n",
       "<thead>\n",
       "\t<tr><th></th><th scope=col>default</th><th scope=col>student</th><th scope=col>balance</th><th scope=col>income</th></tr>\n",
       "\t<tr><th></th><th scope=col>&lt;fct&gt;</th><th scope=col>&lt;fct&gt;</th><th scope=col>&lt;dbl&gt;</th><th scope=col>&lt;dbl&gt;</th></tr>\n",
       "</thead>\n",
       "<tbody>\n",
       "\t<tr><th scope=row>1</th><td>No</td><td>No </td><td> 729.5265</td><td>44361.625</td></tr>\n",
       "\t<tr><th scope=row>2</th><td>No</td><td>Yes</td><td> 817.1804</td><td>12106.135</td></tr>\n",
       "\t<tr><th scope=row>3</th><td>No</td><td>No </td><td>1073.5492</td><td>31767.139</td></tr>\n",
       "\t<tr><th scope=row>4</th><td>No</td><td>No </td><td> 529.2506</td><td>35704.494</td></tr>\n",
       "\t<tr><th scope=row>5</th><td>No</td><td>No </td><td> 785.6559</td><td>38463.496</td></tr>\n",
       "\t<tr><th scope=row>6</th><td>No</td><td>Yes</td><td> 919.5885</td><td> 7491.559</td></tr>\n",
       "</tbody>\n",
       "</table>\n"
      ],
      "text/latex": [
       "A data.frame: 6 × 4\n",
       "\\begin{tabular}{r|llll}\n",
       "  & default & student & balance & income\\\\\n",
       "  & <fct> & <fct> & <dbl> & <dbl>\\\\\n",
       "\\hline\n",
       "\t1 & No & No  &  729.5265 & 44361.625\\\\\n",
       "\t2 & No & Yes &  817.1804 & 12106.135\\\\\n",
       "\t3 & No & No  & 1073.5492 & 31767.139\\\\\n",
       "\t4 & No & No  &  529.2506 & 35704.494\\\\\n",
       "\t5 & No & No  &  785.6559 & 38463.496\\\\\n",
       "\t6 & No & Yes &  919.5885 &  7491.559\\\\\n",
       "\\end{tabular}\n"
      ],
      "text/markdown": [
       "\n",
       "A data.frame: 6 × 4\n",
       "\n",
       "| <!--/--> | default &lt;fct&gt; | student &lt;fct&gt; | balance &lt;dbl&gt; | income &lt;dbl&gt; |\n",
       "|---|---|---|---|---|\n",
       "| 1 | No | No  |  729.5265 | 44361.625 |\n",
       "| 2 | No | Yes |  817.1804 | 12106.135 |\n",
       "| 3 | No | No  | 1073.5492 | 31767.139 |\n",
       "| 4 | No | No  |  529.2506 | 35704.494 |\n",
       "| 5 | No | No  |  785.6559 | 38463.496 |\n",
       "| 6 | No | Yes |  919.5885 |  7491.559 |\n",
       "\n"
      ],
      "text/plain": [
       "  default student balance   income   \n",
       "1 No      No       729.5265 44361.625\n",
       "2 No      Yes      817.1804 12106.135\n",
       "3 No      No      1073.5492 31767.139\n",
       "4 No      No       529.2506 35704.494\n",
       "5 No      No       785.6559 38463.496\n",
       "6 No      Yes      919.5885  7491.559"
      ]
     },
     "metadata": {},
     "output_type": "display_data"
    }
   ],
   "source": [
    "head(Default)"
   ]
  },
  {
   "cell_type": "markdown",
   "metadata": {
    "nbgrader": {
     "grade": false,
     "grade_id": "cell-435c6ac14d8ae3f6",
     "locked": true,
     "schema_version": 3,
     "solution": false,
     "task": false
    }
   },
   "source": [
    "**Question 1.0**\n",
    "<br>{points: 1}\n",
    "\n",
    "We want to assess whether the response `default` is statistically associated to the input variables `student`, `balance`, and `income`. We have to set our binary response $Y_i$ mathematically as:\n",
    "\n",
    "$$\n",
    "Y_i =\n",
    "\\begin{cases}\n",
    "1 \\; \\; \\; \\; \\mbox{if the $i$th customer is in default},\\\\\n",
    "0 \\; \\; \\; \\; \t\\mbox{otherwise.}\n",
    "\\end{cases}\n",
    "$$\n",
    "\n",
    "Note that the \"$1$\" category is referred as *success*. Moreover, each $Y_i$ is a Bernoulli trial whose probability of success is $p_i$, i.e., \n",
    "\n",
    "$$Y_i \\sim \\text{Bernoulli}(p_i).$$\n",
    "\n",
    "In the  `default` column, replace the levels `Yes` and `No` with the numerical values `1` and `0`, respectively."
   ]
  },
  {
   "cell_type": "code",
   "execution_count": 3,
   "metadata": {
    "nbgrader": {
     "grade": false,
     "grade_id": "cell-f583c10048ebd9d7",
     "locked": false,
     "schema_version": 3,
     "solution": true,
     "task": false
    },
    "scrolled": true
   },
   "outputs": [
    {
     "data": {
      "text/html": [
       "<table class=\"dataframe\">\n",
       "<caption>A data.frame: 6 × 4</caption>\n",
       "<thead>\n",
       "\t<tr><th></th><th scope=col>default</th><th scope=col>student</th><th scope=col>balance</th><th scope=col>income</th></tr>\n",
       "\t<tr><th></th><th scope=col>&lt;dbl&gt;</th><th scope=col>&lt;fct&gt;</th><th scope=col>&lt;dbl&gt;</th><th scope=col>&lt;dbl&gt;</th></tr>\n",
       "</thead>\n",
       "<tbody>\n",
       "\t<tr><th scope=row>1</th><td>0</td><td>No </td><td> 729.5265</td><td>44361.625</td></tr>\n",
       "\t<tr><th scope=row>2</th><td>0</td><td>Yes</td><td> 817.1804</td><td>12106.135</td></tr>\n",
       "\t<tr><th scope=row>3</th><td>0</td><td>No </td><td>1073.5492</td><td>31767.139</td></tr>\n",
       "\t<tr><th scope=row>4</th><td>0</td><td>No </td><td> 529.2506</td><td>35704.494</td></tr>\n",
       "\t<tr><th scope=row>5</th><td>0</td><td>No </td><td> 785.6559</td><td>38463.496</td></tr>\n",
       "\t<tr><th scope=row>6</th><td>0</td><td>Yes</td><td> 919.5885</td><td> 7491.559</td></tr>\n",
       "</tbody>\n",
       "</table>\n"
      ],
      "text/latex": [
       "A data.frame: 6 × 4\n",
       "\\begin{tabular}{r|llll}\n",
       "  & default & student & balance & income\\\\\n",
       "  & <dbl> & <fct> & <dbl> & <dbl>\\\\\n",
       "\\hline\n",
       "\t1 & 0 & No  &  729.5265 & 44361.625\\\\\n",
       "\t2 & 0 & Yes &  817.1804 & 12106.135\\\\\n",
       "\t3 & 0 & No  & 1073.5492 & 31767.139\\\\\n",
       "\t4 & 0 & No  &  529.2506 & 35704.494\\\\\n",
       "\t5 & 0 & No  &  785.6559 & 38463.496\\\\\n",
       "\t6 & 0 & Yes &  919.5885 &  7491.559\\\\\n",
       "\\end{tabular}\n"
      ],
      "text/markdown": [
       "\n",
       "A data.frame: 6 × 4\n",
       "\n",
       "| <!--/--> | default &lt;dbl&gt; | student &lt;fct&gt; | balance &lt;dbl&gt; | income &lt;dbl&gt; |\n",
       "|---|---|---|---|---|\n",
       "| 1 | 0 | No  |  729.5265 | 44361.625 |\n",
       "| 2 | 0 | Yes |  817.1804 | 12106.135 |\n",
       "| 3 | 0 | No  | 1073.5492 | 31767.139 |\n",
       "| 4 | 0 | No  |  529.2506 | 35704.494 |\n",
       "| 5 | 0 | No  |  785.6559 | 38463.496 |\n",
       "| 6 | 0 | Yes |  919.5885 |  7491.559 |\n",
       "\n"
      ],
      "text/plain": [
       "  default student balance   income   \n",
       "1 0       No       729.5265 44361.625\n",
       "2 0       Yes      817.1804 12106.135\n",
       "3 0       No      1073.5492 31767.139\n",
       "4 0       No       529.2506 35704.494\n",
       "5 0       No       785.6559 38463.496\n",
       "6 0       Yes      919.5885  7491.559"
      ]
     },
     "metadata": {},
     "output_type": "display_data"
    }
   ],
   "source": [
    "# Default <- \n",
    "#     Default %>% \n",
    "#     ...(... = ...(..., 1, 0))\n",
    "\n",
    "### BEGIN SOLUTION\n",
    "Default <- \n",
    "    Default %>% \n",
    "    mutate(default = if_else(default == \"Yes\", 1, 0))\n",
    "### END SOLUTION\n",
    "\n",
    "head(Default)"
   ]
  },
  {
   "cell_type": "code",
   "execution_count": 4,
   "metadata": {
    "nbgrader": {
     "grade": true,
     "grade_id": "cell-80e35ff00a0d8926",
     "locked": true,
     "points": 1,
     "schema_version": 3,
     "solution": false,
     "task": false
    }
   },
   "outputs": [
    {
     "name": "stdout",
     "output_type": "stream",
     "text": [
      "[1] \"Success!\"\n"
     ]
    }
   ],
   "source": [
    "test_1.0()"
   ]
  },
  {
   "cell_type": "markdown",
   "metadata": {
    "nbgrader": {
     "grade": false,
     "grade_id": "cell-ec0e34aef0968060",
     "locked": true,
     "schema_version": 3,
     "solution": false,
     "task": false
    }
   },
   "source": [
    "**Question 1.1**\n",
    "<br>{points: 1}\n",
    "\n",
    "Firstly, suppose we use the `1`s and `0`s in the response `default` as probabilities and we estimate a ordinary simple linear regression (SLR) to predict the mean of $Y_i$ (i.e., $p_i)$ subject to the continuous input `balance`:\n",
    "\n",
    "$$\n",
    "\\mathbb{E}(Y_i \\mid X_{\\textit{i,balance}}) = p_i = \\beta_0 + \\beta_1 X_{\\textit{i,balance}}.\n",
    "$$\n",
    "\n",
    "Create a plot of the data (using `geom_point()`) along with the estimated regression line (using `geom_smooth()` with `method = \"lm\"`). Include proper axis labels. The `ggplot()` object's name will be `Default_SLR_plot`.\n",
    "\n",
    "*Fill out those parts indicated with `...`, uncomment the corresponding code in the cell below, and run it.*"
   ]
  },
  {
   "cell_type": "code",
   "execution_count": 5,
   "metadata": {
    "nbgrader": {
     "grade": false,
     "grade_id": "cell-beeb841f20cbe0b7",
     "locked": false,
     "schema_version": 3,
     "solution": true,
     "task": false
    },
    "scrolled": false
   },
   "outputs": [
    {
     "name": "stderr",
     "output_type": "stream",
     "text": [
      "`geom_smooth()` using formula 'y ~ x'\n",
      "\n"
     ]
    },
    {
     "data": {
      "image/png": "[encoded data removed]",
      "text/plain": [
       "plot without title"
      ]
     },
     "metadata": {
      "image/png": {
       "height": 420,
       "width": 900
      }
     },
     "output_type": "display_data"
    }
   ],
   "source": [
    "options(repr.plot.width = 15, repr.plot.height = 7) # Adjust these numbers so the plot looks good in your desktop.\n",
    "\n",
    "# Default_SLR_plot <- ...(...) +\n",
    "#   ...(aes(..., ...)) +\n",
    "#   ...(aes(..., ...), method = ..., se = FALSE) +\n",
    "#   labs(y = ..., x = ...) +\n",
    "#   ggtitle(...) +\n",
    "#   theme(\n",
    "#     text = element_text(size = 16.5),\n",
    "#     plot.title = element_text(face = \"bold\"),\n",
    "#     axis.title = element_text(face = \"bold\"),\n",
    "#     legend.title = element_text(face = \"bold\")) +\n",
    "#   scale_x_continuous(breaks = seq(0, 2500, 500))\n",
    "\n",
    "\n",
    "### BEGIN SOLUTION\n",
    "Default_SLR_plot <- ggplot(Default) +\n",
    "  geom_point(aes(balance, default)) +\n",
    "  geom_smooth(aes(balance, default), method = \"lm\", se = FALSE) +\n",
    "  labs(y = \"Prob. of Default\", x = \"Balance\") +\n",
    "  ggtitle(\"Simple Linear Regression\") +\n",
    "  theme(\n",
    "    text = element_text(size = 16.5),\n",
    "    plot.title = element_text(face = \"bold\"),\n",
    "    axis.title = element_text(face = \"bold\"),\n",
    "    legend.title = element_text(face = \"bold\"),\n",
    "  ) +\n",
    "  scale_x_continuous(breaks = seq(0, 2500, 500))\n",
    "### END SOLUTION\n",
    "\n",
    "Default_SLR_plot"
   ]
  },
  {
   "cell_type": "code",
   "execution_count": 6,
   "metadata": {
    "nbgrader": {
     "grade": true,
     "grade_id": "cell-5f01635dd4cf6b6b",
     "locked": true,
     "points": 1,
     "schema_version": 3,
     "solution": false,
     "task": false
    }
   },
   "outputs": [
    {
     "name": "stdout",
     "output_type": "stream",
     "text": [
      "[1] \"Success!\"\n"
     ]
    }
   ],
   "source": [
    "test_1.1()"
   ]
  },
  {
   "cell_type": "markdown",
   "metadata": {
    "nbgrader": {
     "grade": false,
     "grade_id": "cell-a0c60c4720d6d478",
     "locked": true,
     "schema_version": 3,
     "solution": false,
     "task": false
    }
   },
   "source": [
    "**Class Discussion:** \n",
    "\n",
    "Do you see any problems with our model?  "
   ]
  },
  {
   "cell_type": "markdown",
   "metadata": {
    "nbgrader": {
     "grade": false,
     "grade_id": "cell-33c529c35aa6d29d",
     "locked": true,
     "schema_version": 3,
     "solution": false,
     "task": false
    }
   },
   "source": [
    "**Question 1.2**\n",
    "<br>{points: 1}\n",
    "\n",
    "To overcome the restrticted range problem, instead of using the linear model to estimate $p_i$ directly, i.e.,  \n",
    "\n",
    "$$\\mathbb{E}(Y_i|X_{\\textit{i,balance}}) = p_i = \\beta_0 + \\beta_1X_{i,\\textit{balance}},$$ \n",
    "\n",
    "we could use a curve that is always between $[0,1]$. One of such curves is the logistic curve:\n",
    "\n",
    "$$\\mathbb{E}(Y_i|X_{\\textit{i,balance}}) = p_i = \\frac{\\exp{\\left\\{\\beta_0 + \\beta_1X_{\\textit{i,balance}}\\right\\}}}{1+\\exp{\\left\\{\\beta_0 + \\beta_1X_{\\textit{i,balance}}\\right\\}}}$$ \n",
    "\n",
    "Let's see how the logistic curve looks like. In this exercise, you are going to plot the logistic curve to see how it behaves.\n",
    "\n",
    "_Save the plot in an object named `logistic_curve`._"
   ]
  },
  {
   "cell_type": "code",
   "execution_count": 7,
   "metadata": {
    "nbgrader": {
     "grade": false,
     "grade_id": "cell-ebd9f096f835b1b0",
     "locked": false,
     "schema_version": 3,
     "solution": true,
     "task": false
    }
   },
   "outputs": [
    {
     "data": {
      "image/png": "[encoded data removed]",
      "text/plain": [
       "plot without title"
      ]
     },
     "metadata": {
      "image/png": {
       "height": 420,
       "width": 900
      }
     },
     "output_type": "display_data"
    }
   ],
   "source": [
    "# logistic_curve <-\n",
    "#     tibble(z = seq(-10,10,0.01),\n",
    "#            logistic_z = ...) %>% \n",
    "#     ggplot(aes(z, ...)) + \n",
    "#     geom_line() +\n",
    "#     geom_hline(yintercept = 1, lty=2) + \n",
    "#     geom_hline(yintercept = 0, lty=2) +\n",
    "#     theme(text = element_text(size = 20)) + \n",
    "#     ggtitle(\"Logistic curve\")\n",
    "\n",
    "### BEGIN SOLUTION\n",
    "logistic_curve <-\n",
    "    tibble(z = seq(-10,10,0.01),\n",
    "           logistic_z = exp(z)/(1+exp(z))) %>% \n",
    "    ggplot(aes(z, logistic_z)) + \n",
    "    geom_line() +\n",
    "    geom_hline(yintercept = 1, lty=2) + \n",
    "    geom_hline(yintercept = 0, lty=2) +\n",
    "    theme(text = element_text(size = 20)) +\n",
    "    ggtitle(\"Logistic curve\")\n",
    "### END SOLUTION\n",
    "\n",
    "logistic_curve"
   ]
  },
  {
   "cell_type": "code",
   "execution_count": 8,
   "metadata": {
    "nbgrader": {
     "grade": true,
     "grade_id": "cell-7728e71dc711badb",
     "locked": true,
     "points": 1,
     "schema_version": 3,
     "solution": false,
     "task": false
    }
   },
   "outputs": [
    {
     "name": "stdout",
     "output_type": "stream",
     "text": [
      "[1] \"Success!\"\n"
     ]
    }
   ],
   "source": [
    "test_1.2()"
   ]
  },
  {
   "cell_type": "markdown",
   "metadata": {
    "nbgrader": {
     "grade": false,
     "grade_id": "cell-1f6a141622c13896",
     "locked": true,
     "schema_version": 3,
     "solution": false,
     "task": false
    }
   },
   "source": [
    "**Question 1.3: Understanding the odds**\n",
    "<br>{points: 1}\n",
    "\n",
    "By using the logistic curve to model the probability of the response given the covarites, in this case, \n",
    "\n",
    "$$\\mathbb{E}(Y_i|X_{\\texttt{balance}_i}) = p_i = \\frac{\\exp{\\left\\{\\beta_0 + \\beta_1X_{\\texttt{balance}_i}\\right\\}}}{1+\\exp{\\left\\{\\beta_0 + \\beta_1X_{\\texttt{balance}_i}\\right\\}}}$$ \n",
    "\n",
    "instead of using $\\beta_0 + \\beta_1X_{\\texttt{balance}_i}$ to predict $p_i$ directly, we are using it to predict \n",
    "\n",
    "\\begin{equation*}\n",
    "\\log\\left(\\frac{p_i}{1 - p_i}\\right) = \\beta_0 + \\beta_1 X_{\\texttt{balance}_i}.\n",
    "\\end{equation*}\n",
    "\n",
    "The function $\\log\\left(\\frac{p_i}{1 - p_i}\\right)$ is called `logit`, and it is *logarithm of the odds*. Answer the question below:\n",
    "\n",
    "> Vancouver Canucks is playing against Calgary Flames in the Final of NHL. The match will be at Rogers' arena, Canucks home. It is expected that out of 18,910 seats in the arena, 13700 seats will be occupied by Canucks fans. During the match, prizes are randomly distributed among the seats. What are the odds that a Canucks fan wins a given prize? \n",
    "\n",
    "Assign your answer to an object named `answer1.3`."
   ]
  },
  {
   "cell_type": "code",
   "execution_count": 9,
   "metadata": {
    "nbgrader": {
     "grade": false,
     "grade_id": "cell-ee8b9ad3125f8346",
     "locked": false,
     "schema_version": 3,
     "solution": true,
     "task": false
    }
   },
   "outputs": [
    {
     "data": {
      "text/html": [
       "2.62955854126679"
      ],
      "text/latex": [
       "2.62955854126679"
      ],
      "text/markdown": [
       "2.62955854126679"
      ],
      "text/plain": [
       "[1] 2.629559"
      ]
     },
     "metadata": {},
     "output_type": "display_data"
    }
   ],
   "source": [
    "#answer1.3 <- ...\n",
    "\n",
    "### BEGIN SOLUTION\n",
    "answer1.3 <- 13700/(18910-13700)\n",
    "### END SOLUTION\n",
    "\n",
    "answer1.3"
   ]
  },
  {
   "cell_type": "code",
   "execution_count": 10,
   "metadata": {
    "nbgrader": {
     "grade": true,
     "grade_id": "cell-85f66b5726146ab1",
     "locked": true,
     "points": 1,
     "schema_version": 3,
     "solution": false,
     "task": false
    }
   },
   "outputs": [
    {
     "name": "stdout",
     "output_type": "stream",
     "text": [
      "[1] \"Success!\"\n"
     ]
    }
   ],
   "source": [
    "test_1.3()"
   ]
  },
  {
   "cell_type": "markdown",
   "metadata": {
    "nbgrader": {
     "grade": false,
     "grade_id": "cell-8a7c7401c453d69c",
     "locked": true,
     "schema_version": 3,
     "solution": false,
     "task": false
    }
   },
   "source": [
    "**Question 1.4:**\n",
    "<br>{points: 1}\n",
    "\n",
    "Let us plot the predictions of the binary logistic regression model on top of `Default_SLR_plot`. Use `geom_smooth()` with `method = \"glm\"` and `method.args = c(family = binomial)`.\n",
    "\n",
    "*Fill out those parts indicated with `...`, uncomment the corresponding code in the cell below, and run it.*"
   ]
  },
  {
   "cell_type": "code",
   "execution_count": 11,
   "metadata": {
    "nbgrader": {
     "grade": false,
     "grade_id": "cell-47acd27ded854e48",
     "locked": false,
     "schema_version": 3,
     "solution": true,
     "task": false
    }
   },
   "outputs": [
    {
     "name": "stderr",
     "output_type": "stream",
     "text": [
      "`geom_smooth()` using formula 'y ~ x'\n",
      "\n",
      "`geom_smooth()` using formula 'y ~ x'\n",
      "\n"
     ]
    },
    {
     "data": {
      "image/png": "[encoded data removed]",
      "text/plain": [
       "plot without title"
      ]
     },
     "metadata": {
      "image/png": {
       "height": 420,
       "width": 900
      }
     },
     "output_type": "display_data"
    }
   ],
   "source": [
    "# Default_SLR_plot <- \n",
    "#     Default_SLR_plot +\n",
    "#     ...(aes(..., ...),\n",
    "#         ...,\n",
    "#         ..., se = FALSE, color = \"red\") +\n",
    "#     ggtitle(\"Simple Linear Regression and Binary Logistic Regression\")\n",
    "\n",
    "### BEGIN SOLUTION\n",
    "Default_SLR_plot <- \n",
    "    Default_SLR_plot +\n",
    "    geom_smooth(aes(balance, default),\n",
    "                method = \"glm\",\n",
    "                method.args = c(family = binomial), se = FALSE, color = \"red\") +\n",
    "  ggtitle(\"Simple Linear Regression and Binary Logistic Regression\")\n",
    "### END SOLUTION\n",
    "\n",
    "Default_SLR_plot"
   ]
  },
  {
   "cell_type": "code",
   "execution_count": 12,
   "metadata": {
    "nbgrader": {
     "grade": true,
     "grade_id": "cell-4989d973853e512d",
     "locked": true,
     "points": 1,
     "schema_version": 3,
     "solution": false,
     "task": false
    }
   },
   "outputs": [
    {
     "name": "stdout",
     "output_type": "stream",
     "text": [
      "[1] \"Success!\"\n"
     ]
    }
   ],
   "source": [
    "test_1.4()"
   ]
  },
  {
   "cell_type": "markdown",
   "metadata": {
    "nbgrader": {
     "grade": false,
     "grade_id": "cell-a628cff07e7aa9ce",
     "locked": true,
     "schema_version": 3,
     "solution": false,
     "task": false
    }
   },
   "source": [
    "Much better, isn't? \n",
    "\n",
    "--------------------------"
   ]
  },
  {
   "cell_type": "markdown",
   "metadata": {
    "nbgrader": {
     "grade": false,
     "grade_id": "cell-ed0a86b15f54a046",
     "locked": true,
     "schema_version": 3,
     "solution": false,
     "task": false
    }
   },
   "source": [
    "Ok, let's review our model!\n",
    "\n",
    "In this case, we have that \n",
    "\n",
    "$$\n",
    "Y_i =\n",
    "\\begin{cases}\n",
    "1 \\; \\; \\; \\; \\mbox{if the $i$th customer is in default},\\\\\n",
    "0 \\; \\; \\; \\; \t\\mbox{otherwise.}\n",
    "\\end{cases}\n",
    "$$\n",
    "\n",
    "As the response variable can only take the values $0$ or $1$, the key parameter becomes the probability that $Y_i$ takes on the value of $1$, i.e. the probability that the customer is in default, denoted as $p_i$. Hence:\n",
    "\n",
    "$$\\left.Y_i\\right|X_{i, \\textit{student}}, X_{i, \\textit{balance}}, X_{i, \\textit{income}} \\sim \\text{Bernoulli}(p_i).$$\n",
    "\n",
    "The binary logistic regression models the probability $p_i$ given some contextual information (i.e., our covariates). To re-express $p_i$ on an unrestricted scale, the modelling is done in terms of the logit function:\n",
    "\n",
    "$$\n",
    "\\mbox{logit}(p_i) = \\log \\bigg( \\frac{p_i}{1 - p_i}\\bigg) = \\beta_0 + \\beta_1 X_{i, \\textit{student}} + \\beta_2 X_{i, \\textit{balance}} + \\beta_{3} X_{i, \\textit{income}},\n",
    "$$\n",
    "\n",
    "or equivalently\n",
    "\n",
    "$$\n",
    "p_i = \\frac{\\exp\\big[\\beta_0 + \\beta_1 X_{i, \\textit{student}} + \\beta_2 X_{i, \\textit{balance}} + \\beta_{3} X_{i, \\textit{income}}\\big]}{1 + \\exp\\big[\\beta_0 + \\beta_1 X_{i, \\textit{student}} + \\beta_2 X_{i, \\textit{balance}} + \\beta_{3} X_{i, \\textit{income}}\\big]}.\n",
    "$$\n",
    "\n",
    "The response in this GLM is called the log-odds, the logarithm of the odds $p_i/(1 - p_i)$, the ratio of the probability of the event to the probability of the non-event. For instance, if the event is that the customer is in the default, it denotes how likely the $i$th customer is to be in default compared to how unlikely it is. \n",
    "\n",
    "\n",
    "The question now is, how do we estimate the coefficients $\\beta_0, \\beta_1, \\beta_2,$ and, $\\beta_3$? So far, in the case of linear regression, we have been using the Least Square Estimators. However, we won't be using least square this week. We are going to use a method called Maximum Likelihood Estimators (MLE). Details of MLE are outside the scope of this course. Luckily for us, R can assist us with that! "
   ]
  },
  {
   "cell_type": "markdown",
   "metadata": {
    "nbgrader": {
     "grade": false,
     "grade_id": "cell-148b1dc1b2667581",
     "locked": true,
     "schema_version": 3,
     "solution": false,
     "task": false
    }
   },
   "source": [
    "**Question 1.5: Estimation**\n",
    "<br>{points: 1}\n",
    "\n",
    "In order to fit the model, we can use the function `glm()` and its argument `family = binomial` (required to specify the binary nature of the response). Let us use the function `glm()` to estimate a binary logistic regression. Using `Default`, we will fit a binary logistic model with `default` as the response and `student`, `balance`, and `income` as input variables.\n",
    "    \n",
    "Store the model in an object named `Default_binary_log_model`. The `glm()` parameters are analogous to `lm()` (`formula` and `data`) with the addition of `family = binomial` for this specific model. "
   ]
  },
  {
   "cell_type": "code",
   "execution_count": 13,
   "metadata": {
    "nbgrader": {
     "grade": false,
     "grade_id": "cell-7097573be6a38bf2",
     "locked": false,
     "schema_version": 3,
     "solution": true,
     "task": false
    },
    "scrolled": false
   },
   "outputs": [
    {
     "data": {
      "text/plain": [
       "\n",
       "Call:\n",
       "glm(formula = default ~ student + balance + income, family = binomial, \n",
       "    data = Default)\n",
       "\n",
       "Deviance Residuals: \n",
       "    Min       1Q   Median       3Q      Max  \n",
       "-2.4691  -0.1418  -0.0557  -0.0203   3.7383  \n",
       "\n",
       "Coefficients:\n",
       "              Estimate Std. Error z value Pr(>|z|)    \n",
       "(Intercept) -1.087e+01  4.923e-01 -22.080  < 2e-16 ***\n",
       "studentYes  -6.468e-01  2.363e-01  -2.738  0.00619 ** \n",
       "balance      5.737e-03  2.319e-04  24.738  < 2e-16 ***\n",
       "income       3.033e-06  8.203e-06   0.370  0.71152    \n",
       "---\n",
       "Signif. codes:  0 ‘***’ 0.001 ‘**’ 0.01 ‘*’ 0.05 ‘.’ 0.1 ‘ ’ 1\n",
       "\n",
       "(Dispersion parameter for binomial family taken to be 1)\n",
       "\n",
       "    Null deviance: 2920.6  on 9999  degrees of freedom\n",
       "Residual deviance: 1571.5  on 9996  degrees of freedom\n",
       "AIC: 1579.5\n",
       "\n",
       "Number of Fisher Scoring iterations: 8\n"
      ]
     },
     "metadata": {},
     "output_type": "display_data"
    }
   ],
   "source": [
    "# Default_binary_log_model <- \n",
    "#   ...(\n",
    "#        ...,\n",
    "#        ...,\n",
    "#        ...)\n",
    "\n",
    "\n",
    "### BEGIN SOLUTION\n",
    "Default_binary_log_model <- \n",
    "    glm(\n",
    "        formula = default ~ student + balance + income,\n",
    "        data = Default,\n",
    "        family = binomial)\n",
    "### END SOLUTION\n",
    "\n",
    "summary(Default_binary_log_model)"
   ]
  },
  {
   "cell_type": "code",
   "execution_count": 14,
   "metadata": {
    "nbgrader": {
     "grade": true,
     "grade_id": "cell-a0e923b260f01656",
     "locked": true,
     "points": 1,
     "schema_version": 3,
     "solution": false,
     "task": false
    }
   },
   "outputs": [
    {
     "name": "stdout",
     "output_type": "stream",
     "text": [
      "[1] \"Success!\"\n"
     ]
    }
   ],
   "source": [
    "test_1.5()"
   ]
  },
  {
   "cell_type": "markdown",
   "metadata": {
    "nbgrader": {
     "grade": false,
     "grade_id": "cell-8357d4c87f849b10",
     "locked": true,
     "schema_version": 3,
     "solution": false,
     "task": false
    }
   },
   "source": [
    "\n",
    "\n",
    "--------------------------\n",
    "\n",
    "We could make inference with our binary logistic regression model, i.e., we can determine whether an input variable is statistically associated with the logarithm of the odds through hypothesis testing for the parameters $\\beta_j$. Hence, we will need information about the estimated regression coefficient $\\hat{\\beta}_j$ and its corresponding variability, which is reflected in the standard error of the estimate, $\\mbox{SE}\\left(\\hat{\\beta}_j\\right)$. \n",
    "\n",
    "To determine the statistical significance of the regression coefficient, you can use the Wald statistic $z_j$\n",
    "\n",
    "$$z_j = \\frac{\\hat{\\beta}_j}{\\mbox{SE}\\left(\\hat{\\beta}_j\\right)}$$\n",
    "\n",
    "to test the hypotheses\n",
    "\\begin{gather*}\n",
    "H_0: \\beta_j = 0\\\\\n",
    "H_a: \\beta_j \\neq 0.\n",
    "\\end{gather*}\n",
    "\n",
    "A statistic like $z_j$ is referred to as a $t$-value in ordinary linear regression. However, in binary logistic regression, provided the sample size $n$ is large enough, $z_j$ has an approximately standard normal distribution under $H_0$ rather than a $t$-distribution.\n",
    "\n",
    "Furthermore, given a specified level of confidence, we can construct approximate $(1 - \\alpha) \\times 100\\%$ confidence intervals for the corresponding true value of $\\beta_j$:\n",
    "\n",
    "$$\\hat{\\beta}_j \\pm z_{\\alpha/2}\\mbox{SE}\\left(\\hat{\\beta}_j\\right),$$\n",
    "\n",
    "where $z_{\\alpha/2}$ is the upper $\\alpha/2$ quantile of the standard normal distribution."
   ]
  },
  {
   "cell_type": "markdown",
   "metadata": {
    "nbgrader": {
     "grade": false,
     "grade_id": "cell-c18026a5fd84fca7",
     "locked": true,
     "schema_version": 3,
     "solution": false,
     "task": false
    }
   },
   "source": [
    "**Question 1.6: Inference**\n",
    "<br>{points: 1}\n",
    "\n",
    "Report the estimated coefficients, their standard errors, and corresponding $p$-values by calling `tidy()` on `Default_binary_log_model`. Include the corresponding asymptotic 95% confidence intervals. \n",
    "\n",
    "_Store the results in the variable `Default_binary_log_model_results`._"
   ]
  },
  {
   "cell_type": "code",
   "execution_count": 15,
   "metadata": {
    "nbgrader": {
     "grade": false,
     "grade_id": "cell-ad37611aa165ca7a",
     "locked": false,
     "schema_version": 3,
     "solution": true,
     "task": false
    },
    "scrolled": true
   },
   "outputs": [
    {
     "data": {
      "text/html": [
       "<table class=\"dataframe\">\n",
       "<caption>A tibble: 4 × 7</caption>\n",
       "<thead>\n",
       "\t<tr><th scope=col>term</th><th scope=col>estimate</th><th scope=col>std.error</th><th scope=col>statistic</th><th scope=col>p.value</th><th scope=col>conf.low</th><th scope=col>conf.high</th></tr>\n",
       "\t<tr><th scope=col>&lt;chr&gt;</th><th scope=col>&lt;dbl&gt;</th><th scope=col>&lt;dbl&gt;</th><th scope=col>&lt;dbl&gt;</th><th scope=col>&lt;dbl&gt;</th><th scope=col>&lt;dbl&gt;</th><th scope=col>&lt;dbl&gt;</th></tr>\n",
       "</thead>\n",
       "<tbody>\n",
       "\t<tr><td>(Intercept)</td><td>-1.086905e+01</td><td>4.922555e-01</td><td>-22.080088</td><td>4.911280e-108</td><td>-1.185902e+01</td><td>-9.928174e+00</td></tr>\n",
       "\t<tr><td>studentYes </td><td>-6.467758e-01</td><td>2.362525e-01</td><td> -2.737646</td><td> 6.188063e-03</td><td>-1.109018e+00</td><td>-1.822147e-01</td></tr>\n",
       "\t<tr><td>balance    </td><td> 5.736505e-03</td><td>2.318945e-04</td><td> 24.737563</td><td>4.219578e-135</td><td> 5.294898e-03</td><td> 6.204587e-03</td></tr>\n",
       "\t<tr><td>income     </td><td> 3.033450e-06</td><td>8.202615e-06</td><td>  0.369815</td><td> 7.115203e-01</td><td>-1.304712e-05</td><td> 1.912447e-05</td></tr>\n",
       "</tbody>\n",
       "</table>\n"
      ],
      "text/latex": [
       "A tibble: 4 × 7\n",
       "\\begin{tabular}{lllllll}\n",
       " term & estimate & std.error & statistic & p.value & conf.low & conf.high\\\\\n",
       " <chr> & <dbl> & <dbl> & <dbl> & <dbl> & <dbl> & <dbl>\\\\\n",
       "\\hline\n",
       "\t (Intercept) & -1.086905e+01 & 4.922555e-01 & -22.080088 & 4.911280e-108 & -1.185902e+01 & -9.928174e+00\\\\\n",
       "\t studentYes  & -6.467758e-01 & 2.362525e-01 &  -2.737646 &  6.188063e-03 & -1.109018e+00 & -1.822147e-01\\\\\n",
       "\t balance     &  5.736505e-03 & 2.318945e-04 &  24.737563 & 4.219578e-135 &  5.294898e-03 &  6.204587e-03\\\\\n",
       "\t income      &  3.033450e-06 & 8.202615e-06 &   0.369815 &  7.115203e-01 & -1.304712e-05 &  1.912447e-05\\\\\n",
       "\\end{tabular}\n"
      ],
      "text/markdown": [
       "\n",
       "A tibble: 4 × 7\n",
       "\n",
       "| term &lt;chr&gt; | estimate &lt;dbl&gt; | std.error &lt;dbl&gt; | statistic &lt;dbl&gt; | p.value &lt;dbl&gt; | conf.low &lt;dbl&gt; | conf.high &lt;dbl&gt; |\n",
       "|---|---|---|---|---|---|---|\n",
       "| (Intercept) | -1.086905e+01 | 4.922555e-01 | -22.080088 | 4.911280e-108 | -1.185902e+01 | -9.928174e+00 |\n",
       "| studentYes  | -6.467758e-01 | 2.362525e-01 |  -2.737646 |  6.188063e-03 | -1.109018e+00 | -1.822147e-01 |\n",
       "| balance     |  5.736505e-03 | 2.318945e-04 |  24.737563 | 4.219578e-135 |  5.294898e-03 |  6.204587e-03 |\n",
       "| income      |  3.033450e-06 | 8.202615e-06 |   0.369815 |  7.115203e-01 | -1.304712e-05 |  1.912447e-05 |\n",
       "\n"
      ],
      "text/plain": [
       "  term        estimate      std.error    statistic  p.value       conf.low     \n",
       "1 (Intercept) -1.086905e+01 4.922555e-01 -22.080088 4.911280e-108 -1.185902e+01\n",
       "2 studentYes  -6.467758e-01 2.362525e-01  -2.737646  6.188063e-03 -1.109018e+00\n",
       "3 balance      5.736505e-03 2.318945e-04  24.737563 4.219578e-135  5.294898e-03\n",
       "4 income       3.033450e-06 8.202615e-06   0.369815  7.115203e-01 -1.304712e-05\n",
       "  conf.high    \n",
       "1 -9.928174e+00\n",
       "2 -1.822147e-01\n",
       "3  6.204587e-03\n",
       "4  1.912447e-05"
      ]
     },
     "metadata": {},
     "output_type": "display_data"
    }
   ],
   "source": [
    "# Default_binary_log_model_results <- \n",
    "#   ...(..., conf.int = TRUE) \n",
    "\n",
    "### BEGIN SOLUTION\n",
    "Default_binary_log_model_results <- \n",
    "    tidy(Default_binary_log_model, conf.int = TRUE) \n",
    "### END SOLUTION\n",
    "\n",
    "Default_binary_log_model_results"
   ]
  },
  {
   "cell_type": "code",
   "execution_count": 16,
   "metadata": {
    "nbgrader": {
     "grade": true,
     "grade_id": "cell-38f7c2eea95906c9",
     "locked": true,
     "points": 1,
     "schema_version": 3,
     "solution": false,
     "task": false
    }
   },
   "outputs": [
    {
     "name": "stdout",
     "output_type": "stream",
     "text": [
      "[1] \"Success!\"\n"
     ]
    }
   ],
   "source": [
    "test_1.6()"
   ]
  },
  {
   "cell_type": "markdown",
   "metadata": {
    "nbgrader": {
     "grade": false,
     "grade_id": "cell-82749136a082e937",
     "locked": true,
     "schema_version": 3,
     "solution": false,
     "task": false
    }
   },
   "source": [
    "**Question 1.7: Inference**\n",
    "<br>{points: 1}\n",
    "\n",
    "Add the estimated effect each of the variables has on the **odds** to the `Default_binary_log_model_results` tibble. Make sure to also include the confidence interval for these effects."
   ]
  },
  {
   "cell_type": "code",
   "execution_count": 17,
   "metadata": {
    "nbgrader": {
     "grade": false,
     "grade_id": "cell-366329ae6e91a284",
     "locked": false,
     "schema_version": 3,
     "solution": true,
     "task": false
    }
   },
   "outputs": [
    {
     "data": {
      "text/html": [
       "<table class=\"dataframe\">\n",
       "<caption>A tibble: 4 × 10</caption>\n",
       "<thead>\n",
       "\t<tr><th scope=col>term</th><th scope=col>estimate</th><th scope=col>std.error</th><th scope=col>statistic</th><th scope=col>p.value</th><th scope=col>conf.low</th><th scope=col>conf.high</th><th scope=col>exp.estimate</th><th scope=col>exp.conf.low</th><th scope=col>exp.conf.high</th></tr>\n",
       "\t<tr><th scope=col>&lt;chr&gt;</th><th scope=col>&lt;dbl&gt;</th><th scope=col>&lt;dbl&gt;</th><th scope=col>&lt;dbl&gt;</th><th scope=col>&lt;dbl&gt;</th><th scope=col>&lt;dbl&gt;</th><th scope=col>&lt;dbl&gt;</th><th scope=col>&lt;dbl&gt;</th><th scope=col>&lt;dbl&gt;</th><th scope=col>&lt;dbl&gt;</th></tr>\n",
       "</thead>\n",
       "<tbody>\n",
       "\t<tr><td>(Intercept)</td><td>-10.869045</td><td>0.492256</td><td>-22.080088</td><td>0.000000</td><td>-11.859017</td><td>-9.928174</td><td>0.000019</td><td>0.000007</td><td>0.000049</td></tr>\n",
       "\t<tr><td>studentYes </td><td> -0.646776</td><td>0.236253</td><td> -2.737646</td><td>0.006188</td><td> -1.109018</td><td>-0.182215</td><td>0.523732</td><td>0.329883</td><td>0.833422</td></tr>\n",
       "\t<tr><td>balance    </td><td>  0.005737</td><td>0.000232</td><td> 24.737563</td><td>0.000000</td><td>  0.005295</td><td> 0.006205</td><td>1.005753</td><td>1.005309</td><td>1.006224</td></tr>\n",
       "\t<tr><td>income     </td><td>  0.000003</td><td>0.000008</td><td>  0.369815</td><td>0.711520</td><td> -0.000013</td><td> 0.000019</td><td>1.000003</td><td>0.999987</td><td>1.000019</td></tr>\n",
       "</tbody>\n",
       "</table>\n"
      ],
      "text/latex": [
       "A tibble: 4 × 10\n",
       "\\begin{tabular}{llllllllll}\n",
       " term & estimate & std.error & statistic & p.value & conf.low & conf.high & exp.estimate & exp.conf.low & exp.conf.high\\\\\n",
       " <chr> & <dbl> & <dbl> & <dbl> & <dbl> & <dbl> & <dbl> & <dbl> & <dbl> & <dbl>\\\\\n",
       "\\hline\n",
       "\t (Intercept) & -10.869045 & 0.492256 & -22.080088 & 0.000000 & -11.859017 & -9.928174 & 0.000019 & 0.000007 & 0.000049\\\\\n",
       "\t studentYes  &  -0.646776 & 0.236253 &  -2.737646 & 0.006188 &  -1.109018 & -0.182215 & 0.523732 & 0.329883 & 0.833422\\\\\n",
       "\t balance     &   0.005737 & 0.000232 &  24.737563 & 0.000000 &   0.005295 &  0.006205 & 1.005753 & 1.005309 & 1.006224\\\\\n",
       "\t income      &   0.000003 & 0.000008 &   0.369815 & 0.711520 &  -0.000013 &  0.000019 & 1.000003 & 0.999987 & 1.000019\\\\\n",
       "\\end{tabular}\n"
      ],
      "text/markdown": [
       "\n",
       "A tibble: 4 × 10\n",
       "\n",
       "| term &lt;chr&gt; | estimate &lt;dbl&gt; | std.error &lt;dbl&gt; | statistic &lt;dbl&gt; | p.value &lt;dbl&gt; | conf.low &lt;dbl&gt; | conf.high &lt;dbl&gt; | exp.estimate &lt;dbl&gt; | exp.conf.low &lt;dbl&gt; | exp.conf.high &lt;dbl&gt; |\n",
       "|---|---|---|---|---|---|---|---|---|---|\n",
       "| (Intercept) | -10.869045 | 0.492256 | -22.080088 | 0.000000 | -11.859017 | -9.928174 | 0.000019 | 0.000007 | 0.000049 |\n",
       "| studentYes  |  -0.646776 | 0.236253 |  -2.737646 | 0.006188 |  -1.109018 | -0.182215 | 0.523732 | 0.329883 | 0.833422 |\n",
       "| balance     |   0.005737 | 0.000232 |  24.737563 | 0.000000 |   0.005295 |  0.006205 | 1.005753 | 1.005309 | 1.006224 |\n",
       "| income      |   0.000003 | 0.000008 |   0.369815 | 0.711520 |  -0.000013 |  0.000019 | 1.000003 | 0.999987 | 1.000019 |\n",
       "\n"
      ],
      "text/plain": [
       "  term        estimate   std.error statistic  p.value  conf.low   conf.high\n",
       "1 (Intercept) -10.869045 0.492256  -22.080088 0.000000 -11.859017 -9.928174\n",
       "2 studentYes   -0.646776 0.236253   -2.737646 0.006188  -1.109018 -0.182215\n",
       "3 balance       0.005737 0.000232   24.737563 0.000000   0.005295  0.006205\n",
       "4 income        0.000003 0.000008    0.369815 0.711520  -0.000013  0.000019\n",
       "  exp.estimate exp.conf.low exp.conf.high\n",
       "1 0.000019     0.000007     0.000049     \n",
       "2 0.523732     0.329883     0.833422     \n",
       "3 1.005753     1.005309     1.006224     \n",
       "4 1.000003     0.999987     1.000019     "
      ]
     },
     "metadata": {},
     "output_type": "display_data"
    }
   ],
   "source": [
    "# Default_binary_log_model_results <- \n",
    "#   ... %>%\n",
    "#   mutate(\n",
    "#     exp.estimate = ...,\n",
    "#     exp.conf.low = ...,\n",
    "#     exp.conf.high = ...) %>%\n",
    "#   mutate_if(is.numeric, round, 6)\n",
    "\n",
    "### BEGIN SOLUTION\n",
    "Default_binary_log_model_results <- \n",
    "    Default_binary_log_model_results %>%\n",
    "    mutate(\n",
    "        exp.estimate = exp(estimate),\n",
    "        exp.conf.low = exp(conf.low),\n",
    "        exp.conf.high = exp(conf.high)) %>%\n",
    "    mutate_if(is.numeric, round, 6)\n",
    "### END SOLUTION\n",
    "\n",
    "Default_binary_log_model_results"
   ]
  },
  {
   "cell_type": "code",
   "execution_count": 18,
   "metadata": {
    "nbgrader": {
     "grade": true,
     "grade_id": "cell-b905bb95b0e06997",
     "locked": true,
     "points": 1,
     "schema_version": 3,
     "solution": false,
     "task": false
    }
   },
   "outputs": [
    {
     "name": "stdout",
     "output_type": "stream",
     "text": [
      "[1] \"Success!\"\n"
     ]
    }
   ],
   "source": [
    "test_1.7()"
   ]
  },
  {
   "cell_type": "markdown",
   "metadata": {
    "nbgrader": {
     "grade": false,
     "grade_id": "cell-d9141f6447689b01",
     "locked": true,
     "schema_version": 3,
     "solution": false,
     "task": false
    }
   },
   "source": [
    "**Question 1.8**\n",
    "<br>{points: 1}\n",
    "\n",
    "Using a **significance level $\\alpha = 0.05$**, which inputs are statistically associated to the response via their regression coefficients in `Default_binary_log_model_results`?\n",
    "\n",
    "**A.** The categorical input `student`.\n",
    "\n",
    "**B.** The continuous input `balance`.\n",
    "\n",
    "**C.** The continuous input `income`.\n",
    "\n",
    "*Assign your answers to the object `answer1.8`. Your answers have to be included in a single string indicating the correct options **in alphabetical order** and surrounded by quotes (e.g., `\"ABC\"` indicates you are selecting the three options).*"
   ]
  },
  {
   "cell_type": "code",
   "execution_count": 19,
   "metadata": {
    "nbgrader": {
     "grade": false,
     "grade_id": "cell-822cb96c53313b4e",
     "locked": false,
     "schema_version": 3,
     "solution": true,
     "task": false
    }
   },
   "outputs": [],
   "source": [
    "# answer1.8 <- \n",
    "\n",
    "### BEGIN SOLUTION\n",
    "answer1.8 <- \"AB\"\n",
    "### END SOLUTION"
   ]
  },
  {
   "cell_type": "code",
   "execution_count": 20,
   "metadata": {
    "nbgrader": {
     "grade": true,
     "grade_id": "cell-a04e784c42d742dc",
     "locked": true,
     "points": 1,
     "schema_version": 3,
     "solution": false,
     "task": false
    }
   },
   "outputs": [
    {
     "name": "stdout",
     "output_type": "stream",
     "text": [
      "[1] \"Success!\"\n"
     ]
    }
   ],
   "source": [
    "test_1.8()"
   ]
  },
  {
   "cell_type": "markdown",
   "metadata": {
    "nbgrader": {
     "grade": false,
     "grade_id": "cell-5fe352592ed23811",
     "locked": true,
     "schema_version": 3,
     "solution": false,
     "task": false
    }
   },
   "source": [
    "**Question 1.9**\n",
    "<br>{points: 1}\n",
    "\n",
    "Considering the `Default_binary_log_model_results` tibble, what is the correct interpretation of the  $\\hat{\\beta}_\\textit{student}$?\n",
    "\n",
    "**A.** A customer who is *not* a student is $1 / 0.524 = 1.908$ times more likely to be in default than not to, while keeping the rest of the input variables constant.\n",
    "\n",
    "**B.** A customer who is *not* a student is $1 / 0.647 = 1.546$ times more likely to be in default than not to, while keeping the rest of the input variables constant.\n",
    "\n",
    "**C.** A customer who is a student is $1 / 0.524 = 1.908$ times more likely to not be in default than being in default, while keeping the rest of the input variables constant.\n",
    "\n",
    "**D.** A customer who is a student is $1 / 0.524 = 1.908$ times more likely to be in default than not to, while keeping the rest of the input variables constant.\n",
    "\n",
    "*Assign your answer to the object `answer1.9` (character type surrounded by quotes).*"
   ]
  },
  {
   "cell_type": "code",
   "execution_count": 21,
   "metadata": {
    "nbgrader": {
     "grade": false,
     "grade_id": "cell-11677807d101b133",
     "locked": false,
     "schema_version": 3,
     "solution": true,
     "task": false
    }
   },
   "outputs": [
    {
     "data": {
      "text/html": [
       "'C'"
      ],
      "text/latex": [
       "'C'"
      ],
      "text/markdown": [
       "'C'"
      ],
      "text/plain": [
       "[1] \"C\""
      ]
     },
     "metadata": {},
     "output_type": "display_data"
    }
   ],
   "source": [
    "# answer1.9 <- ...\n",
    "\n",
    "### BEGIN SOLUTION\n",
    "answer1.9 <- \"C\"\n",
    "### END SOLUTION\n",
    "\n",
    "answer1.9"
   ]
  },
  {
   "cell_type": "code",
   "execution_count": 22,
   "metadata": {
    "nbgrader": {
     "grade": true,
     "grade_id": "cell-30f034478ea08799",
     "locked": true,
     "points": 1,
     "schema_version": 3,
     "solution": false,
     "task": false
    }
   },
   "outputs": [
    {
     "name": "stdout",
     "output_type": "stream",
     "text": [
      "[1] \"Success!\"\n"
     ]
    }
   ],
   "source": [
    "test_1.9()"
   ]
  },
  {
   "cell_type": "markdown",
   "metadata": {
    "nbgrader": {
     "grade": false,
     "grade_id": "cell-7960f6f613499491",
     "locked": true,
     "schema_version": 3,
     "solution": false,
     "task": false
    }
   },
   "source": [
    "**Question 1.10**\n",
    "<br>{points: 1}\n",
    "\n",
    "What is the correct interpretation of the regression equation's estimated slope for `balance`?\n",
    "\n",
    "**A.** For each \\$1 increase in `balance`, a customer is $1.006$ times more likely to be in default that not to while keeping the rest of the input variables constant. \n",
    "\n",
    "**B.** For each \\$1 increase in `balance`, a customer is $1 / 1.006 = 0.994$ times more likely to be in default that not to while keeping the rest of the input variables constant. \n",
    "\n",
    "**C.** For each \\$1 increase in `balance`, a customer is $1 / 1.006 = 0.994$ times more likely to be in default that not to.\n",
    "\n",
    "**D.** For each \\$1 increase in `balance`, a customer is $1.006$ times more likely to be in default that not to.\n",
    "\n",
    "*Assign your answer to the object `answer1.10` (character type surrounded by quotes).*"
   ]
  },
  {
   "cell_type": "code",
   "execution_count": 23,
   "metadata": {
    "nbgrader": {
     "grade": false,
     "grade_id": "cell-7441e6aa1307023f",
     "locked": false,
     "schema_version": 3,
     "solution": true,
     "task": false
    }
   },
   "outputs": [],
   "source": [
    "# answer1.10 <- ...\n",
    "\n",
    "### BEGIN SOLUTION\n",
    "answer1.10 <- \"A\"\n",
    "### END SOLUTION\n"
   ]
  },
  {
   "cell_type": "code",
   "execution_count": 24,
   "metadata": {
    "nbgrader": {
     "grade": true,
     "grade_id": "cell-ca20c96b683b2072",
     "locked": true,
     "points": 1,
     "schema_version": 3,
     "solution": false,
     "task": false
    }
   },
   "outputs": [
    {
     "name": "stdout",
     "output_type": "stream",
     "text": [
      "[1] \"Success!\"\n"
     ]
    }
   ],
   "source": [
    "test_1.10()"
   ]
  },
  {
   "cell_type": "markdown",
   "metadata": {
    "nbgrader": {
     "grade": false,
     "grade_id": "cell-cfbfd19ea63f8152",
     "locked": true,
     "schema_version": 3,
     "solution": false,
     "task": false
    }
   },
   "source": [
    "**Question 1.11**\n",
    "<br>{points: 1}\n",
    "\n",
    "Besides inference, `Default_binary_log_model` can also be used to obtain predictions. Suppose we want to predict the odds of a customer being in default to not to. This customer is a `student` who has a credit card `balance` of `2200` with an income of `35000`.\n",
    "\n",
    "Mathematically, our predicted log odds will look as \n",
    "\n",
    "\\begin{gather*} \n",
    "\\log \\bigg( \\frac{\\hat{\\pi}}{1 - \\hat{\\pi}}\\bigg) = \\underbrace{-10.869045}_{\\hat{\\beta}_0} - \\underbrace{0.646776}_{\\hat{\\beta}_1} \\times (1) + \\underbrace{0.005737}_{\\hat{\\beta}_2} \\times (2200) + \\underbrace{0.000003}_{\\hat{\\beta}_2} \\times (35000)= 1.21 \\\\\n",
    "\\end{gather*}\n",
    "\n",
    "Next, by taking the exponential on both sides of the equation, we obtain our predicted *odds*: \n",
    "\n",
    "$$\n",
    "\\frac{\\hat{p}_i}{1 - \\hat{p}_i} = e^{1.21} = 3.36.\n",
    "$$\n",
    "\n",
    "Finally, solving the above for $\\hat{p}_i$, we obtain our predicted probability of default\n",
    "\n",
    "$$\n",
    "\\hat{p}_i = 3.36/4.36 = 0.7706\n",
    "$$\n",
    "\n",
    "Using `predict` and `Default_binary_log_model`, obtain the odds prediction above.\n",
    "\n",
    "> **Hint:** Check the argument `type` when coding this prediction.\n",
    "\n",
    "*Assign your answer to the object `answer1.11`. Fill out those parts indicated with `...`, uncomment the corresponding code in the cell below, and run it.*"
   ]
  },
  {
   "cell_type": "code",
   "execution_count": 25,
   "metadata": {
    "nbgrader": {
     "grade": false,
     "grade_id": "cell-23f0d706c79c9f1c",
     "locked": false,
     "schema_version": 3,
     "solution": true,
     "task": false
    }
   },
   "outputs": [
    {
     "data": {
      "text/html": [
       "<strong>1:</strong> 3.35570309480241"
      ],
      "text/latex": [
       "\\textbf{1:} 3.35570309480241"
      ],
      "text/markdown": [
       "**1:** 3.35570309480241"
      ],
      "text/plain": [
       "       1 \n",
       "3.355703 "
      ]
     },
     "metadata": {},
     "output_type": "display_data"
    }
   ],
   "source": [
    "# answer1.11 <- exp(...(...,\n",
    "#   tibble(..., ..., ...),\n",
    "#   type = ...))\n",
    "\n",
    "### BEGIN SOLUTION\n",
    "answer1.11 <- exp(predict(Default_binary_log_model,\n",
    "  tibble(student = \"Yes\", balance = 2200, income = 35000),\n",
    "  type = \"link\"))\n",
    "### END SOLUTION\n",
    "\n",
    "answer1.11"
   ]
  },
  {
   "cell_type": "code",
   "execution_count": 26,
   "metadata": {
    "nbgrader": {
     "grade": true,
     "grade_id": "cell-e8a22ef2e4ac8fe6",
     "locked": true,
     "points": 1,
     "schema_version": 3,
     "solution": false,
     "task": false
    }
   },
   "outputs": [
    {
     "name": "stdout",
     "output_type": "stream",
     "text": [
      "[1] \"Success!\"\n"
     ]
    }
   ],
   "source": [
    "test_1.11()"
   ]
  },
  {
   "cell_type": "markdown",
   "metadata": {
    "nbgrader": {
     "grade": false,
     "grade_id": "cell-f84da54cd4da6b01",
     "locked": true,
     "schema_version": 3,
     "solution": false,
     "task": false
    }
   },
   "source": [
    "**Question 1.12**\n",
    "<br>{points: 1}\n",
    "\n",
    "We can also predict probabilities for classification purposes, i.e., whether the customer will default or not. Using the function `predict()` with the object `Default_binary_log_model`, obtain the estimated probability for a customer being in default. This customer is a `student` who has a credit card `balance` of `2200` with an income of `35000`.\n",
    "\n",
    "> **Hint:** Check the argument `type` when coding this prediction.\n",
    "\n",
    "*Assign your answer to the object `answer1.12`. Fill out those parts indicated with `...`, uncomment the corresponding code in the cell below, and run it.*"
   ]
  },
  {
   "cell_type": "code",
   "execution_count": 27,
   "metadata": {
    "nbgrader": {
     "grade": false,
     "grade_id": "cell-ee0c66cf674510cc",
     "locked": false,
     "schema_version": 3,
     "solution": true,
     "task": false
    }
   },
   "outputs": [
    {
     "data": {
      "text/html": [
       "<strong>1:</strong> 0.770415940151365"
      ],
      "text/latex": [
       "\\textbf{1:} 0.770415940151365"
      ],
      "text/markdown": [
       "**1:** 0.770415940151365"
      ],
      "text/plain": [
       "        1 \n",
       "0.7704159 "
      ]
     },
     "metadata": {},
     "output_type": "display_data"
    }
   ],
   "source": [
    "# answer1.12 <- \n",
    "#   ...(...,\n",
    "#     tibble(..., ..., ...),\n",
    "#     type = ...)\n",
    "\n",
    "### BEGIN SOLUTION\n",
    "answer1.12 <- \n",
    "    predict(Default_binary_log_model,\n",
    "        tibble(student = \"Yes\", balance = 2200, income = 35000),\n",
    "        type = \"response\")\n",
    "### END SOLUTION\n",
    "\n",
    "answer1.12"
   ]
  },
  {
   "cell_type": "code",
   "execution_count": 28,
   "metadata": {
    "nbgrader": {
     "grade": true,
     "grade_id": "cell-03c8e23b29226318",
     "locked": true,
     "points": 1,
     "schema_version": 3,
     "solution": false,
     "task": false
    }
   },
   "outputs": [
    {
     "name": "stdout",
     "output_type": "stream",
     "text": [
      "[1] \"Success!\"\n"
     ]
    }
   ],
   "source": [
    "test_1.12()"
   ]
  },
  {
   "cell_type": "markdown",
   "metadata": {
    "nbgrader": {
     "grade": false,
     "grade_id": "cell-5d4b54303734b4c1",
     "locked": true,
     "schema_version": 3,
     "solution": false,
     "task": false
    }
   },
   "source": [
    "**Overdispersion**\n",
    "\n",
    "The variance of the Binomial model is a function of the mean: $np(1-p)$. What this means is that, your estimate of the mean also specifies your variance. So, our model assumes that, for whatever $\\hat{p}$ you are estimating, the model is assuming a variability of $n\\hat{p}(1-\\hat{p})$. Note that in our case here, $n=1$. \n",
    "\n",
    "Unfortunately, even in situation where the model seems to be estimating the mean well, the variability of the data is not quite compatible with the model's assumed variance. What we can do is to consider a dispersion parameter, usually called $\\phi$, which will help us correct the standard error of our estimators. \n",
    "\n",
    "The correction, is quite simple, we just multiply the standard error by the dispersion parameter. Let's see an example.  "
   ]
  },
  {
   "cell_type": "code",
   "execution_count": 29,
   "metadata": {},
   "outputs": [
    {
     "data": {
      "text/plain": [
       "\n",
       "Call:\n",
       "glm(formula = default ~ student + balance + income, family = binomial, \n",
       "    data = Default)\n",
       "\n",
       "Deviance Residuals: \n",
       "    Min       1Q   Median       3Q      Max  \n",
       "-2.4691  -0.1418  -0.0557  -0.0203   3.7383  \n",
       "\n",
       "Coefficients:\n",
       "              Estimate Std. Error z value Pr(>|z|)    \n",
       "(Intercept) -1.087e+01  4.923e-01 -22.080  < 2e-16 ***\n",
       "studentYes  -6.468e-01  2.363e-01  -2.738  0.00619 ** \n",
       "balance      5.737e-03  2.319e-04  24.738  < 2e-16 ***\n",
       "income       3.033e-06  8.203e-06   0.370  0.71152    \n",
       "---\n",
       "Signif. codes:  0 ‘***’ 0.001 ‘**’ 0.01 ‘*’ 0.05 ‘.’ 0.1 ‘ ’ 1\n",
       "\n",
       "(Dispersion parameter for binomial family taken to be 1)\n",
       "\n",
       "    Null deviance: 2920.6  on 9999  degrees of freedom\n",
       "Residual deviance: 1571.5  on 9996  degrees of freedom\n",
       "AIC: 1579.5\n",
       "\n",
       "Number of Fisher Scoring iterations: 8\n"
      ]
     },
     "metadata": {},
     "output_type": "display_data"
    }
   ],
   "source": [
    "summary(glm(\n",
    "    formula = default ~ student + balance + income,\n",
    "    data = Default,\n",
    "    family = binomial))"
   ]
  }
 ],
 "metadata": {
  "celltoolbar": "Create Assignment",
  "jupytext": {
   "formats": "ipynb,Rmd"
  },
  "kernelspec": {
   "display_name": "R",
   "language": "R",
   "name": "ir"
  },
  "language_info": {
   "codemirror_mode": "r",
   "file_extension": ".r",
   "mimetype": "text/x-r-source",
   "name": "R",
   "pygments_lexer": "r",
   "version": "4.1.1"
  },
  "latex_envs": {
   "LaTeX_envs_menu_present": true,
   "autoclose": false,
   "autocomplete": true,
   "bibliofile": "biblio.bib",
   "cite_by": "apalike",
   "current_citInitial": 1,
   "eqLabelWithNumbers": true,
   "eqNumInitial": 1,
   "hotkeys": {
    "equation": "Ctrl-E",
    "itemize": "Ctrl-I"
   },
   "labels_anchors": false,
   "latex_user_defs": false,
   "report_style_numbering": false,
   "user_envs_cfg": false
  }
 },
 "nbformat": 4,
 "nbformat_minor": 4
}
